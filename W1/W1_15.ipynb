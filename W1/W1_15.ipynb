{
 "cells": [
  {
   "cell_type": "markdown",
   "metadata": {},
   "source": [
    "# Assignment Netwerkanalyse"
   ]
  },
  {
   "cell_type": "markdown",
   "metadata": {},
   "source": [
    "## Notebook made by\n",
    "\n",
    "\n",
    "|Naam| Studentnummer | \n",
    "| - | - |\n",
    "|Martijn| secret |\n",
    "|Juriaan| secret |\n",
    "|Ruben| secret |\n",
    "|Bart| secret |\n",
    "\n",
    "## Peerreview\n",
    "\n",
    "* Vul onderstaande dict/tabel in en run de cel. Klopt het? Zijn jullie het er allemaal mee eens?\n",
    "    * Verander `1,2,3,4` door jullie studentnummers\n",
    "    * `1: {1:.2,2:.3,3:.3,4:.2}` betekent dat student 1 zijn punt zo over de 4 studenten verdeelt\n",
    "    * Let op, per student moeten de punten optellen tot 1!\n",
    "    * De gegeven punten staan in de tabel op de rijen, de ontvangen punten in de kolommen.\n",
    "    * met `cijfer_per_student` kan je bepalen welk cijfer ieder krijgt bij een gegeven groepscijfer."
   ]
  },
  {
   "cell_type": "markdown",
   "metadata": {},
   "source": [
    "## Toelichting\n",
    "\n",
    "* De meeste opgaven worden automatisch nagekeken. Bij vrijwel alle opdrachten staan er een paar tests onder de opdracht, dit is voornamelijk om te zorgen dat je de juiste type output geeft. Dit zijn dus *NIET* alle tests, die komen er bij het graden nog bij.\n",
    "* Elke vraag is 1 punt waard, tenzij anders aangegeven. Soms is die punt onderverdeeld in deelpunten, maar niet altijd. \n",
    "\n",
    "## Voor het inleveren!\n",
    "\n",
    "* Pas niet de cellen aan, vooral niet die je niet kunt editen. Dit levert problemen op bij nakijken. Twijfel je of je per ongeluk iets hebt gewijzigd, kopieer dan bij inleveren je antwoorden naar een nieuw bestand, zodat het niet fout kan gaan.\n",
    "\n",
    "* Zorg dat de code goed runt van boven naar beneden, verifieer dat door boven in Kernel -> Restart & Run All uit te voeren\n",
    "\n",
    "## Na het inleveren!\n",
    "\n",
    "* Het gebeurt erg vaak dat mensen een \"leeg bestand\" inleveren. Vaak een andere versie van de opgave die nog ergens op je computer rondslingerde. Zonde van al je werk toch!\n",
    "* Dus, lever **minstens een half uur voor tijd in**. Download dan wat je hebt ingeleverd op Canvas. Geef het een andere naam om verwarring te voorkomen. En draai alle cellen, en bekijk het. Geen syntax fouten? Alle vragen gemaakt? Dan zit het vast wel goed, en hoef je niet in de zenuwen te zitten."
   ]
  },
  {
   "cell_type": "markdown",
   "metadata": {
    "toc": true
   },
   "source": [
    "<h1>Table of Contents<span class=\"tocSkip\"></span></h1>\n",
    "<div class=\"toc\"><ul class=\"toc-item\"><li><span><a href=\"#Assignment-Netwerkanalyse\" data-toc-modified-id=\"Assignment-Netwerkanalyse-1\"><span class=\"toc-item-num\">1&nbsp;&nbsp;</span>Assignment Netwerkanalyse</a></span><ul class=\"toc-item\"><li><span><a href=\"#Notebook-made-by\" data-toc-modified-id=\"Notebook-made-by-1.1\"><span class=\"toc-item-num\">1.1&nbsp;&nbsp;</span>Notebook made by</a></span></li><li><span><a href=\"#Peerreview\" data-toc-modified-id=\"Peerreview-1.2\"><span class=\"toc-item-num\">1.2&nbsp;&nbsp;</span>Peerreview</a></span></li><li><span><a href=\"#Toelichting\" data-toc-modified-id=\"Toelichting-1.3\"><span class=\"toc-item-num\">1.3&nbsp;&nbsp;</span>Toelichting</a></span></li><li><span><a href=\"#Voor-het-inleveren!\" data-toc-modified-id=\"Voor-het-inleveren!-1.4\"><span class=\"toc-item-num\">1.4&nbsp;&nbsp;</span>Voor het inleveren!</a></span></li><li><span><a href=\"#Na-het-inleveren!\" data-toc-modified-id=\"Na-het-inleveren!-1.5\"><span class=\"toc-item-num\">1.5&nbsp;&nbsp;</span>Na het inleveren!</a></span></li></ul></li><li><span><a href=\"#Prop-logic-1-(10pt)\" data-toc-modified-id=\"Prop-logic-1-(10pt)-2\"><span class=\"toc-item-num\">2&nbsp;&nbsp;</span>Prop logic 1 (10pt)</a></span><ul class=\"toc-item\"><li><span><a href=\"#Jullie-opdracht\" data-toc-modified-id=\"Jullie-opdracht-2.1\"><span class=\"toc-item-num\">2.1&nbsp;&nbsp;</span>Jullie opdracht</a></span><ul class=\"toc-item\"><li><span><a href=\"#Beoordeling\" data-toc-modified-id=\"Beoordeling-2.1.1\"><span class=\"toc-item-num\">2.1.1&nbsp;&nbsp;</span>Beoordeling</a></span></li></ul></li></ul></li><li><span><a href=\"#Prop-logic-2-(0pt)\" data-toc-modified-id=\"Prop-logic-2-(0pt)-3\"><span class=\"toc-item-num\">3&nbsp;&nbsp;</span>Prop logic 2 (0pt)</a></span></li></ul></div>"
   ]
  },
  {
   "cell_type": "markdown",
   "metadata": {
    "deletable": false,
    "editable": false,
    "nbgrader": {
     "cell_type": "markdown",
     "checksum": "4baa7192fc88bb753813469ea2e3f449",
     "grade": false,
     "grade_id": "pl1",
     "locked": true,
     "schema_version": 3,
     "solution": false
    }
   },
   "source": [
    "# Prop logic 1 (10pt)\n",
    "\n",
    "Met 2 variabelen `p` en `q` kan je natuurlijk oneindig veel verschillende formules maken.\n",
    "**Laat dat zien met wat voorbeelden. Het geeft niet als ze flauw zijn.**\n",
    "Maar je kan maar 16 verschillende waarheidstafels maken. Hieronder staat er eentje. Omdat je vier vakjes met T en F (2 waarden) kunt invullen, zijn er dus $2^4$ verschillende tafels te maken. **Voor welke formule is deze tafel?**  (helemaal onderaan staat het antwoord)\n",
    "\n",
    " \n",
    "|  | P True  | P False|\n",
    "| --- | --- | --- |\n",
    "| **Q True** | T | F |\n",
    "| **Q False** | T | T |\n",
    "\n",
    "## Jullie opdracht\n",
    "\n",
    "Maak een prachtig uitziend, helder geordend overzicht van deze 16 tabellen, en geef bij elke tabel de formule die exact de betekenis heeft gegeven door die tabel. **Je formule mag alleen $p,q,\\neg,\\rightarrow,\\leftrightarrow$ bevatten.** \n",
    "\n",
    "Je mag het in Markdown en LaTeX doen, maar ook met de hand tekenen, en schilderen.  Maak je iets met de hand, maak dan een goede foto, zet die ergens op het web, en link ernaar in je Markdown antwoord. Als je naar de code van deze cel kijkt, zie je hoe je in MarkDown een link naar een plaatje maakt.\n",
    "\n",
    "![A tableaux proof for the propositional formula ((a ∨ ¬b) ∧ b) → a.](https://upload.wikimedia.org/wikipedia/commons/thumb/2/21/Prop-tableau-4.svg/300px-Prop-tableau-4.svg.png)\n",
    "\n",
    "### Beoordeling\n",
    "\n",
    "* Het is super eenvoudig om in Python te checken of je antwoord correct is. \n",
    "* Een antwoord met dus ook maar 1 fout erin is dan dus ook onvoldoende.\n",
    "* De hoogte van je voldoende wordt bepaald door de schoonheid en overzichtelijkheid van je werk, en de elegantie van de gekozen formules.\n",
    "\n",
    "\n",
    "\n",
    "$q\\rightarrow p$"
   ]
  },
  {
   "attachments": {
    "afbeelding.png": {
     "image/png": "[encoded data removed]"
    }
   },
   "cell_type": "markdown",
   "metadata": {
    "deletable": false,
    "nbgrader": {
     "cell_type": "markdown",
     "checksum": "eed1a8282ea5dce2ae0b5304488396d6",
     "grade": true,
     "grade_id": "pl1a",
     "locked": false,
     "points": 10,
     "schema_version": 3,
     "solution": true
    }
   },
   "source": [
    "![afbeelding.png](attachment:afbeelding.png)"
   ]
  },
  {
   "cell_type": "markdown",
   "metadata": {},
   "source": [
    "# Prop logic 2 (0pt)\n",
    "\n",
    "Maak  opgaven 16.1-16.5 in <https://www.stat.berkeley.edu/~stark/SticiGui/Text/logic.htm>.\n",
    "\n",
    "De antwoorden staan erbij, behalve bij 16.1, maar die zijn makkelijk met behulp van de waarheidstafels voor de connectieven te checken. \n",
    "\n",
    "Een goede manier is om alle opgaven zelf te maken, en ze dan in je groepje te bespreken en te vergelijken. Zo moet je wel tot de juiste antwoorden komen. Geef niet alleen het antwoord maar ook een heldere uitleg waarom je dat antwoord geeft.\n",
    "\n",
    "Bijvoorbeeld: *4 is prima and $-1\\times -1= -1$* is niet waar want $-1\\times -1= -1$ is niet waar en een conjunctie (*and*) is onwaar als 1 van de conjuncten (de delen) onwaar is.\n",
    "\n",
    "**Tip** als je de pagina ververst krijg je soms weer andere opdrachten.\n",
    "\n",
    "Copieer je antwoorden in de cel hieronder.\n",
    "\n",
    "**Hint** Denk nou niet, he 0 punten, dus dat is zinloos om te doen. Nee, want op het tentamen stikt het van dit soort puzzeltjes. Het is echt oefenen wil je daar handig en foutloos in worden. "
   ]
  },
  {
   "cell_type": "code",
   "execution_count": 6,
   "metadata": {
    "deletable": false,
    "nbgrader": {
     "cell_type": "code",
     "checksum": "503e0244b93a4178a8d895dcc80bf2d3",
     "grade": true,
     "grade_id": "pl2a",
     "locked": false,
     "points": 0,
     "schema_version": 3,
     "solution": true
    }
   },
   "outputs": [
    {
     "ename": "NotImplementedError",
     "evalue": "",
     "output_type": "error",
     "traceback": [
      "\u001b[1;31m---------------------------------------------------------------------------\u001b[0m",
      "\u001b[1;31mNotImplementedError\u001b[0m                       Traceback (most recent call last)",
      "\u001b[1;32m<ipython-input-6-0912b2ede9ba>\u001b[0m in \u001b[0;36m<module>\u001b[1;34m\u001b[0m\n\u001b[0;32m      1\u001b[0m \u001b[1;31m# YOUR CODE HERE\u001b[0m\u001b[1;33m\u001b[0m\u001b[1;33m\u001b[0m\u001b[1;33m\u001b[0m\u001b[0m\n\u001b[0;32m      2\u001b[0m \u001b[1;33m\u001b[0m\u001b[0m\n\u001b[1;32m----> 3\u001b[1;33m \u001b[1;32mraise\u001b[0m \u001b[0mNotImplementedError\u001b[0m\u001b[1;33m(\u001b[0m\u001b[1;33m)\u001b[0m\u001b[1;33m\u001b[0m\u001b[1;33m\u001b[0m\u001b[0m\n\u001b[0m",
      "\u001b[1;31mNotImplementedError\u001b[0m: "
     ]
    }
   ],
   "source": [
    "# YOUR CODE HERE\n",
    "\n",
    "raise NotImplementedError()"
   ]
  },
  {
   "cell_type": "code",
   "execution_count": null,
   "metadata": {},
   "outputs": [],
   "source": []
  },
  {
   "cell_type": "code",
   "execution_count": null,
   "metadata": {},
   "outputs": [],
   "source": []
  }
 ],
 "metadata": {
  "kernelspec": {
   "display_name": "Python 3",
   "language": "python",
   "name": "python3"
  },
  "language_info": {
   "codemirror_mode": {
    "name": "ipython",
    "version": 3
   },
   "file_extension": ".py",
   "mimetype": "text/x-python",
   "name": "python",
   "nbconvert_exporter": "python",
   "pygments_lexer": "ipython3",
   "version": "3.7.7"
  },
  "toc": {
   "nav_menu": {},
   "number_sections": true,
   "sideBar": true,
   "skip_h1_title": false,
   "title_cell": "Table of Contents",
   "title_sidebar": "Contents",
   "toc_cell": true,
   "toc_position": {},
   "toc_section_display": true,
   "toc_window_display": false
  }
 },
 "nbformat": 4,
 "nbformat_minor": 4
}
