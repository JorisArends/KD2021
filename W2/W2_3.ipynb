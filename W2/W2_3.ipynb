{
 "cells": [
  {
   "cell_type": "markdown",
   "metadata": {},
   "source": [
    "# Assignment Netwerkanalyse"
   ]
  },
  {
   "cell_type": "markdown",
   "metadata": {},
   "source": [
    "## Notebook made by\n",
    "\n",
    "\n",
    "|Naam|Studentnummer|\n",
    "|-|-|\n",
    "|Arnaud| secret |\n",
    "|Kyle| secret|\n",
    "|Robin| secret |\n",
    "|Shilpa| secret|\n",
    "\n",
    "## Peerreview\n",
    "\n",
    "* Vul onderstaande dict/tabel in en run de cel. Klopt het? Zijn jullie het er allemaal mee eens?\n",
    "    * Verander `1,2,3,4` door jullie studentnummers\n",
    "    * `1: {1:.2,2:.3,3:.3,4:.2}` betekent dat student 1 zijn punt zo over de 4 studenten verdeelt\n",
    "    * Let op, per student moeten de punten optellen tot 1!\n",
    "    * De gegeven punten staan in de tabel op de rijen, de ontvangen punten in de kolommen.\n",
    "    * met `cijfer_per_student` kan je bepalen welk cijfer ieder krijgt bij een gegeven groepscijfer."
   ]
  },
  {
   "cell_type": "markdown",
   "metadata": {},
   "source": [
    "## Toelichting\n",
    "\n",
    "* De meeste opgaven worden automatisch nagekeken. Bij vrijwel alle opdrachten staan er een paar tests onder de opdracht, dit is voornamelijk om te zorgen dat je de juiste type output geeft. Dit zijn dus *NIET* alle tests, die komen er bij het graden nog bij.\n",
    "* Elke vraag is 1 punt waard, tenzij anders aangegeven. Soms is die punt onderverdeeld in deelpunten, maar niet altijd. \n",
    "\n",
    "## Voor het inleveren!\n",
    "\n",
    "* Pas niet de cellen aan, vooral niet die je niet kunt editen. Dit levert problemen op bij nakijken. Twijfel je of je per ongeluk iets hebt gewijzigd, kopieer dan bij inleveren je antwoorden naar een nieuw bestand, zodat het niet fout kan gaan.\n",
    "\n",
    "* Zorg dat de code goed runt van boven naar beneden, verifieer dat door boven in Kernel -> Restart & Run All uit te voeren\n",
    "\n",
    "## Na het inleveren!\n",
    "\n",
    "* Het gebeurt erg vaak dat mensen een \"leeg bestand\" inleveren. Vaak een andere versie van de opgave die nog ergens op je computer rondslingerde. Zonde van al je werk toch!\n",
    "* Dus, lever **minstens een half uur voor tijd in**. Download dan wat je hebt ingeleverd op Canvas. Geef het een andere naam om verwarring te voorkomen. En draai alle cellen, en bekijk het. Geen syntax fouten? Alle vragen gemaakt? Dan zit het vast wel goed, en hoef je niet in de zenuwen te zitten."
   ]
  },
  {
   "cell_type": "markdown",
   "metadata": {
    "toc": true
   },
   "source": [
    "<h1>Table of Contents<span class=\"tocSkip\"></span></h1>\n",
    "<div class=\"toc\"><ul class=\"toc-item\"><li><span><a href=\"#Instructie\" data-toc-modified-id=\"Instructie-1\">Instructie</a></span></li><li><span><a href=\"#Definieer-familie-relaties-en-LHBTQI++\" data-toc-modified-id=\"Definieer-familie-relaties-en-LHBTQI++-2\">Definieer familie relaties en LHBTQI++</a></span><ul class=\"toc-item\"><li><span><a href=\"#1-De-gebruikelijke-familierelaties\" data-toc-modified-id=\"1-De-gebruikelijke-familierelaties-2.1\">1 De gebruikelijke familierelaties</a></span><ul class=\"toc-item\"><li><span><a href=\"#Jullie-opdracht\" data-toc-modified-id=\"Jullie-opdracht-2.1.1\">Jullie opdracht</a></span></li><li><span><a href=\"#Networkx\" data-toc-modified-id=\"Networkx-2.1.2\">Networkx</a></span></li></ul></li></ul></li><li><span><a href=\"#Uitwerking-van-opdracht-1\" data-toc-modified-id=\"Uitwerking-van-opdracht-1-3\">Uitwerking van opdracht 1</a></span></li><li><span><a href=\"#2-Definieer-LHBTQI+\" data-toc-modified-id=\"2-Definieer-LHBTQI+-4\">2 Definieer LHBTQI+</a></span><ul class=\"toc-item\"><li><ul class=\"toc-item\"><li><span><a href=\"#Let-op!\" data-toc-modified-id=\"Let-op!-4.0.1\">Let op!</a></span></li></ul></li><li><span><a href=\"#Jullie-opdracht\" data-toc-modified-id=\"Jullie-opdracht-4.1\">Jullie opdracht</a></span></li></ul></li><li><span><a href=\"#Uitwerking-van-opdracht-2\" data-toc-modified-id=\"Uitwerking-van-opdracht-2-5\">Uitwerking van opdracht 2</a></span></li></ul></div>"
   ]
  },
  {
   "cell_type": "markdown",
   "metadata": {},
   "source": [
    "# Instructie\n",
    "\n",
    "* 2 opdrachten, elke opdracht kent een Markdown (tekst) deel en een programmeer deel. Voor elk deel kan je 10 punten verdienen. In totaal zijn er dus 40 punten te verdienen.\n",
    "* Succes! Maak er wat moois van!\n",
    "* Let op, dit is een vrije opdracht, en er zijn dus meerdere antwoorden goed. Het belangrijkste is dat jullie er over praten, zowel in je groepje als daarbuiten. **Geef in je opdracht aan als je een speciale keuze hebt gemaakt, en geef dan ook de reden. Dat is veel leuker en beter dan dat te verzwijgen/verhullen. En levert je juist punten op.**"
   ]
  },
  {
   "cell_type": "markdown",
   "metadata": {},
   "source": [
    "# Definieer familie relaties en LHBTQI++\n",
    "\n",
    "In deze opdracht gaan jullie relaties definieren in termen van meer primitieve relaties. Ook ga je beperkingen op je modellen aanbrengen waarvan je vindt dat die gelden in onze wereld. Zo zorg je ervoor dat elk model van jouw theorie zo goed mogelijk overeenkomt met onze wereld.\n",
    "\n",
    "## 1 De gebruikelijke familierelaties\n",
    "\n",
    "* We werken met predicaatlogische modellen, en met een basistaal met 2 eigenschappen: $M$ en $V$, die staan voor de 2 traditionele geslachten, en 1 twee plaatsige relatie $R$, die staat voor *is ouder van*. Hieronder staat dus dat *piet een man is, en joke een vrouw en dat piet de ouder is van joke*:\n",
    "\n",
    "$$M(piet), V(joke), R(piet,joke).$$\n",
    "* Wij gaan nu 2 dingen doen:\n",
    "    1. beperkingen opleggen aan de relaties\n",
    "    2. nieuwe relaties definieren in termen van de 3 primtieve relaties $M,V,R$\n",
    "        * in die nieuwe relaties kan je natuurlijk andere eerder gedefinieerde relaties weer gebruiken.\n",
    "* **Voorbeelden**\n",
    "* *Beperking:* \n",
    "    * Iedereen is man of vrouw (en nooit allebei tegelijk).\n",
    "    * Iedereen heeft exact 2 ouders, een man en een vrouw.\n",
    "* *Nieuwe relatie*\n",
    "    * $Vader(x,y)$ precies dan en slechts dan alleen als x een ouder is van y en x een man is.\n",
    "        * $\\forall xy( Vader(x,y) \\leftrightarrow R(x,y) \\wedge M(x))$\n",
    "    * $Opa(x,y)$ hiervoor gebruik je natuurlijk het $\\exists z$    connectief.\n",
    "        * Je kunt dit netjes definieren in termen van ouder en vader. \n",
    "    \n",
    "### Jullie opdracht \n",
    "\n",
    "1. Definieer een flink aantal familierelaties.\n",
    "2. Verzin minstens 1 bestaande familierelatie die je **niet in predicaatlogica** kunt definieren.\n",
    "    * Leg uit wat er lastig/bijzonder aan is.\n",
    "3. Geef een aantal beperkingen die (mogelijk) waar zouden kunnen zijn in de echte wereld.\n",
    "    * Ik schrijf mogelijk omdat het voorbeeld hierboven dat iedereen precies 2 ouders heeft natuurlijk ook omstreden is. Dat geeft niet, je geeft dat dan gewoon aan. \n",
    "    * Beschrijf de beperking eerst in heel helder Nederlands, en geef daarnaast de exacte logische zin die erbij past.\n",
    "    * Op $R$ kan je natuurlijk al heel wat beperkingen opleggen:\n",
    "        * niemand is ouder van zichzelf\n",
    "        * ouder is asymmetrisch\n",
    "        * ....\n",
    "    \n",
    "### Networkx\n",
    "\n",
    "* Maak nu een model van je eigen familie in networkx.\n",
    "* Stop er minstens 50 mensen in (uit je hele groepje), geef ze allemaal een geslacht en leg de juiste relaties.\n",
    "* Maak een mooi plaatje.\n",
    "* Definieer met comprehensies alle relaties die je boven ook gedefinieerd hebt.\n",
    "    * Maak ook een plaatje, en check dat het klopt.\n",
    "* Zorg dat het er zo netjes en helder uitziet    dat je echt snel en makkelijk kunt checken dat het klopt.\n",
    "    * Dit zijn dingen die voor zichzelf spreken: zorg dus ook dat het in jullie opdract zo is.\n",
    "    \n",
    "    \n",
    "        \n"
   ]
  },
  {
   "cell_type": "code",
   "execution_count": 2,
   "metadata": {},
   "outputs": [],
   "source": [
    "import networkx as nx\n",
    "%matplotlib inline"
   ]
  },
  {
   "cell_type": "code",
   "execution_count": 3,
   "metadata": {},
   "outputs": [
    {
     "name": "stderr",
     "output_type": "stream",
     "text": [
      "C:\\Users\\31637\\Anaconda3\\lib\\site-packages\\networkx\\drawing\\nx_pylab.py:579: MatplotlibDeprecationWarning: \n",
      "The iterable function was deprecated in Matplotlib 3.1 and will be removed in 3.3. Use np.iterable instead.\n",
      "  if not cb.iterable(width):\n"
     ]
    },
    {
     "name": "stdout",
     "output_type": "stream",
     "text": [
      "{(0, 1), (3, 2), (1, 3), (3, 1), (1, 0), (3, 4), (0, 2)}\n"
     ]
    },
    {
     "data": {
      "image/png": "[encoded data removed]",
      "text/plain": [
       "<Figure size 432x288 with 1 Axes>"
      ]
     },
     "metadata": {},
     "output_type": "display_data"
    }
   ],
   "source": [
    "# Voorbeeld om je op weg te helpen\n",
    "\n",
    "H= nx.house_graph()  # In het echt neem je natuurlijk een nx.Digraph !\n",
    "H[1]\n",
    "nx.draw_networkx(H)\n",
    "\n",
    "M,V= {1,3,0},{2,4} # de mannen en de vrouwen in dit netwerk\n",
    "# Nu even de attributen M en V goed zetten\n",
    "for n in M:\n",
    "    H.nodes[n]['M']=True\n",
    "    H.nodes[n]['V']=False\n",
    "for n in V:\n",
    "    H.nodes[n]['V']=True\n",
    "    H.nodes[n]['M']=False    \n",
    " \n",
    "\n",
    "# wat handige afkortingen om de comprehensies zo veel mogelijk op je formules te laten lijken\n",
    "G=H\n",
    "def M(x, network=G):\n",
    "    return network.nodes[x]['M']\n",
    "def V(x, network=G):\n",
    "    return network.nodes[x]['V']\n",
    "def R(x,y,network=G):\n",
    "    return network.has_edge(x,y)\n",
    "\n",
    "# Vader(x,y) iff R(x,y) & M(x)\n",
    "# Bijna hetzelfde als in deze comprehensie toch?\n",
    "Vader= {(x,y) for x in H for y in H if R(x,y,H) and M(x,H)}\n",
    "print(Vader)\n",
    "\n"
   ]
  },
  {
   "cell_type": "code",
   "execution_count": 4,
   "metadata": {},
   "outputs": [
    {
     "name": "stderr",
     "output_type": "stream",
     "text": [
      "C:\\Users\\31637\\Anaconda3\\lib\\site-packages\\networkx\\drawing\\nx_pylab.py:676: MatplotlibDeprecationWarning: \n",
      "The iterable function was deprecated in Matplotlib 3.1 and will be removed in 3.3. Use np.iterable instead.\n",
      "  if cb.iterable(node_size):  # many node sizes\n"
     ]
    },
    {
     "data": {
      "image/png": "[encoded data removed]",
      "text/plain": [
       "<Figure size 432x288 with 1 Axes>"
      ]
     },
     "metadata": {},
     "output_type": "display_data"
    }
   ],
   "source": [
    "# Dit kan in het echt natuurlijk niet!\n",
    "\n",
    "V = nx.DiGraph()\n",
    "V.add_edges_from(Vader)\n",
    "nx.draw_kamada_kawai(V)"
   ]
  },
  {
   "cell_type": "code",
   "execution_count": 5,
   "metadata": {},
   "outputs": [
    {
     "data": {
      "text/plain": [
       "{(0, 2), (0, 4), (1, 3)}"
      ]
     },
     "execution_count": 5,
     "metadata": {},
     "output_type": "execute_result"
    }
   ],
   "source": [
    "# Voorbeeld met een existentiele quantifier\n",
    "# Kan ook anders hoor.\n",
    "\n",
    "H= nx.DiGraph()\n",
    "H.add_edges_from([(0,1), (1,2), (1,4), (2,3)])\n",
    "\n",
    "\n",
    "# Opa(x,y) iff M(x) & \\exists z (R(x,z) & R(z,y) )\n",
    "# hier laat ik de M(x) even weg\n",
    "Opa= {(x,y) for x in H for y in H \n",
    "      if {z for z in H if R(x,z,H)} & {z for z in H if R(z,y,H)}}\n",
    "Opa"
   ]
  },
  {
   "cell_type": "markdown",
   "metadata": {},
   "source": [
    "# Uitwerking van opdracht 1\n",
    "* eerst in Markdown en Latex\n",
    "* dan een blok in code"
   ]
  },
  {
   "cell_type": "markdown",
   "metadata": {
    "deletable": false,
    "nbgrader": {
     "cell_type": "markdown",
     "checksum": "9c33c843c87588b1b24632fb6b7de2d9",
     "grade": true,
     "grade_id": "p11",
     "locked": false,
     "points": 10,
     "schema_version": 3,
     "solution": true
    }
   },
   "source": [
    "## 1. Definiëren familierelaties\n",
    "1. Broers/zussen(Siblings)\n",
    "    * *Beperking:* \n",
    "        * Iedereen is man of vrouw (en nooit allebei tegelijk).\n",
    "        * Iedereen heeft minimaal 1 gemeenschappelijke ouder, een man en een vrouw.\n",
    "    * *relatie*\n",
    "        * $Sibling(x,y)$ precies dan en slechts dan alleen als x een gemeenschappelijke ouder heeft met y en x en y niet dezelfde persoon zijn. \n",
    "            * $\\forall xy(Sibling(x,y) \\leftrightarrow \\exists z(R(z,x) \\wedge R(z,y)) \\wedge (x \\not= y))$\n",
    "2. Moeder\n",
    "    * $Moeder(x,y)$ precies dan en slechts dan alleen als x een ouder is van y en x een vrouw is.\n",
    "        * $\\forall xy( Moeder(x,y) \\leftrightarrow R(x,y) \\wedge V(x))$\n",
    "            \n",
    "3. Vader\n",
    "    * $Vader(x,y)$ precies dan en slechts dan alleen als x een ouder is van y en x een man is.\n",
    "        * $\\forall xy( Vader(x,y) \\leftrightarrow R(x,y) \\wedge M(x))$\n",
    "4. Zoon\n",
    "    * $Zoon(x,y)$ precies dan en slechts dan alleen als x een ouder heeft y en x een man is.\n",
    "        * $\\forall xy( Zoon(x,y) \\leftrightarrow R(y,x) \\wedge M(x))$\n",
    "5. Dochter \n",
    "    * $Dochter(x,y)$ precies dan en slechts dan alleen als x een ouder heeft y en x een vrouw is.\n",
    "        * $\\forall xy( Dochter(x,y) \\leftrightarrow R(y,x) \\wedge V(x))$\n",
    "6. Opa\n",
    "    * $Opa(x,y)$ precies dan en slechts dan alleen als x een ouder is van z, z een ouder is van y en x een man is.\n",
    "        * $\\forall xy( Opa(x,y) \\leftrightarrow \\exists z(R(x,z) \\wedge R(z,y)) \\wedge M(x))$\n",
    "7. Oma \n",
    "    * $Oma(x,y)$ precies dan en slechts dan alleen als x een ouder is van z, z een ouder is van y en x een vrouw is.\n",
    "         * $\\forall xy (Oma(x,y) \\leftrightarrow \\exists z(R(x,z) \\wedge R(z,y)) \\wedge V(x))$\n",
    "8. Kleinzoon\n",
    "     * $Kleinzoon(x,y)$ precies dan en slechts dan alleen als x een ouder heeft z, y een ouder is van z en x een man is.\n",
    "         * $\\forall xy( Kleinzoon(x,y) \\leftrightarrow \\exists z(R(z,x) \\wedge R(y,z)) \\wedge M(x))$\n",
    "9. Kleindochter\n",
    "    * $Kleindochter(x,y)$ precies dan en slechts dan alleen als x een ouder heeft z, y een ouder is van z en x een vrouw is.\n",
    "         * $\\forall xy( Kleindochter(x,y) \\leftrightarrow \\exists z(R(z,x) \\wedge R(y,z)) \\wedge V(x))$\n",
    "         \n",
    "10. Tante\n",
    "    * $Tante(x,y)$ precies dan en slechts dan alleen als x een vrouw is, x een sibling is van z en z een ouder is van y.\n",
    "        * $\\forall xy( Tante(x,y) \\leftrightarrow \\exists z (Sibling(x,z)\\wedge R(z,y) ) \\wedge V(x))$\n",
    "11. Oom\n",
    "    * $Oom(x,y)$ precies dan en slechts dan alleen als x een man is, x een sibling is van z en z een ouder is van y.\n",
    "        * $\\forall xy( Oom(x,y) \\leftrightarrow \\exists z(Sibling(x,z)\\wedge R(z,y)) \\wedge M(x))$\n",
    "12. Neef \n",
    "    * $Neef(x,y)$ precies dan en slechts dan alleen als x een man is, z is een oom of tante van x en z is een ouder van y.   \n",
    "        * $\\forall xy( Neef(x,y) \\leftrightarrow \\exists z((Tante(z,x)\\lor Oom(z,x))) \\wedge M(x))$\n",
    "13. Nicht\n",
    "    * $Nicht(x,y)$ precies dan en slechts dan alleen als x een vrouw is, z is een oom of tante van x en z is een ouder van y.  \n",
    "        * $( Nicht(x,y) \\leftrightarrow \\exists z((Tante(z,x)\\lor Oom(z,x))) \\wedge V(x))$\n",
    "        \n",
    "14. Halfbroer\n",
    "    * $Halfbroer(x,y)$ precies dan en slechts dan alleen als x een man is, x precies 1 gemeenschappelijke ouder heeft met y, x en y niet dezelfde persoon zijn.  \n",
    "        * $( Halfbroer(x,y) \\leftrightarrow \\exists z(R(z,x) \\wedge R(z,y)) \\wedge M(x) \\wedge (x \\not= y))$\n",
    "15. Halfzus\n",
    "    * $Halfzus(x,y)$ precies dan en slechts dan alleen als x een vrouw is, x precies 1 gemeenschappelijke ouder heeft met y, x en y niet dezelfde persoon zijn.  \n",
    "        * $( Halfzus(x,y) \\leftrightarrow \\exists z(R(z,x) \\wedge R(z,y)) \\wedge V(x) \\wedge (x \\not= y))$\n",
    " \n",
    "## 2. Lastig te definieren familierelaties in predicaatlogica  \n",
    "* Een familierelatie die niet in predicaatlogica gedefinieerd kan worden is **stiefouders**, omdat een stiefouder de partner is van iemands ouders, maar is niet de biologische moeder van een kind. Volgens de beperkingen heeft iemand maar 1 moeder en vader als ouders, dus is het lastig om stiefouders te definieren in predicaatlogica. \n",
    "\n",
    "* Een andere familierelatie die niet in predicaatlogica gedefinieerd kan worden is **adoptie //geadopteerde kinderen**. Dit is lastig te definieren, omdat ook hier de relatie tussen adoptie kinderen en hun ouders niet biologisch is. De kinderen hebben dus 4 ouders, waarvan 2 hun biologische ouders. \n",
    "\n",
    "* Nog een familierelatie die niet in predicaatlogica gedefinieerd kan worden is die van **draagmoeders**, omdat draagmoeders hebben kinderen ter wereld gebracht maar worden niet opegevoed door hun draagmoeder. In dit geval hebben kinderen dus ook weer twee moeders, waardoor het aangeven van een draagmoeder als moeder in predicaatlogica complexer wordt. \n",
    "\n",
    "\n",
    "    \n",
    "## 3. Beperkingen in de echte wereld\n",
    "    3. Geef een aantal beperkingen die (mogelijk) waar zouden kunnen zijn in de echte wereld.\n",
    "  * Ik schrijf mogelijk omdat het voorbeeld hierboven dat iedereen precies 2 ouders heeft natuurlijk ook omstreden is. Dat geeft niet, je geeft dat dan gewoon aan. \n",
    "    * Beschrijf de beperking eerst in heel helder Nederlands, en geef daarnaast de exacte logische zin die erbij past.\n",
    "    * Op $R$ kan je natuurlijk al heel wat beperkingen opleggen:\n",
    "        * niemand is ouder van zichzelf\n",
    "        * ouder is asymmetrisch\n",
    "        * ....\n",
    "     \n",
    "* Een beperking in de echte wereld zou kunnen zijn dat een kind in plaats van een moeder en een vader, twee vaders of twee moeders als ouders heeft, ook wel homoseksuele ouders genoemd.\n",
    "* Nog een beperking in de echte wereld zou zijn dat een kind verandert van geslacht, zeg je dan bijvoorbeeld ik heb een zoon of zeg je ik heb een dochter, omdat biologisch gezien het eerst een zoon was?\n",
    "* Een andere beperking in de echte wereld is het voorbeeld van Caitlyn Jenner, voormalig William Bruce (Bruce) Jenner, wordt zij gedefinieerd als moeder of als vader voor zijn kinderen in predicaatlogica, aangezien zij volgens de wet als vrouw nu door het leven gaat. "
   ]
  },
  {
   "cell_type": "markdown",
   "metadata": {},
   "source": [
    "# Networkx"
   ]
  },
  {
   "cell_type": "code",
   "execution_count": 6,
   "metadata": {
    "deletable": false,
    "nbgrader": {
     "cell_type": "code",
     "checksum": "713c80389dbde903665b622d53d446bd",
     "grade": true,
     "grade_id": "p12",
     "locked": false,
     "points": 10,
     "schema_version": 3,
     "solution": true
    },
    "scrolled": true
   },
   "outputs": [
    {
     "data": {
      "image/png": "[encoded data removed]",
      "text/plain": [
       "<Figure size 432x288 with 1 Axes>"
      ]
     },
     "metadata": {},
     "output_type": "display_data"
    }
   ],
   "source": [
    "# pydot en graphviz worden gebruikt voor de networkx visualisatie\n",
    "import matplotlib.pyplot as plt\n",
    "import pydot\n",
    "from networkx.drawing.nx_pydot import graphviz_layout\n",
    "\n",
    "H = nx.DiGraph()\n",
    "\n",
    "# de mannen en de vrouwen in dit netwerk\n",
    "M,V= {\"Robert Kardashian\", \"Scott Disick\", \"Kanye West\", \"Tristan Thompson\", \"Rob Kardashian\", \"Travis Scott\", \n",
    "      \"Brandon Jenner\", \"Burt Jenner\", \"Brody Jenner\", \"Mason Disick\", \"Saint West\", \"Psalm West\",\n",
    "    \"Philip, Duke of Edinburgh\", \"Charles, Prince of Wales\", \"Andrew, Duke of York\", \"Edward, Earl of Sussex\",\n",
    "     \"Captain Mark Philips\", \"Vice-Admiral Timothy Laurence\", \"Peter Philips\", \"Mike Tindall\", \"William, Duke of Cambridge\",\n",
    "     \"Harry, Duke of Sussex\", \"James, Viscount Severn\", \"Edoardo Mapelli Mozzi\", \"Jack Brooksbank\"}, {\"Kris Jenner\",\n",
    "     \"Caitlyn Jenner\", \"Linda Thompson\", \"Chrystie Jenner\", \"Kourtney Kardashian\", \"Kim Kardashian\", \"Khloe Kardashian\", \n",
    "     \"Blac Chyna\", \"Kendall Jenner\", \"Kylie Jenner\", \"Cassandra Marino\", \"Penelope Disick\", \"Reign Disick\",\n",
    "     \"North West\", \n",
    "     \"Chicago West\", \"True Thompson\", \"Dream Kardashian\", \"Stormi Webster\", \"Queen Elizabeth II\", \"Anne, Princess Royal\",\n",
    "     \"Diana, Princess of Wales\", \"Camilla, Duchess of Cornwall\", \"Sarah, Duchess of York\", \"Sophie, Countess of Wessex\",\n",
    "     \"Zara Tindall\", \"Autumn Philips\", \"Princess Beatrice of York\", \"Princess Eugenie of York\", \"Lady Louise Windsor\", \"Catherine, Duchess of Cambridge\",\n",
    "     \"Megan, Duchess of Sussex\"}\n",
    "\n",
    "\n",
    "for node in M:\n",
    "    H.add_node(node, color=\"lightblue\")\n",
    "    H.nodes[node]['M']=True\n",
    "    H.nodes[node]['V']=False\n",
    "for node in V:\n",
    "    H.add_node(node, color=\"pink\")\n",
    "    H.nodes[node]['M']=False\n",
    "    H.nodes[node]['V']=True\n",
    "\n",
    "colors = [H.nodes[n]['color'] for n in H.nodes]\n",
    "\n",
    "ouder_kind = [(\"Robert Kardashian\", \"Kourtney Kardashian\"), (\"Robert Kardashian\", \"Kim Kardashian\"),\n",
    "                  (\"Robert Kardashian\", \"Khloe Kardashian\"), (\"Robert Kardashian\", \"Rob Kardashian\"),\n",
    "                  (\"Kris Jenner\", \"Kourtney Kardashian\"), (\"Kris Jenner\", \"Kim Kardashian\"), \n",
    "                  (\"Kris Jenner\", \"Khloe Kardashian\"), (\"Kris Jenner\", \"Rob Kardashian\"), \n",
    "                  (\"Kris Jenner\",\"Kendall Jenner\"), (\"Kris Jenner\", \"Kylie Jenner\"),\n",
    "                  (\"Caitlyn Jenner\", \"Kendall Jenner\"), (\"Caitlyn Jenner\", \"Kylie Jenner\"), \n",
    "                  (\"Caitlyn Jenner\", \"Brody Jenner\"), (\"Caitlyn Jenner\", \"Brandon Jenner\"), \n",
    "                  (\"Caitlyn Jenner\", \"Burt Jenner\"), (\"Caitlyn Jenner\", \"Cassandra Marino\"), \n",
    "                  (\"Linda Thompson\", \"Brody Jenner\"), (\"Linda Thompson\", \"Brandon Jenner\"), \n",
    "                  (\"Chrystie Jenner\", \"Burt Jenner\"), (\"Chrystie Jenner\", \"Cassandra Marino\"), \n",
    "                  (\"Kourtney Kardashian\", \"Mason Disick\"), (\"Kourtney Kardashian\", \"Reign Disick\"), \n",
    "                  (\"Kourtney Kardashian\", \"Penelope Disick\"), (\"Scott Disick\", \"Mason Disick\"), \n",
    "                  (\"Scott Disick\", \"Reign Disick\"), (\"Scott Disick\", \"Penelope Disick\"), \n",
    "                  (\"Kim Kardashian\", \"North West\"), (\"Kim Kardashian\", \"Saint West\"), \n",
    "                  (\"Kim Kardashian\", \"Chicago West\"), (\"Kim Kardashian\", \"Psalm West\"), \n",
    "                  (\"Kanye West\", \"North West\"), (\"Kanye West\", \"Saint West\"), \n",
    "                  (\"Kanye West\", \"Chicago West\"), (\"Kanye West\", \"Psalm West\"), \n",
    "                  (\"Khloe Kardashian\", \"True Thompson\"), (\"Tristan Thompson\", \"True Thompson\"), \n",
    "                  (\"Rob Kardashian\", \"Dream Kardashian\"), (\"Blac Chyna\", \"Dream Kardashian\"), \n",
    "                  (\"Kylie Jenner\", \"Stormi Webster\"), (\"Travis Scott\", \"Stormi Webster\"),\n",
    "                  (\"Queen Elizabeth II\", \"Charles, Prince of Wales\"), (\"Queen Elizabeth II\", \"Anne, Princess Royal\"),\n",
    "                  (\"Queen Elizabeth II\", \"Andrew, Duke of York\"), (\"Queen Elizabeth II\", \"Edward, Earl of Sussex\"),\n",
    "                  (\"Philip, Duke of Edinburgh\", \"Charles, Prince of Wales\"), \n",
    "                  (\"Philip, Duke of Edinburgh\", \"Anne, Princess Royal\"),\n",
    "                  (\"Philip, Duke of Edinburgh\", \"Andrew, Duke of York\"), \n",
    "                  (\"Philip, Duke of Edinburgh\", \"Edward, Earl of Sussex\"),\n",
    "                  (\"Charles, Prince of Wales\", \"William, Duke of Cambridge\"),\n",
    "                  (\"Charles, Prince of Wales\", \"Harry, Duke of Sussex\"),\n",
    "                  (\"Diana, Princess of Wales\", \"William, Duke of Cambridge\"),\n",
    "                  (\"Diana, Princess of Wales\", \"Harry, Duke of Sussex\"),\n",
    "                  (\"Captain Mark Philips\", \"Peter Philips\"), (\"Captain Mark Philips\", \"Zara Tindall\"), \n",
    "                  (\"Anne, Princess Royal\", \"Peter Philips\"), (\"Anne, Princess Royal\", \"Zara Tindall\"),\n",
    "                  (\"Andrew, Duke of York\", \"Princess Beatrice of York\"), \n",
    "                  (\"Andrew, Duke of York\", \"Princess Eugenie of York\"),\n",
    "                  (\"Sarah, Duchess of York\", \"Princess Beatrice of York\"), \n",
    "                  (\"Sarah, Duchess of York\", \"Princess Eugenie of York\"),\n",
    "                  (\"Edward, Earl of Sussex\", \"Lady Louise Windsor\"), \n",
    "                  (\"Edward, Earl of Sussex\", \"James, Viscount Severn\"),\n",
    "                  (\"Sophie, Countess of Wessex\", \"Lady Louise Windsor\"),\n",
    "                  (\"Sophie, Countess of Wessex\", \"James, Viscount Severn\")]\n",
    "\n",
    "\n",
    "H.add_edges_from(ouder_kind)\n",
    "\n",
    "G=H\n",
    "def M(x, network=G):\n",
    "    return network.nodes[x]['M']\n",
    "def V(x, network=G):\n",
    "    return network.nodes[x]['V']\n",
    "def R(x,y,network=G):\n",
    "    return network.has_edge(x,y)\n",
    "\n",
    "def Vader():\n",
    "    return {(x,y) for x in H for y in H if R(x,y,H) and M(x,H)}\n",
    "\n",
    "def Moeder():\n",
    "    return {(x,y) for x in H for y in H if R(x,y,H) and V(x,H)}\n",
    "\n",
    "def Opa():\n",
    "    return {(x,y) for x in H for y in H \n",
    "      if {z for z in H if R(x,z,H)} & {z for z in H if R(z,y,H) & M(x,H)}}\n",
    "\n",
    "def Oma():\n",
    "    return {(x,y) for x in H for y in H \n",
    "      if {z for z in H if R(x,z,H)} & {z for z in H if R(z,y,H) & V(x,H)}}\n",
    "\n",
    "def Kleinzoon():\n",
    "    return {(x,y) for x in H for y in H \n",
    "      if {z for z in H if R(z,x,H)} & {z for z in H if R(y,z,H) & M(x,H)}}\n",
    "\n",
    "def Kleindochter():\n",
    "    return {(x,y) for x in H for y in H \n",
    "      if {z for z in H if R(z,x,H)} & {z for z in H if R(y,z,H) & V(x,H)}}\n",
    "\n",
    "def Zoon():\n",
    "    return {(x,y) for x in H for y in H if R(y,x,H) and M(x,H)}\n",
    "\n",
    "def Dochter():\n",
    "    return {(x,y) for x in H for y in H if R(y,x,H) and V(x,H)}\n",
    "\n",
    "def Sibling():\n",
    "    return {(x,y) for z in H for w in H for x in H for y in H \n",
    "          if R(z,x,H) and R(z,y,H) and R(w,x,H) and R(w,y,H) and (z != w) and (x != y)}\n",
    "\n",
    "def Tante():\n",
    "    return {(x,y) for w in H for z in H for x in H for y in H if R(z,y,H) and V(x,H) and R(w,x) and R(w,z) \n",
    "            and (x != z)}\n",
    "def Oom():\n",
    "    return {(x,y) for w in H for z in H for x in H for y in H if R(z,y,H) and M(x,H) and R(w,x) and R(w,z) \n",
    "            and (x != z)}\n",
    "def Neef():\n",
    "    return {(x,y) for z in H for i in H for w in H for x in H for y in H if R(z,y,H) and \n",
    "            R(w,z,H) and R(w,i,H) and (w !=i) and R(i,x) and M(x,H) }\n",
    "         \n",
    "def Nicht():\n",
    "    return {(x,y) for z in H for i in H for w in H for x in H for y in H if R(z,y,H) and \n",
    "            R(w,z,H) and R(w,i,H) and (w !=i) and R(i,x) and V(x,H) }\n",
    "\n",
    "pos = graphviz_layout(H, prog=\"dot\")    \n",
    "nx.draw_networkx(H, pos, node_size = 70, node_color= colors, with_labels=False) #  with_labels= True, \n",
    "\n",
    "plt.show()"
   ]
  },
  {
   "cell_type": "markdown",
   "metadata": {},
   "source": [
    "# 2 Definieer LHBTQI+\n",
    "\n",
    "* OK, ga er maar aan staan. Linda probeert het op <https://www.linda.nl/nieuws/we-leggen-het-gewoon-uit-waar-staat-lhbtqi-voor/>. \n",
    "* Nu is het jullie beurt.\n",
    "* Dus neem wat primitieven, maar zo min mogelijk,\n",
    "    * Man, Vrouw, en allicht nog iets, plus logische relaties daartussen\n",
    "    * een binaire relatie $R$ die \"liefdes-relaties\" aangeeft...\n",
    "        * Jij geeft heel exact aan wat $R(x,y)$ voor jullie betekent\n",
    "    * misschien nog 1 of 2 andere primitieven\n",
    "        * Geef heel exact aan wat ze betekenen\n",
    "        \n",
    "### Let op!\n",
    "\n",
    "* Vergelijk deze 3 (echt niet equivalente) definities:\n",
    "    * Je bent een hetero als je van iemand houdt van het andere geslacht\n",
    "    * ... als je alleen maar van mensen houdt van het andere geslacht\n",
    "    * ... als je van iemand houdt van het andere geslacht **en** als je alleen maar van mensen houdt van het andere geslacht\n",
    "    * eeh, *het* andere geslacht..., is er maar 1 dan? \n",
    "* Je merkt het, je moet heel precies zijn! \n",
    "* Deze opdracht is alleen goed te doen, als jullie elkaar steeds controleren en scherp houden, en opjutten om precies te zijn of worden of blijven.\n",
    "* Maak ook steeds heldere voorbeelden/modellen, en kijk wat je definities doen op die modellen.\n",
    "    \n",
    "## Jullie opdracht\n",
    "\n",
    "* Maak net als boven een theorie voor je primitieven, en definieer alle letters (plus wat er onder de + valt) in termen van je primitieven\n",
    "* Als het echt niet lukt of kan, zal je dat echt helder moeten motiveren.\n",
    "* Maak een networkx model met van elke LHBTQI+ letter minstens 1 knoop die zo is volgens jouw definitie.\n",
    "* Geef exact aan, of mensen meerdere letters tegelijk kunnen zijn,\n",
    "    * Is iedereen nou 1 van deze letters, of zijn er ook nog andere categorieen? Welke dan? Kan je die ook definieren?"
   ]
  },
  {
   "cell_type": "markdown",
   "metadata": {},
   "source": [
    "# Uitwerking van opdracht 2\n",
    "\n",
    "* eerst in Markdown en Latex\n",
    "* dan een blok in code"
   ]
  },
  {
   "cell_type": "markdown",
   "metadata": {
    "deletable": false,
    "nbgrader": {
     "cell_type": "markdown",
     "checksum": "4b886e090ab4002a0597c5d4d28f6b61",
     "grade": true,
     "grade_id": "p21",
     "locked": false,
     "points": 10,
     "schema_version": 3,
     "solution": true
    }
   },
   "source": [
    "## 1. Definiëren familierelaties\n",
    "\n",
    "$R(x,y)$ betekent $x$ voelt zich sexueel aangetrokken tot $y$. <br>\n",
    "$F(x,y)$ betekent $x$ voelt zich als $y$.\n",
    "\n",
    "1. Heterosexueel\n",
    "    * $x$ voelt zich sexueel aangetrokken tot $y$ en $x$ is een man of vrouw en $y$ is een man of vrouw.\n",
    "        * $ \\forall x (Heterosexueel(x) \\rightarrow \\exists y( (R(x,y) \\wedge ((M(x) \\wedge V(y)) \\oplus (M(y) \\wedge V(x)))$\n",
    "       \n",
    "        \n",
    "2. Homosexueel\n",
    "    * $x$ voelt zich sexueel aangetrokken tot $y$ en $x$ en $y$ zijn beide een man.\n",
    "        * $\\forall x( Homosekxueel(x) \\rightarrow \\exists y (R(x,y) \\wedge M(x) \\wedge M(y)))$\n",
    "        \n",
    "        \n",
    "3. Lesbianisme\n",
    "    * $x$ voelt zich sexueel aangetrokken tot $y$ en $x$ en $y$ zijn beide een vrouw.\n",
    "        * $\\forall x( Lesbianisme(x) \\rightarrow \\exists y (R(x,y) \\wedge V(x) \\wedge V(y)))$\n",
    "        \n",
    "4. Bisexueel\n",
    "    * $x$ voelt zich sexueel aangetrokken tot $y$ en $z$ en $y$ is een man en $z$ is een vrouw.\n",
    "        * $\\forall x( Biseksueel(x) \\rightarrow \\exists yz(R(x,y) \\wedge R(x,z) \\wedge M(y) \\wedge V(z))$\n",
    "        \n",
    "5. Transgender\n",
    "    * $x$ voelt zich als een vrouw en x is een man of $x$ voelt zich als een man en x is een vrouw.\n",
    "        * $\\forall x( Transgender(x) \\rightarrow \\exists y (F(x,y) \\wedge ((M(x) \\wedge V(y)) \\oplus ((M(y) \\wedge V(x)))))$\n",
    "        \n",
    "6. Asexueel \n",
    "    * $x$ voelt zich niet sexueel aangetrokken tot mannen en vrouwen.\n",
    "        * $\\forall x( Asexueel(x) \\rightarrow \\neg \\exists yz((R(x,y) \\wedge R(x,z)) \\wedge M(y) \\wedge V(z)))$\n",
    "        \n",
    "7. Questioning\n",
    "    * Iemand die questioning is heeft niet echt een voorkeur voor een sexuele of specifieke gender oriëntatie. Deze is lastig te definiëren in predicaatlogica omdat deze zo ontzettend vaag is. <br><br>\n",
    "\n",
    "8. Intersexueel\n",
    "    * Iemand die intersexueel is is een persoon die niet met typische mannelijke of vrouwlijke geslachtkenmerken is geboren. Bijvoorbeeld een mens dat aan de buitenkant eruit ziet als een vrouw maar ‘van binnen’ mannelijke geslachtskenmerken heeft. Is dit niet gewoon Transgender-lite? Dus hoe maak je een Transgender-lite versie die in mindere mate zich het andere geslacht voelt?<br><br>\n",
    "\n",
    "9. None of the above\n",
    "    * Deze is al helemaal niet te doen. Als het geen van de bovenstaande is wat is het dan wel? Hoe definieer je iets dat niet overeenkomt met de sexuele oriëntaties hierboven en waar vervolgens de bovenstaande sexuele oriëntaties niet onder vallen?\n",
    "\n",
    "\n",
    "* Een Bisexueel is tegelijkertijd ook Homosexueel of Lesbisch.\n",
    "\n",
    "* Een Transgender kan Heterosexueel, Homosexueel, Lesbisch, Bisexueel, Asexueel of iets anders zijn.\n",
    "\n",
    "* Een Intersexueel is tegelijkertijd ook een soort lichte vorm van een Transgender, Transgender-lite en kan dus ook Heterosexueel, Homosexueel, Lesbisch, Bisexueel, Asexueel of iets anders zijn.\n",
    "\n",
    "* Een None of the Above kan de rest van dit rijtje niet zijn, omdat het none of the above is.\n",
    "\n",
    "* Een Questioning weet het niet dus die kan van alles zijn uit dit rijtje en zelfs meer."
   ]
  },
  {
   "cell_type": "markdown",
   "metadata": {},
   "source": [
    "## Networkx"
   ]
  },
  {
   "cell_type": "code",
   "execution_count": 7,
   "metadata": {
    "deletable": false,
    "nbgrader": {
     "cell_type": "code",
     "checksum": "6febdec24499d23698d3fd53ea4d9d5e",
     "grade": true,
     "grade_id": "p22",
     "locked": false,
     "points": 10,
     "schema_version": 3,
     "solution": true
    }
   },
   "outputs": [
    {
     "data": {
      "image/png": "[encoded data removed]",
      "text/plain": [
       "<Figure size 432x288 with 1 Axes>"
      ]
     },
     "metadata": {},
     "output_type": "display_data"
    }
   ],
   "source": [
    "lgbt_graph = nx.DiGraph()\n",
    "\n",
    "# de mannen en de vrouwen in dit netwerk\n",
    "M = {1,2,3,4,5,6,7,8,9,11}\n",
    "V = {10,20,30,40,50,60,70,80,90,110} \n",
    "\n",
    "for node in M:\n",
    "    lgbt_graph.add_node(node, color=\"lightblue\")\n",
    "    lgbt_graph.nodes[node]['M']=True\n",
    "    lgbt_graph.nodes[node]['V']=False\n",
    "    \n",
    "for node in V:\n",
    "    lgbt_graph.add_node(node, color=\"pink\")\n",
    "    lgbt_graph.nodes[node]['M']=False\n",
    "    lgbt_graph.nodes[node]['V']=True\n",
    "    \n",
    "\n",
    "# Heterosexueel Man->Vrouw\n",
    "lgbt_graph.add_edge(1, 10)\n",
    "\n",
    "# Heterosexueel Vrouw->Man\n",
    "lgbt_graph.add_edge(20, 2)\n",
    "\n",
    "# Homosexueel\n",
    "lgbt_graph.add_edge(3, 4)\n",
    "\n",
    "# Lesbianisme\n",
    "lgbt_graph.add_edge(30, 40)\n",
    "\n",
    "# Bisexueel Man\n",
    "lgbt_graph.add_edge(5, 6)\n",
    "lgbt_graph.add_edge(5, 50)\n",
    "\n",
    "# Bisexueel Vrouw\n",
    "lgbt_graph.add_edge(60, 7)\n",
    "lgbt_graph.add_edge(60, 70)\n",
    "\n",
    "# Transgender Man->Vrouw\n",
    "lgbt_graph.add_edge(8, 80)\n",
    "\n",
    "# Transgender Vrouw->Man\n",
    "lgbt_graph.add_edge(90, 9)\n",
    "\n",
    "# Asexueel Man = 11\n",
    "\n",
    "# Asexueel Vrouw = 110\n",
    "\n",
    "colors = [lgbt_graph.nodes[n]['color'] for n in lgbt_graph.nodes]\n",
    "    \n",
    "pos = graphviz_layout(lgbt_graph, prog=\"dot\")    \n",
    "nx.draw_networkx(lgbt_graph, pos, node_color= colors, with_labels=True) #  with_labels= True, \n",
    "plt.show()"
   ]
  }
 ],
 "metadata": {
  "kernelspec": {
   "display_name": "Python 3",
   "language": "python",
   "name": "python3"
  },
  "language_info": {
   "codemirror_mode": {
    "name": "ipython",
    "version": 3
   },
   "file_extension": ".py",
   "mimetype": "text/x-python",
   "name": "python",
   "nbconvert_exporter": "python",
   "pygments_lexer": "ipython3",
   "version": "3.7.4"
  },
  "toc": {
   "nav_menu": {},
   "number_sections": false,
   "sideBar": true,
   "skip_h1_title": false,
   "title_cell": "Table of Contents",
   "title_sidebar": "Contents",
   "toc_cell": true,
   "toc_position": {},
   "toc_section_display": true,
   "toc_window_display": false
  }
 },
 "nbformat": 4,
 "nbformat_minor": 2
}
