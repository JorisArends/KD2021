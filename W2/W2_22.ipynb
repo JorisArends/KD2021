{
 "cells": [
  {
   "cell_type": "markdown",
   "metadata": {},
   "source": [
    "# Assignment Netwerkanalyse"
   ]
  },
  {
   "cell_type": "markdown",
   "metadata": {},
   "source": [
    "## Notebook made by\n",
    "\n",
    "\n",
    "|Naam|Studentnummer|\n",
    "|-|-|\n",
    "|Thijs|secret |\n",
    "|Noor|secret |\n",
    "|Joana|secret |\n",
    "| | |\n",
    "\n",
    "## Peerreview\n",
    "\n",
    "* Vul onderstaande dict/tabel in en run de cel. Klopt het? Zijn jullie het er allemaal mee eens?\n",
    "    * Verander `1,2,3,4` door jullie studentnummers\n",
    "    * `1: {1:.2,2:.3,3:.3,4:.2}` betekent dat student 1 zijn punt zo over de 4 studenten verdeelt\n",
    "    * Let op, per student moeten de punten optellen tot 1!\n",
    "    * De gegeven punten staan in de tabel op de rijen, de ontvangen punten in de kolommen.\n",
    "    * met `cijfer_per_student` kan je bepalen welk cijfer ieder krijgt bij een gegeven groepscijfer."
   ]
  },
  {
   "cell_type": "markdown",
   "metadata": {},
   "source": [
    "## Toelichting\n",
    "\n",
    "* De meeste opgaven worden automatisch nagekeken. Bij vrijwel alle opdrachten staan er een paar tests onder de opdracht, dit is voornamelijk om te zorgen dat je de juiste type output geeft. Dit zijn dus *NIET* alle tests, die komen er bij het graden nog bij.\n",
    "* Elke vraag is 1 punt waard, tenzij anders aangegeven. Soms is die punt onderverdeeld in deelpunten, maar niet altijd. \n",
    "\n",
    "## Voor het inleveren!\n",
    "\n",
    "* Pas niet de cellen aan, vooral niet die je niet kunt editen. Dit levert problemen op bij nakijken. Twijfel je of je per ongeluk iets hebt gewijzigd, kopieer dan bij inleveren je antwoorden naar een nieuw bestand, zodat het niet fout kan gaan.\n",
    "\n",
    "* Zorg dat de code goed runt van boven naar beneden, verifieer dat door boven in Kernel -> Restart & Run All uit te voeren\n",
    "\n",
    "## Na het inleveren!\n",
    "\n",
    "* Het gebeurt erg vaak dat mensen een \"leeg bestand\" inleveren. Vaak een andere versie van de opgave die nog ergens op je computer rondslingerde. Zonde van al je werk toch!\n",
    "* Dus, lever **minstens een half uur voor tijd in**. Download dan wat je hebt ingeleverd op Canvas. Geef het een andere naam om verwarring te voorkomen. En draai alle cellen, en bekijk het. Geen syntax fouten? Alle vragen gemaakt? Dan zit het vast wel goed, en hoef je niet in de zenuwen te zitten."
   ]
  },
  {
   "cell_type": "markdown",
   "metadata": {
    "toc": true
   },
   "source": [
    "<h1>Table of Contents<span class=\"tocSkip\"></span></h1>\n",
    "<div class=\"toc\"><ul class=\"toc-item\"><li><span><a href=\"#Instructie\" data-toc-modified-id=\"Instructie-1\">Instructie</a></span></li><li><span><a href=\"#Definieer-familie-relaties-en-LHBTQI++\" data-toc-modified-id=\"Definieer-familie-relaties-en-LHBTQI++-2\">Definieer familie relaties en LHBTQI++</a></span><ul class=\"toc-item\"><li><span><a href=\"#1-De-gebruikelijke-familierelaties\" data-toc-modified-id=\"1-De-gebruikelijke-familierelaties-2.1\">1 De gebruikelijke familierelaties</a></span><ul class=\"toc-item\"><li><span><a href=\"#Jullie-opdracht\" data-toc-modified-id=\"Jullie-opdracht-2.1.1\">Jullie opdracht</a></span></li><li><span><a href=\"#Networkx\" data-toc-modified-id=\"Networkx-2.1.2\">Networkx</a></span></li></ul></li></ul></li><li><span><a href=\"#Uitwerking-van-opdracht-1\" data-toc-modified-id=\"Uitwerking-van-opdracht-1-3\">Uitwerking van opdracht 1</a></span></li><li><span><a href=\"#2-Definieer-LHBTQI+\" data-toc-modified-id=\"2-Definieer-LHBTQI+-4\">2 Definieer LHBTQI+</a></span><ul class=\"toc-item\"><li><ul class=\"toc-item\"><li><span><a href=\"#Let-op!\" data-toc-modified-id=\"Let-op!-4.0.1\">Let op!</a></span></li></ul></li><li><span><a href=\"#Jullie-opdracht\" data-toc-modified-id=\"Jullie-opdracht-4.1\">Jullie opdracht</a></span></li></ul></li><li><span><a href=\"#Uitwerking-van-opdracht-2\" data-toc-modified-id=\"Uitwerking-van-opdracht-2-5\">Uitwerking van opdracht 2</a></span></li></ul></div>"
   ]
  },
  {
   "cell_type": "markdown",
   "metadata": {},
   "source": [
    "# Instructie\n",
    "\n",
    "* 2 opdrachten, elke opdracht kent een Markdown (tekst) deel en een programmeer deel. Voor elk deel kan je 10 punten verdienen. In totaal zijn er dus 40 punten te verdienen.\n",
    "* Succes! Maak er wat moois van!\n",
    "* Let op, dit is een vrije opdracht, en er zijn dus meerdere antwoorden goed. Het belangrijkste is dat jullie er over praten, zowel in je groepje als daarbuiten. **Geef in je opdracht aan als je een speciale keuze hebt gemaakt, en geef dan ook de reden. Dat is veel leuker en beter dan dat te verzwijgen/verhullen. En levert je juist punten op.**"
   ]
  },
  {
   "cell_type": "markdown",
   "metadata": {},
   "source": [
    "# Definieer familie relaties en LHBTQI++\n",
    "\n",
    "In deze opdracht gaan jullie relaties definieren in termen van meer primitieve relaties. Ook ga je beperkingen op je modellen aanbrengen waarvan je vindt dat die gelden in onze wereld. Zo zorg je ervoor dat elk model van jouw theorie zo goed mogelijk overeenkomt met onze wereld.\n",
    "\n",
    "## 1 De gebruikelijke familierelaties\n",
    "\n",
    "* We werken met predicaatlogische modellen, en met een basistaal met 2 eigenschappen: $M$ en $V$, die staan voor de 2 traditionele geslachten, en 1 twee plaatsige relatie $R$, die staat voor *is ouder van*. Hieronder staat dus dat *piet een man is, en joke een vrouw en dat piet de ouder is van joke*:\n",
    "\n",
    "$$M(piet), V(joke), R(piet,joke).$$\n",
    "* Wij gaan nu 2 dingen doen:\n",
    "    1. beperkingen opleggen aan de relaties\n",
    "    2. nieuwe relaties definieren in termen van de 3 primtieve relaties $M,V,R$\n",
    "        * in die nieuwe relaties kan je natuurlijk andere eerder gedefinieerde relaties weer gebruiken.\n",
    "* **Voorbeelden**\n",
    "* *Beperking:* \n",
    "    * Iedereen is man of vrouw (en nooit allebei tegelijk).\n",
    "    * Iedereen heeft exact 2 ouders, een man en een vrouw.\n",
    "* *Nieuwe relatie*\n",
    "    * $Vader(x,y)$ precies dan en slechts dan alleen als x een ouder is van y en x een man is.\n",
    "        * $\\forall xy( Vader(x,y) \\leftrightarrow R(x,y) \\wedge M(x))$\n",
    "    * $Opa(x,y)$ hiervoor gebruik je natuurlijk het $\\exists z$    connectief.\n",
    "        * Je kunt dit netjes definieren in termen van ouder en vader. \n",
    "    \n",
    "### Jullie opdracht \n",
    "\n",
    "1. Definieer een flink aantal familierelaties.\n",
    "2. Verzin minstens 1 bestaande familierelatie die je **niet in predicaatlogica** kunt definieren.\n",
    "    * Leg uit wat er lastig/bijzonder aan is.\n",
    "3. Geef een aantal beperkingen die (mogelijk) waar zouden kunnen zijn in de echte wereld.\n",
    "    * Ik schrijf mogelijk omdat het voorbeeld hierboven dat iedereen precies 2 ouders heeft natuurlijk ook omstreden is. Dat geeft niet, je geeft dat dan gewoon aan. \n",
    "    * Beschrijf de beperking eerst in heel helder Nederlands, en geef daarnaast de exacte logische zin die erbij past.\n",
    "    * Op $R$ kan je natuurlijk al heel wat beperkingen opleggen:\n",
    "        * niemand is ouder van zichzelf\n",
    "        * ouder is asymmetrisch\n",
    "        * ....\n",
    "    \n",
    "### Networkx\n",
    "\n",
    "* Maak nu een model van je eigen familie in networkx.\n",
    "* Stop er minstens 50 mensen in (uit je hele groepje), geef ze allemaal een geslacht en leg de juiste relaties.\n",
    "* Maak een mooi plaatje.\n",
    "* Definieer met comprehensies alle relaties die je boven ook gedefinieerd hebt.\n",
    "    * Maak ook een plaatje, en check dat het klopt.\n",
    "* Zorg dat het er zo netjes en helder uitziet    dat je echt snel en makkelijk kunt checken dat het klopt.\n",
    "    * Dit zijn dingen die voor zichzelf spreken: zorg dus ook dat het in jullie opdract zo is.\n",
    "    \n",
    "    \n",
    "        \n"
   ]
  },
  {
   "cell_type": "code",
   "execution_count": 3,
   "metadata": {},
   "outputs": [],
   "source": [
    "import networkx as nx\n",
    "%matplotlib inline"
   ]
  },
  {
   "cell_type": "code",
   "execution_count": 4,
   "metadata": {},
   "outputs": [
    {
     "name": "stdout",
     "output_type": "stream",
     "text": [
      "{(0, 1), (3, 2), (1, 3), (3, 1), (1, 0), (3, 4), (0, 2)}\n"
     ]
    },
    {
     "data": {
      "image/png": "[encoded data removed]",
      "text/plain": [
       "<Figure size 432x288 with 1 Axes>"
      ]
     },
     "metadata": {},
     "output_type": "display_data"
    }
   ],
   "source": [
    "# Voorbeeld om je op weg te helpen\n",
    "\n",
    "H= nx.house_graph()  # In het echt neem je natuurlijk een nx.Digraph !\n",
    "H[1]\n",
    "nx.draw_networkx(H)\n",
    "M,V= {1,3,0},{2,4} # de mannen en de vrouwen in dit netwerk\n",
    "# Nu even de attributen M en V goed zetten\n",
    "for n in M:\n",
    "    H.nodes[n]['M']=True\n",
    "    H.nodes[n]['V']=False\n",
    "for n in V:\n",
    "    H.nodes[n]['V']=True\n",
    "    H.nodes[n]['M']=False    \n",
    " \n",
    "\n",
    "# wat handige afkortingen om de comprehensies zo veel mogelijk op je formules te laten lijken\n",
    "G=H\n",
    "def M(x, network=G):\n",
    "    return network.nodes[x]['M']\n",
    "def V(x, network=G):\n",
    "    return network.nodes[x]['V']\n",
    "def R(x,y,network=G):\n",
    "    return network.has_edge(x,y)\n",
    "\n",
    "# Vader(x,y) iff R(x,y) & M(x)\n",
    "# Bijna hetzelfde als in deze comprehensie toch?\n",
    "Vader= {(x,y) for x in H for y in H if R(x,y,H) and M(x,H)}\n",
    "\n",
    "print(Vader)\n",
    "\n"
   ]
  },
  {
   "cell_type": "code",
   "execution_count": 5,
   "metadata": {},
   "outputs": [
    {
     "data": {
      "image/png": "[encoded data removed]",
      "text/plain": [
       "<Figure size 432x288 with 1 Axes>"
      ]
     },
     "metadata": {},
     "output_type": "display_data"
    }
   ],
   "source": [
    "# Dit kan in het echt natuurlijk niet!\n",
    "\n",
    "V = nx.DiGraph()\n",
    "V.add_edges_from(Vader)\n",
    "nx.draw_kamada_kawai(V)"
   ]
  },
  {
   "cell_type": "code",
   "execution_count": 6,
   "metadata": {},
   "outputs": [
    {
     "data": {
      "text/plain": [
       "{(0, 2), (0, 4), (1, 3)}"
      ]
     },
     "execution_count": 6,
     "metadata": {},
     "output_type": "execute_result"
    }
   ],
   "source": [
    "# Voorbeeld met een existentiele quantifier\n",
    "# Kan ook anders hoor.\n",
    "\n",
    "H= nx.DiGraph()\n",
    "H.add_edges_from([(0,1), (1,2), (1,4), (2,3)])\n",
    "\n",
    "\n",
    "# Opa(x,y) iff M(x) & \\exists z (R(x,z) & R(z,y) )\n",
    "# hier laat ik de M(x) even weg\n",
    "Opa= {(x,y) for x in H for y in H \n",
    "      if {z for z in H if R(x,z,H)} & {z for z in H if R(z,y,H)}}\n",
    "Opa"
   ]
  },
  {
   "cell_type": "markdown",
   "metadata": {},
   "source": [
    "# Uitwerking van opdracht 1\n",
    "\n",
    "* eerst in Markdown en Latex\n",
    "* dan een blok in code"
   ]
  },
  {
   "cell_type": "markdown",
   "metadata": {
    "deletable": false,
    "nbgrader": {
     "cell_type": "markdown",
     "checksum": "9c33c843c87588b1b24632fb6b7de2d9",
     "grade": true,
     "grade_id": "p11",
     "locked": false,
     "points": 10,
     "schema_version": 3,
     "solution": true
    }
   },
   "source": [
    "### 1. \n",
    "\n",
    "∀xy(Vader(x,y) ↔ R(x,y) ∧ M(x))\n",
    "\n",
    "∀xy(Moeder(x,y) ↔ R(x,y) ∧ V(x))\n",
    "\n",
    "∀xy(Opa(x,y) ↔ (R(Moeder(x,y)) v R(Vader(x,y)))) ∧  M(x))\n",
    "\n",
    "∀xy(Oma(x,y) ↔ (R(Moeder(x,y)) v R(Vader(x,y)))) ∧ V(x))\n",
    "\n",
    "∀xy(Kind(x,y)  ↔ R(y,x))\n",
    "\n",
    "∀xy(Zoon(x,y)  ↔ Kind(x,y)  ∧ M(x))\n",
    "\n",
    "∀xy(Dochter(x,y)  ↔ Kind(x,y)  ∧ V(x))\n",
    "\n",
    "∀xy(Kleinkind(x,y)  ↔ Opa(y,x) v Oma(y,x))\n",
    "\n",
    "∀xy(Kleinzoon(x,y)  ↔ Kleinkind(x,y) ∧ M(x))\n",
    "\n",
    "∀xy(Kleindochter(x,y)  ↔ Kleinkind(x,y) ∧ V(x))\n",
    "\n",
    "∀xy(Zus(x,y) ↔ ((Moeder(x) = Moeder(y)) ∧ (Vader(x) = Vader(y))) ∧ V(x))\n",
    "\n",
    "∀xy(Broer(x,y) ↔ ((Moeder(x) = Moeder(y)) ∧ (Vader(x) = Vader(y))) ∧ M(x))\n",
    "\n",
    "∀xy(Tante(x,y) ↔ (Vader(z,y) ∧ Zus(x,z)) v (Moeder(z,y) ∧ Zus(x,z))\n",
    "\n",
    "∀xy(Oom(x,y) ↔ (Vader(z,y) ∧ Broer(x,z)) v (Moeder(z,y) ∧ Broer(x,z))\n",
    "\n",
    "∀xy(Nichtje(x,y) ↔ (R(Tante(y,x)) v R(Zus(y,x)) v R(Broer(y,x))  ∧ V(x))\n",
    "\n",
    "∀xy(Neefje(x,y) ↔ (R(Tante(y,x)) v R(Zus(y,x)) v R(Broer(y,x))  ∧ M(x))\n",
    "\n",
    "\n",
    "### 2. \n",
    "\n",
    "Stiefbroer, stiefzus, stiefmoeder en stiefvader. Deze zijn bijzonder omdat ze eigenlijk geen echte relatie hebben met de familie, het zijn namelijk niet echt de broer, zus, moeder en vader, waardoor de relaties hiervoor ook niet gebruikt kunnen worden. De enige manier om deze toe te voegen zou dus zijn om bijvoorbeeld de definitie van vader aan te passen, maar op dat moment zou het verschil tussen vader en stiefvader wegvallen, waardoor deze niet meer te onderscheiden zouden zijn.\n",
    "\n",
    "### 3.\n",
    "\n",
    "Een kind is niet ouder van zichzelf\n",
    "¬∃x(Kind(x) ↔ R(x,x))\n",
    "\n",
    "Een kind is niet een ouder van zijn/haar ouders. \n",
    "¬∃x(Kind(x) ↔ R(x,y) ∧ R(y,x))\n",
    "\n",
    "Een moeder is niet een man en een vrouw. \n",
    "¬∃x(Moeder(x,y) ↔ M(x) ∧ V(x))\n",
    "\n",
    "Een vader is niet een man en een vrouw. \n",
    "¬∃x(Vader(x,y) ↔ M(x) ∧ V(x))\n",
    "\n",
    "Een zoon is niet een vrouw.\n",
    "¬∃x(Zoon(x)  ↔ V(x)\n",
    "\n",
    "Een dochter is niet een man.\n",
    "¬∃x(Dochter(x)  ↔ M(x)"
   ]
  },
  {
   "cell_type": "markdown",
   "metadata": {},
   "source": []
  },
  {
   "cell_type": "code",
   "execution_count": 7,
   "metadata": {
    "deletable": false,
    "nbgrader": {
     "cell_type": "code",
     "checksum": "713c80389dbde903665b622d53d446bd",
     "grade": true,
     "grade_id": "p12",
     "locked": false,
     "points": 10,
     "schema_version": 3,
     "solution": true
    }
   },
   "outputs": [
    {
     "ename": "FileNotFoundError",
     "evalue": "[Errno 2] \"dot\" not found in path.",
     "output_type": "error",
     "traceback": [
      "\u001b[0;31m---------------------------------------------------------------------------\u001b[0m",
      "\u001b[0;31mFileNotFoundError\u001b[0m                         Traceback (most recent call last)",
      "\u001b[0;32m/Library/Frameworks/Python.framework/Versions/3.7/lib/python3.7/site-packages/pydot.py\u001b[0m in \u001b[0;36mcreate\u001b[0;34m(self, prog, format, encoding)\u001b[0m\n\u001b[1;32m   1914\u001b[0m                 \u001b[0marguments\u001b[0m\u001b[0;34m=\u001b[0m\u001b[0marguments\u001b[0m\u001b[0;34m,\u001b[0m\u001b[0;34m\u001b[0m\u001b[0;34m\u001b[0m\u001b[0m\n\u001b[0;32m-> 1915\u001b[0;31m                 \u001b[0mworking_dir\u001b[0m\u001b[0;34m=\u001b[0m\u001b[0mtmp_dir\u001b[0m\u001b[0;34m,\u001b[0m\u001b[0;34m\u001b[0m\u001b[0;34m\u001b[0m\u001b[0m\n\u001b[0m\u001b[1;32m   1916\u001b[0m             )\n",
      "\u001b[0;32m/Library/Frameworks/Python.framework/Versions/3.7/lib/python3.7/site-packages/pydot.py\u001b[0m in \u001b[0;36mcall_graphviz\u001b[0;34m(program, arguments, working_dir, **kwargs)\u001b[0m\n\u001b[1;32m    135\u001b[0m         \u001b[0mstdout\u001b[0m\u001b[0;34m=\u001b[0m\u001b[0msubprocess\u001b[0m\u001b[0;34m.\u001b[0m\u001b[0mPIPE\u001b[0m\u001b[0;34m,\u001b[0m\u001b[0;34m\u001b[0m\u001b[0;34m\u001b[0m\u001b[0m\n\u001b[0;32m--> 136\u001b[0;31m         \u001b[0;34m**\u001b[0m\u001b[0mkwargs\u001b[0m\u001b[0;34m\u001b[0m\u001b[0;34m\u001b[0m\u001b[0m\n\u001b[0m\u001b[1;32m    137\u001b[0m     )\n",
      "\u001b[0;32m/Library/Frameworks/Python.framework/Versions/3.7/lib/python3.7/subprocess.py\u001b[0m in \u001b[0;36m__init__\u001b[0;34m(self, args, bufsize, executable, stdin, stdout, stderr, preexec_fn, close_fds, shell, cwd, env, universal_newlines, startupinfo, creationflags, restore_signals, start_new_session, pass_fds, encoding, errors, text)\u001b[0m\n\u001b[1;32m    774\u001b[0m                                 \u001b[0merrread\u001b[0m\u001b[0;34m,\u001b[0m \u001b[0merrwrite\u001b[0m\u001b[0;34m,\u001b[0m\u001b[0;34m\u001b[0m\u001b[0;34m\u001b[0m\u001b[0m\n\u001b[0;32m--> 775\u001b[0;31m                                 restore_signals, start_new_session)\n\u001b[0m\u001b[1;32m    776\u001b[0m         \u001b[0;32mexcept\u001b[0m\u001b[0;34m:\u001b[0m\u001b[0;34m\u001b[0m\u001b[0;34m\u001b[0m\u001b[0m\n",
      "\u001b[0;32m/Library/Frameworks/Python.framework/Versions/3.7/lib/python3.7/subprocess.py\u001b[0m in \u001b[0;36m_execute_child\u001b[0;34m(self, args, executable, preexec_fn, close_fds, pass_fds, cwd, env, startupinfo, creationflags, shell, p2cread, p2cwrite, c2pread, c2pwrite, errread, errwrite, restore_signals, start_new_session)\u001b[0m\n\u001b[1;32m   1521\u001b[0m                             \u001b[0merr_msg\u001b[0m \u001b[0;34m+=\u001b[0m \u001b[0;34m': '\u001b[0m \u001b[0;34m+\u001b[0m \u001b[0mrepr\u001b[0m\u001b[0;34m(\u001b[0m\u001b[0merr_filename\u001b[0m\u001b[0;34m)\u001b[0m\u001b[0;34m\u001b[0m\u001b[0;34m\u001b[0m\u001b[0m\n\u001b[0;32m-> 1522\u001b[0;31m                     \u001b[0;32mraise\u001b[0m \u001b[0mchild_exception_type\u001b[0m\u001b[0;34m(\u001b[0m\u001b[0merrno_num\u001b[0m\u001b[0;34m,\u001b[0m \u001b[0merr_msg\u001b[0m\u001b[0;34m,\u001b[0m \u001b[0merr_filename\u001b[0m\u001b[0;34m)\u001b[0m\u001b[0;34m\u001b[0m\u001b[0;34m\u001b[0m\u001b[0m\n\u001b[0m\u001b[1;32m   1523\u001b[0m                 \u001b[0;32mraise\u001b[0m \u001b[0mchild_exception_type\u001b[0m\u001b[0;34m(\u001b[0m\u001b[0merr_msg\u001b[0m\u001b[0;34m)\u001b[0m\u001b[0;34m\u001b[0m\u001b[0;34m\u001b[0m\u001b[0m\n",
      "\u001b[0;31mFileNotFoundError\u001b[0m: [Errno 2] No such file or directory: 'dot': 'dot'",
      "\nDuring handling of the above exception, another exception occurred:\n",
      "\u001b[0;31mFileNotFoundError\u001b[0m                         Traceback (most recent call last)",
      "\u001b[0;32m<ipython-input-7-88b41b30c623>\u001b[0m in \u001b[0;36m<module>\u001b[0;34m\u001b[0m\n\u001b[1;32m     30\u001b[0m \u001b[0;31m# figuur mooi weergeven\u001b[0m\u001b[0;34m\u001b[0m\u001b[0;34m\u001b[0m\u001b[0;34m\u001b[0m\u001b[0m\n\u001b[1;32m     31\u001b[0m \u001b[0mplt\u001b[0m\u001b[0;34m.\u001b[0m\u001b[0mfigure\u001b[0m\u001b[0;34m(\u001b[0m\u001b[0mfigsize\u001b[0m\u001b[0;34m=\u001b[0m\u001b[0;34m(\u001b[0m\u001b[0;36m16\u001b[0m\u001b[0;34m,\u001b[0m\u001b[0;36m4\u001b[0m\u001b[0;34m)\u001b[0m\u001b[0;34m)\u001b[0m\u001b[0;34m\u001b[0m\u001b[0;34m\u001b[0m\u001b[0m\n\u001b[0;32m---> 32\u001b[0;31m \u001b[0mpos\u001b[0m \u001b[0;34m=\u001b[0m \u001b[0mgraphviz_layout\u001b[0m\u001b[0;34m(\u001b[0m\u001b[0mH\u001b[0m\u001b[0;34m,\u001b[0m \u001b[0mprog\u001b[0m\u001b[0;34m=\u001b[0m\u001b[0;34m\"dot\"\u001b[0m\u001b[0;34m)\u001b[0m\u001b[0;34m\u001b[0m\u001b[0;34m\u001b[0m\u001b[0m\n\u001b[0m\u001b[1;32m     33\u001b[0m \u001b[0mnx\u001b[0m\u001b[0;34m.\u001b[0m\u001b[0mdraw\u001b[0m\u001b[0;34m(\u001b[0m\u001b[0mH\u001b[0m\u001b[0;34m,\u001b[0m \u001b[0mpos\u001b[0m\u001b[0;34m,\u001b[0m \u001b[0mwith_labels\u001b[0m\u001b[0;34m=\u001b[0m\u001b[0;32mTrue\u001b[0m\u001b[0;34m,\u001b[0m \u001b[0mnode_size\u001b[0m\u001b[0;34m=\u001b[0m\u001b[0;36m800\u001b[0m\u001b[0;34m,\u001b[0m \u001b[0mfont_color\u001b[0m\u001b[0;34m=\u001b[0m\u001b[0;34m\"white\"\u001b[0m\u001b[0;34m,\u001b[0m \u001b[0mfont_size\u001b[0m\u001b[0;34m=\u001b[0m\u001b[0;36m15\u001b[0m\u001b[0;34m)\u001b[0m\u001b[0;34m\u001b[0m\u001b[0;34m\u001b[0m\u001b[0m\n\u001b[1;32m     34\u001b[0m \u001b[0mplt\u001b[0m\u001b[0;34m.\u001b[0m\u001b[0mshow\u001b[0m\u001b[0;34m(\u001b[0m\u001b[0;34m)\u001b[0m\u001b[0;34m\u001b[0m\u001b[0;34m\u001b[0m\u001b[0m\n",
      "\u001b[0;32m/Library/Frameworks/Python.framework/Versions/3.7/lib/python3.7/site-packages/networkx/drawing/nx_pydot.py\u001b[0m in \u001b[0;36mgraphviz_layout\u001b[0;34m(G, prog, root)\u001b[0m\n\u001b[1;32m    266\u001b[0m     \u001b[0mThis\u001b[0m \u001b[0;32mis\u001b[0m \u001b[0ma\u001b[0m \u001b[0mwrapper\u001b[0m \u001b[0;32mfor\u001b[0m \u001b[0mpydot_layout\u001b[0m\u001b[0;34m.\u001b[0m\u001b[0;34m\u001b[0m\u001b[0;34m\u001b[0m\u001b[0m\n\u001b[1;32m    267\u001b[0m     \"\"\"\n\u001b[0;32m--> 268\u001b[0;31m     \u001b[0;32mreturn\u001b[0m \u001b[0mpydot_layout\u001b[0m\u001b[0;34m(\u001b[0m\u001b[0mG\u001b[0m\u001b[0;34m=\u001b[0m\u001b[0mG\u001b[0m\u001b[0;34m,\u001b[0m \u001b[0mprog\u001b[0m\u001b[0;34m=\u001b[0m\u001b[0mprog\u001b[0m\u001b[0;34m,\u001b[0m \u001b[0mroot\u001b[0m\u001b[0;34m=\u001b[0m\u001b[0mroot\u001b[0m\u001b[0;34m)\u001b[0m\u001b[0;34m\u001b[0m\u001b[0;34m\u001b[0m\u001b[0m\n\u001b[0m\u001b[1;32m    269\u001b[0m \u001b[0;34m\u001b[0m\u001b[0m\n\u001b[1;32m    270\u001b[0m \u001b[0;34m\u001b[0m\u001b[0m\n",
      "\u001b[0;32m/Library/Frameworks/Python.framework/Versions/3.7/lib/python3.7/site-packages/networkx/drawing/nx_pydot.py\u001b[0m in \u001b[0;36mpydot_layout\u001b[0;34m(G, prog, root)\u001b[0m\n\u001b[1;32m    314\u001b[0m     \u001b[0;31m# List of low-level bytes comprising a string in the dot language converted\u001b[0m\u001b[0;34m\u001b[0m\u001b[0;34m\u001b[0m\u001b[0;34m\u001b[0m\u001b[0m\n\u001b[1;32m    315\u001b[0m     \u001b[0;31m# from the passed graph with the passed external GraphViz command.\u001b[0m\u001b[0;34m\u001b[0m\u001b[0;34m\u001b[0m\u001b[0;34m\u001b[0m\u001b[0m\n\u001b[0;32m--> 316\u001b[0;31m     \u001b[0mD_bytes\u001b[0m \u001b[0;34m=\u001b[0m \u001b[0mP\u001b[0m\u001b[0;34m.\u001b[0m\u001b[0mcreate_dot\u001b[0m\u001b[0;34m(\u001b[0m\u001b[0mprog\u001b[0m\u001b[0;34m=\u001b[0m\u001b[0mprog\u001b[0m\u001b[0;34m)\u001b[0m\u001b[0;34m\u001b[0m\u001b[0;34m\u001b[0m\u001b[0m\n\u001b[0m\u001b[1;32m    317\u001b[0m \u001b[0;34m\u001b[0m\u001b[0m\n\u001b[1;32m    318\u001b[0m     \u001b[0;31m# Unique string decoded from these bytes with the preferred locale encoding\u001b[0m\u001b[0;34m\u001b[0m\u001b[0;34m\u001b[0m\u001b[0;34m\u001b[0m\u001b[0m\n",
      "\u001b[0;32m/Library/Frameworks/Python.framework/Versions/3.7/lib/python3.7/site-packages/pydot.py\u001b[0m in \u001b[0;36mnew_method\u001b[0;34m(f, prog, encoding)\u001b[0m\n\u001b[1;32m   1721\u001b[0m                 \u001b[0;34m\"\"\"Refer to docstring of method `create`.\"\"\"\u001b[0m\u001b[0;34m\u001b[0m\u001b[0;34m\u001b[0m\u001b[0m\n\u001b[1;32m   1722\u001b[0m                 return self.create(\n\u001b[0;32m-> 1723\u001b[0;31m                     format=f, prog=prog, encoding=encoding)\n\u001b[0m\u001b[1;32m   1724\u001b[0m             \u001b[0mname\u001b[0m \u001b[0;34m=\u001b[0m \u001b[0;34m'create_{fmt}'\u001b[0m\u001b[0;34m.\u001b[0m\u001b[0mformat\u001b[0m\u001b[0;34m(\u001b[0m\u001b[0mfmt\u001b[0m\u001b[0;34m=\u001b[0m\u001b[0mfrmt\u001b[0m\u001b[0;34m)\u001b[0m\u001b[0;34m\u001b[0m\u001b[0;34m\u001b[0m\u001b[0m\n\u001b[1;32m   1725\u001b[0m             \u001b[0mself\u001b[0m\u001b[0;34m.\u001b[0m\u001b[0m__setattr__\u001b[0m\u001b[0;34m(\u001b[0m\u001b[0mname\u001b[0m\u001b[0;34m,\u001b[0m \u001b[0mnew_method\u001b[0m\u001b[0;34m)\u001b[0m\u001b[0;34m\u001b[0m\u001b[0;34m\u001b[0m\u001b[0m\n",
      "\u001b[0;32m/Library/Frameworks/Python.framework/Versions/3.7/lib/python3.7/site-packages/pydot.py\u001b[0m in \u001b[0;36mcreate\u001b[0;34m(self, prog, format, encoding)\u001b[0m\n\u001b[1;32m   1920\u001b[0m                 args[1] = '\"{prog}\" not found in path.'.format(\n\u001b[1;32m   1921\u001b[0m                     prog=prog)\n\u001b[0;32m-> 1922\u001b[0;31m                 \u001b[0;32mraise\u001b[0m \u001b[0mOSError\u001b[0m\u001b[0;34m(\u001b[0m\u001b[0;34m*\u001b[0m\u001b[0margs\u001b[0m\u001b[0;34m)\u001b[0m\u001b[0;34m\u001b[0m\u001b[0;34m\u001b[0m\u001b[0m\n\u001b[0m\u001b[1;32m   1923\u001b[0m             \u001b[0;32melse\u001b[0m\u001b[0;34m:\u001b[0m\u001b[0;34m\u001b[0m\u001b[0;34m\u001b[0m\u001b[0m\n\u001b[1;32m   1924\u001b[0m                 \u001b[0;32mraise\u001b[0m\u001b[0;34m\u001b[0m\u001b[0;34m\u001b[0m\u001b[0m\n",
      "\u001b[0;31mFileNotFoundError\u001b[0m: [Errno 2] \"dot\" not found in path."
     ]
    },
    {
     "data": {
      "text/plain": [
       "<Figure size 1152x288 with 0 Axes>"
      ]
     },
     "metadata": {},
     "output_type": "display_data"
    }
   ],
   "source": [
    "import matplotlib.pyplot as plt\n",
    "import pydot\n",
    "from networkx.drawing.nx_pydot import graphviz_layout\n",
    "\n",
    "H= nx.DiGraph()\n",
    "\n",
    "# nodes toevoegen\n",
    "H.add_nodes_from([\"wim\", \"jaap\", \"orpa\", \"suus\", \"marion\", \"rob\", \"marijke\", \"ed\", \"kars\", \"noor\", \n",
    "                 \"koen\", \"martine\", \"dick\", \"sacha\", \"anna\", \"kim\", \"laura\", \"saar\", \"hein\", \"joana\", \"floor\", \"kim\",\n",
    "                 \"kae\", \"fe\", \"sef\", \"doris\", \"petra\", \"bert\", \"tess\", \"felice\", \"cato\", \"bien\", \"floris\", \"klaar\",\n",
    "                 \"john\", \"kees\", \"peter\", \"stijn\", \"diede\", \"lore\", \"mare\", \"billy\", \"anne\", \"sos\", \"bente\", \"frank\", \"marieke\",\n",
    "                 \"famke\", \"jasper\", \"thijs\"])\n",
    "\n",
    "# edges toevoegen\n",
    "H.add_edges_from([(\"wim\",\"marion\"), (\"marion\", \"kars\"), (\"marion\", \"noor\"), (\"rob\", \"noor\"), (\"rob\", \"kars\"),\n",
    "                 (\"jaap\", \"rob\"), (\"jaap\", \"marijke\"), (\"marijke\", \"martine\"), (\"marijke\", \"koen\"),\n",
    "                 (\"ed\", \"koen\"), (\"ed\", \"martine\"), (\"orpa\", \"marion\"), (\"suus\", \"rob\"), (\"wim\", \"dick\"), \n",
    "                  (\"orpa\", \"dick\"), (\"dick\", \"kim\"), (\"dick\", \"laura\"), (\"anna\", \"laura\"), (\"dick\", \"saar\"), \n",
    "                  (\"anna\", \"saar\"), (\"laura\", \"fe\"), (\"laura\", \"sef\"), (\"laura\", \"doris\"), (\"laura\", \"petra\"), \n",
    "                 (\"bert\", \"fe\"), (\"bert\", \"sef\"), (\"bert\", \"doris\"), (\"bert\", \"petra\"), (\"koen\", \"kae\"), \n",
    "                  (\"floor\", \"kae\"), (\"wim\", \"sacha\"), (\"orpa\", \"sacha\"), (\"hein\", \"ed\"), (\"joana\", \"ed\"), (\"anna\", \"kim\"),\n",
    "                 (\"wim\", \"tess\"), (\"orpa\", \"tess\"), (\"tess\", \"felice\"), (\"tess\", \"cato\"), (\"tess\", \"bien\"), \n",
    "                  (\"floris\", \"felice\"), (\"floris\", \"cato\"), (\"floris\", \"bien\"), (\"hein\", \"klaar\"), (\"joana\", \"klaar\"),\n",
    "                 (\"klaar\", \"kees\"), (\"klaar\", \"peter\"), (\"klaar\", \"stijn\"), (\"klaar\", \"diede\"), (\"klaar\", \"lore\"),\n",
    "                 (\"john\", \"kees\"), (\"john\", \"peter\"), (\"john\", \"stijn\"), (\"john\", \"diede\"), (\"john\",\"lore\"), (\"kees\", \"billy\"),\n",
    "                 (\"kees\",\"anne\"), (\"mare\", \"billy\"), (\"mare\",\"anne\"), (\"peter\", \"bente\"), (\"sos\", \"bente\"), (\"hein\", \"frank\"),\n",
    "                 (\"joana\", \"frank\"), (\"frank\", \"famke\"), (\"frank\", \"jasper\"), (\"marieke\", \"jasper\"), (\"marieke\", \"famke\"), (\"marieke\", \"thijs\"),\n",
    "                 (\"frank\", \"thijs\")])\n",
    "\n",
    "# figuur mooi weergeven\n",
    "plt.figure(figsize=(16,4))\n",
    "pos = graphviz_layout(H, prog=\"dot\")\n",
    "nx.draw(H, pos, with_labels=True, node_size=800, font_color=\"white\", font_size=15)\n",
    "plt.show()\n",
    "\n",
    "# Atributen M en V \n",
    "M,V= {\"wim\", \"jaap\", \"rob\", \"ed\", \"koen\", \"kars\", \"dick\", \"hein\", \"bert\", \"floris\", \"john\", \"kees\", \"peter\", \"stijn\", \"frank\", \"jasper\", \"thijs\"},{\"marion\",\"marijke\", \"noor\", \"martine\", \"orpa\", \"suus\"\n",
    "                                                      ,\"sacha\", \"anna\", \"kim\", \"laura\", \"saar\", \"joana\", \"floor\"\n",
    "                                                       , \"kim\", \"fe\", \"sef\", \"doris\", \"petra\", \"kae\", \"tess\", \"felice\", \n",
    "                                                                           \"cato\", \"bien\", \"klaar\", \"diede\", \"lore\", \"mare\", \"billy\", \"anne\", \"sos\", \"bente\", \"marieke\", \"famke\"} # de mannen en de vrouwen in dit netwerk\n",
    "for n in M:\n",
    "    H.nodes[n]['M']=True\n",
    "    H.nodes[n]['V']=False\n",
    "for n in V:\n",
    "    H.nodes[n]['V']=True\n",
    "    H.nodes[n]['M']=False    \n",
    " \n",
    "\n",
    "# \\ wat handige afkortingen om de comprehensies zo veel mogelijk op je formules te laten lijken\n",
    "G=H\n",
    "def M(x, network=G):\n",
    "    return network.nodes[x]['M']\n",
    "def V(x, network=G):\n",
    "    return network.nodes[x]['V']\n",
    "def R(x,y,network=G):\n",
    "    return network.has_edge(x,y)\n",
    "\n",
    "Moeder = {(x,y) for x in H for y in H if (R(x,y,H) and V(x, H))}\n",
    "\n",
    "Vader = {(x,y) for x in H for y in H if (R(x,y,H) and M(x, H))}\n",
    "\n",
    "\n",
    "Dochter = {(x,y) for x in H for y in H if R(y,x,H) and V(x,H)}\n",
    "\n",
    "Zoon = {(x,y) for x in H for y in H if R(y,x,H) and M(x,H)}\n",
    "\n",
    "Opa= {(x,y) for x in H for y in H if {z for z in H if R(x,z,H)} \n",
    "      & {z for z in H if R(z,y,H)} and M(x, H)}\n",
    "\n",
    "Oma= {(x,y) for x in H for y in H if {z for z in H if R(x,z,H)} \n",
    "      & {z for z in H if R(z,y,H)} and V(x, H)}\n",
    "\n",
    "Kleindochter = {(x,y) for x in H for y in H \n",
    "      if {z for z in H if R(z,x,H)} & {z for z in H if R(y,z,H)} and V(x,H)}\n",
    "\n",
    "Kleinzoon = {(x,y) for x in H for y in H \n",
    "      if {z for z in H if R(z,x,H)} & {z for z in H if R(y,z,H)} and M(x,H)}\n",
    "\n",
    "Zus = {(x,y) for x in H for y in H \n",
    "    if {z for z in H if R(z,x,H)} & {z for z in H if R(z,y,H)} and V(x,H) and x != y}\n",
    "\n",
    "Broer = {(x,y) for x in H for y in H \n",
    "    if {z for z in H if R(z,x,H)} & {z for z in H if R(z,y,H)} and M(x,H) and x != y}\n",
    "\n",
    "Tante = {(x,y) for x in H for y in H for w in H \n",
    "         if {z for z in H if R(z,x,H)} & {z for z in H if R(z,w,H)} and R(w,y,H)\n",
    "         and V(x,H) and x != w}\n",
    "\n",
    "Oom = {(x,y) for x in H for y in H for w in H \n",
    "         if {z for z in H if R(z,x,H)} & {z for z in H if R(z,w,H)} and R(w,y,H)\n",
    "         and M(x,H) and x != w}\n",
    "\n",
    "Nicht = {(v,y) for x in H for y in H for w in H for v in H\n",
    "         if {z for z in H if R(z,x,H)} & {z for z in H if R(z,w,H)} and R(w,y,H)\n",
    "         and V(v,H) and x != w and R(x,v,H)}\n",
    "\n",
    "Neef = {(v,y) for x in H for y in H for w in H for v in H\n",
    "         if {z for z in H if R(z,x,H)} & {z for z in H if R(z,w,H)} and R(w,y,H)\n",
    "         and M(v,H) and x != w and R(x,v,H)}"
   ]
  },
  {
   "cell_type": "markdown",
   "metadata": {},
   "source": [
    "# 2 Definieer LHBTQI+\n",
    "\n",
    "* OK, ga er maar aan staan. Linda probeert het op <https://www.linda.nl/nieuws/we-leggen-het-gewoon-uit-waar-staat-lhbtqi-voor/>. \n",
    "* Nu is het jullie beurt.\n",
    "* Dus neem wat primitieven, maar zo min mogelijk,\n",
    "    * Man, Vrouw, en allicht nog iets, plus logische relaties daartussen\n",
    "    * een binaire relatie $R$ die \"liefdes-relaties\" aangeeft...\n",
    "        * Jij geeft heel exact aan wat $R(x,y)$ voor jullie betekent\n",
    "    * misschien nog 1 of 2 andere primitieven\n",
    "        * Geef heel exact aan wat ze betekenen\n",
    "        \n",
    "### Let op!\n",
    "\n",
    "* Vergelijk deze 3 (echt niet equivalente) definities:\n",
    "    * Je bent een hetero als je van iemand houdt van het andere geslacht\n",
    "    * ... als je alleen maar van mensen houdt van het andere geslacht\n",
    "    * ... als je van iemand houdt van het andere geslacht **en** als je alleen maar van mensen houdt van het andere geslacht\n",
    "    * eeh, *het* andere geslacht..., is er maar 1 dan? \n",
    "* Je merkt het, je moet heel precies zijn! \n",
    "* Deze opdracht is alleen goed te doen, als jullie elkaar steeds controleren en scherp houden, en opjutten om precies te zijn of worden of blijven.\n",
    "* Maak ook steeds heldere voorbeelden/modellen, en kijk wat je definities doen op die modellen.\n",
    "    \n",
    "## Jullie opdracht\n",
    "\n",
    "* Maak net als boven een theorie voor je primitieven, en definieer alle letters (plus wat er onder de + valt) in termen van je primitieven\n",
    "* Als het echt niet lukt of kan, zal je dat echt helder moeten motiveren.\n",
    "* Maak een networkx model met van elke LHBTQI+ letter minstens 1 knoop die zo is volgens jouw definitie.\n",
    "* Geef exact aan, of mensen meerdere letters tegelijk kunnen zijn,\n",
    "    * Is iedereen nou 1 van deze letters, of zijn er ook nog andere categorieen? Welke dan? Kan je die ook definieren?"
   ]
  },
  {
   "cell_type": "markdown",
   "metadata": {},
   "source": [
    "# Uitwerking van opdracht 2\n",
    "\n",
    "* eerst in Markdown en Latex\n",
    "* dan een blok in code"
   ]
  },
  {
   "cell_type": "markdown",
   "metadata": {
    "deletable": false,
    "nbgrader": {
     "cell_type": "markdown",
     "checksum": "4b886e090ab4002a0597c5d4d28f6b61",
     "grade": true,
     "grade_id": "p21",
     "locked": false,
     "points": 10,
     "schema_version": 3,
     "solution": true
    }
   },
   "source": [
    "### 1.\n",
    "\n",
    "S(x,y) waarbij x zich seksueel aangetrokken voelt tot y <br/>\n",
    "R(x,y) waarbij x zichzelf identificeert met y <br/>\n",
    "G(x,y) waarbij x is geboren als y <br/>\n",
    "V(x) waarbij x een vrouw is <br/>\n",
    "M(x) waarbij x een man is <br/>\n",
    "\n",
    "LHBTQI+: <br/>\n",
    "L - ∀x (Lesbienne(x)  ↔ S(x, V(y)) ∧ V(x)) <br/>\n",
    "H - ∀x (Homo(x)  ↔ S(x, M(y)) ∧ M(x)) <br/>\n",
    "B -  ∀x (Bi(x)  ↔ S(x, (M(y) ∧ V(y)))) <br/>\n",
    "T - ∀x (Trans(x) ↔ (G(x, M(y)) ∧ V(x)) v (G(x, V(y)) ∧ M(x))) <br/>\n",
    "Q - ∀x (Queer(x) ↔ S(x, M(y) ∧ V(y) ∧ Lesbienne(y) ∧ Homo(y) ∧ Bi(y) ∧ Trans(y) ∧ Inter(y))) <br/>\n",
    "I - ∀x(Inter(x) ↔  G(x, M(y)) ∧ G(x, V(y))) <br/>\n",
    "+- ∀x(plus(x) ↔ ¬Lesbienne(x) ∧¬Homo(x) ∧¬Bi(x) ∧ ¬Trans(x) ∧ ¬Queer(x) ∧ ¬Inter(x) ∧\n",
    "¬((M(x) ∧ S(x,V(y))) v (V(x) ∧ S(x,M(y))))\n",
    "\n",
    "### 2.\n",
    "\n",
    "Networkx model - zie onderstaande graph \n",
    "\n",
    "### 3.\n",
    "\n",
    "Het is mogelijk om meerdere categorieën te zijn. Je zou bijvoorbeeld een transgender kunnen zijn en je seksueel aangetrokken voelen tot zowel mannen als vrouwen en dus biseksueel zijn. \n",
    "\n",
    "Dit zou je kunnen definiëren als: \n",
    "∀x (Trans(x) ∧ Bi(x) ↔ (G(x, M(y)) ∧ V(x)) v (G(x, V(y)) ∧ M(x)) ∧  S(x, (M(y) ∧ V(y))))\n",
    "\n",
    "Je zou als trans ook homo of lesbienne kunnen zijn, alleen is dan de vraag naar welk geslacht je kijkt. Dus je zou een man kunnen zijn die is geboren als vrouw. En je valt ook op vrouwen. Ben je dan lesbienne, omdat je bent geboren als vrouw en valt op vrouwen of ben je hetero, omdat je een man bent en valt op vrouwen? Je zou in ieder geval eigenlijk alleen als transgender ook nog een andere seksualiteit hebben, alleen is dat lastig te definiëren als alleen homo/hetero/lesbienne. \n"
   ]
  },
  {
   "cell_type": "code",
   "execution_count": 8,
   "metadata": {
    "deletable": false,
    "nbgrader": {
     "cell_type": "code",
     "checksum": "6febdec24499d23698d3fd53ea4d9d5e",
     "grade": true,
     "grade_id": "p22",
     "locked": false,
     "points": 10,
     "schema_version": 3,
     "solution": true
    }
   },
   "outputs": [
    {
     "data": {
      "image/png": "[encoded data removed]",
      "text/plain": [
       "<Figure size 432x288 with 1 Axes>"
      ]
     },
     "metadata": {},
     "output_type": "display_data"
    }
   ],
   "source": [
    "H = nx.DiGraph()\n",
    "\n",
    "# relaties toevoegen aan graph\n",
    "H.add_edges_from([('Lisa','Sarah'), ('Sarah','Niks'), ('Tim','Lisa'), ('Tim','Tom'), ('Tom','Clara'), ('Clara','Gijs')\n",
    "                 , ('Gijs','Pim'), ('Clara','Amy'), ('Amy','Laura'), ('Laura','Denise'), ('Denise','Niks ')\n",
    "                 , ('Laura','Koen'), ('Koen','Niks')])\n",
    "\n",
    "# graph opmaken en tekenen, waarbij voelt staat voor \"voelt als\" en seks staat voor \"seksueel aangetrokken tot\"\n",
    "pos = nx.kamada_kawai_layout(H)\n",
    "nx.draw(H, pos, with_labels = True, node_size = 500, node_color = 'lightblue', edge_color = 'darkblue')\n",
    "nx.draw_networkx_edge_labels(H, pos, edge_labels={('Lisa','Sarah'):'seks', ('Tim','Lisa'):'seks', \n",
    "                                                  ('Tim','Tom'):'seks', ('Tom','Clara'):'voelt', ('Clara','Gijs'):'seks', \n",
    "                                                  ('Gijs','Pim'):'seks',('Clara','Amy'):'seks', ('Amy','Laura'):'seks', \n",
    "                                                  ('Laura','Denise'):'voelt', ('Laura','Koen'):'voelt'})\n",
    "\n",
    "# genders toewijzen, waarbij I staat voor Inter\n",
    "M,V,I = {'Tim','Gijs','Koen', 'Pim', 'Tom'},{'Sarah','Clara','Lisa','Amy','Denise'},{'Laura'}\n",
    "\n",
    "# attributen M, V en I goed zetten\n",
    "for n in M:\n",
    "    H.nodes[n]['M']=True\n",
    "    H.nodes[n]['V']=False\n",
    "for n in V:\n",
    "    H.nodes[n]['V']=True\n",
    "    H.nodes[n]['M']=False\n",
    "for n in I:\n",
    "    H.nodes[n]['M']=True\n",
    "    H.nodes[n]['V']=True"
   ]
  },
  {
   "cell_type": "code",
   "execution_count": null,
   "metadata": {},
   "outputs": [],
   "source": []
  },
  {
   "cell_type": "code",
   "execution_count": null,
   "metadata": {},
   "outputs": [],
   "source": []
  }
 ],
 "metadata": {
  "kernelspec": {
   "display_name": "Python 3",
   "language": "python",
   "name": "python3"
  },
  "language_info": {
   "codemirror_mode": {
    "name": "ipython",
    "version": 3
   },
   "file_extension": ".py",
   "mimetype": "text/x-python",
   "name": "python",
   "nbconvert_exporter": "python",
   "pygments_lexer": "ipython3",
   "version": "3.7.4"
  },
  "toc": {
   "nav_menu": {},
   "number_sections": false,
   "sideBar": true,
   "skip_h1_title": false,
   "title_cell": "Table of Contents",
   "title_sidebar": "Contents",
   "toc_cell": true,
   "toc_position": {},
   "toc_section_display": true,
   "toc_window_display": false
  }
 },
 "nbformat": 4,
 "nbformat_minor": 2
}
