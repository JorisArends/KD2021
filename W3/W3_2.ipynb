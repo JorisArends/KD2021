{
 "cells": [
  {
   "cell_type": "markdown",
   "metadata": {
    "id": "K4KHM_nWXBim"
   },
   "source": [
    "# Assignment Kennis en Data"
   ]
  },
  {
   "cell_type": "markdown",
   "metadata": {
    "id": "agToMNW-XBiv"
   },
   "source": [
    "## Notebook made by\n",
    "\n",
    "\n",
    "|Naam|Studentnummer|\n",
    "|:-|:-|\n",
    "|Nick|secret |\n",
    "|Thomas|secret |\n",
    "|Thomas|secret |\n",
    "|Nathan|secret |\n",
    "\n",
    "## Peerreview\n",
    "\n",
    "* Vul onderstaande dict/tabel in en run de cel. Klopt het? Zijn jullie het er allemaal mee eens?\n",
    "    * Verander `1,2,3,4` door jullie studentnummers\n",
    "    * `1: {1:.2,2:.3,3:.3,4:.2}` betekent dat student 1 zijn punt zo over de 4 studenten verdeelt\n",
    "    * Let op, per student moeten de punten optellen tot 1!\n",
    "    * De gegeven punten staan in de tabel op de rijen, de ontvangen punten in de kolommen.\n",
    "    * met `cijfer_per_student` kan je bepalen welk cijfer ieder krijgt bij een gegeven groepscijfer."
   ]
  },
  {
   "cell_type": "markdown",
   "metadata": {
    "id": "a8CYPIoiXBiy"
   },
   "source": [
    "## Toelichting\n",
    "\n",
    "* De meeste opgaven worden automatisch nagekeken. Bij vrijwel alle opdrachten staan er een paar tests onder de opdracht, dit is voornamelijk om te zorgen dat je de juiste type output geeft. Dit zijn dus *NIET* alle tests, die komen er bij het graden nog bij.\n",
    "* Elke vraag is 1 punt waard, tenzij anders aangegeven. Soms is die punt onderverdeeld in deelpunten, maar niet altijd. \n",
    "\n",
    "## Voor het inleveren!\n",
    "\n",
    "* Pas niet de cellen aan, vooral niet die je niet kunt editen. Dit levert problemen op bij nakijken. Twijfel je of je per ongeluk iets hebt gewijzigd, kopieer dan bij inleveren je antwoorden naar een nieuw bestand, zodat het niet fout kan gaan.\n",
    "\n",
    "* Zorg dat de code goed runt van boven naar beneden, verifieer dat door boven in Kernel -> Restart & Run All uit te voeren\n",
    "\n",
    "## Na het inleveren!\n",
    "\n",
    "* Het gebeurt erg vaak dat mensen een \"leeg bestand\" inleveren. Vaak een andere versie van de opgave die nog ergens op je computer rondslingerde. Zonde van al je werk toch!\n",
    "* Dus, lever **minstens een half uur voor tijd in**. Download dan wat je hebt ingeleverd op Canvas. Geef het een andere naam om verwarring te voorkomen. En draai alle cellen, en bekijk het. Geen syntax fouten? Alle vragen gemaakt? Dan zit het vast wel goed, en hoef je niet in de zenuwen te zitten."
   ]
  },
  {
   "cell_type": "markdown",
   "metadata": {
    "id": "y3IZpZJSXBiz",
    "toc": true
   },
   "source": [
    "<h1>Table of Contents<span class=\"tocSkip\"></span></h1>\n",
    "<div class=\"toc\"><ul class=\"toc-item\"><li><span><a href=\"#Q1-logisch-gevolg-(4pts)\" data-toc-modified-id=\"Q1-logisch-gevolg-(4pts)-1\"><span class=\"toc-item-num\">1&nbsp;&nbsp;</span>Q1 logisch gevolg (4pts)</a></span></li><li><span><a href=\"#Q2-Vreemde-modellen-(4pts)\" data-toc-modified-id=\"Q2-Vreemde-modellen-(4pts)-2\"><span class=\"toc-item-num\">2&nbsp;&nbsp;</span>Q2 Vreemde modellen (4pts)</a></span></li><li><span><a href=\"#Q3-Conjunctieve-vragen-aan-een-netwerk-(4pts)\" data-toc-modified-id=\"Q3-Conjunctieve-vragen-aan-een-netwerk-(4pts)-3\"><span class=\"toc-item-num\">3&nbsp;&nbsp;</span>Q3 Conjunctieve vragen aan een netwerk (4pts)</a></span></li><li><span><a href=\"#Q1-logisch-gevolg\" data-toc-modified-id=\"Q1-logisch-gevolg-4\"><span class=\"toc-item-num\">4&nbsp;&nbsp;</span>Q1 logisch gevolg</a></span></li><li><span><a href=\"#Q2-Vreemde-modellen\" data-toc-modified-id=\"Q2-Vreemde-modellen-5\"><span class=\"toc-item-num\">5&nbsp;&nbsp;</span>Q2 Vreemde modellen</a></span><ul class=\"toc-item\"><li><ul class=\"toc-item\"><li><span><a href=\"#Deel-1-(2pt)\" data-toc-modified-id=\"Deel-1-(2pt)-5.0.1\"><span class=\"toc-item-num\">5.0.1&nbsp;&nbsp;</span>Deel 1 (2pt)</a></span></li><li><span><a href=\"#Deel-2-(2pt)\" data-toc-modified-id=\"Deel-2-(2pt)-5.0.2\"><span class=\"toc-item-num\">5.0.2&nbsp;&nbsp;</span>Deel 2 (2pt)</a></span></li><li><span><a href=\"#deel-1\" data-toc-modified-id=\"deel-1-5.0.3\"><span class=\"toc-item-num\">5.0.3&nbsp;&nbsp;</span>deel 1</a></span></li><li><span><a href=\"#deel-2\" data-toc-modified-id=\"deel-2-5.0.4\"><span class=\"toc-item-num\">5.0.4&nbsp;&nbsp;</span>deel 2</a></span></li></ul></li></ul></li><li><span><a href=\"#Q3-Conjunctieve-vragen-aan-een-netwerk-(4pt)\" data-toc-modified-id=\"Q3-Conjunctieve-vragen-aan-een-netwerk-(4pt)-6\"><span class=\"toc-item-num\">6&nbsp;&nbsp;</span>Q3 Conjunctieve vragen aan een netwerk (4pt)</a></span><ul class=\"toc-item\"><li><ul class=\"toc-item\"><li><ul class=\"toc-item\"><li><span><a href=\"#Eisen\" data-toc-modified-id=\"Eisen-6.0.0.1\"><span class=\"toc-item-num\">6.0.0.1&nbsp;&nbsp;</span>Eisen</a></span></li></ul></li></ul></li><li><span><a href=\"#Deel-2\" data-toc-modified-id=\"Deel-2-6.1\"><span class=\"toc-item-num\">6.1&nbsp;&nbsp;</span>Deel 2</a></span></li></ul></li></ul></div>"
   ]
  },
  {
   "cell_type": "code",
   "execution_count": 2,
   "metadata": {
    "colab": {
     "base_uri": "https://localhost:8080/",
     "height": 351
    },
    "deletable": false,
    "editable": false,
    "id": "nxRE746-XBiz",
    "nbgrader": {
     "cell_type": "code",
     "checksum": "9494647199f10186da81733238f0dcfb",
     "grade": false,
     "grade_id": "intro",
     "locked": true,
     "schema_version": 3,
     "solution": false
    },
    "outputId": "d64790ad-5d60-4946-dbaf-c94c133fbebf"
   },
   "outputs": [],
   "source": [
    "from typing import Generator\n",
    "from nose.tools import assert_equal, assert_count_equal\n",
    "import networkx as nx\n",
    "%matplotlib inline"
   ]
  },
  {
   "cell_type": "markdown",
   "metadata": {
    "deletable": false,
    "editable": false,
    "id": "EUP-OYspXBi0",
    "nbgrader": {
     "cell_type": "markdown",
     "checksum": "a406ab219b4af084226b62988a10219e",
     "grade": false,
     "grade_id": "intro2",
     "locked": true,
     "schema_version": 3,
     "solution": false
    }
   },
   "source": [
    "# Q1 logisch gevolg (4pts)\n",
    "\n",
    "* Je maakt een Python programma waaraan je een verzameling premissen $\\Sigma$ en een conclusie $\\phi$ in propositielogische formules geeft en die teruggeeft of $\\Sigma\\models\\phi$. \n",
    "    * In het geval van niet geef je een (of alle) tegenvoorbeelden terug.\n",
    "    \n",
    "# Q2 Vreemde modellen (4pts)\n",
    "\n",
    "* Je maakt vreemde modellen voor je netwerk van familierelaties. Modellen die wel mogen, maar in het echt niet of vrijwel nooit voorkomen. \n",
    "* Daarna probeer je die met logische formules te verbieden. Je verzint dus zinnen die *niet waar* zijn op die ongewenste modellen.\n",
    "\n",
    "# Q3 Conjunctieve vragen aan een netwerk (4pts)\n",
    "\n",
    "* Een netwerk met feiten (en regels) is natuurlijk ook een database (of een *triple store*), en wat doen we met dat soort dingen? We stellen er vragen aan, en krijgen dan antwoord. Normaal doe je dat in SQL. In deze cursus leer je hoe je dat doet in SPARQL. Later bij Data Science leer je hoe je dat doet met `pandas`. \n",
    "* De preciese taal maakt niet, de meeste vragen die je stelt in je leven (en alle andere mensen op aarde) zijn zogenaamde *conjunctive queries*: eerste orde formules van de vorm $\\exists \\bar{x} (\\bigwedge R(x_i,x_j))$. \n",
    "    * OK OK, je gebruikt ook nog wel eens het connectief \"of\", maar dat is makkelijk toe te voegen aanje programma als je dit hebt.\n",
    "        * (want je kunt alle \"of\"s naar buiten brengen, en dan heb je dus een grote disjunctie van CQs.\n",
    "        * die draai je allemaal achter (of naast) elkaar, en neemt de vereniging van de antwoorden.\n",
    "        * Probeer maar eens een voorbeeld\n",
    "* Bijvoorbeeld, \"wie zijn de grootouders van Henkie?\" wordt dan  $\\exists z (R(x,z) \\wedge R(z,\"Henkie\"))$. Je kunt dat zelf vast prima in SQL en volgende week in SPARQL zeggen."
   ]
  },
  {
   "cell_type": "markdown",
   "metadata": {
    "deletable": false,
    "editable": false,
    "id": "ccJccdAvXBi0",
    "nbgrader": {
     "cell_type": "markdown",
     "checksum": "fb3131489d9ba97c1ef0a560cefc9b13",
     "grade": false,
     "grade_id": "q1",
     "locked": true,
     "schema_version": 3,
     "solution": false
    }
   },
   "source": [
    "# Q1 logisch gevolg\n",
    "\n",
    "* We werken met de [sympy module](https://docs.sympy.org/latest/modules/logic.html). Dat is erg handig. Neem hem eerst goed door en speel er wat mee.\n",
    "* In de cel hieronder vind je een handige routine.\n",
    "* Je gebruikt natuurlijk  de definitie van $\\Sigma\\models\\phi$, van logisch gevolg dus.\n",
    "* En daarvoor is de `sympy` routine `satisfiable` best handig....\n",
    "* De tests in de antwoord cel gaven bij mij dit:\n",
    "<pre>\n",
    "{p, q | ~p} q True\n",
    "{q, q | ~p} p [{q: True, p: False}]\n",
    "{q, Implies(p, q)} p {q: True, p: False}\n",
    "{q & (r | s), Implies(p, q)} p [{q: True, r: True, s: True, p: False}, {q: True, r: True, s: False, p: False}, {q: True, s: True, r: False, p: False}]\n",
    "WARNING: All proposition letters in the Conclusion should occur in some formula of the Premisses.\n",
    "</pre>"
   ]
  },
  {
   "cell_type": "code",
   "execution_count": 3,
   "metadata": {
    "deletable": false,
    "editable": false,
    "id": "TsqZSnwFXBi1",
    "nbgrader": {
     "cell_type": "code",
     "checksum": "8551e7a976aee50c8586cc3f40810fba",
     "grade": false,
     "grade_id": "q1c",
     "locked": true,
     "schema_version": 3,
     "solution": false
    }
   },
   "outputs": [
    {
     "data": {
      "text/latex": [
       "$\\displaystyle p \\wedge \\left(p \\vee \\left(p \\wedge q\\right)\\right) \\wedge \\left(q \\vee \\neg p\\right)$"
      ],
      "text/plain": [
       "p & (q | ~p) & (p | (p & q))"
      ]
     },
     "execution_count": 3,
     "metadata": {},
     "output_type": "execute_result"
    }
   ],
   "source": [
    "from sympy import *\n",
    "from sympy.logic.inference import satisfiable\n",
    "\n",
    "p,q,r,s,t = symbols('p q r s t')\n",
    "\n",
    "def maakconjunctie(P):\n",
    "    '''Creates a conjunction from a set or list of formulas.'''\n",
    "    P=list(P)\n",
    "    if P:\n",
    "        return P[0]&maakconjunctie(P[1:])\n",
    "    else:\n",
    "        return True\n",
    "#test\n",
    "maakconjunctie({p, ~p |q, p|(p&q)})    "
   ]
  },
  {
   "cell_type": "code",
   "execution_count": 4,
   "metadata": {
    "deletable": false,
    "id": "nPLQTySVXBi2",
    "nbgrader": {
     "cell_type": "code",
     "checksum": "d6def210c05805c9f0f4424f2037b2f8",
     "grade": false,
     "grade_id": "q1a",
     "locked": false,
     "schema_version": 3,
     "solution": true
    }
   },
   "outputs": [
    {
     "name": "stdout",
     "output_type": "stream",
     "text": [
      "{q | ~p, p} q True\n",
      "{q, q | ~p} p [{q: True, p: False}]\n",
      "{q, Implies(p, q)} p {q: True, p: False}\n",
      "{q, r | s, Implies(p, q)} p [{q: True, r: True, s: True, p: False}, {q: True, r: True, s: False, p: False}, {q: True, s: True, r: False, p: False}]\n",
      "WARNING: All proposition letters in the Conclusion should occur in some formula of the Premisses.\n"
     ]
    }
   ],
   "source": [
    "def implies(Premisses, Conclusion, allmodels=False):\n",
    "    '''Return True if Conclusion follows from Premisses, \n",
    "    return a (or all) countermodel(s) otherwise. '''\n",
    "    P= maakconjunctie(Premisses)\n",
    "\n",
    "    if not Conclusion.atoms().issubset(P.atoms()):\n",
    "        print('WARNING: All proposition letters in the Conclusion should occur in some formula of the Premisses.')\n",
    "    else:   \n",
    "        # check for counter models\n",
    "        counter_models = [model for model in satisfiable(~(P >> Conclusion), all_models=True) if model]\n",
    "        # return True if there are no counter models            \n",
    "        if not counter_models:\n",
    "            return True\n",
    "        # return just one counter model if allmodels=false\n",
    "        if not allmodels:\n",
    "            return counter_models[0]\n",
    "        return counter_models\n",
    "\n",
    "     \n",
    "# TEST\n",
    "P= {~p|q,p}\n",
    "C= q   \n",
    "\n",
    "print(P, C, implies(P,C, allmodels=True ))\n",
    "P= {~p|q,q}\n",
    "C= p   \n",
    "\n",
    "print(P, C, implies(P,C, allmodels=True ))\n",
    "\n",
    "P= {p>>q,q}  # andere manier om implicatie te schrijven\n",
    "C= p   \n",
    "\n",
    "print(P, C, implies(P,C))\n",
    "\n",
    "P= {p>>q,q,(r|s)}  # andere manier om implicatie te schrijven\n",
    "C= p \n",
    "\n",
    "print(P, C, implies(P,C, allmodels=True ))\n",
    "P= {p>>q,q}  # andere manier om implicatie te schrijven\n",
    "C= r\n",
    "\n",
    "implies(P,C) # Dit geeft een error. Probeer het ook zelf"
   ]
  },
  {
   "cell_type": "code",
   "execution_count": 5,
   "metadata": {
    "deletable": false,
    "editable": false,
    "id": "isoZy8h5XBi3",
    "nbgrader": {
     "cell_type": "code",
     "checksum": "5b33c7c17b5accedae26816698100cf8",
     "grade": true,
     "grade_id": "q1t",
     "locked": true,
     "points": 4,
     "schema_version": 3,
     "solution": false
    }
   },
   "outputs": [],
   "source": [
    "assert_equal(type(implies({p},p)), bool)\n",
    "assert_equal(type(implies({p|q},p)), dict)\n",
    "assert_equal(type(implies({p|q},p, allmodels=True)), list)\n"
   ]
  },
  {
   "cell_type": "markdown",
   "metadata": {
    "deletable": false,
    "editable": false,
    "id": "5TyfPMJpXBi3",
    "nbgrader": {
     "cell_type": "markdown",
     "checksum": "2f83bbf70121d5ca0b4bb19e093f92a9",
     "grade": false,
     "grade_id": "q2",
     "locked": true,
     "schema_version": 3,
     "solution": false
    }
   },
   "source": [
    "# Q2 Vreemde modellen\n",
    "\n",
    "### Deel 1 (2pt)\n",
    "1. Je maakt vreemde modellen voor je netwerk van familierelaties. Modellen die wel mogen, maar in het echt niet of vrijwel nooit voorkomen. \n",
    "2. Daarna probeer je die met logische formules te verbieden. Je verzint dus zinnen die *niet waar* zijn op die ongewenste modellen.\n",
    "\n",
    "In ieder geval verzin je zinnen die de volgende vijf modellen verbieden (die soort $\\Sigma$ bij een knoop is eigenlijk een M en staat voor Man. Gebruik dus weer de predicaatlogische relaties $R,M,V$ in die zinnen, en niks anders. Geef duidelijk aan welk model je met welke zin verbiedt.\n",
    "\n",
    "![](vreemd.jpg)\n",
    "\n",
    "### Deel 2 (2pt)\n",
    "\n",
    "Ga nu verder en verzin nog meer modellen die je zou willen verbieden. Misschien vindt je er wel oneindig veel! Kan je daar een zin die die allemaal verbiedt voor vinden? Kan je het met oneindig veel zinnen? Geef ze!\n",
    "\n",
    "**Je antwoorden zijn keurige Latex formules, en natuurlijk wel gevormd, met nette haakjes etc.**\n",
    "\n",
    "**Voor je modellen, maak je plaatjes in netwerkx, met de hand, of iets anders, als het maar heel duidelijk is (en dus niet zo als die in deze opgave ;-)**"
   ]
  },
  {
   "cell_type": "markdown",
   "metadata": {
    "deletable": false,
    "id": "kwAvoK3GXBi4",
    "nbgrader": {
     "cell_type": "markdown",
     "checksum": "405fa2c00f2ea1f1b2a314950eed1629",
     "grade": true,
     "grade_id": "q2a",
     "locked": false,
     "points": 4,
     "schema_version": 3,
     "solution": true
    }
   },
   "source": [
    "### Deel 1\n",
    "De volgorde gaat van boven naar beneden en van links naar rechts over de afbeeling. Overal waar \"zijn\" staat kan uiteraard ook \"haar\" staan, in het geval het over een moeder- of dochterrelatie gaat.<br>\n",
    "1. Niemand kan twee vaders hebben. Dit komt in het echt wel voor, maar voor dit gesimuleerde universum is het onmogelijk.<br>\n",
    "$\\forall xy(\\exists z (R(x,z) \\wedge R(y,z) \\rightarrow \\neg (Mx \\wedge My) ))$\n",
    "2. Niemand is een ouder van zichzelf.<br>\n",
    "$\\forall x(\\neg R(x,x))$\n",
    "3. Niemand is de ouder van zijn kleinkind.<br>\n",
    "$\\forall xyz(R(x,y) \\wedge R(y,z) \\rightarrow \\neg R(x,z))$\n",
    "4. Niemand is de ouder van zijn opa.<br>\n",
    "$\\forall xyz(R(x,y) \\wedge R(y,z) \\rightarrow \\neg R(z,x))$\n",
    "5. Niemand is de ouder van zijn ouder.<br>\n",
    "$\\forall xy(R(x,y) \\rightarrow \\neg R(y,x))$\n",
    "\n",
    "### Deel 2\n",
    "1. De modellen van 3, 4 en 5 zijn allemaal oneindig lang door te trekken. In een model waarbij er bijvoorbeeld 7 generaties tussen zitten in plaats van 1 zoals bij de bovengenoemde modellen, kan iemand dus niet zomaar opeens de ouder zijn van zijn zoveelste overgrootouder. In de onderstaande codecel valt er bij functie \"nummer_een\" een getal in te voeren, vervolgens wordt er een model gemaakt van een stamboom waarin het $N$'ste kleinkind de ouder is van de absolute voorouder, in dit geval weergegeven door $Eerste$. Uiteraard is de uitkomst nogal een anticlimax, aangezien de stamboom een cirkel is geworden...<br>\n",
    "\n",
    "2. Een andere beperking die oneindig doorgetrokken kan worden is het hebben van meer dan twee ouders. Het is namelijk niet mogelijk om zomaar een derde node toe te voegen aan de bestaande $R(x,y)$ tuple. In de codecel staat ook een functie genaamd \"nummer_twee\", hier wordt een model gemaakt van een kind met $N$ hoeveelheid ouders. Deze stamboom wordt meer een ster dan een cirkel en werkt net zoals \"nummer_een\" voor elke hele hoeveelheid mensen. <br>"
   ]
  },
  {
   "cell_type": "code",
   "execution_count": 6,
   "metadata": {
    "colab": {
     "base_uri": "https://localhost:8080/",
     "height": 317
    },
    "id": "n3j9Tvfi7g9U",
    "outputId": "c8b6ce9e-59c0-4d16-d430-4ecee5f82673"
   },
   "outputs": [
    {
     "data": {
      "image/png": "[encoded data removed]",
      "text/plain": [
       "<Figure size 432x288 with 1 Axes>"
      ]
     },
     "metadata": {},
     "output_type": "display_data"
    }
   ],
   "source": [
    "def nummer_een(x):\n",
    "    Lijst = list(range(2, x))\n",
    "    G = nx.DiGraph()\n",
    "    G.add_node(\"Eerste\")\n",
    "    G.add_nodes_from(Lijst)\n",
    "    for node in Lijst:\n",
    "        G.add_edge(node, node+1)\n",
    "    G.add_edges_from([(x, \"Eerste\"), (\"Eerste\", 2)])\n",
    "    nx.draw_kamada_kawai(G, with_labels=True)\n",
    "    return  \n",
    "\n",
    "nummer_een(9)"
   ]
  },
  {
   "cell_type": "code",
   "execution_count": 7,
   "metadata": {},
   "outputs": [
    {
     "data": {
      "image/png": "[encoded data removed]",
      "text/plain": [
       "<Figure size 432x288 with 1 Axes>"
      ]
     },
     "metadata": {},
     "output_type": "display_data"
    }
   ],
   "source": [
    "def nummer_twee(x):\n",
    "    Lijst = list(range(1, x))\n",
    "    H = nx.DiGraph()\n",
    "    H.add_node(\"Kiddo\")\n",
    "    H.add_nodes_from(Lijst)\n",
    "    for node in Lijst:\n",
    "        H.add_edge(node, \"Kiddo\")\n",
    "    nx.draw_kamada_kawai(H, with_labels=True)\n",
    "    return\n",
    "\n",
    "nummer_twee(9)"
   ]
  },
  {
   "cell_type": "markdown",
   "metadata": {
    "deletable": false,
    "editable": false,
    "id": "sWYm_E7MXBi4",
    "nbgrader": {
     "cell_type": "markdown",
     "checksum": "e5e94e8ec57a4c8bac0a5d470b76590f",
     "grade": false,
     "grade_id": "q3",
     "locked": true,
     "schema_version": 3,
     "solution": false
    }
   },
   "source": [
    "# Q3 Conjunctieve vragen aan een netwerk (4pt)\n",
    "\n",
    "* Een netwerk met feiten (en regels) is natuurlijk ook een database (of een *triple store*), en wat doen we met dat soort dingen? We stellen er vragen aan, en krijgen dan antwoord. Normaal doe je dat in SQL. In deze cursus leer je hoe je dat doet in SPARQL. Later bij Data Science leer je hoe je dat doet met `pandas`. \n",
    "* De preciese taal maakt niet, de meeste vragen die je stelt in je leven (en alle andere mensen op aarde) zijn zogenaamde *conjunctive queries*: eerste orde formules van de vorm $\\exists \\bar{x} (\\bigwedge R(x_i,x_j))$. \n",
    "* Bijvoorbeeld, \"wie zijn de grootouders van Henkie?\" wordt dan  $\\exists z (R(x,z) \\wedge R(z,\"Henkie\"))$. Je kunt dat zelf vast prima in SQL en volgende week in SPARQL zeggen.\n",
    "* Een *conjucntieve query* kan je ook zien als een netwerk! Als een voorbeeld netwerkje.\n",
    "    * $R(x,y)\\wedge R(y,z) \\wedge R(x,z)$ vraagt om alle \"driehoekjes\"\n",
    "    * Dat kan ik ook zeggen als dit netwerk (ja ik weet dat dit ongericht is, en wij alles gericht doen, maar dat laat ik aan jullie over)\n",
    "<pre>\n",
    "A = nx.Graph()\n",
    "A.add_edges_from([('x','y'),('x','z'),('x','z')])\n",
    "</pre>\n",
    "* Het **antwoord** op deze vraag gegeven een netwerk `M` is dan alle deelnetwerken van `M` die isomorf zijn met `A` (plus natuurlijk hoe de knopen in `M` dan gematched worden met de \"knopen\" (= variabelen) in `A`.\n",
    "* Programmeer dit in networkx.\n",
    "* Het antwoord is verbazend simpel, uiteindelijk. Denk eerst na, ga dan gericht zoeken!\n",
    "\n",
    "#### Eisen\n",
    "* `CQ` kan werken op `nx.Digraphs` met boolse attributen op de knopen, en 1 relatie. \n",
    "* Dus vergelijkbaar met je ouder database (maar dan heb je twee boolse attributen). Je hebt dus een attribuut voor elke 1 plaatsige relatie.\n",
    "* Je kan ervan uitgaan dat de query graaf altijd in de \"taal\" geschreven is van de model graaf.\n",
    "* Let op: je hoeft de projectie niet te doen in CQ. Dus je vraag is  altijd  equivalent aan een een conjunctie van atomen (dus zonder existentiele quantifier (dat is namelijk de projectie in DB termen)).\n",
    "\n",
    "## Deel 2\n",
    "\n",
    "* Hoe kostbaar is deze manier van vragen beantwoorden? \n",
    "    * Probeer het eens uit te rekenen als functie van  het aantal knopen in het Model netwerk en in het vraag netwerk. \n",
    "    * Heftig?\n",
    "    * Zou het beter kunnen?\n",
    "    * Zou het echt beter kunnen?\n",
    "    * Zoek eens op hoe lastig dit probleem eigenlijk is. Had je niet gedacht he?\n"
   ]
  },
  {
   "cell_type": "code",
   "execution_count": 8,
   "metadata": {
    "id": "9fEzZ5r-XBi4"
   },
   "outputs": [
    {
     "data": {
      "image/png": "[encoded data removed]",
      "text/plain": [
       "<Figure size 432x288 with 1 Axes>"
      ]
     },
     "metadata": {},
     "output_type": "display_data"
    }
   ],
   "source": [
    "G= nx.karate_club_graph()\n",
    "# nx.draw_networkx(G)\n",
    "\n",
    "# Geef me alle driehoekjes in G. Ik vond 270 verschillende.\n",
    "A = nx.DiGraph()\n",
    "A.add_edges_from([('x','y'),('x','z'),('y','z')])\n",
    "nx.draw_networkx(A)"
   ]
  },
  {
   "cell_type": "code",
   "execution_count": 9,
   "metadata": {
    "deletable": false,
    "id": "FIR-kCuTXBi6",
    "nbgrader": {
     "cell_type": "code",
     "checksum": "4f8f0c4aee793c8fc304c59497077e77",
     "grade": false,
     "grade_id": "q3a",
     "locked": false,
     "schema_version": 3,
     "solution": true
    }
   },
   "outputs": [
    {
     "name": "stdout",
     "output_type": "stream",
     "text": [
      "270\n",
      "270\n"
     ]
    }
   ],
   "source": [
    "def combinationsfunction(queryNodes, modelNodes):\n",
    "    combinations = list()\n",
    "    arr = list()\n",
    "    modelNodes = [node for node in modelNodes]\n",
    "    def recursion(k, nodes,modelNodes):\n",
    "        if(k == 0):\n",
    "            list = [x for x in arr]\n",
    "            combinations.append([modelNodes[o] for o in list])\n",
    "            arr.pop()\n",
    "        else:\n",
    "            for x in range(len(nodes)):\n",
    "                arr.append(nodes[x])\n",
    "                recursion(k-1, nodes,modelNodes)\n",
    "            if(len(arr) != 0):\n",
    "                arr.pop()\n",
    "        return 'done'\n",
    "    \n",
    "    recursion(len(queryNodes), range(len(modelNodes)), modelNodes);        \n",
    "    return combinations\n",
    "    \n",
    "def createMapping(query, combinations, graph):\n",
    "    variables = sorted({x for y in query for x in y })\n",
    "    variable_map = {x:variables.index(x) for x in variables}\n",
    "    edges = graph.edges()\n",
    "    applicables = list();\n",
    "    for combination in combinations:\n",
    "        result_dict = dict()\n",
    "        for relation in query:\n",
    "            if ((combination[variable_map[relation[0]]], combination[variable_map[relation[1]]]) in edges):\n",
    "                result_dict[relation] = True\n",
    "            else:\n",
    "                result_dict[relation] = False\n",
    "        if len([i for i in result_dict.values() if i != True]) == 0:\n",
    "            applicables.append({variables[i]:combination[i] for i in range(len(variables))})\n",
    "    return applicables\n",
    "    \n",
    "\n",
    "def CQ(Model,Query):\n",
    "    '''Returns a generator of dicts, where each dict is a bijective mapping from  nodes in Model\n",
    "    to all nodes in  Query.\n",
    "    The keys are the model nodes.\n",
    "    The set of dict values equals the set of nodes of Query.\n",
    "    The generator returns all answers to the Query on this Model.'''\n",
    "    queryNodes = Query.nodes()\n",
    "    modelNodes = Model.nodes()\n",
    "    query = Query.edges();\n",
    "    combinations = combinationsfunction(queryNodes,modelNodes)\n",
    "    mapping = createMapping(query, combinations, Model) \n",
    "    for i in [{y:x for x,y in i.items()} for i in mapping]:\n",
    "        yield i\n",
    "\n",
    "# na het handmatig geprogrammeerd te hebben, zijn we toch nog op de kant-en-klare functie gestuit\n",
    "def CQ2(Model,Query):\n",
    "    '''Returns a generator of dicts, where each dict is a bijective mapping from  nodes in Model\n",
    "    to all nodes in  Query.\n",
    "    The keys are the model nodes.\n",
    "    The set of dict values equals the set of nodes of Query.\n",
    "    The generator returns all answers to the Query on this Model.'''\n",
    "    return nx.isomorphism.GraphMatcher(Model.to_undirected(), Query.to_undirected()).subgraph_isomorphisms_iter()\n",
    "    \n",
    "#test\n",
    "print(len(list(CQ(G,A))))\n",
    "print(len(list(CQ2(G,A))))\n",
    "\n",
    "for i in list(CQ(G,A)):\n",
    "    if i not in list(CQ2(G,A)):\n",
    "        print('CQ1 en CQ2 zijn niet dezelfde generatoren')\n",
    "\n",
    "# for antwoord in CQ(G,A):\n",
    "#     print(antwoord)\n",
    "# for antwoord in CQ2(G,A):\n",
    "#     print(antwoord)"
   ]
  },
  {
   "cell_type": "code",
   "execution_count": 10,
   "metadata": {
    "deletable": false,
    "editable": false,
    "id": "Lcys1UA2XBi6",
    "nbgrader": {
     "cell_type": "code",
     "checksum": "d307aef902ce9c06e013de81136efd9e",
     "grade": true,
     "grade_id": "q3t",
     "locked": true,
     "points": 4,
     "schema_version": 3,
     "solution": false
    }
   },
   "outputs": [],
   "source": [
    "assert isinstance(CQ(G,A),Generator)\n"
   ]
  }
 ],
 "metadata": {
  "colab": {
   "collapsed_sections": [],
   "name": "AssignmentWeek3.ipynb",
   "provenance": []
  },
  "kernelspec": {
   "display_name": "Python 3",
   "language": "python",
   "name": "python3"
  },
  "language_info": {
   "codemirror_mode": {
    "name": "ipython",
    "version": 3
   },
   "file_extension": ".py",
   "mimetype": "text/x-python",
   "name": "python",
   "nbconvert_exporter": "python",
   "pygments_lexer": "ipython3",
   "version": "3.7.4"
  },
  "toc": {
   "nav_menu": {},
   "number_sections": true,
   "sideBar": true,
   "skip_h1_title": false,
   "title_cell": "Table of Contents",
   "title_sidebar": "Contents",
   "toc_cell": true,
   "toc_position": {},
   "toc_section_display": true,
   "toc_window_display": false
  }
 },
 "nbformat": 4,
 "nbformat_minor": 1
}
