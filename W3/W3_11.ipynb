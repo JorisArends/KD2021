{
 "cells": [
  {
   "cell_type": "markdown",
   "metadata": {},
   "source": [
    "# Assignment Kennis en Data"
   ]
  },
  {
   "cell_type": "markdown",
   "metadata": {},
   "source": [
    "## Notebook made by\n",
    "\n",
    "\n",
    "|Naam|Studentnummer|\n",
    "|-|-|\n",
    "|Sander|secret|\n",
    "|Sem|secret|\n",
    "|Sam|secret|\n",
    "|Agaath|secret |\n",
    "\n",
    "## Peerreview\n",
    "\n",
    "* Vul onderstaande dict/tabel in en run de cel. Klopt het? Zijn jullie het er allemaal mee eens?\n",
    "    * Verander `1,2,3,4` door jullie studentnummers\n",
    "    * `1: {1:.2,2:.3,3:.3,4:.2}` betekent dat student 1 zijn punt zo over de 4 studenten verdeelt\n",
    "    * Let op, per student moeten de punten optellen tot 1!\n",
    "    * De gegeven punten staan in de tabel op de rijen, de ontvangen punten in de kolommen.\n",
    "    * met `cijfer_per_student` kan je bepalen welk cijfer ieder krijgt bij een gegeven groepscijfer."
   ]
  },
  {
   "cell_type": "markdown",
   "metadata": {},
   "source": [
    "## Toelichting\n",
    "\n",
    "* De meeste opgaven worden automatisch nagekeken. Bij vrijwel alle opdrachten staan er een paar tests onder de opdracht, dit is voornamelijk om te zorgen dat je de juiste type output geeft. Dit zijn dus *NIET* alle tests, die komen er bij het graden nog bij.\n",
    "* Elke vraag is 1 punt waard, tenzij anders aangegeven. Soms is die punt onderverdeeld in deelpunten, maar niet altijd. \n",
    "\n",
    "## Voor het inleveren!\n",
    "\n",
    "* Pas niet de cellen aan, vooral niet die je niet kunt editen. Dit levert problemen op bij nakijken. Twijfel je of je per ongeluk iets hebt gewijzigd, kopieer dan bij inleveren je antwoorden naar een nieuw bestand, zodat het niet fout kan gaan.\n",
    "\n",
    "* Zorg dat de code goed runt van boven naar beneden, verifieer dat door boven in Kernel -> Restart & Run All uit te voeren\n",
    "\n",
    "## Na het inleveren!\n",
    "\n",
    "* Het gebeurt erg vaak dat mensen een \"leeg bestand\" inleveren. Vaak een andere versie van de opgave die nog ergens op je computer rondslingerde. Zonde van al je werk toch!\n",
    "* Dus, lever **minstens een half uur voor tijd in**. Download dan wat je hebt ingeleverd op Canvas. Geef het een andere naam om verwarring te voorkomen. En draai alle cellen, en bekijk het. Geen syntax fouten? Alle vragen gemaakt? Dan zit het vast wel goed, en hoef je niet in de zenuwen te zitten."
   ]
  },
  {
   "cell_type": "markdown",
   "metadata": {
    "toc": true
   },
   "source": [
    "<h1>Table of Contents<span class=\"tocSkip\"></span></h1>\n",
    "<div class=\"toc\"><ul class=\"toc-item\"><li><span><a href=\"#Q1-logisch-gevolg-(4pts)\" data-toc-modified-id=\"Q1-logisch-gevolg-(4pts)-1\"><span class=\"toc-item-num\">1&nbsp;&nbsp;</span>Q1 logisch gevolg (4pts)</a></span></li><li><span><a href=\"#Q2-Vreemde-modellen-(4pts)\" data-toc-modified-id=\"Q2-Vreemde-modellen-(4pts)-2\"><span class=\"toc-item-num\">2&nbsp;&nbsp;</span>Q2 Vreemde modellen (4pts)</a></span></li><li><span><a href=\"#Q3-Conjunctieve-vragen-aan-een-netwerk-(4pts)\" data-toc-modified-id=\"Q3-Conjunctieve-vragen-aan-een-netwerk-(4pts)-3\"><span class=\"toc-item-num\">3&nbsp;&nbsp;</span>Q3 Conjunctieve vragen aan een netwerk (4pts)</a></span></li><li><span><a href=\"#Q1-logisch-gevolg\" data-toc-modified-id=\"Q1-logisch-gevolg-4\"><span class=\"toc-item-num\">4&nbsp;&nbsp;</span>Q1 logisch gevolg</a></span></li><li><span><a href=\"#Q2-Vreemde-modellen\" data-toc-modified-id=\"Q2-Vreemde-modellen-5\"><span class=\"toc-item-num\">5&nbsp;&nbsp;</span>Q2 Vreemde modellen</a></span><ul class=\"toc-item\"><li><ul class=\"toc-item\"><li><span><a href=\"#Deel-1-(2pt)\" data-toc-modified-id=\"Deel-1-(2pt)-5.0.1\"><span class=\"toc-item-num\">5.0.1&nbsp;&nbsp;</span>Deel 1 (2pt)</a></span></li><li><span><a href=\"#Deel-2-(2pt)\" data-toc-modified-id=\"Deel-2-(2pt)-5.0.2\"><span class=\"toc-item-num\">5.0.2&nbsp;&nbsp;</span>Deel 2 (2pt)</a></span></li><li><span><a href=\"#deel-1\" data-toc-modified-id=\"deel-1-5.0.3\"><span class=\"toc-item-num\">5.0.3&nbsp;&nbsp;</span>deel 1</a></span></li><li><span><a href=\"#deel-2\" data-toc-modified-id=\"deel-2-5.0.4\"><span class=\"toc-item-num\">5.0.4&nbsp;&nbsp;</span>deel 2</a></span></li></ul></li></ul></li><li><span><a href=\"#Q3-Conjunctieve-vragen-aan-een-netwerk-(4pt)\" data-toc-modified-id=\"Q3-Conjunctieve-vragen-aan-een-netwerk-(4pt)-6\"><span class=\"toc-item-num\">6&nbsp;&nbsp;</span>Q3 Conjunctieve vragen aan een netwerk (4pt)</a></span><ul class=\"toc-item\"><li><ul class=\"toc-item\"><li><ul class=\"toc-item\"><li><span><a href=\"#Eisen\" data-toc-modified-id=\"Eisen-6.0.0.1\"><span class=\"toc-item-num\">6.0.0.1&nbsp;&nbsp;</span>Eisen</a></span></li></ul></li></ul></li><li><span><a href=\"#Deel-2\" data-toc-modified-id=\"Deel-2-6.1\"><span class=\"toc-item-num\">6.1&nbsp;&nbsp;</span>Deel 2</a></span></li></ul></li></ul></div>"
   ]
  },
  {
   "cell_type": "code",
   "execution_count": 7,
   "metadata": {
    "deletable": false,
    "editable": false,
    "nbgrader": {
     "cell_type": "code",
     "checksum": "9494647199f10186da81733238f0dcfb",
     "grade": false,
     "grade_id": "intro",
     "locked": true,
     "schema_version": 3,
     "solution": false
    }
   },
   "outputs": [],
   "source": [
    "from typing import Generator\n",
    "from nose.tools import assert_equal, assert_count_equal\n",
    "import networkx as nx\n",
    "%matplotlib inline"
   ]
  },
  {
   "cell_type": "markdown",
   "metadata": {
    "deletable": false,
    "editable": false,
    "nbgrader": {
     "cell_type": "markdown",
     "checksum": "a406ab219b4af084226b62988a10219e",
     "grade": false,
     "grade_id": "intro2",
     "locked": true,
     "schema_version": 3,
     "solution": false
    }
   },
   "source": [
    "# Q1 logisch gevolg (4pts)\n",
    "\n",
    "* Je maakt een Python programma waaraan je een verzameling premissen $\\Sigma$ en een conclusie $\\phi$ in propositielogische formules geeft en die teruggeeft of $\\Sigma\\models\\phi$. \n",
    "    * In het geval van niet geef je een (of alle) tegenvoorbeelden terug.\n",
    "    \n",
    "# Q2 Vreemde modellen (4pts)\n",
    "\n",
    "* Je maakt vreemde modellen voor je netwerk van familierelaties. Modellen die wel mogen, maar in het echt niet of vrijwel nooit voorkomen. \n",
    "* Daarna probeer je die met logische formules te verbieden. Je verzint dus zinnen die *niet waar* zijn op die ongewenste modellen.\n",
    "\n",
    "# Q3 Conjunctieve vragen aan een netwerk (4pts)\n",
    "\n",
    "* Een netwerk met feiten (en regels) is natuurlijk ook een database (of een *triple store*), en wat doen we met dat soort dingen? We stellen er vragen aan, en krijgen dan antwoord. Normaal doe je dat in SQL. In deze cursus leer je hoe je dat doet in SPARQL. Later bij Data Science leer je hoe je dat doet met `pandas`. \n",
    "* De preciese taal maakt niet, de meeste vragen die je stelt in je leven (en alle andere mensen op aarde) zijn zogenaamde *conjunctive queries*: eerste orde formules van de vorm $\\exists \\bar{x} (\\bigwedge R(x_i,x_j))$. \n",
    "    * OK OK, je gebruikt ook nog wel eens het connectief \"of\", maar dat is makkelijk toe te voegen aanje programma als je dit hebt.\n",
    "        * (want je kunt alle \"of\"s naar buiten brengen, en dan heb je dus een grote disjunctie van CQs.\n",
    "        * die draai je allemaal achter (of naast) elkaar, en neemt de vereniging van de antwoorden.\n",
    "        * Probeer maar eens een voorbeeld\n",
    "* Bijvoorbeeld, \"wie zijn de grootouders van Henkie?\" wordt dan  $\\exists z (R(x,z) \\wedge R(z,\"Henkie\"))$. Je kunt dat zelf vast prima in SQL en volgende week in SPARQL zeggen."
   ]
  },
  {
   "cell_type": "markdown",
   "metadata": {
    "deletable": false,
    "editable": false,
    "nbgrader": {
     "cell_type": "markdown",
     "checksum": "fb3131489d9ba97c1ef0a560cefc9b13",
     "grade": false,
     "grade_id": "q1",
     "locked": true,
     "schema_version": 3,
     "solution": false
    }
   },
   "source": [
    "# Q1 logisch gevolg\n",
    "\n",
    "* We werken met de [sympy module](https://docs.sympy.org/latest/modules/logic.html). Dat is erg handig. Neem hem eerst goed door en speel er wat mee.\n",
    "* In de cel hieronder vind je een handige routine.\n",
    "* Je gebruikt natuurlijk  de definitie van $\\Sigma\\models\\phi$, van logisch gevolg dus.\n",
    "* En daarvoor is de `sympy` routine `satisfiable` best handig....\n",
    "* De tests in de antwoord cel gaven bij mij dit:\n",
    "<pre>\n",
    "{p, q | ~p} q True\n",
    "{q, q | ~p} p [{q: True, p: False}]\n",
    "{q, Implies(p, q)} p {q: True, p: False}\n",
    "{q & (r | s), Implies(p, q)} p [{q: True, r: True, s: True, p: False}, {q: True, r: True, s: False, p: False}, {q: True, s: True, r: False, p: False}]\n",
    "WARNING: All proposition letters in the Conclusion should occur in some formula of the Premisses.\n",
    "</pre>"
   ]
  },
  {
   "cell_type": "code",
   "execution_count": 8,
   "metadata": {
    "deletable": false,
    "editable": false,
    "nbgrader": {
     "cell_type": "code",
     "checksum": "8551e7a976aee50c8586cc3f40810fba",
     "grade": false,
     "grade_id": "q1c",
     "locked": true,
     "schema_version": 3,
     "solution": false
    }
   },
   "outputs": [
    {
     "data": {
      "text/latex": [
       "$\\displaystyle p \\wedge \\left(p \\vee \\left(p \\wedge q\\right)\\right) \\wedge \\left(q \\vee \\neg p\\right)$"
      ],
      "text/plain": [
       "p & (q | ~p) & (p | (p & q))"
      ]
     },
     "execution_count": 8,
     "metadata": {},
     "output_type": "execute_result"
    }
   ],
   "source": [
    "from sympy import *\n",
    "from sympy.logic.inference import satisfiable\n",
    "\n",
    "p,q,r,s,t = symbols('p q r s t')\n",
    "\n",
    "def maakconjunctie(P):\n",
    "    '''Creates a conjunction from a set or list of formulas.'''\n",
    "    P=list(P)\n",
    "    if P:\n",
    "        return P[0]&maakconjunctie(P[1:])\n",
    "    else:\n",
    "        return True\n",
    "#test\n",
    "maakconjunctie({p, ~p |q, p|(p&q)})    "
   ]
  },
  {
   "cell_type": "code",
   "execution_count": 9,
   "metadata": {
    "deletable": false,
    "nbgrader": {
     "cell_type": "code",
     "checksum": "d6def210c05805c9f0f4424f2037b2f8",
     "grade": false,
     "grade_id": "q1a",
     "locked": false,
     "schema_version": 3,
     "solution": true
    }
   },
   "outputs": [
    {
     "name": "stdout",
     "output_type": "stream",
     "text": [
      "{p | q} p [{q: True, p: False}]\n",
      "{q, q | ~p} p [{q: True, p: False}]\n",
      "{Implies(p, q), q} p {q: True, p: False}\n",
      "{Implies(p, q), r | s, q} p [{q: True, r: True, s: True, p: False}, {q: True, r: True, s: False, p: False}, {q: True, s: True, r: False, p: False}]\n"
     ]
    }
   ],
   "source": [
    "def implies(Premisses, Conclusion, allmodels=False):\n",
    "    '''Return True if Conclusion follows from Premisses, \n",
    "    return a (or all) countermodel(s) otherwise. '''\n",
    "    P= maakconjunctie(Premisses)\n",
    "    \n",
    "    if not Conclusion.atoms().issubset(P.atoms()):\n",
    "        print('WARNING: All proposition letters in the Conclusion should occur in some formula of the Premisses.')\n",
    "        raise\n",
    "    else:\n",
    "            counterarguments = []\n",
    "            [counterarguments.append(model) for model in satisfiable(P, all_models=True) if model[Conclusion] == False]\n",
    "            if len(counterarguments) == 0:\n",
    "                return True\n",
    "            elif allmodels==True:\n",
    "                return counterarguments\n",
    "            else:\n",
    "                return counterarguments[0]\n",
    "    \n",
    "          \n",
    "#TEST\n",
    "P= {p|q}\n",
    "C= p\n",
    "\n",
    "print(P, C, implies(P,C, allmodels=True ))\n",
    "\n",
    "\n",
    "P= {~p|q,q}\n",
    "C= p   \n",
    "\n",
    "print(P, C, implies(P,C, allmodels=True ))\n",
    "\n",
    "P= {p>>q,q}  # andere manier om implicatie te schrijven\n",
    "C= p   \n",
    "\n",
    "print(P, C, implies(P,C))\n",
    "\n",
    "P= {p>>q,q,(r|s)}  # andere manier om implicatie te schrijven\n",
    "C= p \n",
    "\n",
    "print(P, C, implies(P,C, allmodels=True ))\n",
    "P= {p>>q,q}  # andere manier om implicatie te schrijven\n",
    "C= r\n",
    "\n",
    "# implies(P,C) #Dit geeft een error. Probeer het ook zelf"
   ]
  },
  {
   "cell_type": "code",
   "execution_count": 10,
   "metadata": {
    "deletable": false,
    "editable": false,
    "nbgrader": {
     "cell_type": "code",
     "checksum": "5b33c7c17b5accedae26816698100cf8",
     "grade": true,
     "grade_id": "q1t",
     "locked": true,
     "points": 4,
     "schema_version": 3,
     "solution": false
    },
    "scrolled": true
   },
   "outputs": [],
   "source": [
    "assert_equal(type(implies({p},p)), bool)\n",
    "assert_equal(type(implies({p|q},p)), dict)\n",
    "assert_equal(type(implies({p|q},p, allmodels=True)), list)\n"
   ]
  },
  {
   "cell_type": "markdown",
   "metadata": {
    "deletable": false,
    "editable": false,
    "nbgrader": {
     "cell_type": "markdown",
     "checksum": "2f83bbf70121d5ca0b4bb19e093f92a9",
     "grade": false,
     "grade_id": "q2",
     "locked": true,
     "schema_version": 3,
     "solution": false
    }
   },
   "source": [
    "# Q2 Vreemde modellen\n",
    "\n",
    "### Deel 1 (2pt)\n",
    "1. Je maakt vreemde modellen voor je netwerk van familierelaties. Modellen die wel mogen, maar in het echt niet of vrijwel nooit voorkomen. \n",
    "2. Daarna probeer je die met logische formules te verbieden. Je verzint dus zinnen die *niet waar* zijn op die ongewenste modellen.\n",
    "\n",
    "In ieder geval verzin je zinnen die de volgende vijf modellen verbieden (die soort $\\Sigma$ bij een knoop is eigenlijk een M en staat voor Man. Gebruik dus weer de predicaatlogische relaties $R,M,V$ in die zinnen, en niks anders. Geef duidelijk aan welk model je met welke zin verbiedt.\n",
    "\n",
    "![](vreemd.jpg)\n",
    "\n",
    "### Deel 2 (2pt)\n",
    "\n",
    "Ga nu verder en verzin nog meer modellen die je zou willen verbieden. Misschien vindt je er wel oneindig veel! Kan je daar een zin die die allemaal verbiedt voor vinden? Kan je het met oneindig veel zinnen? Geef ze!\n",
    "\n",
    "**Je antwoorden zijn keurige Latex formules, en natuurlijk wel gevormd, met nette haakjes etc.**\n",
    "\n",
    "**Voor je modellen, maak je plaatjes in netwerkx, met de hand, of iets anders, als het maar heel duidelijk is (en dus niet zo als die in deze opgave ;-)**"
   ]
  },
  {
   "cell_type": "markdown",
   "metadata": {
    "deletable": false,
    "nbgrader": {
     "cell_type": "markdown",
     "checksum": "405fa2c00f2ea1f1b2a314950eed1629",
     "grade": true,
     "grade_id": "q2a",
     "locked": false,
     "points": 4,
     "schema_version": 3,
     "solution": true
    }
   },
   "source": [
    "## Deel 1\n",
    "\n",
    "Iedereen heeft een vader en een moeder en die is niet  zichzelf\n",
    " * $ \\forall x \\exists yz ((R (x,y) \\rightarrow M(y)) \\wedge (R(x,z) \\rightarrow V(z)) \\wedge (y \\lor z = \\neg x))$\n",
    "\n",
    "Iedereen heeft een vader en een moeder\n",
    "  * $ \\forall x \\exists((R (x,y) \\rightarrow M(y)) \\wedge (R(x,z) \\rightarrow V(z))$\n",
    "\n",
    "Een grootouder kan niet ook de ouder zijn\n",
    "  * $ \\forall x \\exists yz ((R(x,y) \\wedge R(y,z)) \\rightarrow \\neg R(x,z))$\n",
    "  \n",
    "Je kan niet de ouder zijn van je grootouder\n",
    "  * $ \\forall x \\exists yz ((R(x,y) \\wedge R(y,z)) \\rightarrow \\neg R(z,x))$\n",
    "  \n",
    "Je kan niet de ouder van je ouder zijn\n",
    " * $ \\forall x \\exists y (R(x,y) \\rightarrow \\neg R(y,x))$\n",
    " \n",
    " ## Deel 2\n",
    "\n",
    "Je hebt een kind met een van je ouders   \n",
    " * $\\forall xy(R(x,y) \\wedge R(x,z) \\wedge R(y,z))$   \n",
    "      \n",
    "Je hebt een kind met je kind     \n",
    " * $\\forall xy(R(x,y) \\wedge R(y,z) \\wedge R(x,z))$      \n",
    "   \n",
    "Je hebt een kind met je broer of zus    \n",
    "* $\\forall xy(R(x,z) \\wedge R(y,z) \\wedge R(p,x) \\wedge R(p,y))$ \n",
    "\n",
    "Verbied kinderen met ouders en vice versa\n",
    "  * $\\forall xy(R(x,z) \\rightarrow \\neg (R(z,y) \\wedge R(x,y))$\n",
    "  \n",
    "Verbied kinderen met broers en zussen\n",
    "  * $\\forall xy((R(x,z) \\wedge R(y,z)) \\rightarrow \\neg (R(q,x) \\wedge R(q,y))$"
   ]
  },
  {
   "cell_type": "markdown",
   "metadata": {},
   "source": [
    "### link naar modellen:\n",
    "https://docs.google.com/document/d/1079cwkq5VLa8cAoYorJry7pv64Q-Oh7xs9yyeGDPqFc/edit?usp=sharing"
   ]
  },
  {
   "cell_type": "markdown",
   "metadata": {
    "deletable": false,
    "editable": false,
    "nbgrader": {
     "cell_type": "markdown",
     "checksum": "e5e94e8ec57a4c8bac0a5d470b76590f",
     "grade": false,
     "grade_id": "q3",
     "locked": true,
     "schema_version": 3,
     "solution": false
    }
   },
   "source": [
    "# Q3 Conjunctieve vragen aan een netwerk (4pt)\n",
    "\n",
    "* Een netwerk met feiten (en regels) is natuurlijk ook een database (of een *triple store*), en wat doen we met dat soort dingen? We stellen er vragen aan, en krijgen dan antwoord. Normaal doe je dat in SQL. In deze cursus leer je hoe je dat doet in SPARQL. Later bij Data Science leer je hoe je dat doet met `pandas`. \n",
    "* De preciese taal maakt niet, de meeste vragen die je stelt in je leven (en alle andere mensen op aarde) zijn zogenaamde *conjunctive queries*: eerste orde formules van de vorm $\\exists \\bar{x} (\\bigwedge R(x_i,x_j))$. \n",
    "* Bijvoorbeeld, \"wie zijn de grootouders van Henkie?\" wordt dan  $\\exists z (R(x,z) \\wedge R(z,\"Henkie\"))$. Je kunt dat zelf vast prima in SQL en volgende week in SPARQL zeggen.\n",
    "* Een *conjucntieve query* kan je ook zien als een netwerk! Als een voorbeeld netwerkje.\n",
    "    * $R(x,y)\\wedge R(y,z) \\wedge R(x,z)$ vraagt om alle \"driehoekjes\"\n",
    "    * Dat kan ik ook zeggen als dit netwerk (ja ik weet dat dit ongericht is, en wij alles gericht doen, maar dat laat ik aan jullie over)\n",
    "<pre>\n",
    "A = nx.Graph()\n",
    "A.add_edges_from([('x','y'),('x','z'),('x','z')])\n",
    "</pre>\n",
    "* Het **antwoord** op deze vraag gegeven een netwerk `M` is dan alle deelnetwerken van `M` die isomorf zijn met `A` (plus natuurlijk hoe de knopen in `M` dan gematched worden met de \"knopen\" (= variabelen) in `A`.\n",
    "* Programmeer dit in networkx.\n",
    "* Het antwoord is verbazend simpel, uiteindelijk. Denk eerst na, ga dan gericht zoeken!\n",
    "\n",
    "#### Eisen\n",
    "* `CQ` kan werken op `nx.Digraphs` met boolse attributen op de knopen, en 1 relatie. \n",
    "* Dus vergelijkbaar met je ouder database (maar dan heb je twee boolse attributen). Je hebt dus een attribuut voor elke 1 plaatsige relatie.\n",
    "* Je kan ervan uitgaan dat de query graaf altijd in de \"taal\" geschreven is van de model graaf.\n",
    "* Let op: je hoeft de projectie niet te doen in CQ. Dus je vraag is  altijd  equivalent aan een een conjunctie van atomen (dus zonder existentiele quantifier (dat is namelijk de projectie in DB termen)).\n",
    "\n",
    "## Deel 2\n",
    "\n",
    "* Hoe kostbaar is deze manier van vragen beantwoorden? \n",
    "    * Probeer het eens uit te rekenen als functie van  het aantal knopen in het Model netwerk en in het vraag netwerk. \n",
    "    * Heftig?\n",
    "    * Zou het beter kunnen?\n",
    "    * Zou het echt beter kunnen?\n",
    "    * Zoek eens op hoe lastig dit probleem eigenlijk is. Had je niet gedacht he?\n"
   ]
  },
  {
   "cell_type": "code",
   "execution_count": 12,
   "metadata": {},
   "outputs": [
    {
     "name": "stderr",
     "output_type": "stream",
     "text": [
      "C:\\Users\\Sander\\Anaconda3\\lib\\site-packages\\networkx\\drawing\\nx_pylab.py:579: MatplotlibDeprecationWarning: \n",
      "The iterable function was deprecated in Matplotlib 3.1 and will be removed in 3.3. Use np.iterable instead.\n",
      "  if not cb.iterable(width):\n"
     ]
    },
    {
     "data": {
      "image/png": "[encoded data removed]",
      "text/plain": [
       "<Figure size 432x288 with 1 Axes>"
      ]
     },
     "metadata": {},
     "output_type": "display_data"
    }
   ],
   "source": [
    "G= nx.karate_club_graph()\n",
    "nx.draw_networkx(G)"
   ]
  },
  {
   "cell_type": "code",
   "execution_count": 13,
   "metadata": {},
   "outputs": [
    {
     "data": {
      "image/png": "[encoded data removed]",
      "text/plain": [
       "<Figure size 432x288 with 1 Axes>"
      ]
     },
     "metadata": {},
     "output_type": "display_data"
    }
   ],
   "source": [
    "G= nx.karate_club_graph()\n",
    "# nx.draw_networkx(G)\n",
    "\n",
    "# Geef me alle driehoekjes in G. Ik vond 270 verschillende.\n",
    "A = nx.Graph()\n",
    "A.add_edges_from([('x','y'),('x','z'),('y','z')])\n",
    "\n",
    "nx.draw_networkx(A)"
   ]
  },
  {
   "cell_type": "code",
   "execution_count": 14,
   "metadata": {
    "deletable": false,
    "nbgrader": {
     "cell_type": "code",
     "checksum": "4f8f0c4aee793c8fc304c59497077e77",
     "grade": false,
     "grade_id": "q3a",
     "locked": false,
     "schema_version": 3,
     "solution": true
    }
   },
   "outputs": [
    {
     "name": "stdout",
     "output_type": "stream",
     "text": [
      "270\n",
      "{0: 'x', 1: 'y', 2: 'z'}\n",
      "{0: 'x', 1: 'y', 3: 'z'}\n",
      "{0: 'x', 1: 'y', 7: 'z'}\n",
      "{0: 'x', 1: 'y', 13: 'z'}\n",
      "{0: 'x', 1: 'y', 17: 'z'}\n",
      "{0: 'x', 1: 'y', 19: 'z'}\n",
      "{0: 'x', 1: 'y', 21: 'z'}\n",
      "{0: 'x', 2: 'y', 1: 'z'}\n",
      "{0: 'x', 2: 'y', 3: 'z'}\n",
      "{0: 'x', 2: 'y', 7: 'z'}\n",
      "{0: 'x', 2: 'y', 8: 'z'}\n",
      "{0: 'x', 2: 'y', 13: 'z'}\n",
      "{0: 'x', 3: 'y', 1: 'z'}\n",
      "{0: 'x', 3: 'y', 2: 'z'}\n",
      "{0: 'x', 3: 'y', 7: 'z'}\n",
      "{0: 'x', 3: 'y', 12: 'z'}\n",
      "{0: 'x', 3: 'y', 13: 'z'}\n",
      "{0: 'x', 4: 'y', 6: 'z'}\n",
      "{0: 'x', 4: 'y', 10: 'z'}\n",
      "{0: 'x', 5: 'y', 6: 'z'}\n",
      "{0: 'x', 5: 'y', 10: 'z'}\n",
      "{0: 'x', 6: 'y', 4: 'z'}\n",
      "{0: 'x', 6: 'y', 5: 'z'}\n",
      "{0: 'x', 7: 'y', 1: 'z'}\n",
      "{0: 'x', 7: 'y', 2: 'z'}\n",
      "{0: 'x', 7: 'y', 3: 'z'}\n",
      "{0: 'x', 8: 'y', 2: 'z'}\n",
      "{0: 'x', 10: 'y', 4: 'z'}\n",
      "{0: 'x', 10: 'y', 5: 'z'}\n",
      "{0: 'x', 12: 'y', 3: 'z'}\n",
      "{0: 'x', 13: 'y', 1: 'z'}\n",
      "{0: 'x', 13: 'y', 2: 'z'}\n",
      "{0: 'x', 13: 'y', 3: 'z'}\n",
      "{0: 'x', 17: 'y', 1: 'z'}\n",
      "{0: 'x', 19: 'y', 1: 'z'}\n",
      "{0: 'x', 21: 'y', 1: 'z'}\n",
      "{1: 'x', 0: 'y', 2: 'z'}\n",
      "{1: 'x', 0: 'y', 3: 'z'}\n",
      "{1: 'x', 0: 'y', 7: 'z'}\n",
      "{1: 'x', 0: 'y', 13: 'z'}\n",
      "{1: 'x', 0: 'y', 17: 'z'}\n",
      "{1: 'x', 0: 'y', 19: 'z'}\n",
      "{1: 'x', 0: 'y', 21: 'z'}\n",
      "{1: 'x', 2: 'y', 0: 'z'}\n",
      "{1: 'x', 2: 'y', 3: 'z'}\n",
      "{1: 'x', 2: 'y', 7: 'z'}\n",
      "{1: 'x', 2: 'y', 13: 'z'}\n",
      "{1: 'x', 3: 'y', 0: 'z'}\n",
      "{1: 'x', 3: 'y', 2: 'z'}\n",
      "{1: 'x', 3: 'y', 7: 'z'}\n",
      "{1: 'x', 3: 'y', 13: 'z'}\n",
      "{1: 'x', 7: 'y', 0: 'z'}\n",
      "{1: 'x', 7: 'y', 2: 'z'}\n",
      "{1: 'x', 7: 'y', 3: 'z'}\n",
      "{1: 'x', 13: 'y', 0: 'z'}\n",
      "{1: 'x', 13: 'y', 2: 'z'}\n",
      "{1: 'x', 13: 'y', 3: 'z'}\n",
      "{1: 'x', 17: 'y', 0: 'z'}\n",
      "{1: 'x', 19: 'y', 0: 'z'}\n",
      "{1: 'x', 21: 'y', 0: 'z'}\n",
      "{2: 'x', 0: 'y', 1: 'z'}\n",
      "{2: 'x', 0: 'y', 3: 'z'}\n",
      "{2: 'x', 0: 'y', 7: 'z'}\n",
      "{2: 'x', 0: 'y', 8: 'z'}\n",
      "{2: 'x', 0: 'y', 13: 'z'}\n",
      "{2: 'x', 1: 'y', 0: 'z'}\n",
      "{2: 'x', 1: 'y', 3: 'z'}\n",
      "{2: 'x', 1: 'y', 7: 'z'}\n",
      "{2: 'x', 1: 'y', 13: 'z'}\n",
      "{2: 'x', 32: 'y', 8: 'z'}\n",
      "{2: 'x', 3: 'y', 0: 'z'}\n",
      "{2: 'x', 3: 'y', 1: 'z'}\n",
      "{2: 'x', 3: 'y', 7: 'z'}\n",
      "{2: 'x', 3: 'y', 13: 'z'}\n",
      "{2: 'x', 7: 'y', 0: 'z'}\n",
      "{2: 'x', 7: 'y', 1: 'z'}\n",
      "{2: 'x', 7: 'y', 3: 'z'}\n",
      "{2: 'x', 8: 'y', 0: 'z'}\n",
      "{2: 'x', 8: 'y', 32: 'z'}\n",
      "{2: 'x', 13: 'y', 0: 'z'}\n",
      "{2: 'x', 13: 'y', 1: 'z'}\n",
      "{2: 'x', 13: 'y', 3: 'z'}\n",
      "{3: 'x', 0: 'y', 1: 'z'}\n",
      "{3: 'x', 0: 'y', 2: 'z'}\n",
      "{3: 'x', 0: 'y', 7: 'z'}\n",
      "{3: 'x', 0: 'y', 12: 'z'}\n",
      "{3: 'x', 0: 'y', 13: 'z'}\n",
      "{3: 'x', 1: 'y', 0: 'z'}\n",
      "{3: 'x', 1: 'y', 2: 'z'}\n",
      "{3: 'x', 1: 'y', 7: 'z'}\n",
      "{3: 'x', 1: 'y', 13: 'z'}\n",
      "{3: 'x', 2: 'y', 0: 'z'}\n",
      "{3: 'x', 2: 'y', 1: 'z'}\n",
      "{3: 'x', 2: 'y', 7: 'z'}\n",
      "{3: 'x', 2: 'y', 13: 'z'}\n",
      "{3: 'x', 7: 'y', 0: 'z'}\n",
      "{3: 'x', 7: 'y', 1: 'z'}\n",
      "{3: 'x', 7: 'y', 2: 'z'}\n",
      "{3: 'x', 12: 'y', 0: 'z'}\n",
      "{3: 'x', 13: 'y', 0: 'z'}\n",
      "{3: 'x', 13: 'y', 1: 'z'}\n",
      "{3: 'x', 13: 'y', 2: 'z'}\n",
      "{4: 'x', 0: 'y', 10: 'z'}\n",
      "{4: 'x', 0: 'y', 6: 'z'}\n",
      "{4: 'x', 10: 'y', 0: 'z'}\n",
      "{4: 'x', 6: 'y', 0: 'z'}\n",
      "{5: 'x', 0: 'y', 10: 'z'}\n",
      "{5: 'x', 0: 'y', 6: 'z'}\n",
      "{5: 'x', 16: 'y', 6: 'z'}\n",
      "{5: 'x', 10: 'y', 0: 'z'}\n",
      "{5: 'x', 6: 'y', 0: 'z'}\n",
      "{5: 'x', 6: 'y', 16: 'z'}\n",
      "{6: 'x', 0: 'y', 4: 'z'}\n",
      "{6: 'x', 0: 'y', 5: 'z'}\n",
      "{6: 'x', 16: 'y', 5: 'z'}\n",
      "{6: 'x', 4: 'y', 0: 'z'}\n",
      "{6: 'x', 5: 'y', 0: 'z'}\n",
      "{6: 'x', 5: 'y', 16: 'z'}\n",
      "{7: 'x', 0: 'y', 1: 'z'}\n",
      "{7: 'x', 0: 'y', 2: 'z'}\n",
      "{7: 'x', 0: 'y', 3: 'z'}\n",
      "{7: 'x', 1: 'y', 0: 'z'}\n",
      "{7: 'x', 1: 'y', 2: 'z'}\n",
      "{7: 'x', 1: 'y', 3: 'z'}\n",
      "{7: 'x', 2: 'y', 0: 'z'}\n",
      "{7: 'x', 2: 'y', 1: 'z'}\n",
      "{7: 'x', 2: 'y', 3: 'z'}\n",
      "{7: 'x', 3: 'y', 0: 'z'}\n",
      "{7: 'x', 3: 'y', 1: 'z'}\n",
      "{7: 'x', 3: 'y', 2: 'z'}\n",
      "{8: 'x', 0: 'y', 2: 'z'}\n",
      "{8: 'x', 33: 'y', 32: 'z'}\n",
      "{8: 'x', 33: 'y', 30: 'z'}\n",
      "{8: 'x', 2: 'y', 0: 'z'}\n",
      "{8: 'x', 2: 'y', 32: 'z'}\n",
      "{8: 'x', 32: 'y', 33: 'z'}\n",
      "{8: 'x', 32: 'y', 2: 'z'}\n",
      "{8: 'x', 32: 'y', 30: 'z'}\n",
      "{8: 'x', 30: 'y', 33: 'z'}\n",
      "{8: 'x', 30: 'y', 32: 'z'}\n",
      "{10: 'x', 0: 'y', 4: 'z'}\n",
      "{10: 'x', 0: 'y', 5: 'z'}\n",
      "{10: 'x', 4: 'y', 0: 'z'}\n",
      "{10: 'x', 5: 'y', 0: 'z'}\n",
      "{12: 'x', 0: 'y', 3: 'z'}\n",
      "{12: 'x', 3: 'y', 0: 'z'}\n",
      "{13: 'x', 0: 'y', 1: 'z'}\n",
      "{13: 'x', 0: 'y', 2: 'z'}\n",
      "{13: 'x', 0: 'y', 3: 'z'}\n",
      "{13: 'x', 1: 'y', 0: 'z'}\n",
      "{13: 'x', 1: 'y', 2: 'z'}\n",
      "{13: 'x', 1: 'y', 3: 'z'}\n",
      "{13: 'x', 2: 'y', 0: 'z'}\n",
      "{13: 'x', 2: 'y', 1: 'z'}\n",
      "{13: 'x', 2: 'y', 3: 'z'}\n",
      "{13: 'x', 3: 'y', 0: 'z'}\n",
      "{13: 'x', 3: 'y', 1: 'z'}\n",
      "{13: 'x', 3: 'y', 2: 'z'}\n",
      "{14: 'x', 32: 'y', 33: 'z'}\n",
      "{14: 'x', 33: 'y', 32: 'z'}\n",
      "{15: 'x', 32: 'y', 33: 'z'}\n",
      "{15: 'x', 33: 'y', 32: 'z'}\n",
      "{16: 'x', 5: 'y', 6: 'z'}\n",
      "{16: 'x', 6: 'y', 5: 'z'}\n",
      "{17: 'x', 0: 'y', 1: 'z'}\n",
      "{17: 'x', 1: 'y', 0: 'z'}\n",
      "{18: 'x', 32: 'y', 33: 'z'}\n",
      "{18: 'x', 33: 'y', 32: 'z'}\n",
      "{19: 'x', 0: 'y', 1: 'z'}\n",
      "{19: 'x', 1: 'y', 0: 'z'}\n",
      "{20: 'x', 32: 'y', 33: 'z'}\n",
      "{20: 'x', 33: 'y', 32: 'z'}\n",
      "{21: 'x', 0: 'y', 1: 'z'}\n",
      "{21: 'x', 1: 'y', 0: 'z'}\n",
      "{22: 'x', 32: 'y', 33: 'z'}\n",
      "{22: 'x', 33: 'y', 32: 'z'}\n",
      "{23: 'x', 32: 'y', 33: 'z'}\n",
      "{23: 'x', 32: 'y', 29: 'z'}\n",
      "{23: 'x', 33: 'y', 32: 'z'}\n",
      "{23: 'x', 33: 'y', 27: 'z'}\n",
      "{23: 'x', 33: 'y', 29: 'z'}\n",
      "{23: 'x', 27: 'y', 33: 'z'}\n",
      "{23: 'x', 29: 'y', 32: 'z'}\n",
      "{23: 'x', 29: 'y', 33: 'z'}\n",
      "{24: 'x', 25: 'y', 31: 'z'}\n",
      "{24: 'x', 31: 'y', 25: 'z'}\n",
      "{25: 'x', 24: 'y', 31: 'z'}\n",
      "{25: 'x', 31: 'y', 24: 'z'}\n",
      "{26: 'x', 33: 'y', 29: 'z'}\n",
      "{26: 'x', 29: 'y', 33: 'z'}\n",
      "{27: 'x', 33: 'y', 23: 'z'}\n",
      "{27: 'x', 23: 'y', 33: 'z'}\n",
      "{28: 'x', 33: 'y', 31: 'z'}\n",
      "{28: 'x', 31: 'y', 33: 'z'}\n",
      "{29: 'x', 32: 'y', 33: 'z'}\n",
      "{29: 'x', 32: 'y', 23: 'z'}\n",
      "{29: 'x', 33: 'y', 32: 'z'}\n",
      "{29: 'x', 33: 'y', 26: 'z'}\n",
      "{29: 'x', 33: 'y', 23: 'z'}\n",
      "{29: 'x', 26: 'y', 33: 'z'}\n",
      "{29: 'x', 23: 'y', 32: 'z'}\n",
      "{29: 'x', 23: 'y', 33: 'z'}\n",
      "{30: 'x', 8: 'y', 32: 'z'}\n",
      "{30: 'x', 8: 'y', 33: 'z'}\n",
      "{30: 'x', 32: 'y', 8: 'z'}\n",
      "{30: 'x', 32: 'y', 33: 'z'}\n",
      "{30: 'x', 33: 'y', 8: 'z'}\n",
      "{30: 'x', 33: 'y', 32: 'z'}\n",
      "{31: 'x', 32: 'y', 33: 'z'}\n",
      "{31: 'x', 33: 'y', 32: 'z'}\n",
      "{31: 'x', 33: 'y', 28: 'z'}\n",
      "{31: 'x', 24: 'y', 25: 'z'}\n",
      "{31: 'x', 25: 'y', 24: 'z'}\n",
      "{31: 'x', 28: 'y', 33: 'z'}\n",
      "{32: 'x', 33: 'y', 8: 'z'}\n",
      "{32: 'x', 33: 'y', 14: 'z'}\n",
      "{32: 'x', 33: 'y', 15: 'z'}\n",
      "{32: 'x', 33: 'y', 18: 'z'}\n",
      "{32: 'x', 33: 'y', 20: 'z'}\n",
      "{32: 'x', 33: 'y', 22: 'z'}\n",
      "{32: 'x', 33: 'y', 23: 'z'}\n",
      "{32: 'x', 33: 'y', 29: 'z'}\n",
      "{32: 'x', 33: 'y', 30: 'z'}\n",
      "{32: 'x', 33: 'y', 31: 'z'}\n",
      "{32: 'x', 2: 'y', 8: 'z'}\n",
      "{32: 'x', 8: 'y', 33: 'z'}\n",
      "{32: 'x', 8: 'y', 2: 'z'}\n",
      "{32: 'x', 8: 'y', 30: 'z'}\n",
      "{32: 'x', 14: 'y', 33: 'z'}\n",
      "{32: 'x', 15: 'y', 33: 'z'}\n",
      "{32: 'x', 18: 'y', 33: 'z'}\n",
      "{32: 'x', 20: 'y', 33: 'z'}\n",
      "{32: 'x', 22: 'y', 33: 'z'}\n",
      "{32: 'x', 23: 'y', 33: 'z'}\n",
      "{32: 'x', 23: 'y', 29: 'z'}\n",
      "{32: 'x', 29: 'y', 33: 'z'}\n",
      "{32: 'x', 29: 'y', 23: 'z'}\n",
      "{32: 'x', 30: 'y', 33: 'z'}\n",
      "{32: 'x', 30: 'y', 8: 'z'}\n",
      "{32: 'x', 31: 'y', 33: 'z'}\n",
      "{33: 'x', 32: 'y', 8: 'z'}\n",
      "{33: 'x', 32: 'y', 14: 'z'}\n",
      "{33: 'x', 32: 'y', 15: 'z'}\n",
      "{33: 'x', 32: 'y', 18: 'z'}\n",
      "{33: 'x', 32: 'y', 20: 'z'}\n",
      "{33: 'x', 32: 'y', 22: 'z'}\n",
      "{33: 'x', 32: 'y', 23: 'z'}\n",
      "{33: 'x', 32: 'y', 29: 'z'}\n",
      "{33: 'x', 32: 'y', 30: 'z'}\n",
      "{33: 'x', 32: 'y', 31: 'z'}\n",
      "{33: 'x', 8: 'y', 32: 'z'}\n",
      "{33: 'x', 8: 'y', 30: 'z'}\n",
      "{33: 'x', 14: 'y', 32: 'z'}\n",
      "{33: 'x', 15: 'y', 32: 'z'}\n",
      "{33: 'x', 18: 'y', 32: 'z'}\n",
      "{33: 'x', 20: 'y', 32: 'z'}\n",
      "{33: 'x', 22: 'y', 32: 'z'}\n",
      "{33: 'x', 23: 'y', 32: 'z'}\n",
      "{33: 'x', 23: 'y', 27: 'z'}\n",
      "{33: 'x', 23: 'y', 29: 'z'}\n",
      "{33: 'x', 26: 'y', 29: 'z'}\n",
      "{33: 'x', 27: 'y', 23: 'z'}\n",
      "{33: 'x', 28: 'y', 31: 'z'}\n",
      "{33: 'x', 29: 'y', 32: 'z'}\n",
      "{33: 'x', 29: 'y', 23: 'z'}\n",
      "{33: 'x', 29: 'y', 26: 'z'}\n",
      "{33: 'x', 30: 'y', 32: 'z'}\n",
      "{33: 'x', 30: 'y', 8: 'z'}\n",
      "{33: 'x', 31: 'y', 32: 'z'}\n",
      "{33: 'x', 31: 'y', 28: 'z'}\n"
     ]
    }
   ],
   "source": [
    "from networkx.algorithms import isomorphism\n",
    "\n",
    "def CQ(Model,Query):\n",
    "    '''Returns a generator of dicts, where each dict is a bijective mapping from  nodes in Model\n",
    "    to all nodes in  Query.\n",
    "    The keys are the model nodes.\n",
    "    The set of dict values equals the set of nodes of Query.\n",
    "    The generator returns all answers to the Query on this Model.'''\n",
    "    if nx.is_directed(Model):\n",
    "        return isomorphism.DiGraphMatcher(Model, Query).subgraph_isomorphisms_iter()\n",
    "    \n",
    "    return isomorphism.GraphMatcher(Model, Query).subgraph_isomorphisms_iter()  \n",
    "\n",
    "#test\n",
    "print(len(list(CQ(G,A))))\n",
    "for antwoord in CQ(G,A):\n",
    "    print(antwoord)"
   ]
  },
  {
   "cell_type": "code",
   "execution_count": 15,
   "metadata": {
    "deletable": false,
    "editable": false,
    "nbgrader": {
     "cell_type": "code",
     "checksum": "d307aef902ce9c06e013de81136efd9e",
     "grade": true,
     "grade_id": "q3t",
     "locked": true,
     "points": 4,
     "schema_version": 3,
     "solution": false
    }
   },
   "outputs": [],
   "source": [
    "assert isinstance(CQ(G,A),Generator)\n"
   ]
  },
  {
   "cell_type": "markdown",
   "metadata": {},
   "source": [
    "De kosten voor het vragen aan het model aan de hand van een query kan worden berekend aan de hand van de volgende formule:\n",
    "\n",
    "A = Aantal nodes in het model\n",
    "\n",
    "B = Aantal nodes in de query\n",
    "\n",
    "$ A!  /  (A-B)!$\n",
    "\n",
    "Dit probleem staat ook wel bekend als het 'Subgraph isomorphism problem'. Het is een NP-Complete taak. NP-Complete staat voor een taak die zowel NP als NP-Hard is. Waar het eigenlijk op neer komt is dat dit een taak is die *niet* snel opgelost kan worden. Geen enkel bestaand algoritme kan het probleem snel oplossen, omdat de tijdsduur snel oploopt bij een groter wordend probleem. Dit wordt ook wel het 'P versus NP problem' genoemd is nóg een onopgelost probleem binnen het computer science gebied. Het kan dus echt absoluut niet beter (voorlopig dan :) )."
   ]
  },
  {
   "cell_type": "code",
   "execution_count": null,
   "metadata": {},
   "outputs": [],
   "source": []
  }
 ],
 "metadata": {
  "kernelspec": {
   "display_name": "Python 3",
   "language": "python",
   "name": "python3"
  },
  "language_info": {
   "codemirror_mode": {
    "name": "ipython",
    "version": 3
   },
   "file_extension": ".py",
   "mimetype": "text/x-python",
   "name": "python",
   "nbconvert_exporter": "python",
   "pygments_lexer": "ipython3",
   "version": "3.7.4"
  },
  "toc": {
   "nav_menu": {},
   "number_sections": true,
   "sideBar": true,
   "skip_h1_title": false,
   "title_cell": "Table of Contents",
   "title_sidebar": "Contents",
   "toc_cell": true,
   "toc_position": {},
   "toc_section_display": true,
   "toc_window_display": false
  }
 },
 "nbformat": 4,
 "nbformat_minor": 2
}
