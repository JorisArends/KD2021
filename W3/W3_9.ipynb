{
 "cells": [
  {
   "cell_type": "markdown",
   "metadata": {
    "id": "1Zx4-QbYTn72"
   },
   "source": [
    "# Assignment Kennis en Data"
   ]
  },
  {
   "cell_type": "markdown",
   "metadata": {
    "id": "Lgzj751oTn76"
   },
   "source": [
    "## Notebook made by\n",
    "\n",
    "\n",
    "|Naam|Studentnummer|\n",
    "|-|-|\n",
    "|Jochem|secret |\n",
    "|Martijn|secret |\n",
    "|Rik|secret |\n",
    "|Huib|secret |\n",
    "\n",
    "## Peerreview\n",
    "\n",
    "* Vul onderstaande dict/tabel in en run de cel. Klopt het? Zijn jullie het er allemaal mee eens?\n",
    "    * Verander `1,2,3,4` door jullie studentnummers\n",
    "    * `1: {1:.2,2:.3,3:.3,4:.2}` betekent dat student 1 zijn punt zo over de 4 studenten verdeelt\n",
    "    * Let op, per student moeten de punten optellen tot 1!\n",
    "    * De gegeven punten staan in de tabel op de rijen, de ontvangen punten in de kolommen.\n",
    "    * met `cijfer_per_student` kan je bepalen welk cijfer ieder krijgt bij een gegeven groepscijfer."
   ]
  },
  {
   "cell_type": "markdown",
   "metadata": {
    "id": "5bFtGkKPTn78"
   },
   "source": [
    "## Toelichting\n",
    "\n",
    "* De meeste opgaven worden automatisch nagekeken. Bij vrijwel alle opdrachten staan er een paar tests onder de opdracht, dit is voornamelijk om te zorgen dat je de juiste type output geeft. Dit zijn dus *NIET* alle tests, die komen er bij het graden nog bij.\n",
    "* Elke vraag is 1 punt waard, tenzij anders aangegeven. Soms is die punt onderverdeeld in deelpunten, maar niet altijd. \n",
    "\n",
    "## Voor het inleveren!\n",
    "\n",
    "* Pas niet de cellen aan, vooral niet die je niet kunt editen. Dit levert problemen op bij nakijken. Twijfel je of je per ongeluk iets hebt gewijzigd, kopieer dan bij inleveren je antwoorden naar een nieuw bestand, zodat het niet fout kan gaan.\n",
    "\n",
    "* Zorg dat de code goed runt van boven naar beneden, verifieer dat door boven in Kernel -> Restart & Run All uit te voeren\n",
    "\n",
    "## Na het inleveren!\n",
    "\n",
    "* Het gebeurt erg vaak dat mensen een \"leeg bestand\" inleveren. Vaak een andere versie van de opgave die nog ergens op je computer rondslingerde. Zonde van al je werk toch!\n",
    "* Dus, lever **minstens een half uur voor tijd in**. Download dan wat je hebt ingeleverd op Canvas. Geef het een andere naam om verwarring te voorkomen. En draai alle cellen, en bekijk het. Geen syntax fouten? Alle vragen gemaakt? Dan zit het vast wel goed, en hoef je niet in de zenuwen te zitten."
   ]
  },
  {
   "cell_type": "markdown",
   "metadata": {
    "id": "mesNJsyLTn79",
    "toc": true
   },
   "source": [
    "<h1>Table of Contents<span class=\"tocSkip\"></span></h1>\n",
    "<div class=\"toc\"><ul class=\"toc-item\"><li><span><a href=\"#Q1-logisch-gevolg-(4pts)\" data-toc-modified-id=\"Q1-logisch-gevolg-(4pts)-1\"><span class=\"toc-item-num\">1&nbsp;&nbsp;</span>Q1 logisch gevolg (4pts)</a></span></li><li><span><a href=\"#Q2-Vreemde-modellen-(4pts)\" data-toc-modified-id=\"Q2-Vreemde-modellen-(4pts)-2\"><span class=\"toc-item-num\">2&nbsp;&nbsp;</span>Q2 Vreemde modellen (4pts)</a></span></li><li><span><a href=\"#Q3-Conjunctieve-vragen-aan-een-netwerk-(4pts)\" data-toc-modified-id=\"Q3-Conjunctieve-vragen-aan-een-netwerk-(4pts)-3\"><span class=\"toc-item-num\">3&nbsp;&nbsp;</span>Q3 Conjunctieve vragen aan een netwerk (4pts)</a></span></li><li><span><a href=\"#Q1-logisch-gevolg\" data-toc-modified-id=\"Q1-logisch-gevolg-4\"><span class=\"toc-item-num\">4&nbsp;&nbsp;</span>Q1 logisch gevolg</a></span></li><li><span><a href=\"#Q2-Vreemde-modellen\" data-toc-modified-id=\"Q2-Vreemde-modellen-5\"><span class=\"toc-item-num\">5&nbsp;&nbsp;</span>Q2 Vreemde modellen</a></span><ul class=\"toc-item\"><li><ul class=\"toc-item\"><li><span><a href=\"#Deel-1-(2pt)\" data-toc-modified-id=\"Deel-1-(2pt)-5.0.1\"><span class=\"toc-item-num\">5.0.1&nbsp;&nbsp;</span>Deel 1 (2pt)</a></span></li><li><span><a href=\"#Deel-2-(2pt)\" data-toc-modified-id=\"Deel-2-(2pt)-5.0.2\"><span class=\"toc-item-num\">5.0.2&nbsp;&nbsp;</span>Deel 2 (2pt)</a></span></li><li><span><a href=\"#deel-1\" data-toc-modified-id=\"deel-1-5.0.3\"><span class=\"toc-item-num\">5.0.3&nbsp;&nbsp;</span>deel 1</a></span></li><li><span><a href=\"#deel-2\" data-toc-modified-id=\"deel-2-5.0.4\"><span class=\"toc-item-num\">5.0.4&nbsp;&nbsp;</span>deel 2</a></span></li></ul></li></ul></li><li><span><a href=\"#Q3-Conjunctieve-vragen-aan-een-netwerk-(4pt)\" data-toc-modified-id=\"Q3-Conjunctieve-vragen-aan-een-netwerk-(4pt)-6\"><span class=\"toc-item-num\">6&nbsp;&nbsp;</span>Q3 Conjunctieve vragen aan een netwerk (4pt)</a></span><ul class=\"toc-item\"><li><ul class=\"toc-item\"><li><ul class=\"toc-item\"><li><span><a href=\"#Eisen\" data-toc-modified-id=\"Eisen-6.0.0.1\"><span class=\"toc-item-num\">6.0.0.1&nbsp;&nbsp;</span>Eisen</a></span></li></ul></li></ul></li><li><span><a href=\"#Deel-2\" data-toc-modified-id=\"Deel-2-6.1\"><span class=\"toc-item-num\">6.1&nbsp;&nbsp;</span>Deel 2</a></span></li></ul></li></ul></div>"
   ]
  },
  {
   "cell_type": "code",
   "execution_count": 9,
   "metadata": {
    "colab": {
     "base_uri": "https://localhost:8080/"
    },
    "deletable": false,
    "editable": false,
    "id": "6nVaq5qFTn79",
    "nbgrader": {
     "cell_type": "code",
     "checksum": "9494647199f10186da81733238f0dcfb",
     "grade": false,
     "grade_id": "intro",
     "locked": true,
     "schema_version": 3,
     "solution": false
    },
    "outputId": "71dbf261-50b5-45cb-c656-195837210cdb"
   },
   "outputs": [],
   "source": [
    "from typing import Generator\n",
    "from nose.tools import assert_equal, assert_count_equal\n",
    "import networkx as nx\n",
    "%matplotlib inline"
   ]
  },
  {
   "cell_type": "markdown",
   "metadata": {
    "deletable": false,
    "editable": false,
    "id": "ceh6XJcNTn7_",
    "nbgrader": {
     "cell_type": "markdown",
     "checksum": "a406ab219b4af084226b62988a10219e",
     "grade": false,
     "grade_id": "intro2",
     "locked": true,
     "schema_version": 3,
     "solution": false
    }
   },
   "source": [
    "# Q1 logisch gevolg (4pts)\n",
    "\n",
    "* Je maakt een Python programma waaraan je een verzameling premissen $\\Sigma$ en een conclusie $\\phi$ in propositielogische formules geeft en die teruggeeft of $\\Sigma\\models\\phi$. \n",
    "    * In het geval van niet geef je een (of alle) tegenvoorbeelden terug.\n",
    "    \n",
    "# Q2 Vreemde modellen (4pts)\n",
    "\n",
    "* Je maakt vreemde modellen voor je netwerk van familierelaties. Modellen die wel mogen, maar in het echt niet of vrijwel nooit voorkomen. \n",
    "* Daarna probeer je die met logische formules te verbieden. Je verzint dus zinnen die *niet waar* zijn op die ongewenste modellen.\n",
    "\n",
    "# Q3 Conjunctieve vragen aan een netwerk (4pts)\n",
    "\n",
    "* Een netwerk met feiten (en regels) is natuurlijk ook een database (of een *triple store*), en wat doen we met dat soort dingen? We stellen er vragen aan, en krijgen dan antwoord. Normaal doe je dat in SQL. In deze cursus leer je hoe je dat doet in SPARQL. Later bij Data Science leer je hoe je dat doet met `pandas`. \n",
    "* De preciese taal maakt niet, de meeste vragen die je stelt in je leven (en alle andere mensen op aarde) zijn zogenaamde *conjunctive queries*: eerste orde formules van de vorm $\\exists \\bar{x} (\\bigwedge R(x_i,x_j))$. \n",
    "    * OK OK, je gebruikt ook nog wel eens het connectief \"of\", maar dat is makkelijk toe te voegen aanje programma als je dit hebt.\n",
    "        * (want je kunt alle \"of\"s naar buiten brengen, en dan heb je dus een grote disjunctie van CQs.\n",
    "        * die draai je allemaal achter (of naast) elkaar, en neemt de vereniging van de antwoorden.\n",
    "        * Probeer maar eens een voorbeeld\n",
    "* Bijvoorbeeld, \"wie zijn de grootouders van Henkie?\" wordt dan  $\\exists z (R(x,z) \\wedge R(z,\"Henkie\"))$. Je kunt dat zelf vast prima in SQL en volgende week in SPARQL zeggen."
   ]
  },
  {
   "cell_type": "markdown",
   "metadata": {
    "deletable": false,
    "editable": false,
    "id": "ccRlZyc1Tn8A",
    "nbgrader": {
     "cell_type": "markdown",
     "checksum": "fb3131489d9ba97c1ef0a560cefc9b13",
     "grade": false,
     "grade_id": "q1",
     "locked": true,
     "schema_version": 3,
     "solution": false
    }
   },
   "source": [
    "# Q1 logisch gevolg\n",
    "\n",
    "* We werken met de [sympy module](https://docs.sympy.org/latest/modules/logic.html). Dat is erg handig. Neem hem eerst goed door en speel er wat mee.\n",
    "* In de cel hieronder vind je een handige routine.\n",
    "* Je gebruikt natuurlijk  de definitie van $\\Sigma\\models\\phi$, van logisch gevolg dus.\n",
    "* En daarvoor is de `sympy` routine `satisfiable` best handig....\n",
    "* De tests in de antwoord cel gaven bij mij dit:\n",
    "<pre>\n",
    "{p, q | ~p} q True\n",
    "{q, q | ~p} p [{q: True, p: False}]\n",
    "{q, Implies(p, q)} p {q: True, p: False}\n",
    "{q & (r | s), Implies(p, q)} p [{q: True, r: True, s: True, p: False}, {q: True, r: True, s: False, p: False}, {q: True, s: True, r: False, p: False}]\n",
    "WARNING: All proposition letters in the Conclusion should occur in some formula of the Premisses.\n",
    "</pre>"
   ]
  },
  {
   "cell_type": "code",
   "execution_count": 3,
   "metadata": {
    "colab": {
     "base_uri": "https://localhost:8080/"
    },
    "deletable": false,
    "editable": false,
    "id": "avv5lycWTn8B",
    "nbgrader": {
     "cell_type": "code",
     "checksum": "8551e7a976aee50c8586cc3f40810fba",
     "grade": false,
     "grade_id": "q1c",
     "locked": true,
     "schema_version": 3,
     "solution": false
    },
    "outputId": "5624c38b-1ec8-472d-e2ab-d3ff5a422ead"
   },
   "outputs": [
    {
     "data": {
      "text/latex": [
       "$\\displaystyle p \\wedge \\left(p \\vee \\left(p \\wedge q\\right)\\right) \\wedge \\left(q \\vee \\neg p\\right)$"
      ],
      "text/plain": [
       "p & (q | ~p) & (p | (p & q))"
      ]
     },
     "execution_count": 3,
     "metadata": {},
     "output_type": "execute_result"
    }
   ],
   "source": [
    "from sympy import *\n",
    "from sympy.logic.inference import satisfiable\n",
    "\n",
    "p,q,r,s,t = symbols('p q r s t')\n",
    "\n",
    "def maakconjunctie(P):\n",
    "    '''Creates a conjunction from a set or list of formulas.'''\n",
    "    P=list(P)\n",
    "    if P:\n",
    "        return P[0]&maakconjunctie(P[1:])\n",
    "    else:\n",
    "        return True\n",
    "#test\n",
    "maakconjunctie({p, ~p |q, p|(p&q)})    "
   ]
  },
  {
   "cell_type": "code",
   "execution_count": 4,
   "metadata": {
    "colab": {
     "base_uri": "https://localhost:8080/"
    },
    "deletable": false,
    "id": "ULtEXItYTn8C",
    "nbgrader": {
     "cell_type": "code",
     "checksum": "d6def210c05805c9f0f4424f2037b2f8",
     "grade": false,
     "grade_id": "q1a",
     "locked": false,
     "schema_version": 3,
     "solution": true
    },
    "outputId": "e7876bce-569a-410d-ad4c-91730af9b65c"
   },
   "outputs": [
    {
     "name": "stdout",
     "output_type": "stream",
     "text": [
      "{p, q | ~p} q True\n",
      "{q, q | ~p} p [{q: True, p: False}]\n",
      "{q, Implies(p, q)} p {q: True, p: False}\n",
      "{q, Implies(p, q), r | s} p [{s: True, r: True, q: True, p: False}, {s: True, r: False, q: True, p: False}, {s: False, r: True, q: True, p: False}]\n"
     ]
    }
   ],
   "source": [
    "def implies(Premisses, Conclusion, allmodels=False):\n",
    "    '''Return True if Conclusion follows from Premisses, \n",
    "    return a (or all) countermodel(s) otherwise. '''\n",
    "    P= maakconjunctie(Premisses)\n",
    "    \n",
    "    if not Conclusion.atoms().issubset(P.atoms()):\n",
    "        print('WARNING: All proposition letters in the Conclusion should occur in some formula of the Premisses.')\n",
    "        raise\n",
    "    else:\n",
    "        tegenvoorbeeld = [one for one in list(satisfiable(P, all_models=True)) for two in one \n",
    "                            if two == Conclusion and one[two] != True]\n",
    "        \n",
    "        if len(tegenvoorbeeld) == 0:\n",
    "            return True\n",
    "        else:\n",
    "            if allmodels:\n",
    "                return tegenvoorbeeld\n",
    "            else:\n",
    "                return tegenvoorbeeld[0]\n",
    "        \n",
    "       \n",
    "\n",
    "\n",
    "     \n",
    "#TEST\n",
    "P= {~p|q,p}\n",
    "C= q   \n",
    "\n",
    "print(P, C, implies(P,C, allmodels=True ))\n",
    "P= {~p|q,q}\n",
    "C= p   \n",
    "\n",
    "print(P, C, implies(P,C, allmodels=True ))\n",
    "\n",
    "P= {p>>q,q}  # andere manier om implicatie te schrijven\n",
    "C= p   \n",
    "\n",
    "print(P, C, implies(P,C))\n",
    "\n",
    "P= {p>>q,q,(r|s)}  # andere manier om implicatie te schrijven\n",
    "C= p \n",
    "\n",
    "print(P, C, implies(P,C, allmodels=True ))\n",
    "P= {p>>q,q}  # andere manier om implicatie te schrijven\n",
    "C= r\n",
    "\n",
    "#implies(P,C) Dit geeft een error. Probeer het ook zelf"
   ]
  },
  {
   "cell_type": "code",
   "execution_count": 5,
   "metadata": {
    "deletable": false,
    "editable": false,
    "id": "tn8JkE1ZTn8D",
    "nbgrader": {
     "cell_type": "code",
     "checksum": "5b33c7c17b5accedae26816698100cf8",
     "grade": true,
     "grade_id": "q1t",
     "locked": true,
     "points": 4,
     "schema_version": 3,
     "solution": false
    }
   },
   "outputs": [],
   "source": [
    "assert_equal(type(implies({p},p)), bool)\n",
    "assert_equal(type(implies({p|q},p)), dict)\n",
    "assert_equal(type(implies({p|q},p, allmodels=True)), list)\n"
   ]
  },
  {
   "cell_type": "markdown",
   "metadata": {
    "deletable": false,
    "editable": false,
    "id": "xqJ5yfoHTn8D",
    "nbgrader": {
     "cell_type": "markdown",
     "checksum": "2f83bbf70121d5ca0b4bb19e093f92a9",
     "grade": false,
     "grade_id": "q2",
     "locked": true,
     "schema_version": 3,
     "solution": false
    }
   },
   "source": [
    "# Q2 Vreemde modellen\n",
    "\n",
    "### Deel 1 (2pt)\n",
    "1. Je maakt vreemde modellen voor je netwerk van familierelaties. Modellen die wel mogen, maar in het echt niet of vrijwel nooit voorkomen. \n",
    "2. Daarna probeer je die met logische formules te verbieden. Je verzint dus zinnen die *niet waar* zijn op die ongewenste modellen.\n",
    "\n",
    "In ieder geval verzin je zinnen die de volgende vijf modellen verbieden (die soort $\\Sigma$ bij een knoop is eigenlijk een M en staat voor Man. Gebruik dus weer de predicaatlogische relaties $R,M,V$ in die zinnen, en niks anders. Geef duidelijk aan welk model je met welke zin verbiedt.\n",
    "\n",
    "![](vreemd.jpg)\n",
    "\n",
    "### Deel 2 (2pt)\n",
    "\n",
    "Ga nu verder en verzin nog meer modellen die je zou willen verbieden. Misschien vindt je er wel oneindig veel! Kan je daar een zin die die allemaal verbiedt voor vinden? Kan je het met oneindig veel zinnen? Geef ze!\n",
    "\n",
    "**Je antwoorden zijn keurige Latex formules, en natuurlijk wel gevormd, met nette haakjes etc.**\n",
    "\n",
    "**Voor je modellen, maak je plaatjes in netwerkx, met de hand, of iets anders, als het maar heel duidelijk is (en dus niet zo als die in deze opgave ;-)**"
   ]
  },
  {
   "cell_type": "markdown",
   "metadata": {
    "deletable": false,
    "id": "J3evTLyNTn8E",
    "nbgrader": {
     "cell_type": "markdown",
     "checksum": "405fa2c00f2ea1f1b2a314950eed1629",
     "grade": true,
     "grade_id": "q2a",
     "locked": false,
     "points": 4,
     "schema_version": 3,
     "solution": true
    }
   },
   "source": [
    "### Deel 1\n",
    "\n",
    "**Vreemde modellen (van vreemd.jpg)**\n",
    "- Ouder van jezelf zijn\n",
    "- Twee mannen als ouders hebben\n",
    "- Een grootouder is ouder van diens kleinkind\n",
    "- Een kleinkind is ouder van diens grootouder\n",
    "- Een kind is ouder van diens ouder\n",
    " \n",
    "**Verbieden met logische formules**\n",
    "\n",
    "- Niemand is een ouder van zichzelf\n",
    " - $ \\forall x(\\neg R(x,x)) $\n",
    " \n",
    "- Niemand heeft twee mannen als ouders\n",
    " - $ \\forall xyz((R(x,y) \\wedge R(z,y) \\wedge \\neg(z = x)) \\rightarrow \\neg (M(z) \\wedge M(x)))$\n",
    "  \n",
    "- Een grootouder is geen ouder van diens kleinkind\n",
    " - $ \\forall xyz((R(x,y) \\wedge R(z,x)) \\rightarrow \\neg R(z,y)) $\n",
    "\n",
    "\n",
    "- Een kleinkind is geen ouder van diens grootouder\n",
    "  - $ \\forall xyz((R(x,y) \\wedge R(z,x)) \\rightarrow \\neg R(y,z)) $\n",
    "\n",
    "- Een kind is geen ouder van diens ouder\n",
    "  - $ \\forall xy(R(x,y) \\rightarrow \\neg R(y,x)) $\n",
    "\n",
    "\n",
    "### Deel 2: onze eigen vreemde modellen\n",
    "\n",
    "![Tekening van modellen](https://i.ibb.co/L8Jjmfn/7-F8-C6-F0-B-6-EC6-418-A-9508-1-D39-BD03-BB82.jpg)\n",
    "\n",
    "- Twee vrouwen als ouder hebben\n",
    " - $ \\forall xyz((R(x,y) \\wedge R(z,y) \\wedge \\neg(z = x)) \\rightarrow \\neg (V(z) \\wedge V(x)))$\n",
    "- Drie  ouders hebben\n",
    " - $ \\forall xyzp((R(y,x) \\wedge R(z,x)  \\wedge \\neg(y=z) \\wedge \\neg(y=p) \\wedge \\neg(z=p)) \\rightarrow \\neg R(p,x))$\n",
    "- Slechts één ouder hebben\n",
    "  - $ \\forall xy(R(x,y) \\rightarrow \\exists z(\\neg(z=x) \\wedge R(z,y))) $\n",
    "- Broer+zus/broer+broer/zus+zus als ouders hebben\n",
    "  - $ \\forall xyzpk((R(x,y) \\wedge R(z,y) \\wedge R(p,x) \\wedge R(k,x) \\wedge \\neg (x=z) \\wedge \\neg(p=k)) \\rightarrow \\neg (R(p,z) \\wedge R(k,z) ))$\n",
    "\n",
    "En je kan natuurlijk met één zin alles verbieden, door de zinnen samen te voegen.\n",
    "\n",
    "$ \\forall xyzpk(((R(x,y) \\wedge R(z,y) \\wedge \\neg(z = x)) \\rightarrow \\neg (V(z) \\wedge V(x))) \\vee ((R(y,x) \\wedge R(z,x)  \\wedge \\neg(y=z) \\wedge \\neg(y=p) \\wedge \\neg(z=p)) \\rightarrow \\neg R(p,x)) \\vee (R(x,y) \\rightarrow \\exists a(\\neg(a=x) \\wedge R(a,y))) \\vee ((R(x,y) \\wedge R(z,y) \\wedge R(p,x) \\wedge R(k,x) \\wedge \\neg (x=z) \\wedge \\neg(p=k)) \\rightarrow \\neg (R(p,z) \\wedge R(k,z)))) $"
   ]
  },
  {
   "cell_type": "markdown",
   "metadata": {
    "deletable": false,
    "editable": false,
    "id": "dFIaUyF6Tn8E",
    "nbgrader": {
     "cell_type": "markdown",
     "checksum": "e5e94e8ec57a4c8bac0a5d470b76590f",
     "grade": false,
     "grade_id": "q3",
     "locked": true,
     "schema_version": 3,
     "solution": false
    }
   },
   "source": [
    "# Q3 Conjunctieve vragen aan een netwerk (4pt)\n",
    "\n",
    "* Een netwerk met feiten (en regels) is natuurlijk ook een database (of een *triple store*), en wat doen we met dat soort dingen? We stellen er vragen aan, en krijgen dan antwoord. Normaal doe je dat in SQL. In deze cursus leer je hoe je dat doet in SPARQL. Later bij Data Science leer je hoe je dat doet met `pandas`. \n",
    "* De preciese taal maakt niet, de meeste vragen die je stelt in je leven (en alle andere mensen op aarde) zijn zogenaamde *conjunctive queries*: eerste orde formules van de vorm $\\exists \\bar{x} (\\bigwedge R(x_i,x_j))$. \n",
    "* Bijvoorbeeld, \"wie zijn de grootouders van Henkie?\" wordt dan  $\\exists z (R(x,z) \\wedge R(z,\"Henkie\"))$. Je kunt dat zelf vast prima in SQL en volgende week in SPARQL zeggen.\n",
    "* Een *conjucntieve query* kan je ook zien als een netwerk! Als een voorbeeld netwerkje.\n",
    "    * $R(x,y)\\wedge R(y,z) \\wedge R(x,z)$ vraagt om alle \"driehoekjes\"\n",
    "    * Dat kan ik ook zeggen als dit netwerk (ja ik weet dat dit ongericht is, en wij alles gericht doen, maar dat laat ik aan jullie over)\n",
    "<pre>\n",
    "A = nx.Graph()\n",
    "A.add_edges_from([('x','y'),('x','z'),('x','z')])\n",
    "</pre>\n",
    "* Het **antwoord** op deze vraag gegeven een netwerk `M` is dan alle deelnetwerken van `M` die isomorf zijn met `A` (plus natuurlijk hoe de knopen in `M` dan gematched worden met de \"knopen\" (= variabelen) in `A`.\n",
    "* Programmeer dit in networkx.\n",
    "* Het antwoord is verbazend simpel, uiteindelijk. Denk eerst na, ga dan gericht zoeken!\n",
    "\n",
    "#### Eisen\n",
    "* `CQ` kan werken op `nx.Digraphs` met boolse attributen op de knopen, en 1 relatie. \n",
    "* Dus vergelijkbaar met je ouder database (maar dan heb je twee boolse attributen). Je hebt dus een attribuut voor elke 1 plaatsige relatie.\n",
    "* Je kan ervan uitgaan dat de query graaf altijd in de \"taal\" geschreven is van de model graaf.\n",
    "* Let op: je hoeft de projectie niet te doen in CQ. Dus je vraag is  altijd  equivalent aan een een conjunctie van atomen (dus zonder existentiele quantifier (dat is namelijk de projectie in DB termen)).\n",
    "\n",
    "## Deel 2\n",
    "\n",
    "* Hoe kostbaar is deze manier van vragen beantwoorden? \n",
    "    * Probeer het eens uit te rekenen als functie van  het aantal knopen in het Model netwerk en in het vraag netwerk. \n",
    "    * Heftig?\n",
    "    * Zou het beter kunnen?\n",
    "    * Zou het echt beter kunnen?\n",
    "    * Zoek eens op hoe lastig dit probleem eigenlijk is. Had je niet gedacht he?\n"
   ]
  },
  {
   "cell_type": "code",
   "execution_count": 6,
   "metadata": {
    "colab": {
     "base_uri": "https://localhost:8080/",
     "height": 248
    },
    "id": "OGSB0tdTTn8F",
    "outputId": "c63afe4f-6dce-40a6-8afd-0e7c554ef25a"
   },
   "outputs": [
    {
     "data": {
      "image/png": "[encoded data removed]",
      "text/plain": [
       "<Figure size 432x288 with 1 Axes>"
      ]
     },
     "metadata": {},
     "output_type": "display_data"
    }
   ],
   "source": [
    "G= nx.karate_club_graph()\n",
    "nx.draw_networkx(G)\n",
    "\n",
    "# Geef me alle driehoekjes in G. Ik vond 270 verschillende.\n",
    "A = nx.Graph()\n",
    "A.add_edges_from([('x','y'),('x','z'),('y','z')])"
   ]
  },
  {
   "cell_type": "code",
   "execution_count": 7,
   "metadata": {
    "colab": {
     "base_uri": "https://localhost:8080/"
    },
    "deletable": false,
    "id": "81loHsDlTn8F",
    "nbgrader": {
     "cell_type": "code",
     "checksum": "4f8f0c4aee793c8fc304c59497077e77",
     "grade": false,
     "grade_id": "q3a",
     "locked": false,
     "schema_version": 3,
     "solution": true
    },
    "outputId": "5509aaea-0680-4a4b-ae42-4cc86e9a7199"
   },
   "outputs": [
    {
     "name": "stdout",
     "output_type": "stream",
     "text": [
      "270\n"
     ]
    }
   ],
   "source": [
    "def CQ(Model,Query):\n",
    "    '''Returns a generator of dicts, where each dict is a bijective mapping from  nodes in Model\n",
    "    to all nodes in  Query.\n",
    "    The keys are the model nodes.\n",
    "    The set of dict values equals the set of nodes of Query.\n",
    "    The generator returns all answers to the Query on this Model.'''\n",
    "\n",
    "    if type(Model) == nx.Graph:\n",
    "      # Regular Graph\n",
    "      return nx.algorithms.isomorphism.GraphMatcher(Model, Query).subgraph_isomorphisms_iter()\n",
    "\n",
    "    if type(Model) == nx.DiGraph:\n",
    "      # DiGraph\n",
    "      return nx.algorithms.isomorphism.DiGraphMatcher(Model, Query).subgraph_isomorphisms_iter()\n",
    "    \n",
    "    \n",
    "#test\n",
    "\n",
    "CQ(G,A)\n",
    "print(len(list(CQ(G,A))))\n",
    "# for antwoord in CQ(G,A):\n",
    "#    print(antwoord)\n",
    "\n",
    "    "
   ]
  },
  {
   "cell_type": "code",
   "execution_count": 8,
   "metadata": {
    "deletable": false,
    "editable": false,
    "id": "puP5Tb0NTn8G",
    "nbgrader": {
     "cell_type": "code",
     "checksum": "d307aef902ce9c06e013de81136efd9e",
     "grade": true,
     "grade_id": "q3t",
     "locked": true,
     "points": 4,
     "schema_version": 3,
     "solution": false
    }
   },
   "outputs": [],
   "source": [
    "assert isinstance(CQ(G,A),Generator)"
   ]
  },
  {
   "cell_type": "markdown",
   "metadata": {
    "id": "g0XVXZe0s2Mh"
   },
   "source": [
    "## Deel 2\n",
    "*Onze manier lijkt ons vrij efficient. De time functie geeft aan dat het hele Karate Club network 65 µs duurt om te berekenen. Dat is over 34 nodes: 1,91 µs per node. Het probleem lijkt makkelijker dan aanvankelijk gedacht. Onze implementatie is uit goed zoeken in de documentatie voortgekomen en lijkt ons daarom een vrij efficiente manier om dit aan te pakken. Er is meer informatie over deze implementatie beschikbaar in de [documentatie (undirected graphs)](https://networkx.org/documentation/stable/reference/algorithms/generated/networkx.algorithms.isomorphism.GraphMatcher.subgraph_isomorphisms_iter.html) en de [documentatie (directed graphs)](https://networkx.org/documentation/stable/reference/algorithms/generated/networkx.algorithms.isomorphism.DiGraphMatcher.subgraph_isomorphisms_iter.html)*"
   ]
  },
  {
   "cell_type": "code",
   "execution_count": null,
   "metadata": {},
   "outputs": [],
   "source": []
  }
 ],
 "metadata": {
  "celltoolbar": "Edit Metadata",
  "colab": {
   "collapsed_sections": [],
   "name": "AssignmentWeek3.ipynb",
   "provenance": []
  },
  "kernelspec": {
   "display_name": "Python 3",
   "language": "python",
   "name": "python3"
  },
  "language_info": {
   "codemirror_mode": {
    "name": "ipython",
    "version": 3
   },
   "file_extension": ".py",
   "mimetype": "text/x-python",
   "name": "python",
   "nbconvert_exporter": "python",
   "pygments_lexer": "ipython3",
   "version": "3.8.3"
  },
  "toc": {
   "nav_menu": {},
   "number_sections": true,
   "sideBar": true,
   "skip_h1_title": false,
   "title_cell": "Table of Contents",
   "title_sidebar": "Contents",
   "toc_cell": true,
   "toc_position": {},
   "toc_section_display": true,
   "toc_window_display": false
  }
 },
 "nbformat": 4,
 "nbformat_minor": 1
}
