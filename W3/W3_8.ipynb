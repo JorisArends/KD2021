{
 "cells": [
  {
   "cell_type": "markdown",
   "metadata": {
    "id": "NVRM57aEFGAL"
   },
   "source": [
    "# Assignment Kennis en Data"
   ]
  },
  {
   "cell_type": "markdown",
   "metadata": {
    "id": "2r1ZhcU-FGAP"
   },
   "source": [
    "## Notebook made by\n",
    "\n",
    "\n",
    "|Naam|Studentnummer|\n",
    "|-|-|\n",
    "|Maurizia| secret |\n",
    "|Naomi|secret|\n",
    "|Justin|secret|\n",
    "|Hugo|secret |\n",
    "\n",
    "## Peerreview\n",
    "\n",
    "* Vul onderstaande dict/tabel in en run de cel. Klopt het? Zijn jullie het er allemaal mee eens?\n",
    "    * Verander `1,2,3,4` door jullie studentnummers\n",
    "    * `1: {1:.2,2:.3,3:.3,4:.2}` betekent dat student 1 zijn punt zo over de 4 studenten verdeelt\n",
    "    * Let op, per student moeten de punten optellen tot 1!\n",
    "    * De gegeven punten staan in de tabel op de rijen, de ontvangen punten in de kolommen.\n",
    "    * met `cijfer_per_student` kan je bepalen welk cijfer ieder krijgt bij een gegeven groepscijfer."
   ]
  },
  {
   "cell_type": "markdown",
   "metadata": {
    "id": "TyppyRuCFGAQ"
   },
   "source": [
    "## Toelichting\n",
    "\n",
    "* De meeste opgaven worden automatisch nagekeken. Bij vrijwel alle opdrachten staan er een paar tests onder de opdracht, dit is voornamelijk om te zorgen dat je de juiste type output geeft. Dit zijn dus *NIET* alle tests, die komen er bij het graden nog bij.\n",
    "* Elke vraag is 1 punt waard, tenzij anders aangegeven. Soms is die punt onderverdeeld in deelpunten, maar niet altijd. \n",
    "\n",
    "## Voor het inleveren!\n",
    "\n",
    "* Pas niet de cellen aan, vooral niet die je niet kunt editen. Dit levert problemen op bij nakijken. Twijfel je of je per ongeluk iets hebt gewijzigd, kopieer dan bij inleveren je antwoorden naar een nieuw bestand, zodat het niet fout kan gaan.\n",
    "\n",
    "* Zorg dat de code goed runt van boven naar beneden, verifieer dat door boven in Kernel -> Restart & Run All uit te voeren\n",
    "\n",
    "## Na het inleveren!\n",
    "\n",
    "* Het gebeurt erg vaak dat mensen een \"leeg bestand\" inleveren. Vaak een andere versie van de opgave die nog ergens op je computer rondslingerde. Zonde van al je werk toch!\n",
    "* Dus, lever **minstens een half uur voor tijd in**. Download dan wat je hebt ingeleverd op Canvas. Geef het een andere naam om verwarring te voorkomen. En draai alle cellen, en bekijk het. Geen syntax fouten? Alle vragen gemaakt? Dan zit het vast wel goed, en hoef je niet in de zenuwen te zitten."
   ]
  },
  {
   "cell_type": "markdown",
   "metadata": {
    "id": "8oS8BqI6FGAR",
    "toc": true
   },
   "source": [
    "<h1>Table of Contents<span class=\"tocSkip\"></span></h1>\n",
    "<div class=\"toc\"><ul class=\"toc-item\"><li><span><a href=\"#Q1-logisch-gevolg-(4pts)\" data-toc-modified-id=\"Q1-logisch-gevolg-(4pts)-1\"><span class=\"toc-item-num\">1&nbsp;&nbsp;</span>Q1 logisch gevolg (4pts)</a></span></li><li><span><a href=\"#Q2-Vreemde-modellen-(4pts)\" data-toc-modified-id=\"Q2-Vreemde-modellen-(4pts)-2\"><span class=\"toc-item-num\">2&nbsp;&nbsp;</span>Q2 Vreemde modellen (4pts)</a></span></li><li><span><a href=\"#Q3-Conjunctieve-vragen-aan-een-netwerk-(4pts)\" data-toc-modified-id=\"Q3-Conjunctieve-vragen-aan-een-netwerk-(4pts)-3\"><span class=\"toc-item-num\">3&nbsp;&nbsp;</span>Q3 Conjunctieve vragen aan een netwerk (4pts)</a></span></li><li><span><a href=\"#Q1-logisch-gevolg\" data-toc-modified-id=\"Q1-logisch-gevolg-4\"><span class=\"toc-item-num\">4&nbsp;&nbsp;</span>Q1 logisch gevolg</a></span></li><li><span><a href=\"#Q2-Vreemde-modellen\" data-toc-modified-id=\"Q2-Vreemde-modellen-5\"><span class=\"toc-item-num\">5&nbsp;&nbsp;</span>Q2 Vreemde modellen</a></span><ul class=\"toc-item\"><li><ul class=\"toc-item\"><li><span><a href=\"#Deel-1-(2pt)\" data-toc-modified-id=\"Deel-1-(2pt)-5.0.1\"><span class=\"toc-item-num\">5.0.1&nbsp;&nbsp;</span>Deel 1 (2pt)</a></span></li><li><span><a href=\"#Deel-2-(2pt)\" data-toc-modified-id=\"Deel-2-(2pt)-5.0.2\"><span class=\"toc-item-num\">5.0.2&nbsp;&nbsp;</span>Deel 2 (2pt)</a></span></li><li><span><a href=\"#deel-1\" data-toc-modified-id=\"deel-1-5.0.3\"><span class=\"toc-item-num\">5.0.3&nbsp;&nbsp;</span>deel 1</a></span></li><li><span><a href=\"#deel-2\" data-toc-modified-id=\"deel-2-5.0.4\"><span class=\"toc-item-num\">5.0.4&nbsp;&nbsp;</span>deel 2</a></span></li></ul></li></ul></li><li><span><a href=\"#Q3-Conjunctieve-vragen-aan-een-netwerk-(4pt)\" data-toc-modified-id=\"Q3-Conjunctieve-vragen-aan-een-netwerk-(4pt)-6\"><span class=\"toc-item-num\">6&nbsp;&nbsp;</span>Q3 Conjunctieve vragen aan een netwerk (4pt)</a></span><ul class=\"toc-item\"><li><ul class=\"toc-item\"><li><ul class=\"toc-item\"><li><span><a href=\"#Eisen\" data-toc-modified-id=\"Eisen-6.0.0.1\"><span class=\"toc-item-num\">6.0.0.1&nbsp;&nbsp;</span>Eisen</a></span></li></ul></li></ul></li><li><span><a href=\"#Deel-2\" data-toc-modified-id=\"Deel-2-6.1\"><span class=\"toc-item-num\">6.1&nbsp;&nbsp;</span>Deel 2</a></span></li></ul></li></ul></div>"
   ]
  },
  {
   "cell_type": "code",
   "execution_count": null,
   "metadata": {
    "colab": {
     "base_uri": "https://localhost:8080/"
    },
    "id": "PuRX9acVBoMZ",
    "outputId": "ff309bee-ffc8-472a-ba90-578835ff3bce"
   },
   "outputs": [
    {
     "name": "stdout",
     "output_type": "stream",
     "text": [
      "Collecting nose\n",
      "\u001b[?25l  Downloading https://files.pythonhosted.org/packages/15/d8/dd071918c040f50fa1cf80da16423af51ff8ce4a0f2399b7bf8de45ac3d9/nose-1.3.7-py3-none-any.whl (154kB)\n",
      "\r",
      "\u001b[K     |██▏                             | 10kB 9.5MB/s eta 0:00:01\r",
      "\u001b[K     |████▎                           | 20kB 12.8MB/s eta 0:00:01\r",
      "\u001b[K     |██████▍                         | 30kB 9.5MB/s eta 0:00:01\r",
      "\u001b[K     |████████▌                       | 40kB 8.2MB/s eta 0:00:01\r",
      "\u001b[K     |██████████▋                     | 51kB 4.3MB/s eta 0:00:01\r",
      "\u001b[K     |████████████▊                   | 61kB 4.9MB/s eta 0:00:01\r",
      "\u001b[K     |██████████████▉                 | 71kB 4.8MB/s eta 0:00:01\r",
      "\u001b[K     |█████████████████               | 81kB 5.1MB/s eta 0:00:01\r",
      "\u001b[K     |███████████████████             | 92kB 5.3MB/s eta 0:00:01\r",
      "\u001b[K     |█████████████████████▏          | 102kB 5.8MB/s eta 0:00:01\r",
      "\u001b[K     |███████████████████████▎        | 112kB 5.8MB/s eta 0:00:01\r",
      "\u001b[K     |█████████████████████████▍      | 122kB 5.8MB/s eta 0:00:01\r",
      "\u001b[K     |███████████████████████████▌    | 133kB 5.8MB/s eta 0:00:01\r",
      "\u001b[K     |█████████████████████████████▋  | 143kB 5.8MB/s eta 0:00:01\r",
      "\u001b[K     |███████████████████████████████▊| 153kB 5.8MB/s eta 0:00:01\r",
      "\u001b[K     |████████████████████████████████| 163kB 5.8MB/s \n",
      "\u001b[?25hInstalling collected packages: nose\n",
      "Successfully installed nose-1.3.7\n"
     ]
    }
   ],
   "source": [
    "!pip install nose"
   ]
  },
  {
   "cell_type": "code",
   "execution_count": null,
   "metadata": {
    "ExecuteTime": {
     "end_time": "2021-02-16T08:46:29.740024Z",
     "start_time": "2021-02-16T08:46:28.790814Z"
    },
    "deletable": false,
    "editable": false,
    "id": "r-r68mqvFGAR",
    "nbgrader": {
     "cell_type": "code",
     "checksum": "9494647199f10186da81733238f0dcfb",
     "grade": false,
     "grade_id": "intro",
     "locked": true,
     "schema_version": 3,
     "solution": false
    }
   },
   "outputs": [],
   "source": [
    "from typing import Generator\n",
    "from nose.tools import assert_equal, assert_count_equal\n",
    "import networkx as nx\n",
    "\n",
    "%matplotlib inline"
   ]
  },
  {
   "cell_type": "markdown",
   "metadata": {
    "deletable": false,
    "editable": false,
    "id": "YiA1LtPCFGAR",
    "nbgrader": {
     "cell_type": "markdown",
     "checksum": "a406ab219b4af084226b62988a10219e",
     "grade": false,
     "grade_id": "intro2",
     "locked": true,
     "schema_version": 3,
     "solution": false
    }
   },
   "source": [
    "# Q1 logisch gevolg (4pts)\n",
    "\n",
    "* Je maakt een Python programma waaraan je een verzameling premissen $\\Sigma$ en een conclusie $\\phi$ in propositielogische formules geeft en die teruggeeft of $\\Sigma\\models\\phi$. \n",
    "    * In het geval van niet geef je een (of alle) tegenvoorbeelden terug.\n",
    "    \n",
    "# Q2 Vreemde modellen (4pts)\n",
    "\n",
    "* Je maakt vreemde modellen voor je netwerk van familierelaties. Modellen die wel mogen, maar in het echt niet of vrijwel nooit voorkomen. \n",
    "* Daarna probeer je die met logische formules te verbieden. Je verzint dus zinnen die *niet waar* zijn op die ongewenste modellen.\n",
    "\n",
    "# Q3 Conjunctieve vragen aan een netwerk (4pts)\n",
    "\n",
    "* Een netwerk met feiten (en regels) is natuurlijk ook een database (of een *triple store*), en wat doen we met dat soort dingen? We stellen er vragen aan, en krijgen dan antwoord. Normaal doe je dat in SQL. In deze cursus leer je hoe je dat doet in SPARQL. Later bij Data Science leer je hoe je dat doet met `pandas`. \n",
    "* De preciese taal maakt niet, de meeste vragen die je stelt in je leven (en alle andere mensen op aarde) zijn zogenaamde *conjunctive queries*: eerste orde formules van de vorm $\\exists \\bar{x} (\\bigwedge R(x_i,x_j))$. \n",
    "    * OK OK, je gebruikt ook nog wel eens het connectief \"of\", maar dat is makkelijk toe te voegen aanje programma als je dit hebt.\n",
    "        * (want je kunt alle \"of\"s naar buiten brengen, en dan heb je dus een grote disjunctie van CQs.\n",
    "        * die draai je allemaal achter (of naast) elkaar, en neemt de vereniging van de antwoorden.\n",
    "        * Probeer maar eens een voorbeeld\n",
    "* Bijvoorbeeld, \"wie zijn de grootouders van Henkie?\" wordt dan  $\\exists z (R(x,z) \\wedge R(z,\"Henkie\"))$. Je kunt dat zelf vast prima in SQL en volgende week in SPARQL zeggen."
   ]
  },
  {
   "cell_type": "markdown",
   "metadata": {
    "deletable": false,
    "editable": false,
    "id": "1rz7dWGPFGAS",
    "nbgrader": {
     "cell_type": "markdown",
     "checksum": "fb3131489d9ba97c1ef0a560cefc9b13",
     "grade": false,
     "grade_id": "q1",
     "locked": true,
     "schema_version": 3,
     "solution": false
    }
   },
   "source": [
    "# Q1 logisch gevolg\n",
    "\n",
    "* We werken met de [sympy module](https://docs.sympy.org/latest/modules/logic.html). Dat is erg handig. Neem hem eerst goed door en speel er wat mee.\n",
    "* In de cel hieronder vind je een handige routine.\n",
    "* Je gebruikt natuurlijk  de definitie van $\\Sigma\\models\\phi$, van logisch gevolg dus.\n",
    "* En daarvoor is de `sympy` routine `satisfiable` best handig....\n",
    "* De tests in de antwoord cel gaven bij mij dit:\n",
    "<pre>\n",
    "{p, q | ~p} q True\n",
    "{q, q | ~p} p [{q: True, p: False}]\n",
    "{q, Implies(p, q)} p {q: True, p: False}\n",
    "{q & (r | s), Implies(p, q)} p [{q: True, r: True, s: True, p: False}, {q: True, r: True, s: False, p: False}, {q: True, s: True, r: False, p: False}]\n",
    "WARNING: All proposition letters in the Conclusion should occur in some formula of the Premisses.\n",
    "</pre>"
   ]
  },
  {
   "cell_type": "code",
   "execution_count": null,
   "metadata": {
    "ExecuteTime": {
     "end_time": "2021-02-16T08:49:56.561543Z",
     "start_time": "2021-02-16T08:49:56.544588Z"
    },
    "colab": {
     "base_uri": "https://localhost:8080/"
    },
    "deletable": false,
    "editable": false,
    "id": "7BfYyrPzFGAS",
    "nbgrader": {
     "cell_type": "code",
     "checksum": "8551e7a976aee50c8586cc3f40810fba",
     "grade": false,
     "grade_id": "q1c",
     "locked": true,
     "schema_version": 3,
     "solution": false
    },
    "outputId": "9a201895-d978-4f51-e524-6fee5a5c0f2a"
   },
   "outputs": [
    {
     "data": {
      "text/plain": [
       "p & (q | ~p) & (p | (p & q))"
      ]
     },
     "execution_count": 6,
     "metadata": {
      "tags": []
     },
     "output_type": "execute_result"
    }
   ],
   "source": [
    "from sympy import *\n",
    "from sympy.logic.inference import satisfiable\n",
    "\n",
    "p,q,r,s,t = symbols('p q r s t')\n",
    "\n",
    "def maakconjunctie(P):\n",
    "    '''Creates a conjunction from a set or list of formulas.'''\n",
    "    P=list(P)\n",
    "    if P:\n",
    "        return P[0]&maakconjunctie(P[1:])\n",
    "    else:\n",
    "        return True\n",
    "#test\n",
    "maakconjunctie({p, ~p |q, p|(p&q)})    "
   ]
  },
  {
   "cell_type": "code",
   "execution_count": null,
   "metadata": {
    "ExecuteTime": {
     "end_time": "2021-02-16T08:46:39.557474Z",
     "start_time": "2021-02-16T08:46:39.546490Z"
    },
    "colab": {
     "base_uri": "https://localhost:8080/"
    },
    "deletable": false,
    "id": "zMrFHcKIFGAT",
    "nbgrader": {
     "cell_type": "code",
     "checksum": "d6def210c05805c9f0f4424f2037b2f8",
     "grade": false,
     "grade_id": "q1a",
     "locked": false,
     "schema_version": 3,
     "solution": true
    },
    "outputId": "28aa1f33-8b33-404e-c1bd-e07e742f318f"
   },
   "outputs": [
    {
     "name": "stdout",
     "output_type": "stream",
     "text": [
      "{q | ~p, p} q True\n",
      "{q | ~p, q} p [{q: True, p: False}]\n",
      "{Implies(p, q), q} p {q: True, p: False}\n",
      "{Implies(p, q), r | s, q} p [{q: True, r: True, s: True, p: False}, {q: True, r: True, s: False, p: False}, {q: True, s: True, r: False, p: False}]\n",
      "WARNING: All proposition letters in the Conclusion should occur in some formula of the Premisses.\n"
     ]
    }
   ],
   "source": [
    "def implies(Premisses, Conclusion, allmodels=False):\n",
    "    '''Return True if Conclusion follows from Premisses, \n",
    "    return a (or all) countermodel(s) otherwise. '''\n",
    "    P= maakconjunctie(Premisses)\n",
    "\n",
    "    if not Conclusion.atoms().issubset(P.atoms()):\n",
    "        print('WARNING: All proposition letters in the Conclusion should occur in some formula of the Premisses.')\n",
    "    else:\n",
    "      truemodels = []\n",
    "      # find all the models when the premisses are True\n",
    "      for model in satisfiable(P, all_models = True):\n",
    "          # check if the Conclusion is false\n",
    "          if model.get(Conclusion) == False:\n",
    "              truemodels.append(model)\n",
    "              \n",
    "      # if no countermodel, return true\n",
    "      if not truemodels:\n",
    "          return True\n",
    "      # if coutermodel, return countermodel(s)\n",
    "      else:\n",
    "          if allmodels == False:\n",
    "              return truemodels[0]\n",
    "          else:\n",
    "              return truemodels\n",
    "     \n",
    "#TEST\n",
    "P= {~p|q,p}\n",
    "C= q   \n",
    "\n",
    "print(P, C, implies(P,C, allmodels=True ))\n",
    "P= {~p|q,q}\n",
    "C= p   \n",
    "\n",
    "print(P, C, implies(P,C, allmodels=True ))\n",
    "\n",
    "P= {p>>q,q}  # andere manier om implicatie te schrijven\n",
    "C= p   \n",
    "\n",
    "print(P, C, implies(P,C))\n",
    "\n",
    "P= {p>>q,q,(r|s)}  # andere manier om implicatie te schrijven\n",
    "C= p \n",
    "\n",
    "print(P, C, implies(P,C, allmodels=True ))\n",
    "P= {p>>q,q}  # andere manier om implicatie te schrijven\n",
    "C= r\n",
    "\n",
    "implies(P,C) # Dit geeft een error. Probeer het ook zelf"
   ]
  },
  {
   "cell_type": "code",
   "execution_count": null,
   "metadata": {
    "deletable": false,
    "editable": false,
    "id": "5hbD_0oUFGAT",
    "nbgrader": {
     "cell_type": "code",
     "checksum": "5b33c7c17b5accedae26816698100cf8",
     "grade": true,
     "grade_id": "q1t",
     "locked": true,
     "points": 4,
     "schema_version": 3,
     "solution": false
    }
   },
   "outputs": [],
   "source": [
    "assert_equal(type(implies({p},p)), bool)\n",
    "assert_equal(type(implies({p|q},p)), dict)\n",
    "assert_equal(type(implies({p|q},p, allmodels=True)), list)\n"
   ]
  },
  {
   "cell_type": "markdown",
   "metadata": {
    "deletable": false,
    "editable": false,
    "id": "4RLM4cDWFGAT",
    "nbgrader": {
     "cell_type": "markdown",
     "checksum": "2f83bbf70121d5ca0b4bb19e093f92a9",
     "grade": false,
     "grade_id": "q2",
     "locked": true,
     "schema_version": 3,
     "solution": false
    }
   },
   "source": [
    "# Q2 Vreemde modellen\n",
    "\n",
    "### Deel 1 (2pt)\n",
    "1. Je maakt vreemde modellen voor je netwerk van familierelaties. Modellen die wel mogen, maar in het echt niet of vrijwel nooit voorkomen. \n",
    "2. Daarna probeer je die met logische formules te verbieden. Je verzint dus zinnen die *niet waar* zijn op die ongewenste modellen.\n",
    "\n",
    "In ieder geval verzin je zinnen die de volgende vijf modellen verbieden (die soort $\\Sigma$ bij een knoop is eigenlijk een M en staat voor Man. Gebruik dus weer de predicaatlogische relaties $R,M,V$ in die zinnen, en niks anders. Geef duidelijk aan welk model je met welke zin verbiedt.\n",
    "\n",
    "![](vreemd.jpg)\n",
    "\n",
    "### Deel 2 (2pt)\n",
    "\n",
    "Ga nu verder en verzin nog meer modellen die je zou willen verbieden. Misschien vindt je er wel oneindig veel! Kan je daar een zin die die allemaal verbiedt voor vinden? Kan je het met oneindig veel zinnen? Geef ze!\n",
    "\n",
    "**Je antwoorden zijn keurige Latex formules, en natuurlijk wel gevormd, met nette haakjes etc.**\n",
    "\n",
    "**Voor je modellen, maak je plaatjes in netwerkx, met de hand, of iets anders, als het maar heel duidelijk is (en dus niet zo als die in deze opgave ;-)**"
   ]
  },
  {
   "cell_type": "markdown",
   "metadata": {
    "deletable": false,
    "id": "ray4Bj0wFGAU",
    "nbgrader": {
     "cell_type": "markdown",
     "checksum": "405fa2c00f2ea1f1b2a314950eed1629",
     "grade": true,
     "grade_id": "q2a",
     "locked": false,
     "points": 4,
     "schema_version": 3,
     "solution": true
    }
   },
   "source": [
    "### Deel 1\n",
    "Model: Iedereen is een ouder van zichzelf \n",
    "\n",
    "Zin: $\\forall x(\\neg R(x, x))$\n",
    "\n",
    "Model: Iedereen is een ouder en een kind van iemand (2 modellen)\n",
    "\n",
    "Zin: $\\forall x\\forall y (\\neg R(x,y))$\n",
    "\n",
    "Model: Twee mannen zijn de ouders van één kind \n",
    "\n",
    "Zin: $ \\forall x \\forall y \\forall z(\\neg M(x) \\wedge \\neg M(y) \\rightarrow R(x,z) \\wedge R(y,z)) $\n",
    "\n",
    "Model: Als iemand de grootouder van een kind is, is het ook de ouder van dat kind \n",
    "\n",
    "Zin: $\\forall x \\forall y \\forall z(R(x,y) \\land R(y,z) \\rightarrow \\neg R(x,z))$\n",
    "\n",
    "### Deel 2\n",
    "\n",
    "Model: Iedereen is een ouder van iedereen\n",
    "\n",
    "Zin: $\\forall x\\forall y (\\neg R(x,y))$\n",
    "\n",
    "Model: Een kind heeft geen ouders\n",
    "\n",
    "Zin: $\\forall x \\forall y(R(x,y))$\n",
    "\n",
    "Model: Twee vrouwen zijn de ouders van één kind \n",
    "\n",
    "Zin: $ \\forall x \\forall y \\forall z(\\neg V(x) \\wedge \\neg V(y) \\rightarrow R(x,z) \\wedge R(y,z)) $\n",
    "\n",
    "\n",
    "#De plaatjes staan hier:\n",
    "https://drive.google.com/drive/folders/1ldSdtqs9pYdImSVsnbh-a9NskSlPuPg6?usp=sharing\n"
   ]
  },
  {
   "cell_type": "markdown",
   "metadata": {
    "deletable": false,
    "editable": false,
    "id": "BZETmWrvFGAU",
    "nbgrader": {
     "cell_type": "markdown",
     "checksum": "e5e94e8ec57a4c8bac0a5d470b76590f",
     "grade": false,
     "grade_id": "q3",
     "locked": true,
     "schema_version": 3,
     "solution": false
    }
   },
   "source": [
    "# Q3 Conjunctieve vragen aan een netwerk (4pt)\n",
    "\n",
    "* Een netwerk met feiten (en regels) is natuurlijk ook een database (of een *triple store*), en wat doen we met dat soort dingen? We stellen er vragen aan, en krijgen dan antwoord. Normaal doe je dat in SQL. In deze cursus leer je hoe je dat doet in SPARQL. Later bij Data Science leer je hoe je dat doet met `pandas`. \n",
    "* De preciese taal maakt niet, de meeste vragen die je stelt in je leven (en alle andere mensen op aarde) zijn zogenaamde *conjunctive queries*: eerste orde formules van de vorm $\\exists \\bar{x} (\\bigwedge R(x_i,x_j))$. \n",
    "* Bijvoorbeeld, \"wie zijn de grootouders van Henkie?\" wordt dan  $\\exists z (R(x,z) \\wedge R(z,\"Henkie\"))$. Je kunt dat zelf vast prima in SQL en volgende week in SPARQL zeggen.\n",
    "* Een *conjucntieve query* kan je ook zien als een netwerk! Als een voorbeeld netwerkje.\n",
    "    * $R(x,y)\\wedge R(y,z) \\wedge R(x,z)$ vraagt om alle \"driehoekjes\"\n",
    "    * Dat kan ik ook zeggen als dit netwerk (ja ik weet dat dit ongericht is, en wij alles gericht doen, maar dat laat ik aan jullie over)\n",
    "<pre>\n",
    "A = nx.Graph()\n",
    "A.add_edges_from([('x','y'),('x','z'),('x','z')])\n",
    "</pre>\n",
    "* Het **antwoord** op deze vraag gegeven een netwerk `M` is dan alle deelnetwerken van `M` die isomorf zijn met `A` (plus natuurlijk hoe de knopen in `M` dan gematched worden met de \"knopen\" (= variabelen) in `A`.\n",
    "* Programmeer dit in networkx.\n",
    "* Het antwoord is verbazend simpel, uiteindelijk. Denk eerst na, ga dan gericht zoeken!\n",
    "\n",
    "#### Eisen\n",
    "* `CQ` kan werken op `nx.Digraphs` met boolse attributen op de knopen, en 1 relatie. \n",
    "* Dus vergelijkbaar met je ouder database (maar dan heb je twee boolse attributen). Je hebt dus een attribuut voor elke 1 plaatsige relatie.\n",
    "* Je kan ervan uitgaan dat de query graaf altijd in de \"taal\" geschreven is van de model graaf.\n",
    "* Let op: je hoeft de projectie niet te doen in CQ. Dus je vraag is  altijd  equivalent aan een een conjunctie van atomen (dus zonder existentiele quantifier (dat is namelijk de projectie in DB termen)).\n",
    "\n",
    "## Deel 2\n",
    "\n",
    "* Hoe kostbaar is deze manier van vragen beantwoorden? \n",
    "    * Probeer het eens uit te rekenen als functie van  het aantal knopen in het Model netwerk en in het vraag netwerk. \n",
    "    * Heftig?\n",
    "    * Zou het beter kunnen?\n",
    "    * Zou het echt beter kunnen?\n",
    "    * Zoek eens op hoe lastig dit probleem eigenlijk is. Had je niet gedacht he?\n"
   ]
  },
  {
   "cell_type": "code",
   "execution_count": null,
   "metadata": {
    "colab": {
     "base_uri": "https://localhost:8080/",
     "height": 248
    },
    "id": "lpEP1pxJFGAU",
    "outputId": "6d809ab4-4123-43a8-f564-a0e4c10d5a5b"
   },
   "outputs": [
    {
     "data": {
      "image/png": "[encoded data removed]",
      "text/plain": [
       "<Figure size 432x288 with 1 Axes>"
      ]
     },
     "metadata": {
      "tags": []
     },
     "output_type": "display_data"
    }
   ],
   "source": [
    "G= nx.karate_club_graph()\n",
    "nx.draw_networkx(G)\n",
    "# Geef me alle driehoekjes in G. Ik vond 270 verschillende."
   ]
  },
  {
   "cell_type": "code",
   "execution_count": null,
   "metadata": {
    "colab": {
     "base_uri": "https://localhost:8080/",
     "height": 248
    },
    "id": "Ty7L8pEUiAiu",
    "outputId": "41e30109-a9c2-4617-ad4d-905abe892afc"
   },
   "outputs": [
    {
     "data": {
      "image/png": "[encoded data removed]",
      "text/plain": [
       "<Figure size 432x288 with 1 Axes>"
      ]
     },
     "metadata": {
      "tags": []
     },
     "output_type": "display_data"
    }
   ],
   "source": [
    "A = nx.Graph()\r\n",
    "A.add_edges_from([('x','y'),('x','z'),('y','z')])\r\n",
    "nx.draw_networkx(A)"
   ]
  },
  {
   "cell_type": "markdown",
   "metadata": {
    "id": "By4s-L0zq37K"
   },
   "source": [
    "### Deel 2 Vragen antwoorden\r\n",
    "\r\n",
    "\r\n",
    "*   Gedaan\r\n",
    "*   Ja, heftig\r\n",
    "*   Ja\r\n",
    "*   Ja!\r\n",
    "*   Nee, had ik niet gedacht\r\n",
    "\r\n",
    "\r\n",
    "\r\n",
    "\r\n",
    "\r\n",
    "\r\n",
    "\r\n",
    "\r\n",
    "\r\n"
   ]
  },
  {
   "cell_type": "code",
   "execution_count": null,
   "metadata": {
    "colab": {
     "base_uri": "https://localhost:8080/"
    },
    "deletable": false,
    "id": "I7N3op78FGAU",
    "nbgrader": {
     "cell_type": "code",
     "checksum": "4f8f0c4aee793c8fc304c59497077e77",
     "grade": false,
     "grade_id": "q3a",
     "locked": false,
     "schema_version": 3,
     "solution": true
    },
    "outputId": "c48aea57-89b6-4390-a680-f81a0142ea87"
   },
   "outputs": [
    {
     "name": "stdout",
     "output_type": "stream",
     "text": [
      "<generator object CQ at 0x7f36e0df69e8>\n",
      "270\n",
      "{(0, 1, 2): ('x', 'y', 'z')}\n",
      "{(0, 2, 1): ('x', 'y', 'z')}\n",
      "{(1, 0, 2): ('x', 'y', 'z')}\n",
      "{(1, 2, 0): ('x', 'y', 'z')}\n",
      "{(2, 0, 1): ('x', 'y', 'z')}\n",
      "{(2, 1, 0): ('x', 'y', 'z')}\n",
      "{(0, 1, 3): ('x', 'y', 'z')}\n",
      "{(0, 3, 1): ('x', 'y', 'z')}\n",
      "{(1, 0, 3): ('x', 'y', 'z')}\n",
      "{(1, 3, 0): ('x', 'y', 'z')}\n",
      "{(3, 0, 1): ('x', 'y', 'z')}\n",
      "{(3, 1, 0): ('x', 'y', 'z')}\n",
      "{(0, 1, 7): ('x', 'y', 'z')}\n",
      "{(0, 7, 1): ('x', 'y', 'z')}\n",
      "{(1, 0, 7): ('x', 'y', 'z')}\n",
      "{(1, 7, 0): ('x', 'y', 'z')}\n",
      "{(7, 0, 1): ('x', 'y', 'z')}\n",
      "{(7, 1, 0): ('x', 'y', 'z')}\n",
      "{(0, 1, 13): ('x', 'y', 'z')}\n",
      "{(0, 13, 1): ('x', 'y', 'z')}\n",
      "{(1, 0, 13): ('x', 'y', 'z')}\n",
      "{(1, 13, 0): ('x', 'y', 'z')}\n",
      "{(13, 0, 1): ('x', 'y', 'z')}\n",
      "{(13, 1, 0): ('x', 'y', 'z')}\n",
      "{(0, 1, 17): ('x', 'y', 'z')}\n",
      "{(0, 17, 1): ('x', 'y', 'z')}\n",
      "{(1, 0, 17): ('x', 'y', 'z')}\n",
      "{(1, 17, 0): ('x', 'y', 'z')}\n",
      "{(17, 0, 1): ('x', 'y', 'z')}\n",
      "{(17, 1, 0): ('x', 'y', 'z')}\n",
      "{(0, 1, 19): ('x', 'y', 'z')}\n",
      "{(0, 19, 1): ('x', 'y', 'z')}\n",
      "{(1, 0, 19): ('x', 'y', 'z')}\n",
      "{(1, 19, 0): ('x', 'y', 'z')}\n",
      "{(19, 0, 1): ('x', 'y', 'z')}\n",
      "{(19, 1, 0): ('x', 'y', 'z')}\n",
      "{(0, 1, 21): ('x', 'y', 'z')}\n",
      "{(0, 21, 1): ('x', 'y', 'z')}\n",
      "{(1, 0, 21): ('x', 'y', 'z')}\n",
      "{(1, 21, 0): ('x', 'y', 'z')}\n",
      "{(21, 0, 1): ('x', 'y', 'z')}\n",
      "{(21, 1, 0): ('x', 'y', 'z')}\n",
      "{(0, 2, 3): ('x', 'y', 'z')}\n",
      "{(0, 3, 2): ('x', 'y', 'z')}\n",
      "{(2, 0, 3): ('x', 'y', 'z')}\n",
      "{(2, 3, 0): ('x', 'y', 'z')}\n",
      "{(3, 0, 2): ('x', 'y', 'z')}\n",
      "{(3, 2, 0): ('x', 'y', 'z')}\n",
      "{(0, 2, 7): ('x', 'y', 'z')}\n",
      "{(0, 7, 2): ('x', 'y', 'z')}\n",
      "{(2, 0, 7): ('x', 'y', 'z')}\n",
      "{(2, 7, 0): ('x', 'y', 'z')}\n",
      "{(7, 0, 2): ('x', 'y', 'z')}\n",
      "{(7, 2, 0): ('x', 'y', 'z')}\n",
      "{(0, 2, 8): ('x', 'y', 'z')}\n",
      "{(0, 8, 2): ('x', 'y', 'z')}\n",
      "{(2, 0, 8): ('x', 'y', 'z')}\n",
      "{(2, 8, 0): ('x', 'y', 'z')}\n",
      "{(8, 0, 2): ('x', 'y', 'z')}\n",
      "{(8, 2, 0): ('x', 'y', 'z')}\n",
      "{(0, 2, 13): ('x', 'y', 'z')}\n",
      "{(0, 13, 2): ('x', 'y', 'z')}\n",
      "{(2, 0, 13): ('x', 'y', 'z')}\n",
      "{(2, 13, 0): ('x', 'y', 'z')}\n",
      "{(13, 0, 2): ('x', 'y', 'z')}\n",
      "{(13, 2, 0): ('x', 'y', 'z')}\n",
      "{(0, 3, 7): ('x', 'y', 'z')}\n",
      "{(0, 7, 3): ('x', 'y', 'z')}\n",
      "{(3, 0, 7): ('x', 'y', 'z')}\n",
      "{(3, 7, 0): ('x', 'y', 'z')}\n",
      "{(7, 0, 3): ('x', 'y', 'z')}\n",
      "{(7, 3, 0): ('x', 'y', 'z')}\n",
      "{(0, 3, 12): ('x', 'y', 'z')}\n",
      "{(0, 12, 3): ('x', 'y', 'z')}\n",
      "{(3, 0, 12): ('x', 'y', 'z')}\n",
      "{(3, 12, 0): ('x', 'y', 'z')}\n",
      "{(12, 0, 3): ('x', 'y', 'z')}\n",
      "{(12, 3, 0): ('x', 'y', 'z')}\n",
      "{(0, 3, 13): ('x', 'y', 'z')}\n",
      "{(0, 13, 3): ('x', 'y', 'z')}\n",
      "{(3, 0, 13): ('x', 'y', 'z')}\n",
      "{(3, 13, 0): ('x', 'y', 'z')}\n",
      "{(13, 0, 3): ('x', 'y', 'z')}\n",
      "{(13, 3, 0): ('x', 'y', 'z')}\n",
      "{(0, 4, 6): ('x', 'y', 'z')}\n",
      "{(0, 6, 4): ('x', 'y', 'z')}\n",
      "{(4, 0, 6): ('x', 'y', 'z')}\n",
      "{(4, 6, 0): ('x', 'y', 'z')}\n",
      "{(6, 0, 4): ('x', 'y', 'z')}\n",
      "{(6, 4, 0): ('x', 'y', 'z')}\n",
      "{(0, 4, 10): ('x', 'y', 'z')}\n",
      "{(0, 10, 4): ('x', 'y', 'z')}\n",
      "{(4, 0, 10): ('x', 'y', 'z')}\n",
      "{(4, 10, 0): ('x', 'y', 'z')}\n",
      "{(10, 0, 4): ('x', 'y', 'z')}\n",
      "{(10, 4, 0): ('x', 'y', 'z')}\n",
      "{(0, 5, 6): ('x', 'y', 'z')}\n",
      "{(0, 6, 5): ('x', 'y', 'z')}\n",
      "{(5, 0, 6): ('x', 'y', 'z')}\n",
      "{(5, 6, 0): ('x', 'y', 'z')}\n",
      "{(6, 0, 5): ('x', 'y', 'z')}\n",
      "{(6, 5, 0): ('x', 'y', 'z')}\n",
      "{(0, 5, 10): ('x', 'y', 'z')}\n",
      "{(0, 10, 5): ('x', 'y', 'z')}\n",
      "{(5, 0, 10): ('x', 'y', 'z')}\n",
      "{(5, 10, 0): ('x', 'y', 'z')}\n",
      "{(10, 0, 5): ('x', 'y', 'z')}\n",
      "{(10, 5, 0): ('x', 'y', 'z')}\n",
      "{(1, 2, 3): ('x', 'y', 'z')}\n",
      "{(1, 3, 2): ('x', 'y', 'z')}\n",
      "{(2, 1, 3): ('x', 'y', 'z')}\n",
      "{(2, 3, 1): ('x', 'y', 'z')}\n",
      "{(3, 1, 2): ('x', 'y', 'z')}\n",
      "{(3, 2, 1): ('x', 'y', 'z')}\n",
      "{(1, 2, 7): ('x', 'y', 'z')}\n",
      "{(1, 7, 2): ('x', 'y', 'z')}\n",
      "{(2, 1, 7): ('x', 'y', 'z')}\n",
      "{(2, 7, 1): ('x', 'y', 'z')}\n",
      "{(7, 1, 2): ('x', 'y', 'z')}\n",
      "{(7, 2, 1): ('x', 'y', 'z')}\n",
      "{(1, 2, 13): ('x', 'y', 'z')}\n",
      "{(1, 13, 2): ('x', 'y', 'z')}\n",
      "{(2, 1, 13): ('x', 'y', 'z')}\n",
      "{(2, 13, 1): ('x', 'y', 'z')}\n",
      "{(13, 1, 2): ('x', 'y', 'z')}\n",
      "{(13, 2, 1): ('x', 'y', 'z')}\n",
      "{(1, 3, 7): ('x', 'y', 'z')}\n",
      "{(1, 7, 3): ('x', 'y', 'z')}\n",
      "{(3, 1, 7): ('x', 'y', 'z')}\n",
      "{(3, 7, 1): ('x', 'y', 'z')}\n",
      "{(7, 1, 3): ('x', 'y', 'z')}\n",
      "{(7, 3, 1): ('x', 'y', 'z')}\n",
      "{(1, 3, 13): ('x', 'y', 'z')}\n",
      "{(1, 13, 3): ('x', 'y', 'z')}\n",
      "{(3, 1, 13): ('x', 'y', 'z')}\n",
      "{(3, 13, 1): ('x', 'y', 'z')}\n",
      "{(13, 1, 3): ('x', 'y', 'z')}\n",
      "{(13, 3, 1): ('x', 'y', 'z')}\n",
      "{(2, 3, 7): ('x', 'y', 'z')}\n",
      "{(2, 7, 3): ('x', 'y', 'z')}\n",
      "{(3, 2, 7): ('x', 'y', 'z')}\n",
      "{(3, 7, 2): ('x', 'y', 'z')}\n",
      "{(7, 2, 3): ('x', 'y', 'z')}\n",
      "{(7, 3, 2): ('x', 'y', 'z')}\n",
      "{(2, 3, 13): ('x', 'y', 'z')}\n",
      "{(2, 13, 3): ('x', 'y', 'z')}\n",
      "{(3, 2, 13): ('x', 'y', 'z')}\n",
      "{(3, 13, 2): ('x', 'y', 'z')}\n",
      "{(13, 2, 3): ('x', 'y', 'z')}\n",
      "{(13, 3, 2): ('x', 'y', 'z')}\n",
      "{(2, 8, 32): ('x', 'y', 'z')}\n",
      "{(2, 32, 8): ('x', 'y', 'z')}\n",
      "{(8, 2, 32): ('x', 'y', 'z')}\n",
      "{(8, 32, 2): ('x', 'y', 'z')}\n",
      "{(32, 2, 8): ('x', 'y', 'z')}\n",
      "{(32, 8, 2): ('x', 'y', 'z')}\n",
      "{(5, 6, 16): ('x', 'y', 'z')}\n",
      "{(5, 16, 6): ('x', 'y', 'z')}\n",
      "{(6, 5, 16): ('x', 'y', 'z')}\n",
      "{(6, 16, 5): ('x', 'y', 'z')}\n",
      "{(16, 5, 6): ('x', 'y', 'z')}\n",
      "{(16, 6, 5): ('x', 'y', 'z')}\n",
      "{(8, 30, 32): ('x', 'y', 'z')}\n",
      "{(8, 32, 30): ('x', 'y', 'z')}\n",
      "{(30, 8, 32): ('x', 'y', 'z')}\n",
      "{(30, 32, 8): ('x', 'y', 'z')}\n",
      "{(32, 8, 30): ('x', 'y', 'z')}\n",
      "{(32, 30, 8): ('x', 'y', 'z')}\n",
      "{(8, 30, 33): ('x', 'y', 'z')}\n",
      "{(8, 33, 30): ('x', 'y', 'z')}\n",
      "{(30, 8, 33): ('x', 'y', 'z')}\n",
      "{(30, 33, 8): ('x', 'y', 'z')}\n",
      "{(33, 8, 30): ('x', 'y', 'z')}\n",
      "{(33, 30, 8): ('x', 'y', 'z')}\n",
      "{(8, 32, 33): ('x', 'y', 'z')}\n",
      "{(8, 33, 32): ('x', 'y', 'z')}\n",
      "{(32, 8, 33): ('x', 'y', 'z')}\n",
      "{(32, 33, 8): ('x', 'y', 'z')}\n",
      "{(33, 8, 32): ('x', 'y', 'z')}\n",
      "{(33, 32, 8): ('x', 'y', 'z')}\n",
      "{(14, 32, 33): ('x', 'y', 'z')}\n",
      "{(14, 33, 32): ('x', 'y', 'z')}\n",
      "{(32, 14, 33): ('x', 'y', 'z')}\n",
      "{(32, 33, 14): ('x', 'y', 'z')}\n",
      "{(33, 14, 32): ('x', 'y', 'z')}\n",
      "{(33, 32, 14): ('x', 'y', 'z')}\n",
      "{(15, 32, 33): ('x', 'y', 'z')}\n",
      "{(15, 33, 32): ('x', 'y', 'z')}\n",
      "{(32, 15, 33): ('x', 'y', 'z')}\n",
      "{(32, 33, 15): ('x', 'y', 'z')}\n",
      "{(33, 15, 32): ('x', 'y', 'z')}\n",
      "{(33, 32, 15): ('x', 'y', 'z')}\n",
      "{(18, 32, 33): ('x', 'y', 'z')}\n",
      "{(18, 33, 32): ('x', 'y', 'z')}\n",
      "{(32, 18, 33): ('x', 'y', 'z')}\n",
      "{(32, 33, 18): ('x', 'y', 'z')}\n",
      "{(33, 18, 32): ('x', 'y', 'z')}\n",
      "{(33, 32, 18): ('x', 'y', 'z')}\n",
      "{(20, 32, 33): ('x', 'y', 'z')}\n",
      "{(20, 33, 32): ('x', 'y', 'z')}\n",
      "{(32, 20, 33): ('x', 'y', 'z')}\n",
      "{(32, 33, 20): ('x', 'y', 'z')}\n",
      "{(33, 20, 32): ('x', 'y', 'z')}\n",
      "{(33, 32, 20): ('x', 'y', 'z')}\n",
      "{(22, 32, 33): ('x', 'y', 'z')}\n",
      "{(22, 33, 32): ('x', 'y', 'z')}\n",
      "{(32, 22, 33): ('x', 'y', 'z')}\n",
      "{(32, 33, 22): ('x', 'y', 'z')}\n",
      "{(33, 22, 32): ('x', 'y', 'z')}\n",
      "{(33, 32, 22): ('x', 'y', 'z')}\n",
      "{(23, 27, 33): ('x', 'y', 'z')}\n",
      "{(23, 33, 27): ('x', 'y', 'z')}\n",
      "{(27, 23, 33): ('x', 'y', 'z')}\n",
      "{(27, 33, 23): ('x', 'y', 'z')}\n",
      "{(33, 23, 27): ('x', 'y', 'z')}\n",
      "{(33, 27, 23): ('x', 'y', 'z')}\n",
      "{(23, 29, 32): ('x', 'y', 'z')}\n",
      "{(23, 32, 29): ('x', 'y', 'z')}\n",
      "{(29, 23, 32): ('x', 'y', 'z')}\n",
      "{(29, 32, 23): ('x', 'y', 'z')}\n",
      "{(32, 23, 29): ('x', 'y', 'z')}\n",
      "{(32, 29, 23): ('x', 'y', 'z')}\n",
      "{(23, 29, 33): ('x', 'y', 'z')}\n",
      "{(23, 33, 29): ('x', 'y', 'z')}\n",
      "{(29, 23, 33): ('x', 'y', 'z')}\n",
      "{(29, 33, 23): ('x', 'y', 'z')}\n",
      "{(33, 23, 29): ('x', 'y', 'z')}\n",
      "{(33, 29, 23): ('x', 'y', 'z')}\n",
      "{(23, 32, 33): ('x', 'y', 'z')}\n",
      "{(23, 33, 32): ('x', 'y', 'z')}\n",
      "{(32, 23, 33): ('x', 'y', 'z')}\n",
      "{(32, 33, 23): ('x', 'y', 'z')}\n",
      "{(33, 23, 32): ('x', 'y', 'z')}\n",
      "{(33, 32, 23): ('x', 'y', 'z')}\n",
      "{(24, 25, 31): ('x', 'y', 'z')}\n",
      "{(24, 31, 25): ('x', 'y', 'z')}\n",
      "{(25, 24, 31): ('x', 'y', 'z')}\n",
      "{(25, 31, 24): ('x', 'y', 'z')}\n",
      "{(31, 24, 25): ('x', 'y', 'z')}\n",
      "{(31, 25, 24): ('x', 'y', 'z')}\n",
      "{(26, 29, 33): ('x', 'y', 'z')}\n",
      "{(26, 33, 29): ('x', 'y', 'z')}\n",
      "{(29, 26, 33): ('x', 'y', 'z')}\n",
      "{(29, 33, 26): ('x', 'y', 'z')}\n",
      "{(33, 26, 29): ('x', 'y', 'z')}\n",
      "{(33, 29, 26): ('x', 'y', 'z')}\n",
      "{(28, 31, 33): ('x', 'y', 'z')}\n",
      "{(28, 33, 31): ('x', 'y', 'z')}\n",
      "{(31, 28, 33): ('x', 'y', 'z')}\n",
      "{(31, 33, 28): ('x', 'y', 'z')}\n",
      "{(33, 28, 31): ('x', 'y', 'z')}\n",
      "{(33, 31, 28): ('x', 'y', 'z')}\n",
      "{(29, 32, 33): ('x', 'y', 'z')}\n",
      "{(29, 33, 32): ('x', 'y', 'z')}\n",
      "{(32, 29, 33): ('x', 'y', 'z')}\n",
      "{(32, 33, 29): ('x', 'y', 'z')}\n",
      "{(33, 29, 32): ('x', 'y', 'z')}\n",
      "{(33, 32, 29): ('x', 'y', 'z')}\n",
      "{(30, 32, 33): ('x', 'y', 'z')}\n",
      "{(30, 33, 32): ('x', 'y', 'z')}\n",
      "{(32, 30, 33): ('x', 'y', 'z')}\n",
      "{(32, 33, 30): ('x', 'y', 'z')}\n",
      "{(33, 30, 32): ('x', 'y', 'z')}\n",
      "{(33, 32, 30): ('x', 'y', 'z')}\n",
      "{(31, 32, 33): ('x', 'y', 'z')}\n",
      "{(31, 33, 32): ('x', 'y', 'z')}\n",
      "{(32, 31, 33): ('x', 'y', 'z')}\n",
      "{(32, 33, 31): ('x', 'y', 'z')}\n",
      "{(33, 31, 32): ('x', 'y', 'z')}\n",
      "{(33, 32, 31): ('x', 'y', 'z')}\n"
     ]
    }
   ],
   "source": [
    "import networkx.algorithms.isomorphism as isomorphism\n",
    "from itertools import permutations\n",
    "\n",
    "def CQ(Model,Query):\n",
    "    '''Returns a generator of dicts, where each dict is a bijective mapping from  nodes in Model\n",
    "    to all nodes in  Query.\n",
    "    The keys are the model nodes.\n",
    "    The set of dict values equals the set of nodes of Query.\n",
    "    The generator returns all answers to the Query on this Model.'''\n",
    "\n",
    "    isomorph = []\n",
    "    # generate all possible cliques of Model\n",
    "    cliques = list(nx.enumerate_all_cliques(Model))\n",
    "    for clique in cliques:\n",
    "        subgraphs = Model.subgraph(clique)\n",
    "        # find all isomporph graphs with the same length of Query\n",
    "        if len(subgraphs) == len(Query.nodes()) and nx.is_isomorphic(Model.subgraph(clique), Query):\n",
    "            isomorph.append(clique)\n",
    "\n",
    "    # generate te mapping of the nodes in Model to the nodes in Query\n",
    "    for iso_graph in isomorph:\n",
    "        # generate all permuations of a isomorph graph and make a dict\n",
    "        for permutation in permutations(iso_graph):\n",
    "            yield {permutation:tuple(Query.nodes())}\n",
    "\n",
    "#test\n",
    "print(CQ(G,A))\n",
    "    \n",
    "#test\n",
    "print(len(list(CQ(G,A))))\n",
    "for antwoord in CQ(G,A):\n",
    "   print(antwoord)\n",
    "\n",
    "    "
   ]
  },
  {
   "cell_type": "code",
   "execution_count": null,
   "metadata": {
    "deletable": false,
    "editable": false,
    "id": "ZmEDz1uZFGAV",
    "nbgrader": {
     "cell_type": "code",
     "checksum": "d307aef902ce9c06e013de81136efd9e",
     "grade": true,
     "grade_id": "q3t",
     "locked": true,
     "points": 4,
     "schema_version": 3,
     "solution": false
    }
   },
   "outputs": [],
   "source": [
    "assert isinstance(CQ(G,A),Generator)\n"
   ]
  },
  {
   "cell_type": "code",
   "execution_count": null,
   "metadata": {
    "id": "1_xQyx6ZplEY"
   },
   "outputs": [],
   "source": []
  }
 ],
 "metadata": {
  "colab": {
   "collapsed_sections": [],
   "name": "AssignmentWeek3.ipynb",
   "provenance": []
  },
  "kernelspec": {
   "display_name": "Python 3",
   "language": "python",
   "name": "python3"
  },
  "language_info": {
   "codemirror_mode": {
    "name": "ipython",
    "version": 3
   },
   "file_extension": ".py",
   "mimetype": "text/x-python",
   "name": "python",
   "nbconvert_exporter": "python",
   "pygments_lexer": "ipython3",
   "version": "3.8.5"
  },
  "toc": {
   "nav_menu": {},
   "number_sections": true,
   "sideBar": true,
   "skip_h1_title": false,
   "title_cell": "Table of Contents",
   "title_sidebar": "Contents",
   "toc_cell": true,
   "toc_position": {},
   "toc_section_display": true,
   "toc_window_display": false
  }
 },
 "nbformat": 4,
 "nbformat_minor": 0
}
