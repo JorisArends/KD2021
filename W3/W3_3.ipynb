{
 "cells": [
  {
   "cell_type": "markdown",
   "metadata": {},
   "source": [
    "# Assignment Kennis en Data"
   ]
  },
  {
   "cell_type": "markdown",
   "metadata": {},
   "source": [
    "## Notebook made by\n",
    "\n",
    "\n",
    "|Naam|Studentnummer|\n",
    "|-|-|\n",
    "|Robert|secret|\n",
    "|Max|secret|\n",
    "|Marten|secret|\n",
    "\n",
    "## Peerreview\n",
    "\n",
    "* Vul onderstaande dict/tabel in en run de cel. Klopt het? Zijn jullie het er allemaal mee eens?\n",
    "    * Verander `1,2,3,4` door jullie studentnummers\n",
    "    * `1: {1:.2,2:.3,3:.3,4:.2}` betekent dat student 1 zijn punt zo over de 4 studenten verdeelt\n",
    "    * Let op, per student moeten de punten optellen tot 1!\n",
    "    * De gegeven punten staan in de tabel op de rijen, de ontvangen punten in de kolommen.\n",
    "    * met `cijfer_per_student` kan je bepalen welk cijfer ieder krijgt bij een gegeven groepscijfer."
   ]
  },
  {
   "cell_type": "markdown",
   "metadata": {},
   "source": [
    "## Toelichting\n",
    "\n",
    "* De meeste opgaven worden automatisch nagekeken. Bij vrijwel alle opdrachten staan er een paar tests onder de opdracht, dit is voornamelijk om te zorgen dat je de juiste type output geeft. Dit zijn dus *NIET* alle tests, die komen er bij het graden nog bij.\n",
    "* Elke vraag is 1 punt waard, tenzij anders aangegeven. Soms is die punt onderverdeeld in deelpunten, maar niet altijd. \n",
    "\n",
    "## Voor het inleveren!\n",
    "\n",
    "* Pas niet de cellen aan, vooral niet die je niet kunt editen. Dit levert problemen op bij nakijken. Twijfel je of je per ongeluk iets hebt gewijzigd, kopieer dan bij inleveren je antwoorden naar een nieuw bestand, zodat het niet fout kan gaan.\n",
    "\n",
    "* Zorg dat de code goed runt van boven naar beneden, verifieer dat door boven in Kernel -> Restart & Run All uit te voeren\n",
    "\n",
    "## Na het inleveren!\n",
    "\n",
    "* Het gebeurt erg vaak dat mensen een \"leeg bestand\" inleveren. Vaak een andere versie van de opgave die nog ergens op je computer rondslingerde. Zonde van al je werk toch!\n",
    "* Dus, lever **minstens een half uur voor tijd in**. Download dan wat je hebt ingeleverd op Canvas. Geef het een andere naam om verwarring te voorkomen. En draai alle cellen, en bekijk het. Geen syntax fouten? Alle vragen gemaakt? Dan zit het vast wel goed, en hoef je niet in de zenuwen te zitten."
   ]
  },
  {
   "cell_type": "markdown",
   "metadata": {
    "toc": true
   },
   "source": [
    "<h1>Table of Contents<span class=\"tocSkip\"></span></h1>\n",
    "<div class=\"toc\"><ul class=\"toc-item\"><li><span><a href=\"#Q1-logisch-gevolg-(4pts)\" data-toc-modified-id=\"Q1-logisch-gevolg-(4pts)-1\"><span class=\"toc-item-num\">1&nbsp;&nbsp;</span>Q1 logisch gevolg (4pts)</a></span></li><li><span><a href=\"#Q2-Vreemde-modellen-(4pts)\" data-toc-modified-id=\"Q2-Vreemde-modellen-(4pts)-2\"><span class=\"toc-item-num\">2&nbsp;&nbsp;</span>Q2 Vreemde modellen (4pts)</a></span></li><li><span><a href=\"#Q3-Conjunctieve-vragen-aan-een-netwerk-(4pts)\" data-toc-modified-id=\"Q3-Conjunctieve-vragen-aan-een-netwerk-(4pts)-3\"><span class=\"toc-item-num\">3&nbsp;&nbsp;</span>Q3 Conjunctieve vragen aan een netwerk (4pts)</a></span></li><li><span><a href=\"#Q1-logisch-gevolg\" data-toc-modified-id=\"Q1-logisch-gevolg-4\"><span class=\"toc-item-num\">4&nbsp;&nbsp;</span>Q1 logisch gevolg</a></span></li><li><span><a href=\"#Q2-Vreemde-modellen\" data-toc-modified-id=\"Q2-Vreemde-modellen-5\"><span class=\"toc-item-num\">5&nbsp;&nbsp;</span>Q2 Vreemde modellen</a></span><ul class=\"toc-item\"><li><ul class=\"toc-item\"><li><span><a href=\"#Deel-1-(2pt)\" data-toc-modified-id=\"Deel-1-(2pt)-5.0.1\"><span class=\"toc-item-num\">5.0.1&nbsp;&nbsp;</span>Deel 1 (2pt)</a></span></li><li><span><a href=\"#Deel-2-(2pt)\" data-toc-modified-id=\"Deel-2-(2pt)-5.0.2\"><span class=\"toc-item-num\">5.0.2&nbsp;&nbsp;</span>Deel 2 (2pt)</a></span></li><li><span><a href=\"#deel-1\" data-toc-modified-id=\"deel-1-5.0.3\"><span class=\"toc-item-num\">5.0.3&nbsp;&nbsp;</span>deel 1</a></span></li><li><span><a href=\"#deel-2\" data-toc-modified-id=\"deel-2-5.0.4\"><span class=\"toc-item-num\">5.0.4&nbsp;&nbsp;</span>deel 2</a></span></li></ul></li></ul></li><li><span><a href=\"#Q3-Conjunctieve-vragen-aan-een-netwerk-(4pt)\" data-toc-modified-id=\"Q3-Conjunctieve-vragen-aan-een-netwerk-(4pt)-6\"><span class=\"toc-item-num\">6&nbsp;&nbsp;</span>Q3 Conjunctieve vragen aan een netwerk (4pt)</a></span><ul class=\"toc-item\"><li><ul class=\"toc-item\"><li><ul class=\"toc-item\"><li><span><a href=\"#Eisen\" data-toc-modified-id=\"Eisen-6.0.0.1\"><span class=\"toc-item-num\">6.0.0.1&nbsp;&nbsp;</span>Eisen</a></span></li></ul></li></ul></li><li><span><a href=\"#Deel-2\" data-toc-modified-id=\"Deel-2-6.1\"><span class=\"toc-item-num\">6.1&nbsp;&nbsp;</span>Deel 2</a></span></li></ul></li></ul></div>"
   ]
  },
  {
   "cell_type": "code",
   "execution_count": 2,
   "metadata": {
    "deletable": false,
    "editable": false,
    "nbgrader": {
     "cell_type": "code",
     "checksum": "9494647199f10186da81733238f0dcfb",
     "grade": false,
     "grade_id": "intro",
     "locked": true,
     "schema_version": 3,
     "solution": false
    }
   },
   "outputs": [],
   "source": [
    "from typing import Generator\n",
    "from nose.tools import assert_equal, assert_count_equal\n",
    "import networkx as nx\n",
    "%matplotlib inline"
   ]
  },
  {
   "cell_type": "markdown",
   "metadata": {
    "deletable": false,
    "editable": false,
    "nbgrader": {
     "cell_type": "markdown",
     "checksum": "a406ab219b4af084226b62988a10219e",
     "grade": false,
     "grade_id": "intro2",
     "locked": true,
     "schema_version": 3,
     "solution": false
    }
   },
   "source": [
    "# Q1 logisch gevolg (4pts)\n",
    "\n",
    "* Je maakt een Python programma waaraan je een verzameling premissen $\\Sigma$ en een conclusie $\\phi$ in propositielogische formules geeft en die teruggeeft of $\\Sigma\\models\\phi$. \n",
    "    * In het geval van niet geef je een (of alle) tegenvoorbeelden terug.\n",
    "    \n",
    "# Q2 Vreemde modellen (4pts)\n",
    "\n",
    "* Je maakt vreemde modellen voor je netwerk van familierelaties. Modellen die wel mogen, maar in het echt niet of vrijwel nooit voorkomen. \n",
    "* Daarna probeer je die met logische formules te verbieden. Je verzint dus zinnen die *niet waar* zijn op die ongewenste modellen.\n",
    "\n",
    "# Q3 Conjunctieve vragen aan een netwerk (4pts)\n",
    "\n",
    "* Een netwerk met feiten (en regels) is natuurlijk ook een database (of een *triple store*), en wat doen we met dat soort dingen? We stellen er vragen aan, en krijgen dan antwoord. Normaal doe je dat in SQL. In deze cursus leer je hoe je dat doet in SPARQL. Later bij Data Science leer je hoe je dat doet met `pandas`. \n",
    "* De preciese taal maakt niet, de meeste vragen die je stelt in je leven (en alle andere mensen op aarde) zijn zogenaamde *conjunctive queries*: eerste orde formules van de vorm $\\exists \\bar{x} (\\bigwedge R(x_i,x_j))$. \n",
    "    * OK OK, je gebruikt ook nog wel eens het connectief \"of\", maar dat is makkelijk toe te voegen aanje programma als je dit hebt.\n",
    "        * (want je kunt alle \"of\"s naar buiten brengen, en dan heb je dus een grote disjunctie van CQs.\n",
    "        * die draai je allemaal achter (of naast) elkaar, en neemt de vereniging van de antwoorden.\n",
    "        * Probeer maar eens een voorbeeld\n",
    "* Bijvoorbeeld, \"wie zijn de grootouders van Henkie?\" wordt dan  $\\exists z (R(x,z) \\wedge R(z,\"Henkie\"))$. Je kunt dat zelf vast prima in SQL en volgende week in SPARQL zeggen."
   ]
  },
  {
   "cell_type": "markdown",
   "metadata": {
    "deletable": false,
    "editable": false,
    "nbgrader": {
     "cell_type": "markdown",
     "checksum": "fb3131489d9ba97c1ef0a560cefc9b13",
     "grade": false,
     "grade_id": "q1",
     "locked": true,
     "schema_version": 3,
     "solution": false
    }
   },
   "source": [
    "# Q1 logisch gevolg\n",
    "\n",
    "* We werken met de [sympy module](https://docs.sympy.org/latest/modules/logic.html). Dat is erg handig. Neem hem eerst goed door en speel er wat mee.\n",
    "* In de cel hieronder vind je een handige routine.\n",
    "* Je gebruikt natuurlijk  de definitie van $\\Sigma\\models\\phi$, van logisch gevolg dus.\n",
    "* En daarvoor is de `sympy` routine `satisfiable` best handig....\n",
    "* De tests in de antwoord cel gaven bij mij dit:\n",
    "<pre>\n",
    "{p, q | ~p} q True\n",
    "{q, q | ~p} p [{q: True, p: False}]\n",
    "{q, Implies(p, q)} p {q: True, p: False}\n",
    "{q & (r | s), Implies(p, q)} p [{q: True, r: True, s: True, p: False}, {q: True, r: True, s: False, p: False}, {q: True, s: True, r: False, p: False}]\n",
    "WARNING: All proposition letters in the Conclusion should occur in some formula of the Premisses.\n",
    "</pre>"
   ]
  },
  {
   "cell_type": "code",
   "execution_count": 3,
   "metadata": {
    "deletable": false,
    "editable": false,
    "nbgrader": {
     "cell_type": "code",
     "checksum": "8551e7a976aee50c8586cc3f40810fba",
     "grade": false,
     "grade_id": "q1c",
     "locked": true,
     "schema_version": 3,
     "solution": false
    }
   },
   "outputs": [
    {
     "data": {
      "text/latex": [
       "$\\displaystyle p \\wedge \\left(p \\vee \\left(p \\wedge q\\right)\\right) \\wedge \\left(q \\vee \\neg p\\right)$"
      ],
      "text/plain": [
       "p & (q | ~p) & (p | (p & q))"
      ]
     },
     "execution_count": 3,
     "metadata": {},
     "output_type": "execute_result"
    }
   ],
   "source": [
    "from sympy import *\n",
    "from sympy.logic.inference import satisfiable\n",
    "\n",
    "p,q,r,s,t = symbols('p q r s t')\n",
    "\n",
    "def maakconjunctie(P):\n",
    "    '''Creates a conjunction from a set or list of formulas.'''\n",
    "    P=list(P)\n",
    "    if P:\n",
    "        return P[0]&maakconjunctie(P[1:])\n",
    "    else:\n",
    "        return True\n",
    "#test\n",
    "maakconjunctie({p, ~p |q, p|(p&q)})    "
   ]
  },
  {
   "cell_type": "code",
   "execution_count": 4,
   "metadata": {
    "deletable": false,
    "nbgrader": {
     "cell_type": "code",
     "checksum": "d6def210c05805c9f0f4424f2037b2f8",
     "grade": false,
     "grade_id": "q1a",
     "locked": false,
     "schema_version": 3,
     "solution": true
    }
   },
   "outputs": [
    {
     "name": "stdout",
     "output_type": "stream",
     "text": [
      "{p, q | ~p} q True\n",
      "{q, q | ~p} p [{q: True, p: False}]\n",
      "{q, Implies(p, q)} p {q: True, p: False}\n",
      "{q, Implies(p, q), r | s} p [{q: True, s: True, r: True, p: False}, {q: True, s: True, p: False, r: False}, {q: True, r: True, p: False, s: False}]\n"
     ]
    }
   ],
   "source": [
    "def implies(Premisses, Conclusion, allmodels=False):\n",
    "    '''Return True if Conclusion follows from Premisses, \n",
    "    return a (or all) countermodel(s) otherwise. '''\n",
    "    P = maakconjunctie(Premisses)\n",
    "    \n",
    "    if not Conclusion.atoms().issubset(P.atoms()):\n",
    "        print('WARNING: All proposition letters in the Conclusion should occur in some formula of the Premisses.')\n",
    "        raise\n",
    "    else:\n",
    "        # Binnen haakjes natuurlijk P & ~Conclusion\n",
    "        result = satisfiable(~(P >> Conclusion), all_models=allmodels)\n",
    "        if allmodels:\n",
    "            first = next(result)\n",
    "            if not first:\n",
    "                return True\n",
    "            return [first] + list(result)\n",
    "        if not result:\n",
    "            return True\n",
    "        return result     \n",
    "\n",
    "\n",
    "#TEST\n",
    "P= {~p|q,p}\n",
    "C= q   \n",
    "\n",
    "print(P, C, implies(P,C, allmodels=True ))\n",
    "P= {~p|q,q}\n",
    "C= p   \n",
    "\n",
    "print(P, C, implies(P,C, allmodels=True ))\n",
    "\n",
    "P= {p>>q,q}  # andere manier om implicatie te schrijven\n",
    "C= p   \n",
    "\n",
    "print(P, C, implies(P,C))\n",
    "\n",
    "P= {p>>q,q,(r|s)}  # andere manier om implicatie te schrijven\n",
    "C= p \n",
    "\n",
    "print(P, C, implies(P,C, allmodels=True ))\n",
    "P= {p>>q,q}  # andere manier om implicatie te schrijven\n",
    "C= r\n",
    "\n",
    "# implies(P,C) \n",
    "# Dit geeft een error. Probeer het ook zelf"
   ]
  },
  {
   "cell_type": "code",
   "execution_count": 5,
   "metadata": {
    "deletable": false,
    "editable": false,
    "nbgrader": {
     "cell_type": "code",
     "checksum": "5b33c7c17b5accedae26816698100cf8",
     "grade": true,
     "grade_id": "q1t",
     "locked": true,
     "points": 4,
     "schema_version": 3,
     "solution": false
    }
   },
   "outputs": [],
   "source": [
    "assert_equal(type(implies({p},p)), bool)\n",
    "assert_equal(type(implies({p|q},p)), dict)\n",
    "assert_equal(type(implies({p|q},p, allmodels=True)), list)\n"
   ]
  },
  {
   "cell_type": "markdown",
   "metadata": {
    "deletable": false,
    "editable": false,
    "nbgrader": {
     "cell_type": "markdown",
     "checksum": "2f83bbf70121d5ca0b4bb19e093f92a9",
     "grade": false,
     "grade_id": "q2",
     "locked": true,
     "schema_version": 3,
     "solution": false
    }
   },
   "source": [
    "# Q2 Vreemde modellen\n",
    "\n",
    "### Deel 1 (2pt)\n",
    "1. Je maakt vreemde modellen voor je netwerk van familierelaties. Modellen die wel mogen, maar in het echt niet of vrijwel nooit voorkomen. \n",
    "2. Daarna probeer je die met logische formules te verbieden. Je verzint dus zinnen die *niet waar* zijn op die ongewenste modellen.\n",
    "\n",
    "In ieder geval verzin je zinnen die de volgende vijf modellen verbieden (die soort $\\Sigma$ bij een knoop is eigenlijk een M en staat voor Man. Gebruik dus weer de predicaatlogische relaties $R,M,V$ in die zinnen, en niks anders. Geef duidelijk aan welk model je met welke zin verbiedt.\n",
    "\n",
    "![](vreemd.jpg)\n",
    "\n",
    "### Deel 2 (2pt)\n",
    "\n",
    "Ga nu verder en verzin nog meer modellen die je zou willen verbieden. Misschien vindt je er wel oneindig veel! Kan je daar een zin die die allemaal verbiedt voor vinden? Kan je het met oneindig veel zinnen? Geef ze!\n",
    "\n",
    "**Je antwoorden zijn keurige Latex formules, en natuurlijk wel gevormd, met nette haakjes etc.**\n",
    "\n",
    "**Voor je modellen, maak je plaatjes in netwerkx, met de hand, of iets anders, als het maar heel duidelijk is (en dus niet zo als die in deze opgave ;-)**"
   ]
  },
  {
   "cell_type": "code",
   "execution_count": 6,
   "metadata": {
    "deletable": false,
    "nbgrader": {
     "cell_type": "markdown",
     "checksum": "405fa2c00f2ea1f1b2a314950eed1629",
     "grade": true,
     "grade_id": "q2a",
     "locked": false,
     "points": 4,
     "schema_version": 3,
     "solution": true
    }
   },
   "outputs": [
    {
     "name": "stdout",
     "output_type": "stream",
     "text": [
      "Antwoord deel 1\n"
     ]
    },
    {
     "data": {
      "image/svg+xml": [
       "<svg height=\"120\" version=\"1.1\" width=\"100\" xmlns=\"http://www.w3.org/2000/svg\">\n",
       "\t<ellipse cx=\"58.5\" cy=\"83.5\" fill=\"none\" rx=\"30\" ry=\"30\" stroke=\"black\" stroke-width=\"1\"/>\n",
       "\t<path d=\"M 45.275,56.703 A 22.5,22.5 0 1 1 71.725,56.703\" fill=\"none\" stroke=\"black\" stroke-width=\"1\"/>\n",
       "\t<polygon fill=\"black\" points=\"71.725,56.703 80.473,53.17 72.382,47.292\" stroke-width=\"1\"/>\n",
       "</svg>"
      ],
      "text/plain": [
       "<IPython.core.display.SVG object>"
      ]
     },
     "metadata": {},
     "output_type": "display_data"
    },
    {
     "name": "stdout",
     "output_type": "stream",
     "text": [
      "Om bovenstaand model te verbieden:\n"
     ]
    },
    {
     "data": {
      "text/latex": [
       "$\\displaystyle \\forall x(\\neg R(x,x))$"
      ],
      "text/plain": [
       "<IPython.core.display.Math object>"
      ]
     },
     "metadata": {},
     "output_type": "display_data"
    },
    {
     "data": {
      "image/svg+xml": [
       "<svg height=\"160\" version=\"1.1\" width=\"180\" xmlns=\"http://www.w3.org/2000/svg\">\n",
       "\t<ellipse cx=\"41.5\" cy=\"44.5\" fill=\"none\" rx=\"30\" ry=\"30\" stroke=\"black\" stroke-width=\"1\"/>\n",
       "\t<text font-family=\"Times New Roman\" font-size=\"20\" x=\"32.5\" y=\"50.5\">M</text>\n",
       "\t<ellipse cx=\"148.5\" cy=\"44.5\" fill=\"none\" rx=\"30\" ry=\"30\" stroke=\"black\" stroke-width=\"1\"/>\n",
       "\t<text font-family=\"Times New Roman\" font-size=\"20\" x=\"139.5\" y=\"50.5\">M</text>\n",
       "\t<ellipse cx=\"93.5\" cy=\"129.5\" fill=\"none\" rx=\"30\" ry=\"30\" stroke=\"black\" stroke-width=\"1\"/>\n",
       "\t<polygon points=\"57.156,70.091 77.844,103.909\" stroke=\"black\" stroke-width=\"1\"/>\n",
       "\t<polygon fill=\"black\" points=\"77.844,103.909 77.935,94.475 69.404,99.694\" stroke-width=\"1\"/>\n",
       "\t<polygon points=\"132.202,69.687 109.798,104.313\" stroke=\"black\" stroke-width=\"1\"/>\n",
       "\t<polygon fill=\"black\" points=\"109.798,104.313 118.341,100.313 109.946,94.88\" stroke-width=\"1\"/>\n",
       "</svg>"
      ],
      "text/plain": [
       "<IPython.core.display.SVG object>"
      ]
     },
     "metadata": {},
     "output_type": "display_data"
    },
    {
     "name": "stdout",
     "output_type": "stream",
     "text": [
      "Om bovenstaand model te verbieden:\n"
     ]
    },
    {
     "data": {
      "text/latex": [
       "$\\displaystyle \\forall xyz(((R(y,x) \\wedge R(z,x) \\wedge y \\neq z) \\rightarrow \\neg (M(y) \\wedge M(z))) )$"
      ],
      "text/plain": [
       "<IPython.core.display.Math object>"
      ]
     },
     "metadata": {},
     "output_type": "display_data"
    },
    {
     "data": {
      "image/svg+xml": [
       "<svg height=\"250\" version=\"1.1\" width=\"150\" xmlns=\"http://www.w3.org/2000/svg\">\n",
       "\t<ellipse cx=\"56.5\" cy=\"52.5\" fill=\"none\" rx=\"30\" ry=\"30\" stroke=\"black\" stroke-width=\"1\"/>\n",
       "\t<ellipse cx=\"56.5\" cy=\"133.5\" fill=\"none\" rx=\"30\" ry=\"30\" stroke=\"black\" stroke-width=\"1\"/>\n",
       "\t<ellipse cx=\"56.5\" cy=\"214.5\" fill=\"none\" rx=\"30\" ry=\"30\" stroke=\"black\" stroke-width=\"1\"/>\n",
       "\t<polygon points=\"56.5,82.5 56.5,103.5\" stroke=\"black\" stroke-width=\"1\"/>\n",
       "\t<polygon fill=\"black\" points=\"56.5,103.5 61.5,95.5 51.5,95.5\" stroke-width=\"1\"/>\n",
       "\t<polygon points=\"56.5,163.5 56.5,184.5\" stroke=\"black\" stroke-width=\"1\"/>\n",
       "\t<polygon fill=\"black\" points=\"56.5,184.5 61.5,176.5 51.5,176.5\" stroke-width=\"1\"/>\n",
       "\t<path d=\"M 85.542,59.307 A 81.083,81.083 0 0 1 85.542,207.693\" fill=\"none\" stroke=\"black\" stroke-width=\"1\"/>\n",
       "\t<polygon fill=\"black\" points=\"85.542,207.693 94.879,209.041 90.845,199.891\" stroke-width=\"1\"/>\n",
       "</svg>"
      ],
      "text/plain": [
       "<IPython.core.display.SVG object>"
      ]
     },
     "metadata": {},
     "output_type": "display_data"
    },
    {
     "name": "stdout",
     "output_type": "stream",
     "text": [
      "Om bovenstaand model te verbieden:\n"
     ]
    },
    {
     "data": {
      "text/latex": [
       "$\\displaystyle \\forall xyz((R(x,y) \\wedge R(y,z)) \\rightarrow \\neg R(x,z))$"
      ],
      "text/plain": [
       "<IPython.core.display.Math object>"
      ]
     },
     "metadata": {},
     "output_type": "display_data"
    },
    {
     "data": {
      "image/svg+xml": [
       "<svg height=\"150\" version=\"1.1\" width=\"250\" xmlns=\"http://www.w3.org/2000/svg\">\n",
       "\t<ellipse cx=\"58.5\" cy=\"89.5\" fill=\"none\" rx=\"30\" ry=\"30\" stroke=\"black\" stroke-width=\"1\"/>\n",
       "\t<ellipse cx=\"213.5\" cy=\"89.5\" fill=\"none\" rx=\"30\" ry=\"30\" stroke=\"black\" stroke-width=\"1\"/>\n",
       "\t<path d=\"M 76.943,66.023 A 88.101,88.101 0 0 1 195.057,66.023\" fill=\"none\" stroke=\"black\" stroke-width=\"1\"/>\n",
       "\t<polygon fill=\"black\" points=\"195.057,66.023 192.472,56.95 185.768,64.371\" stroke-width=\"1\"/>\n",
       "\t<path d=\"M 198.982,115.561 A 81.777,81.777 0 0 1 73.018,115.561\" fill=\"none\" stroke=\"black\" stroke-width=\"1\"/>\n",
       "\t<polygon fill=\"black\" points=\"73.018,115.561 74.27,124.911 81.972,118.533\" stroke-width=\"1\"/>\n",
       "</svg>"
      ],
      "text/plain": [
       "<IPython.core.display.SVG object>"
      ]
     },
     "metadata": {},
     "output_type": "display_data"
    },
    {
     "name": "stdout",
     "output_type": "stream",
     "text": [
      "Om bovenstaand model te verbieden:\n"
     ]
    },
    {
     "data": {
      "text/latex": [
       "$\\displaystyle \\forall xy(R(x,y) \\rightarrow \\neg R(y,x))$"
      ],
      "text/plain": [
       "<IPython.core.display.Math object>"
      ]
     },
     "metadata": {},
     "output_type": "display_data"
    },
    {
     "data": {
      "image/svg+xml": [
       "<svg height=\"270\" version=\"1.1\" width=\"200\" xmlns=\"http://www.w3.org/2000/svg\">\n",
       "\t<ellipse cx=\"68.5\" cy=\"73.5\" fill=\"none\" rx=\"30\" ry=\"30\" stroke=\"black\" stroke-width=\"1\"/>\n",
       "\t<ellipse cx=\"69.5\" cy=\"152.5\" fill=\"none\" rx=\"30\" ry=\"30\" stroke=\"black\" stroke-width=\"1\"/>\n",
       "\t<ellipse cx=\"69.5\" cy=\"234.5\" fill=\"none\" rx=\"30\" ry=\"30\" stroke=\"black\" stroke-width=\"1\"/>\n",
       "\t<polygon points=\"68.88,103.498 69.12,122.502\" stroke=\"black\" stroke-width=\"1\"/>\n",
       "\t<polygon fill=\"black\" points=\"69.12,122.502 74.019,114.44 64.019,114.566\" stroke-width=\"1\"/>\n",
       "\t<polygon points=\"69.5,182.5 69.5,204.5\" stroke=\"black\" stroke-width=\"1\"/>\n",
       "\t<polygon fill=\"black\" points=\"69.5,204.5 74.5,196.5 64.5,196.5\" stroke-width=\"1\"/>\n",
       "\t<path d=\"M 98.271,75.356 A 81.052,81.052 0 0 1 99.246,232.275\" fill=\"none\" stroke=\"black\" stroke-width=\"1\"/>\n",
       "\t<polygon fill=\"black\" points=\"98.271,75.356 104.804,82.162 107.252,72.466\" stroke-width=\"1\"/>\n",
       "</svg>"
      ],
      "text/plain": [
       "<IPython.core.display.SVG object>"
      ]
     },
     "metadata": {},
     "output_type": "display_data"
    },
    {
     "name": "stdout",
     "output_type": "stream",
     "text": [
      "Om bovenstaand model te verbieden:\n"
     ]
    },
    {
     "data": {
      "text/latex": [
       "$\\displaystyle \\forall xyz((R(x,y) \\wedge R(y,z)) \\rightarrow \\neg R(z,x))$"
      ],
      "text/plain": [
       "<IPython.core.display.Math object>"
      ]
     },
     "metadata": {},
     "output_type": "display_data"
    }
   ],
   "source": [
    "print(\"Antwoord deel 1\")\n",
    "from IPython.display import SVG, Math, display\n",
    "def show_svg(html):\n",
    "    display(SVG(html))\n",
    "def show_latex(LaTeX):\n",
    "    display(Math(LaTeX))\n",
    "\n",
    "models = [\n",
    "\"\"\"<svg width=\"100\" height=\"120\" version=\"1.1\" xmlns=\"http://www.w3.org/2000/svg\">\n",
    "\t<ellipse stroke=\"black\" stroke-width=\"1\" fill=\"none\" cx=\"58.5\" cy=\"83.5\" rx=\"30\" ry=\"30\"/>\n",
    "\t<path stroke=\"black\" stroke-width=\"1\" fill=\"none\" d=\"M 45.275,56.703 A 22.5,22.5 0 1 1 71.725,56.703\"/>\n",
    "\t<polygon fill=\"black\" stroke-width=\"1\" points=\"71.725,56.703 80.473,53.17 72.382,47.292\"/>\n",
    "</svg>\"\"\",\n",
    "\"\"\"<svg width=\"180\" height=\"160\" version=\"1.1\" xmlns=\"http://www.w3.org/2000/svg\">\n",
    "\t<ellipse stroke=\"black\" stroke-width=\"1\" fill=\"none\" cx=\"41.5\" cy=\"44.5\" rx=\"30\" ry=\"30\"/>\n",
    "\t<text x=\"32.5\" y=\"50.5\" font-family=\"Times New Roman\" font-size=\"20\">M</text>\n",
    "\t<ellipse stroke=\"black\" stroke-width=\"1\" fill=\"none\" cx=\"148.5\" cy=\"44.5\" rx=\"30\" ry=\"30\"/>\n",
    "\t<text x=\"139.5\" y=\"50.5\" font-family=\"Times New Roman\" font-size=\"20\">M</text>\n",
    "\t<ellipse stroke=\"black\" stroke-width=\"1\" fill=\"none\" cx=\"93.5\" cy=\"129.5\" rx=\"30\" ry=\"30\"/>\n",
    "\t<polygon stroke=\"black\" stroke-width=\"1\" points=\"57.156,70.091 77.844,103.909\"/>\n",
    "\t<polygon fill=\"black\" stroke-width=\"1\" points=\"77.844,103.909 77.935,94.475 69.404,99.694\"/>\n",
    "\t<polygon stroke=\"black\" stroke-width=\"1\" points=\"132.202,69.687 109.798,104.313\"/>\n",
    "\t<polygon fill=\"black\" stroke-width=\"1\" points=\"109.798,104.313 118.341,100.313 109.946,94.88\"/>\n",
    "</svg>\"\"\",\n",
    "\"\"\"<svg width=\"150\" height=\"250\" version=\"1.1\" xmlns=\"http://www.w3.org/2000/svg\">\n",
    "\t<ellipse stroke=\"black\" stroke-width=\"1\" fill=\"none\" cx=\"56.5\" cy=\"52.5\" rx=\"30\" ry=\"30\"/>\n",
    "\t<ellipse stroke=\"black\" stroke-width=\"1\" fill=\"none\" cx=\"56.5\" cy=\"133.5\" rx=\"30\" ry=\"30\"/>\n",
    "\t<ellipse stroke=\"black\" stroke-width=\"1\" fill=\"none\" cx=\"56.5\" cy=\"214.5\" rx=\"30\" ry=\"30\"/>\n",
    "\t<polygon stroke=\"black\" stroke-width=\"1\" points=\"56.5,82.5 56.5,103.5\"/>\n",
    "\t<polygon fill=\"black\" stroke-width=\"1\" points=\"56.5,103.5 61.5,95.5 51.5,95.5\"/>\n",
    "\t<polygon stroke=\"black\" stroke-width=\"1\" points=\"56.5,163.5 56.5,184.5\"/>\n",
    "\t<polygon fill=\"black\" stroke-width=\"1\" points=\"56.5,184.5 61.5,176.5 51.5,176.5\"/>\n",
    "\t<path stroke=\"black\" stroke-width=\"1\" fill=\"none\" d=\"M 85.542,59.307 A 81.083,81.083 0 0 1 85.542,207.693\"/>\n",
    "\t<polygon fill=\"black\" stroke-width=\"1\" points=\"85.542,207.693 94.879,209.041 90.845,199.891\"/>\n",
    "</svg>\"\"\",\n",
    "\"\"\"<svg width=\"250\" height=\"150\" version=\"1.1\" xmlns=\"http://www.w3.org/2000/svg\">\n",
    "\t<ellipse stroke=\"black\" stroke-width=\"1\" fill=\"none\" cx=\"58.5\" cy=\"89.5\" rx=\"30\" ry=\"30\"/>\n",
    "\t<ellipse stroke=\"black\" stroke-width=\"1\" fill=\"none\" cx=\"213.5\" cy=\"89.5\" rx=\"30\" ry=\"30\"/>\n",
    "\t<path stroke=\"black\" stroke-width=\"1\" fill=\"none\" d=\"M 76.943,66.023 A 88.101,88.101 0 0 1 195.057,66.023\"/>\n",
    "\t<polygon fill=\"black\" stroke-width=\"1\" points=\"195.057,66.023 192.472,56.95 185.768,64.371\"/>\n",
    "\t<path stroke=\"black\" stroke-width=\"1\" fill=\"none\" d=\"M 198.982,115.561 A 81.777,81.777 0 0 1 73.018,115.561\"/>\n",
    "\t<polygon fill=\"black\" stroke-width=\"1\" points=\"73.018,115.561 74.27,124.911 81.972,118.533\"/>\n",
    "</svg>\"\"\",\n",
    "\"\"\"<svg width=\"200\" height=\"270\" version=\"1.1\" xmlns=\"http://www.w3.org/2000/svg\">\n",
    "\t<ellipse stroke=\"black\" stroke-width=\"1\" fill=\"none\" cx=\"68.5\" cy=\"73.5\" rx=\"30\" ry=\"30\"/>\n",
    "\t<ellipse stroke=\"black\" stroke-width=\"1\" fill=\"none\" cx=\"69.5\" cy=\"152.5\" rx=\"30\" ry=\"30\"/>\n",
    "\t<ellipse stroke=\"black\" stroke-width=\"1\" fill=\"none\" cx=\"69.5\" cy=\"234.5\" rx=\"30\" ry=\"30\"/>\n",
    "\t<polygon stroke=\"black\" stroke-width=\"1\" points=\"68.88,103.498 69.12,122.502\"/>\n",
    "\t<polygon fill=\"black\" stroke-width=\"1\" points=\"69.12,122.502 74.019,114.44 64.019,114.566\"/>\n",
    "\t<polygon stroke=\"black\" stroke-width=\"1\" points=\"69.5,182.5 69.5,204.5\"/>\n",
    "\t<polygon fill=\"black\" stroke-width=\"1\" points=\"69.5,204.5 74.5,196.5 64.5,196.5\"/>\n",
    "\t<path stroke=\"black\" stroke-width=\"1\" fill=\"none\" d=\"M 98.271,75.356 A 81.052,81.052 0 0 1 99.246,232.275\"/>\n",
    "\t<polygon fill=\"black\" stroke-width=\"1\" points=\"98.271,75.356 104.804,82.162 107.252,72.466\"/>\n",
    "</svg>\"\"\"\n",
    "]\n",
    "\n",
    "bans = [\"\\\\forall x(\\\\neg R(x,x))\", \n",
    "       \"\\\\forall xyz(((R(y,x) \\\\wedge R(z,x) \\\\wedge y \\\\neq z) \\\\rightarrow \\\\neg (M(y) \\\\wedge M(z))) )\",\n",
    "       \"\\\\forall xyz((R(x,y) \\wedge R(y,z)) \\\\rightarrow \\\\neg R(x,z))\",\n",
    "       \"\\\\forall xy(R(x,y) \\\\rightarrow \\\\neg R(y,x))\",\n",
    "       \"\\\\forall xyz((R(x,y) \\wedge R(y,z)) \\\\rightarrow \\\\neg R(z,x))\"]\n",
    "\n",
    "\n",
    "for model, ban in zip(models, bans):\n",
    "    show_svg(model)\n",
    "    print(\"Om bovenstaand model te verbieden:\")\n",
    "    show_latex(ban)"
   ]
  },
  {
   "cell_type": "code",
   "execution_count": 7,
   "metadata": {},
   "outputs": [
    {
     "name": "stdout",
     "output_type": "stream",
     "text": [
      "Antwoord deel 2\n"
     ]
    },
    {
     "data": {
      "image/svg+xml": [
       "<svg height=\"250\" version=\"1.1\" width=\"220\" xmlns=\"http://www.w3.org/2000/svg\">\n",
       "\t<ellipse cx=\"115.5\" cy=\"64.5\" fill=\"none\" rx=\"30\" ry=\"30\" stroke=\"black\" stroke-width=\"1\"/>\n",
       "\t<ellipse cx=\"46.5\" cy=\"136.5\" fill=\"none\" rx=\"30\" ry=\"30\" stroke=\"black\" stroke-width=\"1\"/>\n",
       "\t<ellipse cx=\"178.5\" cy=\"136.5\" fill=\"none\" rx=\"30\" ry=\"30\" stroke=\"black\" stroke-width=\"1\"/>\n",
       "\t<ellipse cx=\"46.5\" cy=\"210.5\" fill=\"none\" rx=\"30\" ry=\"30\" stroke=\"black\" stroke-width=\"1\"/>\n",
       "\t<ellipse cx=\"178.5\" cy=\"210.5\" fill=\"none\" rx=\"30\" ry=\"30\" stroke=\"black\" stroke-width=\"1\"/>\n",
       "\t<polygon points=\"94.743,86.16 67.257,114.84\" stroke=\"black\" stroke-width=\"1\"/>\n",
       "\t<polygon fill=\"black\" points=\"67.257,114.84 76.402,112.524 69.182,105.605\" stroke-width=\"1\"/>\n",
       "\t<polygon points=\"135.255,87.077 158.745,113.923\" stroke=\"black\" stroke-width=\"1\"/>\n",
       "\t<polygon fill=\"black\" points=\"158.745,113.923 157.24,104.61 149.714,111.195\" stroke-width=\"1\"/>\n",
       "\t<polygon points=\"46.5,166.5 46.5,180.5\" stroke=\"black\" stroke-width=\"1\"/>\n",
       "\t<polygon fill=\"black\" points=\"46.5,180.5 51.5,172.5 41.5,172.5\" stroke-width=\"1\"/>\n",
       "\t<polygon points=\"178.5,166.5 178.5,180.5\" stroke=\"black\" stroke-width=\"1\"/>\n",
       "\t<polygon fill=\"black\" points=\"178.5,180.5 183.5,172.5 173.5,172.5\" stroke-width=\"1\"/>\n",
       "\t<polygon points=\"76.5,210.5 148.5,210.5\" stroke=\"black\" stroke-width=\"1\"/>\n",
       "\t<polygon fill=\"black\" points=\"148.5,210.5 140.5,205.5 140.5,215.5\" stroke-width=\"1\"/>\n",
       "</svg>"
      ],
      "text/plain": [
       "<IPython.core.display.SVG object>"
      ]
     },
     "metadata": {},
     "output_type": "display_data"
    },
    {
     "name": "stdout",
     "output_type": "stream",
     "text": [
      "Om bovenstaand model te verbieden:\n"
     ]
    },
    {
     "data": {
      "text/latex": [
       "$\\displaystyle \\forall xyzvw((R(z,v) \\wedge R(z,w) \\wedge R(v,x) \\wedge R(w,y)) \\rightarrow \\neg R(x,y))$"
      ],
      "text/plain": [
       "<IPython.core.display.Math object>"
      ]
     },
     "metadata": {},
     "output_type": "display_data"
    },
    {
     "name": "stdout",
     "output_type": "stream",
     "text": [
      "Toelichting: Kleinkinderen mogen geen ouders van andere kleinkinderen zijn\n"
     ]
    },
    {
     "data": {
      "image/svg+xml": [
       "<svg height=\"280\" version=\"1.1\" width=\"250\" xmlns=\"http://www.w3.org/2000/svg\">\n",
       "\t<ellipse cx=\"125.5\" cy=\"56.5\" fill=\"none\" rx=\"30\" ry=\"30\" stroke=\"black\" stroke-width=\"1\"/>\n",
       "\t<ellipse cx=\"46.5\" cy=\"136.5\" fill=\"none\" rx=\"30\" ry=\"30\" stroke=\"black\" stroke-width=\"1\"/>\n",
       "\t<ellipse cx=\"208.5\" cy=\"136.5\" fill=\"none\" rx=\"30\" ry=\"30\" stroke=\"black\" stroke-width=\"1\"/>\n",
       "\t<ellipse cx=\"46.5\" cy=\"218.5\" fill=\"none\" rx=\"30\" ry=\"30\" stroke=\"black\" stroke-width=\"1\"/>\n",
       "\t<ellipse cx=\"208.5\" cy=\"218.5\" fill=\"none\" rx=\"30\" ry=\"30\" stroke=\"black\" stroke-width=\"1\"/>\n",
       "\t<ellipse cx=\"125.5\" cy=\"136.5\" fill=\"none\" rx=\"30\" ry=\"30\" stroke=\"black\" stroke-width=\"1\"/>\n",
       "\t<polygon points=\"104.421,77.846 67.579,115.154\" stroke=\"black\" stroke-width=\"1\"/>\n",
       "\t<polygon fill=\"black\" points=\"67.579,115.154 76.758,112.975 69.643,105.948\" stroke-width=\"1\"/>\n",
       "\t<polygon points=\"147.1,77.319 186.9,115.681\" stroke=\"black\" stroke-width=\"1\"/>\n",
       "\t<polygon fill=\"black\" points=\"186.9,115.681 184.61,106.529 177.67,113.729\" stroke-width=\"1\"/>\n",
       "\t<polygon points=\"46.5,166.5 46.5,188.5\" stroke=\"black\" stroke-width=\"1\"/>\n",
       "\t<polygon fill=\"black\" points=\"46.5,188.5 51.5,180.5 41.5,180.5\" stroke-width=\"1\"/>\n",
       "\t<polygon points=\"208.5,166.5 208.5,188.5\" stroke=\"black\" stroke-width=\"1\"/>\n",
       "\t<polygon fill=\"black\" points=\"208.5,188.5 213.5,180.5 203.5,180.5\" stroke-width=\"1\"/>\n",
       "\t<polygon points=\"107.5,161.5 68.42,198.018\" stroke=\"black\" stroke-width=\"1\"/>\n",
       "\t<polygon fill=\"black\" points=\"68.42,198.018 77.679,196.209 70.851,188.902\" stroke-width=\"1\"/>\n",
       "\t<polygon points=\"146.841,157.584 187.159,197.416\" stroke=\"black\" stroke-width=\"1\"/>\n",
       "\t<polygon fill=\"black\" points=\"187.159,197.416 184.982,188.236 177.954,195.35\" stroke-width=\"1\"/>\n",
       "</svg>"
      ],
      "text/plain": [
       "<IPython.core.display.SVG object>"
      ]
     },
     "metadata": {},
     "output_type": "display_data"
    },
    {
     "name": "stdout",
     "output_type": "stream",
     "text": [
      "Om bovenstaand model te verbieden:\n"
     ]
    },
    {
     "data": {
      "text/latex": [
       "$\\displaystyle \\forall xyzvwu((R(z,v) \\wedge R(z,w) \\wedge R(v,u) \\wedge R(w,y) \\wedge R(x,u) \\wedge v \\neq w \\wedge y \\neq u) \\rightarrow  \\neg R(x,y))$"
      ],
      "text/plain": [
       "<IPython.core.display.Math object>"
      ]
     },
     "metadata": {},
     "output_type": "display_data"
    },
    {
     "name": "stdout",
     "output_type": "stream",
     "text": [
      "Toelichting: Een ouder mag niet met twee siblings kinderen hebben\n"
     ]
    },
    {
     "data": {
      "image/svg+xml": [
       "<svg height=\"250\" version=\"1.1\" width=\"200\" xmlns=\"http://www.w3.org/2000/svg\">\n",
       "\t<ellipse cx=\"31.5\" cy=\"108.5\" fill=\"none\" rx=\"30\" ry=\"30\" stroke=\"black\" stroke-width=\"1\"/>\n",
       "\t<ellipse cx=\"109.5\" cy=\"34.5\" fill=\"none\" rx=\"30\" ry=\"30\" stroke=\"black\" stroke-width=\"1\"/>\n",
       "\t<ellipse cx=\"109.5\" cy=\"108.5\" fill=\"none\" rx=\"30\" ry=\"30\" stroke=\"black\" stroke-width=\"1\"/>\n",
       "\t<ellipse cx=\"109.5\" cy=\"177.5\" fill=\"none\" rx=\"30\" ry=\"30\" stroke=\"black\" stroke-width=\"1\"/>\n",
       "\t<polygon points=\"87.736,55.148 53.264,87.852\" stroke=\"black\" stroke-width=\"1\"/>\n",
       "\t<polygon fill=\"black\" points=\"53.264,87.852 62.509,85.973 55.626,78.719\" stroke-width=\"1\"/>\n",
       "\t<polygon points=\"79.5,108.5 61.5,108.5\" stroke=\"black\" stroke-width=\"1\"/>\n",
       "\t<polygon fill=\"black\" points=\"61.5,108.5 69.5,113.5 69.5,103.5\" stroke-width=\"1\"/>\n",
       "\t<polygon points=\"87.03,157.623 53.97,128.377\" stroke=\"black\" stroke-width=\"1\"/>\n",
       "\t<polygon fill=\"black\" points=\"53.97,128.377 56.649,137.423 63.275,129.933\" stroke-width=\"1\"/>\n",
       "</svg>"
      ],
      "text/plain": [
       "<IPython.core.display.SVG object>"
      ]
     },
     "metadata": {},
     "output_type": "display_data"
    },
    {
     "name": "stdout",
     "output_type": "stream",
     "text": [
      "Om bovenstaand model te verbieden:\n"
     ]
    },
    {
     "data": {
      "text/latex": [
       "$\\displaystyle \\forall x(\\exists y(R(y,x)) \\wedge \\exists z(R(z,x)) \\wedge \\neg \\exists w(R(w,x)) \\wedge x \\neq y \\neq z \\neq w)$"
      ],
      "text/plain": [
       "<IPython.core.display.Math object>"
      ]
     },
     "metadata": {},
     "output_type": "display_data"
    },
    {
     "name": "stdout",
     "output_type": "stream",
     "text": [
      "Toelichting: Iedereen heeft exact twee ouders die niet zichzelf zijn (verbiedt oneindig veel meer modellen dan het voorbeeldmodel)\n"
     ]
    },
    {
     "data": {
      "image/svg+xml": [
       "<svg height=\"160\" version=\"1.1\" width=\"180\" xmlns=\"http://www.w3.org/2000/svg\">\n",
       "\t<ellipse cx=\"41.5\" cy=\"44.5\" fill=\"none\" rx=\"30\" ry=\"30\" stroke=\"black\" stroke-width=\"1\"/>\n",
       "\t<text font-family=\"Times New Roman\" font-size=\"20\" x=\"32.5\" y=\"50.5\">V</text>\n",
       "\t<ellipse cx=\"148.5\" cy=\"44.5\" fill=\"none\" rx=\"30\" ry=\"30\" stroke=\"black\" stroke-width=\"1\"/>\n",
       "\t<text font-family=\"Times New Roman\" font-size=\"20\" x=\"139.5\" y=\"50.5\">V</text>\n",
       "\t<ellipse cx=\"93.5\" cy=\"129.5\" fill=\"none\" rx=\"30\" ry=\"30\" stroke=\"black\" stroke-width=\"1\"/>\n",
       "\t<polygon points=\"57.156,70.091 77.844,103.909\" stroke=\"black\" stroke-width=\"1\"/>\n",
       "\t<polygon fill=\"black\" points=\"77.844,103.909 77.935,94.475 69.404,99.694\" stroke-width=\"1\"/>\n",
       "\t<polygon points=\"132.202,69.687 109.798,104.313\" stroke=\"black\" stroke-width=\"1\"/>\n",
       "\t<polygon fill=\"black\" points=\"109.798,104.313 118.341,100.313 109.946,94.88\" stroke-width=\"1\"/>\n",
       "</svg>"
      ],
      "text/plain": [
       "<IPython.core.display.SVG object>"
      ]
     },
     "metadata": {},
     "output_type": "display_data"
    },
    {
     "name": "stdout",
     "output_type": "stream",
     "text": [
      "Om bovenstaand model te verbieden:\n"
     ]
    },
    {
     "data": {
      "text/latex": [
       "$\\displaystyle \\forall xyz(((R(y,x) \\wedge R(z,x) \\wedge y \\neq z) \\rightarrow \\neg (V(y) \\wedge V(z))))$"
      ],
      "text/plain": [
       "<IPython.core.display.Math object>"
      ]
     },
     "metadata": {},
     "output_type": "display_data"
    },
    {
     "name": "stdout",
     "output_type": "stream",
     "text": [
      "Toelichting: Je mag geen twee moeders hebben\n"
     ]
    },
    {
     "data": {
      "image/svg+xml": [
       "<svg height=\"100\" version=\"1.1\" width=\"100\" xmlns=\"http://www.w3.org/2000/svg\">\n",
       "\t<ellipse cx=\"36.5\" cy=\"40.5\" fill=\"none\" rx=\"30\" ry=\"30\" stroke=\"black\" stroke-width=\"1\"/>\n",
       "\t<text font-family=\"Times New Roman\" font-size=\"20\" x=\"17.5\" y=\"46.5\">M/V</text>\n",
       "</svg>"
      ],
      "text/plain": [
       "<IPython.core.display.SVG object>"
      ]
     },
     "metadata": {},
     "output_type": "display_data"
    },
    {
     "name": "stdout",
     "output_type": "stream",
     "text": [
      "Om bovenstaand model te verbieden:\n"
     ]
    },
    {
     "data": {
      "text/latex": [
       "$\\displaystyle \\forall x(M(x) \\oplus V(x)))$"
      ],
      "text/plain": [
       "<IPython.core.display.Math object>"
      ]
     },
     "metadata": {},
     "output_type": "display_data"
    },
    {
     "name": "stdout",
     "output_type": "stream",
     "text": [
      "Toelichting: Je bent een man of een vrouw (maar niet beide)\n"
     ]
    },
    {
     "data": {
      "image/svg+xml": [
       "<svg height=\"0\" version=\"1.1\" width=\"0\" xmlns=\"http://www.w3.org/2000/svg\"/>"
      ],
      "text/plain": [
       "<IPython.core.display.SVG object>"
      ]
     },
     "metadata": {},
     "output_type": "display_data"
    },
    {
     "name": "stdout",
     "output_type": "stream",
     "text": [
      "Om bovenstaand model te verbieden:\n"
     ]
    },
    {
     "data": {
      "text/latex": [
       "$\\displaystyle \\forall x(\\neg M(x) \\wedge \\neg V(x) \\wedge \\neg \\exists y(R(x,y)))$"
      ],
      "text/plain": [
       "<IPython.core.display.Math object>"
      ]
     },
     "metadata": {},
     "output_type": "display_data"
    },
    {
     "name": "stdout",
     "output_type": "stream",
     "text": [
      "Toelichting: (Leeg model) Er mogen geen relaties of mannen/vrouwen nodes in het model zijn (verbiedt alle modellen met deze primitieven)\n"
     ]
    }
   ],
   "source": [
    "print(\"Antwoord deel 2\")\n",
    "    \n",
    "models = [\"\"\"<svg width=\"220\" height=\"250\" version=\"1.1\" xmlns=\"http://www.w3.org/2000/svg\">\n",
    "\t<ellipse stroke=\"black\" stroke-width=\"1\" fill=\"none\" cx=\"115.5\" cy=\"64.5\" rx=\"30\" ry=\"30\"/>\n",
    "\t<ellipse stroke=\"black\" stroke-width=\"1\" fill=\"none\" cx=\"46.5\" cy=\"136.5\" rx=\"30\" ry=\"30\"/>\n",
    "\t<ellipse stroke=\"black\" stroke-width=\"1\" fill=\"none\" cx=\"178.5\" cy=\"136.5\" rx=\"30\" ry=\"30\"/>\n",
    "\t<ellipse stroke=\"black\" stroke-width=\"1\" fill=\"none\" cx=\"46.5\" cy=\"210.5\" rx=\"30\" ry=\"30\"/>\n",
    "\t<ellipse stroke=\"black\" stroke-width=\"1\" fill=\"none\" cx=\"178.5\" cy=\"210.5\" rx=\"30\" ry=\"30\"/>\n",
    "\t<polygon stroke=\"black\" stroke-width=\"1\" points=\"94.743,86.16 67.257,114.84\"/>\n",
    "\t<polygon fill=\"black\" stroke-width=\"1\" points=\"67.257,114.84 76.402,112.524 69.182,105.605\"/>\n",
    "\t<polygon stroke=\"black\" stroke-width=\"1\" points=\"135.255,87.077 158.745,113.923\"/>\n",
    "\t<polygon fill=\"black\" stroke-width=\"1\" points=\"158.745,113.923 157.24,104.61 149.714,111.195\"/>\n",
    "\t<polygon stroke=\"black\" stroke-width=\"1\" points=\"46.5,166.5 46.5,180.5\"/>\n",
    "\t<polygon fill=\"black\" stroke-width=\"1\" points=\"46.5,180.5 51.5,172.5 41.5,172.5\"/>\n",
    "\t<polygon stroke=\"black\" stroke-width=\"1\" points=\"178.5,166.5 178.5,180.5\"/>\n",
    "\t<polygon fill=\"black\" stroke-width=\"1\" points=\"178.5,180.5 183.5,172.5 173.5,172.5\"/>\n",
    "\t<polygon stroke=\"black\" stroke-width=\"1\" points=\"76.5,210.5 148.5,210.5\"/>\n",
    "\t<polygon fill=\"black\" stroke-width=\"1\" points=\"148.5,210.5 140.5,205.5 140.5,215.5\"/>\n",
    "</svg>\"\"\",           \n",
    "\"\"\"<svg width=\"250\" height=\"280\" version=\"1.1\" xmlns=\"http://www.w3.org/2000/svg\">\n",
    "\t<ellipse stroke=\"black\" stroke-width=\"1\" fill=\"none\" cx=\"125.5\" cy=\"56.5\" rx=\"30\" ry=\"30\"/>\n",
    "\t<ellipse stroke=\"black\" stroke-width=\"1\" fill=\"none\" cx=\"46.5\" cy=\"136.5\" rx=\"30\" ry=\"30\"/>\n",
    "\t<ellipse stroke=\"black\" stroke-width=\"1\" fill=\"none\" cx=\"208.5\" cy=\"136.5\" rx=\"30\" ry=\"30\"/>\n",
    "\t<ellipse stroke=\"black\" stroke-width=\"1\" fill=\"none\" cx=\"46.5\" cy=\"218.5\" rx=\"30\" ry=\"30\"/>\n",
    "\t<ellipse stroke=\"black\" stroke-width=\"1\" fill=\"none\" cx=\"208.5\" cy=\"218.5\" rx=\"30\" ry=\"30\"/>\n",
    "\t<ellipse stroke=\"black\" stroke-width=\"1\" fill=\"none\" cx=\"125.5\" cy=\"136.5\" rx=\"30\" ry=\"30\"/>\n",
    "\t<polygon stroke=\"black\" stroke-width=\"1\" points=\"104.421,77.846 67.579,115.154\"/>\n",
    "\t<polygon fill=\"black\" stroke-width=\"1\" points=\"67.579,115.154 76.758,112.975 69.643,105.948\"/>\n",
    "\t<polygon stroke=\"black\" stroke-width=\"1\" points=\"147.1,77.319 186.9,115.681\"/>\n",
    "\t<polygon fill=\"black\" stroke-width=\"1\" points=\"186.9,115.681 184.61,106.529 177.67,113.729\"/>\n",
    "\t<polygon stroke=\"black\" stroke-width=\"1\" points=\"46.5,166.5 46.5,188.5\"/>\n",
    "\t<polygon fill=\"black\" stroke-width=\"1\" points=\"46.5,188.5 51.5,180.5 41.5,180.5\"/>\n",
    "\t<polygon stroke=\"black\" stroke-width=\"1\" points=\"208.5,166.5 208.5,188.5\"/>\n",
    "\t<polygon fill=\"black\" stroke-width=\"1\" points=\"208.5,188.5 213.5,180.5 203.5,180.5\"/>\n",
    "\t<polygon stroke=\"black\" stroke-width=\"1\" points=\"107.5,161.5 68.42,198.018\"/>\n",
    "\t<polygon fill=\"black\" stroke-width=\"1\" points=\"68.42,198.018 77.679,196.209 70.851,188.902\"/>\n",
    "\t<polygon stroke=\"black\" stroke-width=\"1\" points=\"146.841,157.584 187.159,197.416\"/>\n",
    "\t<polygon fill=\"black\" stroke-width=\"1\" points=\"187.159,197.416 184.982,188.236 177.954,195.35\"/>\n",
    "</svg>\"\"\",\n",
    "\"\"\"<svg width=\"200\" height=\"250\" version=\"1.1\" xmlns=\"http://www.w3.org/2000/svg\">\n",
    "\t<ellipse stroke=\"black\" stroke-width=\"1\" fill=\"none\" cx=\"31.5\" cy=\"108.5\" rx=\"30\" ry=\"30\"/>\n",
    "\t<ellipse stroke=\"black\" stroke-width=\"1\" fill=\"none\" cx=\"109.5\" cy=\"34.5\" rx=\"30\" ry=\"30\"/>\n",
    "\t<ellipse stroke=\"black\" stroke-width=\"1\" fill=\"none\" cx=\"109.5\" cy=\"108.5\" rx=\"30\" ry=\"30\"/>\n",
    "\t<ellipse stroke=\"black\" stroke-width=\"1\" fill=\"none\" cx=\"109.5\" cy=\"177.5\" rx=\"30\" ry=\"30\"/>\n",
    "\t<polygon stroke=\"black\" stroke-width=\"1\" points=\"87.736,55.148 53.264,87.852\"/>\n",
    "\t<polygon fill=\"black\" stroke-width=\"1\" points=\"53.264,87.852 62.509,85.973 55.626,78.719\"/>\n",
    "\t<polygon stroke=\"black\" stroke-width=\"1\" points=\"79.5,108.5 61.5,108.5\"/>\n",
    "\t<polygon fill=\"black\" stroke-width=\"1\" points=\"61.5,108.5 69.5,113.5 69.5,103.5\"/>\n",
    "\t<polygon stroke=\"black\" stroke-width=\"1\" points=\"87.03,157.623 53.97,128.377\"/>\n",
    "\t<polygon fill=\"black\" stroke-width=\"1\" points=\"53.97,128.377 56.649,137.423 63.275,129.933\"/>\n",
    "</svg>\"\"\",\n",
    "\"\"\"<svg width=\"180\" height=\"160\" version=\"1.1\" xmlns=\"http://www.w3.org/2000/svg\">\n",
    "\t<ellipse stroke=\"black\" stroke-width=\"1\" fill=\"none\" cx=\"41.5\" cy=\"44.5\" rx=\"30\" ry=\"30\"/>\n",
    "\t<text x=\"32.5\" y=\"50.5\" font-family=\"Times New Roman\" font-size=\"20\">V</text>\n",
    "\t<ellipse stroke=\"black\" stroke-width=\"1\" fill=\"none\" cx=\"148.5\" cy=\"44.5\" rx=\"30\" ry=\"30\"/>\n",
    "\t<text x=\"139.5\" y=\"50.5\" font-family=\"Times New Roman\" font-size=\"20\">V</text>\n",
    "\t<ellipse stroke=\"black\" stroke-width=\"1\" fill=\"none\" cx=\"93.5\" cy=\"129.5\" rx=\"30\" ry=\"30\"/>\n",
    "\t<polygon stroke=\"black\" stroke-width=\"1\" points=\"57.156,70.091 77.844,103.909\"/>\n",
    "\t<polygon fill=\"black\" stroke-width=\"1\" points=\"77.844,103.909 77.935,94.475 69.404,99.694\"/>\n",
    "\t<polygon stroke=\"black\" stroke-width=\"1\" points=\"132.202,69.687 109.798,104.313\"/>\n",
    "\t<polygon fill=\"black\" stroke-width=\"1\" points=\"109.798,104.313 118.341,100.313 109.946,94.88\"/>\n",
    "</svg>\"\"\",\n",
    "\"\"\"<svg width=\"100\" height=\"100\" version=\"1.1\" xmlns=\"http://www.w3.org/2000/svg\">\n",
    "\t<ellipse stroke=\"black\" stroke-width=\"1\" fill=\"none\" cx=\"36.5\" cy=\"40.5\" rx=\"30\" ry=\"30\"/>\n",
    "\t<text x=\"17.5\" y=\"46.5\" font-family=\"Times New Roman\" font-size=\"20\">M/V</text>\n",
    "</svg>\"\"\",\"\"\"<svg width=\"0\" height=\"0\" version=\"1.1\" xmlns=\"http://www.w3.org/2000/svg\"></svg>\"\"\"] \n",
    "\n",
    "bans = [\"\\\\forall xyzvw((R(z,v) \\\\wedge R(z,w) \\\\wedge R(v,x) \\\\wedge R(w,y)) \\\\rightarrow \\\\neg R(x,y))\",\n",
    "       \"\\\\forall xyzvwu((R(z,v) \\\\wedge R(z,w) \\\\wedge R(v,u) \\\\wedge R(w,y) \\\\wedge R(x,u) \\\\wedge v \\\\neq w \\\\wedge y \\\\neq u) \\\\rightarrow  \\\\neg R(x,y))\",\n",
    "       \"\\\\forall x(\\\\exists y(R(y,x)) \\\\wedge \\\\exists z(R(z,x)) \\\\wedge \\\\neg \\\\exists w(R(w,x)) \\\\wedge x \\\\neq y \\\\neq z \\\\neq w)\",\n",
    "       \"\\\\forall xyz(((R(y,x) \\\\wedge R(z,x) \\\\wedge y \\\\neq z) \\\\rightarrow \\\\neg (V(y) \\\\wedge V(z))))\",\n",
    "       \"\\\\forall x(M(x) \\\\oplus V(x)))$\",\n",
    "       \"\\\\forall x(\\\\neg M(x) \\\\wedge \\\\neg V(x) \\\\wedge \\\\neg \\\\exists y(R(x,y)))\"]\n",
    "\n",
    "toelichtingen = [\"Kleinkinderen mogen geen ouders van andere kleinkinderen zijn\",\n",
    "                \"Een ouder mag niet met twee siblings kinderen hebben\",\n",
    "                \"Iedereen heeft exact twee ouders die niet zichzelf zijn (verbiedt oneindig veel meer modellen dan het voorbeeldmodel)\",\n",
    "                \"Je mag geen twee moeders hebben\",\n",
    "                \"Je bent een man of een vrouw (maar niet beide)\",\n",
    "                \"(Leeg model) Er mogen geen relaties of mannen/vrouwen nodes in het model zijn (verbiedt alle modellen met deze primitieven)\"]\n",
    "\n",
    "for model, ban, toelichting in zip(models, bans, toelichtingen):\n",
    "    show_svg(model)\n",
    "    print(\"Om bovenstaand model te verbieden:\")\n",
    "    show_latex(ban)\n",
    "    print(\"Toelichting:\", toelichting)"
   ]
  },
  {
   "cell_type": "markdown",
   "metadata": {
    "deletable": false,
    "editable": false,
    "nbgrader": {
     "cell_type": "markdown",
     "checksum": "e5e94e8ec57a4c8bac0a5d470b76590f",
     "grade": false,
     "grade_id": "q3",
     "locked": true,
     "schema_version": 3,
     "solution": false
    }
   },
   "source": [
    "# Q3 Conjunctieve vragen aan een netwerk (4pt)\n",
    "\n",
    "* Een netwerk met feiten (en regels) is natuurlijk ook een database (of een *triple store*), en wat doen we met dat soort dingen? We stellen er vragen aan, en krijgen dan antwoord. Normaal doe je dat in SQL. In deze cursus leer je hoe je dat doet in SPARQL. Later bij Data Science leer je hoe je dat doet met `pandas`. \n",
    "* De preciese taal maakt niet, de meeste vragen die je stelt in je leven (en alle andere mensen op aarde) zijn zogenaamde *conjunctive queries*: eerste orde formules van de vorm $\\exists \\bar{x} (\\bigwedge R(x_i,x_j))$. \n",
    "* Bijvoorbeeld, \"wie zijn de grootouders van Henkie?\" wordt dan  $\\exists z (R(x,z) \\wedge R(z,\"Henkie\"))$. Je kunt dat zelf vast prima in SQL en volgende week in SPARQL zeggen.\n",
    "* Een *conjucntieve query* kan je ook zien als een netwerk! Als een voorbeeld netwerkje.\n",
    "    * $R(x,y)\\wedge R(y,z) \\wedge R(x,z)$ vraagt om alle \"driehoekjes\"\n",
    "    * Dat kan ik ook zeggen als dit netwerk (ja ik weet dat dit ongericht is, en wij alles gericht doen, maar dat laat ik aan jullie over)\n",
    "<pre>\n",
    "A = nx.Graph()\n",
    "A.add_edges_from([('x','y'),('x','z'),('x','z')])\n",
    "</pre>\n",
    "* Het **antwoord** op deze vraag gegeven een netwerk `M` is dan alle deelnetwerken van `M` die isomorf zijn met `A` (plus natuurlijk hoe de knopen in `M` dan gematched worden met de \"knopen\" (= variabelen) in `A`.\n",
    "* Programmeer dit in networkx.\n",
    "* Het antwoord is verbazend simpel, uiteindelijk. Denk eerst na, ga dan gericht zoeken!\n",
    "\n",
    "#### Eisen\n",
    "* `CQ` kan werken op `nx.Digraphs` met boolse attributen op de knopen, en 1 relatie. \n",
    "* Dus vergelijkbaar met je ouder database (maar dan heb je twee boolse attributen). Je hebt dus een attribuut voor elke 1 plaatsige relatie.\n",
    "* Je kan ervan uitgaan dat de query graaf altijd in de \"taal\" geschreven is van de model graaf.\n",
    "* Let op: je hoeft de projectie niet te doen in CQ. Dus je vraag is  altijd  equivalent aan een een conjunctie van atomen (dus zonder existentiele quantifier (dat is namelijk de projectie in DB termen)).\n",
    "\n",
    "## Deel 2\n",
    "\n",
    "* Hoe kostbaar is deze manier van vragen beantwoorden? \n",
    "    * Probeer het eens uit te rekenen als functie van  het aantal knopen in het Model netwerk en in het vraag netwerk. \n",
    "    * Heftig?\n",
    "    * Zou het beter kunnen?\n",
    "    * Zou het echt beter kunnen?\n",
    "    * Zoek eens op hoe lastig dit probleem eigenlijk is. Had je niet gedacht he?\n"
   ]
  },
  {
   "cell_type": "code",
   "execution_count": 8,
   "metadata": {},
   "outputs": [
    {
     "data": {
      "image/png": "[encoded data removed]",
      "text/plain": [
       "<Figure size 432x288 with 1 Axes>"
      ]
     },
     "metadata": {},
     "output_type": "display_data"
    }
   ],
   "source": [
    "G= nx.karate_club_graph()\n",
    "nx.draw_networkx(G)\n",
    "\n",
    "# Geef me alle driehoekjes in G. Ik vond 270 verschillende.\n",
    "A = nx.Graph()\n",
    "A.add_edges_from([('x','y'),('x','z'),('y','z')])"
   ]
  },
  {
   "cell_type": "code",
   "execution_count": 9,
   "metadata": {
    "deletable": false,
    "nbgrader": {
     "cell_type": "code",
     "checksum": "4f8f0c4aee793c8fc304c59497077e77",
     "grade": false,
     "grade_id": "q3a",
     "locked": false,
     "schema_version": 3,
     "solution": true
    },
    "scrolled": true
   },
   "outputs": [
    {
     "name": "stdout",
     "output_type": "stream",
     "text": [
      "270\n"
     ]
    },
    {
     "data": {
      "image/png": "[encoded data removed]",
      "text/plain": [
       "<Figure size 432x288 with 1 Axes>"
      ]
     },
     "metadata": {},
     "output_type": "display_data"
    }
   ],
   "source": [
    "def CQ(Model, Query, create_subgraph=False):\n",
    "    '''Returns a generator of dicts, where each dict is a bijective mapping from  nodes in Model\n",
    "    to all nodes in  Query.\n",
    "    The keys are the model nodes.\n",
    "    The set of dict values equals the set of nodes of Query.\n",
    "    The generator returns all answers to the Query on this Model.\n",
    "    (Added) create_subgraph parameter: if True, returns a network instead, contructed from matches in the Model.'''\n",
    "    digraph = nx.is_directed(Model)\n",
    "    if digraph:\n",
    "        isomorphism_matches = nx.algorithms.isomorphism.DiGraphMatcher(Model, Query).subgraph_isomorphisms_iter()\n",
    "    else:\n",
    "        isomorphism_matches = nx.algorithms.isomorphism.GraphMatcher(Model, Query).subgraph_isomorphisms_iter()\n",
    "    if create_subgraph:\n",
    "        if digraph:\n",
    "            G = nx.DiGraph()\n",
    "        else:\n",
    "            G = nx.Graph()\n",
    "        for match in isomorphism_matches:\n",
    "            G.add_edges_from(Query.edges) # add the Query nodes\n",
    "            G = nx.relabel_nodes(G, {v: k for k, v in match.items()}) #re-label those with Model\n",
    "        return G\n",
    "    return isomorphism_matches\n",
    "    \n",
    "#test\n",
    "print(len(list(CQ(G,A))))\n",
    "# for antwoord in CQ(G,A):\n",
    "#     print(antwoord)\n",
    "\n",
    "# Met optioneel argument een netwerk maken van alles uit het Model dat de vorm van Query matcht\n",
    "nx.draw_networkx(CQ(G,A,create_subgraph=True))"
   ]
  },
  {
   "cell_type": "code",
   "execution_count": 10,
   "metadata": {
    "deletable": false,
    "editable": false,
    "nbgrader": {
     "cell_type": "code",
     "checksum": "d307aef902ce9c06e013de81136efd9e",
     "grade": true,
     "grade_id": "q3t",
     "locked": true,
     "points": 4,
     "schema_version": 3,
     "solution": false
    }
   },
   "outputs": [],
   "source": [
    "assert isinstance(CQ(G,A),Generator)\n"
   ]
  },
  {
   "cell_type": "markdown",
   "metadata": {},
   "source": [
    "## Antwoord deel 2\n",
    "\n",
    "Deze manier van uitrekenen is zeer kostbaar, met al een paar knopen in het model- en vraagnetwerk moet je heel veel mogelijkheden afgaan, namelijk: $AantalKnopenVraag !  * {AantalKnopenModel \\choose AantalKnopenVraag}$. \n",
    "\n",
    "\n",
    "(Sub)Graph isomorphism is een lastig vraagstuk in de informatica, waarvoor nog geen algoritme is in polynomische tijd. NetworkX gebruikt bij de ingebouwde functie hiervoor het VF2-algoritme, gedefinieerd door Cordella et al (2004). Het heeft een tijdcomplexiteit van best case: $O(N^2)$ en worst case $O(N!N)$. De ruimtecomplexiteit van VF2 is $O(N)$. Er zijn verschillende algoritmes en verschillende aanpakken met verschillende best- en worst-case scenario's voor andere vormen van netwerken.\n",
    "\n",
    "Cordella, L. P., Foggia, P., Sansone, C., & Vento, M. (2004). _A (sub) graph isomorphism algorithm for matching large graphs. IEEE transactions on pattern analysis and machine intelligence, 26_(10), 1367-1372.\n",
    "        "
   ]
  }
 ],
 "metadata": {
  "kernelspec": {
   "display_name": "Python 3",
   "language": "python",
   "name": "python3"
  },
  "language_info": {
   "codemirror_mode": {
    "name": "ipython",
    "version": 3
   },
   "file_extension": ".py",
   "mimetype": "text/x-python",
   "name": "python",
   "nbconvert_exporter": "python",
   "pygments_lexer": "ipython3",
   "version": "3.6.9"
  },
  "toc": {
   "nav_menu": {},
   "number_sections": true,
   "sideBar": true,
   "skip_h1_title": false,
   "title_cell": "Table of Contents",
   "title_sidebar": "Contents",
   "toc_cell": true,
   "toc_position": {},
   "toc_section_display": true,
   "toc_window_display": false
  }
 },
 "nbformat": 4,
 "nbformat_minor": 2
}
