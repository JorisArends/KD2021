{
 "cells": [
  {
   "cell_type": "markdown",
   "metadata": {},
   "source": [
    "# Assignment Kennis en Data"
   ]
  },
  {
   "cell_type": "markdown",
   "metadata": {},
   "source": [
    "## Notebook made by\n",
    "\n",
    "\n",
    "|Naam|Studentnummer|\n",
    "|-|-|\n",
    "|Luuk| secret|\n",
    "|Merijn|secret|\n",
    "|Rogier|secret |\n",
    "| | |\n",
    "\n",
    "## Peerreview\n",
    "\n",
    "* Vul onderstaande dict/tabel in en run de cel. Klopt het? Zijn jullie het er allemaal mee eens?\n",
    "    * Verander `1,2,3,4` door jullie studentnummers\n",
    "    * `1: {1:.2,2:.3,3:.3,4:.2}` betekent dat student 1 zijn punt zo over de 4 studenten verdeelt\n",
    "    * Let op, per student moeten de punten optellen tot 1!\n",
    "    * De gegeven punten staan in de tabel op de rijen, de ontvangen punten in de kolommen.\n",
    "    * met `cijfer_per_student` kan je bepalen welk cijfer ieder krijgt bij een gegeven groepscijfer."
   ]
  },
  {
   "cell_type": "markdown",
   "metadata": {},
   "source": [
    "## Toelichting\n",
    "\n",
    "* De meeste opgaven worden automatisch nagekeken. Bij vrijwel alle opdrachten staan er een paar tests onder de opdracht, dit is voornamelijk om te zorgen dat je de juiste type output geeft. Dit zijn dus *NIET* alle tests, die komen er bij het graden nog bij.\n",
    "* Elke vraag is 1 punt waard, tenzij anders aangegeven. Soms is die punt onderverdeeld in deelpunten, maar niet altijd. \n",
    "\n",
    "## Voor het inleveren!\n",
    "\n",
    "* Pas niet de cellen aan, vooral niet die je niet kunt editen. Dit levert problemen op bij nakijken. Twijfel je of je per ongeluk iets hebt gewijzigd, kopieer dan bij inleveren je antwoorden naar een nieuw bestand, zodat het niet fout kan gaan.\n",
    "\n",
    "* Zorg dat de code goed runt van boven naar beneden, verifieer dat door boven in Kernel -> Restart & Run All uit te voeren\n",
    "\n",
    "## Na het inleveren!\n",
    "\n",
    "* Het gebeurt erg vaak dat mensen een \"leeg bestand\" inleveren. Vaak een andere versie van de opgave die nog ergens op je computer rondslingerde. Zonde van al je werk toch!\n",
    "* Dus, lever **minstens een half uur voor tijd in**. Download dan wat je hebt ingeleverd op Canvas. Geef het een andere naam om verwarring te voorkomen. En draai alle cellen, en bekijk het. Geen syntax fouten? Alle vragen gemaakt? Dan zit het vast wel goed, en hoef je niet in de zenuwen te zitten."
   ]
  },
  {
   "cell_type": "markdown",
   "metadata": {
    "toc": true
   },
   "source": [
    "<h1>Table of Contents<span class=\"tocSkip\"></span></h1>\n",
    "<div class=\"toc\"><ul class=\"toc-item\"><li><span><a href=\"#Q1-logisch-gevolg-(4pts)\" data-toc-modified-id=\"Q1-logisch-gevolg-(4pts)-1\"><span class=\"toc-item-num\">1&nbsp;&nbsp;</span>Q1 logisch gevolg (4pts)</a></span></li><li><span><a href=\"#Q2-Vreemde-modellen-(4pts)\" data-toc-modified-id=\"Q2-Vreemde-modellen-(4pts)-2\"><span class=\"toc-item-num\">2&nbsp;&nbsp;</span>Q2 Vreemde modellen (4pts)</a></span></li><li><span><a href=\"#Q3-Conjunctieve-vragen-aan-een-netwerk-(4pts)\" data-toc-modified-id=\"Q3-Conjunctieve-vragen-aan-een-netwerk-(4pts)-3\"><span class=\"toc-item-num\">3&nbsp;&nbsp;</span>Q3 Conjunctieve vragen aan een netwerk (4pts)</a></span></li><li><span><a href=\"#Q1-logisch-gevolg\" data-toc-modified-id=\"Q1-logisch-gevolg-4\"><span class=\"toc-item-num\">4&nbsp;&nbsp;</span>Q1 logisch gevolg</a></span></li><li><span><a href=\"#Q2-Vreemde-modellen\" data-toc-modified-id=\"Q2-Vreemde-modellen-5\"><span class=\"toc-item-num\">5&nbsp;&nbsp;</span>Q2 Vreemde modellen</a></span><ul class=\"toc-item\"><li><ul class=\"toc-item\"><li><span><a href=\"#Deel-1-(2pt)\" data-toc-modified-id=\"Deel-1-(2pt)-5.0.1\"><span class=\"toc-item-num\">5.0.1&nbsp;&nbsp;</span>Deel 1 (2pt)</a></span></li><li><span><a href=\"#Deel-2-(2pt)\" data-toc-modified-id=\"Deel-2-(2pt)-5.0.2\"><span class=\"toc-item-num\">5.0.2&nbsp;&nbsp;</span>Deel 2 (2pt)</a></span></li><li><span><a href=\"#deel-1\" data-toc-modified-id=\"deel-1-5.0.3\"><span class=\"toc-item-num\">5.0.3&nbsp;&nbsp;</span>deel 1</a></span></li><li><span><a href=\"#deel-2\" data-toc-modified-id=\"deel-2-5.0.4\"><span class=\"toc-item-num\">5.0.4&nbsp;&nbsp;</span>deel 2</a></span></li></ul></li></ul></li><li><span><a href=\"#Q3-Conjunctieve-vragen-aan-een-netwerk-(4pt)\" data-toc-modified-id=\"Q3-Conjunctieve-vragen-aan-een-netwerk-(4pt)-6\"><span class=\"toc-item-num\">6&nbsp;&nbsp;</span>Q3 Conjunctieve vragen aan een netwerk (4pt)</a></span><ul class=\"toc-item\"><li><ul class=\"toc-item\"><li><ul class=\"toc-item\"><li><span><a href=\"#Eisen\" data-toc-modified-id=\"Eisen-6.0.0.1\"><span class=\"toc-item-num\">6.0.0.1&nbsp;&nbsp;</span>Eisen</a></span></li></ul></li></ul></li><li><span><a href=\"#Deel-2\" data-toc-modified-id=\"Deel-2-6.1\"><span class=\"toc-item-num\">6.1&nbsp;&nbsp;</span>Deel 2</a></span></li></ul></li></ul></div>"
   ]
  },
  {
   "cell_type": "code",
   "execution_count": 2,
   "metadata": {
    "deletable": false,
    "editable": false,
    "nbgrader": {
     "cell_type": "code",
     "checksum": "9494647199f10186da81733238f0dcfb",
     "grade": false,
     "grade_id": "intro",
     "locked": true,
     "schema_version": 3,
     "solution": false
    }
   },
   "outputs": [],
   "source": [
    "from typing import Generator\n",
    "from nose.tools import assert_equal, assert_count_equal\n",
    "import networkx as nx\n",
    "%matplotlib inline"
   ]
  },
  {
   "cell_type": "markdown",
   "metadata": {
    "deletable": false,
    "editable": false,
    "nbgrader": {
     "cell_type": "markdown",
     "checksum": "a406ab219b4af084226b62988a10219e",
     "grade": false,
     "grade_id": "intro2",
     "locked": true,
     "schema_version": 3,
     "solution": false
    }
   },
   "source": [
    "# Q1 logisch gevolg (4pts)\n",
    "\n",
    "* Je maakt een Python programma waaraan je een verzameling premissen $\\Sigma$ en een conclusie $\\phi$ in propositielogische formules geeft en die teruggeeft of $\\Sigma\\models\\phi$. \n",
    "    * In het geval van niet geef je een (of alle) tegenvoorbeelden terug.\n",
    "    \n",
    "# Q2 Vreemde modellen (4pts)\n",
    "\n",
    "* Je maakt vreemde modellen voor je netwerk van familierelaties. Modellen die wel mogen, maar in het echt niet of vrijwel nooit voorkomen. \n",
    "* Daarna probeer je die met logische formules te verbieden. Je verzint dus zinnen die *niet waar* zijn op die ongewenste modellen.\n",
    "\n",
    "# Q3 Conjunctieve vragen aan een netwerk (4pts)\n",
    "\n",
    "* Een netwerk met feiten (en regels) is natuurlijk ook een database (of een *triple store*), en wat doen we met dat soort dingen? We stellen er vragen aan, en krijgen dan antwoord. Normaal doe je dat in SQL. In deze cursus leer je hoe je dat doet in SPARQL. Later bij Data Science leer je hoe je dat doet met `pandas`. \n",
    "* De preciese taal maakt niet, de meeste vragen die je stelt in je leven (en alle andere mensen op aarde) zijn zogenaamde *conjunctive queries*: eerste orde formules van de vorm $\\exists \\bar{x} (\\bigwedge R(x_i,x_j))$. \n",
    "    * OK OK, je gebruikt ook nog wel eens het connectief \"of\", maar dat is makkelijk toe te voegen aanje programma als je dit hebt.\n",
    "        * (want je kunt alle \"of\"s naar buiten brengen, en dan heb je dus een grote disjunctie van CQs.\n",
    "        * die draai je allemaal achter (of naast) elkaar, en neemt de vereniging van de antwoorden.\n",
    "        * Probeer maar eens een voorbeeld\n",
    "* Bijvoorbeeld, \"wie zijn de grootouders van Henkie?\" wordt dan  $\\exists z (R(x,z) \\wedge R(z,\"Henkie\"))$. Je kunt dat zelf vast prima in SQL en volgende week in SPARQL zeggen."
   ]
  },
  {
   "cell_type": "markdown",
   "metadata": {
    "deletable": false,
    "editable": false,
    "nbgrader": {
     "cell_type": "markdown",
     "checksum": "fb3131489d9ba97c1ef0a560cefc9b13",
     "grade": false,
     "grade_id": "q1",
     "locked": true,
     "schema_version": 3,
     "solution": false
    }
   },
   "source": [
    "# Q1 logisch gevolg\n",
    "\n",
    "* We werken met de [sympy module](https://docs.sympy.org/latest/modules/logic.html). Dat is erg handig. Neem hem eerst goed door en speel er wat mee.\n",
    "* In de cel hieronder vind je een handige routine.\n",
    "* Je gebruikt natuurlijk  de definitie van $\\Sigma\\models\\phi$, van logisch gevolg dus.\n",
    "* En daarvoor is de `sympy` routine `satisfiable` best handig....\n",
    "* De tests in de antwoord cel gaven bij mij dit:\n",
    "<pre>\n",
    "{p, q | ~p} q True\n",
    "{q, q | ~p} p [{q: True, p: False}]\n",
    "{q, Implies(p, q)} p {q: True, p: False}\n",
    "{q & (r | s), Implies(p, q)} p [{q: True, r: True, s: True, p: False}, {q: True, r: True, s: False, p: False}, {q: True, s: True, r: False, p: False}]\n",
    "WARNING: All proposition letters in the Conclusion should occur in some formula of the Premisses.\n",
    "</pre>"
   ]
  },
  {
   "cell_type": "code",
   "execution_count": 3,
   "metadata": {
    "deletable": false,
    "editable": false,
    "nbgrader": {
     "cell_type": "code",
     "checksum": "8551e7a976aee50c8586cc3f40810fba",
     "grade": false,
     "grade_id": "q1c",
     "locked": true,
     "schema_version": 3,
     "solution": false
    }
   },
   "outputs": [
    {
     "data": {
      "text/latex": [
       "$\\displaystyle p \\wedge \\left(p \\vee \\left(p \\wedge q\\right)\\right) \\wedge \\left(q \\vee \\neg p\\right)$"
      ],
      "text/plain": [
       "p & (q | ~p) & (p | (p & q))"
      ]
     },
     "execution_count": 3,
     "metadata": {},
     "output_type": "execute_result"
    }
   ],
   "source": [
    "from sympy import *\n",
    "from sympy.logic.inference import satisfiable\n",
    "\n",
    "p,q,r,s,t = symbols('p q r s t')\n",
    "\n",
    "def maakconjunctie(P):\n",
    "    '''Creates a conjunction from a set or list of formulas.'''\n",
    "    P=list(P)\n",
    "    if P:\n",
    "        return P[0]&maakconjunctie(P[1:])\n",
    "    else:\n",
    "        return True\n",
    "#test\n",
    "maakconjunctie({p, ~p |q, p|(p&q)})    "
   ]
  },
  {
   "cell_type": "code",
   "execution_count": 4,
   "metadata": {
    "deletable": false,
    "nbgrader": {
     "cell_type": "code",
     "checksum": "d6def210c05805c9f0f4424f2037b2f8",
     "grade": false,
     "grade_id": "q1a",
     "locked": false,
     "schema_version": 3,
     "solution": true
    }
   },
   "outputs": [
    {
     "name": "stdout",
     "output_type": "stream",
     "text": [
      "{q | ~p, p} q True\n",
      "{q, q | ~p} p [{q: True, p: False}]\n",
      "{Implies(p, q), q} p {q: True, p: False}\n",
      "{Implies(p, q), q, r | s} p [{q: True, r: True, s: True, p: False}, {q: True, r: True, s: False, p: False}, {q: True, s: True, r: False, p: False}]\n"
     ]
    }
   ],
   "source": [
    "\n",
    "def implies(Premisses, Conclusion, allmodels=False):\n",
    "    '''Return True if Conclusion follows from Premisses, \n",
    "    return a (or all) countermodel(s) otherwise. '''\n",
    "    P= maakconjunctie(Premisses)\n",
    "    \n",
    "    if not Conclusion.atoms().issubset(P.atoms()):\n",
    "        print('WARNING: All proposition letters in the Conclusion should occur in some formula of the Premisses.')\n",
    "        raise\n",
    "    else:\n",
    "         \n",
    "        counterlist=[]\n",
    "        #Deze for loop loopt door alle mogelijke models voor Premisses P\n",
    "        for counter in list(satisfiable(P,all_models=True)):\n",
    "            for co in counter:\n",
    "                #If statement kijkt of er een tegenvoorbeeld is\n",
    "                if co == Conclusion and counter[co] != satisfiable(Conclusion).get(Conclusion):\n",
    "                    #als allmodels waar is word het tegenvoorbeeld toegevoegde aan de lijst\n",
    "                    if allmodels:\n",
    "                        counterlist.append(counter)\n",
    "                    #als allmodels niet waar is dan wordt het eerste tegenvoorbeeld gereturned\n",
    "                    else:\n",
    "                        return(counter)\n",
    "        #If statement kijkt of er tegenvoorbeelden zijn\n",
    "        if len(counterlist)>0:\n",
    "            return counterlist\n",
    "        #Zo niet, dan wordt True gereturned als de waarde van de conclusion gelijk is aan de waarde van de conclusion in de premisses\n",
    "        if satisfiable(P).get(Conclusion) == satisfiable(Conclusion).get(Conclusion):\n",
    "            return True\n",
    "             \n",
    "\n",
    "\n",
    "        \n",
    "        \n",
    "\n",
    "     \n",
    "#TEST\n",
    "P= {~p|q,p}\n",
    "C= q   \n",
    "\n",
    "print(P, C, implies(P,C, allmodels=True ))\n",
    "P= {~p|q,q}\n",
    "C= p   \n",
    "\n",
    "print(P, C, implies(P,C, allmodels=True ))\n",
    "\n",
    "P= {p>>q,q}  # andere manier om implicatie te schrijven\n",
    "C= p   \n",
    "\n",
    "print(P, C, implies(P,C))\n",
    "\n",
    "P= {p>>q,q,(r|s)}  # andere manier om implicatie te schrijven\n",
    "C= p \n",
    "\n",
    "print(P, C, implies(P,C, allmodels=True ))\n",
    "P= {p>>q,q}  # andere manier om implicatie te schrijven\n",
    "C= r\n",
    "\n",
    "#implies(P,C) Dit geeft een error. Probeer het ook zelf"
   ]
  },
  {
   "cell_type": "code",
   "execution_count": 5,
   "metadata": {
    "deletable": false,
    "editable": false,
    "nbgrader": {
     "cell_type": "code",
     "checksum": "5b33c7c17b5accedae26816698100cf8",
     "grade": true,
     "grade_id": "q1t",
     "locked": true,
     "points": 4,
     "schema_version": 3,
     "solution": false
    }
   },
   "outputs": [],
   "source": [
    "assert_equal(type(implies({p},p)), bool)\n",
    "assert_equal(type(implies({p|q},p)), dict)\n",
    "assert_equal(type(implies({p|q},p, allmodels=True)), list)\n"
   ]
  },
  {
   "cell_type": "markdown",
   "metadata": {
    "deletable": false,
    "editable": false,
    "nbgrader": {
     "cell_type": "markdown",
     "checksum": "2f83bbf70121d5ca0b4bb19e093f92a9",
     "grade": false,
     "grade_id": "q2",
     "locked": true,
     "schema_version": 3,
     "solution": false
    }
   },
   "source": [
    "# Q2 Vreemde modellen\n",
    "\n",
    "### Deel 1 (2pt)\n",
    "1. Je maakt vreemde modellen voor je netwerk van familierelaties. Modellen die wel mogen, maar in het echt niet of vrijwel nooit voorkomen. \n",
    "2. Daarna probeer je die met logische formules te verbieden. Je verzint dus zinnen die *niet waar* zijn op die ongewenste modellen.\n",
    "\n",
    "In ieder geval verzin je zinnen die de volgende vijf modellen verbieden (die soort $\\Sigma$ bij een knoop is eigenlijk een M en staat voor Man. Gebruik dus weer de predicaatlogische relaties $R,M,V$ in die zinnen, en niks anders. Geef duidelijk aan welk model je met welke zin verbiedt.\n",
    "\n",
    "![](vreemd.jpg)\n",
    "\n",
    "### Deel 2 (2pt)\n",
    "\n",
    "Ga nu verder en verzin nog meer modellen die je zou willen verbieden. Misschien vindt je er wel oneindig veel! Kan je daar een zin die die allemaal verbiedt voor vinden? Kan je het met oneindig veel zinnen? Geef ze!\n",
    "\n",
    "**Je antwoorden zijn keurige Latex formules, en natuurlijk wel gevormd, met nette haakjes etc.**\n",
    "\n",
    "**Voor je modellen, maak je plaatjes in netwerkx, met de hand, of iets anders, als het maar heel duidelijk is (en dus niet zo als die in deze opgave ;-)**"
   ]
  },
  {
   "cell_type": "markdown",
   "metadata": {
    "deletable": false,
    "nbgrader": {
     "cell_type": "markdown",
     "checksum": "405fa2c00f2ea1f1b2a314950eed1629",
     "grade": true,
     "grade_id": "q2a",
     "locked": false,
     "points": 4,
     "schema_version": 3,
     "solution": true
    }
   },
   "source": [
    "# Vraag 2 Deel 1"
   ]
  },
  {
   "cell_type": "markdown",
   "metadata": {},
   "source": [
    "Relatie 1: één van de ouders moet een man zijn en de andere een vrouw\n",
    "\n",
    "Logica 1: ∀xyz ( R(y,x) ∧ R(z,x)  ↔ M(y) ∧ V(z))"
   ]
  },
  {
   "cell_type": "code",
   "execution_count": 6,
   "metadata": {},
   "outputs": [
    {
     "data": {
      "image/png": "[encoded data removed]",
      "text/plain": [
       "<Figure size 288x288 with 1 Axes>"
      ]
     },
     "metadata": {},
     "output_type": "display_data"
    }
   ],
   "source": [
    "#Voor elke relatie hebben we een netwerk gemaakt, met hiearchische verdeling (ouder -> kind)\n",
    "import matplotlib.pyplot as plt\n",
    "G1=nx.DiGraph()\n",
    "G1.add_node('Vader1',pos=(1,2))\n",
    "G1.add_node('Vader2',pos=(2,2))\n",
    "G1.add_node('Kind',pos=(1.5,1))\n",
    "G1.add_edges_from([('Vader1', 'Kind'), ('Vader2', 'Kind')])\n",
    "\n",
    "pos=nx.get_node_attributes(G1,'pos')\n",
    "color_list=['#73c5ff','#73c5ff','#d4d4d4']\n",
    "\n",
    "plt.figure(figsize=(4,4),constrained_layout=True) \n",
    "nx.draw_networkx(G1,pos,node_color=color_list,node_size=2000)\n",
    "plt.show()\n",
    "\n",
    "\n",
    "\n",
    "\n"
   ]
  },
  {
   "cell_type": "markdown",
   "metadata": {},
   "source": [
    "Relatie 2: Het kind en de ouder kunnen niet hetzelfde persoon zijn\n",
    "\n",
    "Logica 2: ∀x ( $\\neg$R(x,x))"
   ]
  },
  {
   "cell_type": "code",
   "execution_count": 15,
   "metadata": {},
   "outputs": [
    {
     "data": {
      "image/png": "[encoded data removed]",
      "text/plain": [
       "<Figure size 216x288 with 1 Axes>"
      ]
     },
     "metadata": {},
     "output_type": "display_data"
    }
   ],
   "source": [
    "#We hebben geprobeerd om een node te maken die naar zichzelf terugloopt, dit is alleen niet gelukt\n",
    "#We hebben pygraphviz geprobeerd en ook nog een stuk code van de documentatie van networkx, helaas werkte dit allebei niet\n",
    "#https://networkx.org/documentation/latest/auto_examples/drawing/plot_selfloops.html\n",
    "\n",
    "G2=nx.DiGraph()\n",
    "G2.add_node('ik',pos=(1,2))\n",
    "G2.add_node('mezelf',pos=(1,1))\n",
    "G2.add_edges_from([('ik', 'mezelf'), ('mezelf', 'ik')])\n",
    "\n",
    "pos=nx.get_node_attributes(G2,'pos')\n",
    "color_list=['#d4d4d4']\n",
    "\n",
    "plt.figure(figsize=(3,4),constrained_layout=True) \n",
    "nx.draw_networkx(G2,pos,node_color=color_list,node_size=2000,connectionstyle=\"arc3,rad=0.1\")\n",
    "plt.show()"
   ]
  },
  {
   "cell_type": "markdown",
   "metadata": {},
   "source": [
    "Relatie 3: Je kan niet de ouder van je ouder zijn.\n",
    "\n",
    "Logica 3:  ∀xy (R(x,y) $\\to$ $\\neg$R(y,x))"
   ]
  },
  {
   "cell_type": "code",
   "execution_count": 8,
   "metadata": {},
   "outputs": [
    {
     "data": {
      "image/png": "[encoded data removed]",
      "text/plain": [
       "<Figure size 288x360 with 1 Axes>"
      ]
     },
     "metadata": {},
     "output_type": "display_data"
    }
   ],
   "source": [
    "G3=nx.DiGraph()\n",
    "G3.add_node('Grootouder',pos=(1,3))\n",
    "G3.add_node('Ouder',pos=(2,2))\n",
    "G3.add_node('Kind',pos=(1.5,1))\n",
    "G3.add_edges_from([('Grootouder', 'Ouder'), ('Ouder', 'Kind'),('Grootouder','Kind')])\n",
    "\n",
    "pos=nx.get_node_attributes(G3,'pos')\n",
    "color_list=['#d4d4d4']\n",
    "\n",
    "plt.figure(figsize=(4,5),constrained_layout=True) \n",
    "nx.draw_networkx(G3,pos,node_color=color_list,node_size=2000)\n",
    "plt.show()"
   ]
  },
  {
   "cell_type": "markdown",
   "metadata": {},
   "source": [
    "Relatie 4: Je kan niet de ouder van je grootouder zijn.\n",
    "\n",
    "Logica 4: ∀xyz (R(x,y) ∧ R(y,z) $\\to$ $\\neg$R(z,x))"
   ]
  },
  {
   "cell_type": "code",
   "execution_count": 9,
   "metadata": {},
   "outputs": [
    {
     "data": {
      "image/png": "[encoded data removed]",
      "text/plain": [
       "<Figure size 288x360 with 1 Axes>"
      ]
     },
     "metadata": {},
     "output_type": "display_data"
    }
   ],
   "source": [
    "G4=nx.DiGraph()\n",
    "G4.add_node('Grootouder',pos=(1,3))\n",
    "G4.add_node('Ouder',pos=(2,2))\n",
    "G4.add_node('Kind',pos=(1.5,1))\n",
    "G4.add_edges_from([('Grootouder', 'Ouder'), ('Ouder', 'Kind'),('Kind','Grootouder')])\n",
    "\n",
    "pos=nx.get_node_attributes(G4,'pos')\n",
    "color_list=['#d4d4d4']\n",
    "\n",
    "plt.figure(figsize=(4,5),constrained_layout=True) \n",
    "nx.draw_networkx(G4,pos,node_color=color_list,node_size=2000)\n",
    "plt.show()"
   ]
  },
  {
   "cell_type": "markdown",
   "metadata": {},
   "source": [
    "Relatie 5: Je kan niet het kind van je grootouder zijn\n",
    "\n",
    "Logica 5:  ∀xyz (R(x,y) ∧ R(y,z) $\\to$ $\\neg$R(x,z))"
   ]
  },
  {
   "cell_type": "code",
   "execution_count": 10,
   "metadata": {},
   "outputs": [
    {
     "data": {
      "image/png": "[encoded data removed]",
      "text/plain": [
       "<Figure size 216x288 with 1 Axes>"
      ]
     },
     "metadata": {},
     "output_type": "display_data"
    }
   ],
   "source": [
    "G5=nx.DiGraph()\n",
    "G5.add_node('Ouder',pos=(1,2))\n",
    "G5.add_node('Kind',pos=(1,1))\n",
    "G5.add_edges_from([('Kind', 'Ouder'), ('Ouder', 'Kind')])\n",
    "\n",
    "pos=nx.get_node_attributes(G5,'pos')\n",
    "color_list=['#d4d4d4']\n",
    "\n",
    "plt.figure(figsize=(3,4),constrained_layout=True) \n",
    "nx.draw_networkx(G5,pos,node_color=color_list,node_size=2000,connectionstyle=\"arc3,rad=0.1\")\n",
    "plt.show()"
   ]
  },
  {
   "cell_type": "markdown",
   "metadata": {},
   "source": [
    "# Vraag 2 Deel 2"
   ]
  },
  {
   "cell_type": "markdown",
   "metadata": {},
   "source": [
    "Relatie 1: ouders van kind hebben dezelfde vader en moeder\n",
    "\n",
    "logica 1: ∀xyz ( R(y,x) ∧ R(z,x)  ↔ $\\exists$w $\\neg$(R(w,y) ∧ R(w,z)))\n",
    "\n",
    "Relatie 2: neef en nicht hebben samen een kind\n",
    "\n",
    "logica 2: ∀xy (M(x) ∧ V(y) ∧ ∃uvwz (R(v,y) ∧ R( w,v) ∧ R(w,z) ∧ R (z,x) ∧ $\\neg$(R (x,u) ∧ R(y,u)) )\n",
    "\n",
    "Relatie 3: neef en tante hebben samen een kind\n",
    "\n",
    "Logica 3: ∀xv (V(v) ∧ ∃ywz (R(v,y) ∧ R( w,v) ∧ R(w,z) ∧ R (z,x) ∧ $\\neg$R(x,y) )\n",
    "\n",
    "Naast deze drie relaties, kan je  elke relatie met een familielid zien als een relatie die je wilt verbieden, dit gaat oneindig door tot het aantal familieleden. \n",
    "\n",
    "Een zin die al deze relaties verbied, is een zin waar al deze beperkingen aan elkaar geplakt worden. Deze is oneindig omdat je een kind van iedereen in je familie kan hebben. Zo is het ook niet wenselijk als een kind met zijn adoptie ouder een kind krijgt, dit is echter moeilijk in een code te verwerken.\n",
    "\n",
    "Hieronder zijn de verboden relaties met Rood edges aangegeven."
   ]
  },
  {
   "cell_type": "code",
   "execution_count": 11,
   "metadata": {},
   "outputs": [
    {
     "data": {
      "image/png": "[encoded data removed]",
      "text/plain": [
       "<Figure size 432x288 with 1 Axes>"
      ]
     },
     "metadata": {},
     "output_type": "display_data"
    }
   ],
   "source": [
    "H=nx.DiGraph()\n",
    "H.add_node('Opa',pos=(1,3))\n",
    "H.add_node('Oma',pos=(2,3))\n",
    "H.add_edges_from([('Opa', 'Vader'), ('Opa', 'Moeder'),('Oma', 'Vader'),('Oma', 'Moeder'),('Opa','Oom'),('Oma','Oom'),('Opa','Tante2'),('Oma','Tante2')])\n",
    "H.add_node('Vader',pos=(1,2))\n",
    "H.add_node('Moeder',pos=(2,2))\n",
    "H.add_node('Oom',pos=(3,2))\n",
    "H.add_node('Tante1',pos=(4,2))\n",
    "H.add_node('Tante2',pos=(0,2))\n",
    "#kan niet, is incest\n",
    "edge_list=[('Vader', 'Zoon'), ('Moeder', 'Zoon'),('Tante2','Neef'),('Zoon','Neef'),('Zoon','Kind'),('Nicht','Kind')]\n",
    "H.add_edges_from(edge_list)\n",
    "#\n",
    "H.add_edges_from([('Oom','Nicht'),('Tante1','Nicht')])\n",
    "H.add_node('Zoon',pos=(1.5,1))\n",
    "H.add_node('Nicht',pos=(3.5,1))\n",
    "H.add_node('Neef',pos=(0,1))\n",
    "\n",
    "H.add_node('Kind',pos=(2.5,0))\n",
    "\n",
    "edge_list=[('Vader', 'Zoon'), ('Moeder', 'Zoon'),('Tante2','Neef'),('Zoon','Neef'),('Zoon','Kind'),('Nicht','Kind')]\n",
    "H.add_edges_from(edge_list)\n",
    "\n",
    "pos=nx.get_node_attributes(H,'pos')\n",
    "color_list=['#73c5ff','#ff8ccf','#73c5ff','#ff8ccf','#73c5ff','#ff8ccf','#ff8ccf','#73c5ff','#73c5ff','#d4d4d4','#ff8ccf']\n",
    "\n",
    "edge_color_list=[]\n",
    "for x in H.edges:\n",
    "    if x in edge_list:\n",
    "        edge_color_list.append('#ff0000')\n",
    "    else:\n",
    "        edge_color_list.append('#000000')\n",
    "\n",
    "\n",
    "plt.figure(figsize=(6,4),constrained_layout=True) \n",
    "nx.draw_networkx(H,pos,node_color=color_list,edge_color=edge_color_list,node_size=2000)\n",
    "plt.show()"
   ]
  },
  {
   "cell_type": "markdown",
   "metadata": {
    "deletable": false,
    "editable": false,
    "nbgrader": {
     "cell_type": "markdown",
     "checksum": "e5e94e8ec57a4c8bac0a5d470b76590f",
     "grade": false,
     "grade_id": "q3",
     "locked": true,
     "schema_version": 3,
     "solution": false
    }
   },
   "source": [
    "# Q3 Conjunctieve vragen aan een netwerk (4pt)\n",
    "\n",
    "* Een netwerk met feiten (en regels) is natuurlijk ook een database (of een *triple store*), en wat doen we met dat soort dingen? We stellen er vragen aan, en krijgen dan antwoord. Normaal doe je dat in SQL. In deze cursus leer je hoe je dat doet in SPARQL. Later bij Data Science leer je hoe je dat doet met `pandas`. \n",
    "* De preciese taal maakt niet, de meeste vragen die je stelt in je leven (en alle andere mensen op aarde) zijn zogenaamde *conjunctive queries*: eerste orde formules van de vorm $\\exists \\bar{x} (\\bigwedge R(x_i,x_j))$. \n",
    "* Bijvoorbeeld, \"wie zijn de grootouders van Henkie?\" wordt dan  $\\exists z (R(x,z) \\wedge R(z,\"Henkie\"))$. Je kunt dat zelf vast prima in SQL en volgende week in SPARQL zeggen.\n",
    "* Een *conjucntieve query* kan je ook zien als een netwerk! Als een voorbeeld netwerkje.\n",
    "    * $R(x,y)\\wedge R(y,z) \\wedge R(x,z)$ vraagt om alle \"driehoekjes\"\n",
    "    * Dat kan ik ook zeggen als dit netwerk (ja ik weet dat dit ongericht is, en wij alles gericht doen, maar dat laat ik aan jullie over)\n",
    "<pre>\n",
    "A = nx.Graph()\n",
    "A.add_edges_from([('x','y'),('x','z'),('x','z')])\n",
    "</pre>\n",
    "* Het **antwoord** op deze vraag gegeven een netwerk `M` is dan alle deelnetwerken van `M` die isomorf zijn met `A` (plus natuurlijk hoe de knopen in `M` dan gematched worden met de \"knopen\" (= variabelen) in `A`.\n",
    "* Programmeer dit in networkx.\n",
    "* Het antwoord is verbazend simpel, uiteindelijk. Denk eerst na, ga dan gericht zoeken!\n",
    "\n",
    "#### Eisen\n",
    "* `CQ` kan werken op `nx.Digraphs` met boolse attributen op de knopen, en 1 relatie. \n",
    "* Dus vergelijkbaar met je ouder database (maar dan heb je twee boolse attributen). Je hebt dus een attribuut voor elke 1 plaatsige relatie.\n",
    "* Je kan ervan uitgaan dat de query graaf altijd in de \"taal\" geschreven is van de model graaf.\n",
    "* Let op: je hoeft de projectie niet te doen in CQ. Dus je vraag is  altijd  equivalent aan een een conjunctie van atomen (dus zonder existentiele quantifier (dat is namelijk de projectie in DB termen)).\n",
    "\n",
    "## Deel 2\n",
    "\n",
    "* Hoe kostbaar is deze manier van vragen beantwoorden? \n",
    "    * Probeer het eens uit te rekenen als functie van  het aantal knopen in het Model netwerk en in het vraag netwerk. \n",
    "    * Heftig?\n",
    "    * Zou het beter kunnen?\n",
    "    * Zou het echt beter kunnen?\n",
    "    * Zoek eens op hoe lastig dit probleem eigenlijk is. Had je niet gedacht he?\n"
   ]
  },
  {
   "cell_type": "code",
   "execution_count": 12,
   "metadata": {},
   "outputs": [
    {
     "data": {
      "image/png": "[encoded data removed]",
      "text/plain": [
       "<Figure size 432x288 with 1 Axes>"
      ]
     },
     "metadata": {},
     "output_type": "display_data"
    }
   ],
   "source": [
    "G= nx.karate_club_graph()\n",
    "nx.draw_networkx(G)\n",
    "\n",
    "# Geef me alle driehoekjes in G. Ik vond 270 verschillende.\n",
    "A = nx.Graph()\n",
    "A.add_edges_from([('x','y'),('x','z'),('y','z')])"
   ]
  },
  {
   "cell_type": "code",
   "execution_count": 13,
   "metadata": {
    "deletable": false,
    "nbgrader": {
     "cell_type": "code",
     "checksum": "4f8f0c4aee793c8fc304c59497077e77",
     "grade": false,
     "grade_id": "q3a",
     "locked": false,
     "schema_version": 3,
     "solution": true
    }
   },
   "outputs": [
    {
     "name": "stdout",
     "output_type": "stream",
     "text": [
      "270\n",
      "{0: 'x', 1: 'y', 2: 'z'}\n",
      "{0: 'x', 1: 'y', 3: 'z'}\n",
      "{0: 'x', 1: 'y', 7: 'z'}\n",
      "{0: 'x', 1: 'y', 13: 'z'}\n",
      "{0: 'x', 1: 'y', 17: 'z'}\n",
      "{0: 'x', 1: 'y', 19: 'z'}\n",
      "{0: 'x', 1: 'y', 21: 'z'}\n",
      "{0: 'x', 2: 'y', 1: 'z'}\n",
      "{0: 'x', 2: 'y', 3: 'z'}\n",
      "{0: 'x', 2: 'y', 7: 'z'}\n",
      "{0: 'x', 2: 'y', 8: 'z'}\n",
      "{0: 'x', 2: 'y', 13: 'z'}\n",
      "{0: 'x', 3: 'y', 1: 'z'}\n",
      "{0: 'x', 3: 'y', 2: 'z'}\n",
      "{0: 'x', 3: 'y', 7: 'z'}\n",
      "{0: 'x', 3: 'y', 12: 'z'}\n",
      "{0: 'x', 3: 'y', 13: 'z'}\n",
      "{0: 'x', 4: 'y', 6: 'z'}\n",
      "{0: 'x', 4: 'y', 10: 'z'}\n",
      "{0: 'x', 5: 'y', 6: 'z'}\n",
      "{0: 'x', 5: 'y', 10: 'z'}\n",
      "{0: 'x', 6: 'y', 4: 'z'}\n",
      "{0: 'x', 6: 'y', 5: 'z'}\n",
      "{0: 'x', 7: 'y', 1: 'z'}\n",
      "{0: 'x', 7: 'y', 2: 'z'}\n",
      "{0: 'x', 7: 'y', 3: 'z'}\n",
      "{0: 'x', 8: 'y', 2: 'z'}\n",
      "{0: 'x', 10: 'y', 4: 'z'}\n",
      "{0: 'x', 10: 'y', 5: 'z'}\n",
      "{0: 'x', 12: 'y', 3: 'z'}\n",
      "{0: 'x', 13: 'y', 1: 'z'}\n",
      "{0: 'x', 13: 'y', 2: 'z'}\n",
      "{0: 'x', 13: 'y', 3: 'z'}\n",
      "{0: 'x', 17: 'y', 1: 'z'}\n",
      "{0: 'x', 19: 'y', 1: 'z'}\n",
      "{0: 'x', 21: 'y', 1: 'z'}\n",
      "{1: 'x', 0: 'y', 2: 'z'}\n",
      "{1: 'x', 0: 'y', 3: 'z'}\n",
      "{1: 'x', 0: 'y', 7: 'z'}\n",
      "{1: 'x', 0: 'y', 13: 'z'}\n",
      "{1: 'x', 0: 'y', 17: 'z'}\n",
      "{1: 'x', 0: 'y', 19: 'z'}\n",
      "{1: 'x', 0: 'y', 21: 'z'}\n",
      "{1: 'x', 2: 'y', 0: 'z'}\n",
      "{1: 'x', 2: 'y', 3: 'z'}\n",
      "{1: 'x', 2: 'y', 7: 'z'}\n",
      "{1: 'x', 2: 'y', 13: 'z'}\n",
      "{1: 'x', 3: 'y', 0: 'z'}\n",
      "{1: 'x', 3: 'y', 2: 'z'}\n",
      "{1: 'x', 3: 'y', 7: 'z'}\n",
      "{1: 'x', 3: 'y', 13: 'z'}\n",
      "{1: 'x', 7: 'y', 0: 'z'}\n",
      "{1: 'x', 7: 'y', 2: 'z'}\n",
      "{1: 'x', 7: 'y', 3: 'z'}\n",
      "{1: 'x', 13: 'y', 0: 'z'}\n",
      "{1: 'x', 13: 'y', 2: 'z'}\n",
      "{1: 'x', 13: 'y', 3: 'z'}\n",
      "{1: 'x', 17: 'y', 0: 'z'}\n",
      "{1: 'x', 19: 'y', 0: 'z'}\n",
      "{1: 'x', 21: 'y', 0: 'z'}\n",
      "{2: 'x', 0: 'y', 1: 'z'}\n",
      "{2: 'x', 0: 'y', 3: 'z'}\n",
      "{2: 'x', 0: 'y', 7: 'z'}\n",
      "{2: 'x', 0: 'y', 8: 'z'}\n",
      "{2: 'x', 0: 'y', 13: 'z'}\n",
      "{2: 'x', 1: 'y', 0: 'z'}\n",
      "{2: 'x', 1: 'y', 3: 'z'}\n",
      "{2: 'x', 1: 'y', 7: 'z'}\n",
      "{2: 'x', 1: 'y', 13: 'z'}\n",
      "{2: 'x', 3: 'y', 0: 'z'}\n",
      "{2: 'x', 3: 'y', 1: 'z'}\n",
      "{2: 'x', 3: 'y', 7: 'z'}\n",
      "{2: 'x', 3: 'y', 13: 'z'}\n",
      "{2: 'x', 7: 'y', 0: 'z'}\n",
      "{2: 'x', 7: 'y', 1: 'z'}\n",
      "{2: 'x', 7: 'y', 3: 'z'}\n",
      "{2: 'x', 8: 'y', 0: 'z'}\n",
      "{2: 'x', 8: 'y', 32: 'z'}\n",
      "{2: 'x', 13: 'y', 0: 'z'}\n",
      "{2: 'x', 13: 'y', 1: 'z'}\n",
      "{2: 'x', 13: 'y', 3: 'z'}\n",
      "{2: 'x', 32: 'y', 8: 'z'}\n",
      "{3: 'x', 0: 'y', 1: 'z'}\n",
      "{3: 'x', 0: 'y', 2: 'z'}\n",
      "{3: 'x', 0: 'y', 7: 'z'}\n",
      "{3: 'x', 0: 'y', 12: 'z'}\n",
      "{3: 'x', 0: 'y', 13: 'z'}\n",
      "{3: 'x', 1: 'y', 0: 'z'}\n",
      "{3: 'x', 1: 'y', 2: 'z'}\n",
      "{3: 'x', 1: 'y', 7: 'z'}\n",
      "{3: 'x', 1: 'y', 13: 'z'}\n",
      "{3: 'x', 2: 'y', 0: 'z'}\n",
      "{3: 'x', 2: 'y', 1: 'z'}\n",
      "{3: 'x', 2: 'y', 7: 'z'}\n",
      "{3: 'x', 2: 'y', 13: 'z'}\n",
      "{3: 'x', 7: 'y', 0: 'z'}\n",
      "{3: 'x', 7: 'y', 1: 'z'}\n",
      "{3: 'x', 7: 'y', 2: 'z'}\n",
      "{3: 'x', 12: 'y', 0: 'z'}\n",
      "{3: 'x', 13: 'y', 0: 'z'}\n",
      "{3: 'x', 13: 'y', 1: 'z'}\n",
      "{3: 'x', 13: 'y', 2: 'z'}\n",
      "{4: 'x', 0: 'y', 6: 'z'}\n",
      "{4: 'x', 0: 'y', 10: 'z'}\n",
      "{4: 'x', 6: 'y', 0: 'z'}\n",
      "{4: 'x', 10: 'y', 0: 'z'}\n",
      "{5: 'x', 0: 'y', 6: 'z'}\n",
      "{5: 'x', 0: 'y', 10: 'z'}\n",
      "{5: 'x', 6: 'y', 0: 'z'}\n",
      "{5: 'x', 6: 'y', 16: 'z'}\n",
      "{5: 'x', 10: 'y', 0: 'z'}\n",
      "{5: 'x', 16: 'y', 6: 'z'}\n",
      "{6: 'x', 0: 'y', 4: 'z'}\n",
      "{6: 'x', 0: 'y', 5: 'z'}\n",
      "{6: 'x', 4: 'y', 0: 'z'}\n",
      "{6: 'x', 5: 'y', 0: 'z'}\n",
      "{6: 'x', 5: 'y', 16: 'z'}\n",
      "{6: 'x', 16: 'y', 5: 'z'}\n",
      "{7: 'x', 0: 'y', 1: 'z'}\n",
      "{7: 'x', 0: 'y', 2: 'z'}\n",
      "{7: 'x', 0: 'y', 3: 'z'}\n",
      "{7: 'x', 1: 'y', 0: 'z'}\n",
      "{7: 'x', 1: 'y', 2: 'z'}\n",
      "{7: 'x', 1: 'y', 3: 'z'}\n",
      "{7: 'x', 2: 'y', 0: 'z'}\n",
      "{7: 'x', 2: 'y', 1: 'z'}\n",
      "{7: 'x', 2: 'y', 3: 'z'}\n",
      "{7: 'x', 3: 'y', 0: 'z'}\n",
      "{7: 'x', 3: 'y', 1: 'z'}\n",
      "{7: 'x', 3: 'y', 2: 'z'}\n",
      "{8: 'x', 0: 'y', 2: 'z'}\n",
      "{8: 'x', 2: 'y', 0: 'z'}\n",
      "{8: 'x', 2: 'y', 32: 'z'}\n",
      "{8: 'x', 30: 'y', 32: 'z'}\n",
      "{8: 'x', 30: 'y', 33: 'z'}\n",
      "{8: 'x', 32: 'y', 2: 'z'}\n",
      "{8: 'x', 32: 'y', 30: 'z'}\n",
      "{8: 'x', 32: 'y', 33: 'z'}\n",
      "{8: 'x', 33: 'y', 30: 'z'}\n",
      "{8: 'x', 33: 'y', 32: 'z'}\n",
      "{10: 'x', 0: 'y', 4: 'z'}\n",
      "{10: 'x', 0: 'y', 5: 'z'}\n",
      "{10: 'x', 4: 'y', 0: 'z'}\n",
      "{10: 'x', 5: 'y', 0: 'z'}\n",
      "{12: 'x', 0: 'y', 3: 'z'}\n",
      "{12: 'x', 3: 'y', 0: 'z'}\n",
      "{13: 'x', 0: 'y', 1: 'z'}\n",
      "{13: 'x', 0: 'y', 2: 'z'}\n",
      "{13: 'x', 0: 'y', 3: 'z'}\n",
      "{13: 'x', 1: 'y', 0: 'z'}\n",
      "{13: 'x', 1: 'y', 2: 'z'}\n",
      "{13: 'x', 1: 'y', 3: 'z'}\n",
      "{13: 'x', 2: 'y', 0: 'z'}\n",
      "{13: 'x', 2: 'y', 1: 'z'}\n",
      "{13: 'x', 2: 'y', 3: 'z'}\n",
      "{13: 'x', 3: 'y', 0: 'z'}\n",
      "{13: 'x', 3: 'y', 1: 'z'}\n",
      "{13: 'x', 3: 'y', 2: 'z'}\n",
      "{14: 'x', 32: 'y', 33: 'z'}\n",
      "{14: 'x', 33: 'y', 32: 'z'}\n",
      "{15: 'x', 32: 'y', 33: 'z'}\n",
      "{15: 'x', 33: 'y', 32: 'z'}\n",
      "{16: 'x', 5: 'y', 6: 'z'}\n",
      "{16: 'x', 6: 'y', 5: 'z'}\n",
      "{17: 'x', 0: 'y', 1: 'z'}\n",
      "{17: 'x', 1: 'y', 0: 'z'}\n",
      "{18: 'x', 32: 'y', 33: 'z'}\n",
      "{18: 'x', 33: 'y', 32: 'z'}\n",
      "{19: 'x', 0: 'y', 1: 'z'}\n",
      "{19: 'x', 1: 'y', 0: 'z'}\n",
      "{20: 'x', 32: 'y', 33: 'z'}\n",
      "{20: 'x', 33: 'y', 32: 'z'}\n",
      "{21: 'x', 0: 'y', 1: 'z'}\n",
      "{21: 'x', 1: 'y', 0: 'z'}\n",
      "{22: 'x', 32: 'y', 33: 'z'}\n",
      "{22: 'x', 33: 'y', 32: 'z'}\n",
      "{23: 'x', 27: 'y', 33: 'z'}\n",
      "{23: 'x', 29: 'y', 32: 'z'}\n",
      "{23: 'x', 29: 'y', 33: 'z'}\n",
      "{23: 'x', 32: 'y', 29: 'z'}\n",
      "{23: 'x', 32: 'y', 33: 'z'}\n",
      "{23: 'x', 33: 'y', 27: 'z'}\n",
      "{23: 'x', 33: 'y', 29: 'z'}\n",
      "{23: 'x', 33: 'y', 32: 'z'}\n",
      "{24: 'x', 25: 'y', 31: 'z'}\n",
      "{24: 'x', 31: 'y', 25: 'z'}\n",
      "{25: 'x', 24: 'y', 31: 'z'}\n",
      "{25: 'x', 31: 'y', 24: 'z'}\n",
      "{26: 'x', 29: 'y', 33: 'z'}\n",
      "{26: 'x', 33: 'y', 29: 'z'}\n",
      "{27: 'x', 23: 'y', 33: 'z'}\n",
      "{27: 'x', 33: 'y', 23: 'z'}\n",
      "{28: 'x', 31: 'y', 33: 'z'}\n",
      "{28: 'x', 33: 'y', 31: 'z'}\n",
      "{29: 'x', 23: 'y', 32: 'z'}\n",
      "{29: 'x', 23: 'y', 33: 'z'}\n",
      "{29: 'x', 26: 'y', 33: 'z'}\n",
      "{29: 'x', 32: 'y', 23: 'z'}\n",
      "{29: 'x', 32: 'y', 33: 'z'}\n",
      "{29: 'x', 33: 'y', 23: 'z'}\n",
      "{29: 'x', 33: 'y', 26: 'z'}\n",
      "{29: 'x', 33: 'y', 32: 'z'}\n",
      "{30: 'x', 8: 'y', 32: 'z'}\n",
      "{30: 'x', 8: 'y', 33: 'z'}\n",
      "{30: 'x', 32: 'y', 8: 'z'}\n",
      "{30: 'x', 32: 'y', 33: 'z'}\n",
      "{30: 'x', 33: 'y', 8: 'z'}\n",
      "{30: 'x', 33: 'y', 32: 'z'}\n",
      "{31: 'x', 24: 'y', 25: 'z'}\n",
      "{31: 'x', 25: 'y', 24: 'z'}\n",
      "{31: 'x', 28: 'y', 33: 'z'}\n",
      "{31: 'x', 32: 'y', 33: 'z'}\n",
      "{31: 'x', 33: 'y', 28: 'z'}\n",
      "{31: 'x', 33: 'y', 32: 'z'}\n",
      "{32: 'x', 2: 'y', 8: 'z'}\n",
      "{32: 'x', 8: 'y', 2: 'z'}\n",
      "{32: 'x', 8: 'y', 30: 'z'}\n",
      "{32: 'x', 8: 'y', 33: 'z'}\n",
      "{32: 'x', 14: 'y', 33: 'z'}\n",
      "{32: 'x', 15: 'y', 33: 'z'}\n",
      "{32: 'x', 18: 'y', 33: 'z'}\n",
      "{32: 'x', 20: 'y', 33: 'z'}\n",
      "{32: 'x', 22: 'y', 33: 'z'}\n",
      "{32: 'x', 23: 'y', 29: 'z'}\n",
      "{32: 'x', 23: 'y', 33: 'z'}\n",
      "{32: 'x', 29: 'y', 23: 'z'}\n",
      "{32: 'x', 29: 'y', 33: 'z'}\n",
      "{32: 'x', 30: 'y', 8: 'z'}\n",
      "{32: 'x', 30: 'y', 33: 'z'}\n",
      "{32: 'x', 31: 'y', 33: 'z'}\n",
      "{32: 'x', 33: 'y', 8: 'z'}\n",
      "{32: 'x', 33: 'y', 14: 'z'}\n",
      "{32: 'x', 33: 'y', 15: 'z'}\n",
      "{32: 'x', 33: 'y', 18: 'z'}\n",
      "{32: 'x', 33: 'y', 20: 'z'}\n",
      "{32: 'x', 33: 'y', 22: 'z'}\n",
      "{32: 'x', 33: 'y', 23: 'z'}\n",
      "{32: 'x', 33: 'y', 29: 'z'}\n",
      "{32: 'x', 33: 'y', 30: 'z'}\n",
      "{32: 'x', 33: 'y', 31: 'z'}\n",
      "{33: 'x', 8: 'y', 30: 'z'}\n",
      "{33: 'x', 8: 'y', 32: 'z'}\n",
      "{33: 'x', 14: 'y', 32: 'z'}\n",
      "{33: 'x', 15: 'y', 32: 'z'}\n",
      "{33: 'x', 18: 'y', 32: 'z'}\n",
      "{33: 'x', 20: 'y', 32: 'z'}\n",
      "{33: 'x', 22: 'y', 32: 'z'}\n",
      "{33: 'x', 23: 'y', 27: 'z'}\n",
      "{33: 'x', 23: 'y', 29: 'z'}\n",
      "{33: 'x', 23: 'y', 32: 'z'}\n",
      "{33: 'x', 26: 'y', 29: 'z'}\n",
      "{33: 'x', 27: 'y', 23: 'z'}\n",
      "{33: 'x', 28: 'y', 31: 'z'}\n",
      "{33: 'x', 29: 'y', 23: 'z'}\n",
      "{33: 'x', 29: 'y', 26: 'z'}\n",
      "{33: 'x', 29: 'y', 32: 'z'}\n",
      "{33: 'x', 30: 'y', 8: 'z'}\n",
      "{33: 'x', 30: 'y', 32: 'z'}\n",
      "{33: 'x', 31: 'y', 28: 'z'}\n",
      "{33: 'x', 31: 'y', 32: 'z'}\n",
      "{33: 'x', 32: 'y', 8: 'z'}\n",
      "{33: 'x', 32: 'y', 14: 'z'}\n",
      "{33: 'x', 32: 'y', 15: 'z'}\n",
      "{33: 'x', 32: 'y', 18: 'z'}\n",
      "{33: 'x', 32: 'y', 20: 'z'}\n",
      "{33: 'x', 32: 'y', 22: 'z'}\n",
      "{33: 'x', 32: 'y', 23: 'z'}\n",
      "{33: 'x', 32: 'y', 29: 'z'}\n",
      "{33: 'x', 32: 'y', 30: 'z'}\n",
      "{33: 'x', 32: 'y', 31: 'z'}\n"
     ]
    }
   ],
   "source": [
    "from itertools import permutations\n",
    "\n",
    "# Functie voor teruggeven van generator met isomorfen \n",
    "def CQ(Model,Query):\n",
    "    # bepalen aantal nodes in query\n",
    "    lengte = len(Query.nodes)\n",
    "    # bepalen van de permutaties in Model\n",
    "    permutaties = []\n",
    "    permutatielijst = list(permutations(Model.nodes, lengte))\n",
    "    for x in permutatielijst:\n",
    "        permutaties.append(x)\n",
    "    # checken van isomorfen en toevoegen aan dict\n",
    "    for sett in permutaties:  \n",
    "        if nx.is_isomorphic(Query, Model.subgraph(sett)) == True:\n",
    "            samengevoegd = zip(sett, list(Query.nodes))\n",
    "            yield dict(samengevoegd)\n",
    "\n",
    "\n",
    "    '''Returns a generator of dicts, where each dict is a bijective mapping from  nodes in Model\n",
    "    to all nodes in  Query.\n",
    "    The keys are the model nodes.\n",
    "    The set of dict values equals the set of nodes of Query.\n",
    "    The generator returns all answers to the Query on this Model.'''\n",
    "\n",
    "print(len(list(CQ(G,A))))\n",
    "for antwoord in CQ(G,A):\n",
    "    print(antwoord)\n",
    "\n",
    "    "
   ]
  },
  {
   "cell_type": "code",
   "execution_count": 14,
   "metadata": {
    "deletable": false,
    "editable": false,
    "nbgrader": {
     "cell_type": "code",
     "checksum": "d307aef902ce9c06e013de81136efd9e",
     "grade": true,
     "grade_id": "q3t",
     "locked": true,
     "points": 4,
     "schema_version": 3,
     "solution": false
    }
   },
   "outputs": [],
   "source": [
    "assert isinstance(CQ(G,A),Generator)\n"
   ]
  },
  {
   "cell_type": "code",
   "execution_count": null,
   "metadata": {},
   "outputs": [],
   "source": []
  },
  {
   "cell_type": "code",
   "execution_count": null,
   "metadata": {},
   "outputs": [],
   "source": []
  }
 ],
 "metadata": {
  "kernelspec": {
   "display_name": "Python 3",
   "language": "python",
   "name": "python3"
  },
  "language_info": {
   "codemirror_mode": {
    "name": "ipython",
    "version": 3
   },
   "file_extension": ".py",
   "mimetype": "text/x-python",
   "name": "python",
   "nbconvert_exporter": "python",
   "pygments_lexer": "ipython3",
   "version": "3.7.4"
  },
  "toc": {
   "nav_menu": {},
   "number_sections": true,
   "sideBar": true,
   "skip_h1_title": false,
   "title_cell": "Table of Contents",
   "title_sidebar": "Contents",
   "toc_cell": true,
   "toc_position": {},
   "toc_section_display": true,
   "toc_window_display": false
  }
 },
 "nbformat": 4,
 "nbformat_minor": 2
}
