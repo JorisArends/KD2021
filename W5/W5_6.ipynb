{
 "cells": [
  {
   "cell_type": "markdown",
   "metadata": {
    "id": "2EOwN0xGZzVJ"
   },
   "source": [
    "# Assignment Kennis en Data"
   ]
  },
  {
   "cell_type": "markdown",
   "metadata": {
    "id": "SBFWhT49ZzVK"
   },
   "source": [
    "## Notebook made by\n",
    "\n",
    "\n",
    "|Naam|Studentnummer|\n",
    "|-|-|\n",
    "|Jochem|secret |\n",
    "|Juriaan|secret |\n",
    "|Bart|secret |\n",
    "| | |\n",
    "\n",
    "## Peerreview\n",
    "\n",
    "* Vul onderstaande dict/tabel in en run de cel. Klopt het? Zijn jullie het er allemaal mee eens?\n",
    "    * Verander `1,2,3,4` door jullie studentnummers\n",
    "    * `1: {1:.2,2:.3,3:.3,4:.2}` betekent dat student 1 zijn punt zo over de 4 studenten verdeelt\n",
    "    * Let op, per student moeten de punten optellen tot 1!\n",
    "    * De gegeven punten staan in de tabel op de rijen, de ontvangen punten in de kolommen.\n",
    "    * met `cijfer_per_student` kan je bepalen welk cijfer ieder krijgt bij een gegeven groepscijfer."
   ]
  },
  {
   "cell_type": "markdown",
   "metadata": {
    "id": "SS40uEo9ZzVL"
   },
   "source": [
    "## Toelichting\n",
    "\n",
    "* De meeste opgaven worden automatisch nagekeken. Bij vrijwel alle opdrachten staan er een paar tests onder de opdracht, dit is voornamelijk om te zorgen dat je de juiste type output geeft. Dit zijn dus *NIET* alle tests, die komen er bij het graden nog bij.\n",
    "* Elke vraag is 1 punt waard, tenzij anders aangegeven. Soms is die punt onderverdeeld in deelpunten, maar niet altijd. \n",
    "\n",
    "## Voor het inleveren!\n",
    "\n",
    "* Pas niet de cellen aan, vooral niet die je niet kunt editen. Dit levert problemen op bij nakijken. Twijfel je of je per ongeluk iets hebt gewijzigd, kopieer dan bij inleveren je antwoorden naar een nieuw bestand, zodat het niet fout kan gaan.\n",
    "\n",
    "* Zorg dat de code goed runt van boven naar beneden, verifieer dat door boven in Kernel -> Restart & Run All uit te voeren\n",
    "\n",
    "## Na het inleveren!\n",
    "\n",
    "* Het gebeurt erg vaak dat mensen een \"leeg bestand\" inleveren. Vaak een andere versie van de opgave die nog ergens op je computer rondslingerde. Zonde van al je werk toch!\n",
    "* Dus, lever **minstens een half uur voor tijd in**. Download dan wat je hebt ingeleverd op Canvas. Geef het een andere naam om verwarring te voorkomen. En draai alle cellen, en bekijk het. Geen syntax fouten? Alle vragen gemaakt? Dan zit het vast wel goed, en hoef je niet in de zenuwen te zitten."
   ]
  },
  {
   "cell_type": "markdown",
   "metadata": {
    "id": "-8F-WK5YZzVM",
    "toc": true
   },
   "source": [
    "<h1>Table of Contents<span class=\"tocSkip\"></span></h1>\n",
    "<div class=\"toc\"><ul class=\"toc-item\"><li><span><a href=\"#RDF-plus-RDFS-conversion\" data-toc-modified-id=\"RDF-plus-RDFS-conversion-1\"><span class=\"toc-item-num\">1&nbsp;&nbsp;</span>RDF plus RDFS conversion</a></span><ul class=\"toc-item\"><li><span><a href=\"#Vereisten\" data-toc-modified-id=\"Vereisten-1.1\"><span class=\"toc-item-num\">1.1&nbsp;&nbsp;</span>Vereisten</a></span></li><li><span><a href=\"#Grading\" data-toc-modified-id=\"Grading-1.2\"><span class=\"toc-item-num\">1.2&nbsp;&nbsp;</span>Grading</a></span></li></ul></li></ul></div>"
   ]
  },
  {
   "cell_type": "markdown",
   "metadata": {
    "id": "2LM0Zj90ZzVM"
   },
   "source": [
    "# RDF plus RDFS conversion\n",
    "\n",
    "* We will transform our family and LHBTI++ knowledge base into an RDF database and query it using SPARQL.\n",
    "* The idea is that **you create this notebook as a tutorial on working with `rdflib`**.\n",
    "* You will find many on the web, so search, watch and use the best what you can find to make a fun and top tutorial.\n",
    "\n",
    "## Vereisten\n",
    "\n",
    "1. `networkx2RDF(G)` takes any digraph G with additional node attributes and transform it to an RDF database.\n",
    "2. Maak SPARQL queries voor al je gedefinieerde relaties. \n",
    "    * Check dat de antwoorden identiek zijn.\n",
    "3. Download een andere triple store en maak daar juist een networkx graaf van (dat kan met rdflib), en bereken wat netwerk maten daarop.\n",
    "\n",
    "## Grading\n",
    "\n",
    "* Deze opdracht doen we met peergrading.\n",
    "* Ieder groepje kijkt alle anderen en zichzelf na en geeft ieder groepje een deel van in totaal 100 te verdelen  punten.\n",
    "* De eindscores transformeren we dan naar een cijfer tussen de 1 en 10. "
   ]
  },
  {
   "cell_type": "code",
   "execution_count": 22,
   "metadata": {
    "colab": {
     "base_uri": "https://localhost:8080/"
    },
    "id": "PhyhPuTQZzVN",
    "outputId": "d0781fbc-f02c-40d1-94ca-d91e42892f17"
   },
   "outputs": [
    {
     "name": "stdout",
     "output_type": "stream",
     "text": [
      "Requirement already satisfied: rdflib in c:\\users\\hp\\anaconda3\\lib\\site-packages (5.0.0)\n",
      "Requirement already satisfied: isodate in c:\\users\\hp\\anaconda3\\lib\\site-packages (from rdflib) (0.6.0)\n",
      "Requirement already satisfied: pyparsing in c:\\users\\hp\\anaconda3\\lib\\site-packages (from rdflib) (2.4.7)\n",
      "Requirement already satisfied: six in c:\\users\\hp\\anaconda3\\lib\\site-packages (from rdflib) (1.15.0)\n"
     ]
    }
   ],
   "source": [
    "!pip install rdflib\n",
    "# See https://rdflib.readthedocs.io/en/stable/gettingstarted.html\n",
    "from rdflib import  Graph"
   ]
  },
  {
   "cell_type": "code",
   "execution_count": 23,
   "metadata": {
    "colab": {
     "base_uri": "https://localhost:8080/"
    },
    "id": "0cU0ePSxZzVN",
    "outputId": "4727ddff-1281-4eeb-b118-fe809fd064bb"
   },
   "outputs": [
    {
     "data": {
      "text/plain": [
       "<Graph identifier=N132f12ba94514c7c992d3147c37c8aa0 (<class 'rdflib.graph.Graph'>)>"
      ]
     },
     "execution_count": 23,
     "metadata": {},
     "output_type": "execute_result"
    }
   ],
   "source": [
    "g=Graph()\n",
    "g.parse('http://dbpedia.org/resource/Michael_Jackson')"
   ]
  },
  {
   "cell_type": "code",
   "execution_count": 24,
   "metadata": {
    "colab": {
     "base_uri": "https://localhost:8080/"
    },
    "id": "Ig8aB83uZzVN",
    "outputId": "48a32969-1efa-4111-a4dc-53739446e4a4"
   },
   "outputs": [
    {
     "data": {
      "text/plain": [
       "([(rdflib.term.URIRef('http://dbpedia.org/resource/Chel_White'),\n",
       "   rdflib.term.URIRef('http://dbpedia.org/ontology/wikiPageWikiLink'),\n",
       "   rdflib.term.URIRef('http://dbpedia.org/resource/Michael_Jackson')),\n",
       "  (rdflib.term.URIRef('http://dbpedia.org/resource/Can_You_Feel_It_(The_Jacksons_song)'),\n",
       "   rdflib.term.URIRef('http://dbpedia.org/ontology/wikiPageWikiLink'),\n",
       "   rdflib.term.URIRef('http://dbpedia.org/resource/Michael_Jackson'))],\n",
       " 9368)"
      ]
     },
     "execution_count": 24,
     "metadata": {},
     "output_type": "execute_result"
    }
   ],
   "source": [
    "triples= [triple for triple in g]\n",
    "triples[:2], len(triples)"
   ]
  },
  {
   "cell_type": "code",
   "execution_count": 25,
   "metadata": {
    "colab": {
     "base_uri": "https://localhost:8080/"
    },
    "id": "GSFq9cCIZzVN",
    "outputId": "c9f54f8c-b6cf-49a4-c780-0d9c6089d1a9"
   },
   "outputs": [
    {
     "data": {
      "text/plain": [
       "(rdflib.plugins.sparql.processor.SPARQLResult,\n",
       " 9368,\n",
       " [(rdflib.term.URIRef('http://dbpedia.org/resource/Chel_White'),\n",
       "   rdflib.term.URIRef('http://dbpedia.org/ontology/wikiPageWikiLink'),\n",
       "   rdflib.term.URIRef('http://dbpedia.org/resource/Michael_Jackson')),\n",
       "  (rdflib.term.URIRef('http://dbpedia.org/resource/Can_You_Feel_It_(The_Jacksons_song)'),\n",
       "   rdflib.term.URIRef('http://dbpedia.org/ontology/wikiPageWikiLink'),\n",
       "   rdflib.term.URIRef('http://dbpedia.org/resource/Michael_Jackson'))])"
      ]
     },
     "execution_count": 25,
     "metadata": {},
     "output_type": "execute_result"
    }
   ],
   "source": [
    "qres = g.query(\"\"\"SELECT DISTINCT ?o ?p ?s WHERE {?o ?p ?s}\"\"\")\n",
    "\n",
    "type(qres), len(qres), list(qres)[:2]"
   ]
  },
  {
   "cell_type": "markdown",
   "metadata": {},
   "source": [
    "# <span style=\"color:blue\">  *Uitleg RDF* </span> # \n",
    "\n",
    "Het pakket maakt gebruik van verschillende Python idiomen die een geschikte manier bieden om RDF te introduceren aan een Python programmeur die nog niet eerder met RDF heeft gewerkt. De primaire interface die RDFLib biedt voor het werken met RDF is een Graph. RDFLib graphs zijn geen gesorteerde containers; ze hebben gewone set operaties (b.v. add() om een triple toe te voegen) plus methods die triples doorzoeken en in willekeurige volgorde teruggeven.\n",
    "\n",
    "## <span style=\"color:blue\"> De triple </span> ##\n",
    "RDFLib graphs herdefiniëren ook bepaalde ingebouwde Python methodes om zich op een voorspelbare manier te gedragen; ze imiteren container types en kunnen het beste gezien worden als een set van 3-item tuples (\"triples\", in RDF-taal):"
   ]
  },
  {
   "cell_type": "markdown",
   "metadata": {},
   "source": [
    "[\n",
    "\n",
    "    (subject0, predicaat0, object0),\n",
    "    \n",
    "    (subject1, predicaat1, object1),\n",
    "    \n",
    "    ...\n",
    "    \n",
    "    (subjectN, predicaatN, objectN)\n",
    " ]"
   ]
  },
  {
   "cell_type": "markdown",
   "metadata": {},
   "source": [
    "![Triple Figuur](https://www.erfgoedleiden.nl/images/stories/odb_rdf_rembrandt4.jpg)"
   ]
  },
  {
   "cell_type": "markdown",
   "metadata": {},
   "source": [
    "# <span style=\"color:green\"> Deel 1: RDF database parsen </span>#\n",
    "<span style=\"color:green\"> Dit voorbeeld zal duidelijk maken hoe men triples voor de graph uit een al bestaande database kan \"parsen\".</span> \n",
    "## <span style=\"color:green\"> 1.1 </span> ##\n",
    "\n",
    "Maak een graaf aan in de onderstaande cel en parse een RDF-bestand. Gebruik vervolgens een forloop om door de triples te loopen en kijk hierbij of er tenminste een triple aanwezig is in de gehele graaf."
   ]
  },
  {
   "cell_type": "code",
   "execution_count": 6,
   "metadata": {},
   "outputs": [],
   "source": [
    "import rdflib\n",
    "\n",
    "# Maak een graaf\n",
    "g = rdflib.Graph()\n",
    "\n",
    "# \"Parse\" in een RDF-bestand via het internet\n",
    "result = g.parse(\"http://www.w3.org/People/Berners-Lee/card\")\n",
    "\n",
    "# Loop door de triples bestaande uit (subj, pred, obj)\n",
    "for subj, pred, obj in g:\n",
    "    # Check of er tenminste een triple aanwezig is in de graaf\n",
    "    if (subj, pred, obj) not in g:\n",
    "        raise Exception(\"It better be!\")"
   ]
  },
  {
   "cell_type": "markdown",
   "metadata": {},
   "source": [
    "## <span style=\"color:green\"> 1.2 </span>##\n",
    "Tel en print vervolgens de hoeveelheid verschillende triples aanwezig in de graaf via de onderstaande code."
   ]
  },
  {
   "cell_type": "code",
   "execution_count": 7,
   "metadata": {},
   "outputs": [
    {
     "name": "stdout",
     "output_type": "stream",
     "text": [
      "graph has 86 statements.\n"
     ]
    }
   ],
   "source": [
    "# Print het aantal triples aanwezig in de graaf\n",
    "print(\"graph has {} statements.\".format(len(g)))"
   ]
  },
  {
   "cell_type": "markdown",
   "metadata": {},
   "source": [
    "## <span style=\"color:green\"> 1.3 </span> ##\n",
    "Print tot slot de gebruikte graaf in een turtle formaat in de ondestaande cel. "
   ]
  },
  {
   "cell_type": "code",
   "execution_count": 8,
   "metadata": {},
   "outputs": [
    {
     "name": "stdout",
     "output_type": "stream",
     "text": [
      "@prefix : <http://xmlns.com/foaf/0.1/> .\n",
      "@prefix cc: <http://creativecommons.org/ns#> .\n",
      "@prefix cert: <http://www.w3.org/ns/auth/cert#> .\n",
      "@prefix con: <http://www.w3.org/2000/10/swap/pim/contact#> .\n",
      "@prefix dc: <http://purl.org/dc/elements/1.1/> .\n",
      "@prefix dct: <http://purl.org/dc/terms/> .\n",
      "@prefix doap: <http://usefulinc.com/ns/doap#> .\n",
      "@prefix geo: <http://www.w3.org/2003/01/geo/wgs84_pos#> .\n",
      "@prefix ldp: <http://www.w3.org/ns/ldp#> .\n",
      "@prefix rdfs: <http://www.w3.org/2000/01/rdf-schema#> .\n",
      "@prefix schema: <http://schema.org/> .\n",
      "@prefix sioc: <http://rdfs.org/sioc/ns#> .\n",
      "@prefix solid: <http://www.w3.org/ns/solid/terms#> .\n",
      "@prefix space: <http://www.w3.org/ns/pim/space#> .\n",
      "@prefix vcard: <http://www.w3.org/2006/vcard/ns#> .\n",
      "@prefix xsd: <http://www.w3.org/2001/XMLSchema#> .\n",
      "\n",
      "<http://dig.csail.mit.edu/2005/ajar/ajaw/data#Tabulator> doap:developer <https://www.w3.org/People/Berners-Lee/card#i> .\n",
      "\n",
      "<http://dig.csail.mit.edu/2007/01/camp/data#course> :maker <https://www.w3.org/People/Berners-Lee/card#i> .\n",
      "\n",
      "<http://dig.csail.mit.edu/data#DIG> :member <https://www.w3.org/People/Berners-Lee/card#i> .\n",
      "\n",
      "<http://wiki.ontoworld.org/index.php/_IRW2006> dc:title \"Identity, Reference and the Web workshop 2006\" ;\n",
      "    con:participant <https://www.w3.org/People/Berners-Lee/card#i> .\n",
      "\n",
      "<http://www.ecs.soton.ac.uk/~dt2/dlstuff/www2006_data#panel-panelk01> rdfs:label \"The Next Wave of the Web (Plenary Panel)\" ;\n",
      "    con:participant <https://www.w3.org/People/Berners-Lee/card#i> .\n",
      "\n",
      "<http://www.w3.org/2000/10/swap/data#Cwm> doap:developer <https://www.w3.org/People/Berners-Lee/card#i> .\n",
      "\n",
      "<http://www.w3.org/2011/Talks/0331-hyderabad-tbl/data#talk> dct:title \"Designing the Web for an Open Society\" ;\n",
      "    :maker <https://www.w3.org/People/Berners-Lee/card#i> .\n",
      "\n",
      "<http://www.w3.org/DesignIssues/Overview.html> dc:title \"Design Issues for the World Wide Web\" ;\n",
      "    :maker <https://www.w3.org/People/Berners-Lee/card#i> .\n",
      "\n",
      "<http://www.w3.org/People/Berners-Lee/card> a :PersonalProfileDocument ;\n",
      "    cc:license <http://creativecommons.org/licenses/by-nc/3.0/> ;\n",
      "    dc:title \"Tim Berners-Lee's FOAF file\" ;\n",
      "    :maker <https://www.w3.org/People/Berners-Lee/card#i> ;\n",
      "    :primaryTopic <https://www.w3.org/People/Berners-Lee/card#i> .\n",
      "\n",
      "<http://www.w3.org/People/Berners-Lee/card#i> cert:key [ a cert:RSAPublicKey ;\n",
      "            cert:exponent 65537 ;\n",
      "            cert:modulus \"ebe99c737bd3670239600547e5e2eb1d1497da39947b6576c3c44ffeca32cf0f2f7cbee3c47001278a90fc7fc5bcf292f741eb1fcd6bbe7f90650afb519cf13e81b2bffc6e02063ee5a55781d420b1dfaf61c15758480e66d47fb0dcb5fa7b9f7f1052e5ccbd01beee9553c3b6b51f4daf1fce991294cd09a3d1d636bc6c7656e4455d0aff06daec740ed0084aa6866fcae1359de61cc12dbe37c8fa42e977c6e727a8258bb9a3f265b27e3766fe0697f6aa0bcc81c3f026e387bd7bbc81580dc1853af2daa099186a9f59da526474ef6ec0a3d84cf400be3261b6b649dea1f78184862d34d685d2d587f09acc14cd8e578fdd2283387821296f0af39b8d8845\"^^xsd:hexBinary ] .\n",
      "\n",
      "<http://www.w3.org/data#W3C> :member <https://www.w3.org/People/Berners-Lee/card#i> .\n",
      "\n",
      "<http://dig.csail.mit.edu/breadcrumbs/blog/4> dc:title \"timbl's blog on DIG\" ;\n",
      "    rdfs:seeAlso <http://dig.csail.mit.edu/breadcrumbs/blog/feed/4> ;\n",
      "    :maker <https://www.w3.org/People/Berners-Lee/card#i> .\n",
      "\n",
      "<https://timbl.com/timbl/Public/friends.ttl> a :PersonalProfileDocument ;\n",
      "    cc:license <http://creativecommons.org/licenses/by-nc/3.0/> ;\n",
      "    dc:title \"Tim Berners-Lee's editable profile\" ;\n",
      "    :maker <https://www.w3.org/People/Berners-Lee/card#i> ;\n",
      "    :primaryTopic <https://www.w3.org/People/Berners-Lee/card#i> .\n",
      "\n",
      "<https://www.w3.org/People/Berners-Lee/card#i> a con:Male,\n",
      "        :Person ;\n",
      "    rdfs:label \"Tim Berners-Lee\" ;\n",
      "    sioc:avatar <http://www.w3.org/People/Berners-Lee/images/timbl-image-by-Coz-cropped.jpg> ;\n",
      "    schema:owns <https://timblbot.inrupt.net/profile/card#me> ;\n",
      "    rdfs:seeAlso <https://timbl.com/timbl/Public/friends.ttl> ;\n",
      "    con:assistant <https://www.w3.org/People/Berners-Lee/card#amy> ;\n",
      "    con:homePage <http://www.w3.org/People/Berners-Lee/> ;\n",
      "    con:office [ con:address [ con:city \"Cambridge\" ;\n",
      "                    con:country \"USA\" ;\n",
      "                    con:postalCode \"02139\" ;\n",
      "                    con:street \"32 Vassar Street\" ;\n",
      "                    con:street2 \"MIT CSAIL Building 32\" ] ;\n",
      "            geo:location [ geo:lat \"42.361860\" ;\n",
      "                    geo:long \"-71.091840\" ] ] ;\n",
      "    con:preferredURI \"https://www.w3.org/People/Berners-Lee/card#i\" ;\n",
      "    con:publicHomePage <http://www.w3.org/People/Berners-Lee/> ;\n",
      "    vcard:fn \"Tim Berners-Lee\" ;\n",
      "    vcard:hasAddress [ a vcard:Work ;\n",
      "            vcard:locality \"Cambridge\" ;\n",
      "            vcard:postal-code \"02139\" ;\n",
      "            vcard:region \"MA\" ;\n",
      "            vcard:street-address \"32 Vassar Street\" ] ;\n",
      "    ldp:inbox <https://timbl.com/timbl/Public/Inbox> ;\n",
      "    space:preferencesFile <https://timbl.com/timbl/Data/preferences.n3> ;\n",
      "    space:storage <https://timbl.com/timbl/Public/>,\n",
      "        <https://timbl.inrupt.net/>,\n",
      "        <https://timbl.solid.community/> ;\n",
      "    solid:editableProfile <https://timbl.com/timbl/Public/friends.ttl> ;\n",
      "    solid:oidcIssuer <https://timbl.com> ;\n",
      "    solid:profileBackgroundColor \"#ffffff\" ;\n",
      "    solid:profileHighlightColor \"#00467E\" ;\n",
      "    solid:publicTypeIndex <https://timbl.com/timbl/Public/PublicTypeIndex.ttl> ;\n",
      "    :account <http://en.wikipedia.org/wiki/User:Timbl>,\n",
      "        <http://twitter.com/timberners_lee>,\n",
      "        <http://www.reddit.com/user/timbl/> ;\n",
      "    :based_near [ geo:lat \"42.361860\" ;\n",
      "            geo:long \"-71.091840\" ] ;\n",
      "    :family_name \"Berners-Lee\" ;\n",
      "    :givenname \"Timothy\" ;\n",
      "    :homepage <https://www.w3.org/People/Berners-Lee/> ;\n",
      "    :img <https://www.w3.org/Press/Stock/Berners-Lee/2001-europaeum-eighth.jpg> ;\n",
      "    :mbox <mailto:timbl@w3.org> ;\n",
      "    :mbox_sha1sum \"965c47c5a70db7407210cef6e4e6f5374a525c5c\" ;\n",
      "    :name \"Timothy Berners-Lee\" ;\n",
      "    :nick \"TimBL\",\n",
      "        \"timbl\" ;\n",
      "    :openid <https://www.w3.org/People/Berners-Lee/> ;\n",
      "    :title \"Sir\" ;\n",
      "    :weblog <http://dig.csail.mit.edu/breadcrumbs/blog/4> ;\n",
      "    :workplaceHomepage <https://www.w3.org/> .\n",
      "\n",
      "\n"
     ]
    }
   ],
   "source": [
    "# Print de gehele graaf in het turtle-formaat\n",
    "print(g.serialize(format=\"turtle\").decode(\"utf-8\"))"
   ]
  },
  {
   "cell_type": "markdown",
   "metadata": {},
   "source": [
    "Hierboven wordt een grafiek gemaakt en vervolgens een RDF-bestand online, Tim Berners-Lee's sociale netwerk details, geparseerd in die grafiek. Het print() statement gebruikt de len() functie om het aantal triples in de grafiek te tellen."
   ]
  },
  {
   "cell_type": "markdown",
   "metadata": {},
   "source": [
    "# <span style=\"color:green\"> Deel 2: Zelf een database aanmaken </span>#\n",
    "<span style=\"color:green\"> Dit voorbeeld laat een andere methode zien, namelijk het zelf opbouwen van de graph door stuk voor stuk id's en relaties toe te voegen aan de graaf.</span>\n",
    "\n",
    "## <span style=\"color:green\"> 2.1 </span>## \n",
    "Een meer uitgebreid voorbeeld: In de onderstaande cel wordt een graaf aangemaakt en worden knopen hieraan toegevoegd met de add() functie. Vervolgens worden er triples toegevoegd per knoop."
   ]
  },
  {
   "cell_type": "code",
   "execution_count": 9,
   "metadata": {},
   "outputs": [],
   "source": [
    "from rdflib import Graph, Literal, RDF, URIRef\n",
    "from rdflib.namespace import FOAF , XSD\n",
    "\n",
    "# Maak een graaf\n",
    "g = Graph()\n",
    "\n",
    "# Maak een RDF-URI knoop om als subject voor meerdere triples te gebruiken\n",
    "donna = URIRef(\"http://example.org/donna\")\n",
    "\n",
    "# Voeg triples toe aan de graaf met behulp van add\n",
    "g.add((donna, RDF.type, FOAF.Person))\n",
    "g.add((donna, FOAF.nick, Literal(\"donna\", lang=\"ed\")))\n",
    "g.add((donna, FOAF.name, Literal(\"Donna Fales\")))\n",
    "g.add((donna, FOAF.mbox, URIRef(\"mailto:donna@example.org\")))\n",
    "\n",
    "# Voeg nog een persoon toe\n",
    "ed = URIRef(\"http://example.org/edward\")\n",
    "\n",
    "# Voeg triples toe aan de graaf met behulp van add\n",
    "g.add((ed, RDF.type, FOAF.Person))\n",
    "g.add((ed, FOAF.nick, Literal(\"ed\", datatype=XSD.string)))\n",
    "g.add((ed, FOAF.name, Literal(\"Edward Scissorhands\")))\n",
    "g.add((ed, FOAF.mbox, URIRef(\"mailto:e.scissorhands@example.org\")))"
   ]
  },
  {
   "cell_type": "markdown",
   "metadata": {},
   "source": [
    "## <span style=\"color:green\"> 2.2 </span>##\n",
    "In de onderstaande cel wordt er over de triples heen geloopt en worden ze vervolgens \"rauw\" geprint."
   ]
  },
  {
   "cell_type": "code",
   "execution_count": 10,
   "metadata": {},
   "outputs": [
    {
     "name": "stdout",
     "output_type": "stream",
     "text": [
      "--- printing raw triples ---\n",
      "(rdflib.term.URIRef('http://example.org/donna'), rdflib.term.URIRef('http://xmlns.com/foaf/0.1/mbox'), rdflib.term.URIRef('mailto:donna@example.org'))\n",
      "(rdflib.term.URIRef('http://example.org/donna'), rdflib.term.URIRef('http://xmlns.com/foaf/0.1/name'), rdflib.term.Literal('Donna Fales'))\n",
      "(rdflib.term.URIRef('http://example.org/edward'), rdflib.term.URIRef('http://xmlns.com/foaf/0.1/nick'), rdflib.term.Literal('ed', datatype=rdflib.term.URIRef('http://www.w3.org/2001/XMLSchema#string')))\n",
      "(rdflib.term.URIRef('http://example.org/edward'), rdflib.term.URIRef('http://www.w3.org/1999/02/22-rdf-syntax-ns#type'), rdflib.term.URIRef('http://xmlns.com/foaf/0.1/Person'))\n",
      "(rdflib.term.URIRef('http://example.org/edward'), rdflib.term.URIRef('http://xmlns.com/foaf/0.1/mbox'), rdflib.term.URIRef('mailto:e.scissorhands@example.org'))\n",
      "(rdflib.term.URIRef('http://example.org/donna'), rdflib.term.URIRef('http://www.w3.org/1999/02/22-rdf-syntax-ns#type'), rdflib.term.URIRef('http://xmlns.com/foaf/0.1/Person'))\n",
      "(rdflib.term.URIRef('http://example.org/edward'), rdflib.term.URIRef('http://xmlns.com/foaf/0.1/name'), rdflib.term.Literal('Edward Scissorhands'))\n",
      "(rdflib.term.URIRef('http://example.org/donna'), rdflib.term.URIRef('http://xmlns.com/foaf/0.1/nick'), rdflib.term.Literal('donna', lang='ed'))\n"
     ]
    }
   ],
   "source": [
    "# Loop over de triples en print ze\n",
    "print(\"--- printing raw triples ---\")\n",
    "for s, p, o in g:\n",
    "    print((s, p, o))"
   ]
  },
  {
   "cell_type": "markdown",
   "metadata": {},
   "source": [
    "## <span style=\"color:green\"> 2.3 </span>##\n",
    "Print nu de mbox property-waarde en voeg daarna een prefix toe, wat ervoor zorgt dat de output leesbaar is. "
   ]
  },
  {
   "cell_type": "code",
   "execution_count": 11,
   "metadata": {},
   "outputs": [
    {
     "name": "stdout",
     "output_type": "stream",
     "text": [
      "--- printing mboxes ---\n",
      "mailto:donna@example.org\n",
      "mailto:e.scissorhands@example.org\n"
     ]
    }
   ],
   "source": [
    "# Voor elke FOAF:Persoon in de winkel, print de mbox property waarde\n",
    "print(\"--- printing mboxes ---\")\n",
    "for person in g.subjects(RDF.type, FOAF.Person):\n",
    "    for mbox in g.objects(person, FOAF.mbox):\n",
    "        print(mbox)\n",
    "\n",
    "# Koppel vervolgens de FOAF aan een prefix, zodat de output leesbaar is\n",
    "g.bind(\"foaf\", FOAF)"
   ]
  },
  {
   "cell_type": "markdown",
   "metadata": {},
   "source": [
    "## <span style=\"color:green\"> 2.4 </span> ##\n",
    "Print ten slotte de data in een n3 formaat in de onderstaande cel:"
   ]
  },
  {
   "cell_type": "code",
   "execution_count": 12,
   "metadata": {},
   "outputs": [
    {
     "name": "stdout",
     "output_type": "stream",
     "text": [
      "--- printing mboxes ---\n",
      "@prefix foaf: <http://xmlns.com/foaf/0.1/> .\n",
      "@prefix xsd: <http://www.w3.org/2001/XMLSchema#> .\n",
      "\n",
      "<http://example.org/donna> a foaf:Person ;\n",
      "    foaf:mbox <mailto:donna@example.org> ;\n",
      "    foaf:name \"Donna Fales\" ;\n",
      "    foaf:nick \"donna\"@ed .\n",
      "\n",
      "<http://example.org/edward> a foaf:Person ;\n",
      "    foaf:mbox <mailto:e.scissorhands@example.org> ;\n",
      "    foaf:name \"Edward Scissorhands\" ;\n",
      "    foaf:nick \"ed\"^^xsd:string .\n",
      "\n",
      "\n"
     ]
    }
   ],
   "source": [
    "# Print de data in een n3 formaat\n",
    "print(\"--- printing mboxes ---\")\n",
    "print(g.serialize(format='n3').decode(\"utf-8\"))"
   ]
  },
  {
   "cell_type": "markdown",
   "metadata": {},
   "source": [
    "# <span style=\"color:green\"> Deel 3: RDF met een Networkx netwerk </span> #\n",
    "## <span style=\"color:green\"> 3.1 Netwerken importeren </span> ##\n",
    "Nu je de basics van RDF begrijpt kunnen we aan de slag gaan met een netwerk.\n",
    "We hebben hieronder twee Networkx netwerken staan, deze gaan we vervolgens omzetten naar een RDF database.\n",
    "Het eerste netwerk is een directed graph van een familiestamboom, de relatie die gebruikt wordt is \"ouder van\".\n",
    "Het tweede netwerk is een directed graph die personen en hun LHBTQ+ status en relaties aangeeft."
   ]
  },
  {
   "cell_type": "code",
   "execution_count": 13,
   "metadata": {
    "colab": {
     "base_uri": "https://localhost:8080/",
     "height": 319
    },
    "id": "tdVOjV3WeUd_",
    "outputId": "54224410-9de7-41d4-b02e-0443a814389e"
   },
   "outputs": [
    {
     "data": {
      "image/png": "[encoded data removed]",
      "text/plain": [
       "<Figure size 432x288 with 1 Axes>"
      ]
     },
     "metadata": {},
     "output_type": "display_data"
    }
   ],
   "source": [
    "import networkx as nx\n",
    "%matplotlib inline\n",
    "\n",
    "# FAMILIE Bart\n",
    "H= nx.DiGraph()\n",
    "\n",
    "# Maak hier een verbinding met bijv opa naar vader\n",
    "H.add_edges_from([('Opa Jaap','Moeder Jacqueline'), (\"Oma Nelie\",'Moeder Jacqueline'), (\"Opa Jan\",\"Vader Maarten\"), (\"Oma Jet\",\"Vader Maarten\"),\n",
    "                  (\"Vader Maarten\",\"Zoon Bart\"), (\"Moeder Jacqueline\",\"Zoon Bart\"), (\"Overgrootvader Gerardus\",\"Opa Jan\"), (\"Overgrootmoeder Annie\",\"Opa Jan\"),\n",
    "                  (\"Overgrootvader Piet\",\"Oma Nelie\"), (\"Overgrootmoeder Katrien\",\"Oma Nelie\"), (\"Opa Jan\",\"Oom Hans\"), (\"Opa Jan\",\"Oom Ellis\"),(\"Oma Nelie\",\"Tante Conny\"),\n",
    "                  (\"Opa Jan\",\"Tante Marjel\"), (\"Oma Jet\", \"Tante Marjel\"), (\"Oma Jet\", \"Oom Hans\"), (\"Oma Jet\", \"Oom Ellis\"), (\"Opa Jaap\", \"Tante Conny\")])\n",
    "\n",
    "M,V= {\"Opa Jan\",'Opa Jaap',\"Vader Maarten\",\"Zoon Bart\",\"Overgrootvader Gerardus\",\"Overgrootvader Piet\",\"Oom Hans\",\"Oom Ellis\"},{'Moeder Jacqueline',\"Oma Nelie\",\"Oma Jet\",\"Overgrootmoeder Annie\",\"Overgrootmoeder Katrien\",\"Tante Conny\",\"Tante Marjel\"}\n",
    "# Nu even de attributen M en V goed zetten\n",
    "for n in M:\n",
    "    H.nodes[n]['M']=True\n",
    "    H.nodes[n]['V']=False\n",
    "for n in V:\n",
    "    H.nodes[n]['V']=True\n",
    "    H.nodes[n]['M']=False    \n",
    " \n",
    "G = H\n",
    "def M(x, network=G):\n",
    "    return network.nodes[x]['M']\n",
    "# true als man \n",
    "def V(x, network=G):\n",
    "    return network.nodes[x]['V']\n",
    "# true als vrouw\n",
    "def R(x,y,network=G):\n",
    "    return network.has_edge(x,y)\n",
    "# true als er een edge is tussen x en y\n",
    "\n",
    "\n",
    "Opa= {(x,y) for x in H for y in H \n",
    "      if {z for z in H if R(x,z,H)} & {z for z in H if R(z,y,H)}and M(x,H)}\n",
    "\n",
    "Oma= {(x,y) for x in H for y in H \n",
    "      if {z for z in H if R(x,z,H)} & {z for z in H if R(z,y,H)}and V(x,H)}\n",
    "\n",
    "Vader= {(x,y) for x in H for y in H if R(x,y,H) and M(x,H)}\n",
    "\n",
    "Moeder = {(x,y) for x in H for y in H if R(x,y,H) and V(x,H)}\n",
    "\n",
    "Dochter = {(y,x) for x in H for y in H if R(y,x,H) and V(x,H)}\n",
    "\n",
    "Zoon = {(y,x) for x in H for y in H if R(y,x,H) and M(x,H)}\n",
    "\n",
    "Overgrootvader = {(x,y) for x in G for y in G for z in G\n",
    "            if (x,z) in Opa and R(z,y,G)}\n",
    "            \n",
    "Overgrootmoeder = {(x,y) for x in G for y in G for z in G\n",
    "            if (x,z) in Oma and R(z,y,G)}\n",
    "\n",
    "Oom = {(x,y) for x in G for y in G for z in G for q in G\n",
    "          if (z,x) in Opa and (z,q) in Opa and R(q,y,G) and ((x,y) not in Zoon and Dochter) and M(x,H)}\n",
    "\n",
    "Tante = {(x,y) for x in G for y in G for z in G for q in G\n",
    "          if (z,x) in Oma and (z,q) in Oma and R(q,y,G) and ((x,y) not in Zoon and Dochter) and V(x,H)}\n",
    "\n",
    "\n",
    "nx.draw(H, with_labels = True)"
   ]
  },
  {
   "cell_type": "code",
   "execution_count": 14,
   "metadata": {
    "colab": {
     "base_uri": "https://localhost:8080/",
     "height": 319
    },
    "id": "GTBgrobcTLAl",
    "outputId": "6ca16bc5-b9c8-439e-bcab-2d51451aef3b"
   },
   "outputs": [
    {
     "data": {
      "image/png": "[encoded data removed]",
      "text/plain": [
       "<Figure size 432x288 with 1 Axes>"
      ]
     },
     "metadata": {},
     "output_type": "display_data"
    }
   ],
   "source": [
    "# gender en sexuele orientatie netwerk\n",
    "gens= nx.DiGraph()\n",
    "\n",
    "# alle mensen met hun gender en sexuele orientatie in het netwerk\n",
    "# m=man, v=vrouw, t=transgender\n",
    "# Julia is een intersexueel persoon in dit netwerk, ze is 90% vrouw en 10% man,\n",
    "# zoals hierboven beschreven wordt ze dus gezien als een vrouw\n",
    "# Sara is queer of questioning, dus in ons model genderloos en asexueel\n",
    "# Stefanie is valt onder de + van LHBTQI+, dus in ons model genderloos en asexueel\n",
    "gens.add_node('Piet', M=True, V=False, T=False, S='onbekend') #bisexueel\n",
    "gens.add_node('Klaas', M=True, V=False, T=False, S='onbekend') #hetero\n",
    "gens.add_node('Timo', M=True, V=False, T=False, S='onbekend') #homo\n",
    "gens.add_node('Liesje', M=False, V=True, T=False, S='onbekend') #lesbisch\n",
    "gens.add_node('Anne', M=False, V=True, T=False, S='onbekend') #pansexueel\n",
    "gens.add_node('Julia', M=False, V=True, T=False, S='onbekend') #hetero\n",
    "gens.add_node('Nienke', M=False, V=True, T=False, S='onbekend') #asexueel\n",
    "gens.add_node('John', M=False, V=False, T=True, S='onbekend') #pansexueel\n",
    "gens.add_node('Peter', M=False, V=False, T=True, S='onbekend') #bisexueel\n",
    "gens.add_node('Duncan', M=False,V=False, T=True, S='onbekend') #asexueel\n",
    "gens.add_node('Sarah', M=False, V=False, T=False, S='onbekend') #asexueel\n",
    "gens.add_node('Stefanie', M=False, V=False, T=False, S='onbekend') #asexueel\n",
    "\n",
    "\n",
    "# nu voegen we de relatie R(x, y) toe, dus of persoon x valt op persoon y\n",
    "# Piet is bisexueel\n",
    "gens.add_edge('Piet','Klaas')\n",
    "gens.add_edge('Piet','Timo')\n",
    "gens.add_edge('Piet','Liesje')\n",
    "gens.add_edge('Piet','Anne')\n",
    "gens.add_edge('Piet','Julia')\n",
    "gens.add_edge('Piet','Nienke')\n",
    "\n",
    "# Klaas is hetero\n",
    "gens.add_edge('Klaas','Liesje')\n",
    "gens.add_edge('Klaas','Anne')\n",
    "gens.add_edge('Klaas','Julia')\n",
    "gens.add_edge('Klaas','Nienke')\n",
    "\n",
    "# Timo is homo\n",
    "gens.add_edge('Timo','Piet')\n",
    "gens.add_edge('Timo','Klaas')\n",
    "\n",
    "# Liesje is lesbisch\n",
    "gens.add_edge('Liesje','Anne')\n",
    "gens.add_edge('Liesje','Julia')\n",
    "gens.add_edge('Liesje','Nienke')\n",
    "\n",
    "# Anne is pansexueel\n",
    "gens.add_edge('Anne','Piet')\n",
    "gens.add_edge('Anne','Klaas')\n",
    "gens.add_edge('Anne','Timo')\n",
    "gens.add_edge('Anne','Liesje')\n",
    "gens.add_edge('Anne','Julia')\n",
    "gens.add_edge('Anne','Nienke')\n",
    "gens.add_edge('Anne','John')\n",
    "gens.add_edge('Anne','Peter')\n",
    "gens.add_edge('Anne','Duncan')\n",
    "gens.add_edge('Anne','Sarah')\n",
    "gens.add_edge('Anne','Stefanie')\n",
    "\n",
    "# Julia is hetero\n",
    "gens.add_edge('Julia','Piet')\n",
    "gens.add_edge('Julia','Klaas')\n",
    "gens.add_edge('Julia','Timo')\n",
    "\n",
    "# Nienke is asexueel, dus valt op niks\n",
    "\n",
    "# John is pansexueel\n",
    "gens.add_edge('John','Piet')\n",
    "gens.add_edge('John','Klaas')\n",
    "gens.add_edge('John','Timo')\n",
    "gens.add_edge('John','Liesje')\n",
    "gens.add_edge('John','Anne')\n",
    "gens.add_edge('John','Julia')\n",
    "gens.add_edge('John','Nienke')\n",
    "gens.add_edge('John','Peter')\n",
    "gens.add_edge('John','Duncan')\n",
    "gens.add_edge('John','Sarah')\n",
    "gens.add_edge('John','Stefanie')\n",
    "\n",
    "# Peter is bisexueel\n",
    "gens.add_edge('Peter','Piet')\n",
    "gens.add_edge('Peter','Klaas')\n",
    "gens.add_edge('Peter','Timo')\n",
    "gens.add_edge('Peter','Liesje')\n",
    "gens.add_edge('Peter','Anne')\n",
    "gens.add_edge('Peter','Julia')\n",
    "gens.add_edge('Peter','Nienke')\n",
    "\n",
    "# Duncan is asexueel, dus valt op niks\n",
    "\n",
    "# Sarah is asexueel, dus valt op niks\n",
    "\n",
    "# Stefanie +, dus valt op niks\n",
    "\n",
    "\n",
    "# dit zijn de functies waarmee we makkelijk geslacht en het bestaan van 'valt op' checken\n",
    "def r(x,y,network=gens):\n",
    "    return network.has_edge(x,y)\n",
    "def m(x, network=gens):\n",
    "    return network.nodes[x]['M']\n",
    "def v(x, network=gens):\n",
    "    return network.nodes[x]['V']\n",
    "def t(x, network=gens):\n",
    "    return network.nodes[x]['T']\n",
    "\n",
    "\n",
    "\n",
    "# vervolgens gaan we de sexuele voorkeur van ieder persoon afleiden\n",
    "# gebaseerd op het gender en op wie ze wel en niet vallen.\n",
    "# doordat onze logica bestaat uit veel if statements leek het ons\n",
    "# onmogelijk om er een leesbare list comprehension van te maken,\n",
    "# vandaar is het zoals beneden te zien is. Wel hebben we geprobeerd\n",
    "# het zoveel mogelijk te laten lijken op de manier waarop de logica is opgeschreven.\n",
    "for x in gens.nodes():\n",
    "    \n",
    "    # bisexueel\n",
    "    \n",
    "    # in deze lijst moet alleen maar True en dus geen False komen te staan, dan klopt\n",
    "    # het 'for every y' stuk en voldoet x aan de logica van de sexuele orientatie\n",
    "    true_list_bi=[]\n",
    "    for y in gens.nodes(): \n",
    "        result=True\n",
    "        if x != y:\n",
    "            if m(x) or v(x) or t(x):\n",
    "                if m(y): \n",
    "                    result = r(x,y)\n",
    "                if v(y):\n",
    "                    result = r(x,y)\n",
    "                if t(y):\n",
    "                    result = not r(x,y)\n",
    "            else:\n",
    "                result=False    \n",
    "            true_list_bi.append(result)\n",
    "    if all(true_list_bi):\n",
    "        gens.nodes[x]['S']='bisexueel'\n",
    "        \n",
    "        \n",
    "    # homo\n",
    "    true_list_homo=[]\n",
    "    for y in gens.nodes():\n",
    "        result=True\n",
    "        if x != y:\n",
    "            if m(x):\n",
    "                if m(y): \n",
    "                    result = r(x,y)\n",
    "                if v(y):\n",
    "                    result = not r(x,y)\n",
    "                if t(y):\n",
    "                    result = not r(x,y)\n",
    "            else:\n",
    "                result=False    \n",
    "            true_list_homo.append(result)\n",
    "    if all(true_list_homo):\n",
    "        gens.nodes[x]['S']='homo'\n",
    "        \n",
    "        \n",
    "    # lesbisch\n",
    "    true_list_les=[]\n",
    "    for y in gens.nodes():\n",
    "        result=True\n",
    "        if x != y:\n",
    "            if v(x):\n",
    "                if m(y): \n",
    "                    result = not r(x,y)\n",
    "                if v(y):\n",
    "                    result = r(x,y)\n",
    "                if t(y):\n",
    "                    result = not r(x,y)\n",
    "            else:\n",
    "                result=False    \n",
    "            true_list_les.append(result)\n",
    "    if all(true_list_les):\n",
    "        gens.nodes[x]['S']='lesbisch'\n",
    "        \n",
    "    \n",
    "    # pansexueel\n",
    "    true_list_pan=[]\n",
    "    for y in gens.nodes():\n",
    "        result=True\n",
    "        if x != y:\n",
    "            if m(x) or v(x) or t(x):\n",
    "                result = r(x,y)         \n",
    "            else:\n",
    "                result=False    \n",
    "            true_list_pan.append(result)\n",
    "    if all(true_list_pan):\n",
    "        gens.nodes[x]['S']='pansexueel'\n",
    "        \n",
    "    # asexueel\n",
    "    true_list_asex=[]\n",
    "    for y in gens.nodes():\n",
    "        result=True\n",
    "        if x != y:\n",
    "            result = not r(x,y)           \n",
    "            true_list_asex.append(result)\n",
    "    if all(true_list_asex):\n",
    "        gens.nodes[x]['S']='asexueel'\n",
    "        \n",
    "    # hetero\n",
    "    true_list_het=[]\n",
    "    for y in gens.nodes():\n",
    "        result=True\n",
    "        if x != y:\n",
    "            if m(x):\n",
    "                if m(y): \n",
    "                    result = not r(x,y)\n",
    "                if v(y):\n",
    "                    result = r(x,y)\n",
    "                if t(y):\n",
    "                    result = not r(x,y)\n",
    "            elif v(x):\n",
    "                if m(y): \n",
    "                    result = r(x,y)\n",
    "                if v(y):\n",
    "                    result = not r(x,y)\n",
    "                if t(y):\n",
    "                    result = not r(x,y)\n",
    "            else:\n",
    "                result=False   \n",
    "            true_list_het.append(result)\n",
    "    if all(true_list_het):\n",
    "        gens.nodes[x]['S']='hetero'\n",
    "\n",
    "# in de graph maken we mannen blauw, vrouwen rood, transgenders paars\n",
    "# en queer of questioning en wat onder + zit grijs\n",
    "kleuren = []\n",
    "for node in gens.nodes():\n",
    "    if gens.nodes[node]['M']==True:\n",
    "        kleuren.append('blue')\n",
    "    elif gens.nodes[node]['V']==True:\n",
    "        kleuren.append('red')\n",
    "    elif gens.nodes[node]['T']==True:\n",
    "        kleuren.append('purple')\n",
    "    else:\n",
    "        kleuren.append('grey')\n",
    "        \n",
    "# bij iedere node laten we de sexuele orientatie zien\n",
    "orientatie = nx.get_node_attributes(gens, 'S') \n",
    "\n",
    "nx.draw_circular(gens, labels=orientatie, node_color=kleuren)"
   ]
  },
  {
   "cell_type": "markdown",
   "metadata": {},
   "source": [
    "## <span style=\"color:green\"> 3.2 Networkx naar RDF database </span> ##\n",
    "\n",
    "Hieronder is de functie networkx2RDF(G) geschreven, deze neemt een willekeurige graaf G met aanvullende knoopattributen en zet die om in een RDF database. Kijk eens naar de output, dan zie je de triples die aangemaakt zijn in de RDF database.\n",
    "\n",
    "Voor iedere node in de Networkx graph wordt een unieke id aangemaakt met behulp van Bnode(). Deze Bnode() kunnen we vervolgens dingen toewijzen, zoals een naam, geslacht of een relatie."
   ]
  },
  {
   "cell_type": "code",
   "execution_count": 26,
   "metadata": {
    "colab": {
     "base_uri": "https://localhost:8080/"
    },
    "id": "0ENuGDSzmtnf",
    "outputId": "9af60d85-a83c-4067-962a-158871fb6534"
   },
   "outputs": [
    {
     "data": {
      "text/plain": [
       "([(rdflib.term.BNode('N6d0abe8c26784131b091fc793da80000'),\n",
       "   rdflib.term.URIRef('http://www.w3.org/1999/02/22-rdf-syntax-ns#type'),\n",
       "   rdflib.term.Literal('V')),\n",
       "  (rdflib.term.BNode('Nd860f2525345464487db921aba0aa9fb'),\n",
       "   rdflib.term.URIRef('http://xmlns.com/foaf/0.1/name'),\n",
       "   rdflib.term.Literal('Zoon Bart')),\n",
       "  (rdflib.term.BNode('N5c1685ddd4264126b95d65ba20ef24d0'),\n",
       "   rdflib.term.URIRef('http://xmlns.com/foaf/0.1/name'),\n",
       "   rdflib.term.Literal('Opa Jan')),\n",
       "  (rdflib.term.BNode('N4a9d254747ad475aa1294bc76f806352'),\n",
       "   rdflib.term.URIRef('http://www.w3.org/1999/02/22-rdf-syntax-ns#type'),\n",
       "   rdflib.term.Literal('V')),\n",
       "  (rdflib.term.BNode('Ndbf54a28fc5d464f8751a20b70135e6f'),\n",
       "   rdflib.term.URIRef('http://www.w3.org/1999/02/22-rdf-syntax-ns#Property'),\n",
       "   rdflib.term.BNode('N6d0abe8c26784131b091fc793da80000'))],\n",
       " 48)"
      ]
     },
     "execution_count": 26,
     "metadata": {},
     "output_type": "execute_result"
    }
   ],
   "source": [
    "from rdflib import BNode, Literal\n",
    "from rdflib.namespace import FOAF, RDF\n",
    "\n",
    "\"\"\" Neemt een networkx DiGraph met mogelijke knoopattributen \n",
    "    en zet het om naar een RDF database \"\"\"\n",
    "def networkx2RDF(G):\n",
    "    # Lege RDF graph aanmaken\n",
    "    graph = Graph()\n",
    "    \n",
    "    # Ophalen van de edges en nodes met attributen\n",
    "    edges = G.edges()\n",
    "    nodes = G.nodes(data= True)\n",
    "    \n",
    "    # Lege dictionary aanmaken\n",
    "    nodedict = {}\n",
    "    \n",
    "    # Loop door alle knopen\n",
    "    for x in nodes:\n",
    "        # Geef iedere knoop een unieke id\n",
    "        nieuwenode = BNode()\n",
    "        \n",
    "        # Naam van de knoop koppelen aan de id\n",
    "        naam = x[0]\n",
    "        nodedict[nieuwenode] = naam\n",
    "        \n",
    "        # Iedere unieke knoop krijgt een naam in de database\n",
    "        graph.add((nieuwenode, FOAF.name, Literal(naam)))\n",
    "        \n",
    "        # Als de knoop een attribuut heeft\n",
    "        if len(x[1]) > 0:\n",
    "            atribuutdict = x[1]\n",
    "    \n",
    "            # Loop door de attributen\n",
    "            for attribuut in atribuutdict.items():\n",
    "                # Als het attribuut waar is\n",
    "                if True in attribuut:\n",
    "                    # Voeg de attribuut toe aan de database\n",
    "                    graph.add((nieuwenode, RDF.type, Literal(attribuut[0])))\n",
    "    \n",
    "    # Loop door alle lijnen    \n",
    "    for y in edges:\n",
    "        # Lijn gaat van naam1 naar naam2\n",
    "        naam1 = y[0]\n",
    "        naam2 = y[1]\n",
    "\n",
    "        # Zoek de id die bij de naam hoort in de dictionary\n",
    "        node1 = list(nodedict.keys())[list(nodedict.values()).index(naam1)]\n",
    "        node2 = list(nodedict.keys())[list(nodedict.values()).index(naam2)]\n",
    "\n",
    "        # De tweeplaatsige relatie wordt toegevoegd aan de database\n",
    "        graph.add((node1, RDF.Property, node2))\n",
    "    \n",
    "    return graph\n",
    "\n",
    "\n",
    "J = networkx2RDF(H)\n",
    "triples= [triple for triple in J]\n",
    "triples[:5], len(triples)"
   ]
  },
  {
   "cell_type": "code",
   "execution_count": 27,
   "metadata": {
    "colab": {
     "base_uri": "https://localhost:8080/"
    },
    "id": "HX8avIfeTR10",
    "outputId": "652e1ce5-3833-443f-f5d0-8f5d3c7534e1"
   },
   "outputs": [
    {
     "data": {
      "text/plain": [
       "([(rdflib.term.BNode('Nfd29134748e245b8895d15153f2431ad'),\n",
       "   rdflib.term.URIRef('http://www.w3.org/1999/02/22-rdf-syntax-ns#Property'),\n",
       "   rdflib.term.BNode('Nc713d25b57aa4efe8cc74b0d3c4556b5')),\n",
       "  (rdflib.term.BNode('Nfd29134748e245b8895d15153f2431ad'),\n",
       "   rdflib.term.URIRef('http://www.w3.org/1999/02/22-rdf-syntax-ns#Property'),\n",
       "   rdflib.term.BNode('Naf16b2063ca54ff4a2b2195503a9f798')),\n",
       "  (rdflib.term.BNode('Naf16b2063ca54ff4a2b2195503a9f798'),\n",
       "   rdflib.term.URIRef('http://www.w3.org/1999/02/22-rdf-syntax-ns#type'),\n",
       "   rdflib.term.Literal('M')),\n",
       "  (rdflib.term.BNode('Nd11727c7a5c640c787e214da2129edf3'),\n",
       "   rdflib.term.URIRef('http://www.w3.org/1999/02/22-rdf-syntax-ns#Property'),\n",
       "   rdflib.term.BNode('Naf16b2063ca54ff4a2b2195503a9f798')),\n",
       "  (rdflib.term.BNode('Nd11727c7a5c640c787e214da2129edf3'),\n",
       "   rdflib.term.URIRef('http://xmlns.com/foaf/0.1/name'),\n",
       "   rdflib.term.Literal('Peter'))],\n",
       " 69)"
      ]
     },
     "execution_count": 27,
     "metadata": {},
     "output_type": "execute_result"
    }
   ],
   "source": [
    "# Run function on LHBT+ graph\n",
    "\n",
    "Z = networkx2RDF(gens)\n",
    "triples= [triple for triple in Z]\n",
    "triples[:5], len(triples)"
   ]
  },
  {
   "cell_type": "markdown",
   "metadata": {},
   "source": [
    "# <span style=\"color:green\"> Deel 4: Werken met SPARQL queries </span> #\n",
    "## <span style=\"color:green\"> 4.1 Familierelaties in predicaatlogica </span> ##\n",
    "\n",
    "Hieronder staan een aantal familierelaties uitgedrukt in perdicaatlogica, lees deze even door een kijk of je ze begrijpt."
   ]
  },
  {
   "cell_type": "markdown",
   "metadata": {
    "id": "zUxfdUFyx_ZY"
   },
   "source": [
    "$ \\forall xy(Vader(x,y) \\leftrightarrow R(x,y) \\wedge M(x)) $\n",
    "\n",
    "$ \\forall xy(Moeder(x,y) \\leftrightarrow R(x,y) \\wedge V(x)) $\n",
    "\n",
    "$ \\forall xy(Opa(x,y) \\leftrightarrow \\exists z(Vader(x,z) \\wedge R(z,y))) $\n",
    "\n",
    "$ \\forall xy(Oma(x,y) \\leftrightarrow \\exists z(Moeder(x,z) \\wedge R(z,y))) $\n",
    "\n",
    "$ \\forall xy(Broer(x,y) \\leftrightarrow \\exists mv(Moeder(m, x) \\wedge Moeder(m, y) \\wedge Vader(v,x) \\wedge Vader(v, y) \\wedge M(x)))$\n",
    "\n",
    "$ \\forall xy(Zus(x,y) \\leftrightarrow \\exists mv(Moeder(m, x) \\wedge Moeder(m, y) \\wedge Vader(v,x) \\wedge Vader(v, y) \\wedge V(x)))$\n",
    "\n",
    "$ \\forall xy(Zoon(x,y) \\leftrightarrow (R(y,x) \\wedge M(x))) $\n",
    "\n",
    "$ \\forall xy(Dochter(x,y) \\leftrightarrow (R(y,x) \\wedge V(x))) $\n",
    "\n",
    "$ \\forall xy(Oom(x,y) \\leftrightarrow \\exists z(R(z,y) \\wedge Broer(x,z))) $\n",
    "\n",
    "$ \\forall xy(Tante(x,y) \\leftrightarrow \\exists z(R(z,y) \\wedge Zus(x,z))) $\n",
    "\n",
    "$ \\forall xy(Overgrootvader(x,y) \\leftrightarrow \\exists z((Opa(z,y) \\vee Oma(z,y)) \\wedge Vader(x,z))) $\n",
    "\n",
    "$ \\forall xy(Overgrootmoeder(x,y) \\leftrightarrow \\exists z((Opa(z,y) \\vee Oma(z,y)) \\wedge Moeder(x,z))) $"
   ]
  },
  {
   "cell_type": "markdown",
   "metadata": {},
   "source": [
    "## <span style=\"color:green\"> 4.2 Familierelaties in SPARQL </span> ##\n",
    "Hieronder staan de bovengenoemde familierelaties, maar nu als SPARQL queries. Met SPARQL queries kun je dingen oproepen uit de RDF database. Bijvoorbeeld de unieke id's van alle moeders met hun naam erbij, zoals in de output gegeven is."
   ]
  },
  {
   "cell_type": "code",
   "execution_count": 17,
   "metadata": {
    "colab": {
     "base_uri": "https://localhost:8080/"
    },
    "id": "9wmjz38gRHu_",
    "outputId": "cf5ad283-1964-42fd-ad11-eaa5b3361651"
   },
   "outputs": [
    {
     "data": {
      "text/plain": [
       "[(rdflib.term.BNode('N0b8cc41ffd164514983bd9be02284eb9'),\n",
       "  rdflib.term.Literal('Overgrootmoeder Katrien')),\n",
       " (rdflib.term.BNode('N8b20209d459f489ea2d9b485f6dfff59'),\n",
       "  rdflib.term.Literal('Overgrootmoeder Annie')),\n",
       " (rdflib.term.BNode('N80606611dffd4a3f908e657f8391ae64'),\n",
       "  rdflib.term.Literal('Moeder Jacqueline')),\n",
       " (rdflib.term.BNode('N063b0116e2e2452f8852ae29cbdbb12c'),\n",
       "  rdflib.term.Literal('Oma Nelie')),\n",
       " (rdflib.term.BNode('N0f0ab3cbe5a742f2b53c97cbd670c162'),\n",
       "  rdflib.term.Literal('Oma Jet'))]"
      ]
     },
     "execution_count": 17,
     "metadata": {},
     "output_type": "execute_result"
    }
   ],
   "source": [
    "\"\"\" Vader \"\"\"\n",
    "vaders = J.query(\"\"\"\n",
    "        PREFIX foaf:  <http://xmlns.com/foaf/0.1/>\n",
    "        SELECT DISTINCT ?x ?name\n",
    "        WHERE {\n",
    "            ?x rdf:Property ?y .\n",
    "            ?x rdf:type \"M\" .\n",
    "            \n",
    "            ?x foaf:name ?name .\n",
    "        }\"\"\")\n",
    "\n",
    "\"\"\" Moeder \"\"\"\n",
    "moeders = J.query(\"\"\"\n",
    "        PREFIX foaf:  <http://xmlns.com/foaf/0.1/>\n",
    "        SELECT DISTINCT ?x ?name\n",
    "        WHERE {\n",
    "            ?x rdf:Property ?y .\n",
    "            ?x rdf:type \"V\" .\n",
    "            \n",
    "            ?x foaf:name ?name .\n",
    "        }\"\"\")\n",
    "\n",
    "\"\"\" Opa \"\"\"\n",
    "opas = J.query(\"\"\"\n",
    "        PREFIX foaf:  <http://xmlns.com/foaf/0.1/>\n",
    "        SELECT DISTINCT ?x ?name\n",
    "        WHERE {\n",
    "            ?x rdf:Property ?z .\n",
    "            ?x rdf:type \"M\" .\n",
    "            ?z rdf:Property ?y .\n",
    "            \n",
    "            ?x foaf:name ?name .\n",
    "        }\"\"\")\n",
    "\n",
    "\"\"\" Oma \"\"\"\n",
    "omas = J.query(\"\"\"\n",
    "        PREFIX foaf:  <http://xmlns.com/foaf/0.1/>\n",
    "        SELECT DISTINCT ?x ?name\n",
    "        WHERE {\n",
    "            ?x rdf:Property ?z .\n",
    "            ?x rdf:type \"V\" .\n",
    "            ?z rdf:Property ?y .\n",
    "            \n",
    "            ?x foaf:name ?name .\n",
    "        }\"\"\")\n",
    "\n",
    "\"\"\" Broer \"\"\"\n",
    "broers = J.query(\"\"\"\n",
    "        PREFIX foaf:  <http://xmlns.com/foaf/0.1/>\n",
    "        SELECT DISTINCT ?x ?name\n",
    "        WHERE {\n",
    "            \n",
    "            ?m rdf:Property ?x .\n",
    "            ?m rdf:type \"V\" .\n",
    "            ?m rdf:Property ?y .\n",
    "            ?m rdf:type \"V\" .\n",
    "            ?v rdf:Property ?x .\n",
    "            ?v rdf:type \"M\" .\n",
    "            ?v rdf:Property ?y .\n",
    "            ?v rdf:type \"M\" .\n",
    "            ?x rdf:type \"M\" .\n",
    "            FILTER (?x != ?y) .\n",
    "            \n",
    "            ?x foaf:name ?name .\n",
    "        }\"\"\")\n",
    "\n",
    "\"\"\" Zus \"\"\"\n",
    "zussen = J.query(\"\"\"\n",
    "        PREFIX foaf:  <http://xmlns.com/foaf/0.1/>\n",
    "        SELECT DISTINCT ?x ?name\n",
    "        WHERE {\n",
    "            ?m rdf:Property ?x .\n",
    "            ?m rdf:type \"V\" .\n",
    "            ?m rdf:Property ?y .\n",
    "            ?m rdf:type \"V\" .\n",
    "            ?v rdf:Property ?x .\n",
    "            ?v rdf:type \"M\" .\n",
    "            ?v rdf:Property ?y .\n",
    "            ?v rdf:type \"M\" .\n",
    "            ?x rdf:type \"V\" .\n",
    "            FILTER (?x != ?y) .\n",
    "            \n",
    "            ?x foaf:name ?name .\n",
    "        }\"\"\")\n",
    "\n",
    "\"\"\" Zoon \"\"\"\n",
    "zoons = J.query(\"\"\"\n",
    "        PREFIX foaf:  <http://xmlns.com/foaf/0.1/>\n",
    "        SELECT DISTINCT ?x ?name\n",
    "        WHERE {\n",
    "            ?y rdf:Property ?x .\n",
    "            ?x rdf:type \"M\" .\n",
    "            \n",
    "            ?x foaf:name ?name .\n",
    "        }\"\"\")\n",
    "\n",
    "\"\"\" Dochter \"\"\"\n",
    "dochters = J.query(\"\"\"\n",
    "        PREFIX foaf:  <http://xmlns.com/foaf/0.1/>\n",
    "        SELECT DISTINCT ?x ?name\n",
    "        WHERE {\n",
    "            ?y rdf:Property ?x .\n",
    "            ?x rdf:type \"V\" .\n",
    "            \n",
    "            ?x foaf:name ?name .\n",
    "        }\"\"\")\n",
    "\n",
    "\"\"\" Oom \"\"\"\n",
    "ooms = J.query(\"\"\"\n",
    "        PREFIX foaf:  <http://xmlns.com/foaf/0.1/>\n",
    "        SELECT DISTINCT ?x ?name\n",
    "        WHERE {\n",
    "            ?z rdf:Property ?y .\n",
    "            ?m rdf:Property ?x .\n",
    "            ?m rdf:type \"V\" .\n",
    "            ?m rdf:Property ?z .\n",
    "            ?m rdf:type \"V\" .\n",
    "            ?v rdf:Property ?x .\n",
    "            ?v rdf:type \"M\" .\n",
    "            ?v rdf:Property ?z .\n",
    "            ?v rdf:type \"M\" .\n",
    "            ?x rdf:type \"M\" .\n",
    "            FILTER (?x != ?z) .\n",
    "            \n",
    "            ?x foaf:name ?name .\n",
    "        }\"\"\")\n",
    "\n",
    "\"\"\" Tante \"\"\"\n",
    "tantes = J.query(\"\"\"\n",
    "        PREFIX foaf:  <http://xmlns.com/foaf/0.1/>\n",
    "        SELECT DISTINCT ?x ?name\n",
    "        WHERE {\n",
    "            ?z rdf:Property ?y .\n",
    "            ?m rdf:Property ?x .\n",
    "            ?m rdf:type \"V\" .\n",
    "            ?m rdf:Property ?z .\n",
    "            ?m rdf:type \"V\" .\n",
    "            ?v rdf:Property ?x .\n",
    "            ?v rdf:type \"M\" .\n",
    "            ?v rdf:Property ?z .\n",
    "            ?v rdf:type \"M\" .\n",
    "            ?x rdf:type \"V\" .\n",
    "            FILTER (?x != ?z) .\n",
    "            \n",
    "            ?x foaf:name ?name .\n",
    "        }\"\"\")\n",
    "\n",
    "\"\"\" Overgrootvader \"\"\"\n",
    "overgrootvaders = J.query(\"\"\"\n",
    "        PREFIX foaf:  <http://xmlns.com/foaf/0.1/>\n",
    "        SELECT DISTINCT ?x ?name\n",
    "        WHERE {\n",
    "            {?z rdf:Property ?q .\n",
    "            ?z rdf:type \"M\" .\n",
    "            ?q rdf:Property ?y .}\n",
    "            UNION\n",
    "            {?z rdf:Property ?q .\n",
    "            ?z rdf:type \"V\" .\n",
    "            ?q rdf:Property ?y .}\n",
    "            \n",
    "            ?x rdf:Property ?z .\n",
    "            ?x rdf:type \"M\" .\n",
    "            \n",
    "            ?x foaf:name ?name .\n",
    "        }\"\"\")\n",
    "\n",
    "\"\"\" Overgrootmoeder \"\"\"\n",
    "overgrootmoeders = J.query(\"\"\"\n",
    "        PREFIX foaf:  <http://xmlns.com/foaf/0.1/>\n",
    "        SELECT DISTINCT ?x ?name\n",
    "        WHERE {\n",
    "            {?z rdf:Property ?q .\n",
    "            ?z rdf:type \"M\" .\n",
    "            ?q rdf:Property ?y .}\n",
    "            UNION\n",
    "            {?z rdf:Property ?q .\n",
    "            ?z rdf:type \"V\" .\n",
    "            ?q rdf:Property ?y .}\n",
    "            \n",
    "            ?x rdf:Property ?z .\n",
    "            ?x rdf:type \"V\" .\n",
    "            \n",
    "            ?x foaf:name ?name .\n",
    "        }\"\"\")\n",
    "\n",
    "list(moeders)"
   ]
  },
  {
   "cell_type": "markdown",
   "metadata": {},
   "source": [
    "## <span style=\"color:green\"> 4.3 LHBTQ+ in predicaatlogica </span> ##\n",
    "Hieronder staan een aantal LHBTQ+ categoriën uitgedrukt in predicaatlogica."
   ]
  },
  {
   "cell_type": "markdown",
   "metadata": {},
   "source": [
    "$ \\forall x(Interseksueel(x) \\leftrightarrow (M(x) \\land V(x))) $\n",
    "\n",
    "$ \\forall xy(Homo(x) \\leftrightarrow M(x) \\land R(x,y) \\land M(y)) $ \n",
    "\n",
    "$ \\forall xy(Lesbienne(x) \\leftrightarrow V(x) \\land R(x,y) \\land V(y)) $ \n",
    "\n",
    "$ \\forall x(Biseksueel(x) \\leftrightarrow \\exists yz(R(x, y) \\land M(y) \\land R(x,z) \\land V(z))) $ \n",
    "\n",
    "$ \\forall xy(Aseksueel(x) \\leftrightarrow \\neg  R(x,y)) $ "
   ]
  },
  {
   "cell_type": "markdown",
   "metadata": {},
   "source": [
    "## <span style=\"color:green\"> 4.4 LHBTQ+ in predicaatlogica </span> ##\n",
    "Hieronder staan deze LHBTQ+ categoriën uitgedrukt in SPARQL queries. In de output zie je de naam van de heteroseksuelen en hun unieke id die we ze hebben gegeven met behulp van Bnode() in de voorgaande omzettingsfunctie van Networkx naar RDF. "
   ]
  },
  {
   "cell_type": "code",
   "execution_count": 18,
   "metadata": {
    "colab": {
     "base_uri": "https://localhost:8080/"
    },
    "id": "p7EQ-XPxyNbU",
    "outputId": "2f8d0751-77da-4d77-d7ad-086a34a80868"
   },
   "outputs": [
    {
     "data": {
      "text/plain": [
       "[(rdflib.term.BNode('N81586e4f8825486d8e792eb69a31b4e4'),\n",
       "  rdflib.term.Literal('Julia')),\n",
       " (rdflib.term.BNode('Na15453a2de5741b3be6421abed490e95'),\n",
       "  rdflib.term.Literal('Klaas'))]"
      ]
     },
     "execution_count": 18,
     "metadata": {},
     "output_type": "execute_result"
    }
   ],
   "source": [
    "\"\"\" Interseksueel \"\"\"\n",
    "interseksuele = Z.query(\"\"\"\n",
    "        PREFIX foaf:   <http://xmlns.com/foaf/0.1/>\n",
    "        SELECT DISTINCT ?x ?name\n",
    "        WHERE {\n",
    "            FILTER NOT EXISTS {\n",
    "            ?x rdf:type \"M\" .\n",
    "            }\n",
    "            FILTER NOT EXISTS {\n",
    "            ?x rdf:type \"V\" .\n",
    "            }\n",
    "            ?x foaf:name ?name .\n",
    "        }\"\"\")\n",
    "\n",
    "\"\"\" Heteroseksueel \"\"\"\n",
    "heteroseksuele = Z.query(\"\"\"\n",
    "        PREFIX foaf:   <http://xmlns.com/foaf/0.1/>\n",
    "        SELECT DISTINCT ?x ?name\n",
    "        WHERE {\n",
    "            {?x rdf:Property ?y .\n",
    "            ?x rdf:type \"V\" .\n",
    "            ?y rdf:type \"M\" .}\n",
    "            UNION\n",
    "            {?x rdf:Property ?y .\n",
    "            ?x rdf:type \"M\" .\n",
    "            ?y rdf:type \"V\" .}\n",
    "            \n",
    "            FILTER NOT EXISTS {\n",
    "            ?x rdf:type \"V\" .\n",
    "            ?x rdf:Property ?q .\n",
    "            ?q rdf:type \"V\" .\n",
    "            }\n",
    "            FILTER NOT EXISTS {\n",
    "            ?x rdf:type \"M\" .\n",
    "            ?x rdf:Property ?z .\n",
    "            ?z rdf:type \"M\" .\n",
    "            }\n",
    "            \n",
    "            ?x foaf:name ?name .\n",
    "        }\"\"\")\n",
    "\n",
    "\"\"\" Homoseksueel \"\"\"\n",
    "homoseksuele = Z.query(\"\"\"\n",
    "        PREFIX foaf:   <http://xmlns.com/foaf/0.1/>\n",
    "        SELECT DISTINCT ?x ?name\n",
    "        WHERE {\n",
    "            ?x rdf:Property ?y .\n",
    "            ?x rdf:type \"M\" .\n",
    "            ?y rdf:type \"M\" .\n",
    "            \n",
    "            FILTER NOT EXISTS {\n",
    "            ?x rdf:Property ?q .\n",
    "            ?q rdf:type \"V\" .\n",
    "            }\n",
    "            \n",
    "            ?x foaf:name ?name .\n",
    "        }\"\"\")\n",
    "\n",
    "\"\"\" Lesbienne \"\"\"\n",
    "lesbiennes = Z.query(\"\"\"\n",
    "        PREFIX foaf:   <http://xmlns.com/foaf/0.1/>\n",
    "        SELECT DISTINCT ?x ?name\n",
    "        WHERE {\n",
    "            ?x rdf:Property ?y .\n",
    "            ?x rdf:type \"V\" .\n",
    "            ?y rdf:type \"V\" .\n",
    "            \n",
    "            FILTER NOT EXISTS {\n",
    "            ?x rdf:Property ?q .\n",
    "            ?q rdf:type \"M\" .\n",
    "            }\n",
    "            \n",
    "            ?x foaf:name ?name .\n",
    "        }\"\"\")\n",
    "\n",
    "\"\"\" Biseksueel \"\"\"\n",
    "biseksuele = Z.query(\"\"\"\n",
    "        PREFIX foaf:   <http://xmlns.com/foaf/0.1/>\n",
    "        SELECT DISTINCT ?x ?name\n",
    "        WHERE {\n",
    "            ?x rdf:Property ?y .\n",
    "            ?y rdf:type \"V\" .\n",
    "            \n",
    "            ?x rdf:Property ?q .\n",
    "            ?q rdf:type \"M\" .\n",
    "            \n",
    "            FILTER NOT EXISTS {\n",
    "            ?x rdf:Property ?z .\n",
    "            ?z rdf:type \"T\" .\n",
    "            }\n",
    "            \n",
    "            ?x foaf:name ?name .\n",
    "        }\"\"\")\n",
    "\n",
    "\"\"\" Aseksueel \"\"\"\n",
    "aseksuele = Z.query(\"\"\"\n",
    "        PREFIX foaf:   <http://xmlns.com/foaf/0.1/>\n",
    "        SELECT DISTINCT ?x ?name\n",
    "        WHERE {\n",
    "            FILTER NOT EXISTS {\n",
    "            ?x rdf:Property ?z .\n",
    "            }\n",
    "            \n",
    "            ?x foaf:name ?name .\n",
    "        }\"\"\")\n",
    "\n",
    "\"\"\" Panseksueel \"\"\"\n",
    "panseksuele = Z.query(\"\"\"\n",
    "        PREFIX foaf:   <http://xmlns.com/foaf/0.1/>\n",
    "        SELECT DISTINCT ?x ?name\n",
    "        WHERE {\n",
    "            ?x rdf:Property ?y .\n",
    "            ?y rdf:type \"V\" .\n",
    "            \n",
    "            ?x rdf:Property ?q .\n",
    "            ?q rdf:type \"M\" .\n",
    "            \n",
    "            ?x rdf:Property ?z .\n",
    "            ?z rdf:type \"T\" .\n",
    "            \n",
    "            \n",
    "            ?x foaf:name ?name .\n",
    "        }\"\"\")\n",
    "\n",
    "\n",
    "list(heteroseksuele)"
   ]
  },
  {
   "cell_type": "markdown",
   "metadata": {
    "id": "C7VITGuYzZJp"
   },
   "source": [
    "# <span style=\"color:green\"> Deel 5: Van RDF naar Networkx </span> #\n",
    "## <span style=\"color:green\"> 5.1 De omschrijf functie </span> ##\n",
    "Hieronder vindt je een functie die een RDF graph neemt en deze omzet naar een Networkx Digraph. Eerst wordt een RDF graph van \n",
    "Amsterdam opgehaald en deze wordt vervolgens omgezet naar een Networkx Digraph. "
   ]
  },
  {
   "cell_type": "code",
   "execution_count": 19,
   "metadata": {},
   "outputs": [
    {
     "name": "stdout",
     "output_type": "stream",
     "text": [
      "De rdf_graph heeft 10001 triples\n",
      "\n",
      "networkx Graph loaded successfully with length 10001\n"
     ]
    }
   ],
   "source": [
    "from rdflib.extras.external_graph_libs import rdflib_to_networkx_multidigraph\n",
    "from networkx import wiener_index\n",
    "\n",
    "# RDF graph ophalen\n",
    "rdf_graph_path = \"http://dbpedia.org/resource/Amsterdam\"\n",
    "rdf_graph = Graph()\n",
    "rdf_graph.parse(rdf_graph_path, format = 'turtle')\n",
    "\n",
    "print(\"De rdf_graph heeft {} triples\".format(len(rdf_graph)))\n",
    "\n",
    "print()\n",
    "\n",
    "# Omzetten naar een Networkx Digraph\n",
    "networkx_graph = rdflib_to_networkx_multidigraph(rdf_graph)\n",
    "print(\"networkx Graph loaded successfully with length {}\".format(len(rdf_graph)))"
   ]
  },
  {
   "cell_type": "markdown",
   "metadata": {},
   "source": [
    "## <span style=\"color:green\"> 5.2 Maten berekenen met Networkx </span> ##\n",
    "Hieronder zie je hoe we met de zo net aangemaakte Digraph een aantal Networkx maten kunnen berekenen.\n",
    "Maten als het aantal nodes, het aantal edges, de degree centrality en de density kunnen je een beeld geven van het netwerk dat we zojuist hebben aangemaakt."
   ]
  },
  {
   "cell_type": "code",
   "execution_count": 29,
   "metadata": {},
   "outputs": [
    {
     "name": "stdout",
     "output_type": "stream",
     "text": [
      "Het networkx netwerk heeft 8185 nodes en 10001 edges.\n",
      "\n",
      "De networkx graph bevat 6820 pendants.\n",
      "\n",
      "De gemiddelde degree centrality is: 0.000298599529095931.\n",
      "\n",
      "De density van het networkx netwerk is: 0.08571428571428572.\n",
      "\n",
      "Het networkx netwerk heeft een wiener index van: inf ;)\n"
     ]
    }
   ],
   "source": [
    "# Network grootte\n",
    "print(\"Het networkx netwerk heeft {} nodes en {} edges.\".format(networkx_graph.number_of_nodes(), networkx_graph.number_of_edges()))\n",
    "\n",
    "print(\"\")\n",
    "\n",
    "# Aantal pendants berekenen. \n",
    "# Pendants zijn de nodes in het netwerk die maar 1 edge hebben\n",
    "def pendants(nx_graph):\n",
    "    pendants = 0\n",
    "    for node in nx_graph:\n",
    "        if nx_graph.degree[node] == 1:\n",
    "            pendants += 1\n",
    "    return pendants\n",
    "\n",
    "\n",
    "print(\"De networkx graph bevat {} pendants.\".format(pendants(networkx_graph)))\n",
    "\n",
    "print(\"\")\n",
    "\n",
    "\n",
    "# Gemiddelde degree centality\n",
    "\n",
    "# Helper funtie om gemiddelde te berekenen\n",
    "def mean(numbers):\n",
    "    return float(sum(numbers)) / max(len(numbers), 1)\n",
    "\n",
    "dc = nx.degree_centrality(networkx_graph)\n",
    "degrees = []\n",
    "for k,v in dc.items():\n",
    "    degrees.append(v)\n",
    "\n",
    "print(\"De gemiddelde degree centrality is: {}.\".format(mean(degrees)))\n",
    "\n",
    "print(\"\")\n",
    "    \n",
    "# Density\n",
    "print(\"De density van het networkx netwerk is: {}.\".format(nx.density(G)))\n",
    "\n",
    "print()\n",
    "\n",
    "# Wiener index\n",
    "print(\"Het networkx netwerk heeft een wiener index van: {} ;)\".format(wiener_index(networkx_graph)))"
   ]
  },
  {
   "cell_type": "code",
   "execution_count": null,
   "metadata": {},
   "outputs": [],
   "source": []
  }
 ],
 "metadata": {
  "colab": {
   "collapsed_sections": [],
   "name": "AssignmentWeek5groep6.ipynb",
   "provenance": []
  },
  "kernelspec": {
   "display_name": "Python 3",
   "language": "python",
   "name": "python3"
  },
  "language_info": {
   "codemirror_mode": {
    "name": "ipython",
    "version": 3
   },
   "file_extension": ".py",
   "mimetype": "text/x-python",
   "name": "python",
   "nbconvert_exporter": "python",
   "pygments_lexer": "ipython3",
   "version": "3.8.3"
  },
  "toc": {
   "nav_menu": {},
   "number_sections": true,
   "sideBar": true,
   "skip_h1_title": false,
   "title_cell": "Table of Contents",
   "title_sidebar": "Contents",
   "toc_cell": true,
   "toc_position": {},
   "toc_section_display": true,
   "toc_window_display": false
  }
 },
 "nbformat": 4,
 "nbformat_minor": 1
}
