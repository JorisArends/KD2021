{
 "cells": [
  {
   "cell_type": "markdown",
   "metadata": {},
   "source": [
    "# Assignment Kennis en Data"
   ]
  },
  {
   "cell_type": "markdown",
   "metadata": {},
   "source": [
    "## Notebook made by\n",
    "\n",
    "\n",
    "|Naam|Studentnummer|\n",
    "|-|-|\n",
    "|Robert|secret|\n",
    "|Renske|secret|\n",
    "|Nick|secret|\n",
    "|Thomas|secret|\n",
    "\n",
    "## Peerreview\n",
    "\n",
    "* Vul onderstaande dict/tabel in en run de cel. Klopt het? Zijn jullie het er allemaal mee eens?\n",
    "    * Verander `1,2,3,4` door jullie studentnummers\n",
    "    * `1: {1:.2,2:.3,3:.3,4:.2}` betekent dat student 1 zijn punt zo over de 4 studenten verdeelt\n",
    "    * Let op, per student moeten de punten optellen tot 1!\n",
    "    * De gegeven punten staan in de tabel op de rijen, de ontvangen punten in de kolommen.\n",
    "    * met `cijfer_per_student` kan je bepalen welk cijfer ieder krijgt bij een gegeven groepscijfer."
   ]
  },
  {
   "cell_type": "raw",
   "metadata": {},
   "source": []
  },
  {
   "cell_type": "markdown",
   "metadata": {},
   "source": [
    "## Toelichting\n",
    "\n",
    "* De meeste opgaven worden automatisch nagekeken. Bij vrijwel alle opdrachten staan er een paar tests onder de opdracht, dit is voornamelijk om te zorgen dat je de juiste type output geeft. Dit zijn dus *NIET* alle tests, die komen er bij het graden nog bij.\n",
    "* Elke vraag is 1 punt waard, tenzij anders aangegeven. Soms is die punt onderverdeeld in deelpunten, maar niet altijd. \n",
    "\n",
    "## Voor het inleveren!\n",
    "\n",
    "* Pas niet de cellen aan, vooral niet die je niet kunt editen. Dit levert problemen op bij nakijken. Twijfel je of je per ongeluk iets hebt gewijzigd, kopieer dan bij inleveren je antwoorden naar een nieuw bestand, zodat het niet fout kan gaan.\n",
    "\n",
    "* Zorg dat de code goed runt van boven naar beneden, verifieer dat door boven in Kernel -> Restart & Run All uit te voeren\n",
    "\n",
    "## Na het inleveren!\n",
    "\n",
    "* Het gebeurt erg vaak dat mensen een \"leeg bestand\" inleveren. Vaak een andere versie van de opgave die nog ergens op je computer rondslingerde. Zonde van al je werk toch!\n",
    "* Dus, lever **minstens een half uur voor tijd in**. Download dan wat je hebt ingeleverd op Canvas. Geef het een andere naam om verwarring te voorkomen. En draai alle cellen, en bekijk het. Geen syntax fouten? Alle vragen gemaakt? Dan zit het vast wel goed, en hoef je niet in de zenuwen te zitten."
   ]
  },
  {
   "cell_type": "markdown",
   "metadata": {
    "toc": true
   },
   "source": [
    "<h1>Table of Contents<span class=\"tocSkip\"></span></h1>\n",
    "<div class=\"toc\"><ul class=\"toc-item\"><li><span><a href=\"#RDF-plus-RDFS-conversion\" data-toc-modified-id=\"RDF-plus-RDFS-conversion-1\"><span class=\"toc-item-num\">1&nbsp;&nbsp;</span>RDF plus RDFS conversion</a></span><ul class=\"toc-item\"><li><span><a href=\"#Vereisten\" data-toc-modified-id=\"Vereisten-1.1\"><span class=\"toc-item-num\">1.1&nbsp;&nbsp;</span>Vereisten</a></span></li><li><span><a href=\"#Grading\" data-toc-modified-id=\"Grading-1.2\"><span class=\"toc-item-num\">1.2&nbsp;&nbsp;</span>Grading</a></span></li></ul></li></ul></div>"
   ]
  },
  {
   "cell_type": "markdown",
   "metadata": {},
   "source": [
    "# RDF plus RDFS conversion\n",
    "\n",
    "* We will transform our family and LHBTI++ knowledge base into an RDF database and query it using SPARQL.\n",
    "* The idea is that **you create this notebook as a tutorial on working with `rdflib`**.\n",
    "* You will find many on the web, so search, watch and use the best what you can find to make a fun and top tutorial.\n",
    "\n",
    "## Vereisten\n",
    "\n",
    "1. `networkx2RDF(G)` takes any digraph G with additional node attributes and transform it to an RDF database.\n",
    "2. Maak SPARQL queries voor al je gedefinieerde relaties. \n",
    "    * Check dat de antwoorden identiek zijn.\n",
    "3. Download een andere triple store en maak daar juist een networkx graaf van (dat kan met rdflib), en bereken wat netwerk maten daarop.\n",
    "\n",
    "## Grading\n",
    "\n",
    "* Deze opdracht doen we met peergrading.\n",
    "* Ieder groepje kijkt alle anderen en zichzelf na en geeft ieder groepje een deel van in totaal 100 te verdelen  punten.\n",
    "* De eindscores transformeren we dan naar een cijfer tussen de 1 en 10. "
   ]
  },
  {
   "cell_type": "markdown",
   "metadata": {},
   "source": [
    "Welkom bij onze interactieve code-tutorial over werken met RDF in Python via de library `rdflib`. Laten we om te beginnen de library inladen."
   ]
  },
  {
   "cell_type": "code",
   "execution_count": 2,
   "metadata": {},
   "outputs": [],
   "source": [
    "# Eerst installeren: pip install rdflib\n",
    "import rdflib"
   ]
  },
  {
   "cell_type": "markdown",
   "metadata": {},
   "source": [
    "RDF staat voor Resource Description Framework en bestaat uit een reeks van World Wide Web Consortium (W3C) specificaties. \n",
    "![](http://www.w3.org/TR/rdf11-concepts/rdf-graph.svg)\n",
    "Een RDF-statement is een triple in de vorm: subject-predicaat-object. \n",
    "\n",
    "Elk onderdeel van zo’n triple is een node, een node kan een URI (_uniform resource identifier_) zijn, een blanco node of een literal, een vaste waarde met een datatype.\n",
    "\n",
    "Voorbeelden van nodes:"
   ]
  },
  {
   "cell_type": "code",
   "execution_count": 3,
   "metadata": {},
   "outputs": [
    {
     "data": {
      "text/plain": [
       "(rdflib.term.URIRef('http://example.org/people/Jan'),\n",
       " rdflib.term.BNode('N7dd565de4c8f4a3fb6a84c4d0f236afb'),\n",
       " rdflib.term.Literal('Jan'))"
      ]
     },
     "execution_count": 3,
     "metadata": {},
     "output_type": "execute_result"
    }
   ],
   "source": [
    "from rdflib import URIRef, BNode, Literal\n",
    "\n",
    "Jan = URIRef(\"http://example.org/people/Jan\") # URI \n",
    "Peter = BNode() # Blanco node, als je geen URI (nodig) hebt\n",
    "name = Literal('Jan') # Literal, voor andere waardes\n",
    "\n",
    "Jan, Peter, name"
   ]
  },
  {
   "cell_type": "markdown",
   "metadata": {},
   "source": [
    "Met een *namespace* kan je wat mooier naar veel URI’s uit één schema refereren."
   ]
  },
  {
   "cell_type": "code",
   "execution_count": 4,
   "metadata": {},
   "outputs": [
    {
     "data": {
      "text/plain": [
       "(rdflib.term.URIRef('http://example.org/people/Jan'),\n",
       " rdflib.term.URIRef('http://example.org/people/Peter'))"
      ]
     },
     "execution_count": 4,
     "metadata": {},
     "output_type": "execute_result"
    }
   ],
   "source": [
    "from rdflib import Namespace\n",
    "\n",
    "n = Namespace(\"http://example.org/people/\")\n",
    "\n",
    "n.Jan, n.Peter"
   ]
  },
  {
   "cell_type": "markdown",
   "metadata": {},
   "source": [
    "Gelukkig zijn er al heel veel RDF schema’s met heel veel resources, die we met een namespace gelijk kunnen gebruiken."
   ]
  },
  {
   "cell_type": "code",
   "execution_count": 5,
   "metadata": {},
   "outputs": [
    {
     "data": {
      "text/plain": [
       "(rdflib.term.URIRef('http://www.w3.org/1999/02/22-rdf-syntax-ns#type'),\n",
       " rdflib.term.URIRef('http://www.w3.org/2000/01/rdf-schema#label'),\n",
       " rdflib.term.URIRef('http://xmlns.com/foaf/0.1/knows'))"
      ]
     },
     "execution_count": 5,
     "metadata": {},
     "output_type": "execute_result"
    }
   ],
   "source": [
    "from rdflib.namespace import RDF, RDFS, FOAF\n",
    "\n",
    "RDF.type, RDFS.label, FOAF.knows"
   ]
  },
  {
   "cell_type": "markdown",
   "metadata": {},
   "source": [
    "In RDF zet je meerdere van zulke statements samen in een *store*, in `rdflib` heb je daarvoor een `Graph`."
   ]
  },
  {
   "cell_type": "code",
   "execution_count": 6,
   "metadata": {},
   "outputs": [
    {
     "name": "stdout",
     "output_type": "stream",
     "text": [
      "g bevat 6 triples\n"
     ]
    },
    {
     "data": {
      "text/plain": [
       "[(rdflib.term.BNode('N7dd565de4c8f4a3fb6a84c4d0f236afb'),\n",
       "  rdflib.term.URIRef('http://xmlns.com/foaf/0.1/name'),\n",
       "  rdflib.term.Literal('Peter')),\n",
       " (rdflib.term.BNode('N7dd565de4c8f4a3fb6a84c4d0f236afb'),\n",
       "  rdflib.term.URIRef('http://www.w3.org/1999/02/22-rdf-syntax-ns#type'),\n",
       "  rdflib.term.URIRef('http://xmlns.com/foaf/0.1/Person')),\n",
       " (rdflib.term.URIRef('http://example.org/people/Jan'),\n",
       "  rdflib.term.URIRef('http://xmlns.com/foaf/0.1/age'),\n",
       "  rdflib.term.Literal('20', datatype=rdflib.term.URIRef('http://www.w3.org/2001/XMLSchema#integer'))),\n",
       " (rdflib.term.URIRef('http://example.org/people/Jan'),\n",
       "  rdflib.term.URIRef('http://xmlns.com/foaf/0.1/knows'),\n",
       "  rdflib.term.BNode('N7dd565de4c8f4a3fb6a84c4d0f236afb')),\n",
       " (rdflib.term.URIRef('http://example.org/people/Jan'),\n",
       "  rdflib.term.URIRef('http://xmlns.com/foaf/0.1/name'),\n",
       "  rdflib.term.Literal('Jan')),\n",
       " (rdflib.term.URIRef('http://example.org/people/Jan'),\n",
       "  rdflib.term.URIRef('http://www.w3.org/1999/02/22-rdf-syntax-ns#type'),\n",
       "  rdflib.term.URIRef('http://xmlns.com/foaf/0.1/Person'))]"
      ]
     },
     "execution_count": 6,
     "metadata": {},
     "output_type": "execute_result"
    }
   ],
   "source": [
    "from rdflib import Graph\n",
    "\n",
    "g = Graph()\n",
    "\n",
    "# triples toevoegen met Graph.add()\n",
    "g.add((Jan, RDF.type, FOAF.Person))\n",
    "g.add((Jan, FOAF.knows, Peter))\n",
    "g.add((Jan, FOAF.name, Literal(\"Jan\")))\n",
    "g.add((Jan, FOAF.age, Literal(20)))\n",
    "g.add((Peter, RDF.type, FOAF.Person))\n",
    "g.add((Peter, FOAF.name, Literal(\"Peter\")))\n",
    "\n",
    "print(\"g bevat\", len(g), \"triples\")\n",
    "\n",
    "# de triples in de Graph\n",
    "list(g)"
   ]
  },
  {
   "cell_type": "markdown",
   "metadata": {},
   "source": [
    "Objecten van een triple kunnen we ophalen met `Graph.value()`. Met `Graph.set()` kunnen triples worden vervangen."
   ]
  },
  {
   "cell_type": "code",
   "execution_count": 7,
   "metadata": {},
   "outputs": [
    {
     "name": "stdout",
     "output_type": "stream",
     "text": [
      "Jan is 20 jaar oud\n",
      "Jan is nu 25 jaar oud\n"
     ]
    }
   ],
   "source": [
    "print(f\"Jan is {g.value(Jan, FOAF.age)} jaar oud\")\n",
    "\n",
    "g.set((Jan, FOAF.age, Literal(25)))\n",
    "\n",
    "print(f\"Jan is nu {g.value(Jan, FOAF.age)} jaar oud\")"
   ]
  },
  {
   "cell_type": "markdown",
   "metadata": {},
   "source": [
    "Voor lastigere vragen kunnen we gebruik maken van SPARQL, een *query*-taal speciaal voor RDF. Hier bijvoorbeeld de namen van iedereen die door Jan gekend wordt."
   ]
  },
  {
   "cell_type": "code",
   "execution_count": 8,
   "metadata": {},
   "outputs": [
    {
     "data": {
      "text/plain": [
       "[(rdflib.term.Literal('Peter'))]"
      ]
     },
     "execution_count": 8,
     "metadata": {},
     "output_type": "execute_result"
    }
   ],
   "source": [
    "qres = g.query(\"\"\"SELECT ?naam WHERE { \n",
    "                 <http://example.org/people/Jan> <http://xmlns.com/foaf/0.1/knows> ?iemand.\n",
    "                 ?iemand <http://xmlns.com/foaf/0.1/name> ?naam.\n",
    "                 }\"\"\")\n",
    "\n",
    "list(qres)"
   ]
  },
  {
   "cell_type": "markdown",
   "metadata": {},
   "source": [
    "En we kunnen ook wat checks doen op inhoud."
   ]
  },
  {
   "cell_type": "code",
   "execution_count": 9,
   "metadata": {},
   "outputs": [
    {
     "name": "stdout",
     "output_type": "stream",
     "text": [
      "Deze graaf heeft triples over Jan\n",
      "In de graaf staat dat Jan een Persoon is!\n"
     ]
    }
   ],
   "source": [
    "Jan = URIRef(\"http://example.org/people/Jan\")\n",
    "Bert = URIRef(\"http://example.org/people/Bert\")\n",
    "\n",
    "# kijken of iemand voorkomt in de graaf\n",
    "if (Jan, None, None) in g:\n",
    "    print(\"Deze graaf heeft triples over Jan\")\n",
    "\n",
    "if (Bert, None, None) in g:\n",
    "    print(\"Deze graaf heeft triples over Bert!\") # g heeft die niet\n",
    "    \n",
    "# type controleren\n",
    "if (Jan, RDF.type, FOAF.Person) in g:\n",
    "    print(\"In de graaf staat dat Jan een Persoon is!\")"
   ]
  },
  {
   "cell_type": "markdown",
   "metadata": {},
   "source": [
    "En nu we klaar zijn met dit deel, kunnen we ook alle triples met Jan als subject verwijderen."
   ]
  },
  {
   "cell_type": "code",
   "execution_count": 10,
   "metadata": {},
   "outputs": [
    {
     "name": "stdout",
     "output_type": "stream",
     "text": [
      "g bevat 2 triples\n"
     ]
    },
    {
     "data": {
      "text/plain": [
       "[(rdflib.term.BNode('N7dd565de4c8f4a3fb6a84c4d0f236afb'),\n",
       "  rdflib.term.URIRef('http://xmlns.com/foaf/0.1/name'),\n",
       "  rdflib.term.Literal('Peter')),\n",
       " (rdflib.term.BNode('N7dd565de4c8f4a3fb6a84c4d0f236afb'),\n",
       "  rdflib.term.URIRef('http://www.w3.org/1999/02/22-rdf-syntax-ns#type'),\n",
       "  rdflib.term.URIRef('http://xmlns.com/foaf/0.1/Person'))]"
      ]
     },
     "execution_count": 10,
     "metadata": {},
     "output_type": "execute_result"
    }
   ],
   "source": [
    "g.remove((Jan, None, None))\n",
    "\n",
    "print(\"g bevat\", len(g), \"triples\")\n",
    "\n",
    "# de triples in de Graph\n",
    "list(g)"
   ]
  },
  {
   "cell_type": "markdown",
   "metadata": {},
   "source": [
    "`networkx`, een library voor het analyseren van netwerken, werkt ook met allerlei soorten grafen. Eén daarvan is een _directed graph_, waarbij je nodes en edges hebt. Als je het vergelijkt met RDF zijn het subject en object nodes en het predicaat is de edge van het subject naar het object. Een klein voorbeeldje:"
   ]
  },
  {
   "cell_type": "code",
   "execution_count": 11,
   "metadata": {},
   "outputs": [
    {
     "data": {
      "image/png": "[encoded data removed]",
      "text/plain": [
       "<Figure size 432x288 with 1 Axes>"
      ]
     },
     "metadata": {},
     "output_type": "display_data"
    }
   ],
   "source": [
    "import networkx as nx\n",
    "\n",
    "DG = nx.DiGraph()\n",
    "DG.add_edges_from([('a', 'b'), ('b', 'c')])\n",
    "DG.nodes['a']['M']=True\n",
    "\n",
    "\n",
    "nx.draw(DG, with_labels=True)"
   ]
  },
  {
   "cell_type": "markdown",
   "metadata": {},
   "source": [
    "Stel dat we van deze `networkx`-graaf een `rdflib`-graaf willen maken, dan zijn er veel dingen waar we rekening mee moeten houden. Wat betekenen de node-labels eigenlijk? Waar staan onze nodes voor? Voor welke relatie staan de edges? Hoe zetten we het attribuut ‘M’ in onze rdf store? Onderstaande functie zet een `networkx`-graaf om naar een `rdflib`-vraag, maar dan hebben we wel de antwoorden op deze vragen nodig."
   ]
  },
  {
   "cell_type": "code",
   "execution_count": 12,
   "metadata": {},
   "outputs": [],
   "source": [
    "def networkx2RDF(G, edges_are, nodes_are=None, labels_are=RDFS.label, attribute_map={}):\n",
    "    \"\"\"Maakt van een NetworkX graaf een RDF(lib) triple-store.\n",
    "    edges_are is een RDF term die beschrijft waar de edges voor staan.\n",
    "    \n",
    "    Optioneel:\n",
    "    * node_are is een RDF term voor de klasse waar de nodes aan toebehoren.\n",
    "    * labels_are is een RDF term en beschrijft waar het node label voor staat (standaard RDFS.label).\n",
    "    * attribute_map beschrijft NetworkX node attribute key/value paren\n",
    "      en door welke RDF(lib) termen zij vervangen worden.\"\"\"\n",
    "    g = Graph()\n",
    "    \n",
    "    G = nx.convert_node_labels_to_integers(G, label_attribute=\"label\")\n",
    "    for node, attributes in G.nodes(data=True):\n",
    "        noderef = URIRef(f\"http://example.org/node/{node}\")\n",
    "        if nodes_are:\n",
    "            g.add((noderef, RDF.type, nodes_are))\n",
    "        if labels_are:\n",
    "            g.add((noderef, labels_are, Literal(attributes[\"label\"])))\n",
    "        for attribute in attributes.items():\n",
    "            if attribute in attribute_map:\n",
    "                prop, value = attribute_map[attribute]\n",
    "                g.add((noderef, prop, value))\n",
    "        for edge in G.edges(node):\n",
    "            g.add((noderef, edges_are, URIRef(f\"http://example.org/node/{edge[1]}\")))\n",
    "    return g\n"
   ]
  },
  {
   "cell_type": "markdown",
   "metadata": {},
   "source": [
    "Een aanname die we wel doen in de functie is dat elke node een nieuwe URI krijgt. Verder slaan we het originele label als literal in een triple met de node op, dus bijvoorbeeld zo: `URIRef(\"http://example.org/node/0\") RDFS.label Literal('a')`. Als die label ook nog een betekenis heeft, zoals bijvoorbeeld een naam, kan `RDFS.label` vervangen worden.\n",
    "\n",
    "In ons kleine getekende netwerk hierboven staan de nodes voor personen. De edges staan voor een ouder-relatie. Het label op de node is gewoon een label. En het attribuut ‘M’ betekent dat iemand een man is. We maken ook gebruik van een aantal mooie URI’s uit de dbpedia namespace. In code:"
   ]
  },
  {
   "cell_type": "code",
   "execution_count": 13,
   "metadata": {},
   "outputs": [
    {
     "data": {
      "text/plain": [
       "[(rdflib.term.URIRef('http://example.org/node/2'),\n",
       "  rdflib.term.URIRef('http://www.w3.org/1999/02/22-rdf-syntax-ns#type'),\n",
       "  rdflib.term.URIRef('http://dbpedia.org/ontology/Person')),\n",
       " (rdflib.term.URIRef('http://example.org/node/0'),\n",
       "  rdflib.term.URIRef('http://dbpedia.org/ontology/gender'),\n",
       "  rdflib.term.URIRef('http://dbpedia.org/resource/Male')),\n",
       " (rdflib.term.URIRef('http://example.org/node/0'),\n",
       "  rdflib.term.URIRef('http://www.w3.org/2000/01/rdf-schema#label'),\n",
       "  rdflib.term.Literal('a')),\n",
       " (rdflib.term.URIRef('http://example.org/node/2'),\n",
       "  rdflib.term.URIRef('http://www.w3.org/2000/01/rdf-schema#label'),\n",
       "  rdflib.term.Literal('c')),\n",
       " (rdflib.term.URIRef('http://example.org/node/1'),\n",
       "  rdflib.term.URIRef('http://www.w3.org/2000/01/rdf-schema#label'),\n",
       "  rdflib.term.Literal('b')),\n",
       " (rdflib.term.URIRef('http://example.org/node/1'),\n",
       "  rdflib.term.URIRef('http://dbpedia.org/ontology/parent'),\n",
       "  rdflib.term.URIRef('http://example.org/node/2')),\n",
       " (rdflib.term.URIRef('http://example.org/node/0'),\n",
       "  rdflib.term.URIRef('http://www.w3.org/1999/02/22-rdf-syntax-ns#type'),\n",
       "  rdflib.term.URIRef('http://dbpedia.org/ontology/Person')),\n",
       " (rdflib.term.URIRef('http://example.org/node/1'),\n",
       "  rdflib.term.URIRef('http://www.w3.org/1999/02/22-rdf-syntax-ns#type'),\n",
       "  rdflib.term.URIRef('http://dbpedia.org/ontology/Person')),\n",
       " (rdflib.term.URIRef('http://example.org/node/0'),\n",
       "  rdflib.term.URIRef('http://dbpedia.org/ontology/parent'),\n",
       "  rdflib.term.URIRef('http://example.org/node/1'))]"
      ]
     },
     "execution_count": 13,
     "metadata": {},
     "output_type": "execute_result"
    }
   ],
   "source": [
    "dbp = Namespace(\"http://dbpedia.org/ontology/\")\n",
    "dbr = Namespace(\"http://dbpedia.org/resource/\")\n",
    "\n",
    "attribute_map = {('M', True): (dbp.gender, dbr.Male)}\n",
    "\n",
    "dg = networkx2RDF(DG, edges_are=dbp.parent, nodes_are=dbp.Person, attribute_map=attribute_map)\n",
    "\n",
    "list(dg)"
   ]
  },
  {
   "cell_type": "markdown",
   "metadata": {},
   "source": [
    "Dit kan natuurlijk ook voor een wat grotere graaf!\n"
   ]
  },
  {
   "cell_type": "code",
   "execution_count": 14,
   "metadata": {},
   "outputs": [
    {
     "name": "stdout",
     "output_type": "stream",
     "text": [
      "Aantal triples: 211, de eerste drie:\n"
     ]
    },
    {
     "data": {
      "text/plain": [
       "[(rdflib.term.URIRef('http://example.org/node/0'),\n",
       "  rdflib.term.URIRef('http://dbpedia.org/ontology/gender'),\n",
       "  rdflib.term.URIRef('http://dbpedia.org/resource/Male')),\n",
       " (rdflib.term.URIRef('http://example.org/node/42'),\n",
       "  rdflib.term.URIRef('http://dbpedia.org/ontology/gender'),\n",
       "  rdflib.term.URIRef('http://dbpedia.org/resource/Female')),\n",
       " (rdflib.term.URIRef('http://example.org/node/45'),\n",
       "  rdflib.term.URIRef('http://www.w3.org/2000/01/rdf-schema#label'),\n",
       "  rdflib.term.Literal('47', datatype=rdflib.term.URIRef('http://www.w3.org/2001/XMLSchema#integer')))]"
      ]
     },
     "execution_count": 14,
     "metadata": {},
     "output_type": "execute_result"
    },
    {
     "data": {
      "image/png": "[encoded data removed]",
      "text/plain": [
       "<Figure size 432x288 with 1 Axes>"
      ]
     },
     "metadata": {},
     "output_type": "display_data"
    }
   ],
   "source": [
    "# Graaf\n",
    "H = nx.DiGraph()\n",
    "\n",
    "# Edges per groepslid (W2)\n",
    "robert_edges = [(1,6),(1,8),(1,9),(2,6),(2,8),(2,9),(3,10),(4,10),(5,11),(6,11),(7,12),(7,13),(7,14),(8,12),(8,13),(8,14),(9,15),(9,16),(10,15),(10,16)]\n",
    "suus_edges = [(20,22),(20,23),(19,22),(19,23),(19,17),(19,21),(18,17),(18,21),(35,18),(35,24),(35,29),(35,32), (35,33),(24,26),(24,27),(24,28),(25,26),(25,27),(25,28),(29,31),(30,31)]\n",
    "nick_edges = [(36,41),(36,43),(36,44),(37,41),(37,43),(37,44),(38,45),(39,45),(40,46),(41,46),(42,47),(42,48),(42,49),(43,47),(43,48),(43,49),(44,50),(44,51),(45,50),(45,51)]\n",
    "all_edges = robert_edges + suus_edges + nick_edges\n",
    "H.add_edges_from(all_edges)\n",
    "\n",
    "# Geslachten per groepslid (W2)\n",
    "robert_m = {1,3,6,7,9,11,12,13,15,16}\n",
    "robert_v = {2,4,5,8,10,14} \n",
    "suus_m = {19,23,24,26,27,30,31,33} \n",
    "suus_v = {17,18,20,21,22,25,28,29,32,35}\n",
    "nick_m = {36,38,41,42,44,46,47,48,50,51}\n",
    "nick_v = {37,39,40,43,45,49}\n",
    "\n",
    "all_M = robert_m | suus_m | nick_m\n",
    "all_V = robert_v | suus_v | nick_v\n",
    "\n",
    "# Toewijzen\n",
    "for n in all_M:\n",
    "    H.nodes[n]['M']=True\n",
    "    H.nodes[n]['V']=False\n",
    "for n in all_V:\n",
    "    H.nodes[n]['V']=True\n",
    "    H.nodes[n]['M']=False\n",
    "    \n",
    "nx.draw(H)\n",
    "\n",
    "# Naar RDF\n",
    "attribute_map = {('M', True): (dbp.gender, dbr.Male),\n",
    "                 ('V', True): (dbp.gender, dbr.Female)}\n",
    "\n",
    "g = networkx2RDF(H, edges_are=dbp.parent, nodes_are=dbp.Person, attribute_map=attribute_map)\n",
    "print(f\"Aantal triples: {len(g)}, de eerste drie:\")\n",
    "list(g)[:3]"
   ]
  },
  {
   "cell_type": "markdown",
   "metadata": {},
   "source": [
    "En daar kunnen we queries voor schrijven, bijvoorbeeld voor een hele hoop familierelaties.\n",
    "Via alle ouderrelaties in de store is het mogelijk om bijvoorbeeld alle personen die tante van iemand zijn op te halen door daar een query voor te schrijven. Dit werkt echter alleen als aangetrouwde familieleden kinderen hebben, waardoor er een gedeelde bloedband ontstaat. Pas wanneer er een ouder-relatie aanwezig is, kan de query werken, want dat zijn de enige relaties tussen nodes in de graaf."
   ]
  },
  {
   "cell_type": "code",
   "execution_count": 15,
   "metadata": {},
   "outputs": [
    {
     "data": {
      "text/plain": [
       "[(rdflib.term.URIRef('http://example.org/node/7')),\n",
       " (rdflib.term.URIRef('http://example.org/node/5')),\n",
       " (rdflib.term.URIRef('http://example.org/node/23')),\n",
       " (rdflib.term.URIRef('http://example.org/node/34')),\n",
       " (rdflib.term.URIRef('http://example.org/node/38')),\n",
       " (rdflib.term.URIRef('http://example.org/node/39')),\n",
       " (rdflib.term.URIRef('http://example.org/node/41')),\n",
       " (rdflib.term.URIRef('http://example.org/node/4')),\n",
       " (rdflib.term.URIRef('http://example.org/node/0'))]"
      ]
     },
     "execution_count": 15,
     "metadata": {},
     "output_type": "execute_result"
    }
   ],
   "source": [
    "# Queries voor alle eerste, tweede en derdegraads familieleden\n",
    "# Genereert een persoon die in deze query voorkomt\n",
    "# Door list(query) krijg je alle personen die in die query voorkomen\n",
    "vader = g.query(\"\"\"SELECT DISTINCT ?parent WHERE { \n",
    "                 ?ik <http://dbpedia.org/ontology/parent> ?parent.\n",
    "                 ?parent <http://dbpedia.org/ontology/gender> <http://dbpedia.org/resource/Male>.\n",
    "                 }\"\"\")\n",
    "\n",
    "moeder = g.query(\"\"\"SELECT DISTINCT ?parent WHERE { \n",
    "                 ?ik <http://dbpedia.org/ontology/parent> ?parent.\n",
    "                 ?parent <http://dbpedia.org/ontology/gender> <http://dbpedia.org/resource/Female>.\n",
    "                 }\"\"\")\n",
    "\n",
    "zoon = g.query(\"\"\"SELECT DISTINCT ?zoon WHERE { \n",
    "                 ?zoon <http://dbpedia.org/ontology/parent> ?ik.\n",
    "                 ?parent <http://dbpedia.org/ontology/gender> <http://dbpedia.org/resource/Male>.\n",
    "                 }\"\"\")\n",
    "\n",
    "dochter = g.query(\"\"\"SELECT DISTINCT ?dochter WHERE { \n",
    "                 ?dochter <http://dbpedia.org/ontology/parent> ?ik.\n",
    "                 ?dochter <http://dbpedia.org/ontology/gender> <http://dbpedia.org/resource/Female>.\n",
    "                 }\"\"\")\n",
    "\n",
    "broer = g.query(\"\"\"SELECT DISTINCT ?broer WHERE { \n",
    "                ?broer <http://dbpedia.org/ontology/parent> ?ouder. \n",
    "                ?ik <http://dbpedia.org/ontology/parent> ?ouder.\n",
    "                ?broer <http://dbpedia.org/ontology/gender> <http://dbpedia.org/resource/Male>.\n",
    "                }\"\"\")\n",
    "\n",
    "zus = g.query(\"\"\"SELECT DISTINCT ?broer WHERE { \n",
    "                ?broer <http://dbpedia.org/ontology/parent> ?ouder. \n",
    "                ?ik <http://dbpedia.org/ontology/parent> ?ouder.\n",
    "                ?broer <http://dbpedia.org/ontology/gender> <http://dbpedia.org/resource/Female>.\n",
    "                }\"\"\")\n",
    "\n",
    "grootvader = g.query(\"\"\"SELECT DISTINCT ?grootvader WHERE { \n",
    "                ?ouder <http://dbpedia.org/ontology/parent> ?grootvader.\n",
    "                ?ik <http://dbpedia.org/ontology/parent> ?ouder.\n",
    "                ?grootvader <http://dbpedia.org/ontology/gender> <http://dbpedia.org/resource/Male>.\n",
    "                }\"\"\")\n",
    "\n",
    "grootmoeder = g.query(\"\"\"SELECT DISTINCT ?grootmoeder WHERE { \n",
    "                ?ouder <http://dbpedia.org/ontology/parent> ?grootmoeder.\n",
    "                ?ik <http://dbpedia.org/ontology/parent> ?ouder.\n",
    "                ?grootmoeder <http://dbpedia.org/ontology/gender> <http://dbpedia.org/resource/Female>.\n",
    "                }\"\"\")\n",
    "\n",
    "kleinzoon = g.query(\"\"\"SELECT DISTINCT ?kleinzoon WHERE { \n",
    "                 ?zoon <http://dbpedia.org/ontology/parent> ?ik.\n",
    "                 ?kleinzoon <http://dbpedia.org/ontology/parent> ?zoon.\n",
    "                 ?kleinzoon <http://dbpedia.org/ontology/gender> <http://dbpedia.org/resource/Male>.\n",
    "                 }\"\"\")\n",
    "\n",
    "kleindochter = g.query(\"\"\"SELECT DISTINCT ?kleindochter WHERE { \n",
    "                 ?dochter <http://dbpedia.org/ontology/parent> ?ik.\n",
    "                 ?kleindochter <http://dbpedia.org/ontology/parent> ?dochter.\n",
    "                 ?kleindochter <http://dbpedia.org/ontology/gender> <http://dbpedia.org/resource/Female>.\n",
    "                 }\"\"\")\n",
    "\n",
    "oom = g.query(\"\"\"SELECT DISTINCT ?oom WHERE {{\n",
    "                ?oom <http://dbpedia.org/ontology/parent> ?grootouder.\n",
    "                ?ouder <http://dbpedia.org/ontology/parent> ?grootouder.\n",
    "                ?ik <http://dbpedia.org/ontology/parent> ?ouder.\n",
    "                ?oom <http://dbpedia.org/ontology/gender> <http://dbpedia.org/resource/Male>.\n",
    "                FILTER(?ouder != ?oom)}\n",
    "                UNION \n",
    "                {?tante <http://dbpedia.org/ontology/parent> ?grootouder.\n",
    "                ?neef <http://dbpedia.org/ontology/parent> ?tante.\n",
    "                ?neef <http://dbpedia.org/ontology/parent> ?oom.\n",
    "                ?ouder <http://dbpedia.org/ontology/parent> ?grootouder.\n",
    "                ?ik <http://dbpedia.org/ontology/parent> ?ouder.\n",
    "                ?oom <http://dbpedia.org/ontology/gender> <http://dbpedia.org/resource/Male>.\n",
    "                FILTER(?ouder != ?oom && ?oom != ?tante)}\n",
    "                }\"\"\")\n",
    "\n",
    "tante = g.query(\"\"\"SELECT DISTINCT ?tante WHERE {{ \n",
    "                ?tante <http://dbpedia.org/ontology/parent> ?grootouder.\n",
    "                ?ouder <http://dbpedia.org/ontology/parent> ?grootouder.\n",
    "                ?ik <http://dbpedia.org/ontology/parent> ?ouder.\n",
    "                ?tante <http://dbpedia.org/ontology/gender> <http://dbpedia.org/resource/Female>.\n",
    "                FILTER(?ouder != ?tante)}\n",
    "                UNION \n",
    "                {?oom <http://dbpedia.org/ontology/parent> ?grootouder.\n",
    "                ?neef <http://dbpedia.org/ontology/parent> ?oom.\n",
    "                ?neef <http://dbpedia.org/ontology/parent> ?tante.\n",
    "                ?ouder <http://dbpedia.org/ontology/parent> ?grootouder.\n",
    "                ?ik <http://dbpedia.org/ontology/parent> ?ouder.\n",
    "                ?tante <http://dbpedia.org/ontology/gender> <http://dbpedia.org/resource/Female>.\n",
    "                FILTER(?ouder != ?tante && ?oom != ?tante)}\n",
    "                }\"\"\")\n",
    "\n",
    "neef = g.query(\"\"\"SELECT DISTINCT ?neef WHERE { \n",
    "                ?tante <http://dbpedia.org/ontology/parent> ?grootouder.\n",
    "                ?ouder <http://dbpedia.org/ontology/parent> ?grootouder.\n",
    "                ?ik <http://dbpedia.org/ontology/parent> ?ouder.\n",
    "                ?neef <http://dbpedia.org/ontology/parent> ?tante.\n",
    "                ?neef <http://dbpedia.org/ontology/gender> <http://dbpedia.org/resource/Male>.\n",
    "                FILTER(?ouder != ?tante)\n",
    "                }\"\"\")\n",
    "\n",
    "nicht = g.query(\"\"\"SELECT DISTINCT ?nicht WHERE { \n",
    "                ?tante <http://dbpedia.org/ontology/parent> ?grootouder.\n",
    "                ?ouder <http://dbpedia.org/ontology/parent> ?grootouder.\n",
    "                ?ik <http://dbpedia.org/ontology/parent> ?ouder.\n",
    "                ?nicht <http://dbpedia.org/ontology/parent> ?tante.\n",
    "                ?nicht <http://dbpedia.org/ontology/gender> <http://dbpedia.org/resource/Female>.\n",
    "                FILTER(?ouder != ?tante)\n",
    "                }\"\"\")\n",
    "\n",
    "oomzegger = g.query(\"\"\"SELECT DISTINCT ?oomzegger WHERE {{ \n",
    "                ?tante <http://dbpedia.org/ontology/parent> ?grootouder.\n",
    "                ?ik <http://dbpedia.org/ontology/parent> ?grootouder.\n",
    "                ?oomzegger <http://dbpedia.org/ontology/parent> ?tante.\n",
    "                ?ik <http://dbpedia.org/ontology/gender> <http://dbpedia.org/resource/Male>.\n",
    "                FILTER(?ik != ?tante)}\n",
    "                UNION \n",
    "                {?vrouw <http://dbpedia.org/ontology/parent> ?grootouder.\n",
    "                ?zoon <http://dbpedia.org/ontology/parent> ?vrouw.\n",
    "                ?zoon <http://dbpedia.org/ontology/parent> ?ik.\n",
    "                ?ouder <http://dbpedia.org/ontology/parent> ?grootouder.\n",
    "                ?oomzegger <http://dbpedia.org/ontology/parent> ?ouder.\n",
    "                ?ik <http://dbpedia.org/ontology/gender> <http://dbpedia.org/resource/Male>.\n",
    "                FILTER(?ouder != ?vrouw && ?ik != ?vrouw)}\n",
    "                }\"\"\")\n",
    "\n",
    "tantezegger = g.query(\"\"\"SELECT DISTINCT ?tantezegger WHERE {{ \n",
    "                ?broer <http://dbpedia.org/ontology/parent> ?grootouder.\n",
    "                ?ik <http://dbpedia.org/ontology/parent> ?grootouder.\n",
    "                ?tantezegger <http://dbpedia.org/ontology/parent> ?broer.\n",
    "                ?ik <http://dbpedia.org/ontology/gender> <http://dbpedia.org/resource/Female>.\n",
    "                FILTER(?ik != ?broer)}\n",
    "                UNION \n",
    "                {?man <http://dbpedia.org/ontology/parent> ?grootouder.\n",
    "                ?zoon <http://dbpedia.org/ontology/parent> ?man.\n",
    "                ?zoon <http://dbpedia.org/ontology/parent> ?ik.\n",
    "                ?ouder <http://dbpedia.org/ontology/parent> ?grootouder.\n",
    "                ?tantezegger <http://dbpedia.org/ontology/parent> ?ouder.\n",
    "                ?ik <http://dbpedia.org/ontology/gender> <http://dbpedia.org/resource/Female>.\n",
    "                FILTER(?ouder != ?man && ?ik != ?man)}\n",
    "                }\"\"\")\n",
    "\n",
    "# Vervang oomzegger door een andere query en bekijk de resultaten!\n",
    "# Je kan ook nog ?ik aan het select-deel toevoegen om te kijken met wie de familierelatie is\n",
    "list(oomzegger)"
   ]
  },
  {
   "cell_type": "markdown",
   "metadata": {},
   "source": [
    "Nu we weten hoe we familierelaties weergeven aan de hand van queries, gaan we dit ook voor de gender/seksuele oriëntatie proberen. We gebruiken hiervoor de letters LHBTQI en de definitie van hetero. Er zijn er natuurlijk nog veel meer, maar het idee is juist dat we niet meer zo veel in hokjes denken, dus dat gaan we ook vooral niet doen. Hieronder wordt ook eerst weer een `networkx`-graph aangemaakt waar we alle letters in stoppen, en die zetten we weer om naar een `rdflib` versie."
   ]
  },
  {
   "cell_type": "code",
   "execution_count": 16,
   "metadata": {},
   "outputs": [
    {
     "name": "stdout",
     "output_type": "stream",
     "text": [
      "Aantal triples: 39, de eerste drie:\n"
     ]
    },
    {
     "data": {
      "text/plain": [
       "[(rdflib.term.URIRef('http://example.org/node/4'),\n",
       "  rdflib.term.URIRef('http://www.w3.org/2000/01/rdf-schema#label'),\n",
       "  rdflib.term.Literal('5', datatype=rdflib.term.URIRef('http://www.w3.org/2001/XMLSchema#integer'))),\n",
       " (rdflib.term.URIRef('http://example.org/node/2'),\n",
       "  rdflib.term.URIRef('http://www.w3.org/2000/01/rdf-schema#label'),\n",
       "  rdflib.term.Literal('4', datatype=rdflib.term.URIRef('http://www.w3.org/2001/XMLSchema#integer'))),\n",
       " (rdflib.term.URIRef('http://example.org/node/6'),\n",
       "  rdflib.term.URIRef('http://example.org/attracted_to/'),\n",
       "  rdflib.term.URIRef('http://example.org/node/4'))]"
      ]
     },
     "execution_count": 16,
     "metadata": {},
     "output_type": "execute_result"
    }
   ],
   "source": [
    "H = nx.DiGraph()\n",
    "\n",
    "# 1 is een homoman\n",
    "# 2 is een biseksuele man\n",
    "# 3 is een lesbische vrouw\n",
    "# 4 is een biseksuele vrouw\n",
    "# 5 is een heteroseksuele transman\n",
    "# 6 is een biseksuele queerpersoon\n",
    "# 7 is een intersekse persoon die zich als vrouw identificeert en heteroseksueel is\n",
    "H.add_edges_from([(1,2),(2,1),(2,4),(3,4),(4,2),(4,3),(5,4),(6,4),(6,2),(7,5)])\n",
    "\n",
    "# Primitievensets\n",
    "Mset = {1,2,5}\n",
    "Vset = {3,4,7}\n",
    "Qset = {6}\n",
    "GVset = {3,4,5,7}\n",
    "GMset = {1,2,6,7}\n",
    "\n",
    "# Eigenschappen\n",
    "for n in Mset:\n",
    "    H.nodes[n]['M']=True\n",
    "    H.nodes[n]['V']=False\n",
    "    H.nodes[n]['Q']=False  \n",
    "for n in Vset:\n",
    "    H.nodes[n]['V']=True\n",
    "    H.nodes[n]['M']=False\n",
    "    H.nodes[n]['Q']=False\n",
    "for n in Qset:\n",
    "    H.nodes[n]['V']=False\n",
    "    H.nodes[n]['M']=False\n",
    "    H.nodes[n]['Q']=True \n",
    "for n in GMset:\n",
    "    H.nodes[n]['GM']=True\n",
    "    H.nodes[n]['GV']=False\n",
    "for n in GVset:\n",
    "    H.nodes[n]['GV']=True\n",
    "    H.nodes[n]['GM']=False\n",
    "for n in GMset&GVset:\n",
    "    H.nodes[n]['GV']=True\n",
    "    H.nodes[n]['GM']=True\n",
    "    \n",
    "attribute_map = {('M', True): (dbp.gender, dbr.Male),\n",
    "                 ('V', True): (dbp.gender, dbr.Female),\n",
    "                 ('Q', True): (dbp.gender, dbr.Genderqueer),\n",
    "                 ('GM', True): (dbp.sex, dbr.Male),\n",
    "                 ('GV', True): (dbp.sex, dbr.Female)}\n",
    "\n",
    "h = networkx2RDF(H, edges_are=URIRef(\"http://example.org/attracted_to/\"), nodes_are=dbp.Person, attribute_map=attribute_map)\n",
    "print(f\"Aantal triples: {len(h)}, de eerste drie:\")\n",
    "list(h)[:3]"
   ]
  },
  {
   "cell_type": "markdown",
   "metadata": {},
   "source": [
    "Nu we de graph hebben gemaakt, kunnen we alle letters definiëren en aan de hand van de graph zien of de gedefinieerde relaties kloppen. Boven elke query staat aangegeven hoe wij die seksualiteit of identiteit definiëren, omdat dit niet altijd even zwart-wit is en er nog over gediscussieerd kan worden."
   ]
  },
  {
   "cell_type": "code",
   "execution_count": 17,
   "metadata": {},
   "outputs": [
    {
     "data": {
      "text/plain": [
       "[(rdflib.term.URIRef('http://example.org/node/5')),\n",
       " (rdflib.term.URIRef('http://example.org/node/1')),\n",
       " (rdflib.term.URIRef('http://example.org/node/2')),\n",
       " (rdflib.term.URIRef('http://example.org/node/3')),\n",
       " (rdflib.term.URIRef('http://example.org/node/6')),\n",
       " (rdflib.term.URIRef('http://example.org/node/4')),\n",
       " (rdflib.term.URIRef('http://example.org/node/0'))]"
      ]
     },
     "execution_count": 17,
     "metadata": {},
     "output_type": "execute_result"
    }
   ],
   "source": [
    "# Iemand is hetero als die persoon alleen op het andere geslacht valt\n",
    "hetero = h.query(\"\"\"SELECT DISTINCT ?hetero WHERE {{\n",
    "                ?hetero <http://example.org/attracted_to/> ?man.\n",
    "                ?hetero <http://dbpedia.org/ontology/gender> <http://dbpedia.org/resource/Female>.\n",
    "                ?man <http://dbpedia.org/ontology/gender> <http://dbpedia.org/resource/Male>.\n",
    "                FILTER (NOT EXISTS {?hetero <http://example.org/attracted_to/> ?vrouw.\n",
    "                ?vrouw <http://dbpedia.org/ontology/gender> <http://dbpedia.org/resource/Female>.}).}\n",
    "                UNION{\n",
    "                ?hetero <http://example.org/attracted_to/> ?vrouw.\n",
    "                ?hetero <http://dbpedia.org/ontology/gender> <http://dbpedia.org/resource/Male>.\n",
    "                ?vrouw <http://dbpedia.org/ontology/gender> <http://dbpedia.org/resource/Female>.\n",
    "                FILTER (NOT EXISTS {?hetero <http://example.org/attracted_to/> ?man.\n",
    "                ?man <http://dbpedia.org/ontology/gender> <http://dbpedia.org/resource/Male>.}).}\n",
    "                }\"\"\")\n",
    "\n",
    "# Iemand is homo als die persoon een man is die alleen op andere mannen valt\n",
    "homo = h.query(\"\"\"SELECT DISTINCT ?homo WHERE {\n",
    "                ?homo <http://example.org/attracted_to/> ?man.\n",
    "                ?homo <http://dbpedia.org/ontology/gender> <http://dbpedia.org/resource/Male>.\n",
    "                ?man <http://dbpedia.org/ontology/gender> <http://dbpedia.org/resource/Male>.\n",
    "                FILTER NOT EXISTS {?homo <http://example.org/attracted_to/> ?vrouw.\n",
    "                ?vrouw <http://dbpedia.org/ontology/gender> <http://dbpedia.org/resource/Female>.}\n",
    "                }\"\"\")\n",
    "\n",
    "# Iemand is een lesbisch als die persoon een vrouw is die alleen op andere vrouwen valt\n",
    "lesbi = h.query(\"\"\"SELECT DISTINCT ?lesbi WHERE { \n",
    "                 ?lesbi <http://example.org/attracted_to/> ?woman.\n",
    "                 ?lesbi <http://dbpedia.org/ontology/gender> <http://dbpedia.org/resource/Female>.\n",
    "                 ?woman <http://dbpedia.org/ontology/gender> <http://dbpedia.org/resource/Female>.\n",
    "                 FILTER NOT EXISTS {?lesbi <http://example.org/attracted_to/> ?man.\n",
    "                 ?man <http://dbpedia.org/ontology/gender> <http://dbpedia.org/resource/Male>.}\n",
    "                 }\"\"\")\n",
    "\n",
    "# Iemand is biseksueel als die persoon een man of een vrouw is die op hetzelfde en andere geslacht valt\n",
    "biseksueel = h.query(\"\"\"SELECT DISTINCT ?hetero WHERE {{\n",
    "                ?hetero <http://example.org/attracted_to/> ?man.\n",
    "                ?hetero <http://dbpedia.org/ontology/gender> <http://dbpedia.org/resource/Female>.\n",
    "                ?man <http://dbpedia.org/ontology/gender> <http://dbpedia.org/resource/Male>.\n",
    "                FILTER (EXISTS {?hetero <http://example.org/attracted_to/> ?vrouw.\n",
    "                ?vrouw <http://dbpedia.org/ontology/gender> <http://dbpedia.org/resource/Female>.}).}\n",
    "                UNION{\n",
    "                ?hetero <http://example.org/attracted_to/> ?vrouw.\n",
    "                ?hetero <http://dbpedia.org/ontology/gender> <http://dbpedia.org/resource/Male>.\n",
    "                ?vrouw <http://dbpedia.org/ontology/gender> <http://dbpedia.org/resource/Female>.\n",
    "                FILTER (EXISTS {?hetero <http://example.org/attracted_to/> ?man.\n",
    "                ?man <http://dbpedia.org/ontology/gender> <http://dbpedia.org/resource/Male>.}).}\n",
    "                }\"\"\")\n",
    "\n",
    "# Iemand is een transvrouw als die persoon geboren is als man en zich nu identificeert als vrouw\n",
    "transvrouw = h.query(\"\"\"SELECT DISTINCT ?transgender WHERE {\n",
    "                ?transgender <http://dbpedia.org/ontology/gender> <http://dbpedia.org/resource/Female>.\n",
    "                ?transgender <http://dbpedia.org/ontology/sex> <http://dbpedia.org/resource/Male>.\n",
    "                }\"\"\")\n",
    "\n",
    "#Iemand is een transvrouw als die persoon geboren is als man en zich nu identificeert als man\n",
    "transman = h.query(\"\"\"SELECT DISTINCT ?transgender WHERE {\n",
    "                ?transgender <http://dbpedia.org/ontology/gender> <http://dbpedia.org/resource/Male>.\n",
    "                ?transgender <http://dbpedia.org/ontology/sex> <http://dbpedia.org/resource/Female>.\n",
    "                }\"\"\")\n",
    "\n",
    "#Iemand is queer als die persoon geen hetero is of genderqueer is\n",
    "queer = h.query(\"\"\"SELECT DISTINCT ?hetero WHERE {{\n",
    "                ?hetero <http://example.org/attracted_to/> ?man.\n",
    "                MINUS {{\n",
    "                ?hetero <http://example.org/attracted_to/> ?man.\n",
    "                ?hetero <https://dbpedia.org/ontology/gender> <http://dbpedia.org/resource/Female>.\n",
    "                ?man <https://dbpedia.org/ontology/gender> <http://dbpedia.org/resource/Male>.\n",
    "                FILTER (NOT EXISTS {?hetero <http://example.org/attracted_to/> ?vrouw.\n",
    "                ?vrouw <https://dbpedia.org/ontology/gender> <http://dbpedia.org/resource/Female>.}).}\n",
    "                UNION{\n",
    "                ?hetero <http://example.org/attracted_to/> ?vrouw.\n",
    "                ?hetero <https://dbpedia.org/ontology/gender> <http://dbpedia.org/resource/Male>.\n",
    "                ?vrouw <https://dbpedia.org/ontology/gender> <http://dbpedia.org/resource/Female>.\n",
    "                FILTER (NOT EXISTS {?hetero <http://example.org/attracted_to/> ?man.\n",
    "                ?man <https://dbpedia.org/ontology/gender> <http://dbpedia.org/resource/Male>.}).}}}\n",
    "                UNION\n",
    "                {?hetero <https://dbpedia.org/ontology/gender> <https://dbpedia.org/resource/Genderqueer>.}}\"\"\")\n",
    "\n",
    "# Iemand is intersekse als die persoon zowel mannelijke als vrouwelijke geslachtskenmerken heeft\n",
    "intersekse = h.query(\"\"\"SELECT DISTINCT ?intersekse WHERE{\n",
    "                ?intersekse <http://dbpedia.org/ontology/sex> <http://dbpedia.org/resource/Female>.\n",
    "                ?intersekse <http://dbpedia.org/ontology/sex> <http://dbpedia.org/resource/Male>.\n",
    "                }\"\"\")\n",
    "\n",
    "# Test ook eens wat anders! Om de node te zien welke node in de originele graaf het gaat kan \n",
    "## ?querypersoon <http://www.w3.org/2000/01/rdf-schema#label> ?label\n",
    "# toegevoegd worden aan de query, en ?label in het select-deel worden gezet\n",
    "# waarbij querypersoon vervangen moet worden door de variabele die al in het selectstatement staat\n",
    "\n",
    "list(queer)"
   ]
  },
  {
   "cell_type": "markdown",
   "metadata": {},
   "source": [
    "We kunnen natuurlijk ook de andere kant op en een `networkx` graaf maken van een `rdflib` store. DBPedia is een project dat zoveel mogelijk gestructureerde informatie uit onder andere Wikipedia probeert te halen. Dus voor veel dingen, waaronder bekende personen zijn al triple store’s beschikbaar! Sinds een jaar is er één persoon wel heel bekend, namelijk Nederland's lievelingsdoventolk Irma Sluis, bekend van de persconferenties van de overheid omtrent het coronavirus.\n",
    "\n",
    "![](https://www.linda.nl/lindanl-assets/uploads/2020/08/04203521/Corine-koolhof-vervangt-gebarentolk-irma-sluis-persconferentie-600x338.jpg)\n",
    "\n",
    "Laten we kijken hoe zo’n omgezet netwerk er dan uit ziet! De predicates worden natuurlijk de edges in dit geval."
   ]
  },
  {
   "cell_type": "code",
   "execution_count": 18,
   "metadata": {},
   "outputs": [
    {
     "name": "stdout",
     "output_type": "stream",
     "text": [
      "Type:  <class 'networkx.classes.digraph.DiGraph'>\n",
      "Grootte:  10\n",
      "Aantal nodes:  85\n",
      "Aantal edges:  87\n",
      "Dichtheid:  0.012184873949579832\n",
      "Outdegree node Irma:  85\n",
      "Indegree node Irma:  3\n",
      "Gewoon een tiental random nodes die al veel zeggen over Irma: \n"
     ]
    },
    {
     "data": {
      "text/plain": [
       "[rdflib.term.URIRef('http://dbpedia.org/resource/Irma_Sluis'),\n",
       " rdflib.term.URIRef('http://dbpedia.org/resource/Press_conference'),\n",
       " rdflib.term.URIRef('http://dbpedia.org/resource/Justin_Trudeau'),\n",
       " rdflib.term.URIRef('http://www.wikidata.org/entity/Q5'),\n",
       " rdflib.term.URIRef('http://dbpedia.org/ontology/Person'),\n",
       " rdflib.term.URIRef('http://dbpedia.org/resource/COVID-19_pandemic_in_the_Netherlands'),\n",
       " rdflib.term.URIRef('http://dbpedia.org/resource/Category:Interpreters'),\n",
       " rdflib.term.URIRef('http://dbpedia.org/resource/Sign_language'),\n",
       " rdflib.term.Literal('1971-01-01', datatype=rdflib.term.URIRef('http://www.w3.org/2001/XMLSchema#gYear')),\n",
       " rdflib.term.URIRef('http://dbpedia.org/resource/Category:Living_people')]"
      ]
     },
     "execution_count": 18,
     "metadata": {},
     "output_type": "execute_result"
    },
    {
     "data": {
      "image/png": "[encoded data removed]",
      "text/plain": [
       "<Figure size 432x288 with 1 Axes>"
      ]
     },
     "metadata": {},
     "output_type": "display_data"
    }
   ],
   "source": [
    "import rdflib.extras.external_graph_libs as EGL\n",
    "\n",
    "# aanmaken van graaf, en vullen met gedownloade gedownloade triple store van Irma Sluis\n",
    "irma=Graph()\n",
    "irma.parse('https://dbpedia.org/resource/Irma_Sluis')\n",
    "\n",
    "# converteren van RDF triple store naar networkx graaf\n",
    "Irma = EGL.rdflib_to_networkx_digraph(irma, calc_weights=False,\n",
    "        edge_attrs=lambda s, p, o: {'triples': [(s, p, o)]})\n",
    "\n",
    "# teken deze graaf\n",
    "nx.draw(Irma)\n",
    "\n",
    "# we kunnen ook gelijk wat andere berekeningen doen met networkx!\n",
    "print(\"Type: \", type(Irma))\n",
    "print(\"Grootte: \", H.size())\n",
    "print(\"Aantal nodes: \", len(Irma.nodes()))\n",
    "print(\"Aantal edges: \", len(Irma.edges()))\n",
    "print(\"Dichtheid: \", nx.density(Irma))\n",
    "print(\"Outdegree node Irma: \", list(Irma.out_degree())[0][1])\n",
    "print(\"Indegree node Irma: \", list(Irma.in_degree())[0][1])\n",
    "print(\"Gewoon een tiental random nodes die al veel zeggen over Irma: \")\n",
    "list(Irma)[:10]\n"
   ]
  },
  {
   "cell_type": "markdown",
   "metadata": {},
   "source": [
    "We zijn aan het einde van deze tutorial over werken met `rdflib`! RDF kan heel handig zijn om een wildgroei van informatie op het web een structuur te geven. Er zijn nog veel meer mogelijkheden, waaronder uitbreidingen als RDF*, met statements over statements, dus er is nog genoeg te ontdekken in de wereld van het semantisch web."
   ]
  }
 ],
 "metadata": {
  "celltoolbar": "Geen",
  "kernelspec": {
   "display_name": "Python 3",
   "language": "python",
   "name": "python3"
  },
  "language_info": {
   "codemirror_mode": {
    "name": "ipython",
    "version": 3
   },
   "file_extension": ".py",
   "mimetype": "text/x-python",
   "name": "python",
   "nbconvert_exporter": "python",
   "pygments_lexer": "ipython3",
   "version": "3.6.9"
  },
  "toc": {
   "nav_menu": {},
   "number_sections": true,
   "sideBar": true,
   "skip_h1_title": false,
   "title_cell": "Table of Contents",
   "title_sidebar": "Contents",
   "toc_cell": true,
   "toc_position": {},
   "toc_section_display": true,
   "toc_window_display": false
  }
 },
 "nbformat": 4,
 "nbformat_minor": 2
}
