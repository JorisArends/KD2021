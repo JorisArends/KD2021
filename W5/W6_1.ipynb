{
 "cells": [
  {
   "cell_type": "markdown",
   "metadata": {},
   "source": [
    "# Assignment Kennis en Data"
   ]
  },
  {
   "cell_type": "markdown",
   "metadata": {},
   "source": [
    "## Notebook made by\n",
    "\n",
    "\n",
    "|Naam| Studentnummer |\n",
    "|----------------|---------------|\n",
    "|Sascha| secret      |\n",
    "|Berkay| secret      |\n",
    "|Björn| secret      |\n",
    "\n",
    "## Peerreview\n",
    "\n",
    "* Vul onderstaande dict/tabel in en run de cel. Klopt het? Zijn jullie het er allemaal mee eens?\n",
    "    * Verander `1,2,3,4` door jullie studentnummers\n",
    "    * `1: {1:.2,2:.3,3:.3,4:.2}` betekent dat student 1 zijn punt zo over de 4 studenten verdeelt\n",
    "    * Let op, per student moeten de punten optellen tot 1!\n",
    "    * De gegeven punten staan in de tabel op de rijen, de ontvangen punten in de kolommen.\n",
    "    * met `cijfer_per_student` kan je bepalen welk cijfer ieder krijgt bij een gegeven groepscijfer."
   ]
  },
  {
   "cell_type": "markdown",
   "metadata": {},
   "source": [
    "## Toelichting\n",
    "\n",
    "* De meeste opgaven worden automatisch nagekeken. Bij vrijwel alle opdrachten staan er een paar tests onder de opdracht, dit is voornamelijk om te zorgen dat je de juiste type output geeft. Dit zijn dus *NIET* alle tests, die komen er bij het graden nog bij.\n",
    "* Elke vraag is 1 punt waard, tenzij anders aangegeven. Soms is die punt onderverdeeld in deelpunten, maar niet altijd. \n",
    "\n",
    "## Voor het inleveren!\n",
    "\n",
    "* Pas niet de cellen aan, vooral niet die je niet kunt editen. Dit levert problemen op bij nakijken. Twijfel je of je per ongeluk iets hebt gewijzigd, kopieer dan bij inleveren je antwoorden naar een nieuw bestand, zodat het niet fout kan gaan.\n",
    "\n",
    "* Zorg dat de code goed runt van boven naar beneden, verifieer dat door boven in Kernel -> Restart & Run All uit te voeren\n",
    "\n",
    "## Na het inleveren!\n",
    "\n",
    "* Het gebeurt erg vaak dat mensen een \"leeg bestand\" inleveren. Vaak een andere versie van de opgave die nog ergens op je computer rondslingerde. Zonde van al je werk toch!\n",
    "* Dus, lever **minstens een half uur voor tijd in**. Download dan wat je hebt ingeleverd op Canvas. Geef het een andere naam om verwarring te voorkomen. En draai alle cellen, en bekijk het. Geen syntax fouten? Alle vragen gemaakt? Dan zit het vast wel goed, en hoef je niet in de zenuwen te zitten."
   ]
  },
  {
   "cell_type": "markdown",
   "metadata": {
    "toc": true
   },
   "source": [
    "<h1>Table of Contents<span class=\"tocSkip\"></span></h1>\n",
    "<div class=\"toc\"><ul class=\"toc-item\"><li><span><a href=\"#Assignment-Kennis en Data\" data-toc-modified-id=\"Assignment-Kennis en Data-1\">Assignment Kennis en Data</a></span><ul class=\"toc-item\"><li><span><a href=\"#Notebook-made-by\" data-toc-modified-id=\"Notebook-made-by-1.1\">Notebook made by</a></span></li><li><span><a href=\"#Peerreview\" data-toc-modified-id=\"Peerreview-1.2\">Peerreview</a></span></li><li><span><a href=\"#Toelichting\" data-toc-modified-id=\"Toelichting-1.3\">Toelichting</a></span></li><li><span><a href=\"#Voor-het-inleveren!\" data-toc-modified-id=\"Voor-het-inleveren!-1.4\">Voor het inleveren!</a></span></li><li><span><a href=\"#Na-het-inleveren!\" data-toc-modified-id=\"Na-het-inleveren!-1.5\">Na het inleveren!</a></span></li></ul></li><li><span><a href=\"#RDF-plus-RDFS-conversion\" data-toc-modified-id=\"RDF-plus-RDFS-conversion-2\">RDF plus RDFS conversion</a></span><ul class=\"toc-item\"><li><span><a href=\"#Vereisten\" data-toc-modified-id=\"Vereisten-2.1\">Vereisten</a></span></li><li><span><a href=\"#Grading\" data-toc-modified-id=\"Grading-2.2\">Grading</a></span></li></ul></li><li><span><a href=\"#Tutorial\" data-toc-modified-id=\"Tutorial-3\">Tutorial</a></span><ul class=\"toc-item\"><li><span><a href=\"#Van-netwerk-naar-triples\" data-toc-modified-id=\"Van-netwerk-naar-triples-3.1\">Van netwerk naar triples</a></span><ul class=\"toc-item\"><li><span><a href=\"#Inladen\" data-toc-modified-id=\"Inladen-3.1.1\">Inladen</a></span></li><li><span><a href=\"#Het-netwerk\" data-toc-modified-id=\"Het-netwerk-3.1.2\">Het netwerk</a></span></li><li><span><a href=\"#Aan-de-slag-met-rdflib\" data-toc-modified-id=\"Aan-de-slag-met-rdflib-3.1.3\">Aan de slag met <code>rdflib</code></a></span></li><li><span><a href=\"#URI's\" data-toc-modified-id=\"URI's-3.1.4\">URI's</a></span></li><li><span><a href=\"#Typen\" data-toc-modified-id=\"Typen-3.1.5\">Typen</a></span></li><li><span><a href=\"#Bindings\" data-toc-modified-id=\"Bindings-3.1.6\">Bindings</a></span></li><li><span><a href=\"#Attributen\" data-toc-modified-id=\"Attributen-3.1.7\">Attributen</a></span></li><li><span><a href=\"#Samenvattend:-nodes-met-attributen\" data-toc-modified-id=\"Samenvattend:-nodes-met-attributen-3.1.8\">Samenvattend: nodes met attributen</a></span></li><li><span><a href=\"#Relatie\" data-toc-modified-id=\"Relatie-3.1.9\">Relatie</a></span></li><li><span><a href=\"#Alle-relaties\" data-toc-modified-id=\"Alle-relaties-3.1.10\">Alle relaties</a></span></li><li><span><a href=\"#Samenvoegen\" data-toc-modified-id=\"Samenvoegen-3.1.11\">Samenvoegen</a></span></li></ul></li><li><span><a href=\"#Query's\" data-toc-modified-id=\"Query's-3.2\">Query's</a></span><ul class=\"toc-item\"><li><span><a href=\"#Eerst-een-eenvoudige-vraag...\" data-toc-modified-id=\"Eerst-een-eenvoudige-vraag...-3.2.1\">Eerst een eenvoudige vraag...</a></span></li><li><span><a href=\"#Iets-lastiger...\" data-toc-modified-id=\"Iets-lastiger...-3.2.2\">Iets lastiger...</a></span></li><li><span><a href=\"#Familierelaties\" data-toc-modified-id=\"Familierelaties-3.2.3\">Familierelaties</a></span></li><li><span><a href=\"#Afgeleide-relaties-toevoegen\" data-toc-modified-id=\"Afgeleide-relaties-toevoegen-3.2.4\">Afgeleide relaties toevoegen</a></span></li><li><span><a href=\"#Ground-truth\" data-toc-modified-id=\"Ground-truth-3.2.5\">Ground truth</a></span></li><li><span><a href=\"#Controleren-of-de-relaties-gelijk-zijn\" data-toc-modified-id=\"Controleren-of-de-relaties-gelijk-zijn-3.2.6\">Controleren of de relaties gelijk zijn</a></span></li></ul></li><li><span><a href=\"#Alle-relaties-toevoegen-en-controleren\" data-toc-modified-id=\"Alle-relaties-toevoegen-en-controleren-3.3\">Alle relaties toevoegen en controleren</a></span><ul class=\"toc-item\"><li><span><a href=\"#Dochter\" data-toc-modified-id=\"Dochter-3.3.1\">Dochter</a></span></li><li><span><a href=\"#Zoon\" data-toc-modified-id=\"Zoon-3.3.2\">Zoon</a></span></li><li><span><a href=\"#Moeder\" data-toc-modified-id=\"Moeder-3.3.3\">Moeder</a></span></li><li><span><a href=\"#Vader\" data-toc-modified-id=\"Vader-3.3.4\">Vader</a></span></li><li><span><a href=\"#Broer-of-zus\" data-toc-modified-id=\"Broer-of-zus-3.3.5\">Broer of zus</a></span></li><li><span><a href=\"#Zus\" data-toc-modified-id=\"Zus-3.3.6\">Zus</a></span></li><li><span><a href=\"#Broer\" data-toc-modified-id=\"Broer-3.3.7\">Broer</a></span></li><li><span><a href=\"#Grootouder\" data-toc-modified-id=\"Grootouder-3.3.8\">Grootouder</a></span></li><li><span><a href=\"#Oma\" data-toc-modified-id=\"Oma-3.3.9\">Oma</a></span></li><li><span><a href=\"#Opa\" data-toc-modified-id=\"Opa-3.3.10\">Opa</a></span></li><li><span><a href=\"#Oom-of-tante\" data-toc-modified-id=\"Oom-of-tante-3.3.11\">Oom of tante</a></span></li><li><span><a href=\"#Tante\" data-toc-modified-id=\"Tante-3.3.12\">Tante</a></span></li><li><span><a href=\"#Oom\" data-toc-modified-id=\"Oom-3.3.13\">Oom</a></span></li><li><span><a href=\"#Nicht\" data-toc-modified-id=\"Nicht-3.3.14\">Nicht</a></span></li><li><span><a href=\"#Neef\" data-toc-modified-id=\"Neef-3.3.15\">Neef</a></span></li><li><span><a href=\"#Achternicht\" data-toc-modified-id=\"Achternicht-3.3.16\">Achternicht</a></span></li><li><span><a href=\"#Achterneef\" data-toc-modified-id=\"Achterneef-3.3.17\">Achterneef</a></span></li></ul></li><li><span><a href=\"#Weer-terug-naar-een-netwerkje\" data-toc-modified-id=\"Weer-terug-naar-een-netwerkje-3.4\">Weer terug naar een netwerkje</a></span><ul class=\"toc-item\"><li><span><a href=\"#Nodes-vinden\" data-toc-modified-id=\"Nodes-vinden-3.4.1\">Nodes vinden</a></span></li><li><span><a href=\"#Nodes-opschonen\" data-toc-modified-id=\"Nodes-opschonen-3.4.2\">Nodes opschonen</a></span></li><li><span><a href=\"#Attributen-zoeken\" data-toc-modified-id=\"Attributen-zoeken-3.4.3\">Attributen zoeken</a></span></li><li><span><a href=\"#Toevoegen-aan-een-netwerkje\" data-toc-modified-id=\"Toevoegen-aan-een-netwerkje-3.4.4\">Toevoegen aan een netwerkje</a></span></li><li><span><a href=\"#Edges-zoeken\" data-toc-modified-id=\"Edges-zoeken-3.4.5\">Edges zoeken</a></span></li><li><span><a href=\"#Opschonen\" data-toc-modified-id=\"Opschonen-3.4.6\">Opschonen</a></span></li><li><span><a href=\"#Edges-toevoegen\" data-toc-modified-id=\"Edges-toevoegen-3.4.7\">Edges toevoegen</a></span></li><li><span><a href=\"#Controleren-of-het-goed-werkt\" data-toc-modified-id=\"Controleren-of-het-goed-werkt-3.4.8\">Controleren of het goed werkt</a></span></li><li><span><a href=\"#Functie\" data-toc-modified-id=\"Functie-3.4.9\">Functie</a></span></li><li><span><a href=\"#Als-laatste:-eens-een-andere-Graph\" data-toc-modified-id=\"Als-laatste:-eens-een-andere-Graph-3.4.10\">Als laatste: eens een andere <code>Graph</code></a></span></li><li><span><a href=\"#Netwerk-maten\" data-toc-modified-id=\"Netwerk-maten-3.4.11\">Netwerk maten</a></span></li></ul></li></ul></li></ul></div>"
   ]
  },
  {
   "cell_type": "markdown",
   "metadata": {},
   "source": [
    "# RDF plus RDFS conversion\n",
    "\n",
    "* We will transform our family and LHBTI++ knowledge base into an RDF database and query it using SPARQL.\n",
    "* The idea is that **you create this notebook as a tutorial on working with `rdflib`**.\n",
    "* You will find many on the web, so search, watch and use the best what you can find to make a fun and top tutorial.\n",
    "\n",
    "## Vereisten\n",
    "\n",
    "1. `networkx2RDF(G)` takes any digraph G with additional node attributes and transform it to an RDF database.\n",
    "2. Maak SPARQL queries voor al je gedefinieerde relaties. \n",
    "    * Check dat de antwoorden identiek zijn.\n",
    "3. Download een andere triple store en maak daar juist een networkx graaf van (dat kan met rdflib), en bereken wat netwerk maten daarop.\n",
    "\n",
    "## Grading\n",
    "\n",
    "* Deze opdracht doen we met peergrading.\n",
    "* Ieder groepje kijkt alle anderen en zichzelf na en geeft ieder groepje een deel van in totaal 100 te verdelen  punten.\n",
    "* De eindscores transformeren we dan naar een cijfer tussen de 1 en 10. "
   ]
  },
  {
   "cell_type": "markdown",
   "metadata": {},
   "source": [
    "# Tutorial\n",
    "In deze tutorial leggen we stap voor stap de `rdflib` library uit. We doen dit aan de hand van een aantal voorbeelden.\n",
    "\n",
    "## Van netwerk naar triples\n",
    "Om te beginnen gaan we een eerder gemaakt netwerk over familierelaties stap voor stap omzetten naar een RDF Graph. \n",
    "\n",
    "### Inladen\n",
    "Het netwerk hebben we al eerder gemaakt en voor het gemak online gezet in de vorm van een pickle. Een pickle is een manier om Python objecten op te slaan in een bestand, zodat we het later weer in kunnen laden. Zoals hieronder:"
   ]
  },
  {
   "cell_type": "code",
   "execution_count": 2,
   "metadata": {},
   "outputs": [],
   "source": [
    "import urllib.request as urllib\n",
    "import io\n",
    "import networkx as nx\n",
    "\n",
    "# hier staat de pickle op het web\n",
    "url = \"https://private.xenive.nl/familie.pickle\"\n",
    "\n",
    "# open de URL en lees het bestand in in het geheugen\n",
    "sock = urllib.urlopen(url)\n",
    "file = io.BytesIO(sock.read())\n",
    "sock.close()\n",
    "\n",
    "# maak er weer een netwerk van\n",
    "G = nx.read_gpickle(file)"
   ]
  },
  {
   "cell_type": "markdown",
   "metadata": {},
   "source": [
    "### Het netwerk\n",
    "Het netwerk bestaat uit een aantal nodes met directionele edges daartussen. Iedere node heeft daarnaast een tweetal attributen.\n",
    "- Een edge `(a,b)` betekent dat `a` de ouder is van `b`.\n",
    "- Iedere node heeft een boolean attribuut `M`, wat aangeeft of die persoon een man is of niet.\n",
    "- Iedere node heeft een boolean attribuut `V`, wat aangeeft of die persoon een vrouw is of niet.\n",
    "\n",
    "Hieronder maken we een visualisatie. Rood in de visualisatie betekent dat die node een vrouw is, blauw een man. In dit netwerk is iemand altijd óf een man, óf een vrouw."
   ]
  },
  {
   "cell_type": "code",
   "execution_count": 3,
   "metadata": {},
   "outputs": [
    {
     "data": {
      "image/png": "[encoded data removed]",
      "text/plain": [
       "<Figure size 432x288 with 1 Axes>"
      ]
     },
     "metadata": {},
     "output_type": "display_data"
    }
   ],
   "source": [
    "from networkx.drawing.nx_agraph import write_dot, graphviz_layout\n",
    "\n",
    "# maak direct een functie om dit te doen\n",
    "def visualize_family(G):\n",
    "    # bepaal de kleur van de node aan de hand van het geslacht\n",
    "    color_map = [('#ff9b94' if G.nodes[node]['V'] else '#a9afe8') for node in G]\n",
    "    \n",
    "    # zet de nodes netjes hiërarchisch onder elkaar\n",
    "    pos = graphviz_layout(G, prog='dot')\n",
    "    \n",
    "    # en teken het netwerk\n",
    "    nx.draw(G, pos, node_color=color_map, with_labels=False, arrows=True)\n",
    "    \n",
    "visualize_family(G)"
   ]
  },
  {
   "cell_type": "markdown",
   "metadata": {},
   "source": [
    "### Aan de slag met `rdflib`\n",
    "Oké! Nu we weten hoe het netwerk eruit ziet, kunnen we aan de slag met `rdflib`. De basis van `rdflib` is een `Graph` object. Daar worden alle triples in opgeslagen. Laten we er één maken:"
   ]
  },
  {
   "cell_type": "code",
   "execution_count": 4,
   "metadata": {},
   "outputs": [],
   "source": [
    "from rdflib import Graph, Literal, RDF, URIRef, Namespace\n",
    "from rdflib.namespace import FOAF\n",
    "\n",
    "triples = Graph()"
   ]
  },
  {
   "cell_type": "markdown",
   "metadata": {},
   "source": [
    "Heel eenvoudig, toch?\n",
    "\n",
    "Nu gaan we een eerste persoon toevoegen aan de `Graph`. In het netwerk zit een node genaamd \"Noah\" en hij is een man. Kijk maar:"
   ]
  },
  {
   "cell_type": "code",
   "execution_count": 5,
   "metadata": {},
   "outputs": [
    {
     "data": {
      "text/plain": [
       "{'M': True, 'V': False}"
      ]
     },
     "execution_count": 5,
     "metadata": {},
     "output_type": "execute_result"
    }
   ],
   "source": [
    "G.nodes[\"Noah\"]"
   ]
  },
  {
   "cell_type": "markdown",
   "metadata": {},
   "source": [
    "### URI's\n",
    "Laten we Noah toevoegen aan onze `Graph`. Eerst moeten we een unieke URI bedenken om naar Noah te verwijzen. We doen net alsof alles uit het familie netwerk staat op `https://xenive.nl/familie`. We verwijzen dan naar Noah met `https://xenive.nl/familie/Noah`."
   ]
  },
  {
   "cell_type": "code",
   "execution_count": 6,
   "metadata": {},
   "outputs": [],
   "source": [
    "noah = URIRef(\"https://xenive.nl/familie/Noah\")"
   ]
  },
  {
   "cell_type": "markdown",
   "metadata": {},
   "source": [
    "Nu kunnen we naar Noah verwijzen met onze variabele `noah`. Als we straks heel veel mensen gaan toevoegen aan het netwerk, wordt dat natuurlijk best lastig. Dan hebben we meer dan 50 variabelen om bij te houden. Laten we het onszelf wat makkelijker maken.\n",
    "\n",
    "In `rdflib` kennen we zogenaamde namespaces. Een namespace is een kortere manier om veel URI's bij elkaar te houden. Zo is `Noah` in de namespace `https://xenive.nl/familie/` hetzelfde als onze variabele `noah`."
   ]
  },
  {
   "cell_type": "code",
   "execution_count": 7,
   "metadata": {},
   "outputs": [
    {
     "data": {
      "text/plain": [
       "True"
      ]
     },
     "execution_count": 7,
     "metadata": {},
     "output_type": "execute_result"
    }
   ],
   "source": [
    "f = Namespace(\"https://xenive.nl/familie/\")\n",
    "f['Noah'] == noah"
   ]
  },
  {
   "cell_type": "markdown",
   "metadata": {},
   "source": [
    "### Typen\n",
    "Nu gaan we de `Graph` daadwerkelijk voor het eerst vertellen wie Noah is. Daar hoort bij dat we moeten zeggen dat Noah een persoon is. Om dat te doen, geven we Noah een `RDF.type`. Het type dat we gebruiken is `FOAF.Person`. FOAF (uitgeschreven \"Friend of a Friend\") is een ontologie voor attributen en relaties van mensen.\n",
    "\n",
    "Een type is een standaard onderdeel van de RDF syntax. "
   ]
  },
  {
   "cell_type": "code",
   "execution_count": 8,
   "metadata": {},
   "outputs": [],
   "source": [
    "triples.add((f[\"Noah\"], RDF.type, FOAF.Person))"
   ]
  },
  {
   "cell_type": "markdown",
   "metadata": {},
   "source": [
    "We kunnen onze `Graph` netjes weergeven met `serialize` en `decode`:"
   ]
  },
  {
   "cell_type": "code",
   "execution_count": 9,
   "metadata": {},
   "outputs": [
    {
     "name": "stdout",
     "output_type": "stream",
     "text": [
      "<https://xenive.nl/familie/Noah> a <http://xmlns.com/foaf/0.1/Person> .\n"
     ]
    }
   ],
   "source": [
    "def show_triples(triples):\n",
    "    print(triples.serialize(format=\"n3\").decode(\"utf-8\").strip())\n",
    "\n",
    "show_triples(triples)"
   ]
  },
  {
   "cell_type": "markdown",
   "metadata": {},
   "source": [
    "### Bindings\n",
    "Steeds die hele URI's weergeven wordt snel nogal onoverzichtelijk. Daar heeft `rdflib` een oplossing voor: bindings. Door een binding aan te maken, verkorten we de URI's door een groot deel te vervangen met een korte, herkenbare identifier."
   ]
  },
  {
   "cell_type": "code",
   "execution_count": 10,
   "metadata": {},
   "outputs": [
    {
     "name": "stdout",
     "output_type": "stream",
     "text": [
      "@prefix familie: <https://xenive.nl/familie/> .\n",
      "@prefix foaf: <http://xmlns.com/foaf/0.1/> .\n",
      "\n",
      "familie:Noah a foaf:Person .\n"
     ]
    }
   ],
   "source": [
    "triples.bind(\"foaf\", FOAF)\n",
    "triples.bind(\"familie\", f)\n",
    "\n",
    "show_triples(triples)"
   ]
  },
  {
   "cell_type": "markdown",
   "metadata": {},
   "source": [
    "### Attributen\n",
    "Oké. Onze `Graph` kent Noah nu, maar eigenlijk weet de `Graph` alleen maar dat hij een persoon is. Of wacht even... hij? De `Graph` weet ook helemaal niet dat Noah een man is! En wacht... wie is Noah? De `Graph` weet ook zijn naam niet, alleen een URI... \n",
    "\n",
    "Laten we dat nu toevoegen. De naam is weer onderdeel van FOAF. Nu zien we voor de eerste keer een `Literal`. Een `Literal` is letterlijk letterlijk! Oké dat is wat verwarrend. Een `Literal` is gewoon een waarde, zoals een tekstje of een getal. Eigenlijk best simpel dus :-).\n",
    "\n",
    "Net als in ons netwerk, vertellen we de `Graph` zowel dat Noah een man is, als dat Noah geen vrouw is. Voor onze attributen maken we een extra namespace aan, zodat we niet per ongeluk twee keer dezelfde URI gebruiken."
   ]
  },
  {
   "cell_type": "code",
   "execution_count": 11,
   "metadata": {},
   "outputs": [
    {
     "name": "stdout",
     "output_type": "stream",
     "text": [
      "@prefix attr: <https://xenive.nl/attr/> .\n",
      "@prefix familie: <https://xenive.nl/familie/> .\n",
      "@prefix foaf: <http://xmlns.com/foaf/0.1/> .\n",
      "@prefix xsd: <http://www.w3.org/2001/XMLSchema#> .\n",
      "\n",
      "familie:Noah a foaf:Person ;\n",
      "    foaf:name \"Noah\" ;\n",
      "    attr:M true ;\n",
      "    attr:V false .\n"
     ]
    }
   ],
   "source": [
    "# maak een namespace voor onze attributen\n",
    "attr = Namespace(\"https://xenive.nl/attr/\")\n",
    "triples.bind(\"attr\", attr)\n",
    "\n",
    "# voeg een naam toe\n",
    "triples.add((f[\"Noah\"], FOAF.name, Literal(\"Noah\")))\n",
    "\n",
    "# voeg geslacht toe\n",
    "triples.add((f[\"Noah\"], attr[\"M\"], Literal(True)))\n",
    "triples.add((f[\"Noah\"], attr[\"V\"], Literal(False)))\n",
    "\n",
    "show_triples(triples)"
   ]
  },
  {
   "cell_type": "markdown",
   "metadata": {},
   "source": [
    "### Samenvattend: nodes met attributen\n",
    "We hebben nu de stappen doorlopen om één persoon toe te voegen aan onze `Graph`. Ons netwerk bestaat natuurlijk uit veel meer personen. Laten we daarom een functie schrijven om dit snel voor ons te doen.\n",
    "\n",
    "Nog even samenvattend: wat doen we om één persoon toe te voegen?\n",
    "- We maken een URI voor de persoon, in onze namespace;\n",
    "- We geven de persoon een `RDF.type` in de `Graph`;\n",
    "- We voegen de attributen toe aan de `Graph`.\n",
    "\n",
    "Voordat we personenen kunnen toevoegen moeten we nog in het algemeen een aantal dingen doen:\n",
    "- We maken een `Graph` aan;\n",
    "- We maken een namespace voor onze nodes;\n",
    "- We maken een namespace voor onze attributen;\n",
    "- We koppelen onze namespaces aan gemakkelijk te herkennen identifiers."
   ]
  },
  {
   "cell_type": "code",
   "execution_count": 12,
   "metadata": {},
   "outputs": [
    {
     "name": "stdout",
     "output_type": "stream",
     "text": [
      "@prefix attr: <https://xenive.nl/attr/> .\n",
      "@prefix familie: <https://xenive.nl/familie/> .\n",
      "@prefix foaf: <http://xmlns.com/foaf/0.1/> .\n",
      "@prefix xsd: <http://www.w3.org/2001/XMLSchema#> .\n",
      "\n",
      "familie:Andre a foaf:Person ;\n",
      "    foaf:name \"Andre\" ;\n",
      "    attr:M true ;\n",
      "    attr:V false .\n",
      "\n",
      "familie:Barry a foaf:Person ;\n",
      "    foaf:name \"Barry\" ;\n",
      "    attr:M true ;\n",
      "    attr:V false .\n",
      "\n",
      "familie:Bob a foaf:Person ;\n",
      "    foaf:name \"Bob\" ;\n",
      "    attr:M true ;\n",
      "    attr:V false .\n",
      "\n",
      "familie:Daan a foaf:Person ;\n",
      "    foaf:name \"Daan\" ;\n",
      "    attr:M true ;\n",
      "    attr:V false .\n",
      "\n",
      "familie:Emma a foaf:Person ;\n",
      "    foaf:name \"Emma\" ;\n",
      "    attr:M false ;\n",
      "    attr:V true .\n",
      "\n",
      "familie:Eva a foaf:Person ;\n",
      "    foaf:name \"Eva\" ;\n",
      "    attr:M false ;\n",
      "    attr:V true .\n",
      "\n",
      "familie:Finn a foaf:Person ;\n",
      "    foaf:name \"Finn\" ;\n",
      "    attr:M true ;\n",
      "    attr:V false .\n",
      "\n",
      "familie:Fred a foaf:Person ;\n",
      "    foaf:name \"Fred\" ;\n",
      "    attr:M true ;\n",
      "    attr:V false .\n",
      "\n",
      "familie:Hans a foaf:Person ;\n",
      "    foaf:name \"Hans\" ;\n",
      "    attr:M true ;\n",
      "    attr:V false .\n",
      "\n",
      "familie:Harry a foaf:Person ;\n",
      "    foaf:name \"Harry\" ;\n",
      "    attr:M true ;\n",
      "    attr:V false .\n",
      "\n",
      "familie:Ilse a foaf:Person ;\n",
      "    foaf:name \"Ilse\" ;\n",
      "    attr:M false ;\n",
      "    attr:V true .\n",
      "\n",
      "familie:James a foaf:Person ;\n",
      "    foaf:name \"James\" ;\n",
      "    attr:M true ;\n",
      "    attr:V false .\n",
      "\n",
      "familie:Janneke a foaf:Person ;\n",
      "    foaf:name \"Janneke\" ;\n",
      "    attr:M false ;\n",
      "    attr:V true .\n",
      "\n",
      "familie:Janneke2 a foaf:Person ;\n",
      "    foaf:name \"Janneke2\" ;\n",
      "    attr:M false ;\n",
      "    attr:V true .\n",
      "\n",
      "familie:Jasper a foaf:Person ;\n",
      "    foaf:name \"Jasper\" ;\n",
      "    attr:M true ;\n",
      "    attr:V false .\n",
      "\n",
      "familie:Jettie a foaf:Person ;\n",
      "    foaf:name \"Jettie\" ;\n",
      "    attr:M false ;\n",
      "    attr:V true .\n",
      "\n",
      "familie:Julia a foaf:Person ;\n",
      "    foaf:name \"Julia\" ;\n",
      "    attr:M false ;\n",
      "    attr:V true .\n",
      "\n",
      "familie:Julia2 a foaf:Person ;\n",
      "    foaf:name \"Julia2\" ;\n",
      "    attr:M false ;\n",
      "    attr:V true .\n",
      "\n",
      "familie:Juultje a foaf:Person ;\n",
      "    foaf:name \"Juultje\" ;\n",
      "    attr:M false ;\n",
      "    attr:V true .\n",
      "\n",
      "familie:Kitty a foaf:Person ;\n",
      "    foaf:name \"Kitty\" ;\n",
      "    attr:M false ;\n",
      "    attr:V true .\n",
      "\n",
      "familie:Levi a foaf:Person ;\n",
      "    foaf:name \"Levi\" ;\n",
      "    attr:M true ;\n",
      "    attr:V false .\n",
      "\n",
      "familie:Liam a foaf:Person ;\n",
      "    foaf:name \"Liam\" ;\n",
      "    attr:M true ;\n",
      "    attr:V false .\n",
      "\n",
      "familie:Liv a foaf:Person ;\n",
      "    foaf:name \"Liv\" ;\n",
      "    attr:M false ;\n",
      "    attr:V true .\n",
      "\n",
      "familie:Lucas a foaf:Person ;\n",
      "    foaf:name \"Lucas\" ;\n",
      "    attr:M true ;\n",
      "    attr:V false .\n",
      "\n",
      "familie:Luuk a foaf:Person ;\n",
      "    foaf:name \"Luuk\" ;\n",
      "    attr:M true ;\n",
      "    attr:V false .\n",
      "\n",
      "familie:Marieke a foaf:Person ;\n",
      "    foaf:name \"Marieke\" ;\n",
      "    attr:M false ;\n",
      "    attr:V true .\n",
      "\n",
      "familie:Mees a foaf:Person ;\n",
      "    foaf:name \"Mees\" ;\n",
      "    attr:M true ;\n",
      "    attr:V false .\n",
      "\n",
      "familie:Melvin a foaf:Person ;\n",
      "    foaf:name \"Melvin\" ;\n",
      "    attr:M true ;\n",
      "    attr:V false .\n",
      "\n",
      "familie:Mila a foaf:Person ;\n",
      "    foaf:name \"Mila\" ;\n",
      "    attr:M false ;\n",
      "    attr:V true .\n",
      "\n",
      "familie:Milan a foaf:Person ;\n",
      "    foaf:name \"Milan\" ;\n",
      "    attr:M true ;\n",
      "    attr:V false .\n",
      "\n",
      "familie:Nick a foaf:Person ;\n",
      "    foaf:name \"Nick\" ;\n",
      "    attr:M true ;\n",
      "    attr:V false .\n",
      "\n",
      "familie:Nikolai a foaf:Person ;\n",
      "    foaf:name \"Nikolai\" ;\n",
      "    attr:M true ;\n",
      "    attr:V false .\n",
      "\n",
      "familie:Noah a foaf:Person ;\n",
      "    foaf:name \"Noah\" ;\n",
      "    attr:M true ;\n",
      "    attr:V false .\n",
      "\n",
      "familie:Nora a foaf:Person ;\n",
      "    foaf:name \"Nora\" ;\n",
      "    attr:M false ;\n",
      "    attr:V true .\n",
      "\n",
      "familie:OmaRijks a foaf:Person ;\n",
      "    foaf:name \"OmaRijks\" ;\n",
      "    attr:M false ;\n",
      "    attr:V true .\n",
      "\n",
      "familie:Opa a foaf:Person ;\n",
      "    foaf:name \"Opa\" ;\n",
      "    attr:M true ;\n",
      "    attr:V false .\n",
      "\n",
      "familie:Ruud a foaf:Person ;\n",
      "    foaf:name \"Ruud\" ;\n",
      "    attr:M true ;\n",
      "    attr:V false .\n",
      "\n",
      "familie:Sandra a foaf:Person ;\n",
      "    foaf:name \"Sandra\" ;\n",
      "    attr:M false ;\n",
      "    attr:V true .\n",
      "\n",
      "familie:Sandra2 a foaf:Person ;\n",
      "    foaf:name \"Sandra2\" ;\n",
      "    attr:M false ;\n",
      "    attr:V true .\n",
      "\n",
      "familie:Sara a foaf:Person ;\n",
      "    foaf:name \"Sara\" ;\n",
      "    attr:M false ;\n",
      "    attr:V true .\n",
      "\n",
      "familie:Sem a foaf:Person ;\n",
      "    foaf:name \"Sem\" ;\n",
      "    attr:M true ;\n",
      "    attr:V false .\n",
      "\n",
      "familie:Senne a foaf:Person ;\n",
      "    foaf:name \"Senne\" ;\n",
      "    attr:M true ;\n",
      "    attr:V false .\n",
      "\n",
      "familie:Sophie a foaf:Person ;\n",
      "    foaf:name \"Sophie\" ;\n",
      "    attr:M false ;\n",
      "    attr:V true .\n",
      "\n",
      "familie:Stefanie a foaf:Person ;\n",
      "    foaf:name \"Stefanie\" ;\n",
      "    attr:M false ;\n",
      "    attr:V true .\n",
      "\n",
      "familie:Sterre a foaf:Person ;\n",
      "    foaf:name \"Sterre\" ;\n",
      "    attr:M false ;\n",
      "    attr:V true .\n",
      "\n",
      "familie:Stijn a foaf:Person ;\n",
      "    foaf:name \"Stijn\" ;\n",
      "    attr:M true ;\n",
      "    attr:V false .\n",
      "\n",
      "familie:Tess a foaf:Person ;\n",
      "    foaf:name \"Tess\" ;\n",
      "    attr:M false ;\n",
      "    attr:V true .\n",
      "\n",
      "familie:Theo a foaf:Person ;\n",
      "    foaf:name \"Theo\" ;\n",
      "    attr:M true ;\n",
      "    attr:V false .\n",
      "\n",
      "familie:Tjibbe a foaf:Person ;\n",
      "    foaf:name \"Tjibbe\" ;\n",
      "    attr:M true ;\n",
      "    attr:V false .\n",
      "\n",
      "familie:Yara a foaf:Person ;\n",
      "    foaf:name \"Yara\" ;\n",
      "    attr:M false ;\n",
      "    attr:V true .\n",
      "\n",
      "familie:Zoe a foaf:Person ;\n",
      "    foaf:name \"Zoe\" ;\n",
      "    attr:M false ;\n",
      "    attr:V true .\n"
     ]
    }
   ],
   "source": [
    "# maak een functie, we accepteren een netwerkje en een naam voor de nodes namespace\n",
    "def nodes2RDF(G, ns_name):\n",
    "    # maak een graph\n",
    "    graph = Graph()\n",
    "    \n",
    "    # maak een namespace voor de nodes en bind deze\n",
    "    ns = Namespace(\"https://xenive.nl/\" + ns_name + \"/\")\n",
    "    graph.bind(ns_name, ns)\n",
    "    \n",
    "    # maak een namespace voor de attributen en bind deze\n",
    "    attr = Namespace(\"https://xenive.nl/attr/\")\n",
    "    graph.bind(\"attr\", attr)\n",
    "    \n",
    "    # bind ook FOAF weer\n",
    "    graph.bind(\"foaf\", FOAF)\n",
    "    \n",
    "    # loop over alle nodes in ons netwerkje\n",
    "    for node in G.nodes:\n",
    "        # voeg de node toe met een type\n",
    "        graph.add((ns[node], RDF.type, FOAF.Person))\n",
    "        \n",
    "        # voeg een naam toe\n",
    "        graph.add((ns[node], FOAF.name, Literal(node)))\n",
    "        \n",
    "        # loop over de attributen om deze één voor één toe te voegen\n",
    "        for attribute in G.nodes[node]:\n",
    "            # voeg het attribuut toe\n",
    "            graph.add((ns[node], attr[attribute], Literal(G.nodes[node][attribute])))\n",
    "            \n",
    "    # geef onze RDF Graph terug\n",
    "    return graph\n",
    "        \n",
    "# testen!\n",
    "familie = nodes2RDF(G, \"familie\")\n",
    "show_triples(familie)"
   ]
  },
  {
   "cell_type": "markdown",
   "metadata": {},
   "source": [
    "Yes! Iedereen staat erin. Alleen heeft niemand nog ouderrelaties... Aan de slag dus!\n",
    "\n",
    "### Relatie\n",
    "Relaties zijn eigenlijk ook niet zo ingewikkeld. We relateren gewoon telkens twee personen in onze Graph met elkaar, en geven daarbij aan wat hun relatie is. In dit geval: ouder zijn van. We voegen aan onze Graph met alleen Noah even iemand toe genaamd \"Liam\". Liam is de zoon van Noah.\n",
    "\n",
    "Het concept \"ouder van\" heeft ook weer een URI nodig. We gaan onze relaties definiëren in een aparte namespace, `rels` genaamd."
   ]
  },
  {
   "cell_type": "code",
   "execution_count": 13,
   "metadata": {},
   "outputs": [
    {
     "name": "stdout",
     "output_type": "stream",
     "text": [
      "@prefix attr: <https://xenive.nl/attr/> .\n",
      "@prefix familie: <https://xenive.nl/familie/> .\n",
      "@prefix foaf: <http://xmlns.com/foaf/0.1/> .\n",
      "@prefix rels: <https://xenive.nl/rels/> .\n",
      "@prefix xsd: <http://www.w3.org/2001/XMLSchema#> .\n",
      "\n",
      "familie:Noah a foaf:Person ;\n",
      "    foaf:name \"Noah\" ;\n",
      "    attr:M true ;\n",
      "    attr:V false ;\n",
      "    rels:OuderVan familie:Liam .\n",
      "\n",
      "familie:Liam a foaf:Person ;\n",
      "    foaf:name \"Liam\" ;\n",
      "    attr:M true ;\n",
      "    attr:V false .\n"
     ]
    }
   ],
   "source": [
    "# voeg Liam toe\n",
    "triples.add((f[\"Liam\"], RDF.type, FOAF.Person))\n",
    "triples.add((f[\"Liam\"], FOAF.name, Literal(\"Liam\")))\n",
    "triples.add((f[\"Liam\"], attr[\"M\"], Literal(True)))\n",
    "triples.add((f[\"Liam\"], attr[\"V\"], Literal(False)))\n",
    "\n",
    "# maak de namespace voor relaties\n",
    "rels = Namespace(\"https://xenive.nl/rels/\")\n",
    "triples.bind(\"rels\", rels)\n",
    "\n",
    "# voeg de relatie tussen Noah en Liam toe\n",
    "triples.add((f[\"Noah\"], rels[\"OuderVan\"], f[\"Liam\"]))\n",
    "\n",
    "show_triples(triples)"
   ]
  },
  {
   "cell_type": "markdown",
   "metadata": {},
   "source": [
    "### Alle relaties\n",
    "Wel, dat was best eenvoudig, toch?\n",
    "\n",
    "Let's go, nu doen we het voor alle ouderrelaties in ons netwerkje, met een functie. Om onze functie zo algemeen mogelijk te houden, gebruiken we rels:R voor onze elemenataire relatie in het netwerkje. Zo kan een relatie \"ouder van\" betekenen, maar ook \"houden van\", of nog iets heel anders."
   ]
  },
  {
   "cell_type": "code",
   "execution_count": 14,
   "metadata": {},
   "outputs": [
    {
     "name": "stdout",
     "output_type": "stream",
     "text": [
      "@prefix attr: <https://xenive.nl/attr/> .\n",
      "@prefix familie: <https://xenive.nl/familie/> .\n",
      "@prefix foaf: <http://xmlns.com/foaf/0.1/> .\n",
      "@prefix rels: <https://xenive.nl/rels/> .\n",
      "@prefix xsd: <http://www.w3.org/2001/XMLSchema#> .\n",
      "\n",
      "familie:Andre a foaf:Person ;\n",
      "    foaf:name \"Andre\" ;\n",
      "    attr:M true ;\n",
      "    attr:V false ;\n",
      "    rels:R familie:Stijn .\n",
      "\n",
      "familie:Barry a foaf:Person ;\n",
      "    foaf:name \"Barry\" ;\n",
      "    attr:M true ;\n",
      "    attr:V false ;\n",
      "    rels:R familie:Senne .\n",
      "\n",
      "familie:Fred a foaf:Person ;\n",
      "    foaf:name \"Fred\" ;\n",
      "    attr:M true ;\n",
      "    attr:V false ;\n",
      "    rels:R familie:Sandra2 .\n",
      "\n",
      "familie:Hans a foaf:Person ;\n",
      "    foaf:name \"Hans\" ;\n",
      "    attr:M true ;\n",
      "    attr:V false ;\n",
      "    rels:R familie:Nick .\n",
      "\n",
      "familie:OmaRijks a foaf:Person ;\n",
      "    foaf:name \"OmaRijks\" ;\n",
      "    attr:M false ;\n",
      "    attr:V true ;\n",
      "    rels:R familie:Harry,\n",
      "        familie:Ilse,\n",
      "        familie:Janneke,\n",
      "        familie:Jettie,\n",
      "        familie:Juultje,\n",
      "        familie:Kitty,\n",
      "        familie:Sandra .\n",
      "\n",
      "familie:Opa a foaf:Person ;\n",
      "    foaf:name \"Opa\" ;\n",
      "    attr:M true ;\n",
      "    attr:V false ;\n",
      "    rels:R familie:Harry,\n",
      "        familie:Ilse,\n",
      "        familie:Janneke,\n",
      "        familie:Jettie,\n",
      "        familie:Juultje,\n",
      "        familie:Kitty,\n",
      "        familie:Sandra .\n",
      "\n",
      "familie:Ruud a foaf:Person ;\n",
      "    foaf:name \"Ruud\" ;\n",
      "    attr:M true ;\n",
      "    attr:V false ;\n",
      "    rels:R familie:Bob,\n",
      "        familie:Marieke .\n",
      "\n",
      "familie:Theo a foaf:Person ;\n",
      "    foaf:name \"Theo\" ;\n",
      "    attr:M true ;\n",
      "    attr:V false ;\n",
      "    rels:R familie:Janneke2,\n",
      "        familie:Tjibbe .\n",
      "\n",
      "familie:Daan a foaf:Person ;\n",
      "    foaf:name \"Daan\" ;\n",
      "    attr:M true ;\n",
      "    attr:V false .\n",
      "\n",
      "familie:Emma a foaf:Person ;\n",
      "    foaf:name \"Emma\" ;\n",
      "    attr:M false ;\n",
      "    attr:V true .\n",
      "\n",
      "familie:Eva a foaf:Person ;\n",
      "    foaf:name \"Eva\" ;\n",
      "    attr:M false ;\n",
      "    attr:V true .\n",
      "\n",
      "familie:Finn a foaf:Person ;\n",
      "    foaf:name \"Finn\" ;\n",
      "    attr:M true ;\n",
      "    attr:V false .\n",
      "\n",
      "familie:James a foaf:Person ;\n",
      "    foaf:name \"James\" ;\n",
      "    attr:M true ;\n",
      "    attr:V false .\n",
      "\n",
      "familie:Jasper a foaf:Person ;\n",
      "    foaf:name \"Jasper\" ;\n",
      "    attr:M true ;\n",
      "    attr:V false .\n",
      "\n",
      "familie:Julia a foaf:Person ;\n",
      "    foaf:name \"Julia\" ;\n",
      "    attr:M false ;\n",
      "    attr:V true .\n",
      "\n",
      "familie:Julia2 a foaf:Person ;\n",
      "    foaf:name \"Julia2\" ;\n",
      "    attr:M false ;\n",
      "    attr:V true .\n",
      "\n",
      "familie:Levi a foaf:Person ;\n",
      "    foaf:name \"Levi\" ;\n",
      "    attr:M true ;\n",
      "    attr:V false .\n",
      "\n",
      "familie:Liam a foaf:Person ;\n",
      "    foaf:name \"Liam\" ;\n",
      "    attr:M true ;\n",
      "    attr:V false .\n",
      "\n",
      "familie:Liv a foaf:Person ;\n",
      "    foaf:name \"Liv\" ;\n",
      "    attr:M false ;\n",
      "    attr:V true .\n",
      "\n",
      "familie:Lucas a foaf:Person ;\n",
      "    foaf:name \"Lucas\" ;\n",
      "    attr:M true ;\n",
      "    attr:V false .\n",
      "\n",
      "familie:Luuk a foaf:Person ;\n",
      "    foaf:name \"Luuk\" ;\n",
      "    attr:M true ;\n",
      "    attr:V false .\n",
      "\n",
      "familie:Mees a foaf:Person ;\n",
      "    foaf:name \"Mees\" ;\n",
      "    attr:M true ;\n",
      "    attr:V false .\n",
      "\n",
      "familie:Melvin a foaf:Person ;\n",
      "    foaf:name \"Melvin\" ;\n",
      "    attr:M true ;\n",
      "    attr:V false ;\n",
      "    rels:R familie:Luuk,\n",
      "        familie:Mees .\n",
      "\n",
      "familie:Mila a foaf:Person ;\n",
      "    foaf:name \"Mila\" ;\n",
      "    attr:M false ;\n",
      "    attr:V true .\n",
      "\n",
      "familie:Milan a foaf:Person ;\n",
      "    foaf:name \"Milan\" ;\n",
      "    attr:M true ;\n",
      "    attr:V false ;\n",
      "    rels:R familie:Eva,\n",
      "        familie:Liv .\n",
      "\n",
      "familie:Nikolai a foaf:Person ;\n",
      "    foaf:name \"Nikolai\" ;\n",
      "    attr:M true ;\n",
      "    attr:V false ;\n",
      "    rels:R familie:Julia2,\n",
      "        familie:Mila .\n",
      "\n",
      "familie:Noah a foaf:Person ;\n",
      "    foaf:name \"Noah\" ;\n",
      "    attr:M true ;\n",
      "    attr:V false ;\n",
      "    rels:R familie:Emma,\n",
      "        familie:Liam,\n",
      "        familie:Sem .\n",
      "\n",
      "familie:Nora a foaf:Person ;\n",
      "    foaf:name \"Nora\" ;\n",
      "    attr:M false ;\n",
      "    attr:V true .\n",
      "\n",
      "familie:Sara a foaf:Person ;\n",
      "    foaf:name \"Sara\" ;\n",
      "    attr:M false ;\n",
      "    attr:V true .\n",
      "\n",
      "familie:Sem a foaf:Person ;\n",
      "    foaf:name \"Sem\" ;\n",
      "    attr:M true ;\n",
      "    attr:V false .\n",
      "\n",
      "familie:Sophie a foaf:Person ;\n",
      "    foaf:name \"Sophie\" ;\n",
      "    attr:M false ;\n",
      "    attr:V true .\n",
      "\n",
      "familie:Stefanie a foaf:Person ;\n",
      "    foaf:name \"Stefanie\" ;\n",
      "    attr:M false ;\n",
      "    attr:V true ;\n",
      "    rels:R familie:Senne .\n",
      "\n",
      "familie:Sterre a foaf:Person ;\n",
      "    foaf:name \"Sterre\" ;\n",
      "    attr:M false ;\n",
      "    attr:V true .\n",
      "\n",
      "familie:Tess a foaf:Person ;\n",
      "    foaf:name \"Tess\" ;\n",
      "    attr:M false ;\n",
      "    attr:V true .\n",
      "\n",
      "familie:Yara a foaf:Person ;\n",
      "    foaf:name \"Yara\" ;\n",
      "    attr:M false ;\n",
      "    attr:V true .\n",
      "\n",
      "familie:Zoe a foaf:Person ;\n",
      "    foaf:name \"Zoe\" ;\n",
      "    attr:M false ;\n",
      "    attr:V true .\n",
      "\n",
      "familie:Bob a foaf:Person ;\n",
      "    foaf:name \"Bob\" ;\n",
      "    attr:M true ;\n",
      "    attr:V false ;\n",
      "    rels:R familie:James,\n",
      "        familie:Jasper .\n",
      "\n",
      "familie:Harry a foaf:Person ;\n",
      "    foaf:name \"Harry\" ;\n",
      "    attr:M true ;\n",
      "    attr:V false ;\n",
      "    rels:R familie:Nora,\n",
      "        familie:Yara .\n",
      "\n",
      "familie:Ilse a foaf:Person ;\n",
      "    foaf:name \"Ilse\" ;\n",
      "    attr:M false ;\n",
      "    attr:V true ;\n",
      "    rels:R familie:Janneke2,\n",
      "        familie:Tjibbe .\n",
      "\n",
      "familie:Janneke a foaf:Person ;\n",
      "    foaf:name \"Janneke\" ;\n",
      "    attr:M false ;\n",
      "    attr:V true ;\n",
      "    rels:R familie:Bob,\n",
      "        familie:Marieke .\n",
      "\n",
      "familie:Janneke2 a foaf:Person ;\n",
      "    foaf:name \"Janneke2\" ;\n",
      "    attr:M false ;\n",
      "    attr:V true ;\n",
      "    rels:R familie:Sterre .\n",
      "\n",
      "familie:Jettie a foaf:Person ;\n",
      "    foaf:name \"Jettie\" ;\n",
      "    attr:M false ;\n",
      "    attr:V true ;\n",
      "    rels:R familie:Melvin,\n",
      "        familie:Stefanie .\n",
      "\n",
      "familie:Juultje a foaf:Person ;\n",
      "    foaf:name \"Juultje\" ;\n",
      "    attr:M false ;\n",
      "    attr:V true ;\n",
      "    rels:R familie:Sandra2 .\n",
      "\n",
      "familie:Kitty a foaf:Person ;\n",
      "    foaf:name \"Kitty\" ;\n",
      "    attr:M false ;\n",
      "    attr:V true ;\n",
      "    rels:R familie:Nick .\n",
      "\n",
      "familie:Marieke a foaf:Person ;\n",
      "    foaf:name \"Marieke\" ;\n",
      "    attr:M false ;\n",
      "    attr:V true ;\n",
      "    rels:R familie:Nikolai,\n",
      "        familie:Noah .\n",
      "\n",
      "familie:Nick a foaf:Person ;\n",
      "    foaf:name \"Nick\" ;\n",
      "    attr:M true ;\n",
      "    attr:V false ;\n",
      "    rels:R familie:Sophie,\n",
      "        familie:Zoe .\n",
      "\n",
      "familie:Sandra a foaf:Person ;\n",
      "    foaf:name \"Sandra\" ;\n",
      "    attr:M false ;\n",
      "    attr:V true ;\n",
      "    rels:R familie:Stijn .\n",
      "\n",
      "familie:Sandra2 a foaf:Person ;\n",
      "    foaf:name \"Sandra2\" ;\n",
      "    attr:M false ;\n",
      "    attr:V true ;\n",
      "    rels:R familie:Julia,\n",
      "        familie:Milan .\n",
      "\n",
      "familie:Senne a foaf:Person ;\n",
      "    foaf:name \"Senne\" ;\n",
      "    attr:M true ;\n",
      "    attr:V false ;\n",
      "    rels:R familie:Finn,\n",
      "        familie:Levi,\n",
      "        familie:Sara .\n",
      "\n",
      "familie:Stijn a foaf:Person ;\n",
      "    foaf:name \"Stijn\" ;\n",
      "    attr:M true ;\n",
      "    attr:V false ;\n",
      "    rels:R familie:Daan,\n",
      "        familie:Lucas,\n",
      "        familie:Tess .\n",
      "\n",
      "familie:Tjibbe a foaf:Person ;\n",
      "    foaf:name \"Tjibbe\" ;\n",
      "    attr:M true ;\n",
      "    attr:V false .\n"
     ]
    }
   ],
   "source": [
    "def add_relations(G, graph, ns_name):\n",
    "    # weer even onze namespace terughalen\n",
    "    ns = Namespace(\"https://xenive.nl/\" + ns_name + \"/\")\n",
    "    \n",
    "    # maak de rels namespace aan\n",
    "    rels = Namespace(\"https://xenive.nl/rels/\")\n",
    "    graph.bind(\"rels\", rels)\n",
    "    \n",
    "    # loop over alle edges\n",
    "    for edge in G.edges:\n",
    "        # voeg de relatie toe\n",
    "        graph.add((ns[edge[0]], rels[\"R\"], ns[edge[1]]))\n",
    "    \n",
    "    return graph\n",
    "\n",
    "# weer testen!\n",
    "familie = add_relations(G, familie, \"familie\")\n",
    "\n",
    "show_triples(familie)"
   ]
  },
  {
   "cell_type": "markdown",
   "metadata": {},
   "source": [
    "### Samenvoegen\n",
    "Yes! We hebben nu onze complete `Graph`. Laten we alleen nog even een functie maken die een netwerk in één keer omzet naar een RDF Graph.\n",
    "\n",
    "Omdat we deze ook willen gebruiken voor andere dingen dan families, noemen we de namespace \"mensen\"."
   ]
  },
  {
   "cell_type": "code",
   "execution_count": 15,
   "metadata": {},
   "outputs": [
    {
     "name": "stdout",
     "output_type": "stream",
     "text": [
      "@prefix attr: <https://xenive.nl/attr/> .\n",
      "@prefix foaf: <http://xmlns.com/foaf/0.1/> .\n",
      "@prefix mensen: <https://xenive.nl/mensen/> .\n",
      "@prefix rels: <https://xenive.nl/rels/> .\n",
      "@prefix xsd: <http://www.w3.org/2001/XMLSchema#> .\n",
      "\n",
      "mensen:Andre a foaf:Person ;\n",
      "    foaf:name \"Andre\" ;\n",
      "    attr:M true ;\n",
      "    attr:V false ;\n",
      "    rels:R mensen:Stijn .\n",
      "\n",
      "mensen:Barry a foaf:Person ;\n",
      "    foaf:name \"Barry\" ;\n",
      "    attr:M true ;\n",
      "    attr:V false ;\n",
      "    rels:R mensen:Senne .\n",
      "\n",
      "mensen:Fred a foaf:Person ;\n",
      "    foaf:name \"Fred\" ;\n",
      "    attr:M true ;\n",
      "    attr:V false ;\n",
      "    rels:R mensen:Sandra2 .\n",
      "\n",
      "mensen:Hans a foaf:Person ;\n",
      "    foaf:name \"Hans\" ;\n",
      "    attr:M true ;\n",
      "    attr:V false ;\n",
      "    rels:R mensen:Nick .\n",
      "\n",
      "mensen:OmaRijks a foaf:Person ;\n",
      "    foaf:name \"OmaRijks\" ;\n",
      "    attr:M false ;\n",
      "    attr:V true ;\n",
      "    rels:R mensen:Harry,\n",
      "        mensen:Ilse,\n",
      "        mensen:Janneke,\n",
      "        mensen:Jettie,\n",
      "        mensen:Juultje,\n",
      "        mensen:Kitty,\n",
      "        mensen:Sandra .\n",
      "\n",
      "mensen:Opa a foaf:Person ;\n",
      "    foaf:name \"Opa\" ;\n",
      "    attr:M true ;\n",
      "    attr:V false ;\n",
      "    rels:R mensen:Harry,\n",
      "        mensen:Ilse,\n",
      "        mensen:Janneke,\n",
      "        mensen:Jettie,\n",
      "        mensen:Juultje,\n",
      "        mensen:Kitty,\n",
      "        mensen:Sandra .\n",
      "\n",
      "mensen:Ruud a foaf:Person ;\n",
      "    foaf:name \"Ruud\" ;\n",
      "    attr:M true ;\n",
      "    attr:V false ;\n",
      "    rels:R mensen:Bob,\n",
      "        mensen:Marieke .\n",
      "\n",
      "mensen:Theo a foaf:Person ;\n",
      "    foaf:name \"Theo\" ;\n",
      "    attr:M true ;\n",
      "    attr:V false ;\n",
      "    rels:R mensen:Janneke2,\n",
      "        mensen:Tjibbe .\n",
      "\n",
      "mensen:Daan a foaf:Person ;\n",
      "    foaf:name \"Daan\" ;\n",
      "    attr:M true ;\n",
      "    attr:V false .\n",
      "\n",
      "mensen:Emma a foaf:Person ;\n",
      "    foaf:name \"Emma\" ;\n",
      "    attr:M false ;\n",
      "    attr:V true .\n",
      "\n",
      "mensen:Eva a foaf:Person ;\n",
      "    foaf:name \"Eva\" ;\n",
      "    attr:M false ;\n",
      "    attr:V true .\n",
      "\n",
      "mensen:Finn a foaf:Person ;\n",
      "    foaf:name \"Finn\" ;\n",
      "    attr:M true ;\n",
      "    attr:V false .\n",
      "\n",
      "mensen:James a foaf:Person ;\n",
      "    foaf:name \"James\" ;\n",
      "    attr:M true ;\n",
      "    attr:V false .\n",
      "\n",
      "mensen:Jasper a foaf:Person ;\n",
      "    foaf:name \"Jasper\" ;\n",
      "    attr:M true ;\n",
      "    attr:V false .\n",
      "\n",
      "mensen:Julia a foaf:Person ;\n",
      "    foaf:name \"Julia\" ;\n",
      "    attr:M false ;\n",
      "    attr:V true .\n",
      "\n",
      "mensen:Julia2 a foaf:Person ;\n",
      "    foaf:name \"Julia2\" ;\n",
      "    attr:M false ;\n",
      "    attr:V true .\n",
      "\n",
      "mensen:Levi a foaf:Person ;\n",
      "    foaf:name \"Levi\" ;\n",
      "    attr:M true ;\n",
      "    attr:V false .\n",
      "\n",
      "mensen:Liam a foaf:Person ;\n",
      "    foaf:name \"Liam\" ;\n",
      "    attr:M true ;\n",
      "    attr:V false .\n",
      "\n",
      "mensen:Liv a foaf:Person ;\n",
      "    foaf:name \"Liv\" ;\n",
      "    attr:M false ;\n",
      "    attr:V true .\n",
      "\n",
      "mensen:Lucas a foaf:Person ;\n",
      "    foaf:name \"Lucas\" ;\n",
      "    attr:M true ;\n",
      "    attr:V false .\n",
      "\n",
      "mensen:Luuk a foaf:Person ;\n",
      "    foaf:name \"Luuk\" ;\n",
      "    attr:M true ;\n",
      "    attr:V false .\n",
      "\n",
      "mensen:Mees a foaf:Person ;\n",
      "    foaf:name \"Mees\" ;\n",
      "    attr:M true ;\n",
      "    attr:V false .\n",
      "\n",
      "mensen:Melvin a foaf:Person ;\n",
      "    foaf:name \"Melvin\" ;\n",
      "    attr:M true ;\n",
      "    attr:V false ;\n",
      "    rels:R mensen:Luuk,\n",
      "        mensen:Mees .\n",
      "\n",
      "mensen:Mila a foaf:Person ;\n",
      "    foaf:name \"Mila\" ;\n",
      "    attr:M false ;\n",
      "    attr:V true .\n",
      "\n",
      "mensen:Milan a foaf:Person ;\n",
      "    foaf:name \"Milan\" ;\n",
      "    attr:M true ;\n",
      "    attr:V false ;\n",
      "    rels:R mensen:Eva,\n",
      "        mensen:Liv .\n",
      "\n",
      "mensen:Nikolai a foaf:Person ;\n",
      "    foaf:name \"Nikolai\" ;\n",
      "    attr:M true ;\n",
      "    attr:V false ;\n",
      "    rels:R mensen:Julia2,\n",
      "        mensen:Mila .\n",
      "\n",
      "mensen:Noah a foaf:Person ;\n",
      "    foaf:name \"Noah\" ;\n",
      "    attr:M true ;\n",
      "    attr:V false ;\n",
      "    rels:R mensen:Emma,\n",
      "        mensen:Liam,\n",
      "        mensen:Sem .\n",
      "\n",
      "mensen:Nora a foaf:Person ;\n",
      "    foaf:name \"Nora\" ;\n",
      "    attr:M false ;\n",
      "    attr:V true .\n",
      "\n",
      "mensen:Sara a foaf:Person ;\n",
      "    foaf:name \"Sara\" ;\n",
      "    attr:M false ;\n",
      "    attr:V true .\n",
      "\n",
      "mensen:Sem a foaf:Person ;\n",
      "    foaf:name \"Sem\" ;\n",
      "    attr:M true ;\n",
      "    attr:V false .\n",
      "\n",
      "mensen:Sophie a foaf:Person ;\n",
      "    foaf:name \"Sophie\" ;\n",
      "    attr:M false ;\n",
      "    attr:V true .\n",
      "\n",
      "mensen:Stefanie a foaf:Person ;\n",
      "    foaf:name \"Stefanie\" ;\n",
      "    attr:M false ;\n",
      "    attr:V true ;\n",
      "    rels:R mensen:Senne .\n",
      "\n",
      "mensen:Sterre a foaf:Person ;\n",
      "    foaf:name \"Sterre\" ;\n",
      "    attr:M false ;\n",
      "    attr:V true .\n",
      "\n",
      "mensen:Tess a foaf:Person ;\n",
      "    foaf:name \"Tess\" ;\n",
      "    attr:M false ;\n",
      "    attr:V true .\n",
      "\n",
      "mensen:Yara a foaf:Person ;\n",
      "    foaf:name \"Yara\" ;\n",
      "    attr:M false ;\n",
      "    attr:V true .\n",
      "\n",
      "mensen:Zoe a foaf:Person ;\n",
      "    foaf:name \"Zoe\" ;\n",
      "    attr:M false ;\n",
      "    attr:V true .\n",
      "\n",
      "mensen:Bob a foaf:Person ;\n",
      "    foaf:name \"Bob\" ;\n",
      "    attr:M true ;\n",
      "    attr:V false ;\n",
      "    rels:R mensen:James,\n",
      "        mensen:Jasper .\n",
      "\n",
      "mensen:Harry a foaf:Person ;\n",
      "    foaf:name \"Harry\" ;\n",
      "    attr:M true ;\n",
      "    attr:V false ;\n",
      "    rels:R mensen:Nora,\n",
      "        mensen:Yara .\n",
      "\n",
      "mensen:Ilse a foaf:Person ;\n",
      "    foaf:name \"Ilse\" ;\n",
      "    attr:M false ;\n",
      "    attr:V true ;\n",
      "    rels:R mensen:Janneke2,\n",
      "        mensen:Tjibbe .\n",
      "\n",
      "mensen:Janneke a foaf:Person ;\n",
      "    foaf:name \"Janneke\" ;\n",
      "    attr:M false ;\n",
      "    attr:V true ;\n",
      "    rels:R mensen:Bob,\n",
      "        mensen:Marieke .\n",
      "\n",
      "mensen:Janneke2 a foaf:Person ;\n",
      "    foaf:name \"Janneke2\" ;\n",
      "    attr:M false ;\n",
      "    attr:V true ;\n",
      "    rels:R mensen:Sterre .\n",
      "\n",
      "mensen:Jettie a foaf:Person ;\n",
      "    foaf:name \"Jettie\" ;\n",
      "    attr:M false ;\n",
      "    attr:V true ;\n",
      "    rels:R mensen:Melvin,\n",
      "        mensen:Stefanie .\n",
      "\n",
      "mensen:Juultje a foaf:Person ;\n",
      "    foaf:name \"Juultje\" ;\n",
      "    attr:M false ;\n",
      "    attr:V true ;\n",
      "    rels:R mensen:Sandra2 .\n",
      "\n",
      "mensen:Kitty a foaf:Person ;\n",
      "    foaf:name \"Kitty\" ;\n",
      "    attr:M false ;\n",
      "    attr:V true ;\n",
      "    rels:R mensen:Nick .\n",
      "\n",
      "mensen:Marieke a foaf:Person ;\n",
      "    foaf:name \"Marieke\" ;\n",
      "    attr:M false ;\n",
      "    attr:V true ;\n",
      "    rels:R mensen:Nikolai,\n",
      "        mensen:Noah .\n",
      "\n",
      "mensen:Nick a foaf:Person ;\n",
      "    foaf:name \"Nick\" ;\n",
      "    attr:M true ;\n",
      "    attr:V false ;\n",
      "    rels:R mensen:Sophie,\n",
      "        mensen:Zoe .\n",
      "\n",
      "mensen:Sandra a foaf:Person ;\n",
      "    foaf:name \"Sandra\" ;\n",
      "    attr:M false ;\n",
      "    attr:V true ;\n",
      "    rels:R mensen:Stijn .\n",
      "\n",
      "mensen:Sandra2 a foaf:Person ;\n",
      "    foaf:name \"Sandra2\" ;\n",
      "    attr:M false ;\n",
      "    attr:V true ;\n",
      "    rels:R mensen:Julia,\n",
      "        mensen:Milan .\n",
      "\n",
      "mensen:Senne a foaf:Person ;\n",
      "    foaf:name \"Senne\" ;\n",
      "    attr:M true ;\n",
      "    attr:V false ;\n",
      "    rels:R mensen:Finn,\n",
      "        mensen:Levi,\n",
      "        mensen:Sara .\n",
      "\n",
      "mensen:Stijn a foaf:Person ;\n",
      "    foaf:name \"Stijn\" ;\n",
      "    attr:M true ;\n",
      "    attr:V false ;\n",
      "    rels:R mensen:Daan,\n",
      "        mensen:Lucas,\n",
      "        mensen:Tess .\n",
      "\n",
      "mensen:Tjibbe a foaf:Person ;\n",
      "    foaf:name \"Tjibbe\" ;\n",
      "    attr:M true ;\n",
      "    attr:V false .\n"
     ]
    }
   ],
   "source": [
    "def networkx2RDF(G):\n",
    "    # voeg alle nodes toe\n",
    "    graph = nodes2RDF(G, \"mensen\")\n",
    "    \n",
    "    # voeg alle relaties toe\n",
    "    graph = add_relations(G, graph, \"mensen\")\n",
    "    \n",
    "    return graph\n",
    "\n",
    "familie = networkx2RDF(G)\n",
    "\n",
    "show_triples(familie)"
   ]
  },
  {
   "cell_type": "markdown",
   "metadata": {},
   "source": [
    "## Query's\n",
    "Nu we een volledige triple store hebben met alle personen en de relaties daartussen, gaan we met SPARQL query's de database bevragen.\n",
    "\n",
    "### Eerst een eenvoudige vraag...\n",
    "Noah zit ook in het familie netwerk dat we net gemaakt hebben. Laten we even kijken of we kunnen vinden van wie Noah allemaal ouder is."
   ]
  },
  {
   "cell_type": "code",
   "execution_count": 16,
   "metadata": {},
   "outputs": [
    {
     "data": {
      "text/plain": [
       "[(rdflib.term.URIRef('https://xenive.nl/mensen/Sem')),\n",
       " (rdflib.term.URIRef('https://xenive.nl/mensen/Liam')),\n",
       " (rdflib.term.URIRef('https://xenive.nl/mensen/Emma'))]"
      ]
     },
     "execution_count": 16,
     "metadata": {},
     "output_type": "execute_result"
    }
   ],
   "source": [
    "query = \"\"\" \n",
    "    SELECT DISTINCT ?a \n",
    "    WHERE {\n",
    "        mensen:Noah rels:R ?a .\n",
    "    }\n",
    "\"\"\"\n",
    "\n",
    "qres = familie.query(query)\n",
    "list(qres)"
   ]
  },
  {
   "cell_type": "markdown",
   "metadata": {},
   "source": [
    "Daar is Liam weer... Maar in het volledige netwerkje heeft Noah nog twee kinderen: Sem en Emma.\n",
    "\n",
    "### Iets lastiger...\n",
    "Aan de hand van de namen vermoeden we dat Sem een zoon is en Emma een dochter, maar laten we dat eens checken. Nu halen we alleen alle mannelijke kinderen van Noah op uit de database."
   ]
  },
  {
   "cell_type": "code",
   "execution_count": 17,
   "metadata": {},
   "outputs": [
    {
     "data": {
      "text/plain": [
       "[(rdflib.term.URIRef('https://xenive.nl/mensen/Sem')),\n",
       " (rdflib.term.URIRef('https://xenive.nl/mensen/Liam'))]"
      ]
     },
     "execution_count": 17,
     "metadata": {},
     "output_type": "execute_result"
    }
   ],
   "source": [
    "query = \"\"\" \n",
    "    SELECT DISTINCT ?a \n",
    "    WHERE {\n",
    "        mensen:Noah rels:R ?a .\n",
    "        ?a attr:M true .\n",
    "    }\n",
    "\"\"\"\n",
    "\n",
    "qres = familie.query(query)\n",
    "list(qres)"
   ]
  },
  {
   "cell_type": "markdown",
   "metadata": {},
   "source": [
    "### Familierelaties\n",
    "We weten nu hoe we van één persoon kunnen uitzoeken wie de zoons en dochters zijn. Wat als we dat voor iedereen willen doen? In onderstaand voorbeeld is `x` de zoon van `y`."
   ]
  },
  {
   "cell_type": "code",
   "execution_count": 18,
   "metadata": {},
   "outputs": [
    {
     "data": {
      "text/plain": [
       "[(rdflib.term.URIRef('https://xenive.nl/mensen/Jasper'),\n",
       "  rdflib.term.URIRef('https://xenive.nl/mensen/Bob')),\n",
       " (rdflib.term.URIRef('https://xenive.nl/mensen/Luuk'),\n",
       "  rdflib.term.URIRef('https://xenive.nl/mensen/Melvin'))]"
      ]
     },
     "execution_count": 18,
     "metadata": {},
     "output_type": "execute_result"
    }
   ],
   "source": [
    "query = \"\"\" \n",
    "    SELECT DISTINCT ?x ?y \n",
    "    WHERE {\n",
    "        ?y rels:R ?x .\n",
    "        ?x attr:M true .\n",
    "    }\n",
    "\"\"\"\n",
    "\n",
    "qres = familie.query(query)\n",
    "list(qres)[:2]"
   ]
  },
  {
   "cell_type": "markdown",
   "metadata": {},
   "source": [
    "### Afgeleide relaties toevoegen\n",
    "Nu hebben we allemaal tuples `(x,y)`, waarbij `x` de zoon is van `y`. Dit willen we nu voor alle familierelaties doen. Maar sommige familierelaties zijn gedefiniëerd in termen van andere relaties. Daarom voegen we telkens de afgleide relaties ook toe aan onze `Graph`.\n",
    "\n",
    "Hieronder maken we een functie waar een `Graph`, een query en een `URIRef` voor het type relatie in gaat. Daaruit volgt een aangepaste `Graph` met onze nieuw gedefiniëerde relatie erin. "
   ]
  },
  {
   "cell_type": "code",
   "execution_count": 19,
   "metadata": {},
   "outputs": [
    {
     "name": "stdout",
     "output_type": "stream",
     "text": [
      "@prefix attr: <https://xenive.nl/attr/> .\n",
      "@prefix foaf: <http://xmlns.com/foaf/0.1/> .\n",
      "@prefix mensen: <https://xenive.nl/mensen/> .\n",
      "@prefix rels: <https://xenive.nl/rels/> .\n",
      "@prefix xsd: <http://www.w3.org/2001/XMLSchema#> .\n",
      "\n",
      "mensen:Fred a foaf:Person ;\n",
      "    foaf:name \"Fred\" ;\n",
      "    attr:M true ;\n",
      "    attr:V false ;\n",
      "    rels:R mensen:Sandra2 .\n",
      "\n",
      "mensen:Andre a foaf:Person ;\n",
      "    foaf:name \"Andre\" ;\n",
      "    attr:M true ;\n",
      "    attr:V false ;\n",
      "    rels:R mensen:Stijn .\n",
      "\n",
      "mensen:Barry a foaf:Person ;\n",
      "    foaf:name \"Barry\" ;\n",
      "    attr:M true ;\n",
      "    attr:V false ;\n",
      "    rels:R mensen:Senne .\n",
      "\n",
      "mensen:Daan a foaf:Person ;\n",
      "    foaf:name \"Daan\" ;\n",
      "    attr:M true ;\n",
      "    attr:V false ;\n",
      "    rels:zoon mensen:Stijn .\n",
      "\n",
      "mensen:Emma a foaf:Person ;\n",
      "    foaf:name \"Emma\" ;\n",
      "    attr:M false ;\n",
      "    attr:V true .\n",
      "\n",
      "mensen:Eva a foaf:Person ;\n",
      "    foaf:name \"Eva\" ;\n",
      "    attr:M false ;\n",
      "    attr:V true .\n",
      "\n",
      "mensen:Finn a foaf:Person ;\n",
      "    foaf:name \"Finn\" ;\n",
      "    attr:M true ;\n",
      "    attr:V false ;\n",
      "    rels:zoon mensen:Senne .\n",
      "\n",
      "mensen:Hans a foaf:Person ;\n",
      "    foaf:name \"Hans\" ;\n",
      "    attr:M true ;\n",
      "    attr:V false ;\n",
      "    rels:R mensen:Nick .\n",
      "\n",
      "mensen:James a foaf:Person ;\n",
      "    foaf:name \"James\" ;\n",
      "    attr:M true ;\n",
      "    attr:V false ;\n",
      "    rels:zoon mensen:Bob .\n",
      "\n",
      "mensen:Jasper a foaf:Person ;\n",
      "    foaf:name \"Jasper\" ;\n",
      "    attr:M true ;\n",
      "    attr:V false ;\n",
      "    rels:zoon mensen:Bob .\n",
      "\n",
      "mensen:Julia a foaf:Person ;\n",
      "    foaf:name \"Julia\" ;\n",
      "    attr:M false ;\n",
      "    attr:V true .\n",
      "\n",
      "mensen:Julia2 a foaf:Person ;\n",
      "    foaf:name \"Julia2\" ;\n",
      "    attr:M false ;\n",
      "    attr:V true .\n",
      "\n",
      "mensen:Levi a foaf:Person ;\n",
      "    foaf:name \"Levi\" ;\n",
      "    attr:M true ;\n",
      "    attr:V false ;\n",
      "    rels:zoon mensen:Senne .\n",
      "\n",
      "mensen:Liam a foaf:Person ;\n",
      "    foaf:name \"Liam\" ;\n",
      "    attr:M true ;\n",
      "    attr:V false ;\n",
      "    rels:zoon mensen:Noah .\n",
      "\n",
      "mensen:Liv a foaf:Person ;\n",
      "    foaf:name \"Liv\" ;\n",
      "    attr:M false ;\n",
      "    attr:V true .\n",
      "\n",
      "mensen:Lucas a foaf:Person ;\n",
      "    foaf:name \"Lucas\" ;\n",
      "    attr:M true ;\n",
      "    attr:V false ;\n",
      "    rels:zoon mensen:Stijn .\n",
      "\n",
      "mensen:Luuk a foaf:Person ;\n",
      "    foaf:name \"Luuk\" ;\n",
      "    attr:M true ;\n",
      "    attr:V false ;\n",
      "    rels:zoon mensen:Melvin .\n",
      "\n",
      "mensen:Mees a foaf:Person ;\n",
      "    foaf:name \"Mees\" ;\n",
      "    attr:M true ;\n",
      "    attr:V false ;\n",
      "    rels:zoon mensen:Melvin .\n",
      "\n",
      "mensen:Mila a foaf:Person ;\n",
      "    foaf:name \"Mila\" ;\n",
      "    attr:M false ;\n",
      "    attr:V true .\n",
      "\n",
      "mensen:Milan a foaf:Person ;\n",
      "    foaf:name \"Milan\" ;\n",
      "    attr:M true ;\n",
      "    attr:V false ;\n",
      "    rels:R mensen:Eva,\n",
      "        mensen:Liv ;\n",
      "    rels:zoon mensen:Sandra2 .\n",
      "\n",
      "mensen:Nikolai a foaf:Person ;\n",
      "    foaf:name \"Nikolai\" ;\n",
      "    attr:M true ;\n",
      "    attr:V false ;\n",
      "    rels:R mensen:Julia2,\n",
      "        mensen:Mila ;\n",
      "    rels:zoon mensen:Marieke .\n",
      "\n",
      "mensen:Nora a foaf:Person ;\n",
      "    foaf:name \"Nora\" ;\n",
      "    attr:M false ;\n",
      "    attr:V true .\n",
      "\n",
      "mensen:OmaRijks a foaf:Person ;\n",
      "    foaf:name \"OmaRijks\" ;\n",
      "    attr:M false ;\n",
      "    attr:V true ;\n",
      "    rels:R mensen:Harry,\n",
      "        mensen:Ilse,\n",
      "        mensen:Janneke,\n",
      "        mensen:Jettie,\n",
      "        mensen:Juultje,\n",
      "        mensen:Kitty,\n",
      "        mensen:Sandra .\n",
      "\n",
      "mensen:Opa a foaf:Person ;\n",
      "    foaf:name \"Opa\" ;\n",
      "    attr:M true ;\n",
      "    attr:V false ;\n",
      "    rels:R mensen:Harry,\n",
      "        mensen:Ilse,\n",
      "        mensen:Janneke,\n",
      "        mensen:Jettie,\n",
      "        mensen:Juultje,\n",
      "        mensen:Kitty,\n",
      "        mensen:Sandra .\n",
      "\n",
      "mensen:Ruud a foaf:Person ;\n",
      "    foaf:name \"Ruud\" ;\n",
      "    attr:M true ;\n",
      "    attr:V false ;\n",
      "    rels:R mensen:Bob,\n",
      "        mensen:Marieke .\n",
      "\n",
      "mensen:Sara a foaf:Person ;\n",
      "    foaf:name \"Sara\" ;\n",
      "    attr:M false ;\n",
      "    attr:V true .\n",
      "\n",
      "mensen:Sem a foaf:Person ;\n",
      "    foaf:name \"Sem\" ;\n",
      "    attr:M true ;\n",
      "    attr:V false ;\n",
      "    rels:zoon mensen:Noah .\n",
      "\n",
      "mensen:Sophie a foaf:Person ;\n",
      "    foaf:name \"Sophie\" ;\n",
      "    attr:M false ;\n",
      "    attr:V true .\n",
      "\n",
      "mensen:Sterre a foaf:Person ;\n",
      "    foaf:name \"Sterre\" ;\n",
      "    attr:M false ;\n",
      "    attr:V true .\n",
      "\n",
      "mensen:Tess a foaf:Person ;\n",
      "    foaf:name \"Tess\" ;\n",
      "    attr:M false ;\n",
      "    attr:V true .\n",
      "\n",
      "mensen:Theo a foaf:Person ;\n",
      "    foaf:name \"Theo\" ;\n",
      "    attr:M true ;\n",
      "    attr:V false ;\n",
      "    rels:R mensen:Janneke2,\n",
      "        mensen:Tjibbe .\n",
      "\n",
      "mensen:Yara a foaf:Person ;\n",
      "    foaf:name \"Yara\" ;\n",
      "    attr:M false ;\n",
      "    attr:V true .\n",
      "\n",
      "mensen:Zoe a foaf:Person ;\n",
      "    foaf:name \"Zoe\" ;\n",
      "    attr:M false ;\n",
      "    attr:V true .\n",
      "\n",
      "mensen:Harry a foaf:Person ;\n",
      "    foaf:name \"Harry\" ;\n",
      "    attr:M true ;\n",
      "    attr:V false ;\n",
      "    rels:R mensen:Nora,\n",
      "        mensen:Yara ;\n",
      "    rels:zoon mensen:OmaRijks,\n",
      "        mensen:Opa .\n",
      "\n",
      "mensen:Janneke2 a foaf:Person ;\n",
      "    foaf:name \"Janneke2\" ;\n",
      "    attr:M false ;\n",
      "    attr:V true ;\n",
      "    rels:R mensen:Sterre .\n",
      "\n",
      "mensen:Juultje a foaf:Person ;\n",
      "    foaf:name \"Juultje\" ;\n",
      "    attr:M false ;\n",
      "    attr:V true ;\n",
      "    rels:R mensen:Sandra2 .\n",
      "\n",
      "mensen:Nick a foaf:Person ;\n",
      "    foaf:name \"Nick\" ;\n",
      "    attr:M true ;\n",
      "    attr:V false ;\n",
      "    rels:R mensen:Sophie,\n",
      "        mensen:Zoe ;\n",
      "    rels:zoon mensen:Hans,\n",
      "        mensen:Kitty .\n",
      "\n",
      "mensen:Stefanie a foaf:Person ;\n",
      "    foaf:name \"Stefanie\" ;\n",
      "    attr:M false ;\n",
      "    attr:V true ;\n",
      "    rels:R mensen:Senne .\n",
      "\n",
      "mensen:Tjibbe a foaf:Person ;\n",
      "    foaf:name \"Tjibbe\" ;\n",
      "    attr:M true ;\n",
      "    attr:V false ;\n",
      "    rels:zoon mensen:Ilse,\n",
      "        mensen:Theo .\n",
      "\n",
      "mensen:Ilse a foaf:Person ;\n",
      "    foaf:name \"Ilse\" ;\n",
      "    attr:M false ;\n",
      "    attr:V true ;\n",
      "    rels:R mensen:Janneke2,\n",
      "        mensen:Tjibbe .\n",
      "\n",
      "mensen:Janneke a foaf:Person ;\n",
      "    foaf:name \"Janneke\" ;\n",
      "    attr:M false ;\n",
      "    attr:V true ;\n",
      "    rels:R mensen:Bob,\n",
      "        mensen:Marieke .\n",
      "\n",
      "mensen:Jettie a foaf:Person ;\n",
      "    foaf:name \"Jettie\" ;\n",
      "    attr:M false ;\n",
      "    attr:V true ;\n",
      "    rels:R mensen:Melvin,\n",
      "        mensen:Stefanie .\n",
      "\n",
      "mensen:Kitty a foaf:Person ;\n",
      "    foaf:name \"Kitty\" ;\n",
      "    attr:M false ;\n",
      "    attr:V true ;\n",
      "    rels:R mensen:Nick .\n",
      "\n",
      "mensen:Melvin a foaf:Person ;\n",
      "    foaf:name \"Melvin\" ;\n",
      "    attr:M true ;\n",
      "    attr:V false ;\n",
      "    rels:R mensen:Luuk,\n",
      "        mensen:Mees ;\n",
      "    rels:zoon mensen:Jettie .\n",
      "\n",
      "mensen:Noah a foaf:Person ;\n",
      "    foaf:name \"Noah\" ;\n",
      "    attr:M true ;\n",
      "    attr:V false ;\n",
      "    rels:R mensen:Emma,\n",
      "        mensen:Liam,\n",
      "        mensen:Sem ;\n",
      "    rels:zoon mensen:Marieke .\n",
      "\n",
      "mensen:Sandra a foaf:Person ;\n",
      "    foaf:name \"Sandra\" ;\n",
      "    attr:M false ;\n",
      "    attr:V true ;\n",
      "    rels:R mensen:Stijn .\n",
      "\n",
      "mensen:Sandra2 a foaf:Person ;\n",
      "    foaf:name \"Sandra2\" ;\n",
      "    attr:M false ;\n",
      "    attr:V true ;\n",
      "    rels:R mensen:Julia,\n",
      "        mensen:Milan .\n",
      "\n",
      "mensen:Bob a foaf:Person ;\n",
      "    foaf:name \"Bob\" ;\n",
      "    attr:M true ;\n",
      "    attr:V false ;\n",
      "    rels:R mensen:James,\n",
      "        mensen:Jasper ;\n",
      "    rels:zoon mensen:Janneke,\n",
      "        mensen:Ruud .\n",
      "\n",
      "mensen:Marieke a foaf:Person ;\n",
      "    foaf:name \"Marieke\" ;\n",
      "    attr:M false ;\n",
      "    attr:V true ;\n",
      "    rels:R mensen:Nikolai,\n",
      "        mensen:Noah .\n",
      "\n",
      "mensen:Senne a foaf:Person ;\n",
      "    foaf:name \"Senne\" ;\n",
      "    attr:M true ;\n",
      "    attr:V false ;\n",
      "    rels:R mensen:Finn,\n",
      "        mensen:Levi,\n",
      "        mensen:Sara ;\n",
      "    rels:zoon mensen:Barry,\n",
      "        mensen:Stefanie .\n",
      "\n",
      "mensen:Stijn a foaf:Person ;\n",
      "    foaf:name \"Stijn\" ;\n",
      "    attr:M true ;\n",
      "    attr:V false ;\n",
      "    rels:R mensen:Daan,\n",
      "        mensen:Lucas,\n",
      "        mensen:Tess ;\n",
      "    rels:zoon mensen:Andre,\n",
      "        mensen:Sandra .\n"
     ]
    }
   ],
   "source": [
    "def define_relationship(graph, query, uri):\n",
    "    # draai de query\n",
    "    qres = graph.query(query)\n",
    "    \n",
    "    # loop door de resultaten\n",
    "    for subj, obj in qres:\n",
    "        # add the new relationship to the graph\n",
    "        graph.add((subj, uri, obj))\n",
    "        \n",
    "    return graph\n",
    "\n",
    "# zoon relaties direct toevoegen\n",
    "familie = define_relationship(familie, query, rels['zoon'])\n",
    "show_triples(familie)"
   ]
  },
  {
   "cell_type": "markdown",
   "metadata": {},
   "source": [
    "Nu opnieuw de vraag: wie is er allemaal een zoon van Noah? Dat kunnen we nu net iets makkelijker uitdrukken."
   ]
  },
  {
   "cell_type": "code",
   "execution_count": 20,
   "metadata": {},
   "outputs": [
    {
     "data": {
      "text/plain": [
       "[(rdflib.term.URIRef('https://xenive.nl/mensen/Liam')),\n",
       " (rdflib.term.URIRef('https://xenive.nl/mensen/Sem'))]"
      ]
     },
     "execution_count": 20,
     "metadata": {},
     "output_type": "execute_result"
    }
   ],
   "source": [
    "query = \"\"\" \n",
    "    SELECT DISTINCT ?a \n",
    "    WHERE {\n",
    "        ?a rels:zoon mensen:Noah .\n",
    "    }\n",
    "\"\"\"\n",
    "\n",
    "qres = familie.query(query)\n",
    "list(qres)"
   ]
  },
  {
   "cell_type": "markdown",
   "metadata": {},
   "source": [
    "### Ground truth\n",
    "Eerder hebben we al eens op dit netwerk alle relaties gedefinieerd. We gaan controleren of onze \"ground truth\" gelijk is aan wat we hier in `rdflib` hebben gedaan.\n",
    "\n",
    "Voor het gemak hebben we onze \"ground truth\" weer online gezet in een pickle. Hieronder laden we deze in."
   ]
  },
  {
   "cell_type": "code",
   "execution_count": 21,
   "metadata": {},
   "outputs": [
    {
     "data": {
      "text/plain": [
       "True"
      ]
     },
     "execution_count": 21,
     "metadata": {},
     "output_type": "execute_result"
    }
   ],
   "source": [
    "import pickle\n",
    "\n",
    "# hier staat de pickle op het web\n",
    "url = \"https://private.xenive.nl/alle_relaties.pickle\"\n",
    "\n",
    "# open de URL en lees het bestand in in het geheugen\n",
    "sock = urllib.urlopen(url)\n",
    "file = io.BytesIO(sock.read())\n",
    "sock.close()\n",
    "\n",
    "# maak er weer een dictionary van\n",
    "alle_relaties = pickle.load(file)\n",
    "\n",
    "(\"Sem\", \"Noah\") in alle_relaties[\"zoon\"]"
   ]
  },
  {
   "cell_type": "markdown",
   "metadata": {},
   "source": [
    "### Controleren of de relaties gelijk zijn\n",
    "Om te controleren dat alles gelijk is, bouwen we weer een functie. De functie accepteert een `Graph`, een `URIRef` en een lijst met \"ground truth\" tuples om tegen te controleren.\n",
    "\n",
    "We gebruiken de `subject_objects` functie van `rdflib` om alle tuples met een bepaalde relatie weer op te halen. Daarna vergelijken we die met de gegeven \"ground truth\"."
   ]
  },
  {
   "cell_type": "code",
   "execution_count": 22,
   "metadata": {},
   "outputs": [
    {
     "data": {
      "text/plain": [
       "True"
      ]
     },
     "execution_count": 22,
     "metadata": {},
     "output_type": "execute_result"
    }
   ],
   "source": [
    "def check(graph, uri, truth):\n",
    "    # get the pairs from the graph\n",
    "    pairs = list(graph.subject_objects(uri))\n",
    "    \n",
    "    # check we found the same amount of pairs as in de truth\n",
    "    if not len(pairs) == len(truth):\n",
    "        return False\n",
    "    \n",
    "    # loop over the pairs to check each one\n",
    "    for pair in pairs:\n",
    "        # only keep the name\n",
    "        tpair = (str(pair[0]).split('/')[-1], str(pair[1]).split('/')[-1])\n",
    "        \n",
    "        # check if it is in the ground truth, too\n",
    "        if not tpair in truth:\n",
    "            return False\n",
    "       \n",
    "    # no differences found, must be equal!\n",
    "    return True\n",
    "\n",
    "check(familie, rels[\"zoon\"], alle_relaties[\"zoon\"])"
   ]
  },
  {
   "cell_type": "markdown",
   "metadata": {},
   "source": [
    "## Alle relaties toevoegen en controleren\n",
    "We gaan nu iedere relatie die we eerder gedefinieerd hebben toevoegen aan onze `Graph`. Voor iedere relatie geven we ook een definitie in predicaatlogica. Tenslotte controleren we telkens of ons resultaat in `rdflib` gelijk is aan de ground truth.\n",
    "\n",
    "### Dochter\n",
    "**Definitie:** $\\forall xy(Dochter(x,y) \\leftrightarrow R(y,x) \\wedge V(x))$"
   ]
  },
  {
   "cell_type": "code",
   "execution_count": 23,
   "metadata": {},
   "outputs": [
    {
     "data": {
      "text/plain": [
       "True"
      ]
     },
     "execution_count": 23,
     "metadata": {},
     "output_type": "execute_result"
    }
   ],
   "source": [
    "# query alle pairs\n",
    "query = \"\"\"\n",
    "    SELECT DISTINCT ?x ?y \n",
    "    WHERE {\n",
    "        ?y rels:R ?x .\n",
    "        ?x attr:V true .\n",
    "    }\n",
    "\"\"\"\n",
    "\n",
    "# voeg toe en controleer\n",
    "familie = define_relationship(familie, query, rels[\"dochter\"])\n",
    "check(familie, rels['dochter'], alle_relaties['dochter'])    "
   ]
  },
  {
   "cell_type": "markdown",
   "metadata": {},
   "source": [
    "### Zoon\n",
    "**Definitie:** $\\forall xy(Zoon(x,y) \\leftrightarrow R(y,x) \\wedge M(x))$"
   ]
  },
  {
   "cell_type": "code",
   "execution_count": 24,
   "metadata": {},
   "outputs": [
    {
     "data": {
      "text/plain": [
       "True"
      ]
     },
     "execution_count": 24,
     "metadata": {},
     "output_type": "execute_result"
    }
   ],
   "source": [
    "# query alle pairs\n",
    "query = \"\"\"\n",
    "    SELECT DISTINCT ?x ?y \n",
    "    WHERE {\n",
    "        ?y rels:R ?x .\n",
    "        ?x attr:M true .\n",
    "    }\n",
    "\"\"\"\n",
    "\n",
    "# voeg toe en controleer\n",
    "familie = define_relationship(familie, query, rels[\"zoon\"])\n",
    "check(familie, rels[\"zoon\"], alle_relaties[\"zoon\"])    "
   ]
  },
  {
   "cell_type": "markdown",
   "metadata": {},
   "source": [
    "### Moeder\n",
    "**Definitie:** $\\forall xy(Moeder(x,y) \\leftrightarrow R(x,y) \\wedge V(x))$"
   ]
  },
  {
   "cell_type": "code",
   "execution_count": 25,
   "metadata": {},
   "outputs": [
    {
     "data": {
      "text/plain": [
       "True"
      ]
     },
     "execution_count": 25,
     "metadata": {},
     "output_type": "execute_result"
    }
   ],
   "source": [
    "# query alle pairs\n",
    "query = \"\"\"\n",
    "    SELECT DISTINCT ?x ?y \n",
    "    WHERE {\n",
    "        ?x rels:R ?y .\n",
    "        ?x attr:V true .\n",
    "    }\n",
    "\"\"\"\n",
    "\n",
    "# voeg toe en controleer\n",
    "familie = define_relationship(familie, query, rels[\"moeder\"])\n",
    "check(familie, rels[\"moeder\"], alle_relaties[\"moeder\"])    "
   ]
  },
  {
   "cell_type": "markdown",
   "metadata": {},
   "source": [
    "### Vader\n",
    "**Definitie:** $\\forall xy(Vader(x,y) \\leftrightarrow R(x,y) \\wedge M(x))$"
   ]
  },
  {
   "cell_type": "code",
   "execution_count": 26,
   "metadata": {},
   "outputs": [
    {
     "data": {
      "text/plain": [
       "True"
      ]
     },
     "execution_count": 26,
     "metadata": {},
     "output_type": "execute_result"
    }
   ],
   "source": [
    "# query alle pairs\n",
    "query = \"\"\"\n",
    "    SELECT DISTINCT ?x ?y \n",
    "    WHERE {\n",
    "        ?x rels:R ?y .\n",
    "        ?x attr:M true .\n",
    "    }\n",
    "\"\"\"\n",
    "\n",
    "# voeg toe en controleer\n",
    "familie = define_relationship(familie, query, rels[\"vader\"])\n",
    "check(familie, rels[\"vader\"], alle_relaties[\"vader\"])    "
   ]
  },
  {
   "cell_type": "markdown",
   "metadata": {},
   "source": [
    "### Broer of zus\n",
    "**Definitie:** $\\forall xy(Broerofzus(x,y) \\leftrightarrow \\exists z(R(z,x) \\wedge R(z,y)) \\wedge \\neg(x = y))$"
   ]
  },
  {
   "cell_type": "code",
   "execution_count": 27,
   "metadata": {},
   "outputs": [
    {
     "data": {
      "text/plain": [
       "True"
      ]
     },
     "execution_count": 27,
     "metadata": {},
     "output_type": "execute_result"
    }
   ],
   "source": [
    "# query alle pairs\n",
    "query = \"\"\"\n",
    "    SELECT DISTINCT ?x ?y \n",
    "    WHERE {\n",
    "        ?z rels:R ?x .\n",
    "        ?z rels:R ?y .\n",
    "        FILTER(?x != ?y) .\n",
    "    }\n",
    "\"\"\"\n",
    "\n",
    "# voeg toe en controleer\n",
    "familie = define_relationship(familie, query, rels[\"broerofzus\"])\n",
    "check(familie, rels[\"broerofzus\"], alle_relaties[\"broerofzus\"])    "
   ]
  },
  {
   "cell_type": "markdown",
   "metadata": {},
   "source": [
    "### Zus\n",
    "**Definitie:** $\\forall xy(Zus(x,y) \\leftrightarrow \\exists z(R(z,x) \\wedge R(z,y)) \\wedge V(x) \\wedge \\neg(x = y))$"
   ]
  },
  {
   "cell_type": "code",
   "execution_count": 28,
   "metadata": {},
   "outputs": [
    {
     "data": {
      "text/plain": [
       "True"
      ]
     },
     "execution_count": 28,
     "metadata": {},
     "output_type": "execute_result"
    }
   ],
   "source": [
    "# query alle pairs\n",
    "query = \"\"\"\n",
    "    SELECT DISTINCT ?x ?y \n",
    "    WHERE {\n",
    "        ?z rels:R ?x .\n",
    "        ?z rels:R ?y .\n",
    "        ?x attr:V true .\n",
    "        FILTER(?x != ?y) .\n",
    "    }\n",
    "\"\"\"\n",
    "\n",
    "# voeg toe en controleer\n",
    "familie = define_relationship(familie, query, rels[\"zus\"])\n",
    "check(familie, rels[\"zus\"], alle_relaties[\"zus\"])    "
   ]
  },
  {
   "cell_type": "markdown",
   "metadata": {},
   "source": [
    "### Broer\n",
    "**Definitie:** $\\forall xy(Broer(x,y) \\leftrightarrow \\exists z(R(z,x) \\wedge R(z,y)) \\wedge M(x) \\wedge \\neg(x = y))$"
   ]
  },
  {
   "cell_type": "code",
   "execution_count": 29,
   "metadata": {},
   "outputs": [
    {
     "data": {
      "text/plain": [
       "True"
      ]
     },
     "execution_count": 29,
     "metadata": {},
     "output_type": "execute_result"
    }
   ],
   "source": [
    "# query alle pairs\n",
    "query = \"\"\"\n",
    "    SELECT DISTINCT ?x ?y \n",
    "    WHERE {\n",
    "        ?z rels:R ?x .\n",
    "        ?z rels:R ?y .\n",
    "        ?x attr:M true .\n",
    "        FILTER(?x != ?y) .\n",
    "    }\n",
    "\"\"\"\n",
    "\n",
    "# voeg toe en controleer\n",
    "familie = define_relationship(familie, query, rels[\"broer\"])\n",
    "check(familie, rels[\"broer\"], alle_relaties[\"broer\"])    "
   ]
  },
  {
   "cell_type": "markdown",
   "metadata": {},
   "source": [
    "### Grootouder\n",
    "**Definitie:** $\\forall xy(Grootouder(x,y) \\leftrightarrow \\exists z(R(x,z) \\wedge R(z,y)))$"
   ]
  },
  {
   "cell_type": "code",
   "execution_count": 30,
   "metadata": {},
   "outputs": [
    {
     "data": {
      "text/plain": [
       "True"
      ]
     },
     "execution_count": 30,
     "metadata": {},
     "output_type": "execute_result"
    }
   ],
   "source": [
    "# query alle pairs\n",
    "query = \"\"\"\n",
    "    SELECT DISTINCT ?x ?y \n",
    "    WHERE {\n",
    "        ?x rels:R ?z .\n",
    "        ?z rels:R ?y .\n",
    "    }\n",
    "\"\"\"\n",
    "\n",
    "# voeg toe en controleer\n",
    "familie = define_relationship(familie, query, rels[\"grootouder\"])\n",
    "check(familie, rels[\"grootouder\"], alle_relaties[\"grootouder\"])    "
   ]
  },
  {
   "cell_type": "markdown",
   "metadata": {},
   "source": [
    "### Oma\n",
    "**Definitie:** $\\forall xy(Oma(x,y) \\leftrightarrow \\exists z(Moeder(x,z) \\wedge R(z,y)))$"
   ]
  },
  {
   "cell_type": "code",
   "execution_count": 31,
   "metadata": {},
   "outputs": [
    {
     "data": {
      "text/plain": [
       "True"
      ]
     },
     "execution_count": 31,
     "metadata": {},
     "output_type": "execute_result"
    }
   ],
   "source": [
    "# query alle pairs\n",
    "query = \"\"\"\n",
    "    SELECT DISTINCT ?x ?y \n",
    "    WHERE {\n",
    "        ?x rels:moeder ?z .\n",
    "        ?z rels:R ?y .\n",
    "    }\n",
    "\"\"\"\n",
    "\n",
    "# voeg toe en controleer\n",
    "familie = define_relationship(familie, query, rels[\"oma\"])\n",
    "check(familie, rels[\"oma\"], alle_relaties[\"oma\"])    "
   ]
  },
  {
   "cell_type": "markdown",
   "metadata": {},
   "source": [
    "### Opa\n",
    "**Definitie:** $\\forall xy(Opa(x,y) \\leftrightarrow \\exists z(Vader(x,z) \\wedge R(z,y)))$"
   ]
  },
  {
   "cell_type": "code",
   "execution_count": 32,
   "metadata": {},
   "outputs": [
    {
     "data": {
      "text/plain": [
       "True"
      ]
     },
     "execution_count": 32,
     "metadata": {},
     "output_type": "execute_result"
    }
   ],
   "source": [
    "# query alle pairs\n",
    "query = \"\"\"\n",
    "    SELECT DISTINCT ?x ?y \n",
    "    WHERE {\n",
    "        ?x rels:vader ?z .\n",
    "        ?z rels:R ?y .\n",
    "    }\n",
    "\"\"\"\n",
    "\n",
    "# voeg toe en controleer\n",
    "familie = define_relationship(familie, query, rels[\"opa\"])\n",
    "check(familie, rels[\"opa\"], alle_relaties[\"opa\"])    "
   ]
  },
  {
   "cell_type": "markdown",
   "metadata": {},
   "source": [
    "### Oom of tante\n",
    "**Definitie:** $\\forall xy(Oomoftante(x,y) \\leftrightarrow \\exists z(R(z,y) \\wedge Broerofzus(x,z)))$"
   ]
  },
  {
   "cell_type": "code",
   "execution_count": 33,
   "metadata": {},
   "outputs": [
    {
     "data": {
      "text/plain": [
       "True"
      ]
     },
     "execution_count": 33,
     "metadata": {},
     "output_type": "execute_result"
    }
   ],
   "source": [
    "# query alle pairs\n",
    "query = \"\"\"\n",
    "    SELECT DISTINCT ?x ?y \n",
    "    WHERE {\n",
    "        ?z rels:R ?y .\n",
    "        ?x rels:broerofzus ?z .\n",
    "    }\n",
    "\"\"\"\n",
    "\n",
    "# voeg toe en controleer\n",
    "familie = define_relationship(familie, query, rels[\"oomoftante\"])\n",
    "check(familie, rels[\"oomoftante\"], alle_relaties[\"oomoftante\"])    "
   ]
  },
  {
   "cell_type": "markdown",
   "metadata": {},
   "source": [
    "### Tante\n",
    "**Definitie:** $\\forall xy(Tante(x,y) \\leftrightarrow Oomoftante(x,y) \\wedge V(x))$"
   ]
  },
  {
   "cell_type": "code",
   "execution_count": 34,
   "metadata": {},
   "outputs": [
    {
     "data": {
      "text/plain": [
       "True"
      ]
     },
     "execution_count": 34,
     "metadata": {},
     "output_type": "execute_result"
    }
   ],
   "source": [
    "# query alle pairs\n",
    "query = \"\"\"\n",
    "    SELECT DISTINCT ?x ?y \n",
    "    WHERE {\n",
    "        ?x rels:oomoftante ?y .\n",
    "        ?x attr:V true .\n",
    "    }\n",
    "\"\"\"\n",
    "\n",
    "# voeg toe en controleer\n",
    "familie = define_relationship(familie, query, rels[\"tante\"])\n",
    "check(familie, rels[\"tante\"], alle_relaties[\"tante\"])    "
   ]
  },
  {
   "cell_type": "markdown",
   "metadata": {},
   "source": [
    "### Oom\n",
    "**Definitie:** $\\forall xy(Oom(x,y) \\leftrightarrow Oomoftante(x,y) \\wedge M(x))$"
   ]
  },
  {
   "cell_type": "code",
   "execution_count": 35,
   "metadata": {},
   "outputs": [
    {
     "data": {
      "text/plain": [
       "True"
      ]
     },
     "execution_count": 35,
     "metadata": {},
     "output_type": "execute_result"
    }
   ],
   "source": [
    "# query alle pairs\n",
    "query = \"\"\"\n",
    "    SELECT DISTINCT ?x ?y \n",
    "    WHERE {\n",
    "        ?x rels:oomoftante ?y .\n",
    "        ?x attr:M true .\n",
    "    }\n",
    "\"\"\"\n",
    "\n",
    "# voeg toe en controleer\n",
    "familie = define_relationship(familie, query, rels[\"oom\"])\n",
    "check(familie, rels[\"oom\"], alle_relaties[\"oom\"])    "
   ]
  },
  {
   "cell_type": "markdown",
   "metadata": {},
   "source": [
    "### Nicht\n",
    "**Definitie:** $\\forall xy(Nicht(x,y) \\leftrightarrow \\exists z(Dochter(x,z) \\wedge Broerofzus(z,y)) \\vee \\exists z(Dochter(x,z) \\wedge Oomoftante(z,y)))$"
   ]
  },
  {
   "cell_type": "code",
   "execution_count": 36,
   "metadata": {},
   "outputs": [
    {
     "data": {
      "text/plain": [
       "True"
      ]
     },
     "execution_count": 36,
     "metadata": {},
     "output_type": "execute_result"
    }
   ],
   "source": [
    "# query alle pairs\n",
    "query = \"\"\"\n",
    "    SELECT DISTINCT ?x ?y \n",
    "    WHERE {\n",
    "        {\n",
    "            ?x rels:dochter ?z .\n",
    "            ?z rels:broerofzus ?y .\n",
    "        }\n",
    "        UNION\n",
    "        {\n",
    "            ?x rels:dochter ?z .\n",
    "            ?z rels:oomoftante ?y .\n",
    "        }\n",
    "    }\n",
    "\"\"\"\n",
    "\n",
    "# voeg toe en controleer\n",
    "familie = define_relationship(familie, query, rels[\"nicht\"])\n",
    "check(familie, rels[\"nicht\"], alle_relaties[\"nicht\"]) "
   ]
  },
  {
   "cell_type": "markdown",
   "metadata": {},
   "source": [
    "### Neef\n",
    "**Definitie:** $\\forall xy(Neef(x,y) \\leftrightarrow \\exists z(Zoon(x,z) \\wedge Broerofzus(z,y)) \\vee \\exists z(Zoon(x,z) \\wedge Oomoftante(z,y)))$"
   ]
  },
  {
   "cell_type": "code",
   "execution_count": 37,
   "metadata": {},
   "outputs": [
    {
     "data": {
      "text/plain": [
       "True"
      ]
     },
     "execution_count": 37,
     "metadata": {},
     "output_type": "execute_result"
    }
   ],
   "source": [
    "# query alle pairs\n",
    "query = \"\"\"\n",
    "    SELECT DISTINCT ?x ?y \n",
    "    WHERE {\n",
    "        {\n",
    "            ?x rels:zoon ?z .\n",
    "            ?z rels:broerofzus ?y .\n",
    "        }\n",
    "        UNION\n",
    "        {\n",
    "            ?x rels:zoon ?z .\n",
    "            ?z rels:oomoftante ?y .\n",
    "        }\n",
    "    }\n",
    "\"\"\"\n",
    "\n",
    "# voeg toe en controleer\n",
    "familie = define_relationship(familie, query, rels[\"neef\"])\n",
    "check(familie, rels[\"neef\"], alle_relaties[\"neef\"]) "
   ]
  },
  {
   "cell_type": "markdown",
   "metadata": {},
   "source": [
    "### Achternicht\n",
    "**Definitie:** $\\forall xy(Achternicht(x,y) \\leftrightarrow \\exists z(Dochter(x,z) \\wedge (Nicht(z,y) \\vee Neef(z,y)))$"
   ]
  },
  {
   "cell_type": "code",
   "execution_count": 38,
   "metadata": {},
   "outputs": [
    {
     "data": {
      "text/plain": [
       "True"
      ]
     },
     "execution_count": 38,
     "metadata": {},
     "output_type": "execute_result"
    }
   ],
   "source": [
    "# query alle pairs\n",
    "query = \"\"\"\n",
    "    SELECT DISTINCT ?x ?y \n",
    "    WHERE {\n",
    "        ?x rels:dochter ?z .\n",
    "        {?z rels:nicht ?y} \n",
    "        UNION \n",
    "        {?z rels:neef ?y} .\n",
    "    }\n",
    "\"\"\"\n",
    "\n",
    "# voeg toe en controleer\n",
    "familie = define_relationship(familie, query, rels[\"achternicht\"])\n",
    "check(familie, rels[\"achternicht\"], alle_relaties[\"achternicht\"]) "
   ]
  },
  {
   "cell_type": "markdown",
   "metadata": {},
   "source": [
    "### Achterneef\n",
    "**Definitie:** $\\forall xy(Achterneef(x,y) \\leftrightarrow \\exists z(Zoon(x,z) \\wedge (Nicht(z,y) \\vee Neef(z,y)))$"
   ]
  },
  {
   "cell_type": "code",
   "execution_count": 39,
   "metadata": {},
   "outputs": [
    {
     "data": {
      "text/plain": [
       "True"
      ]
     },
     "execution_count": 39,
     "metadata": {},
     "output_type": "execute_result"
    }
   ],
   "source": [
    "# query alle pairs\n",
    "query = \"\"\"\n",
    "    SELECT DISTINCT ?x ?y \n",
    "    WHERE {\n",
    "        ?x rels:zoon ?z .\n",
    "        {?z rels:nicht ?y} \n",
    "        UNION \n",
    "        {?z rels:neef ?y} .\n",
    "    }\n",
    "\"\"\"\n",
    "\n",
    "# voeg toe en controleer\n",
    "familie = define_relationship(familie, query, rels[\"achterneef\"])\n",
    "check(familie, rels[\"achterneef\"], alle_relaties[\"achterneef\"])"
   ]
  },
  {
   "cell_type": "markdown",
   "metadata": {},
   "source": [
    "## Weer terug naar een netwerkje\n",
    "Natuurlijk is zo'n RDF graph niet erg overzichtelijk voor een mens. Netwerkjes zijn daar veel handiger voor. Daarom willen we RDF graphs ook terug om kunnen zetten naar netwerkjes.\n",
    "\n",
    "### Nodes vinden\n",
    "Om dit te demonstreren, gaan we eerst onze familie graph terug omzetten naar een netwerkje. Om te beginnen, bepalen we wat onze nodes zijn. Dat waren de personen! Alle personen in onze `Graph` hebben een `RDF.type` gekregen, namelijk `FOAF.Person`. Laten we die ophalen."
   ]
  },
  {
   "cell_type": "code",
   "execution_count": 40,
   "metadata": {
    "scrolled": false
   },
   "outputs": [
    {
     "data": {
      "text/plain": [
       "[rdflib.term.URIRef('https://xenive.nl/mensen/Julia2'),\n",
       " rdflib.term.URIRef('https://xenive.nl/mensen/Luuk'),\n",
       " rdflib.term.URIRef('https://xenive.nl/mensen/Yara')]"
      ]
     },
     "execution_count": 40,
     "metadata": {},
     "output_type": "execute_result"
    }
   ],
   "source": [
    "# vind alle personen in de Graph\n",
    "familie_nodes = list(familie.subjects(RDF.type, FOAF.Person))\n",
    "\n",
    "familie_nodes[:3]"
   ]
  },
  {
   "cell_type": "markdown",
   "metadata": {},
   "source": [
    "### Nodes opschonen\n",
    "Mooi! Alleen eigenlijk willen we voor ons netwerkje alleen het laatste stukje van de URI gebruiken, dat maakt het een stuk overzichtelijker. Laten we een functie schrijven die dat voor ons regelt."
   ]
  },
  {
   "cell_type": "code",
   "execution_count": 41,
   "metadata": {},
   "outputs": [
    {
     "data": {
      "text/plain": [
       "['Julia2', 'Luuk', 'Yara']"
      ]
     },
     "execution_count": 41,
     "metadata": {},
     "output_type": "execute_result"
    }
   ],
   "source": [
    "# neemt het laatste deel van de URI\n",
    "def shorten_one(item):\n",
    "    return str(item).split(\"/\")[-1]\n",
    "\n",
    "# voert shorten_one uit over ieder element van een lijst\n",
    "def shorten_list(items):\n",
    "    return [shorten_one(item) for item in items]\n",
    "\n",
    "# voorbeeldje op de familie Graph\n",
    "shorten_list(familie_nodes)[:3]"
   ]
  },
  {
   "cell_type": "markdown",
   "metadata": {},
   "source": [
    "### Attributen zoeken\n",
    "Nu we de nodes weten, moeten we ook de attributen die we aan onze nodes willen geven erbij zoeken. We bepalen vooraf welke attributen we mee gaan nemen, zodat de nodes niet helemaal volgestopt worden met zinloze attributen."
   ]
  },
  {
   "cell_type": "code",
   "execution_count": 42,
   "metadata": {},
   "outputs": [
    {
     "data": {
      "text/plain": [
       "({'M': True, 'V': False}, {'M': True, 'V': False}, {'M': True, 'V': False})"
      ]
     },
     "execution_count": 42,
     "metadata": {},
     "output_type": "execute_result"
    }
   ],
   "source": [
    "# bepaal welke attributen we meenemen\n",
    "attr_refs = [attr[\"M\"], attr[\"V\"]]\n",
    "\n",
    "# maak een dict om per node de attributen in te bewaren\n",
    "attr_dict = {}\n",
    "\n",
    "# loop over alle nodes\n",
    "for node in familie_nodes:\n",
    "    # maak een dict voor deze node\n",
    "    deze_node = {}\n",
    "    \n",
    "    # loop over alle attributen\n",
    "    for attr_ref in attr_refs:\n",
    "        # vind de key en value\n",
    "        key = shorten_one(attr_ref)\n",
    "        value = bool(familie.value(node, attr_ref))\n",
    "        \n",
    "        # voeg toe aan de dict\n",
    "        deze_node[key] = value\n",
    "        \n",
    "    # voeg de node dict toe aan de totale dict\n",
    "    attr_dict[shorten_one(node)] = deze_node\n",
    "    \n",
    "attr_dict[\"Theo\"], attr_dict[\"Lucas\"], attr_dict[\"Senne\"]"
   ]
  },
  {
   "cell_type": "markdown",
   "metadata": {},
   "source": [
    "### Toevoegen aan een netwerkje\n",
    "We hebben alle informatie over de nodes, tijd om het netwerkje aan te maken en de nodes toe te voegen."
   ]
  },
  {
   "cell_type": "code",
   "execution_count": 43,
   "metadata": {},
   "outputs": [
    {
     "data": {
      "image/png": "[encoded data removed]",
      "text/plain": [
       "<Figure size 432x288 with 1 Axes>"
      ]
     },
     "metadata": {},
     "output_type": "display_data"
    }
   ],
   "source": [
    "# maak een netwerkje\n",
    "F = nx.DiGraph()\n",
    "\n",
    "# maak een lijst met alle nodes plus attributen\n",
    "alle_nodes = [(node, attr_dict[node]) for node in shorten_list(familie_nodes)]\n",
    "\n",
    "# voeg ze toe\n",
    "F.add_nodes_from(alle_nodes)\n",
    "\n",
    "visualize_family(F)"
   ]
  },
  {
   "cell_type": "markdown",
   "metadata": {},
   "source": [
    "### Edges zoeken\n",
    "Alle nodes zitten nu in ons netwerkje. Ze hebben alleen nog geen relaties... Laten we edges toevoegen, op basis van onze elementaire relatie `rels:R`. Eerst gaan we ze zoeken. We willen ieder paar met relatie `rels:R`."
   ]
  },
  {
   "cell_type": "code",
   "execution_count": 44,
   "metadata": {},
   "outputs": [
    {
     "data": {
      "text/plain": [
       "[(rdflib.term.URIRef('https://xenive.nl/mensen/Hans'),\n",
       "  rdflib.term.URIRef('https://xenive.nl/mensen/Nick')),\n",
       " (rdflib.term.URIRef('https://xenive.nl/mensen/Opa'),\n",
       "  rdflib.term.URIRef('https://xenive.nl/mensen/Ilse')),\n",
       " (rdflib.term.URIRef('https://xenive.nl/mensen/Stijn'),\n",
       "  rdflib.term.URIRef('https://xenive.nl/mensen/Lucas'))]"
      ]
     },
     "execution_count": 44,
     "metadata": {},
     "output_type": "execute_result"
    }
   ],
   "source": [
    "# zoek alle paren met relatie R\n",
    "familie_edges = list(familie.subject_objects(rels[\"R\"]))\n",
    "\n",
    "familie_edges[:3]"
   ]
  },
  {
   "cell_type": "markdown",
   "metadata": {},
   "source": [
    "### Opschonen\n",
    "Mmm... We hebben nog geen functie om de opschoonactie voor paren te doen. Laten we die maken!"
   ]
  },
  {
   "cell_type": "code",
   "execution_count": 45,
   "metadata": {},
   "outputs": [
    {
     "data": {
      "text/plain": [
       "[('Hans', 'Nick'), ('Opa', 'Ilse'), ('Stijn', 'Lucas')]"
      ]
     },
     "execution_count": 45,
     "metadata": {},
     "output_type": "execute_result"
    }
   ],
   "source": [
    "# voer shorten_one uit over iedere waarde in ieder paar\n",
    "def shorten_pairlist(items):\n",
    "    return [(shorten_one(x), shorten_one(y)) for x, y in items]\n",
    "\n",
    "shorten_pairlist(familie_edges)[:3]"
   ]
  },
  {
   "cell_type": "markdown",
   "metadata": {},
   "source": [
    "### Edges toevoegen\n",
    "En dan hebben we meteen alle edges. Alleen nog even toevoegen, en we zijn klaar..."
   ]
  },
  {
   "cell_type": "code",
   "execution_count": 46,
   "metadata": {},
   "outputs": [
    {
     "data": {
      "image/png": "[encoded data removed]",
      "text/plain": [
       "<Figure size 432x288 with 1 Axes>"
      ]
     },
     "metadata": {},
     "output_type": "display_data"
    }
   ],
   "source": [
    "# voeg alle edges toe\n",
    "F.add_edges_from(shorten_pairlist(familie_edges))\n",
    "\n",
    "visualize_family(F)"
   ]
  },
  {
   "cell_type": "markdown",
   "metadata": {},
   "source": [
    "### Controleren of het goed werkt\n",
    "Natuurlijk moeten we wel even kijken of het goed werkt. Laten we kijken of ons netwerk isomorf is aan ons oorspronkelijke netwerk."
   ]
  },
  {
   "cell_type": "code",
   "execution_count": 47,
   "metadata": {},
   "outputs": [
    {
     "data": {
      "text/plain": [
       "True"
      ]
     },
     "execution_count": 47,
     "metadata": {},
     "output_type": "execute_result"
    }
   ],
   "source": [
    "from networkx.algorithms.isomorphism import is_isomorphic\n",
    "\n",
    "is_isomorphic(G, F, node_match = lambda x, y: x == y)"
   ]
  },
  {
   "cell_type": "markdown",
   "metadata": {},
   "source": [
    "### Functie\n",
    "Het werkt! Fijn, nu kunnen we van onze code een functie maken met wat inputs, zodat we dit op allerlei `Graph`s kunnen doen.\n",
    "\n",
    "Onze functie accepteert:\n",
    "- Een `rdflib` `Graph` om om te zetten;\n",
    "- Een `URIRef` voor het type dat we als nodes moeten nemen;\n",
    "- Een `URIRef` voor het predicaat waarvoor we de edges moeten nemen;\n",
    "- Een lijst met `URIRef`s voor het predicaat waarvoor we de attributen moeten nemen."
   ]
  },
  {
   "cell_type": "code",
   "execution_count": 48,
   "metadata": {},
   "outputs": [
    {
     "data": {
      "text/plain": [
       "True"
      ]
     },
     "execution_count": 48,
     "metadata": {},
     "output_type": "execute_result"
    },
    {
     "data": {
      "image/png": "[encoded data removed]",
      "text/plain": [
       "<Figure size 432x288 with 1 Axes>"
      ]
     },
     "metadata": {},
     "output_type": "display_data"
    }
   ],
   "source": [
    "def rdflib2nx(graph, nodes, relaties, attributen):\n",
    "    # zoek de nodes\n",
    "    nodes_list = list(graph.subjects(RDF.type, nodes))\n",
    "    \n",
    "    # maak een dict om per node de attributen in te bewaren\n",
    "    attr_dict = {}\n",
    "\n",
    "    # loop over alle nodes\n",
    "    for node in nodes_list:\n",
    "        # maak een dict voor deze node\n",
    "        deze_node = {}\n",
    "\n",
    "        # loop over alle attributen\n",
    "        for attr_ref in attributen:\n",
    "            # vind de key en value\n",
    "            key = shorten_one(attr_ref)\n",
    "            value = bool(graph.value(node, attr_ref))\n",
    "\n",
    "            # voeg toe aan de dict\n",
    "            deze_node[key] = value\n",
    "\n",
    "        # voeg de node dict toe aan de totale dict\n",
    "        attr_dict[shorten_one(node)] = deze_node\n",
    "        \n",
    "    # vind de edges\n",
    "    edges_list = shorten_pairlist(list(graph.subject_objects(relaties)))\n",
    "    \n",
    "    # maak een netwerkje\n",
    "    nx_graph = nx.DiGraph()\n",
    "\n",
    "    # maak een lijst met alle nodes plus attributen\n",
    "    alle_nodes = [(node, attr_dict[node]) for node in shorten_list(nodes_list)]\n",
    "\n",
    "    # voeg nodes en edges toe\n",
    "    nx_graph.add_nodes_from(alle_nodes)\n",
    "    nx_graph.add_edges_from(edges_list)\n",
    "    \n",
    "    return nx_graph\n",
    "\n",
    "# test\n",
    "F2 = rdflib2nx(familie, FOAF.Person, rels[\"R\"], [attr[\"V\"], attr[\"M\"]])\n",
    "visualize_family(F2)\n",
    "is_isomorphic(G, F2, node_match = lambda x, y: x == y)"
   ]
  },
  {
   "cell_type": "markdown",
   "metadata": {},
   "source": [
    "### Als laatste: eens een andere `Graph`\n",
    "Nu maken we ook een NetworkX netwerk van een andere dataset, die we online hebben gevonden. De dataset komt [hier](https://sites.google.com/site/lodpaddle/home/example-of-rdf-datasets) vandaan. Wij hebben hem alleen even ergens anders geupload voor het gemak.\n",
    "\n",
    "De dataset bevat parkeergarages. Wij relateren in ons netwerk de parkeergarages met hetzelfde type."
   ]
  },
  {
   "cell_type": "code",
   "execution_count": 49,
   "metadata": {},
   "outputs": [
    {
     "data": {
      "image/png": "[encoded data removed]",
      "text/plain": [
       "<Figure size 432x288 with 1 Axes>"
      ]
     },
     "metadata": {},
     "output_type": "display_data"
    }
   ],
   "source": [
    "# laad de graph in\n",
    "andere_graph = Graph()\n",
    "andere_graph.parse(\"https://private.xenive.nl/parkings_services.ttl\")\n",
    "\n",
    "# maak een query om te bepalen welke parking facilities een gelijk type hebben\n",
    "query = \"\"\"\n",
    "    SELECT DISTINCT ?x ?y\n",
    "    WHERE {\n",
    "        ?x ex:typeParking ?xtype .\n",
    "        ?y ex:typeParking ?xtype .\n",
    "    }\n",
    "\"\"\"\n",
    "\n",
    "# voeg de relatie toe aan de Graph\n",
    "define_relationship(andere_graph, query, rels[\"gelijkType\"])\n",
    "\n",
    "# maak een namespace aan waar het type in staat\n",
    "sc = Namespace(\"http://schema.org/\")\n",
    "\n",
    "# maak er een networkx netwerk van\n",
    "parking = rdflib2nx(andere_graph, sc[\"ParkingFacility\"], rels[\"gelijkType\"], [])\n",
    "\n",
    "nx.draw(parking)"
   ]
  },
  {
   "cell_type": "markdown",
   "metadata": {},
   "source": [
    "### Netwerk maten\n",
    "Als allerlaatste berekenen we nog wat netwerk maten over ons net gemaakte netwerk."
   ]
  },
  {
   "cell_type": "code",
   "execution_count": 50,
   "metadata": {},
   "outputs": [
    {
     "name": "stdout",
     "output_type": "stream",
     "text": [
      "Gemiddelde clustering: 1.0\n",
      "Aantal cliques: 3\n",
      "Grootste clique: 5 nodes\n"
     ]
    }
   ],
   "source": [
    "from statistics import mean\n",
    "\n",
    "print(\"Gemiddelde clustering:\", nx.average_clustering(parking))\n",
    "print(\"Aantal cliques:\", nx.algorithms.clique.graph_number_of_cliques(parking.to_undirected()))\n",
    "print(\"Grootste clique:\", nx.algorithms.clique.graph_clique_number(parking.to_undirected()), \"nodes\")"
   ]
  },
  {
   "cell_type": "code",
   "execution_count": null,
   "metadata": {},
   "outputs": [],
   "source": []
  }
 ],
 "metadata": {
  "hide_input": false,
  "kernelspec": {
   "display_name": "Python 3",
   "language": "python",
   "name": "python3"
  },
  "language_info": {
   "codemirror_mode": {
    "name": "ipython",
    "version": 3
   },
   "file_extension": ".py",
   "mimetype": "text/x-python",
   "name": "python",
   "nbconvert_exporter": "python",
   "pygments_lexer": "ipython3",
   "version": "3.8.0"
  },
  "toc": {
   "base_numbering": 1,
   "nav_menu": {},
   "number_sections": false,
   "sideBar": true,
   "skip_h1_title": false,
   "title_cell": "Table of Contents",
   "title_sidebar": "Contents",
   "toc_cell": true,
   "toc_position": {},
   "toc_section_display": true,
   "toc_window_display": false
  }
 },
 "nbformat": 4,
 "nbformat_minor": 2
}
