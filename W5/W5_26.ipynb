{
 "cells": [
  {
   "cell_type": "markdown",
   "metadata": {
    "id": "6fsuaZnb1rmh"
   },
   "source": [
    "# Assignment Knowledge & Data"
   ]
  },
  {
   "cell_type": "markdown",
   "metadata": {
    "id": "99dXG-MT1rmq"
   },
   "source": [
    "## Notebook made by\n",
    "\n",
    "\n",
    "|Naam|Studentnummer|\n",
    "|-|-|\n",
    "|Ruben|secret |\n",
    "|Maurizia|secret |\n",
    "|Rowan| secret|\n",
    "|Sava|secret |\n",
    "\n",
    "## Peerreview\n",
    "\n",
    "* Vul onderstaande dict/tabel in en run de cel. Klopt het? Zijn jullie het er allemaal mee eens?\n",
    "    * Verander `1,2,3,4` door jullie studentnummers\n",
    "    * `1: {1:.2,2:.3,3:.3,4:.2}` betekent dat student 1 zijn punt zo over de 4 studenten verdeelt\n",
    "    * Let op, per student moeten de punten optellen tot 1!\n",
    "    * De gegeven punten staan in de tabel op de rijen, de ontvangen punten in de kolommen.\n",
    "    * met `cijfer_per_student` kan je bepalen welk cijfer ieder krijgt bij een gegeven groepscijfer."
   ]
  },
  {
   "cell_type": "markdown",
   "metadata": {
    "id": "eTGROHCL1rmx"
   },
   "source": [
    "## Toelichting\n",
    "\n",
    "* De meeste opgaven worden automatisch nagekeken. Bij vrijwel alle opdrachten staan er een paar tests onder de opdracht, dit is voornamelijk om te zorgen dat je de juiste type output geeft. Dit zijn dus *NIET* alle tests, die komen er bij het graden nog bij.\n",
    "* Elke vraag is 1 punt waard, tenzij anders aangegeven. Soms is die punt onderverdeeld in deelpunten, maar niet altijd. \n",
    "\n",
    "## Voor het inleveren!\n",
    "\n",
    "* Pas niet de cellen aan, vooral niet die je niet kunt editen. Dit levert problemen op bij nakijken. Twijfel je of je per ongeluk iets hebt gewijzigd, kopieer dan bij inleveren je antwoorden naar een nieuw bestand, zodat het niet fout kan gaan.\n",
    "\n",
    "* Zorg dat de code goed runt van boven naar beneden, verifieer dat door boven in Kernel -> Restart & Run All uit te voeren\n",
    "\n",
    "## Na het inleveren!\n",
    "\n",
    "* Het gebeurt erg vaak dat mensen een \"leeg bestand\" inleveren. Vaak een andere versie van de opgave die nog ergens op je computer rondslingerde. Zonde van al je werk toch!\n",
    "* Dus, lever **minstens een half uur voor tijd in**. Download dan wat je hebt ingeleverd op Canvas. Geef het een andere naam om verwarring te voorkomen. En draai alle cellen, en bekijk het. Geen syntax fouten? Alle vragen gemaakt? Dan zit het vast wel goed, en hoef je niet in de zenuwen te zitten."
   ]
  },
  {
   "cell_type": "markdown",
   "metadata": {
    "id": "04t-7ObO1rmz",
    "toc": true
   },
   "source": [
    "<h1>Table of Contents<span class=\"tocSkip\"></span></h1>\n",
    "<div class=\"toc\"><ul class=\"toc-item\"><li><span><a href=\"#RDF-plus-RDFS-conversion\" data-toc-modified-id=\"RDF-plus-RDFS-conversion-1\"><span class=\"toc-item-num\">1&nbsp;&nbsp;</span>RDF plus RDFS conversion</a></span><ul class=\"toc-item\"><li><span><a href=\"#Vereisten\" data-toc-modified-id=\"Vereisten-1.1\"><span class=\"toc-item-num\">1.1&nbsp;&nbsp;</span>Vereisten</a></span></li><li><span><a href=\"#Grading\" data-toc-modified-id=\"Grading-1.2\"><span class=\"toc-item-num\">1.2&nbsp;&nbsp;</span>Grading</a></span></li></ul></li></ul></div>"
   ]
  },
  {
   "cell_type": "markdown",
   "metadata": {
    "id": "FYH8UUke1rm3"
   },
   "source": [
    "# RDF plus RDFS conversion\n",
    "\n",
    "* We will transform our family and LHBTI++ knowledge base into an RDF database and query it using SPARQL.\n",
    "* The idea is that **you create this notebook as a tutorial on working with `rdflib`**.\n",
    "* You will find many on the web, so search, watch and use the best what you can find to make a fun and top tutorial.\n",
    "\n",
    "## Vereisten\n",
    "\n",
    "1. `networkx2RDF(G)` takes any digraph G with additional node attributes and transform it to an RDF database.\n",
    "2. Maak SPARQL queries voor al je gedefinieerde relaties. \n",
    "    * Check dat de antwoorden identiek zijn.\n",
    "3. Download een andere triple store en maak daar juist een networkx graaf van (dat kan met rdflib), en bereken wat netwerk maten daarop.\n",
    "\n",
    "## Grading\n",
    "\n",
    "* Deze opdracht doen we met peergrading.\n",
    "* Ieder groepje kijkt alle anderen en zichzelf na en geeft ieder groepje een deel van in totaal 100 te verdelen  punten.\n",
    "* De eindscores transformeren we dan naar een cijfer tussen de 1 en 10. "
   ]
  },
  {
   "cell_type": "code",
   "execution_count": 2,
   "metadata": {
    "colab": {
     "base_uri": "https://localhost:8080/"
    },
    "id": "HOwXAM4U1rm5",
    "outputId": "0a195f77-e10e-4f0e-e7dd-507b30100ab6"
   },
   "outputs": [
    {
     "name": "stdout",
     "output_type": "stream",
     "text": [
      "Requirement already satisfied: rdflib in c:\\users\\rduit\\anaconda3\\lib\\site-packages (5.0.0)\n",
      "Requirement already satisfied: six in c:\\users\\rduit\\anaconda3\\lib\\site-packages (from rdflib) (1.14.0)\n",
      "Requirement already satisfied: pyparsing in c:\\users\\rduit\\anaconda3\\lib\\site-packages (from rdflib) (2.4.6)\n",
      "Requirement already satisfied: isodate in c:\\users\\rduit\\anaconda3\\lib\\site-packages (from rdflib) (0.6.0)\n"
     ]
    }
   ],
   "source": [
    "!pip install rdflib\n",
    "# See https://rdflib.readthedocs.io/en/stable/gettingstarted.html\n",
    "from rdflib import Graph"
   ]
  },
  {
   "cell_type": "code",
   "execution_count": 3,
   "metadata": {
    "colab": {
     "base_uri": "https://localhost:8080/"
    },
    "id": "jv59EXHK1rm7",
    "outputId": "b585d9b3-5b16-419d-f82c-b2e6087556bd"
   },
   "outputs": [
    {
     "data": {
      "text/plain": [
       "<Graph identifier=Nd6e837ed59aa4a4290166cf84bc1931c (<class 'rdflib.graph.Graph'>)>"
      ]
     },
     "execution_count": 3,
     "metadata": {},
     "output_type": "execute_result"
    }
   ],
   "source": [
    "g=Graph()\n",
    "g.parse('http://dbpedia.org/resource/Michael_Jackson')"
   ]
  },
  {
   "cell_type": "code",
   "execution_count": 4,
   "metadata": {
    "colab": {
     "base_uri": "https://localhost:8080/"
    },
    "id": "chmcTT101rm9",
    "outputId": "b6a8abcc-4c80-4e73-bca8-a67364da1c0e"
   },
   "outputs": [
    {
     "data": {
      "text/plain": [
       "([(rdflib.term.URIRef('http://dbpedia.org/resource/Nonstop_(Vocal_Point_album)'),\n",
       "   rdflib.term.URIRef('http://dbpedia.org/property/extra'),\n",
       "   rdflib.term.URIRef('http://dbpedia.org/resource/Michael_Jackson')),\n",
       "  (rdflib.term.URIRef('http://dbpedia.org/resource/State_of_Independence'),\n",
       "   rdflib.term.URIRef('http://dbpedia.org/ontology/wikiPageWikiLink'),\n",
       "   rdflib.term.URIRef('http://dbpedia.org/resource/Michael_Jackson'))],\n",
       " 9368)"
      ]
     },
     "execution_count": 4,
     "metadata": {},
     "output_type": "execute_result"
    }
   ],
   "source": [
    "triples= [triple for triple in g]\n",
    "triples[:2], len(triples)"
   ]
  },
  {
   "cell_type": "code",
   "execution_count": 5,
   "metadata": {
    "colab": {
     "base_uri": "https://localhost:8080/"
    },
    "id": "pMgUEIBN1rm-",
    "outputId": "b5d698da-6490-43ce-d148-d3ac74283d89"
   },
   "outputs": [
    {
     "data": {
      "text/plain": [
       "(rdflib.plugins.sparql.processor.SPARQLResult,\n",
       " 9368,\n",
       " [(rdflib.term.URIRef('http://dbpedia.org/resource/Nonstop_(Vocal_Point_album)'),\n",
       "   rdflib.term.URIRef('http://dbpedia.org/property/extra'),\n",
       "   rdflib.term.URIRef('http://dbpedia.org/resource/Michael_Jackson')),\n",
       "  (rdflib.term.URIRef('http://dbpedia.org/resource/State_of_Independence'),\n",
       "   rdflib.term.URIRef('http://dbpedia.org/ontology/wikiPageWikiLink'),\n",
       "   rdflib.term.URIRef('http://dbpedia.org/resource/Michael_Jackson'))])"
      ]
     },
     "execution_count": 5,
     "metadata": {},
     "output_type": "execute_result"
    }
   ],
   "source": [
    "qres = g.query(\"\"\"SELECT DISTINCT ?o ?p ?s WHERE {?o ?p ?s}\"\"\")\n",
    "\n",
    "type(qres), len(qres), list(qres)[:2]"
   ]
  },
  {
   "cell_type": "markdown",
   "metadata": {
    "id": "uMNOOLEnv8gd"
   },
   "source": [
    "# Tutorial\n",
    "\n",
    "## RDF: algemeen\n",
    "**Resource Description Framework** of **RDF** is een standaard van het World Wide Web Consortium (W3C), oorspronkelijk ontworpen als een metadata-model, maar gaandeweg gebruikt als een formaat om gegevens in het algemeen voor te stellen en uit te wisselen ([Wikipedia](https://nl.wikipedia.org/wiki/Resource_Description_Framework)). \n",
    "\n",
    "Een **RDF-statement** heeft altijd de volgende vorm: subject - predicaat - object.\n",
    "Een RDF-statement geeft een relatie aan tussen twee bronnen. Het subject en het object zijn de twee bronnen, het predicaat duidt op de relatie hiertussen. Omdat RDF stattements uit drie elementen bestaan worden ze **triples** genoemd.\n",
    "\n",
    "## RDF: nodes\n",
    "De nodes in de graaf bestaan uit de subjecten en objecten. Er zijn drie soorten nodes:\n",
    "* Een **BNode** (Blank Node) is een node waarvan de exacte URI niet bekend is\n",
    "* Een **URIRef** (URI references) is een node waarvan de exacte URI bekend is\n",
    "* **Literals** duiden op attribute values (naam, datum, nummer, e.d.)\n",
    "\n",
    "Hieronder een paar voorbeelden:"
   ]
  },
  {
   "cell_type": "code",
   "execution_count": 6,
   "metadata": {
    "colab": {
     "base_uri": "https://localhost:8080/",
     "height": 34
    },
    "id": "ID_u-yT8y84c",
    "outputId": "3d800fff-afaa-463a-8c64-9be01b54510c"
   },
   "outputs": [
    {
     "data": {
      "text/plain": [
       "rdflib.term.Literal('1990-07-04', datatype=rdflib.term.URIRef('http://www.w3.org/2001/XMLSchema#date'))"
      ]
     },
     "execution_count": 6,
     "metadata": {},
     "output_type": "execute_result"
    }
   ],
   "source": [
    "from rdflib import URIRef, BNode, Literal, Namespace\n",
    "from rdflib.namespace import FOAF, DCTERMS, XSD, RDF, SDO\n",
    "\n",
    "# BNode\n",
    "EX = Namespace('http://example.org/')\n",
    "Hans = EX['Hans']\n",
    "Marie = EX['Marie']\n",
    "\n",
    "# URIRef\n",
    "Netherlands = URIRef('https://www.wikidata.org/wiki/Q55')\n",
    "Basketball_player = URIRef('https://www.wikidata.org/wiki/Q3665646')\n",
    "\n",
    "\n",
    "#Literals\n",
    "birth_date = Literal(\"1990-07-04\", datatype=XSD['date'])\n",
    "\n",
    "birth_date\n"
   ]
  },
  {
   "cell_type": "markdown",
   "metadata": {
    "id": "D-_h_EDU0Wbz"
   },
   "source": [
    "## RDF: graaf & relaties\n",
    "Met rdflib kan makkelijk een graaf aangemaakt worden, waarin we de nodes kunnen plaatsen en relaties kunnen leggen. \n",
    "\n",
    "De primaire interface die RDFLib beschikbaar stelt om met RDF te werken, is een grafiek.\n",
    "\n",
    "RDFLib-grafieken zijn geen gesorteerde containers; ze hebben reguliere set-bewerkingen (bijv.add () om een triple toe te voegen) plus methoden die naar triples zoeken en deze in willekeurige volgorde retourneren.\n",
    "\n",
    "Lees meer in de [documentatie]('https://rdflib.readthedocs.io/en/stable/gettingstarted.html). "
   ]
  },
  {
   "cell_type": "code",
   "execution_count": 7,
   "metadata": {
    "colab": {
     "base_uri": "https://localhost:8080/"
    },
    "id": "L3DGJa_M0nIZ",
    "outputId": "2a9d4e3d-5df5-4f28-c563-2bb2fa837f45"
   },
   "outputs": [
    {
     "name": "stdout",
     "output_type": "stream",
     "text": [
      "@prefix ex: <http://example.org/> .\n",
      "@prefix foaf: <http://xmlns.com/foaf/0.1/> .\n",
      "@prefix schema: <https://schema.org/> .\n",
      "@prefix xsd: <http://www.w3.org/2001/XMLSchema#> .\n",
      "\n",
      "ex:Hans a foaf:Person ;\n",
      "    foaf:knows ex:Marie .\n",
      "\n",
      "ex:Marie schema:birthDate \"1990-07-04\"^^xsd:date .\n",
      "\n",
      "\n"
     ]
    }
   ],
   "source": [
    "from rdflib import Graph\n",
    "tutorial_graph = Graph()\n",
    "\n",
    "# Bind prefix to namespace\n",
    "tutorial_graph.bind('ex', EX)\n",
    "tutorial_graph.bind('foaf', FOAF)\n",
    "tutorial_graph.bind('schema', SDO)\n",
    "\n",
    "tutorial_graph.add((Hans, RDF.type, FOAF.Person))\n",
    "tutorial_graph.add((Hans, FOAF.knows, Marie))\n",
    "tutorial_graph.add((Marie, SDO['birthDate'], birth_date))\n",
    "\n",
    "print(tutorial_graph.serialize(format='ttl').decode('u8'))\n"
   ]
  },
  {
   "cell_type": "markdown",
   "metadata": {
    "id": "Z59tp_4D2pdJ"
   },
   "source": [
    "## Deelopdracht 1: NetworkX naar RDF Database\n"
   ]
  },
  {
   "cell_type": "markdown",
   "metadata": {
    "id": "dVOoRyt83GTt"
   },
   "source": [
    "**De networkx2RDF functie**\n",
    "\n",
    "Deze functie zet een NetworkX DiGraph om tot een RDF Database. Enkele vereisten:\n",
    "* De functie moet elke DiGraph als input kunnen hebben\n",
    "* De nodes moeten attributen kunnen bevatten\n",
    "\n",
    "Dit doen we in de volgende stappen:\n",
    "* Ophalen van alle nodes en edges in het netwerk en deze omzetten tot RDF-termen.\n",
    "* Relaties tussen nodes als triples toevoegen in RDF graaf.\n",
    " * Dit doen we door *(node A, HasConnectionWith, node B)* toe te voegen. We gebruiken *HasConnectionWith* als predicaat omdat deze functie universeel moet zijn voor alle soorten DiGraphs die hieringezet worden. Een edge kan dus op verschillende soorten relaties duiden, die niet van te voren bekend zijn.\n",
    "* Attributen van nodes toevoegen in RDF graaf. \n",
    " * Dit doen we door *(node A, HasAttribute, attribute)* toe te voegen, volgens dezelfde redenering als hierboven.\n",
    "\n",
    " De functie staat hieronder uitgeschreven:"
   ]
  },
  {
   "cell_type": "code",
   "execution_count": 8,
   "metadata": {
    "id": "u0JAGwUa8eD4"
   },
   "outputs": [],
   "source": [
    "from rdflib import Graph, URIRef, BNode, Literal, Namespace\n",
    "from rdflib.namespace import CSVW, DC, DCAT, DCTERMS, DOAP, FOAF, ODRL2, ORG, OWL, \\\n",
    "                           PROF, PROV, RDF, RDFS, SDO, SH, SKOS, SOSA, SSN, TIME, \\\n",
    "                           VOID, XMLNS, XSD\n",
    "\n",
    "def networkx2RDF(G):\n",
    "    nodes = G.nodes()      \n",
    "    EX = Namespace('http://example.org/')\n",
    "    \n",
    "    # Get all relations from networkx graph -> convert to RDFterms\n",
    "    relations = G.edges()\n",
    "    rdf_relations = [(EX[relation[0]], EX[relation[1]]) for relation in relations]\n",
    "\n",
    "    # Create graph + add all relations\n",
    "    g = Graph()\n",
    "    for relation in rdf_relations:\n",
    "        g.add((relation[0], EX.HasConnetionWith, relation[1]))\n",
    "    \n",
    "    # Bind prefix\n",
    "    g.bind('ex', EX)\n",
    "    \n",
    "    # Get all node attributes\n",
    "    node_attributes = list(set([a for node in nodes for a in nodes[node]]))\n",
    "    \n",
    "    # Add attributes to RDF\n",
    "    for a in node_attributes:\n",
    "        with_attribute = nx.get_node_attributes(G, a)\n",
    "        for node in with_attribute:\n",
    "            if with_attribute[node]:\n",
    "                g.add((EX[node], EX.HasAttribute, EX[a]))\n",
    "    return g\n"
   ]
  },
  {
   "cell_type": "markdown",
   "metadata": {
    "id": "KWf9a6bU82M9"
   },
   "source": [
    "## Deelopdracht 2: SPARQL queries voor gedefinieerde relaties\n",
    "\n",
    "##### 2.1: Familierelaties\n",
    "Hieronder is een familiestamboom in een NetworkX graaf gemaakt:"
   ]
  },
  {
   "cell_type": "code",
   "execution_count": 9,
   "metadata": {
    "colab": {
     "base_uri": "https://localhost:8080/",
     "height": 319
    },
    "id": "Mu1MBUolc5ZV",
    "outputId": "68c9be2b-0e60-4aed-c1d5-3333d5693c7d"
   },
   "outputs": [
    {
     "data": {
      "image/png": "[encoded data removed]",
      "text/plain": [
       "<Figure size 432x288 with 1 Axes>"
      ]
     },
     "metadata": {},
     "output_type": "display_data"
    }
   ],
   "source": [
    "import networkx as nx\n",
    "F = nx.DiGraph()\n",
    "M,V= {'Kees', 'Joop', 'Martin', 'Carel', 'Jeffrey', 'Rowan', 'Gijs', 'Anton', 'Jerry'},{'Jopie', 'Marian', 'Margreet', 'Corry', 'Jeannette', 'Rebecca', 'Danielle', 'Esther', \n",
    "                                                                                        'Judith', 'Naomi', 'Carola', 'Annelies', 'X'}\n",
    "F.add_nodes_from(M)\n",
    "F.add_nodes_from(V)\n",
    "for n in M:\n",
    "    F.nodes[n]['M']=True\n",
    "    F.nodes[n]['V']=False\n",
    "for n in V:\n",
    "    F.nodes[n]['V']=True\n",
    "    F.nodes[n]['M']=False     \n",
    "\n",
    "\n",
    "rel = [('Jopie', 'Joop'), ('Jopie', 'Margreet'), ('Jopie', 'Corry'), ('Jopie', 'Jeannette'), ('Kees', 'Joop'), ('Kees', 'Margreet'), ('Kees', 'Corry'), ('Kees', 'Jeannette'),\n",
    "       ('Gijs', 'Carel'), ('Gijs', 'Anton'), ('Gijs', 'Annelies'), ('X', 'Carel'), ('X', 'Anton'), ('X', 'Annelies'), \n",
    "       ('Joop', 'Rebecca'), ('Joop', 'Danielle'), ('Joop', 'Jeffrey'), ('Marian', 'Rebecca'), ('Marian', 'Danielle'), ('Marian', 'Jeffrey'), \n",
    "       ('Corry', 'Esther'), ('Corry', 'Judith'), ('Martin', 'Esther'), ('Martin', 'Judith'),\n",
    "       ('Jeannette', 'Rowan'), ('Jeannette', 'Naomi'), ('Carel', 'Rowan'), ( 'Carel', 'Naomi'),\n",
    "       ('Carola', 'Jerry'), ( 'Anton', 'Jerry')\n",
    "       \n",
    "      ]\n",
    "\n",
    "\n",
    "F.add_edges_from(rel)\n",
    "\n",
    "nx.draw(F, with_labels=True)"
   ]
  },
  {
   "cell_type": "markdown",
   "metadata": {
    "id": "NtUoEd2K6kPV"
   },
   "source": [
    "Hieronder is de opdracht uit week 2 te zien, waarbij de verschillende familierelaties uit de graaf gehaald worden:"
   ]
  },
  {
   "cell_type": "code",
   "execution_count": 10,
   "metadata": {
    "colab": {
     "base_uri": "https://localhost:8080/"
    },
    "id": "DYP9Kl1hOCnz",
    "outputId": "8bbdf13a-e5b6-4259-c388-e5c00c0fee88"
   },
   "outputs": [
    {
     "name": "stdout",
     "output_type": "stream",
     "text": [
      "Vader {('Martin', 'Esther'), ('Anton', 'Jerry'), ('Gijs', 'Annelies'), ('Gijs', 'Carel'), ('Martin', 'Judith'), ('Gijs', 'Anton'), ('Kees', 'Joop'), ('Kees', 'Margreet'), ('Joop', 'Danielle'), ('Carel', 'Rowan'), ('Kees', 'Corry'), ('Joop', 'Rebecca'), ('Kees', 'Jeannette'), ('Joop', 'Jeffrey'), ('Carel', 'Naomi')} \n",
      "\n"
     ]
    }
   ],
   "source": [
    "# Assignment week2\n",
    "def M(x, network):\n",
    "  return network.nodes[x]['M']\n",
    "\n",
    "def V(x, network):\n",
    "  return network.nodes[x]['V']\n",
    "\n",
    "def R(x,y, network):\n",
    "  return network.has_edge(x,y) \n",
    "\n",
    "Vaders = {(x,y) for x in F for y in F if R(x,y, F) and M(x,F)}\n",
    "Moeders = {(x,y) for x in F for y in F if R(x,y, F) and V(x,F)}\n",
    "Zoons = {(x,y) for x in F for y in F if R(y,x,F) and M(x,F)}\n",
    "Dochters = {(x,y) for x in F for y in F if R(y,x,F) and V(x,F)}\n",
    "Opas = {(x,y) for x in F for y in F for z in F if R(x,z,F) and R(z,y,F) and M(x,F)}\n",
    "Omas = {(x,y) for x in F for y in F for z in F if R(x,z,F) and R(z,y,F) and V(x,F)}\n",
    "Neven = {(x,y) for x in F for y in F for z in F for u in F for v in F if R(v,z,F) and R(v,u,F) and R(z,x,F) and R(u,y,F) and M(x,F)}\n",
    "Nichten = {(x,y) for x in F for y in F for z in F for u in F for v in F if R(v,z,F) and R(v,u,F) and R(z,x,F) and R(u,y,F) and V(x,F)}\n",
    "Ooms = {(x,y) for x in F for y in F for z in F for u in F if R(u,x,F) and R(u,z,F) and R(z,y,F) and M(x,F)}\n",
    "Tantes = {(x,y) for x in F for y in F for z in F for u in F if R(u,x,F) and R(u,z,F) and R(z,y,F) and V(x,F)}\n",
    "print(\"Vader\", Vaders, '\\n')\n"
   ]
  },
  {
   "cell_type": "markdown",
   "metadata": {
    "id": "e24VdhkyAcLC"
   },
   "source": [
    "**Lees meer informatie over SPARQL Queries in de [documentatie](https://rdflib.readthedocs.io/en/stable/intro_to_sparql.html).**\n",
    "\n",
    "* De relaties (in vormen van tuples in de comprehensies hierboven) die we met de SPARQL Queries eruit willen halen, zetten wij bij *SELECT DISTINCT*.\n",
    "* De ouderrelaties die in de comprehensie staan, zetten we onder *WHERE* in de vorm ?x ex:HasConnectionWith ?y.\n",
    "* Het geslacht definiëren we aan de hand van attributen, in SPARQL onder *WHERE* in de vorm ?x ex:HasAttribute ex:M (waarbij x een man is).\n",
    "\n",
    "Voorbeeld:"
   ]
  },
  {
   "cell_type": "code",
   "execution_count": 11,
   "metadata": {
    "id": "P78dbQTua4Lk"
   },
   "outputs": [],
   "source": [
    "Vaders = {(x,y) for x in F for y in F if R(x,y, F) and M(x,F)}\n",
    "\n",
    "# Variabelen om te selecteren: x & y -> SELECT DISTINCT ?x ?y\n",
    "# Waarvoor geldt (relaties): WHERE {?x ex:HasConnectionWith ?y.\n",
    "# Geslacht: ?x ex:HasAttribute ex:M.}\n",
    "\n",
    "# SPARQL Query wordt dus als volgt:\n",
    "Family_RDF = networkx2RDF(F)\n",
    "EX = Namespace('http://example.org/')\n",
    "Family_RDF.bind('ex', EX)\n",
    "\n",
    "Vaders_RDF = Family_RDF.query(\n",
    "    \"\"\"SELECT DISTINCT ?x ?y\n",
    "    WHERE {\n",
    "        ?x ex:HasConnetionWith ?y.\n",
    "        ?x ex:HasAttribute ex:M.\n",
    "    }\"\"\")"
   ]
  },
  {
   "cell_type": "markdown",
   "metadata": {
    "id": "zuXByNYZbgGW"
   },
   "source": [
    "Met bovenstaande voobeeld kunnen alle comprehensies van hierboven omgezet worden tot SPARQL Queries:"
   ]
  },
  {
   "cell_type": "code",
   "execution_count": 12,
   "metadata": {
    "id": "YSLrY0uoANfG"
   },
   "outputs": [],
   "source": [
    "Family_RDF = networkx2RDF(F)\n",
    "EX = Namespace('http://example.org/')\n",
    "Family_RDF.bind('ex', EX)\n",
    "    \n",
    "Vaders_RDF = Family_RDF.query(\n",
    "    \"\"\"SELECT DISTINCT ?x ?y\n",
    "    WHERE {\n",
    "        ?x ex:HasConnetionWith ?y.\n",
    "        ?x ex:HasAttribute ex:M.\n",
    "    }\"\"\")\n",
    "\n",
    "Moeders_RDF = Family_RDF.query(\n",
    "    \"\"\"SELECT DISTINCT ?x ?y\n",
    "    WHERE {\n",
    "        ?x ex:HasConnetionWith ?y.\n",
    "        ?x ex:HasAttribute ex:M.\n",
    "    }\"\"\")\n",
    "\n",
    "Zoons_RDF = Family_RDF.query(\n",
    "    \"\"\"SELECT DISTINCT ?x ?y\n",
    "    WHERE {\n",
    "        ?y ex:HasConnetionWith ?x.\n",
    "        ?x ex:HasAttribute ex:M.\n",
    "    }\"\"\")\n",
    "\n",
    "Dochters_RDF = Family_RDF.query(\n",
    "    \"\"\"SELECT DISTINCT ?x ?y\n",
    "    WHERE {\n",
    "        ?y ex:HasConnetionWith ?x.\n",
    "        ?x ex:HasAttribute ex:V.\n",
    "    }\"\"\")\n",
    "\n",
    "Opas_RDF = Family_RDF.query(\n",
    "    \"\"\"SELECT DISTINCT ?x ?y\n",
    "    WHERE {\n",
    "        ?x ex:HasConnetionWith ?z.\n",
    "        ?z ex:HasConnetionWith ?y.      \n",
    "        ?x ex:HasAttribute ex:M.\n",
    "    }\"\"\")\n",
    "\n",
    "\n",
    "Omas_RDF = Family_RDF.query(\n",
    "    \"\"\"SELECT DISTINCT ?x ?y\n",
    "    WHERE {\n",
    "        ?x ex:HasConnetionWith ?z.\n",
    "        ?z ex:HasConnetionWith ?y.      \n",
    "        ?x ex:HasAttribute ex:V.\n",
    "    }\"\"\")\n",
    "\n",
    "Neven_RDF = Family_RDF.query(\n",
    "    \"\"\"SELECT DISTINCT ?x ?y\n",
    "    WHERE {\n",
    "        ?v ex:HasConnetionWith ?z.\n",
    "        ?v ex:HasConnetionWith ?u.\n",
    "        ?z ex:HasConnetionWith ?x.\n",
    "        ?u ex:HasConnetionWith ?y.\n",
    "        ?x ex:HasAttribute ex:M.\n",
    "    }\"\"\")\n",
    "\n",
    "Nichten_RDF = Family_RDF.query(\n",
    "    \"\"\"SELECT DISTINCT ?x ?y\n",
    "    WHERE {\n",
    "        ?v ex:HasConnetionWith ?z.\n",
    "        ?v ex:HasConnetionWith ?u.\n",
    "        ?z ex:HasConnetionWith ?x.\n",
    "        ?u ex:HasConnetionWith ?y.\n",
    "        ?x ex:HasAttribute ex:V.\n",
    "    }\"\"\")\n",
    "\n",
    "Ooms_RDF = Family_RDF.query(\n",
    "    \"\"\"SELECT DISTINCT ?x ?y\n",
    "    WHERE {\n",
    "        ?u ex:HasConnetionWith ?x.\n",
    "        ?u ex:HasConnetionWith ?z.\n",
    "        ?z ex:HasConnetionWith ?y.\n",
    "        ?x ex:HasAttribute ex:M.\n",
    "    }\"\"\")\n",
    "\n",
    "Tantes_RDF = Family_RDF.query(\n",
    "    \"\"\"SELECT DISTINCT ?x ?y\n",
    "    WHERE {\n",
    "        ?u ex:HasConnetionWith ?x.\n",
    "        ?u ex:HasConnetionWith ?z.\n",
    "        ?z ex:HasConnetionWith ?y.\n",
    "        ?x ex:HasAttribute ex:V.\n",
    "    }\"\"\")\n",
    "\n",
    "\n"
   ]
  },
  {
   "cell_type": "markdown",
   "metadata": {
    "id": "93b65-T1bxbi"
   },
   "source": [
    "**Output vergelijken**\n",
    "\n",
    "We kunnen nu kijken of de outputs overeenkomen. Hieronder wordt het voorbeeld van vaders geprint. Daarnaast printen we van elke relatie de lengte van zowel de output van de comprehensie als die van de SPARQL Queries:"
   ]
  },
  {
   "cell_type": "code",
   "execution_count": 13,
   "metadata": {
    "colab": {
     "base_uri": "https://localhost:8080/"
    },
    "id": "qc57X6I3cv4y",
    "outputId": "4e5be64d-d025-4e96-bbdc-2cfa6522f713"
   },
   "outputs": [
    {
     "name": "stdout",
     "output_type": "stream",
     "text": [
      "{('Martin', 'Esther'), ('Anton', 'Jerry'), ('Gijs', 'Annelies'), ('Gijs', 'Carel'), ('Martin', 'Judith'), ('Gijs', 'Anton'), ('Kees', 'Joop'), ('Kees', 'Margreet'), ('Joop', 'Danielle'), ('Carel', 'Rowan'), ('Kees', 'Corry'), ('Joop', 'Rebecca'), ('Kees', 'Jeannette'), ('Joop', 'Jeffrey'), ('Carel', 'Naomi')}\n",
      "(rdflib.term.URIRef('http://example.org/Kees'), rdflib.term.URIRef('http://example.org/Joop'))\n",
      "(rdflib.term.URIRef('http://example.org/Kees'), rdflib.term.URIRef('http://example.org/Corry'))\n",
      "(rdflib.term.URIRef('http://example.org/Kees'), rdflib.term.URIRef('http://example.org/Jeannette'))\n",
      "(rdflib.term.URIRef('http://example.org/Kees'), rdflib.term.URIRef('http://example.org/Margreet'))\n",
      "(rdflib.term.URIRef('http://example.org/Joop'), rdflib.term.URIRef('http://example.org/Danielle'))\n",
      "(rdflib.term.URIRef('http://example.org/Joop'), rdflib.term.URIRef('http://example.org/Jeffrey'))\n",
      "(rdflib.term.URIRef('http://example.org/Joop'), rdflib.term.URIRef('http://example.org/Rebecca'))\n",
      "(rdflib.term.URIRef('http://example.org/Martin'), rdflib.term.URIRef('http://example.org/Judith'))\n",
      "(rdflib.term.URIRef('http://example.org/Martin'), rdflib.term.URIRef('http://example.org/Esther'))\n",
      "(rdflib.term.URIRef('http://example.org/Anton'), rdflib.term.URIRef('http://example.org/Jerry'))\n",
      "(rdflib.term.URIRef('http://example.org/Gijs'), rdflib.term.URIRef('http://example.org/Anton'))\n",
      "(rdflib.term.URIRef('http://example.org/Gijs'), rdflib.term.URIRef('http://example.org/Carel'))\n",
      "(rdflib.term.URIRef('http://example.org/Gijs'), rdflib.term.URIRef('http://example.org/Annelies'))\n",
      "(rdflib.term.URIRef('http://example.org/Carel'), rdflib.term.URIRef('http://example.org/Rowan'))\n",
      "(rdflib.term.URIRef('http://example.org/Carel'), rdflib.term.URIRef('http://example.org/Naomi'))\n",
      "Vergelijken van outputs (lengtes zijn gelijk)\n",
      "15 15\n",
      "15 15\n",
      "12 12\n",
      "18 18\n",
      "10 10\n",
      "10 10\n",
      "18 18\n",
      "36 36\n",
      "13 13\n",
      "24 24\n"
     ]
    }
   ],
   "source": [
    "print(Vaders)\n",
    "for row in Vaders_RDF:\n",
    "    print(str(row))\n",
    "    # print(\"%s is father of %s\" % row)\n",
    "\n",
    "print(\"Vergelijken van outputs (lengtes zijn gelijk)\")\n",
    "print(len(Vaders), len(Vaders_RDF))\n",
    "print(len(Moeders), len(Moeders_RDF))\n",
    "print(len(Zoons), len(Zoons_RDF))\n",
    "print(len(Dochters), len(Dochters_RDF))\n",
    "print(len(Opas), len(Opas_RDF))\n",
    "print(len(Omas), len(Omas_RDF))\n",
    "print(len(Neven), len(Neven_RDF))\n",
    "print(len(Nichten), len(Nichten_RDF))\n",
    "print(len(Ooms), len(Ooms_RDF))\n",
    "print(len(Tantes), len(Tantes_RDF))"
   ]
  },
  {
   "cell_type": "markdown",
   "metadata": {
    "id": "BqMwikLn6yfQ"
   },
   "source": [
    "##### 2.2 LHBTIQ+\n",
    "Hieronder is een NetworkX graaf met LHBTIQ+ relaties te zien:"
   ]
  },
  {
   "cell_type": "code",
   "execution_count": 14,
   "metadata": {
    "colab": {
     "base_uri": "https://localhost:8080/",
     "height": 356
    },
    "id": "NE1m5_4KZcfe",
    "outputId": "ca7d68a2-fb37-468a-8027-f260924f931e"
   },
   "outputs": [
    {
     "name": "stdout",
     "output_type": "stream",
     "text": [
      "[('Gijs', {'M': True, 'V': False}), ('Machiel', {'M': True, 'V': False}), ('Peter', {'M': True, 'V': False}), ('Ignes', {'M': False, 'V': True}), ('Yvonne', {'M': False, 'V': True}), ('Lisanne', {'M': False, 'V': True}), ('Allison', {'M': False, 'V': True}), ('Simone', {'M': False, 'V': True}), ('Dominique', {'M': False, 'V': True}), ('Tom', {'M': False, 'V': False}), ('Erik', {'M': False, 'V': False}), ('Mike', {'M': False, 'V': False}), ('Sam', {'M': False, 'V': True})]\n"
     ]
    },
    {
     "data": {
      "image/png": "[encoded data removed]",
      "text/plain": [
       "<Figure size 432x288 with 1 Axes>"
      ]
     },
     "metadata": {},
     "output_type": "display_data"
    }
   ],
   "source": [
    "Q = nx.DiGraph()\n",
    "\n",
    "M,V,I = {'Peter', 'Machiel','Gijs'}, {'Simone','Ignes','Allison','Lisanne','Yvonne','Dominique'}, {'Mike','Tom','Erik'} # de mannen, vrouwen en intersekse personen in dit netwerk\n",
    "\n",
    "# De attributen M,V,I goed zetten\n",
    "Q.add_nodes_from(M)\n",
    "Q.add_nodes_from(V)\n",
    "Q.add_nodes_from(I)\n",
    "\n",
    "for n in M:\n",
    "    Q.nodes[n]['M']=True\n",
    "    Q.nodes[n]['V']=False\n",
    "for n in V:\n",
    "    Q.nodes[n]['M']=False\n",
    "    Q.nodes[n]['V']=True\n",
    "    \n",
    "# Een intersekse persoon valt niet onder man en ook niet onder vrouw\n",
    "for n in I:\n",
    "    Q.nodes[n]['M']=False\n",
    "    Q.nodes[n]['V']=False\n",
    "\n",
    "\n",
    "# Trans (M2F)\n",
    "Q.add_node('Sam')\n",
    "\n",
    "# Gender-identiteit bij geboorte is Man\n",
    "Q.nodes['Sam'][\"M\"]=True\n",
    "Q.nodes['Sam'][\"V\"]=False\n",
    "\n",
    "# Gender-identiteit verandert naar Vrouw\n",
    "Q.nodes['Sam'][\"V\"]=True\n",
    "Q.nodes['Sam'][\"M\"]=False\n",
    "\n",
    "\n",
    "color_list = ['salmon' for x in range(len(Q.nodes))]\n",
    "    \n",
    "    \n",
    "# Edges zijn relaties tussen personen \n",
    "# Nodes hebben een gender (boolean) \n",
    "Q.add_edge('Simone', 'Ignes', label=\"L\") # L\n",
    "Q.add_edge('Machiel', 'Gijs', label=\"H\") # H\n",
    "Q.add_edge('Peter', 'Allison', label=\"B\") # B1\n",
    "Q.add_edge('Yvonne', 'Dominique', label=\"B\") # B2\n",
    "# T = Sam (M2F)\n",
    "# Q = Tom\n",
    "# I = Erik\n",
    "# A = Lot\n",
    "Q.add_edge('Lisanne', 'Mike', label=\"P\") # P\n",
    "print(Q.nodes(data=True))\n",
    "\n",
    "nx.draw_circular(Q, with_labels=True, node_color=color_list)"
   ]
  },
  {
   "cell_type": "code",
   "execution_count": 15,
   "metadata": {
    "id": "EWExwtJjZc6O"
   },
   "outputs": [],
   "source": [
    "def M(x, network):\n",
    "  return network.nodes[x]['M']\n",
    "def V(x, network):\n",
    "  return network.nodes[x]['V']\n",
    "def R(x,y, network):\n",
    "  return network.has_edge(x,y) \n",
    "  \n",
    "Lesbie = {x for x in Q for y in Q if R(x,y,Q) and V(x,Q) and V(y,Q)}\n",
    "Homo = {x for x in Q for y in Q if R(x,y,Q) and M(x,Q) and M(y,Q)}\n",
    "Hetero = {x for x in Q for y in Q if (R(x,y,Q) and M(x,Q) and V(y,Q)) or (R(x,y,Q) and V(x,Q) and M(y,Q))}"
   ]
  },
  {
   "cell_type": "code",
   "execution_count": 16,
   "metadata": {
    "colab": {
     "base_uri": "https://localhost:8080/"
    },
    "id": "Sc-NNrfjqKml",
    "outputId": "7d4fac88-4349-4f72-b8e3-7830ad307358"
   },
   "outputs": [],
   "source": [
    "LHBTIQ_RDF = networkx2RDF(Q)\n",
    "EX = Namespace('http://example.org/')\n",
    "LHBTIQ_RDF.bind('ex', EX)\n",
    "    \n",
    "Lesbie_RDF = LHBTIQ_RDF.query(\n",
    "    \"\"\"SELECT DISTINCT ?x \n",
    "    WHERE {\n",
    "        ?x ex:HasConnetionWith ?y.\n",
    "        ?x ex:HasAttribute ex:V.\n",
    "        ?y ex:HasAttribute ex:V.\n",
    "\n",
    "    }\"\"\")\n",
    "\n",
    "Homo_RDF = LHBTIQ_RDF.query(\n",
    "    \"\"\"SELECT DISTINCT ?x \n",
    "    WHERE {\n",
    "        ?x ex:HasConnetionWith ?y.\n",
    "        ?x ex:HasAttribute ex:M.\n",
    "        ?y ex:HasAttribute ex:M.\n",
    "\n",
    "    }\"\"\")\n",
    "        \n",
    "\n",
    "Hetero_RDF = LHBTIQ_RDF.query(\n",
    "    \"\"\"SELECT *{\n",
    "    \n",
    "    {SELECT DISTINCT ?x \n",
    "    WHERE {\n",
    "        ?x ex:HasConnetionWith ?y.\n",
    "        ?x ex:HasAttribute ex:M.\n",
    "        ?y ex:HasAttribute ex:V.\n",
    "    }\n",
    "    } UNION {\n",
    "     SELECT DISTINCT ?x \n",
    "      WHERE {\n",
    "        ?x ex:HasConnectionWith ?y.\n",
    "        ?x ex:HasAttribute ex:V.\n",
    "        ?y ex:HasAttribute ex:M.\n",
    "    }}}\"\"\")\n"
   ]
  },
  {
   "cell_type": "markdown",
   "metadata": {
    "id": "jp_pooV86_O-"
   },
   "source": [
    "**Vergelijken output**"
   ]
  },
  {
   "cell_type": "code",
   "execution_count": 17,
   "metadata": {
    "colab": {
     "base_uri": "https://localhost:8080/"
    },
    "id": "JtOvldAHxiRf",
    "outputId": "99c1aee8-aec7-4613-9a97-32c17ecd5724"
   },
   "outputs": [
    {
     "name": "stdout",
     "output_type": "stream",
     "text": [
      "Lesbie volgens eerdere opdracht:  {'Simone', 'Yvonne'} \n",
      "Lesbie volgens RDF:\n",
      "(rdflib.term.URIRef('http://example.org/Yvonne'),)\n",
      "(rdflib.term.URIRef('http://example.org/Simone'),)\n",
      "\n",
      "\n",
      "Homo volgens eerdere opdracht:  {'Machiel'} \n",
      "Homo volgens RDF:\n",
      "(rdflib.term.URIRef('http://example.org/Machiel'),)\n",
      "\n",
      "\n",
      "Hetero volgens eerdere opdracht:  {'Peter'} \n",
      "Hetero volgens RDF:\n",
      "(rdflib.term.URIRef('http://example.org/Peter'),)\n",
      "\n",
      "\n"
     ]
    }
   ],
   "source": [
    "print(\"Lesbie volgens eerdere opdracht: \", Lesbie, \"\\nLesbie volgens RDF:\")\n",
    "for row in Lesbie_RDF:\n",
    "  print(row)\n",
    "print(\"\\n\")\n",
    "\n",
    "print(\"Homo volgens eerdere opdracht: \", Homo, \"\\nHomo volgens RDF:\")\n",
    "for row in Homo_RDF:\n",
    "  print(row)\n",
    "print(\"\\n\")\n",
    "\n",
    "print(\"Hetero volgens eerdere opdracht: \", Hetero, \"\\nHetero volgens RDF:\")\n",
    "for row in Hetero_RDF:\n",
    "  print(row)\n",
    "print(\"\\n\")"
   ]
  },
  {
   "cell_type": "code",
   "execution_count": 18,
   "metadata": {
    "colab": {
     "base_uri": "https://localhost:8080/",
     "height": 340
    },
    "id": "bD5SmEM982iK",
    "outputId": "3609716a-abf6-442e-81d2-76274aaa1d11"
   },
   "outputs": [],
   "source": [
    "from rdflib import Graph\n",
    "g = Graph()   # create an empty graph to load data into\n",
    "# download countries.rdf van http://telegraphis.net/data/countries/\n",
    "result = g.parse(\"countries.rdf\")"
   ]
  },
  {
   "cell_type": "markdown",
   "metadata": {
    "id": "EUNDq6f695tz"
   },
   "source": [
    "## Deelopdracht 3: Networkx Maten\n",
    "We hebben hier een simpele RDF database gevonden over de landen in de wereld. \n",
    "We hebben hierbij enkele maten van onderzocht, wat basis maten (zoals de hoeveelheid nodes en edges van de grafiek en de density), wat centrality maten en clustering maten.\n",
    "\n",
    "**Belangrijk: om deze cel hieronder te kunnen runnen moet het bestand hierboven gedownload worden!**"
   ]
  },
  {
   "cell_type": "code",
   "execution_count": null,
   "metadata": {
    "id": "668XqnZt87nK"
   },
   "outputs": [
    {
     "name": "stdout",
     "output_type": "stream",
     "text": [
      "BASIS MATEN:\n",
      "\n",
      "NETWERK GROOTTE\n",
      "Het network heeft 4910 nodes and 9330 edges\n",
      "\n",
      "DENSITY\n",
      "De network density is 0.0003870856928066368\n",
      "\n",
      "Eccentricity, diameter (maximum eccentricity) en radius (minimum eccentricity) zijn niet toepasbaar op dit netwerk omdat het netwerk niet strongly connected is.\n",
      "\n",
      "CENTRALITY MATEN:\n",
      "\n",
      "EIGENVECTOR CENTRALITY\n",
      "De mediaan netwerk eigenvector centrality is 0.0008355306743598112\n",
      "\n"
     ]
    }
   ],
   "source": [
    "from rdflib.extras.external_graph_libs import rdflib_to_networkx_digraph, rdflib_to_networkx_graph\n",
    "import networkx as nx\n",
    "\n",
    "def mean(numbers):\n",
    "    return float(sum(numbers)) / max(len(numbers), 1)\n",
    "\n",
    "G = rdflib_to_networkx_digraph(result)\n",
    "    \n",
    "print(\"BASIS MATEN:\")\n",
    "print()\n",
    "\n",
    "print(\"NETWERK GROOTTE\")\n",
    "print(\"Het network heeft {} nodes and {} edges\".format(G.number_of_nodes(), G.number_of_edges()))\n",
    "print()\n",
    "    \n",
    "print(\"DENSITY\")\n",
    "print(\"De network density is {}\".format(nx.density(G)))\n",
    "print()\n",
    "\n",
    "print(\"Eccentricity, diameter (maximum eccentricity) en radius (minimum eccentricity) zijn niet toepasbaar op dit netwerk omdat het netwerk niet strongly connected is.\")\n",
    "print()\n",
    "\n",
    "print(\"CENTRALITY MATEN:\")\n",
    "print()\n",
    "\n",
    "eigen_vector = nx.eigenvector_centrality(G)\n",
    "l = []\n",
    "for k,v in eigen_vector.items():\n",
    "    l.append(v)\n",
    "    \n",
    "print(\"EIGENVECTOR CENTRALITY\")\n",
    "print(\"De mediaan netwerk eigenvector centrality is {}\".format(mean(l)))\n",
    "print()\n",
    "\n",
    "betweenness_centrality = nx.betweenness_centrality(G)\n",
    "l = []\n",
    "for k,v in betweenness_centrality.items():\n",
    "    l.append(v)\n",
    "print(\"BETWEENNESS CENTRALITY\")\n",
    "print(\"De mediaan betweenness centrality is {}\".format(mean(l)))\n",
    "print()\n",
    "\n",
    "closeness_centrality = nx.closeness_centrality(G)\n",
    "l = []\n",
    "for k,v in closeness_centrality.items():\n",
    "    l.append(v)\n",
    "print(\"CLOSENESS CENTRALITY\")\n",
    "print(\"De mediaan closeness centrality is {}\".format(mean(l)))\n",
    "print()\n",
    "\n",
    "degree_centrality = nx.degree_centrality(G)\n",
    "l = []\n",
    "for k,v in degree_centrality.items():\n",
    "    l.append(v)\n",
    "print(\"DEGREE CENTRALITY\")\n",
    "print(\"De mediaan degree centrality is {}\".format(mean(l)))\n",
    "print()\n",
    "\n",
    "print(\"CLUSTERING:\")\n",
    "print()\n",
    "\n",
    "clustering = nx.clustering(G)\n",
    "print(\"CLUSTERS\")\n",
    "print(\"Het netwerk heeft {} clusters\".format(len(clustering)))\n",
    "print()\n",
    "\n",
    "print(\"GEMIDDELDE CLUSTERING\")\n",
    "print(\"Het netwerk heeft een average clustering coefficient of {}\".format(nx.average_clustering(G)))"
   ]
  },
  {
   "cell_type": "code",
   "execution_count": null,
   "metadata": {
    "id": "F0Wx4APw86al"
   },
   "outputs": [],
   "source": []
  }
 ],
 "metadata": {
  "colab": {
   "collapsed_sections": [],
   "name": "AssignmentWeek5 (1).ipynb",
   "provenance": []
  },
  "kernelspec": {
   "display_name": "Python 3",
   "language": "python",
   "name": "python3"
  },
  "language_info": {
   "codemirror_mode": {
    "name": "ipython",
    "version": 3
   },
   "file_extension": ".py",
   "mimetype": "text/x-python",
   "name": "python",
   "nbconvert_exporter": "python",
   "pygments_lexer": "ipython3",
   "version": "3.7.6"
  },
  "toc": {
   "nav_menu": {},
   "number_sections": true,
   "sideBar": true,
   "skip_h1_title": false,
   "title_cell": "Table of Contents",
   "title_sidebar": "Contents",
   "toc_cell": true,
   "toc_position": {},
   "toc_section_display": true,
   "toc_window_display": false
  }
 },
 "nbformat": 4,
 "nbformat_minor": 1
}
