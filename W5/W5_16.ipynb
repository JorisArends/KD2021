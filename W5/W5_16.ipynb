{
 "cells": [
  {
   "cell_type": "markdown",
   "metadata": {},
   "source": [
    "# Assignment Kennis en Data"
   ]
  },
  {
   "cell_type": "markdown",
   "metadata": {},
   "source": [
    "## Notebook made by\n",
    "\n",
    "\n",
    "|Naam|Studentnummer|\n",
    "|-|-|\n",
    "| | |\n",
    "| | |\n",
    "| | |\n",
    "| | |\n",
    "\n",
    "## Peerreview\n",
    "\n",
    "* Vul onderstaande dict/tabel in en run de cel. Klopt het? Zijn jullie het er allemaal mee eens?\n",
    "    * Verander `1,2,3,4` door jullie studentnummers\n",
    "    * `1: {1:.2,2:.3,3:.3,4:.2}` betekent dat student 1 zijn punt zo over de 4 studenten verdeelt\n",
    "    * Let op, per student moeten de punten optellen tot 1!\n",
    "    * De gegeven punten staan in de tabel op de rijen, de ontvangen punten in de kolommen.\n",
    "    * met `cijfer_per_student` kan je bepalen welk cijfer ieder krijgt bij een gegeven groepscijfer."
   ]
  },
  {
   "cell_type": "markdown",
   "metadata": {},
   "source": [
    "## Toelichting\n",
    "\n",
    "* De meeste opgaven worden automatisch nagekeken. Bij vrijwel alle opdrachten staan er een paar tests onder de opdracht, dit is voornamelijk om te zorgen dat je de juiste type output geeft. Dit zijn dus *NIET* alle tests, die komen er bij het graden nog bij.\n",
    "* Elke vraag is 1 punt waard, tenzij anders aangegeven. Soms is die punt onderverdeeld in deelpunten, maar niet altijd. \n",
    "\n",
    "## Voor het inleveren!\n",
    "\n",
    "* Pas niet de cellen aan, vooral niet die je niet kunt editen. Dit levert problemen op bij nakijken. Twijfel je of je per ongeluk iets hebt gewijzigd, kopieer dan bij inleveren je antwoorden naar een nieuw bestand, zodat het niet fout kan gaan.\n",
    "\n",
    "* Zorg dat de code goed runt van boven naar beneden, verifieer dat door boven in Kernel -> Restart & Run All uit te voeren\n",
    "\n",
    "## Na het inleveren!\n",
    "\n",
    "* Het gebeurt erg vaak dat mensen een \"leeg bestand\" inleveren. Vaak een andere versie van de opgave die nog ergens op je computer rondslingerde. Zonde van al je werk toch!\n",
    "* Dus, lever **minstens een half uur voor tijd in**. Download dan wat je hebt ingeleverd op Canvas. Geef het een andere naam om verwarring te voorkomen. En draai alle cellen, en bekijk het. Geen syntax fouten? Alle vragen gemaakt? Dan zit het vast wel goed, en hoef je niet in de zenuwen te zitten."
   ]
  },
  {
   "cell_type": "markdown",
   "metadata": {
    "toc": true
   },
   "source": [
    "<h1>Table of Contents<span class=\"tocSkip\"></span></h1>\n",
    "<div class=\"toc\"><ul class=\"toc-item\"><li><span><a href=\"#RDF-plus-RDFS-conversion\" data-toc-modified-id=\"RDF-plus-RDFS-conversion-1\"><span class=\"toc-item-num\">1&nbsp;&nbsp;</span>RDF plus RDFS conversion</a></span><ul class=\"toc-item\"><li><span><a href=\"#Vereisten\" data-toc-modified-id=\"Vereisten-1.1\"><span class=\"toc-item-num\">1.1&nbsp;&nbsp;</span>Vereisten</a></span></li><li><span><a href=\"#Grading\" data-toc-modified-id=\"Grading-1.2\"><span class=\"toc-item-num\">1.2&nbsp;&nbsp;</span>Grading</a></span></li></ul></li></ul></div>"
   ]
  },
  {
   "cell_type": "markdown",
   "metadata": {},
   "source": [
    "# RDF plus RDFS conversion\n",
    "\n",
    "* We will transform our family and LHBTI++ knowledge base into an RDF database and query it using SPARQL.\n",
    "* The idea is that **you create this notebook as a tutorial on working with `rdflib`**.\n",
    "* You will find many on the web, so search, watch and use the best what you can find to make a fun and top tutorial.\n",
    "\n",
    "## Vereisten\n",
    "\n",
    "1. `networkx2RDF(G)` takes any digraph G with additional node attributes and transform it to an RDF database.\n",
    "2. Maak SPARQL queries voor al je gedefinieerde relaties. \n",
    "    * Check dat de antwoorden identiek zijn.\n",
    "3. Download een andere triple store en maak daar juist een networkx graaf van (dat kan met rdflib), en bereken wat netwerk maten daarop.\n",
    "\n",
    "## Grading\n",
    "\n",
    "* Deze opdracht doen we met peergrading.\n",
    "* Ieder groepje kijkt alle anderen en zichzelf na en geeft ieder groepje een deel van in totaal 100 te verdelen  punten.\n",
    "* De eindscores transformeren we dan naar een cijfer tussen de 1 en 10. "
   ]
  },
  {
   "cell_type": "code",
   "execution_count": 10,
   "metadata": {},
   "outputs": [
    {
     "name": "stdout",
     "output_type": "stream",
     "text": [
      "Requirement already satisfied: rdflib in c:\\users\\jonne\\anaconda3\\lib\\site-packages (5.0.0)\n",
      "Requirement already satisfied: pyparsing in c:\\users\\jonne\\anaconda3\\lib\\site-packages (from rdflib) (2.4.2)\n",
      "Requirement already satisfied: six in c:\\users\\jonne\\anaconda3\\lib\\site-packages (from rdflib) (1.12.0)\n",
      "Requirement already satisfied: isodate in c:\\users\\jonne\\anaconda3\\lib\\site-packages (from rdflib) (0.6.0)\n"
     ]
    }
   ],
   "source": [
    "!pip install rdflib\n",
    "# See https://rdflib.readthedocs.io/en/stable/gettingstarted.html\n",
    "from rdflib import  Graph"
   ]
  },
  {
   "cell_type": "code",
   "execution_count": 11,
   "metadata": {},
   "outputs": [
    {
     "data": {
      "text/plain": [
       "<Graph identifier=N3c7662d34dc8416aa0ab1c9b75ee72ef (<class 'rdflib.graph.Graph'>)>"
      ]
     },
     "execution_count": 11,
     "metadata": {},
     "output_type": "execute_result"
    }
   ],
   "source": [
    "g=Graph()\n",
    "g.parse('http://dbpedia.org/resource/Michael_Jackson')"
   ]
  },
  {
   "cell_type": "code",
   "execution_count": 12,
   "metadata": {},
   "outputs": [
    {
     "data": {
      "text/plain": [
       "([(rdflib.term.URIRef('http://dbpedia.org/resource/1978_Stinkers_Bad_Movie_Awards'),\n",
       "   rdflib.term.URIRef('http://dbpedia.org/ontology/wikiPageWikiLink'),\n",
       "   rdflib.term.URIRef('http://dbpedia.org/resource/Michael_Jackson')),\n",
       "  (rdflib.term.URIRef('http://dbpedia.org/resource/Hood_2_Hood:_The_Blockumentary'),\n",
       "   rdflib.term.URIRef('http://dbpedia.org/ontology/wikiPageWikiLink'),\n",
       "   rdflib.term.URIRef('http://dbpedia.org/resource/Michael_Jackson'))],\n",
       " 9368)"
      ]
     },
     "execution_count": 12,
     "metadata": {},
     "output_type": "execute_result"
    }
   ],
   "source": [
    "triples= [triple for triple in g]\n",
    "triples[:2], len(triples)"
   ]
  },
  {
   "cell_type": "raw",
   "metadata": {},
   "source": [
    "qres = g.query(\"\"\"SELECT DISTINCT ?o ?p ?s WHERE {?o ?p ?s}\"\"\")\n",
    "\n",
    "type(qres), len(qres), list(qres)[:2]"
   ]
  },
  {
   "cell_type": "markdown",
   "metadata": {},
   "source": [
    "# Hoe werk je met RDFlib?\n",
    "\n",
    "RDF is een manier van informatie weergeven op basis van relaties. Deze relaties worden opgeslagen als een 'triple', wat betekent dat elke relatie een \n",
    "\n",
    "Subject (het onderwerp)\n",
    "Predicate (de relatieaanduiding)\n",
    "Object (de knoop met wie de relatie wordt aangegaan)\n",
    "\n",
    "heeft."
   ]
  },
  {
   "cell_type": "markdown",
   "metadata": {},
   "source": [
    "### In de onderstaande code is te zien hoe data in een dergelijke database wordt 'opgeschreven' en gevisualiseerd. \n",
    "\n",
    "De knopen worden als eerste gemaakt door middel van de functie BNode(), die staat voor blank node.\n",
    "met de functie .add (in dit geval g.add omdat onze functie g heet!), kunnen triples worden toegevoegd. \n",
    "\n",
    "De triples zoals hier voor beschreven zijn manieren om alle data op te schrijven.\n",
    "\n",
    "Zo staat bijvoorbeeld:"
   ]
  },
  {
   "cell_type": "markdown",
   "metadata": {},
   "source": [
    "g.add((vader, FOAF.ouder_van, dochter))"
   ]
  },
  {
   "cell_type": "markdown",
   "metadata": {},
   "source": [
    "er voor dat er een triple wordt aangemaakt. In dit geval betekent dat dat het subject 'vader' is, de relatie is 'ouder van' en het lijdend voorwerp is dochter.\n",
    "\n",
    "Hier onder staat het iets groter uitgewerkt, met 4 nodes en een aantal gedefinieerde relaties."
   ]
  },
  {
   "cell_type": "code",
   "execution_count": null,
   "metadata": {},
   "outputs": [],
   "source": [
    "from rdflib import URIRef, BNode, Literal\n",
    "from rdflib.namespace import FOAF , XSD, RDF\n",
    "\n",
    "\n",
    "# hier worden nodes aangemaakt voor vader, moeder, zoon en dochter. Dit zijn BNodes omdat de URI niet gebruikt wordt of onbekend is. \n",
    "\n",
    "vader = BNode()  # a GUID is generated\n",
    "moeder = BNode()\n",
    "zoon = BNode()\n",
    "dochter = BNode()\n",
    "\n",
    "\n",
    "# hier worden edges toegevoegd (aan de hand van triples?), waarbij het type van de edge wordt bepaald/gespecificeerd (namelijk persoon) etc.\n",
    "\n",
    "\n",
    "from rdflib import Graph\n",
    "g = Graph()\n",
    "g.bind(\"foaf\", FOAF)\n",
    "\n",
    "g.add((vader, RDF.type, FOAF.Person))\n",
    "g.add((vader, FOAF.name, Literal(\"vader\")))\n",
    "g.add((vader, FOAF.ouder_van, zoon))\n",
    "g.add((vader, FOAF.ouder_van, dochter))\n",
    "g.add((moeder, RDF.type, FOAF.Person))\n",
    "g.add((moeder, FOAF.name, Literal(\"moeder\")))\n",
    "g.add((moeder, FOAF.ouder_van, zoon))\n",
    "g.add((moeder, FOAF.ouder_van, dochter))\n",
    "g.add((zoon, RDF.type, FOAF.Person))\n",
    "g.add((zoon, FOAF.name, Literal(\"zoon\")))\n",
    "g.add((dochter, RDF.type, FOAF.Person))\n",
    "g.add((dochter, FOAF.name, Literal(\"dochter\")))\n",
    "\n",
    "print(g.serialize(format=\"turtle\").decode(\"utf-8\"))"
   ]
  },
  {
   "cell_type": "markdown",
   "metadata": {},
   "source": [
    "##### In de onderstaande 2 blokken code staan 2 netwerken gedefinieerd. Aan de hand van kleine stappen gaan we deze omzetten naar RDF libraries. \n",
    "De eerste graph betreft een stamboom, waarin de egdes aangeven wie biologische ouder van wie is. De tweede graaf betreft een graph waarin de nodes seksuele voorkeuren zijn, en de relaties tussen twee nodes is of de 1 aangetrokken zou zijn tot de ander.\n",
    "\n",
    "\n",
    "\n",
    "in de tutorial/code in de volgende blokken laten wij zien hoe je van een networkX graaf een RDF library kan maken.\n",
    "\n",
    "De onderstaande graaf is een graaf van een familie. De relaties geven aan wie 'ouder van' wie is."
   ]
  },
  {
   "cell_type": "code",
   "execution_count": 13,
   "metadata": {},
   "outputs": [
    {
     "data": {
      "image/png": "[encoded data removed]",
      "text/plain": [
       "<Figure size 432x288 with 1 Axes>"
      ]
     },
     "metadata": {},
     "output_type": "display_data"
    }
   ],
   "source": [
    "import networkx as nx\n",
    "from networkx.drawing.nx_agraph import graphviz_layout\n",
    "\n",
    "# lege digraph\n",
    "Families = nx.DiGraph()\n",
    "\n",
    "# 1 familie\n",
    "Families.add_edges_from([(0,4), (1,4), (0,5), (1,5), (0,6), (1,6)])\n",
    "Families.add_edges_from([(2,7), (3,7), (2,8), (3,8)])\n",
    "Families.add_edges_from([(4,11), (7,11), (4,12), (7,12), (8,13), (10,13), (8,14), (10,14), (6,15), (6,16), (9,15), (9,16)])\n",
    "\n",
    "# 1 familie\n",
    "Families.add_edges_from([(18,17), (19,17), (18,20), (19,20)])\n",
    "Families.add_edges_from([(21,23), (21,24), (22,23), (22,24)])\n",
    "Families.add_edges_from([(25,19), (26,19), (25,21), (26,21)])\n",
    "Families.add_edges_from([(27,29), (27,30), (28,29), (28,30)])\n",
    "Families.add_edges_from([(31,33), (31,34), (32,33), (32,34)])\n",
    "Families.add_edges_from([(35,37), (36,37)])\n",
    "Families.add_edges_from([(38,40), (38,41), (39,40), (39,41)])\n",
    "Families.add_edges_from([(42,44), (43,44), (42,45), (43,45)])\n",
    "Families.add_edges_from([(49,18), (50,18), (49, 27), (50, 27), (49, 31), (50, 31), (49, 36), (50, 36), (49, 38), \n",
    "                         (50, 38), (49, 42), (50, 42), (49, 46), (50, 46), (49, 48), (50, 48), (35, 47), (36, 47)])\n",
    "\n",
    "# mannen en vrouwen gedefinieerd\n",
    "M = {0,2,7,9,10,11,12,13,17,18,20,21,23,26,27,29,30,31,35,38,40,41,42,44,45,47,48,50} \n",
    "V = {1,3,4,5,6,8,14,15,16,19,22,24,25,28,32,33,34,36,37,39,43,46,49} \n",
    "\n",
    "# kloppend maken\n",
    "for n in M:\n",
    "    Families.nodes[n]['M']=True\n",
    "    Families.nodes[n]['V']=False\n",
    "for n in V:\n",
    "    Families.nodes[n]['V']=True\n",
    "    Families.nodes[n]['M']=False \n",
    "\n",
    "    \n",
    "nx.draw(Families, with_labels = True)\n",
    "\n",
    "# drawing the graph\n",
    "# graph = graphviz_layout(Families, prog = 'dot')\n",
    "# plt.figure(figsize = (150, 50))\n",
    "# nx.draw(Families, with_labels = True, arrowsize = 100, node_size = 100000, font_size = 125, font_color = 'White', width = 15)"
   ]
  },
  {
   "cell_type": "code",
   "execution_count": 14,
   "metadata": {},
   "outputs": [
    {
     "name": "stdout",
     "output_type": "stream",
     "text": [
      "HM: Hetero (Straight) Man\n",
      "HV: Hetero (Straight) Vrouw\n",
      "H: Homoseksuele Man\n",
      "L: Lesbische Vrouw\n",
      "BM: Biseksuele Man\n",
      "BV: Biseksuele Vrouw\n",
      "Q: Queer\n",
      "P: Plus+\n"
     ]
    }
   ],
   "source": [
    "import networkx as nx\n",
    "import rdflib\n",
    "import matplotlib.pyplot as plt\n",
    "from rdflib import URIRef, BNode, Literal\n",
    "\n",
    "LHBTQI = nx.DiGraph()\n",
    "\n",
    "LHBTQI.add_edges_from([('HM','HV'), ('HM','L'), ('HM','BV')])\n",
    "LHBTQI.add_edges_from([('HV','HM'), ('HV','H'), ('HV','BM')])\n",
    "LHBTQI.add_edges_from([('H','HM'), ('H','H'), ('H','BM')])\n",
    "LHBTQI.add_edges_from([('L','HV'), ('L','L'), ('L','BV')])\n",
    "LHBTQI.add_edges_from([('BM','HM'), ('BM','H'), ('BM','BM'), ('BM','HV'), ('BM','L'), ('BM','BV')])\n",
    "LHBTQI.add_edges_from([('BV','HV'), ('BV','L'), ('BV','BV'), ('BV','HM'), ('BV','H'), ('BV','BM')])\n",
    "LHBTQI.add_edges_from([('Q','HM'), ('Q','HV'), ('Q','H'), ('Q','L'), ('Q','BM'), ('Q','BV'), ('Q','Q'), ('Q','P')])\n",
    "\n",
    "print('HM: Hetero (Straight) Man')\n",
    "print('HV: Hetero (Straight) Vrouw')\n",
    "print('H: Homoseksuele Man')\n",
    "print('L: Lesbische Vrouw')\n",
    "print('BM: Biseksuele Man')\n",
    "print('BV: Biseksuele Vrouw')\n",
    "print('Q: Queer')\n",
    "print('P: Plus+')"
   ]
  },
  {
   "cell_type": "markdown",
   "metadata": {},
   "source": [
    "# Hoe maak je van een NetworkX bestand een RDFlib?\n",
    "\n",
    "De onderstaande functie pakt een grafiek. In dit geval testen wij hem met één van de grafieken die wij hierboven hebben gedefinieerd. In de comments is te lezen wat welke stap doet.\n"
   ]
  },
  {
   "cell_type": "code",
   "execution_count": 15,
   "metadata": {},
   "outputs": [
    {
     "data": {
      "text/plain": [
       "([(rdflib.term.BNode('BV'),\n",
       "   rdflib.term.BNode('Relatie'),\n",
       "   rdflib.term.BNode('L')),\n",
       "  (rdflib.term.BNode('L'),\n",
       "   rdflib.term.BNode('Relatie'),\n",
       "   rdflib.term.BNode('L')),\n",
       "  (rdflib.term.BNode('BM'),\n",
       "   rdflib.term.BNode('Relatie'),\n",
       "   rdflib.term.BNode('H')),\n",
       "  (rdflib.term.BNode('BV'),\n",
       "   rdflib.term.BNode('Relatie'),\n",
       "   rdflib.term.BNode('HM')),\n",
       "  (rdflib.term.BNode('Q'),\n",
       "   rdflib.term.BNode('Relatie'),\n",
       "   rdflib.term.BNode('BV')),\n",
       "  (rdflib.term.BNode('HV'),\n",
       "   rdflib.term.BNode('Relatie'),\n",
       "   rdflib.term.BNode('BM')),\n",
       "  (rdflib.term.BNode('HM'),\n",
       "   rdflib.term.BNode('Relatie'),\n",
       "   rdflib.term.BNode('BV')),\n",
       "  (rdflib.term.BNode('Q'),\n",
       "   rdflib.term.BNode('Relatie'),\n",
       "   rdflib.term.BNode('BM')),\n",
       "  (rdflib.term.BNode('BM'),\n",
       "   rdflib.term.BNode('Relatie'),\n",
       "   rdflib.term.BNode('BV')),\n",
       "  (rdflib.term.BNode('BV'),\n",
       "   rdflib.term.BNode('Relatie'),\n",
       "   rdflib.term.BNode('HV')),\n",
       "  (rdflib.term.BNode('BM'),\n",
       "   rdflib.term.BNode('Relatie'),\n",
       "   rdflib.term.BNode('BM')),\n",
       "  (rdflib.term.BNode('H'),\n",
       "   rdflib.term.BNode('Relatie'),\n",
       "   rdflib.term.BNode('H')),\n",
       "  (rdflib.term.BNode('L'),\n",
       "   rdflib.term.BNode('Relatie'),\n",
       "   rdflib.term.BNode('HV')),\n",
       "  (rdflib.term.BNode('Q'),\n",
       "   rdflib.term.BNode('Relatie'),\n",
       "   rdflib.term.BNode('L')),\n",
       "  (rdflib.term.BNode('HM'),\n",
       "   rdflib.term.BNode('Relatie'),\n",
       "   rdflib.term.BNode('L')),\n",
       "  (rdflib.term.BNode('HV'),\n",
       "   rdflib.term.BNode('Relatie'),\n",
       "   rdflib.term.BNode('HM')),\n",
       "  (rdflib.term.BNode('Q'),\n",
       "   rdflib.term.BNode('Relatie'),\n",
       "   rdflib.term.BNode('HM')),\n",
       "  (rdflib.term.BNode('BM'),\n",
       "   rdflib.term.BNode('Relatie'),\n",
       "   rdflib.term.BNode('L')),\n",
       "  (rdflib.term.BNode('BV'),\n",
       "   rdflib.term.BNode('Relatie'),\n",
       "   rdflib.term.BNode('H')),\n",
       "  (rdflib.term.BNode('H'),\n",
       "   rdflib.term.BNode('Relatie'),\n",
       "   rdflib.term.BNode('BM')),\n",
       "  (rdflib.term.BNode('Q'),\n",
       "   rdflib.term.BNode('Relatie'),\n",
       "   rdflib.term.BNode('Q')),\n",
       "  (rdflib.term.BNode('BM'),\n",
       "   rdflib.term.BNode('Relatie'),\n",
       "   rdflib.term.BNode('HM')),\n",
       "  (rdflib.term.BNode('Q'),\n",
       "   rdflib.term.BNode('Relatie'),\n",
       "   rdflib.term.BNode('HV')),\n",
       "  (rdflib.term.BNode('Q'),\n",
       "   rdflib.term.BNode('Relatie'),\n",
       "   rdflib.term.BNode('P')),\n",
       "  (rdflib.term.BNode('HM'),\n",
       "   rdflib.term.BNode('Relatie'),\n",
       "   rdflib.term.BNode('HV')),\n",
       "  (rdflib.term.BNode('BM'),\n",
       "   rdflib.term.BNode('Relatie'),\n",
       "   rdflib.term.BNode('HV')),\n",
       "  (rdflib.term.BNode('BV'),\n",
       "   rdflib.term.BNode('Relatie'),\n",
       "   rdflib.term.BNode('BV')),\n",
       "  (rdflib.term.BNode('L'),\n",
       "   rdflib.term.BNode('Relatie'),\n",
       "   rdflib.term.BNode('BV')),\n",
       "  (rdflib.term.BNode('BV'),\n",
       "   rdflib.term.BNode('Relatie'),\n",
       "   rdflib.term.BNode('BM')),\n",
       "  (rdflib.term.BNode('HV'),\n",
       "   rdflib.term.BNode('Relatie'),\n",
       "   rdflib.term.BNode('H')),\n",
       "  (rdflib.term.BNode('Q'),\n",
       "   rdflib.term.BNode('Relatie'),\n",
       "   rdflib.term.BNode('H')),\n",
       "  (rdflib.term.BNode('H'),\n",
       "   rdflib.term.BNode('Relatie'),\n",
       "   rdflib.term.BNode('HM'))],\n",
       " 32)"
      ]
     },
     "execution_count": 15,
     "metadata": {},
     "output_type": "execute_result"
    }
   ],
   "source": [
    "def networkx2RDF(G):\n",
    "    # maak een graph aan\n",
    "    R = rdflib.Graph()\n",
    "\n",
    "    # loop door de edge van gegeven graph\n",
    "    for edge in G.edges:\n",
    "\n",
    "        # Voeg een edge toe aan de rdf database, edges als subject en object, relatie als pedicaat\n",
    "        R.add((BNode(edge[0]),BNode('Relatie'),BNode(edge[1])))\n",
    "    return R\n",
    "    \n",
    "H = networkx2RDF(LHBTQI)\n",
    "\n",
    "triples= [triple for triple in H]\n",
    "triples, len(triples)\n",
    "\n"
   ]
  },
  {
   "cell_type": "markdown",
   "metadata": {},
   "source": [
    "# Meer oefenen met triples\n",
    "\n",
    "Als laatste gaan we een triple store van het world wide web downloaden om deze vervolgens om te zetten tot het formaat van networkx. Via https://wiki.dbpedia.org/ kunnen we enorm veel verschillende pagina's downloaden tot triple vorm. Het downloaden van site tot triples kan met parse(). Bijvoorbeeld: we willen data over een van de allerbeste voetballer ter wereld. Dan maken we een variabele g aan die we vullen met de functie parse en vullen we bij parse de link naar de legende Klaas Jan Huntelaar in."
   ]
  },
  {
   "cell_type": "code",
   "execution_count": 17,
   "metadata": {},
   "outputs": [
    {
     "ename": "NameError",
     "evalue": "name 'Graph' is not defined",
     "output_type": "error",
     "traceback": [
      "\u001b[1;31m---------------------------------------------------------------------------\u001b[0m",
      "\u001b[1;31mNameError\u001b[0m                                 Traceback (most recent call last)",
      "\u001b[1;32m<ipython-input-17-e2cf88833bc5>\u001b[0m in \u001b[0;36m<module>\u001b[1;34m\u001b[0m\n\u001b[1;32m----> 1\u001b[1;33m \u001b[0mg\u001b[0m \u001b[1;33m=\u001b[0m \u001b[0mGraph\u001b[0m\u001b[1;33m(\u001b[0m\u001b[1;33m)\u001b[0m\u001b[1;33m\u001b[0m\u001b[1;33m\u001b[0m\u001b[0m\n\u001b[0m\u001b[0;32m      2\u001b[0m \u001b[1;33m\u001b[0m\u001b[0m\n\u001b[0;32m      3\u001b[0m \u001b[0mg\u001b[0m\u001b[1;33m.\u001b[0m\u001b[0mparse\u001b[0m\u001b[1;33m(\u001b[0m\u001b[1;34m'http://dbpedia.org/resource/Klaas-Jan_Huntelaar%27'\u001b[0m\u001b[1;33m)\u001b[0m\u001b[1;33m\u001b[0m\u001b[1;33m\u001b[0m\u001b[0m\n\u001b[0;32m      4\u001b[0m \u001b[0mtriples\u001b[0m\u001b[1;33m=\u001b[0m \u001b[1;33m[\u001b[0m\u001b[0mtriple\u001b[0m \u001b[1;32mfor\u001b[0m \u001b[0mtriple\u001b[0m \u001b[1;32min\u001b[0m \u001b[0mh\u001b[0m\u001b[1;33m]\u001b[0m\u001b[1;33m\u001b[0m\u001b[1;33m\u001b[0m\u001b[0m\n\u001b[0;32m      5\u001b[0m \u001b[0mtriples\u001b[0m\u001b[1;33m[\u001b[0m\u001b[1;33m:\u001b[0m\u001b[1;36m2\u001b[0m\u001b[1;33m]\u001b[0m\u001b[1;33m,\u001b[0m \u001b[0mlen\u001b[0m\u001b[1;33m(\u001b[0m\u001b[0mtriples\u001b[0m\u001b[1;33m)\u001b[0m\u001b[1;33m\u001b[0m\u001b[1;33m\u001b[0m\u001b[0m\n",
      "\u001b[1;31mNameError\u001b[0m: name 'Graph' is not defined"
     ]
    }
   ],
   "source": [
    "g = Graph()\n",
    "\n",
    "g.parse('http://dbpedia.org/resource/Klaas-Jan_Huntelaar%27')\n",
    "triples= [triple for triple in h]\n",
    "triples[:2], len(triples)"
   ]
  },
  {
   "cell_type": "markdown",
   "metadata": {},
   "source": [
    "Deze tripples bevatten ieder een feit over Klaas. Elk van deze feiten hebben weer een link naar de pagina waar de informatie vandaan komt. Nu we data hebben ingeladen is het tijd om het om te zetten tot een networkx graph. Met de functie networkx.conert.to_networkx_graph(x) is het mogelijk om een networkx graph te maken met x als een vorm van data. Deze functie kan verschillende vormen van data omzetten en heeft niet percee 1 vaste vorm nodig. Verder documentatie: https://networkx.org/documentation/stable//reference/generated/networkx.convert.to_networkx_graph.html#networkx.convert.to_networkx_graph\n",
    "\n",
    "Om de triples verkregen van dbpedia in networkx vorm te krijgen gaan we eerst de subject en object van de triples omzetten in edges. Dit doen we als volgt met een list comprehension:"
   ]
  },
  {
   "cell_type": "code",
   "execution_count": null,
   "metadata": {},
   "outputs": [],
   "source": [
    "list = [(triple[0],triple[2]) for triple in triples]\n",
    "p = networkx.convert.to_networkx_graph(list)"
   ]
  },
  {
   "cell_type": "markdown",
   "metadata": {},
   "source": [
    "Uiteindelijk kan het network met de functie worden gevormd."
   ]
  },
  {
   "cell_type": "code",
   "execution_count": 18,
   "metadata": {},
   "outputs": [
    {
     "ename": "NameError",
     "evalue": "name 'p' is not defined",
     "output_type": "error",
     "traceback": [
      "\u001b[1;31m---------------------------------------------------------------------------\u001b[0m",
      "\u001b[1;31mNameError\u001b[0m                                 Traceback (most recent call last)",
      "\u001b[1;32m<ipython-input-18-99cc998407df>\u001b[0m in \u001b[0;36m<module>\u001b[1;34m\u001b[0m\n\u001b[1;32m----> 1\u001b[1;33m \u001b[0mcode\u001b[0m\u001b[1;33m:\u001b[0m \u001b[0mnx\u001b[0m\u001b[1;33m.\u001b[0m\u001b[0mdraw\u001b[0m\u001b[1;33m(\u001b[0m\u001b[0mp\u001b[0m\u001b[1;33m,\u001b[0m \u001b[0mwith_label\u001b[0m\u001b[1;33m=\u001b[0m\u001b[1;32mTrue\u001b[0m\u001b[1;33m)\u001b[0m\u001b[1;33m\u001b[0m\u001b[1;33m\u001b[0m\u001b[0m\n\u001b[0m",
      "\u001b[1;31mNameError\u001b[0m: name 'p' is not defined"
     ]
    }
   ],
   "source": [
    "nx.draw(p, with_label=True)"
   ]
  },
  {
   "cell_type": "code",
   "execution_count": null,
   "metadata": {},
   "outputs": [],
   "source": []
  }
 ],
 "metadata": {
  "kernelspec": {
   "display_name": "Python 3",
   "language": "python",
   "name": "python3"
  },
  "language_info": {
   "codemirror_mode": {
    "name": "ipython",
    "version": 3
   },
   "file_extension": ".py",
   "mimetype": "text/x-python",
   "name": "python",
   "nbconvert_exporter": "python",
   "pygments_lexer": "ipython3",
   "version": "3.8.5"
  },
  "toc": {
   "nav_menu": {},
   "number_sections": true,
   "sideBar": true,
   "skip_h1_title": false,
   "title_cell": "Table of Contents",
   "title_sidebar": "Contents",
   "toc_cell": true,
   "toc_position": {},
   "toc_section_display": true,
   "toc_window_display": false
  }
 },
 "nbformat": 4,
 "nbformat_minor": 2
}
