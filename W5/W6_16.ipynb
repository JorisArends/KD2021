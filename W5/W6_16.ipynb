{
 "cells": [
  {
   "cell_type": "markdown",
   "metadata": {},
   "source": [
    "# Assignment Kennis en Data"
   ]
  },
  {
   "cell_type": "markdown",
   "metadata": {},
   "source": [
    "## Notebook made by\n",
    "\n",
    "\n",
    "|Naam|Studentnummer|\n",
    "|-|-|\n",
    "|Lucas|secret|\n",
    "|Stefan|secret|\n",
    "|Mike|secret|\n",
    "|Thomas|secret|\n",
    "\n",
    "## Peerreview\n",
    "\n",
    "* Vul onderstaande dict/tabel in en run de cel. Klopt het? Zijn jullie het er allemaal mee eens?\n",
    "    * Verander `1,2,3,4` door jullie studentnummers\n",
    "    * `1: {1:.2,2:.3,3:.3,4:.2}` betekent dat student 1 zijn punt zo over de 4 studenten verdeelt\n",
    "    * Let op, per student moeten de punten optellen tot 1!\n",
    "    * De gegeven punten staan in de tabel op de rijen, de ontvangen punten in de kolommen.\n",
    "    * met `cijfer_per_student` kan je bepalen welk cijfer ieder krijgt bij een gegeven groepscijfer."
   ]
  },
  {
   "cell_type": "markdown",
   "metadata": {},
   "source": [
    "## Toelichting\n",
    "\n",
    "* De meeste opgaven worden automatisch nagekeken. Bij vrijwel alle opdrachten staan er een paar tests onder de opdracht, dit is voornamelijk om te zorgen dat je de juiste type output geeft. Dit zijn dus *NIET* alle tests, die komen er bij het graden nog bij.\n",
    "* Elke vraag is 1 punt waard, tenzij anders aangegeven. Soms is die punt onderverdeeld in deelpunten, maar niet altijd. \n",
    "\n",
    "## Voor het inleveren!\n",
    "\n",
    "* Pas niet de cellen aan, vooral niet die je niet kunt editen. Dit levert problemen op bij nakijken. Twijfel je of je per ongeluk iets hebt gewijzigd, kopieer dan bij inleveren je antwoorden naar een nieuw bestand, zodat het niet fout kan gaan.\n",
    "\n",
    "* Zorg dat de code goed runt van boven naar beneden, verifieer dat door boven in Kernel -> Restart & Run All uit te voeren\n",
    "\n",
    "## Na het inleveren!\n",
    "\n",
    "* Het gebeurt erg vaak dat mensen een \"leeg bestand\" inleveren. Vaak een andere versie van de opgave die nog ergens op je computer rondslingerde. Zonde van al je werk toch!\n",
    "* Dus, lever **minstens een half uur voor tijd in**. Download dan wat je hebt ingeleverd op Canvas. Geef het een andere naam om verwarring te voorkomen. En draai alle cellen, en bekijk het. Geen syntax fouten? Alle vragen gemaakt? Dan zit het vast wel goed, en hoef je niet in de zenuwen te zitten."
   ]
  },
  {
   "cell_type": "markdown",
   "metadata": {
    "toc": true
   },
   "source": [
    "<h1>Table of Contents<span class=\"tocSkip\"></span></h1>\n",
    "<div class=\"toc\"><ul class=\"toc-item\"><li><span><a href=\"#RDF-plus-RDFS-conversion\" data-toc-modified-id=\"RDF-plus-RDFS-conversion-1\"><span class=\"toc-item-num\">1&nbsp;&nbsp;</span>RDF plus RDFS conversion</a></span><ul class=\"toc-item\"><li><span><a href=\"#Vereisten\" data-toc-modified-id=\"Vereisten-1.1\"><span class=\"toc-item-num\">1.1&nbsp;&nbsp;</span>Vereisten</a></span></li><li><span><a href=\"#Grading\" data-toc-modified-id=\"Grading-1.2\"><span class=\"toc-item-num\">1.2&nbsp;&nbsp;</span>Grading</a></span></li></ul></li></ul></div>"
   ]
  },
  {
   "cell_type": "markdown",
   "metadata": {},
   "source": [
    "# RDF plus RDFS conversion\n",
    "\n",
    "* We will transform our family and LHBTI++ knowledge base into an RDF database and query it using SPARQL.\n",
    "* The idea is that **you create this notebook as a tutorial on working with `rdflib`**.\n",
    "* You will find many on the web, so search, watch and use the best what you can find to make a fun and top tutorial.\n",
    "\n",
    "## Vereisten\n",
    "\n",
    "1. `networkx2RDF(G)` takes any digraph G with additional node attributes and transform it to an RDF database.\n",
    "2. Maak SPARQL queries voor al je gedefinieerde relaties. \n",
    "    * Check dat de antwoorden identiek zijn.\n",
    "3. Download een andere triple store en maak daar juist een networkx graaf van (dat kan met rdflib), en bereken wat netwerk maten daarop.\n",
    "\n",
    "## Grading\n",
    "\n",
    "* Deze opdracht doen we met peergrading.\n",
    "* Ieder groepje kijkt alle anderen en zichzelf na en geeft ieder groepje een deel van in totaal 100 te verdelen  punten.\n",
    "* De eindscores transformeren we dan naar een cijfer tussen de 1 en 10. "
   ]
  },
  {
   "cell_type": "code",
   "execution_count": 50,
   "metadata": {
    "ExecuteTime": {
     "end_time": "2021-03-04T13:25:00.631481Z",
     "start_time": "2021-03-04T13:25:00.626484Z"
    }
   },
   "outputs": [],
   "source": [
    "# !pip install rdflib\n",
    "# See https://rdflib.readthedocs.io/en/stable/gettingstarted.html\n",
    "from rdflib import  Graph\n",
    "import rdflib\n",
    "import networkx as nx\n"
   ]
  },
  {
   "cell_type": "code",
   "execution_count": 51,
   "metadata": {
    "ExecuteTime": {
     "end_time": "2021-03-04T13:10:48.288416Z",
     "start_time": "2021-03-04T13:10:45.940032Z"
    }
   },
   "outputs": [
    {
     "data": {
      "text/plain": [
       "<Graph identifier=Nf7f2585b64ab4edf9c4d3c2358c9eadb (<class 'rdflib.graph.Graph'>)>"
      ]
     },
     "execution_count": 51,
     "metadata": {},
     "output_type": "execute_result"
    }
   ],
   "source": [
    "g=Graph()\n",
    "g.parse('http://dbpedia.org/resource/Michael_Jackson')\n",
    "\n"
   ]
  },
  {
   "cell_type": "code",
   "execution_count": 52,
   "metadata": {
    "ExecuteTime": {
     "end_time": "2021-03-04T18:06:07.470624Z",
     "start_time": "2021-03-04T18:06:07.439642Z"
    }
   },
   "outputs": [
    {
     "data": {
      "text/plain": [
       "([(rdflib.term.URIRef('http://dbpedia.org/resource/List_of_RPM_number-one_dance_singles_of_1991'),\n",
       "   rdflib.term.URIRef('http://dbpedia.org/ontology/wikiPageWikiLink'),\n",
       "   rdflib.term.URIRef('http://dbpedia.org/resource/Michael_Jackson')),\n",
       "  (rdflib.term.URIRef('http://dbpedia.org/resource/Relax,_Take_It_Easy'),\n",
       "   rdflib.term.URIRef('http://dbpedia.org/ontology/wikiPageWikiLink'),\n",
       "   rdflib.term.URIRef('http://dbpedia.org/resource/Michael_Jackson'))],\n",
       " 9368)"
      ]
     },
     "execution_count": 52,
     "metadata": {},
     "output_type": "execute_result"
    }
   ],
   "source": [
    "triples= [triple for triple in g]\n",
    "triples[:2], len(triples)"
   ]
  },
  {
   "cell_type": "markdown",
   "metadata": {},
   "source": [
    "## Familie Graph"
   ]
  },
  {
   "cell_type": "markdown",
   "metadata": {},
   "source": [
    "### Wat is RDF?\n",
    "- RDF staat voor Resource Description Framework en is een standaardmodel voor het uitwisselen van gegevens op het internet. In feite is RDF een ‘taal’ waarin feiten kunnen worden opgeslagen. Al deze feiten hebben deze structuur: subject-predicaat-object. Samen vormen deze drie onderdelen een *triple*\n",
    "- Een voorbeeld van een feit in deze structuur is ‘Amsterdam is de hoofdstad van Nederland’. Het subject is ‘Amsterdam’, het predicaat is ‘hoofdstad van’ en het object is ‘Nederland’.\n",
    "- In logica zou het er zo uit zien: hoofstad_van(Amsterdam, Nederland).\n",
    "\n",
    "\n",
    "### Tutorial\n",
    "In de onderstaande cell is te zien hoe er in simpele termen een *triple* kan worden gemaakt in python.\n",
    "\n"
   ]
  },
  {
   "cell_type": "code",
   "execution_count": 53,
   "metadata": {
    "ExecuteTime": {
     "end_time": "2021-03-04T18:49:33.744178Z",
     "start_time": "2021-03-04T18:49:33.737194Z"
    }
   },
   "outputs": [
    {
     "data": {
      "text/plain": [
       "('bob', 'kent', 'mary')"
      ]
     },
     "execution_count": 53,
     "metadata": {},
     "output_type": "execute_result"
    }
   ],
   "source": [
    "test = Graph()\n",
    "test.bind(\"foaf\", rdflib.FOAF)\n",
    "\n",
    "# 'Kent' relatie\n",
    "obj = 'bob'\n",
    "pre = 'kent'\n",
    "subj = 'mary'\n",
    "\n",
    "# 'Man/Vrouw' relatie\n",
    "obj_2 = 'bob'\n",
    "pre_2 = 'type'\n",
    "subj_2 = 'M'\n",
    "\n",
    "obj, pre, subj"
   ]
  },
  {
   "cell_type": "markdown",
   "metadata": {},
   "source": [
    "### Namespaces\n",
    "In rdflib moeten elk van de termen van een triple worden omgezet naar rdflib variabelen. Namespaces bevatten vele voorgedefinieerde relaties. In ons geval passen we de relatie \"knows\" toe uit de FOAF (Friend Of A Friend) namespace, een namespace die handig is voor het beschrijven van eigenschappen van en relaties tussen mensen, aangezien wij een rdf database gaan maken van een familienetwerk bestaande uit mensen en familierelaties."
   ]
  },
  {
   "cell_type": "code",
   "execution_count": 54,
   "metadata": {
    "ExecuteTime": {
     "end_time": "2021-03-04T18:50:01.123524Z",
     "start_time": "2021-03-04T18:50:01.113529Z"
    }
   },
   "outputs": [
    {
     "data": {
      "text/plain": [
       "(rdflib.term.Literal('bob'),\n",
       " rdflib.term.URIRef('http://xmlns.com/foaf/0.1/knows'),\n",
       " rdflib.term.Literal('mary'))"
      ]
     },
     "execution_count": 54,
     "metadata": {},
     "output_type": "execute_result"
    }
   ],
   "source": [
    "# Verander obj, relatie en subject naar rdflib objecten:\n",
    "# 'Kent' relatie\n",
    "obj = rdflib.Literal(obj)\n",
    "rel = rdflib.FOAF.knows\n",
    "subj = rdflib.Literal(subj)\n",
    "\n",
    "# 'Man/Vrouw' relatie\n",
    "obj_2 = rdflib.Literal(obj_2)\n",
    "rel_2 = rdflib.RDF.type\n",
    "subj_2 = rdflib.Literal(subj_2)\n",
    "\n",
    "obj, rel, subj"
   ]
  },
  {
   "cell_type": "markdown",
   "metadata": {},
   "source": [
    "Voor het opzetten van een rdf netwerk met behulp van rdflib moet er een graph worden gedefinieerd. Vervolgens kunnen triples worden opgesteld en kunnen deze direct aan het netwerk (de graph) worden toegevoegd.\n",
    "Ook kunnen informatiedatabases beschikbaar op het internet in één keer worden toegevoegd aan een rdf graph door middel van de functie *.parse()*. Een voorwaarde hiervoor is wel dat de database een *triple store* is.\n"
   ]
  },
  {
   "cell_type": "code",
   "execution_count": 55,
   "metadata": {
    "ExecuteTime": {
     "end_time": "2021-03-04T18:50:28.960265Z",
     "start_time": "2021-03-04T18:50:28.953269Z"
    }
   },
   "outputs": [
    {
     "name": "stdout",
     "output_type": "stream",
     "text": [
      "bob http://www.w3.org/1999/02/22-rdf-syntax-ns#type M\n",
      "bob http://xmlns.com/foaf/0.1/knows mary\n"
     ]
    }
   ],
   "source": [
    "# Voeg triple toe aan rdflib.Graph()\n",
    "test.add((obj, rel, subj))\n",
    "test.add((obj_2, rel_2, subj_2))\n",
    "\n",
    "for x in test:\n",
    "    print(x[0], x[1], x[2])"
   ]
  },
  {
   "cell_type": "markdown",
   "metadata": {},
   "source": [
    "### Queries op een rdf database met Sparql\n",
    "\n",
    "Vervolgens kunnen er met behulp van Sparql queries op de graph gemaakt worden.  \n",
    "\n",
    "Predicaatlogische vragen als de onderstaande vraag kunnen worden omgevormd tot een SQL (Sparql) *queery*:\n",
    "\n",
    "$\\forall x \\exists y (Knows(x,y))$  \n",
    "  \n",
    "wordt dan:  \n",
    "  \n",
    "SELECT ?x ?y WHERE {?x foaf:knows ?y}"
   ]
  },
  {
   "cell_type": "code",
   "execution_count": 56,
   "metadata": {
    "ExecuteTime": {
     "end_time": "2021-03-04T18:51:01.479247Z",
     "start_time": "2021-03-04T18:51:01.466265Z"
    }
   },
   "outputs": [
    {
     "name": "stdout",
     "output_type": "stream",
     "text": [
      "bob mary\n",
      "bob\n"
     ]
    }
   ],
   "source": [
    "# Selecteer iedereen die iemand kent\n",
    "for x in test.query(\"\"\"SELECT ?x ?y WHERE {?x foaf:knows ?y}\"\"\"):\n",
    "    print(x[0],x[1])\n",
    "\n",
    "# Selecteer alle mannen\n",
    "for x in test.query(\"\"\"SELECT ?x WHERE {?x rdf:type 'M'}\"\"\"):\n",
    "    print(x[0])\n",
    "    \n",
    "    "
   ]
  },
  {
   "cell_type": "markdown",
   "metadata": {},
   "source": [
    "In de volgende cell wordt er een networkx familienetwerk gedefinieerd wat is gebruikt in een eerdere opdracht."
   ]
  },
  {
   "cell_type": "code",
   "execution_count": 57,
   "metadata": {
    "ExecuteTime": {
     "end_time": "2021-03-04T17:56:00.759990Z",
     "start_time": "2021-03-04T17:55:59.942448Z"
    }
   },
   "outputs": [],
   "source": [
    "import matplotlib.pyplot as plt\n",
    "import networkx as nx\n",
    "\n",
    "\n",
    "# Familie Stefan\n",
    "# Geslacht definitie voor de personen in het netwerk\n",
    "M = {'Sjaak', 'Koos', 'Ron', 'Remy', 'Stefan', 'Patrick', 'Michael', 'Lester', 'Kenneth', 'Jayden', 'Vince', 'Marcel'}\n",
    "V = {'Rietje','Fia', 'Monique', 'Brenda', 'Mieke', 'Nicky'}\n",
    "\n",
    "S = nx.DiGraph()\n",
    "MS = S.subgraph(S.add_nodes_from(M))\n",
    "VS = S.subgraph(S.add_nodes_from(V))\n",
    "\n",
    "for n in M:\n",
    "    S.nodes[n]['M']=True\n",
    "    S.nodes[n]['V']=False\n",
    "for n in V:\n",
    "    S.nodes[n]['V']=True\n",
    "    S.nodes[n]['M']=False\n",
    "\n",
    "# De edges in dit netwerk stellen ouderrelaties voor met het format (ouder, kind).\n",
    "S.add_edges_from([('Sjaak','Monique'), ('Fia','Monique'),\n",
    "                  ('Sjaak','Brenda'), ('Fia','Brenda'), \n",
    "                  ('Brenda', 'Kenneth'), ('Brenda', 'Lester'), \n",
    "                  ('Remy','Kenneth'), ('Remy', 'Lester'), \n",
    "                  ('Monique','Stefan'), ('Rietje', 'Ron'), \n",
    "                  ('Rietje', 'Mieke'), ('Rietje','Marcel'), \n",
    "                  ('Koos', 'Ron'), ('Koos', 'Mieke'), \n",
    "                  ('Koos','Marcel'),('Nicky','Vince'),\n",
    "                  ('Ron', 'Stefan'), ('Ron', 'Patrick'), \n",
    "                  ('Ron', 'Michael'), ('Michael', 'Jayden'),\n",
    "                  ('Michael', 'Vince'), ('Nicky', 'Jayden')])\n",
    "\n"
   ]
  },
  {
   "cell_type": "code",
   "execution_count": 58,
   "metadata": {},
   "outputs": [
    {
     "data": {
      "image/png": "[encoded data removed]",
      "text/plain": [
       "<Figure size 720x360 with 1 Axes>"
      ]
     },
     "metadata": {},
     "output_type": "display_data"
    }
   ],
   "source": [
    "import pydot\n",
    "from networkx.drawing.nx_pydot import graphviz_layout\n",
    "\n",
    "plt.figure(figsize=(10,5))\n",
    "pos = graphviz_layout(S, prog=\"dot\")\n",
    "nx.draw(MS, pos, with_labels = True, node_size = 2000, node_color = 'red', font_color = 'white', node_shape = 's')\n",
    "nx.draw(VS, pos, with_labels = True, node_size = 2000, node_color = 'red', font_color = 'white')"
   ]
  },
  {
   "cell_type": "markdown",
   "metadata": {},
   "source": [
    "### Networkx2RDF\n",
    "Deze functie neemt een nx.Graph() als input. \n",
    "Voor alle nodes in de Graph wordt er geloopt over de atributen van de nodes. De atributen worden toegevoegd aan het rdflib netwerk met de 'RDF:type' relatie. Vervolgens worden de edges aan het rdflib netwerk toegevoegd met de 'FOAF.knows' relatie. Dit representeert de relatie tussen nodes die een edge met elkaar hebben."
   ]
  },
  {
   "cell_type": "code",
   "execution_count": 59,
   "metadata": {
    "ExecuteTime": {
     "end_time": "2021-03-04T18:11:00.250973Z",
     "start_time": "2021-03-04T18:11:00.229972Z"
    },
    "scrolled": true
   },
   "outputs": [],
   "source": [
    "# Neemt een nx.Graph() en returnt een rdflib.Graph()\n",
    "def networkx2RDF(G):\n",
    "    d = Graph()\n",
    "    d.bind(\"foaf\", rdflib.FOAF)\n",
    "\n",
    "    for x in G:\n",
    "        obj = rdflib.Literal(x)\n",
    "        \n",
    "        d.add((obj,rdflib.FOAF.name, rdflib.Literal(obj) ))\n",
    "\n",
    "        for y in G.nodes[x]:\n",
    "            subj = y\n",
    "\n",
    "            if G.nodes[x][y]:\n",
    "                d.add((obj,rdflib.RDF.type, rdflib.Literal(subj)))\n",
    "\n",
    "        if G.edges(x):\n",
    "            for y in G.edges(x):\n",
    "                subj = y[1]\n",
    "                d.add((obj,rdflib.FOAF.knows, rdflib.Literal(subj)))\n",
    "    return d\n",
    "        \n",
    "A = networkx2RDF(S)\n"
   ]
  },
  {
   "cell_type": "markdown",
   "metadata": {},
   "source": [
    "### Sparql queries op het familienetwerk\n",
    "\n",
    "In de volgende cell zijn enkele predicaatlogische familierelaties vertaald naar Sparql queries. Vervolgens kunnen we deze queries stellen op het familienetwerk. Om te controleren of de resultaten van de queries kloppen wordt er een dataframe aangemaakt waarin overzichtelijk de familierelaties te zien zijn. Elementen in de dataframe volgen het volgende format: (x, y) betekend x heeft de relatie [kolomnaam] met y."
   ]
  },
  {
   "cell_type": "code",
   "execution_count": 60,
   "metadata": {
    "ExecuteTime": {
     "end_time": "2021-03-04T17:59:22.647145Z",
     "start_time": "2021-03-04T17:59:22.503229Z"
    }
   },
   "outputs": [
    {
     "data": {
      "text/html": [
       "<div>\n",
       "<style scoped>\n",
       "    .dataframe tbody tr th:only-of-type {\n",
       "        vertical-align: middle;\n",
       "    }\n",
       "\n",
       "    .dataframe tbody tr th {\n",
       "        vertical-align: top;\n",
       "    }\n",
       "\n",
       "    .dataframe thead th {\n",
       "        text-align: right;\n",
       "    }\n",
       "</style>\n",
       "<table border=\"1\" class=\"dataframe\">\n",
       "  <thead>\n",
       "    <tr style=\"text-align: right;\">\n",
       "      <th></th>\n",
       "      <th>Vader</th>\n",
       "      <th>Moeder</th>\n",
       "      <th>Broer</th>\n",
       "      <th>Zus</th>\n",
       "      <th>Opa</th>\n",
       "      <th>Oma</th>\n",
       "      <th>Oom</th>\n",
       "      <th>Tante</th>\n",
       "    </tr>\n",
       "  </thead>\n",
       "  <tbody>\n",
       "    <tr>\n",
       "      <th>0</th>\n",
       "      <td>(Michael, Vince)</td>\n",
       "      <td>(Rietje, Mieke)</td>\n",
       "      <td>(Jayden, Vince)</td>\n",
       "      <td>(Brenda, Monique)</td>\n",
       "      <td>(Sjaak, Stefan)</td>\n",
       "      <td>(Rietje, Stefan)</td>\n",
       "      <td>(Marcel, Stefan)</td>\n",
       "      <td>(Brenda, Stefan)</td>\n",
       "    </tr>\n",
       "    <tr>\n",
       "      <th>1</th>\n",
       "      <td>(Michael, Jayden)</td>\n",
       "      <td>(Rietje, Marcel)</td>\n",
       "      <td>(Michael, Stefan)</td>\n",
       "      <td>(Monique, Brenda)</td>\n",
       "      <td>(Sjaak, Kenneth)</td>\n",
       "      <td>(Rietje, Patrick)</td>\n",
       "      <td>(Marcel, Patrick)</td>\n",
       "      <td>(Monique, Kenneth)</td>\n",
       "    </tr>\n",
       "    <tr>\n",
       "      <th>2</th>\n",
       "      <td>(Sjaak, Monique)</td>\n",
       "      <td>(Rietje, Ron)</td>\n",
       "      <td>(Michael, Patrick)</td>\n",
       "      <td>(Mieke, Marcel)</td>\n",
       "      <td>(Sjaak, Lester)</td>\n",
       "      <td>(Rietje, Michael)</td>\n",
       "      <td>(Marcel, Michael)</td>\n",
       "      <td>(Monique, Lester)</td>\n",
       "    </tr>\n",
       "    <tr>\n",
       "      <th>3</th>\n",
       "      <td>(Sjaak, Brenda)</td>\n",
       "      <td>(Brenda, Kenneth)</td>\n",
       "      <td>(Marcel, Ron)</td>\n",
       "      <td>(Mieke, Ron)</td>\n",
       "      <td>(Koos, Stefan)</td>\n",
       "      <td>(Fia, Stefan)</td>\n",
       "      <td>(Patrick, Vince)</td>\n",
       "      <td>(Mieke, Stefan)</td>\n",
       "    </tr>\n",
       "    <tr>\n",
       "      <th>4</th>\n",
       "      <td>(Remy, Lester)</td>\n",
       "      <td>(Brenda, Lester)</td>\n",
       "      <td>(Marcel, Mieke)</td>\n",
       "      <td>None</td>\n",
       "      <td>(Koos, Patrick)</td>\n",
       "      <td>(Fia, Kenneth)</td>\n",
       "      <td>(Patrick, Jayden)</td>\n",
       "      <td>(Mieke, Patrick)</td>\n",
       "    </tr>\n",
       "    <tr>\n",
       "      <th>5</th>\n",
       "      <td>(Remy, Kenneth)</td>\n",
       "      <td>(Nicky, Vince)</td>\n",
       "      <td>(Vince, Jayden)</td>\n",
       "      <td>None</td>\n",
       "      <td>(Koos, Michael)</td>\n",
       "      <td>(Fia, Lester)</td>\n",
       "      <td>(Stefan, Vince)</td>\n",
       "      <td>(Mieke, Michael)</td>\n",
       "    </tr>\n",
       "    <tr>\n",
       "      <th>6</th>\n",
       "      <td>(Koos, Marcel)</td>\n",
       "      <td>(Nicky, Jayden)</td>\n",
       "      <td>(Patrick, Stefan)</td>\n",
       "      <td>None</td>\n",
       "      <td>(Ron, Vince)</td>\n",
       "      <td>None</td>\n",
       "      <td>(Stefan, Jayden)</td>\n",
       "      <td>None</td>\n",
       "    </tr>\n",
       "    <tr>\n",
       "      <th>7</th>\n",
       "      <td>(Koos, Ron)</td>\n",
       "      <td>(Fia, Monique)</td>\n",
       "      <td>(Patrick, Michael)</td>\n",
       "      <td>None</td>\n",
       "      <td>(Ron, Jayden)</td>\n",
       "      <td>None</td>\n",
       "      <td>None</td>\n",
       "      <td>None</td>\n",
       "    </tr>\n",
       "    <tr>\n",
       "      <th>8</th>\n",
       "      <td>(Koos, Mieke)</td>\n",
       "      <td>(Fia, Brenda)</td>\n",
       "      <td>(Ron, Marcel)</td>\n",
       "      <td>None</td>\n",
       "      <td>None</td>\n",
       "      <td>None</td>\n",
       "      <td>None</td>\n",
       "      <td>None</td>\n",
       "    </tr>\n",
       "    <tr>\n",
       "      <th>9</th>\n",
       "      <td>(Ron, Stefan)</td>\n",
       "      <td>(Monique, Stefan)</td>\n",
       "      <td>(Ron, Mieke)</td>\n",
       "      <td>None</td>\n",
       "      <td>None</td>\n",
       "      <td>None</td>\n",
       "      <td>None</td>\n",
       "      <td>None</td>\n",
       "    </tr>\n",
       "    <tr>\n",
       "      <th>10</th>\n",
       "      <td>(Ron, Patrick)</td>\n",
       "      <td>None</td>\n",
       "      <td>(Kenneth, Lester)</td>\n",
       "      <td>None</td>\n",
       "      <td>None</td>\n",
       "      <td>None</td>\n",
       "      <td>None</td>\n",
       "      <td>None</td>\n",
       "    </tr>\n",
       "    <tr>\n",
       "      <th>11</th>\n",
       "      <td>(Ron, Michael)</td>\n",
       "      <td>None</td>\n",
       "      <td>(Stefan, Patrick)</td>\n",
       "      <td>None</td>\n",
       "      <td>None</td>\n",
       "      <td>None</td>\n",
       "      <td>None</td>\n",
       "      <td>None</td>\n",
       "    </tr>\n",
       "    <tr>\n",
       "      <th>12</th>\n",
       "      <td>None</td>\n",
       "      <td>None</td>\n",
       "      <td>(Stefan, Michael)</td>\n",
       "      <td>None</td>\n",
       "      <td>None</td>\n",
       "      <td>None</td>\n",
       "      <td>None</td>\n",
       "      <td>None</td>\n",
       "    </tr>\n",
       "    <tr>\n",
       "      <th>13</th>\n",
       "      <td>None</td>\n",
       "      <td>None</td>\n",
       "      <td>(Lester, Kenneth)</td>\n",
       "      <td>None</td>\n",
       "      <td>None</td>\n",
       "      <td>None</td>\n",
       "      <td>None</td>\n",
       "      <td>None</td>\n",
       "    </tr>\n",
       "  </tbody>\n",
       "</table>\n",
       "</div>"
      ],
      "text/plain": [
       "                Vader             Moeder               Broer  \\\n",
       "0    (Michael, Vince)    (Rietje, Mieke)     (Jayden, Vince)   \n",
       "1   (Michael, Jayden)   (Rietje, Marcel)   (Michael, Stefan)   \n",
       "2    (Sjaak, Monique)      (Rietje, Ron)  (Michael, Patrick)   \n",
       "3     (Sjaak, Brenda)  (Brenda, Kenneth)       (Marcel, Ron)   \n",
       "4      (Remy, Lester)   (Brenda, Lester)     (Marcel, Mieke)   \n",
       "5     (Remy, Kenneth)     (Nicky, Vince)     (Vince, Jayden)   \n",
       "6      (Koos, Marcel)    (Nicky, Jayden)   (Patrick, Stefan)   \n",
       "7         (Koos, Ron)     (Fia, Monique)  (Patrick, Michael)   \n",
       "8       (Koos, Mieke)      (Fia, Brenda)       (Ron, Marcel)   \n",
       "9       (Ron, Stefan)  (Monique, Stefan)        (Ron, Mieke)   \n",
       "10     (Ron, Patrick)               None   (Kenneth, Lester)   \n",
       "11     (Ron, Michael)               None   (Stefan, Patrick)   \n",
       "12               None               None   (Stefan, Michael)   \n",
       "13               None               None   (Lester, Kenneth)   \n",
       "\n",
       "                  Zus               Opa                Oma                Oom  \\\n",
       "0   (Brenda, Monique)   (Sjaak, Stefan)   (Rietje, Stefan)   (Marcel, Stefan)   \n",
       "1   (Monique, Brenda)  (Sjaak, Kenneth)  (Rietje, Patrick)  (Marcel, Patrick)   \n",
       "2     (Mieke, Marcel)   (Sjaak, Lester)  (Rietje, Michael)  (Marcel, Michael)   \n",
       "3        (Mieke, Ron)    (Koos, Stefan)      (Fia, Stefan)   (Patrick, Vince)   \n",
       "4                None   (Koos, Patrick)     (Fia, Kenneth)  (Patrick, Jayden)   \n",
       "5                None   (Koos, Michael)      (Fia, Lester)    (Stefan, Vince)   \n",
       "6                None      (Ron, Vince)               None   (Stefan, Jayden)   \n",
       "7                None     (Ron, Jayden)               None               None   \n",
       "8                None              None               None               None   \n",
       "9                None              None               None               None   \n",
       "10               None              None               None               None   \n",
       "11               None              None               None               None   \n",
       "12               None              None               None               None   \n",
       "13               None              None               None               None   \n",
       "\n",
       "                 Tante  \n",
       "0     (Brenda, Stefan)  \n",
       "1   (Monique, Kenneth)  \n",
       "2    (Monique, Lester)  \n",
       "3      (Mieke, Stefan)  \n",
       "4     (Mieke, Patrick)  \n",
       "5     (Mieke, Michael)  \n",
       "6                 None  \n",
       "7                 None  \n",
       "8                 None  \n",
       "9                 None  \n",
       "10                None  \n",
       "11                None  \n",
       "12                None  \n",
       "13                None  "
      ]
     },
     "execution_count": 60,
     "metadata": {},
     "output_type": "execute_result"
    }
   ],
   "source": [
    "from collections import defaultdict\n",
    "import pandas as pd\n",
    "\n",
    "# Neemt een RDF en returnt de familierelaties in een DF\n",
    "def Relaties_RDF(RDF):\n",
    "    a = defaultdict(list)\n",
    "    rels = ['Vader','Moeder','Broer','Zus','Opa','Oma','Oom','Tante']\n",
    "    \n",
    "    Zus = RDF.query(\"\"\"\n",
    "    SELECT DISTINCT ?x ?y WHERE {?x rdf:type 'V' . ?z foaf:knows ?x . ?z foaf:knows ?y . FILTER ( ?x != ?y) }\n",
    "    \"\"\")\n",
    "\n",
    "    Broer = RDF.query(\"\"\"\n",
    "    SELECT DISTINCT ?x ?y WHERE {?x rdf:type 'M' . ?z foaf:knows ?x . ?z foaf:knows ?y . FILTER ( ?x != ?y) }\n",
    "    \"\"\")\n",
    "\n",
    "    Vader = RDF.query(\"\"\"\n",
    "    SELECT DISTINCT ?x ?y WHERE {?x rdf:type 'M' . ?x foaf:knows ?y}\n",
    "    \"\"\")\n",
    "\n",
    "    Moeder = RDF.query(\"\"\"\n",
    "    SELECT DISTINCT ?x ?y WHERE {?x rdf:type 'V' . ?x foaf:knows ?y}\n",
    "    \"\"\")\n",
    "\n",
    "    Opa = RDF.query(\"\"\"\n",
    "    SELECT DISTINCT ?x ?y WHERE {?x rdf:type 'M' . ?x foaf:knows ?z . ?z foaf:knows ?y}\n",
    "    \"\"\")\n",
    "\n",
    "    Oma = RDF.query(\"\"\"\n",
    "    SELECT DISTINCT ?x ?y WHERE {?x rdf:type 'V' . ?x foaf:knows ?z . ?z foaf:knows ?y}\n",
    "    \"\"\")\n",
    "\n",
    "    Oom = RDF.query(\"\"\"\n",
    "    SELECT DISTINCT ?x ?y WHERE {?z foaf:knows ?y . ?o foaf:knows ?z . ?o foaf:knows ?x . FILTER(?z != ?x) . ?x rdf:type 'M'}\n",
    "    \"\"\")\n",
    "\n",
    "    Tante = RDF.query(\"\"\"\n",
    "    SELECT DISTINCT ?x ?y WHERE {?z foaf:knows ?y . ?o foaf:knows ?z . ?o foaf:knows ?x . FILTER(?z != ?x) . ?x rdf:type 'V'}\n",
    "    \"\"\")\n",
    "    \n",
    "    for x in rels:\n",
    "        for y in eval(x):\n",
    "            a[x].append((y[0],y[1]))\n",
    "            \n",
    "    return pd.DataFrame.from_dict(a, orient = 'index').T\n",
    "    \n",
    "\n",
    "   \n",
    "Relaties_RDF(networkx2RDF(S))"
   ]
  },
  {
   "cell_type": "markdown",
   "metadata": {},
   "source": [
    "Rdflib heeft een functie die een triplestore kan omzetten naar een networkx graph.\n",
    "In de onderstaande cell passen wij dit toe en tonen wij enkele netwerkmaten."
   ]
  },
  {
   "cell_type": "code",
   "execution_count": 61,
   "metadata": {
    "ExecuteTime": {
     "end_time": "2021-03-04T18:24:32.778615Z",
     "start_time": "2021-03-04T18:24:31.777123Z"
    }
   },
   "outputs": [
    {
     "name": "stdout",
     "output_type": "stream",
     "text": [
      "density:  0.0001292814623561709 \n",
      "\n",
      "Degree centrality: \n",
      "http://dbpedia.org/resource/List_of_RPM_number-one_dance_singles_of_1991 0.0001243781094527363\n",
      "http://dbpedia.org/resource/Michael_Jackson 1.0396766169154228\n",
      "http://dbpedia.org/resource/Relax,_Take_It_Easy 0.0001243781094527363\n",
      "http://musicbrainz.org/artist/f27ec8db-af05-4f36-916e-3d57f91ecf5e 0.0001243781094527363\n",
      "http://dbpedia.org/resource/E.T._the_Extra-Terrestrial_(soundtrack) 0.0001243781094527363\n",
      "http://dbpedia.org/resource/Urban_Myths 0.0001243781094527363\n",
      "http://dbpedia.org/resource/Michael_jackson_singer 0.0001243781094527363\n",
      "http://dbpedia.org/resource/Forat_F9000 0.0001243781094527363\n",
      "http://dbpedia.org/resource/You_Are_Not_Alone 0.0002487562189054726\n",
      "\n",
      "Flow hierarchy:  0.9240248863364441\n"
     ]
    }
   ],
   "source": [
    "\n",
    "from rdflib.extras.external_graph_libs import rdflib_to_networkx_digraph\n",
    "\n",
    "density = nx.density(rdflib_to_networkx_digraph(g))\n",
    "degree_centrality = nx.degree_centrality(rdflib_to_networkx_digraph(g))\n",
    "flow_hierarchy = nx.flow_hierarchy(rdflib_to_networkx_digraph(g))\n",
    "\n",
    "# density, degree_centrality[:10], flow_hierarchy\n",
    "\n",
    "print(\"density: \", density, \"\\n\")\n",
    "\n",
    "print(\"Degree centrality: \")\n",
    "i = 0\n",
    "for x in degree_centrality:\n",
    "    i +=1\n",
    "    if i == 10:\n",
    "        break\n",
    "    print(x, degree_centrality[x])\n",
    "\n",
    "    \n",
    "print(\"\\nFlow hierarchy: \",  flow_hierarchy)"
   ]
  },
  {
   "cell_type": "code",
   "execution_count": null,
   "metadata": {},
   "outputs": [],
   "source": []
  }
 ],
 "metadata": {
  "kernelspec": {
   "display_name": "Python 3",
   "language": "python",
   "name": "python3"
  },
  "language_info": {
   "codemirror_mode": {
    "name": "ipython",
    "version": 3
   },
   "file_extension": ".py",
   "mimetype": "text/x-python",
   "name": "python",
   "nbconvert_exporter": "python",
   "pygments_lexer": "ipython3",
   "version": "3.7.6"
  },
  "toc": {
   "nav_menu": {},
   "number_sections": true,
   "sideBar": true,
   "skip_h1_title": false,
   "title_cell": "Table of Contents",
   "title_sidebar": "Contents",
   "toc_cell": true,
   "toc_position": {},
   "toc_section_display": true,
   "toc_window_display": false
  },
  "varInspector": {
   "cols": {
    "lenName": 16,
    "lenType": 16,
    "lenVar": 40
   },
   "kernels_config": {
    "python": {
     "delete_cmd_postfix": "",
     "delete_cmd_prefix": "del ",
     "library": "var_list.py",
     "varRefreshCmd": "print(var_dic_list())"
    },
    "r": {
     "delete_cmd_postfix": ") ",
     "delete_cmd_prefix": "rm(",
     "library": "var_list.r",
     "varRefreshCmd": "cat(var_dic_list()) "
    }
   },
   "types_to_exclude": [
    "module",
    "function",
    "builtin_function_or_method",
    "instance",
    "_Feature"
   ],
   "window_display": false
  }
 },
 "nbformat": 4,
 "nbformat_minor": 2
}
