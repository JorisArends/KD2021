{
 "cells": [
  {
   "cell_type": "markdown",
   "metadata": {
    "id": "JUbZuAkwAWdw"
   },
   "source": [
    "# Assignment Kennis en Data"
   ]
  },
  {
   "cell_type": "markdown",
   "metadata": {
    "id": "Jk4B_gmRAWd-"
   },
   "source": [
    "## Notebook made by\n",
    "\n",
    "\n",
    "|Naam|Studentnummer|\n",
    "|-|-|\n",
    "|Joris| secret |\n",
    "|Chaim| secret |\n",
    "|Maarten| secret |\n",
    "|  | |\n",
    "\n",
    "## Peerreview\n",
    "\n",
    "* Vul onderstaande dict/tabel in en run de cel. Klopt het? Zijn jullie het er allemaal mee eens?\n",
    "    * Verander `1,2,3,4` door jullie studentnummers\n",
    "    * `1: {1:.2,2:.3,3:.3,4:.2}` betekent dat student 1 zijn punt zo over de 4 studenten verdeelt\n",
    "    * Let op, per student moeten de punten optellen tot 1!\n",
    "    * De gegeven punten staan in de tabel op de rijen, de ontvangen punten in de kolommen.\n",
    "    * met `cijfer_per_student` kan je bepalen welk cijfer ieder krijgt bij een gegeven groepscijfer."
   ]
  },
  {
   "cell_type": "markdown",
   "metadata": {
    "id": "YQqSANyVAWeI"
   },
   "source": [
    "## Toelichting\n",
    "\n",
    "* De meeste opgaven worden automatisch nagekeken. Bij vrijwel alle opdrachten staan er een paar tests onder de opdracht, dit is voornamelijk om te zorgen dat je de juiste type output geeft. Dit zijn dus *NIET* alle tests, die komen er bij het graden nog bij.\n",
    "* Elke vraag is 1 punt waard, tenzij anders aangegeven. Soms is die punt onderverdeeld in deelpunten, maar niet altijd. \n",
    "\n",
    "## Voor het inleveren!\n",
    "\n",
    "* Pas niet de cellen aan, vooral niet die je niet kunt editen. Dit levert problemen op bij nakijken. Twijfel je of je per ongeluk iets hebt gewijzigd, kopieer dan bij inleveren je antwoorden naar een nieuw bestand, zodat het niet fout kan gaan.\n",
    "\n",
    "* Zorg dat de code goed runt van boven naar beneden, verifieer dat door boven in Kernel -> Restart & Run All uit te voeren\n",
    "\n",
    "## Na het inleveren!\n",
    "\n",
    "* Het gebeurt erg vaak dat mensen een \"leeg bestand\" inleveren. Vaak een andere versie van de opgave die nog ergens op je computer rondslingerde. Zonde van al je werk toch!\n",
    "* Dus, lever **minstens een half uur voor tijd in**. Download dan wat je hebt ingeleverd op Canvas. Geef het een andere naam om verwarring te voorkomen. En draai alle cellen, en bekijk het. Geen syntax fouten? Alle vragen gemaakt? Dan zit het vast wel goed, en hoef je niet in de zenuwen te zitten."
   ]
  },
  {
   "cell_type": "markdown",
   "metadata": {
    "id": "lBV69sJAAWeP"
   },
   "source": [
    "<h1>Table of Contents<span class=\"tocSkip\"></span></h1>\n",
    "<div class=\"toc\"><ul class=\"toc-item\"><li><span><a href=\"#RDF-plus-RDFS-conversion\" data-toc-modified-id=\"RDF-plus-RDFS-conversion-1\"><span class=\"toc-item-num\">1&nbsp;&nbsp;</span>RDF plus RDFS conversion</a></span><ul class=\"toc-item\"><li><span><a href=\"#Vereisten\" data-toc-modified-id=\"Vereisten-1.1\"><span class=\"toc-item-num\">1.1&nbsp;&nbsp;</span>Vereisten</a></span></li><li><span><a href=\"#Grading\" data-toc-modified-id=\"Grading-1.2\"><span class=\"toc-item-num\">1.2&nbsp;&nbsp;</span>Grading</a></span></li></ul></li></ul></div>"
   ]
  },
  {
   "cell_type": "markdown",
   "metadata": {
    "id": "rKjb8qrmAWeU"
   },
   "source": [
    "# RDF plus RDFS conversion\n",
    "\n",
    "* We will transform our family and LHBTI++ knowledge base into an RDF database and query it using SPARQL.\n",
    "* The idea is that **you create this notebook as a tutorial on working with `rdflib`**.\n",
    "* You will find many on the web, so search, watch and use the best what you can find to make a fun and top tutorial.\n",
    "\n",
    "## Vereisten\n",
    "\n",
    "1. `networkx2RDF(G)` takes any digraph G with additional node attributes and transform it to an RDF database.\n",
    "2. Maak SPARQL queries voor al je gedefinieerde relaties. \n",
    "    * Check dat de antwoorden identiek zijn.\n",
    "3. Download een andere triple store en maak daar juist een networkx graaf van (dat kan met rdflib), en bereken wat netwerk maten daarop.\n",
    "\n",
    "## Grading\n",
    "\n",
    "* Deze opdracht doen we met peergrading.\n",
    "* Ieder groepje kijkt alle anderen en zichzelf na en geeft ieder groepje een deel van in totaal 100 te verdelen  punten.\n",
    "* De eindscores transformeren we dan naar een cijfer tussen de 1 en 10. "
   ]
  },
  {
   "cell_type": "code",
   "execution_count": 45,
   "metadata": {
    "colab": {
     "base_uri": "https://localhost:8080/"
    },
    "id": "lIbf3nwdAWec",
    "outputId": "8df7d640-eef9-4fa7-cb78-d1e644367158"
   },
   "outputs": [
    {
     "name": "stdout",
     "output_type": "stream",
     "text": [
      "Requirement already satisfied: rdflib in /usr/local/lib/python3.7/dist-packages (5.0.0)\n",
      "Requirement already satisfied: isodate in /usr/local/lib/python3.7/dist-packages (from rdflib) (0.6.0)\n",
      "Requirement already satisfied: six in /usr/local/lib/python3.7/dist-packages (from rdflib) (1.15.0)\n",
      "Requirement already satisfied: pyparsing in /usr/local/lib/python3.7/dist-packages (from rdflib) (2.4.7)\n"
     ]
    }
   ],
   "source": [
    "\n",
    "!pip install rdflib\n",
    "# See https://rdflib.readthedocs.io/en/stable/gettingstarted.html\n",
    "from rdflib import Graph, Namespace, BNode, Literal, RDF, FOAF, URIRef\n",
    "from networkx import nx"
   ]
  },
  {
   "cell_type": "markdown",
   "metadata": {
    "id": "EOduUWdJAWeg"
   },
   "source": [
    "# Tutorial: NetworkX & RDF database\n",
    "\n",
    "In deze tutorial gaan we een NetworkX Graph (inclusief node-attributes) omzetten naar een RDFLib database. Daarna gaan we met deze RDF databases meerdere SPARQL queries schrijven om relaties op te halen zoals vaders, moeders, broers of zussen. Als laatste laten we zien hoe je dit proces weer kunt omdraaien, door een lijst van triples (RDF Database) weer een NetworkX Graph te maken. \n",
    "\n",
    "### Stap 0. NetworkX netwerk definiëren & visualiseren\n",
    "### Stap 1. RDF Netwerk maken\n",
    "- 1.1 RDF Namespaces & Graph maken \n",
    "- 1.2 Nodes (attributes) toevoegen\n",
    "- 1.3 Edges (relaties) toevoegen\n",
    "\n",
    "### Stap 2. SPARQL Queries voor gedefineerde relaties\n",
    "- 2.1 Ouders: Vaders & Moeders\n",
    "- 2.2 Broers & Zussen\n",
    "- 2.3 Opa's & Oma's\n",
    "- 2.4 Ooms & Tantes\n",
    "- 2.5 Neven & Nichten\n",
    "\n",
    "### Stap 3. Van RDFLib Triples naar NetworkX \n",
    "<hr>\n",
    "<br>"
   ]
  },
  {
   "cell_type": "markdown",
   "metadata": {
    "id": "PQUWAPGRAWem"
   },
   "source": [
    "## Stap 0. NetworkX netwerk definiëren & visualiseren\n",
    "<hr>\n",
    "We beginnen met het definiëren van een NetworkX DiGraph met daarin 19 nodes. Iedere node in dit netwerk is een persoon uit de familie van 19 personen. Deze nodes (personen) zijn aan elkaar verbonden door middel van edges tussen de generaties. Iedere ouder heeft dus een link met zijn kind, ookwel 'Ouder van' relaties.\n",
    "\n",
    "Daarna krijgt iedere node (persoon) een geslacht toegewezen (M/V) als node attribute. "
   ]
  },
  {
   "cell_type": "code",
   "execution_count": 46,
   "metadata": {
    "id": "50qa9e05AWep"
   },
   "outputs": [],
   "source": [
    "G = nx.DiGraph()\n",
    "\n",
    "# Voeg alle 'ouder van' relaties toe aan G\n",
    "G.add_edges_from([\n",
    "(\"Maurice\", \"Joris\"), (\"Maurice\", \"Jeroen\"),\n",
    "(\"Francoise\", \"Joris\"), (\"Francoise\", \"Jeroen\"),\n",
    "(\"Jolanda\", \"Mauro\"),\n",
    "(\"Chantal\", \"Bas\"), (\"Chantal\", \"Vivian\"),\n",
    "(\"Imke\", \"Job\"), (\"Imke\", \"Luna\"),\n",
    "(\"Edgar\", \"Mauro\"),\n",
    "(\"Tom\", \"Bas\"), (\"Tom\", \"Vivian\"),\n",
    "(\"Jean-Paul\", \"Job\"), (\"Jean-Paul\", \"Luna\"),\n",
    "(\"Jose\", \"Francoise\"), (\"Jose\", \"Jolanda\"), (\"Jose\", \"Chantal\"),\n",
    "(\"Jan\", \"Francoise\"), (\"Jan\", \"Jolanda\"), (\"Jan\", \"Chantal\"),\n",
    "(\"Sef\", \"Maurice\"), (\"Sef\", \"Jean-Paul\"),\n",
    "(\"Helene\", \"Maurice\"), (\"Helene\", \"Jean-Paul\")])\n",
    "\n",
    "# Voeg geslacht toe als Node Attributes\n",
    "M= {\"Joris\", \"Jeroen\", \"Mauro\", \"Bas\", \"Job\", \"Maurice\", \"Edgar\", \"Tom\", 'Jean-Paul', \"Jan\", \"Sef\"}\n",
    "for n in M:\n",
    "    G.nodes[n]['M']=True\n",
    "    G.nodes[n]['V']=False\n",
    "    \n",
    "V= {x for x in G.nodes() if x not in M}  \n",
    "for n in V:\n",
    "    G.nodes[n]['V']=True\n",
    "    G.nodes[n]['M']=False \n"
   ]
  },
  {
   "cell_type": "markdown",
   "metadata": {
    "id": "XpGA-3bNAWet"
   },
   "source": [
    "#### Uiteindelijk is dit het NetworkX netwerk dat we gaan omzetten naar een RDFLib Database\n",
    "Hierin zie je dus bijvoorbeeld dat 8 en 9 een ouder zijn van 1 en 2. Dus kun je ook concluderen dan 1 en 2 broertjes zijn, enz.\n",
    "<hr>\n",
    "\n",
    "![NetworkX G](https://i.ibb.co/gvYpLGB/NetworkX.png)\n"
   ]
  },
  {
   "cell_type": "markdown",
   "metadata": {
    "id": "pXz8CuDPAWew"
   },
   "source": [
    "## Stap 1. RDF Netwerk maken\n",
    "<hr>\n",
    "\n",
    "Het maken van een RDF Netwerk vereist meerdere stappen. We lopen dit proces per stap met je door, en geven uitleg bij iedere cell. Uiteindelijk leiden al deze cellen tot een functie genaamd `networkx2RDF` die een NetworkX netwerk omzet naar een RDF database.\n",
    "\n",
    "<br>\n",
    "\n",
    "### Stap 1.1 RDF Namespaces & Graph maken"
   ]
  },
  {
   "cell_type": "markdown",
   "metadata": {
    "id": "uckyOIT5AWey"
   },
   "source": [
    "1. Door `RDF_Network = Graph()` te gebruiken maak je een leeg RDF-netwerk genaamd `RDF_Network`. \n",
    "2. Om de triples die in deze database komen te kunnen groeperen moeten we een _namespace_ aanmaken. Dat doe je door `N = Namespace(\"N\")`. Hiermee maak je een _namespace_ genaamd `N`. \n",
    "3. In dit geval hebben we een netwerk `G` met nodes & edges. De nodes kunnen attributes hebben, dus maken we een _namespace_ variabele genaamd `NodeAttribute`. De edges dienen als relatie, dus maken we een _namespace_ variabele genaamd `Relation`. Dit doe je door `N.Relation` & `N.NodeAttribute`. \n",
    "4. Verder kun je deze namespaces nog een _prefix_ geven zodat je ze later makkelijker kunt aanroepen in SPARQL Queries. \n",
    "\n",
    "Hieronder in de cell zie alle onderdelen uit deze stap opgesomd staan. "
   ]
  },
  {
   "cell_type": "code",
   "execution_count": 47,
   "metadata": {
    "id": "kawPNlcJAWez"
   },
   "outputs": [],
   "source": [
    "# Stap 1\n",
    "RDF_Network = Graph()\n",
    "\n",
    "# Stap 2\n",
    "N = Namespace(\"N\")\n",
    "\n",
    "# Stap 3\n",
    "N.Relation\n",
    "N.NodeAttribute\n",
    "\n",
    "# Stap 4\n",
    "RDF_Network.bind(\"foaf\", FOAF)\n",
    "RDF_Network.bind(\"N\", N)"
   ]
  },
  {
   "cell_type": "markdown",
   "metadata": {
    "id": "k4GOdRJNAWe2"
   },
   "source": [
    "### Stap 1.2 Nodes (attributes) toevoegen\n",
    "\n",
    "1. Allereerst maak je een lijst van de Nodes die in het NetworkX netwerk `G` zitten. Dat doe je door `node_list = list(G.nodes())`. Voor de Edges doen we precies hetzelfde, zodat we deze lijst kunnen gebruiken voor de relaties tussen deze nodes. <br>\n",
    "\n",
    "2. Vervolgens nemen we de eerst node uit de lijst van nodes `node_list[0]`. Deze hebben we nodig omdat we met deze node in de `G.nodes` functie de node met alle benodigde data kunnen krijgen. Dit slaan we dan ook op in een andere var `possibleAtr = G.nodes[node_list[0]]` Deze var is nu een dict met daarin als keys de mogelijke attributen zoals M of V.\n",
    "\n",
    "3. Als laatste maken we een lijst met alle mogelijke keys uit onze dict van stap 2 om ze alle mogelijke attributen te hebben\n"
   ]
  },
  {
   "cell_type": "code",
   "execution_count": 48,
   "metadata": {
    "id": "VQEjB_S5AWe5"
   },
   "outputs": [],
   "source": [
    "# Stap 1 - Voorbereiding\n",
    "node_list = list(G.nodes())\n",
    "edge_list = list(G.edges())\n",
    "\n",
    "# Stap 2 & 3\n",
    "possibleAtr = G.nodes[node_list[0]]\n",
    "All_Atr = list(possibleAtr.keys())\n"
   ]
  },
  {
   "cell_type": "markdown",
   "metadata": {
    "id": "XS-4ahXuAWe8"
   },
   "source": [
    "4. Voor iedere node in het netwerk `G` maak je een URIRef aan, zodat iedere node een eigen resource in de RDF Database wordt. Wij hebben dit gedaan door `URIRef(f\"http://KD_Week5_Groep8.com/{n}\")`, waarbij `n` de node in het netwerk `G` is.\n",
    "\n",
    "5. Door middel van `RDF_Network.add(sub, pre, obj)` kunnen er triples worden toegevoegd aan onze lege RDF Database. Alle nodes *(sub)* worden gekoppeld aan een `RDF.type` *(pre)*, namelijk `FOAF.Person` *(obj)*. Daarna krijgt iedere node ook een label met zijn eigen naam door middel van `FOAF.name` als predicate en `Literal(n)` als object.\n",
    "\n",
    "6. We loopen door de lijst van alle mogelijke attributen  `All_Atr` die we bij stap 3 hebben gemaakt, dit doen we voor elke node. Hieruit gebruiken we de `G.nodes[n][pos_atr]` om te kijken als een node `n` de mogelijke attribute `pos_atr` heeft. Dit doen we door de waarde te vergelijken met `True` `G.nodes[n][pos_atr] == True`. Als het blijkt dat deze node dan dus dit attribute heeft slaan we dat op in de RDF_Network. "
   ]
  },
  {
   "cell_type": "code",
   "execution_count": 49,
   "metadata": {
    "id": "djL2yHkdAWfA"
   },
   "outputs": [],
   "source": [
    "# Stap 4 & 5 - Voeg Nodes van G toe als triples aan het RDF_Network\n",
    "for n in node_list:\n",
    "    node = URIRef(f\"http://KD_Week5_Groep8.com/{n}\")\n",
    "    RDF_Network.add((node, RDF.type, FOAF.Person))\n",
    "    RDF_Network.add((node, FOAF.name, Literal(n)))\n",
    "    \n",
    "    # Stap 6 - Voeg de Node Attributes van G toe aan het RDF_Network\n",
    "    for pos_atr in All_Atr:\n",
    "        if G.nodes[n][pos_atr] == True:\n",
    "            attribute = Literal(pos_atr)\n",
    "            RDF_Network.add((node, N.NodeAttribute, attribute))"
   ]
  },
  {
   "cell_type": "markdown",
   "metadata": {
    "id": "QxiwUc4MAWfC"
   },
   "source": [
    "\n",
    "5. Om de juiste relaties te kunnen leggen moeten we een dict maken met daarin het resource label (Literal) als de _key_ en de resource URI als _value_. De _key_ is namelijk hetzelfde als de originele naam uit de NetworkX Graph.Dit ziet er uiteindelijk zo uit: `{Literal(n): URIRef(n), ...}`. Hierdoor kunnen we de juiste resources vinden bij het leggen van de relaties. \n",
    "\n",
    "\n",
    "6. Als laatste gaan we de relaties toevoegen. Dit doen we door middel van de edges uit `G` en de resources die we al gemaakt hebben in RDFLib. Onze `edge_list` bestaat uit tuples `[(a, b), ...]`. Via de `N.Relation` predicate voegen we deze toe aan de RDF database. <br>\n",
    "Voorbeeld: _a heeft een relatie met b_. In ons netwerk staat de relatie voor _ouder van_. a is dus een ouder van b."
   ]
  },
  {
   "cell_type": "code",
   "execution_count": 50,
   "metadata": {
    "id": "KzMqhRleAWfD"
   },
   "outputs": [],
   "source": [
    "# Stap 5 - Dict maken voor het indexeren van de juiste resources\n",
    "node_id = dict()\n",
    "for person in RDF_Network.subjects(RDF.type, FOAF.Person):\n",
    "    for name in RDF_Network.objects(person, FOAF.name):\n",
    "        node_id[name] = person \n",
    "\n",
    "# Stap 6 - Voeg de relaties toe aan het RDF_Network door middel van de edges uit G\n",
    "for e in edge_list:\n",
    "    source = Literal(e[0])\n",
    "    target = Literal(e[1])\n",
    "    RDF_Network.add((node_id[source], N.Relation, node_id[target]))   "
   ]
  },
  {
   "cell_type": "markdown",
   "metadata": {
    "id": "6y8srzpkAWfE"
   },
   "source": [
    "## De uiteindelijke functie `networkx2RDF`\n",
    "<hr>\n",
    "\n",
    "Hieronder staat de functie die je uiteindelijk kunt maken op basis van bovenstaande stappen. De input is `G`, een NetworkX DiGraph met eventuele node-attributes. De output is een RDF Database op basis van triples. "
   ]
  },
  {
   "cell_type": "code",
   "execution_count": 51,
   "metadata": {
    "id": "7eWzQdWKAWfF"
   },
   "outputs": [],
   "source": [
    "# Vraag 1 - Functie\n",
    "def networkx2RDF(G):\n",
    "    RDF_Network = Graph()\n",
    "    N = Namespace(\"N\")\n",
    "    N.Relation\n",
    "    N.NodeAttribute\n",
    "\n",
    "    RDF_Network.bind(\"foaf\", FOAF)\n",
    "    RDF_Network.bind(\"N\", N)\n",
    "    \n",
    "    node_list = list(G.nodes())\n",
    "    edge_list = list(G.edges())\n",
    "    \n",
    "    possibleAtr = G.nodes[node_list[0]]\n",
    "    All_Atr = list(possibleAtr.keys())\n",
    "    \n",
    "    for n in node_list:\n",
    "        node = URIRef(f\"http://KD_Week5_Groep8.com/{n}\")\n",
    "        RDF_Network.add((node, RDF.type, FOAF.Person))\n",
    "        RDF_Network.add((node, FOAF.name, Literal(n)))\n",
    "        for pos_atr in All_Atr:\n",
    "            if G.nodes[n][pos_atr] == True:\n",
    "                attribute = Literal(pos_atr)\n",
    "                RDF_Network.add((node, N.NodeAttribute, attribute))\n",
    "    \n",
    "    node_id = dict()\n",
    "    for person in RDF_Network.subjects(RDF.type, FOAF.Person):\n",
    "        for name in RDF_Network.objects(person, FOAF.name):\n",
    "            node_id[name] = person ## Werkt alleen op INT\n",
    "\n",
    "    for e in edge_list:\n",
    "        source = Literal(e[0])\n",
    "        target = Literal(e[1])\n",
    "        RDF_Network.add((node_id[source], N.Relation, node_id[target]))   \n",
    "    \n",
    "    return RDF_Network\n",
    "\n",
    "# print(networkx2RDF(G).serialize(format='n3').decode(\"utf-8\"))"
   ]
  },
  {
   "cell_type": "code",
   "execution_count": 52,
   "metadata": {
    "id": "wgqyTLo7AWfG"
   },
   "outputs": [],
   "source": [
    "H = networkx2RDF(G)"
   ]
  },
  {
   "cell_type": "markdown",
   "metadata": {
    "id": "1sYyJ2p3AWfI"
   },
   "source": [
    "## Stap 2. SPARQL Queries voor gedefineerde relaties\n",
    "\n",
    "<hr>\n",
    "\n",
    "### 2.0 Algemeen\n",
    "\n",
    "\n",
    "Voor de Queries gebruiken we de zelfde notatie en syntax die je gebruikt voor SPARQL. \n",
    "Een query begint met de notatie `H.query()`\n",
    "Tussen de haakjes schrijf je de query op, deze heeft de vorm:\n",
    "\n",
    "    \"\"\"\n",
    "    SELECT DISTINCT wat je wilt selecteren\n",
    "       WHERE {\n",
    "              de 'vraag' die je stelt aan je RDF graaf\n",
    "             }\n",
    "    \"\"\"\n",
    "\n",
    "- De syntax voor de vragen die je stelt aan de query is: `?node predicaat ?node .`\n",
    "- In dit geval willen we iedere keer de naam van node `a` en node `b` weten. \n",
    "\n",
    "- We gebruiken het `DISTINCT` argument omdat we geen dubbele ouput willen hebben.\n",
    "\n",
    "- Bij een aantal queries gebruiken we het argument `FILTER` om te zorgen dat de twee nodes niet hetzelfde zijn. Ook gebruiken we soms een `NOT EXISTS` bepaalde nodes uit te sluiten. \n",
    "\n",
    " \n",
    "\n",
    "### 2.1 Ouders: Vaders & Moeders\n",
    "\n",
    "\n",
    "1. **Predicate logische formules voor Vaders en Moeders opschrijven en analyseren**\n",
    "\n",
    "- **Vader: $∀ab(Vader(a,b)↔𝑅(a,b)∧𝑀(a))$**\n",
    "    \n",
    "    Vaders, iemand is een vader als die persoon een man is en een kind heeft. \n",
    "    In het geval van onze RDF graaf betekent een kind hebben dat er een `N:Relation` is tussen de twee nodes waarbij de eerste de \"vader\" is en de tweede het \"kind\".\n",
    "\n",
    "\n",
    "- **Moeder: $∀ab(Moeder(a,b)↔𝑅(a,b)∧V(a))$**\n",
    "\n",
    "    Moeders, iemand is een moeder als die persoon een vrouw is en een kind heeft. \n",
    "    In het geval van onze RDF graaf betekent een kind hebben dat er een `N:Relation` is tussen de twee nodes waarbij de eerste de \"moeder\" is en de tweede het \"kind\".\n",
    "\n",
    "\n",
    "2. **Logica uit de predicate zinnen toepassen op onze RDF graaf**\n",
    "    In het geval van een vader of moeder begin je met zoeken naar alle nodes waar een relatie (`N:Relation`) tussen is. \n"
   ]
  },
  {
   "cell_type": "code",
   "execution_count": 53,
   "metadata": {
    "colab": {
     "base_uri": "https://localhost:8080/"
    },
    "id": "OxHF7uTEAWfM",
    "outputId": "4c25759a-3a6d-4fe4-d903-8373d94136de"
   },
   "outputs": [
    {
     "name": "stdout",
     "output_type": "stream",
     "text": [
      "Jean-Paul is vader van Job\n",
      "Jean-Paul is vader van Luna\n",
      "Edgar is vader van Mauro\n",
      "Jan is vader van Jolanda\n",
      "Jan is vader van Francoise\n",
      "Jan is vader van Chantal\n",
      "Sef is vader van Maurice\n",
      "Sef is vader van Jean-Paul\n",
      "Tom is vader van Bas\n",
      "Tom is vader van Vivian\n",
      "Maurice is vader van Jeroen\n",
      "Maurice is vader van Joris\n",
      "Helene is moeder van Maurice\n",
      "Helene is moeder van Jean-Paul\n",
      "Chantal is moeder van Bas\n",
      "Chantal is moeder van Vivian\n",
      "Francoise is moeder van Joris\n",
      "Francoise is moeder van Jeroen\n",
      "Jolanda is moeder van Mauro\n",
      "Imke is moeder van Job\n",
      "Imke is moeder van Luna\n",
      "Jose is moeder van Francoise\n",
      "Jose is moeder van Jolanda\n",
      "Jose is moeder van Chantal\n"
     ]
    }
   ],
   "source": [
    "vaders = H.query(\n",
    "    \"\"\"SELECT DISTINCT ?aname ?bname\n",
    "       WHERE {\n",
    "          ?a N:Relation ?b .\n",
    "          ?a foaf:name ?aname .\n",
    "          ?b foaf:name ?bname .\n",
    "          ?a N:NodeAttribute 'M' .\n",
    "       }\"\"\")\n",
    "\n",
    "moeders = H.query(\n",
    "    \"\"\"SELECT DISTINCT ?aname ?bname\n",
    "       WHERE {\n",
    "          ?a N:Relation ?b .\n",
    "          ?a foaf:name ?aname .\n",
    "          ?b foaf:name ?bname .\n",
    "          ?a N:NodeAttribute 'V' .\n",
    "       }\"\"\")\n",
    "\n",
    "# TEST\n",
    "for row in vaders:\n",
    "    print(\"%s is vader van %s\" % row)\n",
    "for row in moeders:\n",
    "    print(\"%s is moeder van %s\" % row)"
   ]
  },
  {
   "cell_type": "markdown",
   "metadata": {
    "id": "b7iuut-IAWfO"
   },
   "source": [
    "### 2.2 Broers en zussen\n",
    "1. **Predicate logische formules voor broers en zussen opschrijven en analyseren**\n",
    "\n",
    "- **Broer: $∀ab(Broer(a,b)↔ ∃c𝑅(c,a) ∧ R(c,b) ∧ 𝑀(a))$**\n",
    "    \n",
    "    Broers, iemand is een broer van iemand als ze een man zijn en een gemenschappelijke ouder hebben.\n",
    "    In het geval van onze RDF graaf betekent een gemeenschappelijke ouder hebben dat er een `N:Relation` is tussen een node c en a en een relatie tussen die zelfde node c en b.\n",
    "\n",
    "\n",
    "- **Zus: $∀ab(Zus(a,b)↔ ∃c𝑅(c,a) ∧ R(c,b) ∧ V(a))$**\n",
    "\n",
    "    Zussen, iemand is een zus van iemand als ze een vrouw zijn en een gemenschappelijke ouder hebben.\n",
    "    In het geval van onze RDF graaf betekent een gemeenschappelijke ouder hebben dat er een `N:Relation` is tussen een node c en a en een relatie tussen die zelfde node c en b.\n",
    "\n",
    "\n",
    "2. **Logica uit de predicate zinnen toepassen op onze RDF graaf**\n",
    "\n",
    "    We gebruiken een `FILTER` om te zorgen dat twee nodes niet hetzelfde zijn. In het geval van een broer of zus ben je opzoek naar alle nodes die een gemeenschappelijke ouder node hebben. Vervolgens wil je hun namen weten en als laatste wil je weten of de eerste node een man is of vrouw.\n",
    "\n",
    "\n",
    " "
   ]
  },
  {
   "cell_type": "code",
   "execution_count": 54,
   "metadata": {
    "colab": {
     "base_uri": "https://localhost:8080/"
    },
    "id": "uuRHSD8vAWfP",
    "outputId": "31ae6fe4-59f6-484f-afe2-2eb092913875"
   },
   "outputs": [
    {
     "name": "stdout",
     "output_type": "stream",
     "text": [
      "Jeroen is broer van Joris\n",
      "Job is broer van Luna\n",
      "Joris is broer van Jeroen\n",
      "Jean-Paul is broer van Maurice\n",
      "Bas is broer van Vivian\n",
      "Maurice is broer van Jean-Paul\n",
      "Chantal is zus van Jolanda\n",
      "Chantal is zus van Francoise\n",
      "Vivian is zus van Bas\n",
      "Luna is zus van Job\n",
      "Francoise is zus van Jolanda\n",
      "Francoise is zus van Chantal\n",
      "Jolanda is zus van Francoise\n",
      "Jolanda is zus van Chantal\n"
     ]
    }
   ],
   "source": [
    "broers = H.query(\n",
    "    \"\"\"SELECT DISTINCT ?aname ?bname\n",
    "       WHERE {\n",
    "          ?c N:Relation ?b .\n",
    "          ?c N:Relation ?a .\n",
    "          ?b foaf:name ?bname .\n",
    "          ?a foaf:name ?aname .\n",
    "          ?a N:NodeAttribute 'M' .\n",
    "          FILTER ( ?aname != ?bname ) \n",
    "       }\"\"\")\n",
    "\n",
    "zussen = H.query(\n",
    "    \"\"\"SELECT DISTINCT ?aname ?bname\n",
    "       WHERE {\n",
    "          ?c N:Relation ?b .\n",
    "          ?c N:Relation ?a .\n",
    "          ?b foaf:name ?bname .\n",
    "          ?a foaf:name ?aname .\n",
    "          ?a N:NodeAttribute 'V' .\n",
    "          FILTER ( ?aname != ?bname ) \n",
    "       }\"\"\")\n",
    "\n",
    "# TEST\n",
    "for row in broers:\n",
    "    print(\"%s is broer van %s\" % row)\n",
    "for row in zussen:\n",
    "    print(\"%s is zus van %s\" % row)"
   ]
  },
  {
   "cell_type": "markdown",
   "metadata": {
    "id": "WQS-c4TvAWfQ"
   },
   "source": [
    "### 2.3 Opa's en Oma's\n",
    "1. **Predicate logische formules voor opa's en oma's opschrijven en analyseren**\n",
    "\n",
    "- **Opa: $∀ab(Opa(a,b)↔ ∃c𝑅(a,c) ∧ R(c,b) ∧ 𝑀(a))$**\n",
    "    \n",
    "    Opas, iemand is een Opa van iemand als ze een man zijn en een ouders zijn van één van de ouders van de ander. In het geval van onze RDF graaf betekent een ouder zijn dat er een `N:Relation` is tussen twee nodes.\n",
    "    \n",
    "\n",
    "- **Oma: $∀ab(Oma(a,b)↔ ∃c𝑅(a,c) ∧ R(c,b) ∧ V(a))$**\n",
    "\n",
    "    Omas, iemand is een Oma van iemand als ze een vrouw zijn en een ouders zijn van één van de ouders van de ander. In het geval van onze RDF graaf betekent een ouder zijn dat er een `N:Relation` is tussen twee nodes.\n",
    "\n",
    "\n",
    "2. **Logica uit de predicate zinnen toepassen op onze RDF graaf**\n",
    "    \n",
    "    In het geval van een opa of oma ben je opzoek naar alle nodes die ouders zijn van de ouders van de tweede node (`b`). Vervolgens wil je hun namen weten en als laatste wil je weten of de eerste node een man is of vrouw.\n",
    "\n",
    "\n",
    " "
   ]
  },
  {
   "cell_type": "code",
   "execution_count": 55,
   "metadata": {
    "colab": {
     "base_uri": "https://localhost:8080/"
    },
    "id": "ZHTnBsf7AWfR",
    "outputId": "4d3c37c1-e7c0-44dd-b5dc-4fb02136c41f"
   },
   "outputs": [
    {
     "name": "stdout",
     "output_type": "stream",
     "text": [
      "Jan is opa van Mauro\n",
      "Jan is opa van Joris\n",
      "Jan is opa van Jeroen\n",
      "Jan is opa van Bas\n",
      "Jan is opa van Vivian\n",
      "Sef is opa van Jeroen\n",
      "Sef is opa van Joris\n",
      "Sef is opa van Job\n",
      "Sef is opa van Luna\n",
      "Helene is oma van Jeroen\n",
      "Helene is oma van Joris\n",
      "Helene is oma van Job\n",
      "Helene is oma van Luna\n",
      "Jose is oma van Joris\n",
      "Jose is oma van Jeroen\n",
      "Jose is oma van Mauro\n",
      "Jose is oma van Bas\n",
      "Jose is oma van Vivian\n"
     ]
    }
   ],
   "source": [
    "opas = H.query(\n",
    "    \"\"\"SELECT DISTINCT ?aname ?bname\n",
    "       WHERE {\n",
    "          ?a N:Relation ?c .\n",
    "          ?a N:NodeAttribute 'M' .\n",
    "          ?c N:Relation ?b .\n",
    "          ?a foaf:name ?aname .\n",
    "          ?b foaf:name ?bname .\n",
    "          FILTER ( ?aname != ?bname ) \n",
    "       }\"\"\")\n",
    "\n",
    "omas = H.query(\n",
    "    \"\"\"SELECT DISTINCT ?aname ?bname\n",
    "       WHERE {\n",
    "          ?a N:Relation ?c .\n",
    "          ?a N:NodeAttribute 'V' .\n",
    "          ?c N:Relation ?b .\n",
    "          ?a foaf:name ?aname .\n",
    "          ?b foaf:name ?bname .\n",
    "          FILTER ( ?aname != ?bname ) \n",
    "       }\"\"\")\n",
    "\n",
    "# TEST\n",
    "for row in opas:\n",
    "    print(\"%s is opa van %s\" % row)\n",
    "for row in omas:\n",
    "    print(\"%s is oma van %s\" % row)"
   ]
  },
  {
   "cell_type": "markdown",
   "metadata": {
    "id": "9z-McqdBAWfS"
   },
   "source": [
    "### 2.4 Ooms en Tantes\n",
    "1. **Predicate logische formules voor ooms en tantes opschrijven en analyseren**\n",
    "\n",
    "- **Oom: $∀ab(Oom(a,b)↔ ∃cd(𝑅(d,c) ∧ R(c,b) ∧ R(d,a) ∧ 𝑀(a)))$**\n",
    "    \n",
    "    Oom, iemand is een oom van iemand als ze een man zijn en hun opa of oma ook de opa of oma is van één van de ouders van de ander. Deze opas/omas vinden op de zelfde manier als bij de queries voor opas/omas. \n",
    "\n",
    "\n",
    "- **Tante: $∀ab(Tante(a,b)↔ ∃cd(𝑅(d,c) ∧ R(c,b) ∧ R(d,a) ∧ V(a)))$**\n",
    "\n",
    "    Tante, iemand is een tante van iemand als ze een vrouw zijn en hun opa of oma ook de opa of oma is van één van de ouders van de ander. Deze opas/omas vinden op de zelfde manier als bij de queries voor opas/omas. \n",
    "\n",
    "\n",
    "2. **Logica uit de predicate zinnen toepassen op onze RDF graaf**\n",
    "    \n",
    "   In het geval van een oom of tante ben je opzoek naar alle nodes die dezelfe opa/oma hebben als elkaar. Ook hier gebruiken we weer een `FILTER` en we gebruiken een `NOT EXISTS` om checken dat er niet ook een ouder relatie is tussen de twee nodes waar dit niet hoort. \n"
   ]
  },
  {
   "cell_type": "code",
   "execution_count": 56,
   "metadata": {
    "colab": {
     "base_uri": "https://localhost:8080/"
    },
    "id": "QEgtzfx1AWfT",
    "outputId": "65ec2314-601e-4897-e552-820e031b2ba0"
   },
   "outputs": [
    {
     "name": "stdout",
     "output_type": "stream",
     "text": [
      "Jean-Paul is oom van Jeroen\n",
      "Jean-Paul is oom van Joris\n",
      "Maurice is oom van Job\n",
      "Maurice is oom van Luna\n",
      "Chantal is tante van Mauro\n",
      "Chantal is tante van Joris\n",
      "Chantal is tante van Jeroen\n",
      "Francoise is tante van Mauro\n",
      "Francoise is tante van Bas\n",
      "Francoise is tante van Vivian\n",
      "Jolanda is tante van Joris\n",
      "Jolanda is tante van Jeroen\n",
      "Jolanda is tante van Bas\n",
      "Jolanda is tante van Vivian\n"
     ]
    }
   ],
   "source": [
    "ooms = H.query(\n",
    "    \"\"\"SELECT DISTINCT ?aname ?bname\n",
    "       WHERE {\n",
    "          ?a N:NodeAttribute 'M' .\n",
    "          ?d N:Relation ?c .\n",
    "          ?c N:Relation ?b .\n",
    "          ?d N:Relation ?a .\n",
    "          ?a foaf:name ?aname .\n",
    "          ?b foaf:name ?bname .\n",
    "          FILTER (?aname != ?bname &&         \n",
    "          NOT EXISTS {?a N:Relation ?b}) \n",
    "       }\"\"\")\n",
    "\n",
    "tantes = H.query(\n",
    "    \"\"\"SELECT DISTINCT ?aname ?bname\n",
    "       WHERE {\n",
    "          ?a N:NodeAttribute 'V' .\n",
    "          ?d N:Relation ?c .\n",
    "          ?c N:Relation ?b .\n",
    "          ?d N:Relation ?a .\n",
    "          ?a foaf:name ?aname .\n",
    "          ?b foaf:name ?bname .\n",
    "          FILTER (?aname != ?bname &&         \n",
    "          NOT EXISTS {?a N:Relation ?b}) \n",
    "       }\"\"\")\n",
    "\n",
    "# TEST\n",
    "for row in ooms:\n",
    "    print(\"%s is oom van %s\" % row)\n",
    "for row in tantes:\n",
    "    print(\"%s is tante van %s\" % row)"
   ]
  },
  {
   "cell_type": "markdown",
   "metadata": {
    "id": "5tk-AqRsAWfV"
   },
   "source": [
    "### 2.5 Neven en Nichten\n",
    "1. **Predicate logische formules voor neven en nichten opschrijven en analyseren**\n",
    "\n",
    "- **Neef: $∀ab(Neef(a,b)↔ ∃cde(𝑅(d,c) ∧ R(c,b) ∧ R(e,a)  ∧ R(d,e) ∧ 𝑀(a)))$**\n",
    "    \n",
    "    - iemand is een neef van iemand als ze een man zijn en hun opa of oma ook de opa of oma is van de andere. Deze opas/omas vinden op de zelfde manier als bij de queries voor opa's/oma's.\n",
    "\n",
    "\n",
    "- **Nicht: $∀ab(Nicht(a,b)↔ ∃cde(𝑅(d,c) ∧ R(c,b) ∧ R(e,a)  ∧ R(d,e) ∧ V(a)))$**\n",
    "\n",
    "   - iemand is een nicht van iemand als ze een man zijn en hun opa of oma ook de opa of oma is van de andere. Deze opas/omas vinden op de zelfde manier als bij de queries voor opa's/oma's.\n",
    "\n",
    "\n",
    "2. **Logica uit de predicate zinnen toepassen op onze RDF graaf**\n",
    "    \n",
    "   In het geval van een neef of nicht ben je opzoek naar alle nodes die dezelfe opa/oma hebben. Ook hier gebruiken we weer een `FILTER` en `NOT EXISTS`. \n",
    "\n",
    "\n",
    "\n",
    " "
   ]
  },
  {
   "cell_type": "code",
   "execution_count": 57,
   "metadata": {
    "colab": {
     "base_uri": "https://localhost:8080/"
    },
    "id": "teoahT4yAWfW",
    "outputId": "051680a9-a55a-41b5-fd8c-0d239f9396e3"
   },
   "outputs": [
    {
     "name": "stdout",
     "output_type": "stream",
     "text": [
      "Jeroen is neef van Job\n",
      "Jeroen is neef van Luna\n",
      "Jeroen is neef van Mauro\n",
      "Jeroen is neef van Bas\n",
      "Jeroen is neef van Vivian\n",
      "Job is neef van Jeroen\n",
      "Job is neef van Joris\n",
      "Joris is neef van Mauro\n",
      "Joris is neef van Bas\n",
      "Joris is neef van Vivian\n",
      "Joris is neef van Job\n",
      "Joris is neef van Luna\n",
      "Bas is neef van Mauro\n",
      "Bas is neef van Joris\n",
      "Bas is neef van Jeroen\n",
      "Mauro is neef van Joris\n",
      "Mauro is neef van Jeroen\n",
      "Mauro is neef van Bas\n",
      "Mauro is neef van Vivian\n",
      "Vivian is nicht van Mauro\n",
      "Vivian is nicht van Joris\n",
      "Vivian is nicht van Jeroen\n",
      "Luna is nicht van Jeroen\n",
      "Luna is nicht van Joris\n"
     ]
    }
   ],
   "source": [
    "neven = H.query(\n",
    "    \"\"\"SELECT DISTINCT ?aname ?bname\n",
    "       WHERE {\n",
    "          ?a N:NodeAttribute 'M' .\n",
    "          ?d N:Relation ?c .\n",
    "          ?c N:Relation ?b .\n",
    "          ?e N:Relation ?a . \n",
    "          ?d N:Relation ?e .\n",
    "          ?a foaf:name ?aname .\n",
    "          ?b foaf:name ?bname .\n",
    "          FILTER (?aname != ?bname &&         \n",
    "          NOT EXISTS {?c N:Relation ?a . ?e N:Relation ?b .}) \n",
    "       }\"\"\")\n",
    "\n",
    "nichten = H.query(\n",
    "    \"\"\"SELECT DISTINCT ?aname ?bname\n",
    "       WHERE {\n",
    "          ?a N:NodeAttribute 'V' .\n",
    "          ?d N:Relation ?c .\n",
    "          ?c N:Relation ?b .\n",
    "          ?e N:Relation ?a . \n",
    "          ?d N:Relation ?e .\n",
    "          ?a foaf:name ?aname .\n",
    "          ?b foaf:name ?bname .\n",
    "          FILTER (?aname != ?bname &&         \n",
    "          NOT EXISTS {?c N:Relation ?a . ?e N:Relation ?b .}) \n",
    "       }\"\"\")\n",
    "\n",
    "\n",
    "# TEST\n",
    "for row in neven:\n",
    "    print(\"%s is neef van %s\" % row)\n",
    "for row in nichten:\n",
    "    print(\"%s is nicht van %s\" % row)"
   ]
  },
  {
   "cell_type": "markdown",
   "metadata": {
    "id": "KPMHivNSAWfa"
   },
   "source": [
    "## 3. Van RDFLib Triples naar NetworkX \n",
    "<hr>\n",
    "\n",
    "Voor het terugzetten van een Triple kan gaat het beste als je hierover itereert. Elke triple bestaat uit drie delen. Het eerste deel van de triple is de node die je gaat toevoegen. Deze nodes kan je aan het begin van de code meteen allemaal toevoegen. Het tweede deel van de triple bepaald wat er moet gaan gebeuren met de derde node. Binnen een netwerk zijn er twee opties."
   ]
  },
  {
   "cell_type": "markdown",
   "metadata": {
    "id": "OlRUROT0FMUz"
   },
   "source": [
    "De eerste optie is als de twee nodes een relatie met elkaar hebben. In dit geval bevat de tweede node \"N.Relation\". Als dit gebeurd, kan de deze twee nodes aan het netwerk toevoegen met een edge van node1 naar node2. De naam van de Node zit achteraan de URL, achter de laatste \"/'. Deze optie staat weergeven in de eerste if-statement."
   ]
  },
  {
   "cell_type": "markdown",
   "metadata": {
    "id": "-cyAwqwvFn0J"
   },
   "source": [
    "De tweede optie is als het derde deel een attribute is van de eerste node. In dit geval bevat de tweede node \"N.Attribute\". In dit geval moet je het derde deel als attribute toevoegen aan de node. Dit staat weergeven in de elif-statement."
   ]
  },
  {
   "cell_type": "markdown",
   "metadata": {
    "id": "7fzgc0E1toEZ"
   },
   "source": [
    "Nu hebben alle variabelen op de juiste plek een True waarde. Om het model weer hetzelfde te maken als in het begin, moeten ook alle variabelen een False waarde krijgen bij de attributen waar het niet waar is. Op het moment hebben deze nodes in dit geval dat attribut niet. Het laatste stukje code maakt een lijst van alle attributes, en geeft daarna alle nodes waarbij een attribute geen True is een False."
   ]
  },
  {
   "cell_type": "code",
   "execution_count": 72,
   "metadata": {
    "colab": {
     "base_uri": "https://localhost:8080/",
     "height": 248
    },
    "id": "np7JxOjgAWfd",
    "outputId": "775d7701-8165-411b-fa9a-dcfbb919f7e1"
   },
   "outputs": [
    {
     "data": {
      "image/png": "[encoded data removed]",
      "text/plain": [
       "<Figure size 432x288 with 1 Axes>"
      ]
     },
     "metadata": {
      "tags": []
     },
     "output_type": "display_data"
    }
   ],
   "source": [
    "## Vraag 3\n",
    "def rdf2nx(triples):   \n",
    "    g = nx.DiGraph()\n",
    "\n",
    "    for x in triples:\n",
    "      g.add_node(x[0].split(\"/\")[-1])\n",
    "\n",
    "      #Maakt van een Relation een edge in het netwerk\n",
    "      if x[1] == N.Relation:\n",
    "        g.add_edges_from([(x[0].split(\"/\")[-1]  ,x[2].split(\"/\")[-1] )] )\n",
    "\n",
    "      #Maakt van een NodeAttibute relatie een nx node attribute\n",
    "      elif x[1] == N.NodeAttribute:\n",
    "        g.nodes[(x[0].split(\"/\")[-1])][str(x[2])]=True\n",
    "\n",
    "    #berekent een lijst met alle attributes\n",
    "    possibleAtr = G.nodes[node_list[0]]\n",
    "    All_Atr = list(possibleAtr.keys())\n",
    "\n",
    "    #geeft alle nodes voor elke attibute een False waarde als het geen True is\n",
    "    for node in g.nodes():\n",
    "      for atr in All_Atr:\n",
    "        if atr not in g.nodes[node]:\n",
    "          g.nodes[node][atr] = False\n",
    "        \n",
    "    return(g)\n",
    "\n",
    "g = rdf2nx(H)\n",
    "nx.draw_networkx(g)"
   ]
  },
  {
   "cell_type": "markdown",
   "metadata": {
    "id": "aMqZqslmJTl1"
   },
   "source": [
    "Om te controlleren of alles correct is gegaan, kunnen we kijken of het netwerken na het transformeren van Networkx naar RDF, en weer terug van RDF naar Networkx nog hetzelfde is. Dit is het geval als alle relaties nog kloppen, en de netwerken dus isomorf zijn, en als de attributen kloppen. Voor ons familienetwerk staat hieronder een kleine test. Als alles klopt zal het 1, 2 en 3 uitprinten. Deze test alleen voor ons familienetwerk."
   ]
  },
  {
   "cell_type": "code",
   "execution_count": 73,
   "metadata": {
    "colab": {
     "base_uri": "https://localhost:8080/"
    },
    "id": "3bMrzwW3AWff",
    "outputId": "ab83702c-112f-49b1-fa02-4aaa1f52537b"
   },
   "outputs": [
    {
     "name": "stdout",
     "output_type": "stream",
     "text": [
      "1\n",
      "2\n",
      "3\n"
     ]
    }
   ],
   "source": [
    "import networkx.algorithms.isomorphism as iso\r\n",
    "if nx.is_isomorphic(g, G):\r\n",
    "  print(\"1\")\r\n",
    "\r\n",
    "if nx.get_node_attributes(g,'V') == nx.get_node_attributes(G,'V'):\r\n",
    "  print(\"2\")\r\n",
    "\r\n",
    "if nx.get_node_attributes(g,'M') == nx.get_node_attributes(G,'M'):\r\n",
    "  print(\"3\")"
   ]
  },
  {
   "cell_type": "code",
   "execution_count": null,
   "metadata": {
    "id": "20A-k_wXubgZ"
   },
   "outputs": [],
   "source": []
  }
 ],
 "metadata": {
  "celltoolbar": "Geen",
  "colab": {
   "name": "AssignmentWeek5",
   "provenance": []
  },
  "kernelspec": {
   "display_name": "Python 3",
   "language": "python",
   "name": "python3"
  },
  "language_info": {
   "codemirror_mode": {
    "name": "ipython",
    "version": 3
   },
   "file_extension": ".py",
   "mimetype": "text/x-python",
   "name": "python",
   "nbconvert_exporter": "python",
   "pygments_lexer": "ipython3",
   "version": "3.7.4"
  },
  "toc": {
   "nav_menu": {},
   "number_sections": true,
   "sideBar": true,
   "skip_h1_title": false,
   "title_cell": "Table of Contents",
   "title_sidebar": "Contents",
   "toc_cell": true,
   "toc_position": {},
   "toc_section_display": true,
   "toc_window_display": false
  }
 },
 "nbformat": 4,
 "nbformat_minor": 0
}
